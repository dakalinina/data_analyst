{
 "cells": [
  {
   "cell_type": "markdown",
   "metadata": {},
   "source": [
    "# Рынок заведений общественного питания Москвы"
   ]
  },
  {
   "cell_type": "markdown",
   "metadata": {},
   "source": [
    "Вы решили открыть небольшое кафе в Москве. Оно оригинальное — гостей должны обслуживать роботы. Проект многообещающий, но дорогой. Вместе с партнёрами вы решились обратиться к инвесторам. Их интересует текущее положение дел на рынке — сможете ли вы снискать популярность на долгое время, когда все зеваки насмотрятся на роботов-официантов?\n",
    "Вы — гуру аналитики, и партнёры просят вас подготовить исследование рынка. У вас есть открытые данные о заведениях общественного питания в Москве."
   ]
  },
  {
   "cell_type": "markdown",
   "metadata": {},
   "source": [
    "## Изучение данных из файла"
   ]
  },
  {
   "cell_type": "code",
   "execution_count": 1,
   "metadata": {},
   "outputs": [],
   "source": [
    "import pandas as pd\n",
    "import matplotlib.pyplot as plt\n",
    "import numpy as np\n",
    "import datetime as dt\n",
    "import seaborn as sns\n",
    "import math as mth\n",
    "from pandas.plotting import register_matplotlib_converters\n",
    "register_matplotlib_converters()\n",
    "import plotly.express as px "
   ]
  },
  {
   "cell_type": "code",
   "execution_count": 2,
   "metadata": {},
   "outputs": [
    {
     "data": {
      "text/html": [
       "<div>\n",
       "<style scoped>\n",
       "    .dataframe tbody tr th:only-of-type {\n",
       "        vertical-align: middle;\n",
       "    }\n",
       "\n",
       "    .dataframe tbody tr th {\n",
       "        vertical-align: top;\n",
       "    }\n",
       "\n",
       "    .dataframe thead th {\n",
       "        text-align: right;\n",
       "    }\n",
       "</style>\n",
       "<table border=\"1\" class=\"dataframe\">\n",
       "  <thead>\n",
       "    <tr style=\"text-align: right;\">\n",
       "      <th></th>\n",
       "      <th>id</th>\n",
       "      <th>object_name</th>\n",
       "      <th>chain</th>\n",
       "      <th>object_type</th>\n",
       "      <th>address</th>\n",
       "      <th>number</th>\n",
       "    </tr>\n",
       "  </thead>\n",
       "  <tbody>\n",
       "    <tr>\n",
       "      <th>0</th>\n",
       "      <td>151635</td>\n",
       "      <td>СМЕТАНА</td>\n",
       "      <td>нет</td>\n",
       "      <td>кафе</td>\n",
       "      <td>город Москва, улица Егора Абакумова, дом 9</td>\n",
       "      <td>48</td>\n",
       "    </tr>\n",
       "    <tr>\n",
       "      <th>1</th>\n",
       "      <td>77874</td>\n",
       "      <td>Родник</td>\n",
       "      <td>нет</td>\n",
       "      <td>кафе</td>\n",
       "      <td>город Москва, улица Талалихина, дом 2/1, корпус 1</td>\n",
       "      <td>35</td>\n",
       "    </tr>\n",
       "    <tr>\n",
       "      <th>2</th>\n",
       "      <td>24309</td>\n",
       "      <td>Кафе «Академия»</td>\n",
       "      <td>нет</td>\n",
       "      <td>кафе</td>\n",
       "      <td>город Москва, Абельмановская улица, дом 6</td>\n",
       "      <td>95</td>\n",
       "    </tr>\n",
       "    <tr>\n",
       "      <th>3</th>\n",
       "      <td>21894</td>\n",
       "      <td>ПИЦЦЕТОРИЯ</td>\n",
       "      <td>да</td>\n",
       "      <td>кафе</td>\n",
       "      <td>город Москва, Абрамцевская улица, дом 1</td>\n",
       "      <td>40</td>\n",
       "    </tr>\n",
       "    <tr>\n",
       "      <th>4</th>\n",
       "      <td>119365</td>\n",
       "      <td>Кафе «Вишневая метель»</td>\n",
       "      <td>нет</td>\n",
       "      <td>кафе</td>\n",
       "      <td>город Москва, Абрамцевская улица, дом 9, корпус 1</td>\n",
       "      <td>50</td>\n",
       "    </tr>\n",
       "  </tbody>\n",
       "</table>\n",
       "</div>"
      ],
      "text/plain": [
       "       id             object_name chain object_type  \\\n",
       "0  151635                 СМЕТАНА   нет        кафе   \n",
       "1   77874                  Родник   нет        кафе   \n",
       "2   24309         Кафе «Академия»   нет        кафе   \n",
       "3   21894              ПИЦЦЕТОРИЯ    да        кафе   \n",
       "4  119365  Кафе «Вишневая метель»   нет        кафе   \n",
       "\n",
       "                                             address  number  \n",
       "0         город Москва, улица Егора Абакумова, дом 9      48  \n",
       "1  город Москва, улица Талалихина, дом 2/1, корпус 1      35  \n",
       "2          город Москва, Абельмановская улица, дом 6      95  \n",
       "3            город Москва, Абрамцевская улица, дом 1      40  \n",
       "4  город Москва, Абрамцевская улица, дом 9, корпус 1      50  "
      ]
     },
     "metadata": {},
     "output_type": "display_data"
    }
   ],
   "source": [
    "data = pd.read_csv('/Users/dasakalinina/Desktop/Practicum/_all_projects/Rest/rest_data.csv')\n",
    "display(data.head())"
   ]
  },
  {
   "cell_type": "code",
   "execution_count": 3,
   "metadata": {},
   "outputs": [
    {
     "name": "stdout",
     "output_type": "stream",
     "text": [
      "<class 'pandas.core.frame.DataFrame'>\n",
      "RangeIndex: 15366 entries, 0 to 15365\n",
      "Data columns (total 6 columns):\n",
      " #   Column       Non-Null Count  Dtype \n",
      "---  ------       --------------  ----- \n",
      " 0   id           15366 non-null  int64 \n",
      " 1   object_name  15366 non-null  object\n",
      " 2   chain        15366 non-null  object\n",
      " 3   object_type  15366 non-null  object\n",
      " 4   address      15366 non-null  object\n",
      " 5   number       15366 non-null  int64 \n",
      "dtypes: int64(2), object(4)\n",
      "memory usage: 720.4+ KB\n"
     ]
    }
   ],
   "source": [
    "data.info()"
   ]
  },
  {
   "cell_type": "markdown",
   "metadata": {},
   "source": [
    "Таблица состоит из 6 колонок и 15366 строк.<br>\n",
    "<br>\n",
    "Есть данные разных типов:\n",
    "- id и number целочисленные,\n",
    "- object_name, object_type, chain, address - категориальные."
   ]
  },
  {
   "cell_type": "code",
   "execution_count": 4,
   "metadata": {},
   "outputs": [
    {
     "name": "stdout",
     "output_type": "stream",
     "text": [
      "Общее число дубликатов: 0\n",
      "Общее число пропущенных значений: id             0\n",
      "object_name    0\n",
      "chain          0\n",
      "object_type    0\n",
      "address        0\n",
      "number         0\n",
      "dtype: int64\n",
      "Значения в object_name: ['1-ЫЙ МОСКОВСКИЙ КАДЕТСКИЙ КОРПУС' '1-й МОК' '100 личная столовая' ...\n",
      " 'школа 775' 'школа 913' 'школа 919']\n",
      "Количество уникальных значений в object_name: 10393\n"
     ]
    }
   ],
   "source": [
    "#проверяю дубликаты\n",
    "print('Общее число дубликатов:', data.duplicated().sum())\n",
    "\n",
    "#проверяю пропуски\n",
    "print('Общее число пропущенных значений:', data.isna().sum())\n",
    "\n",
    "print('Значения в object_name:', data['object_name'].sort_values().unique())\n",
    "print('Количество уникальных значений в object_name:', data['object_name'].value_counts().count())"
   ]
  },
  {
   "cell_type": "markdown",
   "metadata": {},
   "source": [
    "Пропуски данных и явные дубликаты отсутствуют."
   ]
  },
  {
   "cell_type": "code",
   "execution_count": 5,
   "metadata": {
    "scrolled": true
   },
   "outputs": [
    {
     "name": "stdout",
     "output_type": "stream",
     "text": [
      "Общее число дубликатов: 0\n"
     ]
    },
    {
     "data": {
      "text/html": [
       "<div>\n",
       "<style scoped>\n",
       "    .dataframe tbody tr th:only-of-type {\n",
       "        vertical-align: middle;\n",
       "    }\n",
       "\n",
       "    .dataframe tbody tr th {\n",
       "        vertical-align: top;\n",
       "    }\n",
       "\n",
       "    .dataframe thead th {\n",
       "        text-align: right;\n",
       "    }\n",
       "</style>\n",
       "<table border=\"1\" class=\"dataframe\">\n",
       "  <thead>\n",
       "    <tr style=\"text-align: right;\">\n",
       "      <th></th>\n",
       "      <th>id</th>\n",
       "      <th>object_name</th>\n",
       "      <th>chain</th>\n",
       "      <th>object_type</th>\n",
       "      <th>address</th>\n",
       "      <th>number</th>\n",
       "    </tr>\n",
       "  </thead>\n",
       "  <tbody>\n",
       "    <tr>\n",
       "      <th>0</th>\n",
       "      <td>151635</td>\n",
       "      <td>сметана</td>\n",
       "      <td>нет</td>\n",
       "      <td>кафе</td>\n",
       "      <td>город Москва, улица Егора Абакумова, дом 9</td>\n",
       "      <td>48</td>\n",
       "    </tr>\n",
       "    <tr>\n",
       "      <th>1</th>\n",
       "      <td>77874</td>\n",
       "      <td>родник</td>\n",
       "      <td>нет</td>\n",
       "      <td>кафе</td>\n",
       "      <td>город Москва, улица Талалихина, дом 2/1, корпус 1</td>\n",
       "      <td>35</td>\n",
       "    </tr>\n",
       "    <tr>\n",
       "      <th>2</th>\n",
       "      <td>24309</td>\n",
       "      <td>кафе «академия»</td>\n",
       "      <td>нет</td>\n",
       "      <td>кафе</td>\n",
       "      <td>город Москва, Абельмановская улица, дом 6</td>\n",
       "      <td>95</td>\n",
       "    </tr>\n",
       "    <tr>\n",
       "      <th>3</th>\n",
       "      <td>21894</td>\n",
       "      <td>пиццетория</td>\n",
       "      <td>да</td>\n",
       "      <td>кафе</td>\n",
       "      <td>город Москва, Абрамцевская улица, дом 1</td>\n",
       "      <td>40</td>\n",
       "    </tr>\n",
       "    <tr>\n",
       "      <th>4</th>\n",
       "      <td>119365</td>\n",
       "      <td>кафе «вишневая метель»</td>\n",
       "      <td>нет</td>\n",
       "      <td>кафе</td>\n",
       "      <td>город Москва, Абрамцевская улица, дом 9, корпус 1</td>\n",
       "      <td>50</td>\n",
       "    </tr>\n",
       "    <tr>\n",
       "      <th>5</th>\n",
       "      <td>27429</td>\n",
       "      <td>стол. при гоу сош № 1051</td>\n",
       "      <td>нет</td>\n",
       "      <td>столовая</td>\n",
       "      <td>город Москва, Абрамцевская улица, дом 15, корп...</td>\n",
       "      <td>240</td>\n",
       "    </tr>\n",
       "    <tr>\n",
       "      <th>6</th>\n",
       "      <td>148815</td>\n",
       "      <td>брусника</td>\n",
       "      <td>да</td>\n",
       "      <td>кафе</td>\n",
       "      <td>город Москва, переулок Сивцев Вражек, дом 6/2</td>\n",
       "      <td>10</td>\n",
       "    </tr>\n",
       "    <tr>\n",
       "      <th>7</th>\n",
       "      <td>20957</td>\n",
       "      <td>буфет мтуси</td>\n",
       "      <td>нет</td>\n",
       "      <td>столовая</td>\n",
       "      <td>город Москва, Авиамоторная улица, дом 8, строе...</td>\n",
       "      <td>90</td>\n",
       "    </tr>\n",
       "    <tr>\n",
       "      <th>8</th>\n",
       "      <td>20958</td>\n",
       "      <td>кпф семья-1</td>\n",
       "      <td>нет</td>\n",
       "      <td>столовая</td>\n",
       "      <td>город Москва, Авиамоторная улица, дом 8, строе...</td>\n",
       "      <td>150</td>\n",
       "    </tr>\n",
       "    <tr>\n",
       "      <th>9</th>\n",
       "      <td>28858</td>\n",
       "      <td>столовая мтуси</td>\n",
       "      <td>нет</td>\n",
       "      <td>столовая</td>\n",
       "      <td>город Москва, Авиамоторная улица, дом 8, строе...</td>\n",
       "      <td>120</td>\n",
       "    </tr>\n",
       "    <tr>\n",
       "      <th>10</th>\n",
       "      <td>148595</td>\n",
       "      <td>пекарня 24</td>\n",
       "      <td>нет</td>\n",
       "      <td>закусочная</td>\n",
       "      <td>город Москва, Авиамоторная улица, дом 47</td>\n",
       "      <td>5</td>\n",
       "    </tr>\n",
       "    <tr>\n",
       "      <th>11</th>\n",
       "      <td>23394</td>\n",
       "      <td>гогиели</td>\n",
       "      <td>нет</td>\n",
       "      <td>кафе</td>\n",
       "      <td>город Москва, Авиамоторная улица, дом 49/1</td>\n",
       "      <td>24</td>\n",
       "    </tr>\n",
       "    <tr>\n",
       "      <th>12</th>\n",
       "      <td>28582</td>\n",
       "      <td>школа 735</td>\n",
       "      <td>нет</td>\n",
       "      <td>столовая</td>\n",
       "      <td>город Москва, Авиамоторная улица, дом 51</td>\n",
       "      <td>140</td>\n",
       "    </tr>\n",
       "    <tr>\n",
       "      <th>13</th>\n",
       "      <td>22579</td>\n",
       "      <td>алло пицца</td>\n",
       "      <td>да</td>\n",
       "      <td>кафе</td>\n",
       "      <td>город Москва, улица Авиаторов, дом 14</td>\n",
       "      <td>32</td>\n",
       "    </tr>\n",
       "    <tr>\n",
       "      <th>14</th>\n",
       "      <td>23670</td>\n",
       "      <td>гимназия 1542</td>\n",
       "      <td>нет</td>\n",
       "      <td>столовая</td>\n",
       "      <td>город Москва, улица Авиаторов, дом 16</td>\n",
       "      <td>270</td>\n",
       "    </tr>\n",
       "    <tr>\n",
       "      <th>15</th>\n",
       "      <td>23663</td>\n",
       "      <td>школа 1011</td>\n",
       "      <td>нет</td>\n",
       "      <td>столовая</td>\n",
       "      <td>город Москва, улица Авиаторов, дом 18</td>\n",
       "      <td>320</td>\n",
       "    </tr>\n",
       "    <tr>\n",
       "      <th>16</th>\n",
       "      <td>144107</td>\n",
       "      <td>суши wok</td>\n",
       "      <td>да</td>\n",
       "      <td>предприятие быстрого обслуживания</td>\n",
       "      <td>город Москва, Азовская улица, дом 3</td>\n",
       "      <td>7</td>\n",
       "    </tr>\n",
       "    <tr>\n",
       "      <th>17</th>\n",
       "      <td>154654</td>\n",
       "      <td>донер кебаб</td>\n",
       "      <td>нет</td>\n",
       "      <td>предприятие быстрого обслуживания</td>\n",
       "      <td>город Москва, Азовская улица, дом 4</td>\n",
       "      <td>2</td>\n",
       "    </tr>\n",
       "    <tr>\n",
       "      <th>18</th>\n",
       "      <td>58565</td>\n",
       "      <td>тануки</td>\n",
       "      <td>да</td>\n",
       "      <td>ресторан</td>\n",
       "      <td>город Москва, Большая Академическая улица, дом 65</td>\n",
       "      <td>160</td>\n",
       "    </tr>\n",
       "    <tr>\n",
       "      <th>19</th>\n",
       "      <td>153644</td>\n",
       "      <td>американская лаборатория десертов</td>\n",
       "      <td>нет</td>\n",
       "      <td>кафе</td>\n",
       "      <td>город Москва, Филипповский переулок, дом 15/5</td>\n",
       "      <td>20</td>\n",
       "    </tr>\n",
       "  </tbody>\n",
       "</table>\n",
       "</div>"
      ],
      "text/plain": [
       "        id                        object_name chain  \\\n",
       "0   151635                            сметана   нет   \n",
       "1    77874                             родник   нет   \n",
       "2    24309                    кафе «академия»   нет   \n",
       "3    21894                         пиццетория    да   \n",
       "4   119365             кафе «вишневая метель»   нет   \n",
       "5    27429           стол. при гоу сош № 1051   нет   \n",
       "6   148815                           брусника    да   \n",
       "7    20957                        буфет мтуси   нет   \n",
       "8    20958                        кпф семья-1   нет   \n",
       "9    28858                     столовая мтуси   нет   \n",
       "10  148595                         пекарня 24   нет   \n",
       "11   23394                            гогиели   нет   \n",
       "12   28582                          школа 735   нет   \n",
       "13   22579                         алло пицца    да   \n",
       "14   23670                      гимназия 1542   нет   \n",
       "15   23663                         школа 1011   нет   \n",
       "16  144107                           суши wok    да   \n",
       "17  154654                        донер кебаб   нет   \n",
       "18   58565                             тануки    да   \n",
       "19  153644  американская лаборатория десертов   нет   \n",
       "\n",
       "                          object_type  \\\n",
       "0                                кафе   \n",
       "1                                кафе   \n",
       "2                                кафе   \n",
       "3                                кафе   \n",
       "4                                кафе   \n",
       "5                            столовая   \n",
       "6                                кафе   \n",
       "7                            столовая   \n",
       "8                            столовая   \n",
       "9                            столовая   \n",
       "10                         закусочная   \n",
       "11                               кафе   \n",
       "12                           столовая   \n",
       "13                               кафе   \n",
       "14                           столовая   \n",
       "15                           столовая   \n",
       "16  предприятие быстрого обслуживания   \n",
       "17  предприятие быстрого обслуживания   \n",
       "18                           ресторан   \n",
       "19                               кафе   \n",
       "\n",
       "                                              address  number  \n",
       "0          город Москва, улица Егора Абакумова, дом 9      48  \n",
       "1   город Москва, улица Талалихина, дом 2/1, корпус 1      35  \n",
       "2           город Москва, Абельмановская улица, дом 6      95  \n",
       "3             город Москва, Абрамцевская улица, дом 1      40  \n",
       "4   город Москва, Абрамцевская улица, дом 9, корпус 1      50  \n",
       "5   город Москва, Абрамцевская улица, дом 15, корп...     240  \n",
       "6       город Москва, переулок Сивцев Вражек, дом 6/2      10  \n",
       "7   город Москва, Авиамоторная улица, дом 8, строе...      90  \n",
       "8   город Москва, Авиамоторная улица, дом 8, строе...     150  \n",
       "9   город Москва, Авиамоторная улица, дом 8, строе...     120  \n",
       "10           город Москва, Авиамоторная улица, дом 47       5  \n",
       "11         город Москва, Авиамоторная улица, дом 49/1      24  \n",
       "12           город Москва, Авиамоторная улица, дом 51     140  \n",
       "13              город Москва, улица Авиаторов, дом 14      32  \n",
       "14              город Москва, улица Авиаторов, дом 16     270  \n",
       "15              город Москва, улица Авиаторов, дом 18     320  \n",
       "16                город Москва, Азовская улица, дом 3       7  \n",
       "17                город Москва, Азовская улица, дом 4       2  \n",
       "18  город Москва, Большая Академическая улица, дом 65     160  \n",
       "19      город Москва, Филипповский переулок, дом 15/5      20  "
      ]
     },
     "execution_count": 5,
     "metadata": {},
     "output_type": "execute_result"
    }
   ],
   "source": [
    "data['object_name'] = data['object_name'].str.lower()\n",
    "data['object_name'] = data['object_name'].replace('«','')\n",
    "data['object_name'] = data['object_name'].replace(['ресторан«макдоналдс»','ресторан «макдоналдс»','mcdonalds'], 'макдоналдс')\n",
    "'закусочная kfc'\n",
    "data['object_name'] = data['object_name'].replace(['fridays kfc', 'kfc', 'kfc волгоградский', 'kfc.','закусочная kfc', 'закусочная «kfc»', 'кафе kfc', 'кафе «kfc»','пбо «kfc покрышкина»', 'пбо «kfc»','предприятие быстрого обслуживания «kfc»', 'ресторан kfc','ресторан «kfc»','ресторан быстрого питания kfc','ростикс kfc'], 'kfc')\n",
    "print('Общее число дубликатов:', data.duplicated().sum())\n",
    "data.head(20)"
   ]
  },
  {
   "cell_type": "code",
   "execution_count": 6,
   "metadata": {},
   "outputs": [
    {
     "data": {
      "text/plain": [
       "array(['kfc'], dtype=object)"
      ]
     },
     "execution_count": 6,
     "metadata": {},
     "output_type": "execute_result"
    }
   ],
   "source": [
    "kfc = data[(data['object_name'].str.contains('kfc'))]\n",
    "kfc['object_name'].sort_values().unique()"
   ]
  },
  {
   "cell_type": "code",
   "execution_count": 7,
   "metadata": {},
   "outputs": [
    {
     "name": "stdout",
     "output_type": "stream",
     "text": [
      "Значения в object_name: ['1-й мок' '1-ый московский кадетский корпус' '100 личная столовая' ...\n",
      " 'яуза' 'ёбидоёби' 'ёрш']\n",
      "Количество уникальных значений в object_name: 9907\n",
      "Значения в chain: ['да' 'нет']\n",
      "Количество уникальных значений в chain: 2\n",
      "Значения в object_type: ['бар' 'буфет' 'закусочная' 'кафе' 'кафетерий' 'магазин (отдел кулинарии)'\n",
      " 'предприятие быстрого обслуживания' 'ресторан' 'столовая']\n",
      "Количество уникальных значений в object_type: 9\n",
      "Значения в address: ['1-й Нагатинский проезд, дом 10'\n",
      " '1-я Тверская-Ямская улица, дом 29/66, корпус 1'\n",
      " '2-я Брестская улица, дом 1, строение 1' ...\n",
      " 'улица Миклухо-Маклая, дом 18' 'улица Обручева, дом 23, строение 1'\n",
      " 'улица Сергея Макеева, дом 9, строение 2']\n",
      "Количество уникальных значений в address: 9108\n",
      "Значения в number: [   0    1    2    3    4    5    6    7    8    9   10   11   12   13\n",
      "   14   15   16   17   18   19   20   21   22   23   24   25   26   27\n",
      "   28   29   30   31   32   33   34   35   36   37   38   39   40   41\n",
      "   42   43   44   45   46   47   48   49   50   51   52   53   54   55\n",
      "   56   57   58   59   60   61   62   63   64   65   66   67   68   69\n",
      "   70   71   72   73   74   75   76   77   78   79   80   81   82   83\n",
      "   84   85   86   87   88   89   90   91   92   93   94   95   96   97\n",
      "   98   99  100  101  102  103  104  105  106  107  108  109  110  111\n",
      "  112  113  114  115  116  118  119  120  121  122  123  124  125  126\n",
      "  127  128  130  131  132  133  134  135  136  138  139  140  141  142\n",
      "  143  144  145  146  147  148  149  150  151  152  153  154  155  156\n",
      "  157  158  159  160  161  162  164  165  166  167  168  170  172  173\n",
      "  174  175  176  177  178  180  181  184  185  186  187  188  189  190\n",
      "  192  194  195  196  198  199  200  202  204  205  206  207  208  210\n",
      "  212  213  214  215  216  217  218  220  222  224  225  226  228  229\n",
      "  230  232  234  236  237  238  239  240  242  243  244  245  246  247\n",
      "  248  250  252  255  257  259  260  266  268  270  271  272  273  275\n",
      "  276  277  278  280  282  283  284  286  287  288  290  292  295  300\n",
      "  301  302  305  306  307  308  310  313  320  324  326  328  330  337\n",
      "  338  340  343  350  356  360  362  371  380  395  398  400  420  424\n",
      "  428  430  450  455  456  472  478  480  481  483  490  491  495  500\n",
      "  520  533  542  580  585  600  625  644  650  660  675  680  700  760\n",
      "  920 1040 1200 1288 1400 1500 1700]\n",
      "Количество уникальных значений в number: 315\n"
     ]
    }
   ],
   "source": [
    "#посмотрим уникальные значения по ряду столбцов\n",
    "print('Значения в object_name:', data['object_name'].sort_values().unique())\n",
    "print('Количество уникальных значений в object_name:', data['object_name'].value_counts().count())\n",
    "print('Значения в chain:', data['chain'].sort_values().unique())\n",
    "print('Количество уникальных значений в chain:', data['chain'].value_counts().count())\n",
    "print('Значения в object_type:', data['object_type'].sort_values().unique())\n",
    "print('Количество уникальных значений в object_type:', data['object_type'].value_counts().count())\n",
    "print('Значения в address:', data['address'].sort_values().unique())\n",
    "print('Количество уникальных значений в address:', data['address'].value_counts().count())\n",
    "print('Значения в number:', data['number'].sort_values().unique())\n",
    "print('Количество уникальных значений в number:', data['number'].value_counts().count())"
   ]
  },
  {
   "cell_type": "markdown",
   "metadata": {},
   "source": [
    "В данных 15366 строк и:<br>\n",
    "- 10393 уникальных названия заведений: скорее всего, присутствуют сети ресторанов с одним именем, потому что дубликатов не выявлено.<br>\n",
    "- 2 вида ресторанов по количеству заведений: сетевые и несетевые (подтверждение гипотезы выше).<br>\n",
    "- типов заведений может быть 9.<br>\n",
    "- уникальных адресов 9108: соответственно, в некоторых домах может быть несколько разных ресторанов.<br>\n",
    "- вариаций количества посадочных мест - 315: от 0 (киоск?) до 1700 человек.<br>"
   ]
  },
  {
   "cell_type": "markdown",
   "metadata": {},
   "source": [
    "## Анализ данных"
   ]
  },
  {
   "cell_type": "markdown",
   "metadata": {},
   "source": [
    "### Исследуем соотношение видов объектов общественного питания по количеству"
   ]
  },
  {
   "cell_type": "markdown",
   "metadata": {},
   "source": [
    "#### Разные типы заведений общественного питания и их количество"
   ]
  },
  {
   "cell_type": "code",
   "execution_count": 8,
   "metadata": {},
   "outputs": [
    {
     "name": "stdout",
     "output_type": "stream",
     "text": [
      "object_type\n",
      "кафе                                 6099\n",
      "столовая                             2587\n",
      "ресторан                             2285\n",
      "предприятие быстрого обслуживания    1923\n",
      "бар                                   856\n",
      "буфет                                 585\n",
      "кафетерий                             398\n",
      "закусочная                            360\n",
      "магазин (отдел кулинарии)             273\n",
      "Name: object_name, dtype: int64\n"
     ]
    }
   ],
   "source": [
    "data_type = data.groupby('object_type')['object_name'].count().sort_values(ascending=False)\n",
    "print(data_type)"
   ]
  },
  {
   "cell_type": "code",
   "execution_count": 9,
   "metadata": {
    "scrolled": true
   },
   "outputs": [
    {
     "data": {
      "image/png": "[encoded data removed]",
      "text/plain": [
       "<Figure size 720x504 with 1 Axes>"
      ]
     },
     "metadata": {},
     "output_type": "display_data"
    }
   ],
   "source": [
    "data_type.plot(kind='pie', figsize=(10,7), autopct='%1.1f%%')\n",
    "plt.title('Доля разных типов заведений общественного питания')\n",
    "plt.show()"
   ]
  },
  {
   "cell_type": "markdown",
   "metadata": {},
   "source": [
    "Больше всего общественного питания типа: кафе, затем столовых и на третьем месте рестораны."
   ]
  },
  {
   "cell_type": "markdown",
   "metadata": {},
   "source": [
    "#### Разделение заведений общественного питания на сетевые/ несетевые"
   ]
  },
  {
   "cell_type": "code",
   "execution_count": 10,
   "metadata": {
    "scrolled": true
   },
   "outputs": [
    {
     "name": "stdout",
     "output_type": "stream",
     "text": [
      "chain\n",
      "нет    12398\n",
      "да      2968\n",
      "Name: object_name, dtype: int64\n"
     ]
    }
   ],
   "source": [
    "data_chain = data.groupby('chain')['object_name'].count().sort_values(ascending=False)\n",
    "print(data_chain)"
   ]
  },
  {
   "cell_type": "code",
   "execution_count": 11,
   "metadata": {},
   "outputs": [
    {
     "data": {
      "image/png": "[encoded data removed]",
      "text/plain": [
       "<Figure size 720x504 with 1 Axes>"
      ]
     },
     "metadata": {},
     "output_type": "display_data"
    }
   ],
   "source": [
    "data_chain.plot(kind='pie', figsize=(10,7))\n",
    "plt.show()"
   ]
  },
  {
   "cell_type": "markdown",
   "metadata": {},
   "source": [
    "Большая часть заведений не являются сетевыми."
   ]
  },
  {
   "cell_type": "markdown",
   "metadata": {},
   "source": [
    "#### Разные типы заведений общественного питания и их особенности при разделении на сетевые/несетевые"
   ]
  },
  {
   "cell_type": "code",
   "execution_count": 12,
   "metadata": {
    "scrolled": true
   },
   "outputs": [
    {
     "data": {
      "text/html": [
       "<div>\n",
       "<style scoped>\n",
       "    .dataframe tbody tr th:only-of-type {\n",
       "        vertical-align: middle;\n",
       "    }\n",
       "\n",
       "    .dataframe tbody tr th {\n",
       "        vertical-align: top;\n",
       "    }\n",
       "\n",
       "    .dataframe thead th {\n",
       "        text-align: right;\n",
       "    }\n",
       "</style>\n",
       "<table border=\"1\" class=\"dataframe\">\n",
       "  <thead>\n",
       "    <tr style=\"text-align: right;\">\n",
       "      <th></th>\n",
       "      <th>object_type</th>\n",
       "      <th>chain</th>\n",
       "      <th>object_name</th>\n",
       "    </tr>\n",
       "  </thead>\n",
       "  <tbody>\n",
       "    <tr>\n",
       "      <th>7</th>\n",
       "      <td>кафе</td>\n",
       "      <td>нет</td>\n",
       "      <td>4703</td>\n",
       "    </tr>\n",
       "    <tr>\n",
       "      <th>17</th>\n",
       "      <td>столовая</td>\n",
       "      <td>нет</td>\n",
       "      <td>2584</td>\n",
       "    </tr>\n",
       "    <tr>\n",
       "      <th>15</th>\n",
       "      <td>ресторан</td>\n",
       "      <td>нет</td>\n",
       "      <td>1741</td>\n",
       "    </tr>\n",
       "    <tr>\n",
       "      <th>6</th>\n",
       "      <td>кафе</td>\n",
       "      <td>да</td>\n",
       "      <td>1396</td>\n",
       "    </tr>\n",
       "    <tr>\n",
       "      <th>13</th>\n",
       "      <td>предприятие быстрого обслуживания</td>\n",
       "      <td>нет</td>\n",
       "      <td>1132</td>\n",
       "    </tr>\n",
       "    <tr>\n",
       "      <th>1</th>\n",
       "      <td>бар</td>\n",
       "      <td>нет</td>\n",
       "      <td>819</td>\n",
       "    </tr>\n",
       "    <tr>\n",
       "      <th>12</th>\n",
       "      <td>предприятие быстрого обслуживания</td>\n",
       "      <td>да</td>\n",
       "      <td>791</td>\n",
       "    </tr>\n",
       "    <tr>\n",
       "      <th>3</th>\n",
       "      <td>буфет</td>\n",
       "      <td>нет</td>\n",
       "      <td>574</td>\n",
       "    </tr>\n",
       "    <tr>\n",
       "      <th>14</th>\n",
       "      <td>ресторан</td>\n",
       "      <td>да</td>\n",
       "      <td>544</td>\n",
       "    </tr>\n",
       "    <tr>\n",
       "      <th>9</th>\n",
       "      <td>кафетерий</td>\n",
       "      <td>нет</td>\n",
       "      <td>346</td>\n",
       "    </tr>\n",
       "    <tr>\n",
       "      <th>5</th>\n",
       "      <td>закусочная</td>\n",
       "      <td>нет</td>\n",
       "      <td>304</td>\n",
       "    </tr>\n",
       "    <tr>\n",
       "      <th>11</th>\n",
       "      <td>магазин (отдел кулинарии)</td>\n",
       "      <td>нет</td>\n",
       "      <td>195</td>\n",
       "    </tr>\n",
       "    <tr>\n",
       "      <th>10</th>\n",
       "      <td>магазин (отдел кулинарии)</td>\n",
       "      <td>да</td>\n",
       "      <td>78</td>\n",
       "    </tr>\n",
       "    <tr>\n",
       "      <th>4</th>\n",
       "      <td>закусочная</td>\n",
       "      <td>да</td>\n",
       "      <td>56</td>\n",
       "    </tr>\n",
       "    <tr>\n",
       "      <th>8</th>\n",
       "      <td>кафетерий</td>\n",
       "      <td>да</td>\n",
       "      <td>52</td>\n",
       "    </tr>\n",
       "    <tr>\n",
       "      <th>0</th>\n",
       "      <td>бар</td>\n",
       "      <td>да</td>\n",
       "      <td>37</td>\n",
       "    </tr>\n",
       "    <tr>\n",
       "      <th>2</th>\n",
       "      <td>буфет</td>\n",
       "      <td>да</td>\n",
       "      <td>11</td>\n",
       "    </tr>\n",
       "    <tr>\n",
       "      <th>16</th>\n",
       "      <td>столовая</td>\n",
       "      <td>да</td>\n",
       "      <td>3</td>\n",
       "    </tr>\n",
       "  </tbody>\n",
       "</table>\n",
       "</div>"
      ],
      "text/plain": [
       "                          object_type chain  object_name\n",
       "7                                кафе   нет         4703\n",
       "17                           столовая   нет         2584\n",
       "15                           ресторан   нет         1741\n",
       "6                                кафе    да         1396\n",
       "13  предприятие быстрого обслуживания   нет         1132\n",
       "1                                 бар   нет          819\n",
       "12  предприятие быстрого обслуживания    да          791\n",
       "3                               буфет   нет          574\n",
       "14                           ресторан    да          544\n",
       "9                           кафетерий   нет          346\n",
       "5                          закусочная   нет          304\n",
       "11          магазин (отдел кулинарии)   нет          195\n",
       "10          магазин (отдел кулинарии)    да           78\n",
       "4                          закусочная    да           56\n",
       "8                           кафетерий    да           52\n",
       "0                                 бар    да           37\n",
       "2                               буфет    да           11\n",
       "16                           столовая    да            3"
      ]
     },
     "metadata": {},
     "output_type": "display_data"
    }
   ],
   "source": [
    "data_chain_type = data.pivot_table(index = ['object_type','chain'], values = 'object_name', aggfunc = 'count').reset_index().sort_values(by='object_name', ascending=False)\n",
    "display(data_chain_type)"
   ]
  },
  {
   "cell_type": "code",
   "execution_count": 15,
   "metadata": {},
   "outputs": [
    {
     "data": {
      "image/png": "[encoded data removed]",
      "text/plain": [
       "<Figure size 864x504 with 1 Axes>"
      ]
     },
     "metadata": {
      "needs_background": "light"
     },
     "output_type": "display_data"
    }
   ],
   "source": [
    "plt.figure(figsize=(12,7))\n",
    "sns.barplot(data=data_chain_type, x='object_name', y='object_type',hue='chain')\n",
    "plt.xlabel('Количество')\n",
    "plt.ylabel('Тип заведения')\n",
    "plt.show()"
   ]
  },
  {
   "cell_type": "markdown",
   "metadata": {},
   "source": [
    "Сетевые заведения более всего характерны для предприятий быстрого обслуживания. Посчитаем доли сетевых заведений по типам заведений в общем числе."
   ]
  },
  {
   "cell_type": "code",
   "execution_count": 16,
   "metadata": {
    "scrolled": true
   },
   "outputs": [
    {
     "name": "stdout",
     "output_type": "stream",
     "text": [
      "object_type\n",
      "предприятие быстрого обслуживания    0.411336\n",
      "магазин (отдел кулинарии)            0.285714\n",
      "ресторан                             0.238074\n",
      "кафе                                 0.228890\n",
      "закусочная                           0.155556\n",
      "кафетерий                            0.130653\n",
      "бар                                  0.043224\n",
      "буфет                                0.018803\n",
      "столовая                             0.001160\n",
      "Name: object_name, dtype: float64\n"
     ]
    }
   ],
   "source": [
    "data_chain_perc = ((data.query('chain==\"да\"').groupby(['object_type'])['object_name'].count())/(data.groupby(['object_type'])['object_name'].count())).sort_values(ascending=False)\n",
    "print(data_chain_perc)"
   ]
  },
  {
   "cell_type": "markdown",
   "metadata": {},
   "source": [
    "Наиболее часто среди сетевых заведений встречаются: предприятия быстрого обслуживания, отделы кулинарии в магазинах, рестораны."
   ]
  },
  {
   "cell_type": "markdown",
   "metadata": {},
   "source": [
    "#### Особенности сетевых заведений"
   ]
  },
  {
   "cell_type": "code",
   "execution_count": 17,
   "metadata": {
    "scrolled": false
   },
   "outputs": [
    {
     "data": {
      "image/png": "[encoded data removed]",
      "text/plain": [
       "<Figure size 432x288 with 1 Axes>"
      ]
     },
     "metadata": {
      "needs_background": "light"
     },
     "output_type": "display_data"
    }
   ],
   "source": [
    "rest_chain = data.query('chain==\"да\"')\n",
    "rest_chain_grouped=rest_chain.groupby(['object_name']).agg({'number':'median','object_name':'count'})\n",
    "rest_chain_grouped.rename(columns = {'object_name' : 'qnt'}, inplace = True)\n",
    "rest_chain_grouped.sort_values(by='qnt',ascending=False)\n",
    "\n",
    "ax = sns.scatterplot(data = rest_chain_grouped, y = \"number\", x = \"qnt\")\n",
    "plt.xlabel('Количество посадочных мест')\n",
    "plt.ylabel('Количество заведений')\n",
    "plt.show()"
   ]
  },
  {
   "cell_type": "code",
   "execution_count": 18,
   "metadata": {},
   "outputs": [
    {
     "data": {
      "image/png": "[encoded data removed]",
      "text/plain": [
       "<Figure size 432x288 with 1 Axes>"
      ]
     },
     "metadata": {
      "needs_background": "light"
     },
     "output_type": "display_data"
    }
   ],
   "source": [
    "ax = sns.stripplot(data = rest_chain_grouped, x = \"qnt\", y = \"number\")\n",
    "plt.xlabel('Количество посадочных мест')\n",
    "plt.ylabel('Количество заведений')\n",
    "plt.show()"
   ]
  },
  {
   "cell_type": "markdown",
   "metadata": {},
   "source": [
    "По диаграмме рассеяния видно, что большая часть сетевых заведений имеет ориентировочно до 100 зведений с количеством посадочных мест до 25. Т.е. для сетевых ресторанов характерно много заведений с небольшим числом посадочных мест в каждом.</div>"
   ]
  },
  {
   "cell_type": "markdown",
   "metadata": {},
   "source": [
    "#### Количество посадочных мест для каждого вида обьекта общественного питания"
   ]
  },
  {
   "cell_type": "markdown",
   "metadata": {},
   "source": [
    "Рассчитаю среднее количество посадочных мест для каждого вида объекта общественного питания."
   ]
  },
  {
   "cell_type": "code",
   "execution_count": 19,
   "metadata": {},
   "outputs": [
    {
     "data": {
      "text/html": [
       "<div>\n",
       "<style scoped>\n",
       "    .dataframe tbody tr th:only-of-type {\n",
       "        vertical-align: middle;\n",
       "    }\n",
       "\n",
       "    .dataframe tbody tr th {\n",
       "        vertical-align: top;\n",
       "    }\n",
       "\n",
       "    .dataframe thead th {\n",
       "        text-align: right;\n",
       "    }\n",
       "</style>\n",
       "<table border=\"1\" class=\"dataframe\">\n",
       "  <thead>\n",
       "    <tr style=\"text-align: right;\">\n",
       "      <th></th>\n",
       "      <th>object_type</th>\n",
       "      <th>number</th>\n",
       "    </tr>\n",
       "  </thead>\n",
       "  <tbody>\n",
       "    <tr>\n",
       "      <th>8</th>\n",
       "      <td>столовая</td>\n",
       "      <td>130.246618</td>\n",
       "    </tr>\n",
       "    <tr>\n",
       "      <th>7</th>\n",
       "      <td>ресторан</td>\n",
       "      <td>96.834136</td>\n",
       "    </tr>\n",
       "    <tr>\n",
       "      <th>1</th>\n",
       "      <td>буфет</td>\n",
       "      <td>51.129915</td>\n",
       "    </tr>\n",
       "    <tr>\n",
       "      <th>0</th>\n",
       "      <td>бар</td>\n",
       "      <td>43.494159</td>\n",
       "    </tr>\n",
       "    <tr>\n",
       "      <th>3</th>\n",
       "      <td>кафе</td>\n",
       "      <td>39.716019</td>\n",
       "    </tr>\n",
       "    <tr>\n",
       "      <th>6</th>\n",
       "      <td>предприятие быстрого обслуживания</td>\n",
       "      <td>20.552262</td>\n",
       "    </tr>\n",
       "    <tr>\n",
       "      <th>4</th>\n",
       "      <td>кафетерий</td>\n",
       "      <td>9.123116</td>\n",
       "    </tr>\n",
       "    <tr>\n",
       "      <th>2</th>\n",
       "      <td>закусочная</td>\n",
       "      <td>7.608333</td>\n",
       "    </tr>\n",
       "    <tr>\n",
       "      <th>5</th>\n",
       "      <td>магазин (отдел кулинарии)</td>\n",
       "      <td>5.589744</td>\n",
       "    </tr>\n",
       "  </tbody>\n",
       "</table>\n",
       "</div>"
      ],
      "text/plain": [
       "                         object_type      number\n",
       "8                           столовая  130.246618\n",
       "7                           ресторан   96.834136\n",
       "1                              буфет   51.129915\n",
       "0                                бар   43.494159\n",
       "3                               кафе   39.716019\n",
       "6  предприятие быстрого обслуживания   20.552262\n",
       "4                          кафетерий    9.123116\n",
       "2                         закусочная    7.608333\n",
       "5          магазин (отдел кулинарии)    5.589744"
      ]
     },
     "metadata": {},
     "output_type": "display_data"
    }
   ],
   "source": [
    "all_type_number = data.groupby(['object_type'])['number'].mean().reset_index().sort_values(by='number', ascending=False)\n",
    "display(all_type_number)"
   ]
  },
  {
   "cell_type": "markdown",
   "metadata": {},
   "source": [
    "В среднем максимальное число посадочных мест характерно для столовых, на втором месте - рестораны. Самое маленькое количество посадочных мест в кафе."
   ]
  },
  {
   "cell_type": "code",
   "execution_count": 20,
   "metadata": {},
   "outputs": [
    {
     "data": {
      "text/html": [
       "<div>\n",
       "<style scoped>\n",
       "    .dataframe tbody tr th:only-of-type {\n",
       "        vertical-align: middle;\n",
       "    }\n",
       "\n",
       "    .dataframe tbody tr th {\n",
       "        vertical-align: top;\n",
       "    }\n",
       "\n",
       "    .dataframe thead th {\n",
       "        text-align: right;\n",
       "    }\n",
       "</style>\n",
       "<table border=\"1\" class=\"dataframe\">\n",
       "  <thead>\n",
       "    <tr style=\"text-align: right;\">\n",
       "      <th></th>\n",
       "      <th>object_type</th>\n",
       "      <th>number</th>\n",
       "    </tr>\n",
       "  </thead>\n",
       "  <tbody>\n",
       "    <tr>\n",
       "      <th>8</th>\n",
       "      <td>столовая</td>\n",
       "      <td>103.0</td>\n",
       "    </tr>\n",
       "    <tr>\n",
       "      <th>7</th>\n",
       "      <td>ресторан</td>\n",
       "      <td>80.0</td>\n",
       "    </tr>\n",
       "    <tr>\n",
       "      <th>0</th>\n",
       "      <td>бар</td>\n",
       "      <td>35.0</td>\n",
       "    </tr>\n",
       "    <tr>\n",
       "      <th>1</th>\n",
       "      <td>буфет</td>\n",
       "      <td>32.0</td>\n",
       "    </tr>\n",
       "    <tr>\n",
       "      <th>3</th>\n",
       "      <td>кафе</td>\n",
       "      <td>30.0</td>\n",
       "    </tr>\n",
       "  </tbody>\n",
       "</table>\n",
       "</div>"
      ],
      "text/plain": [
       "  object_type  number\n",
       "8    столовая   103.0\n",
       "7    ресторан    80.0\n",
       "0         бар    35.0\n",
       "1       буфет    32.0\n",
       "3        кафе    30.0"
      ]
     },
     "metadata": {},
     "output_type": "display_data"
    }
   ],
   "source": [
    "#интересно посчитать, если отличия с медианой\n",
    "all_type_number = data.groupby(['object_type'])['number'].median().reset_index().sort_values(by='number', ascending=False)\n",
    "display(all_type_number.head())"
   ]
  },
  {
   "cell_type": "markdown",
   "metadata": {},
   "source": [
    "Наиболее характерное количесвто посадочных для разных заведений отличается от среднего числа, но не критично и в целом иерархия заведений остается такой же."
   ]
  },
  {
   "cell_type": "code",
   "execution_count": 21,
   "metadata": {
    "scrolled": true
   },
   "outputs": [
    {
     "data": {
      "text/plain": [
       "Text(0, 0.5, 'Тип заведения')"
      ]
     },
     "execution_count": 21,
     "metadata": {},
     "output_type": "execute_result"
    },
    {
     "data": {
      "image/png": "[encoded data removed]",
      "text/plain": [
       "<Figure size 432x288 with 1 Axes>"
      ]
     },
     "metadata": {
      "needs_background": "light"
     },
     "output_type": "display_data"
    }
   ],
   "source": [
    "sns.barplot(data=all_type_number, x='number', y='object_type')\n",
    "plt.xlabel('Среднее количество посадочных мест')\n",
    "plt.ylabel('Тип заведения')"
   ]
  },
  {
   "cell_type": "markdown",
   "metadata": {},
   "source": [
    "#### Расположение обьектов общественного питания в Москве"
   ]
  },
  {
   "cell_type": "code",
   "execution_count": 22,
   "metadata": {
    "scrolled": true
   },
   "outputs": [
    {
     "data": {
      "text/html": [
       "<div>\n",
       "<style scoped>\n",
       "    .dataframe tbody tr th:only-of-type {\n",
       "        vertical-align: middle;\n",
       "    }\n",
       "\n",
       "    .dataframe tbody tr th {\n",
       "        vertical-align: top;\n",
       "    }\n",
       "\n",
       "    .dataframe thead th {\n",
       "        text-align: right;\n",
       "    }\n",
       "</style>\n",
       "<table border=\"1\" class=\"dataframe\">\n",
       "  <thead>\n",
       "    <tr style=\"text-align: right;\">\n",
       "      <th></th>\n",
       "      <th>id</th>\n",
       "      <th>object_name</th>\n",
       "      <th>chain</th>\n",
       "      <th>object_type</th>\n",
       "      <th>address</th>\n",
       "      <th>number</th>\n",
       "      <th>street</th>\n",
       "    </tr>\n",
       "  </thead>\n",
       "  <tbody>\n",
       "    <tr>\n",
       "      <th>0</th>\n",
       "      <td>151635</td>\n",
       "      <td>сметана</td>\n",
       "      <td>нет</td>\n",
       "      <td>кафе</td>\n",
       "      <td>город Москва, улица Егора Абакумова, дом 9</td>\n",
       "      <td>48</td>\n",
       "      <td>улица Егора Абакумова</td>\n",
       "    </tr>\n",
       "    <tr>\n",
       "      <th>1</th>\n",
       "      <td>77874</td>\n",
       "      <td>родник</td>\n",
       "      <td>нет</td>\n",
       "      <td>кафе</td>\n",
       "      <td>город Москва, улица Талалихина, дом 2/1, корпус 1</td>\n",
       "      <td>35</td>\n",
       "      <td>улица Талалихина</td>\n",
       "    </tr>\n",
       "    <tr>\n",
       "      <th>2</th>\n",
       "      <td>24309</td>\n",
       "      <td>кафе «академия»</td>\n",
       "      <td>нет</td>\n",
       "      <td>кафе</td>\n",
       "      <td>город Москва, Абельмановская улица, дом 6</td>\n",
       "      <td>95</td>\n",
       "      <td>Абельмановская улица</td>\n",
       "    </tr>\n",
       "    <tr>\n",
       "      <th>3</th>\n",
       "      <td>21894</td>\n",
       "      <td>пиццетория</td>\n",
       "      <td>да</td>\n",
       "      <td>кафе</td>\n",
       "      <td>город Москва, Абрамцевская улица, дом 1</td>\n",
       "      <td>40</td>\n",
       "      <td>Абрамцевская улица</td>\n",
       "    </tr>\n",
       "    <tr>\n",
       "      <th>4</th>\n",
       "      <td>119365</td>\n",
       "      <td>кафе «вишневая метель»</td>\n",
       "      <td>нет</td>\n",
       "      <td>кафе</td>\n",
       "      <td>город Москва, Абрамцевская улица, дом 9, корпус 1</td>\n",
       "      <td>50</td>\n",
       "      <td>Абрамцевская улица</td>\n",
       "    </tr>\n",
       "  </tbody>\n",
       "</table>\n",
       "</div>"
      ],
      "text/plain": [
       "       id             object_name chain object_type  \\\n",
       "0  151635                 сметана   нет        кафе   \n",
       "1   77874                  родник   нет        кафе   \n",
       "2   24309         кафе «академия»   нет        кафе   \n",
       "3   21894              пиццетория    да        кафе   \n",
       "4  119365  кафе «вишневая метель»   нет        кафе   \n",
       "\n",
       "                                             address  number  \\\n",
       "0         город Москва, улица Егора Абакумова, дом 9      48   \n",
       "1  город Москва, улица Талалихина, дом 2/1, корпус 1      35   \n",
       "2          город Москва, Абельмановская улица, дом 6      95   \n",
       "3            город Москва, Абрамцевская улица, дом 1      40   \n",
       "4  город Москва, Абрамцевская улица, дом 9, корпус 1      50   \n",
       "\n",
       "                  street  \n",
       "0  улица Егора Абакумова  \n",
       "1       улица Талалихина  \n",
       "2   Абельмановская улица  \n",
       "3     Абрамцевская улица  \n",
       "4     Абрамцевская улица  "
      ]
     },
     "metadata": {},
     "output_type": "display_data"
    },
    {
     "data": {
      "text/html": [
       "<div>\n",
       "<style scoped>\n",
       "    .dataframe tbody tr th:only-of-type {\n",
       "        vertical-align: middle;\n",
       "    }\n",
       "\n",
       "    .dataframe tbody tr th {\n",
       "        vertical-align: top;\n",
       "    }\n",
       "\n",
       "    .dataframe thead th {\n",
       "        text-align: right;\n",
       "    }\n",
       "</style>\n",
       "<table border=\"1\" class=\"dataframe\">\n",
       "  <thead>\n",
       "    <tr style=\"text-align: right;\">\n",
       "      <th></th>\n",
       "      <th>street</th>\n",
       "      <th>object_name</th>\n",
       "    </tr>\n",
       "  </thead>\n",
       "  <tbody>\n",
       "    <tr>\n",
       "      <th>1334</th>\n",
       "      <td>город Зеленоград</td>\n",
       "      <td>232</td>\n",
       "    </tr>\n",
       "    <tr>\n",
       "      <th>1452</th>\n",
       "      <td>проспект Мира</td>\n",
       "      <td>204</td>\n",
       "    </tr>\n",
       "    <tr>\n",
       "      <th>993</th>\n",
       "      <td>Профсоюзная улица</td>\n",
       "      <td>182</td>\n",
       "    </tr>\n",
       "    <tr>\n",
       "      <th>683</th>\n",
       "      <td>Ленинградский проспект</td>\n",
       "      <td>171</td>\n",
       "    </tr>\n",
       "    <tr>\n",
       "      <th>979</th>\n",
       "      <td>Пресненская набережная</td>\n",
       "      <td>167</td>\n",
       "    </tr>\n",
       "    <tr>\n",
       "      <th>...</th>\n",
       "      <td>...</td>\n",
       "      <td>...</td>\n",
       "    </tr>\n",
       "    <tr>\n",
       "      <th>1343</th>\n",
       "      <td>дом 1</td>\n",
       "      <td>1</td>\n",
       "    </tr>\n",
       "    <tr>\n",
       "      <th>1345</th>\n",
       "      <td>дом 10</td>\n",
       "      <td>1</td>\n",
       "    </tr>\n",
       "    <tr>\n",
       "      <th>1346</th>\n",
       "      <td>дом 11</td>\n",
       "      <td>1</td>\n",
       "    </tr>\n",
       "    <tr>\n",
       "      <th>1347</th>\n",
       "      <td>дом 118Б</td>\n",
       "      <td>1</td>\n",
       "    </tr>\n",
       "    <tr>\n",
       "      <th>458</th>\n",
       "      <td>Гвардейская улица</td>\n",
       "      <td>1</td>\n",
       "    </tr>\n",
       "  </tbody>\n",
       "</table>\n",
       "<p>1900 rows × 2 columns</p>\n",
       "</div>"
      ],
      "text/plain": [
       "                      street  object_name\n",
       "1334        город Зеленоград          232\n",
       "1452           проспект Мира          204\n",
       "993        Профсоюзная улица          182\n",
       "683   Ленинградский проспект          171\n",
       "979   Пресненская набережная          167\n",
       "...                      ...          ...\n",
       "1343                   дом 1            1\n",
       "1345                  дом 10            1\n",
       "1346                  дом 11            1\n",
       "1347                дом 118Б            1\n",
       "458        Гвардейская улица            1\n",
       "\n",
       "[1900 rows x 2 columns]"
      ]
     },
     "execution_count": 22,
     "metadata": {},
     "output_type": "execute_result"
    }
   ],
   "source": [
    "#выделим название улиц в отдельную колонку\n",
    "pd.options.display.max_colwidth = 100\n",
    "data['street'] = data['address'].str.split(', ', expand = True)[1]\n",
    "display(data.head(5))\n",
    "data.groupby(['street'])['object_name'].count().reset_index().sort_values(by='object_name', ascending=False)"
   ]
  },
  {
   "cell_type": "code",
   "execution_count": 23,
   "metadata": {
    "scrolled": true
   },
   "outputs": [
    {
     "data": {
      "text/html": [
       "<div>\n",
       "<style scoped>\n",
       "    .dataframe tbody tr th:only-of-type {\n",
       "        vertical-align: middle;\n",
       "    }\n",
       "\n",
       "    .dataframe tbody tr th {\n",
       "        vertical-align: top;\n",
       "    }\n",
       "\n",
       "    .dataframe thead th {\n",
       "        text-align: right;\n",
       "    }\n",
       "</style>\n",
       "<table border=\"1\" class=\"dataframe\">\n",
       "  <thead>\n",
       "    <tr style=\"text-align: right;\">\n",
       "      <th></th>\n",
       "      <th>id</th>\n",
       "      <th>object_name</th>\n",
       "      <th>chain</th>\n",
       "      <th>object_type</th>\n",
       "      <th>address</th>\n",
       "      <th>number</th>\n",
       "      <th>street</th>\n",
       "    </tr>\n",
       "  </thead>\n",
       "  <tbody>\n",
       "    <tr>\n",
       "      <th>7938</th>\n",
       "      <td>25019</td>\n",
       "      <td>клуб высоцкого</td>\n",
       "      <td>нет</td>\n",
       "      <td>кафе</td>\n",
       "      <td>Нижний Таганский тупик, дом 3, строение 1</td>\n",
       "      <td>94</td>\n",
       "      <td>дом 3</td>\n",
       "    </tr>\n",
       "    <tr>\n",
       "      <th>8771</th>\n",
       "      <td>144391</td>\n",
       "      <td>винный бар alma valley</td>\n",
       "      <td>нет</td>\n",
       "      <td>бар</td>\n",
       "      <td>Погодинская улица, дом 4, строение 1</td>\n",
       "      <td>30</td>\n",
       "      <td>дом 4</td>\n",
       "    </tr>\n",
       "    <tr>\n",
       "      <th>8776</th>\n",
       "      <td>26477</td>\n",
       "      <td>ресторан «2545»</td>\n",
       "      <td>нет</td>\n",
       "      <td>ресторан</td>\n",
       "      <td>2-я Брестская улица, дом 1, строение 1</td>\n",
       "      <td>30</td>\n",
       "      <td>дом 1</td>\n",
       "    </tr>\n",
       "    <tr>\n",
       "      <th>8813</th>\n",
       "      <td>145235</td>\n",
       "      <td>кафе при азс</td>\n",
       "      <td>нет</td>\n",
       "      <td>кафе</td>\n",
       "      <td>проезд Добролюбова, дом 2</td>\n",
       "      <td>0</td>\n",
       "      <td>дом 2</td>\n",
       "    </tr>\n",
       "    <tr>\n",
       "      <th>8842</th>\n",
       "      <td>19800</td>\n",
       "      <td>набатчиков а.п.</td>\n",
       "      <td>нет</td>\n",
       "      <td>буфет</td>\n",
       "      <td>Проектируемый проезд N 5231, дом 8, строение 3</td>\n",
       "      <td>20</td>\n",
       "      <td>дом 8</td>\n",
       "    </tr>\n",
       "    <tr>\n",
       "      <th>8854</th>\n",
       "      <td>140002</td>\n",
       "      <td>ресторан «пальмира»</td>\n",
       "      <td>нет</td>\n",
       "      <td>ресторан</td>\n",
       "      <td>Новоданиловская набережная, дом 6</td>\n",
       "      <td>80</td>\n",
       "      <td>дом 6</td>\n",
       "    </tr>\n",
       "    <tr>\n",
       "      <th>10010</th>\n",
       "      <td>171646</td>\n",
       "      <td>столовая - буфет при цатра</td>\n",
       "      <td>нет</td>\n",
       "      <td>столовая</td>\n",
       "      <td>Суворовская площадь, дом 2</td>\n",
       "      <td>40</td>\n",
       "      <td>дом 2</td>\n",
       "    </tr>\n",
       "    <tr>\n",
       "      <th>10715</th>\n",
       "      <td>178003</td>\n",
       "      <td>столовая</td>\n",
       "      <td>нет</td>\n",
       "      <td>столовая</td>\n",
       "      <td>2-я Брестская улица, дом 5, строение 1</td>\n",
       "      <td>30</td>\n",
       "      <td>дом 5</td>\n",
       "    </tr>\n",
       "    <tr>\n",
       "      <th>11615</th>\n",
       "      <td>175550</td>\n",
       "      <td>кафе «кофе &amp; молоко»</td>\n",
       "      <td>нет</td>\n",
       "      <td>кафе</td>\n",
       "      <td>улица Сергея Макеева, дом 9, строение 2</td>\n",
       "      <td>15</td>\n",
       "      <td>дом 9</td>\n",
       "    </tr>\n",
       "    <tr>\n",
       "      <th>11963</th>\n",
       "      <td>189558</td>\n",
       "      <td>гурман</td>\n",
       "      <td>да</td>\n",
       "      <td>ресторан</td>\n",
       "      <td>Киевская улица, дом 7</td>\n",
       "      <td>180</td>\n",
       "      <td>дом 7</td>\n",
       "    </tr>\n",
       "    <tr>\n",
       "      <th>12535</th>\n",
       "      <td>182624</td>\n",
       "      <td>ресторан «flat iron bar &amp; roadhouse»</td>\n",
       "      <td>нет</td>\n",
       "      <td>ресторан</td>\n",
       "      <td>Вознесенский переулок, дом 7, строение 1</td>\n",
       "      <td>75</td>\n",
       "      <td>дом 7</td>\n",
       "    </tr>\n",
       "    <tr>\n",
       "      <th>13184</th>\n",
       "      <td>192903</td>\n",
       "      <td>сабрина</td>\n",
       "      <td>нет</td>\n",
       "      <td>кафе</td>\n",
       "      <td>Бауманская улица, дом 7, строение 3</td>\n",
       "      <td>30</td>\n",
       "      <td>дом 7</td>\n",
       "    </tr>\n",
       "    <tr>\n",
       "      <th>13185</th>\n",
       "      <td>192918</td>\n",
       "      <td>limassol</td>\n",
       "      <td>нет</td>\n",
       "      <td>кафе</td>\n",
       "      <td>Бауманская улица, дом 7, строение 3</td>\n",
       "      <td>42</td>\n",
       "      <td>дом 7</td>\n",
       "    </tr>\n",
       "    <tr>\n",
       "      <th>14003</th>\n",
       "      <td>211986</td>\n",
       "      <td>fresh cafe</td>\n",
       "      <td>нет</td>\n",
       "      <td>кафе</td>\n",
       "      <td>Шарикоподшипниковская улица, дом 5, строение 1</td>\n",
       "      <td>42</td>\n",
       "      <td>дом 5</td>\n",
       "    </tr>\n",
       "  </tbody>\n",
       "</table>\n",
       "</div>"
      ],
      "text/plain": [
       "           id                           object_name chain object_type  \\\n",
       "7938    25019                        клуб высоцкого   нет        кафе   \n",
       "8771   144391                винный бар alma valley   нет         бар   \n",
       "8776    26477                       ресторан «2545»   нет    ресторан   \n",
       "8813   145235                          кафе при азс   нет        кафе   \n",
       "8842    19800                       набатчиков а.п.   нет       буфет   \n",
       "8854   140002                   ресторан «пальмира»   нет    ресторан   \n",
       "10010  171646            столовая - буфет при цатра   нет    столовая   \n",
       "10715  178003                              столовая   нет    столовая   \n",
       "11615  175550                  кафе «кофе & молоко»   нет        кафе   \n",
       "11963  189558                                гурман    да    ресторан   \n",
       "12535  182624  ресторан «flat iron bar & roadhouse»   нет    ресторан   \n",
       "13184  192903                               сабрина   нет        кафе   \n",
       "13185  192918                              limassol   нет        кафе   \n",
       "14003  211986                            fresh cafe   нет        кафе   \n",
       "\n",
       "                                              address  number street  \n",
       "7938        Нижний Таганский тупик, дом 3, строение 1      94  дом 3  \n",
       "8771             Погодинская улица, дом 4, строение 1      30  дом 4  \n",
       "8776           2-я Брестская улица, дом 1, строение 1      30  дом 1  \n",
       "8813                        проезд Добролюбова, дом 2       0  дом 2  \n",
       "8842   Проектируемый проезд N 5231, дом 8, строение 3      20  дом 8  \n",
       "8854                Новоданиловская набережная, дом 6      80  дом 6  \n",
       "10010                      Суворовская площадь, дом 2      40  дом 2  \n",
       "10715          2-я Брестская улица, дом 5, строение 1      30  дом 5  \n",
       "11615         улица Сергея Макеева, дом 9, строение 2      15  дом 9  \n",
       "11963                           Киевская улица, дом 7     180  дом 7  \n",
       "12535        Вознесенский переулок, дом 7, строение 1      75  дом 7  \n",
       "13184             Бауманская улица, дом 7, строение 3      30  дом 7  \n",
       "13185             Бауманская улица, дом 7, строение 3      42  дом 7  \n",
       "14003  Шарикоподшипниковская улица, дом 5, строение 1      42  дом 5  "
      ]
     },
     "execution_count": 23,
     "metadata": {},
     "output_type": "execute_result"
    }
   ],
   "source": [
    "data[data['street'].apply(len).lt(6)]"
   ]
  },
  {
   "cell_type": "code",
   "execution_count": 25,
   "metadata": {},
   "outputs": [
    {
     "data": {
      "text/plain": [
       "67"
      ]
     },
     "execution_count": 25,
     "metadata": {},
     "output_type": "execute_result"
    }
   ],
   "source": [
    "data['street'].str.contains('дом').sum() + data['street'].str.contains('владение').sum() "
   ]
  },
  {
   "cell_type": "code",
   "execution_count": 26,
   "metadata": {},
   "outputs": [
    {
     "name": "stdout",
     "output_type": "stream",
     "text": [
      "<class 'pandas.core.frame.DataFrame'>\n",
      "RangeIndex: 15366 entries, 0 to 15365\n",
      "Data columns (total 7 columns):\n",
      " #   Column       Non-Null Count  Dtype \n",
      "---  ------       --------------  ----- \n",
      " 0   id           15366 non-null  int64 \n",
      " 1   object_name  15366 non-null  object\n",
      " 2   chain        15366 non-null  object\n",
      " 3   object_type  15366 non-null  object\n",
      " 4   address      15366 non-null  object\n",
      " 5   number       15366 non-null  int64 \n",
      " 6   street       15366 non-null  object\n",
      "dtypes: int64(2), object(5)\n",
      "memory usage: 840.5+ KB\n"
     ]
    }
   ],
   "source": [
    "data.info()"
   ]
  },
  {
   "cell_type": "code",
   "execution_count": 27,
   "metadata": {},
   "outputs": [
    {
     "name": "stdout",
     "output_type": "stream",
     "text": [
      "Значения в street: ['1-й Автозаводский проезд' '1-й Амбулаторный проезд'\n",
      " '1-й Балтийский переулок' ... 'улица Яблочкова' 'шоссе Фрезер'\n",
      " 'шоссе Энтузиастов']\n",
      "Количество уникальных значений в street: 1900\n"
     ]
    }
   ],
   "source": [
    "#выделим уникальные наименования улиц и посчитаем их количество\n",
    "print('Значения в street:', data['street'].sort_values().unique())\n",
    "print('Количество уникальных значений в street:', data['street'].value_counts().count())"
   ]
  },
  {
   "cell_type": "markdown",
   "metadata": {},
   "source": [
    "Помимо наименований улиц, шоссе и проспектов в столбец улиц попали наименования поселений рядом с Москвой. Особого влияния на анализ данных заведений Москвы они не оказывают. На текущем этапе можно проигнорировать их в \"ручном\" режиме."
   ]
  },
  {
   "cell_type": "code",
   "execution_count": 31,
   "metadata": {},
   "outputs": [],
   "source": [
    "#чтобы определить местоположение улиц по района Москвы импортируем внешний файл\n",
    "from io import BytesIO\n",
    "import requests\n",
    "spreadsheet_id = '1cIY-nO_FkcSZEmAB_dQuCMkzKDrgbUg8x6xQnDMVQtg'\n",
    "file_name = 'https://docs.google.com/spreadsheets/d/{}/export?format=csv'.format(spreadsheet_id)\n",
    "r = requests.get(file_name)\n",
    "df = pd.read_csv(BytesIO(r.content))"
   ]
  },
  {
   "cell_type": "code",
   "execution_count": 32,
   "metadata": {},
   "outputs": [
    {
     "data": {
      "text/html": [
       "<div>\n",
       "<style scoped>\n",
       "    .dataframe tbody tr th:only-of-type {\n",
       "        vertical-align: middle;\n",
       "    }\n",
       "\n",
       "    .dataframe tbody tr th {\n",
       "        vertical-align: top;\n",
       "    }\n",
       "\n",
       "    .dataframe thead th {\n",
       "        text-align: right;\n",
       "    }\n",
       "</style>\n",
       "<table border=\"1\" class=\"dataframe\">\n",
       "  <thead>\n",
       "    <tr style=\"text-align: right;\">\n",
       "      <th></th>\n",
       "      <th>street</th>\n",
       "      <th>areaid</th>\n",
       "      <th>okrug</th>\n",
       "      <th>area</th>\n",
       "    </tr>\n",
       "  </thead>\n",
       "  <tbody>\n",
       "    <tr>\n",
       "      <th>0</th>\n",
       "      <td>Выставочный переулок</td>\n",
       "      <td>17</td>\n",
       "      <td>ЦАО</td>\n",
       "      <td>Пресненский район</td>\n",
       "    </tr>\n",
       "    <tr>\n",
       "      <th>1</th>\n",
       "      <td>улица Гашека</td>\n",
       "      <td>17</td>\n",
       "      <td>ЦАО</td>\n",
       "      <td>Пресненский район</td>\n",
       "    </tr>\n",
       "    <tr>\n",
       "      <th>2</th>\n",
       "      <td>Большая Никитская улица</td>\n",
       "      <td>17</td>\n",
       "      <td>ЦАО</td>\n",
       "      <td>Пресненский район</td>\n",
       "    </tr>\n",
       "  </tbody>\n",
       "</table>\n",
       "</div>"
      ],
      "text/plain": [
       "                    street  areaid okrug               area\n",
       "0     Выставочный переулок      17   ЦАО  Пресненский район\n",
       "1             улица Гашека      17   ЦАО  Пресненский район\n",
       "2  Большая Никитская улица      17   ЦАО  Пресненский район"
      ]
     },
     "metadata": {},
     "output_type": "display_data"
    },
    {
     "name": "stdout",
     "output_type": "stream",
     "text": [
      "<class 'pandas.core.frame.DataFrame'>\n",
      "RangeIndex: 4398 entries, 0 to 4397\n",
      "Data columns (total 4 columns):\n",
      " #   Column  Non-Null Count  Dtype \n",
      "---  ------  --------------  ----- \n",
      " 0   street  4398 non-null   object\n",
      " 1   areaid  4398 non-null   int64 \n",
      " 2   okrug   4398 non-null   object\n",
      " 3   area    4398 non-null   object\n",
      "dtypes: int64(1), object(3)\n",
      "memory usage: 137.6+ KB\n"
     ]
    }
   ],
   "source": [
    "#df.columns = map(str.lower, df.columns)\n",
    "df = df.rename(columns = {'streetname':'street'})\n",
    "display(df.head(3))\n",
    "df.info()"
   ]
  },
  {
   "cell_type": "code",
   "execution_count": 33,
   "metadata": {
    "scrolled": false
   },
   "outputs": [
    {
     "data": {
      "text/html": [
       "<div>\n",
       "<style scoped>\n",
       "    .dataframe tbody tr th:only-of-type {\n",
       "        vertical-align: middle;\n",
       "    }\n",
       "\n",
       "    .dataframe tbody tr th {\n",
       "        vertical-align: top;\n",
       "    }\n",
       "\n",
       "    .dataframe thead th {\n",
       "        text-align: right;\n",
       "    }\n",
       "</style>\n",
       "<table border=\"1\" class=\"dataframe\">\n",
       "  <thead>\n",
       "    <tr style=\"text-align: right;\">\n",
       "      <th></th>\n",
       "      <th>id</th>\n",
       "      <th>object_name</th>\n",
       "      <th>chain</th>\n",
       "      <th>object_type</th>\n",
       "      <th>address</th>\n",
       "      <th>number</th>\n",
       "      <th>street</th>\n",
       "      <th>areaid</th>\n",
       "      <th>okrug</th>\n",
       "      <th>area</th>\n",
       "    </tr>\n",
       "  </thead>\n",
       "  <tbody>\n",
       "    <tr>\n",
       "      <th>0</th>\n",
       "      <td>151635</td>\n",
       "      <td>сметана</td>\n",
       "      <td>нет</td>\n",
       "      <td>кафе</td>\n",
       "      <td>город Москва, улица Егора Абакумова, дом 9</td>\n",
       "      <td>48</td>\n",
       "      <td>улица Егора Абакумова</td>\n",
       "      <td>86.0</td>\n",
       "      <td>СВАО</td>\n",
       "      <td>Ярославский Район</td>\n",
       "    </tr>\n",
       "    <tr>\n",
       "      <th>1</th>\n",
       "      <td>77874</td>\n",
       "      <td>родник</td>\n",
       "      <td>нет</td>\n",
       "      <td>кафе</td>\n",
       "      <td>город Москва, улица Талалихина, дом 2/1, корпус 1</td>\n",
       "      <td>35</td>\n",
       "      <td>улица Талалихина</td>\n",
       "      <td>18.0</td>\n",
       "      <td>ЦАО</td>\n",
       "      <td>Таганский район</td>\n",
       "    </tr>\n",
       "    <tr>\n",
       "      <th>2</th>\n",
       "      <td>77874</td>\n",
       "      <td>родник</td>\n",
       "      <td>нет</td>\n",
       "      <td>кафе</td>\n",
       "      <td>город Москва, улица Талалихина, дом 2/1, корпус 1</td>\n",
       "      <td>35</td>\n",
       "      <td>улица Талалихина</td>\n",
       "      <td>117.0</td>\n",
       "      <td>ЮВАО</td>\n",
       "      <td>Нижегородский район</td>\n",
       "    </tr>\n",
       "    <tr>\n",
       "      <th>3</th>\n",
       "      <td>77874</td>\n",
       "      <td>родник</td>\n",
       "      <td>нет</td>\n",
       "      <td>кафе</td>\n",
       "      <td>город Москва, улица Талалихина, дом 2/1, корпус 1</td>\n",
       "      <td>35</td>\n",
       "      <td>улица Талалихина</td>\n",
       "      <td>133.0</td>\n",
       "      <td>ЮЗАО</td>\n",
       "      <td>Район Южное Бутово</td>\n",
       "    </tr>\n",
       "    <tr>\n",
       "      <th>4</th>\n",
       "      <td>24309</td>\n",
       "      <td>кафе «академия»</td>\n",
       "      <td>нет</td>\n",
       "      <td>кафе</td>\n",
       "      <td>город Москва, Абельмановская улица, дом 6</td>\n",
       "      <td>95</td>\n",
       "      <td>Абельмановская улица</td>\n",
       "      <td>18.0</td>\n",
       "      <td>ЦАО</td>\n",
       "      <td>Таганский район</td>\n",
       "    </tr>\n",
       "  </tbody>\n",
       "</table>\n",
       "</div>"
      ],
      "text/plain": [
       "       id      object_name chain object_type  \\\n",
       "0  151635          сметана   нет        кафе   \n",
       "1   77874           родник   нет        кафе   \n",
       "2   77874           родник   нет        кафе   \n",
       "3   77874           родник   нет        кафе   \n",
       "4   24309  кафе «академия»   нет        кафе   \n",
       "\n",
       "                                             address  number  \\\n",
       "0         город Москва, улица Егора Абакумова, дом 9      48   \n",
       "1  город Москва, улица Талалихина, дом 2/1, корпус 1      35   \n",
       "2  город Москва, улица Талалихина, дом 2/1, корпус 1      35   \n",
       "3  город Москва, улица Талалихина, дом 2/1, корпус 1      35   \n",
       "4          город Москва, Абельмановская улица, дом 6      95   \n",
       "\n",
       "                  street  areaid okrug                 area  \n",
       "0  улица Егора Абакумова    86.0  СВАО    Ярославский Район  \n",
       "1       улица Талалихина    18.0   ЦАО      Таганский район  \n",
       "2       улица Талалихина   117.0  ЮВАО  Нижегородский район  \n",
       "3       улица Талалихина   133.0  ЮЗАО   Район Южное Бутово  \n",
       "4   Абельмановская улица    18.0   ЦАО      Таганский район  "
      ]
     },
     "metadata": {},
     "output_type": "display_data"
    }
   ],
   "source": [
    "data_merged=data.merge(df.drop_duplicates(), how='left', on='street')\n",
    "display(data_merged.head())\n",
    "#.drop_duplicates()"
   ]
  },
  {
   "cell_type": "code",
   "execution_count": 34,
   "metadata": {},
   "outputs": [
    {
     "data": {
      "text/html": [
       "<div>\n",
       "<style scoped>\n",
       "    .dataframe tbody tr th:only-of-type {\n",
       "        vertical-align: middle;\n",
       "    }\n",
       "\n",
       "    .dataframe tbody tr th {\n",
       "        vertical-align: top;\n",
       "    }\n",
       "\n",
       "    .dataframe thead th {\n",
       "        text-align: right;\n",
       "    }\n",
       "</style>\n",
       "<table border=\"1\" class=\"dataframe\">\n",
       "  <thead>\n",
       "    <tr style=\"text-align: right;\">\n",
       "      <th></th>\n",
       "      <th>street</th>\n",
       "      <th>area</th>\n",
       "      <th>id</th>\n",
       "    </tr>\n",
       "  </thead>\n",
       "  <tbody>\n",
       "    <tr>\n",
       "      <th>1651</th>\n",
       "      <td>город Зеленоград</td>\n",
       "      <td>Панфиловский район</td>\n",
       "      <td>232</td>\n",
       "    </tr>\n",
       "    <tr>\n",
       "      <th>1652</th>\n",
       "      <td>город Зеленоград</td>\n",
       "      <td>Район Крюково</td>\n",
       "      <td>232</td>\n",
       "    </tr>\n",
       "    <tr>\n",
       "      <th>1653</th>\n",
       "      <td>город Зеленоград</td>\n",
       "      <td>Район Матушкино-Савелки</td>\n",
       "      <td>232</td>\n",
       "    </tr>\n",
       "    <tr>\n",
       "      <th>1714</th>\n",
       "      <td>проспект Мира</td>\n",
       "      <td>Алексеевский район</td>\n",
       "      <td>204</td>\n",
       "    </tr>\n",
       "    <tr>\n",
       "      <th>1720</th>\n",
       "      <td>проспект Мира</td>\n",
       "      <td>Ярославский Район</td>\n",
       "      <td>204</td>\n",
       "    </tr>\n",
       "    <tr>\n",
       "      <th>1719</th>\n",
       "      <td>проспект Мира</td>\n",
       "      <td>Район Свиблово</td>\n",
       "      <td>204</td>\n",
       "    </tr>\n",
       "    <tr>\n",
       "      <th>1715</th>\n",
       "      <td>проспект Мира</td>\n",
       "      <td>Мещанский район</td>\n",
       "      <td>204</td>\n",
       "    </tr>\n",
       "    <tr>\n",
       "      <th>1716</th>\n",
       "      <td>проспект Мира</td>\n",
       "      <td>Останкинский район</td>\n",
       "      <td>204</td>\n",
       "    </tr>\n",
       "    <tr>\n",
       "      <th>1717</th>\n",
       "      <td>проспект Мира</td>\n",
       "      <td>Район Марьина роща</td>\n",
       "      <td>204</td>\n",
       "    </tr>\n",
       "    <tr>\n",
       "      <th>1718</th>\n",
       "      <td>проспект Мира</td>\n",
       "      <td>Район Ростокино</td>\n",
       "      <td>204</td>\n",
       "    </tr>\n",
       "    <tr>\n",
       "      <th>1225</th>\n",
       "      <td>Профсоюзная улица</td>\n",
       "      <td>Район Коньково</td>\n",
       "      <td>182</td>\n",
       "    </tr>\n",
       "    <tr>\n",
       "      <th>1223</th>\n",
       "      <td>Профсоюзная улица</td>\n",
       "      <td>Академический район</td>\n",
       "      <td>182</td>\n",
       "    </tr>\n",
       "    <tr>\n",
       "      <th>1224</th>\n",
       "      <td>Профсоюзная улица</td>\n",
       "      <td>Обручевский район</td>\n",
       "      <td>182</td>\n",
       "    </tr>\n",
       "    <tr>\n",
       "      <th>1228</th>\n",
       "      <td>Профсоюзная улица</td>\n",
       "      <td>Район Ясенево</td>\n",
       "      <td>182</td>\n",
       "    </tr>\n",
       "    <tr>\n",
       "      <th>1227</th>\n",
       "      <td>Профсоюзная улица</td>\n",
       "      <td>Район Черемушки</td>\n",
       "      <td>182</td>\n",
       "    </tr>\n",
       "    <tr>\n",
       "      <th>1226</th>\n",
       "      <td>Профсоюзная улица</td>\n",
       "      <td>Район Теплый Стан</td>\n",
       "      <td>182</td>\n",
       "    </tr>\n",
       "    <tr>\n",
       "      <th>817</th>\n",
       "      <td>Ленинградский проспект</td>\n",
       "      <td>Район Беговой</td>\n",
       "      <td>171</td>\n",
       "    </tr>\n",
       "    <tr>\n",
       "      <th>818</th>\n",
       "      <td>Ленинградский проспект</td>\n",
       "      <td>Район Сокол</td>\n",
       "      <td>171</td>\n",
       "    </tr>\n",
       "    <tr>\n",
       "      <th>819</th>\n",
       "      <td>Ленинградский проспект</td>\n",
       "      <td>Хорошевский район</td>\n",
       "      <td>171</td>\n",
       "    </tr>\n",
       "    <tr>\n",
       "      <th>816</th>\n",
       "      <td>Ленинградский проспект</td>\n",
       "      <td>Район Аэропорт</td>\n",
       "      <td>171</td>\n",
       "    </tr>\n",
       "    <tr>\n",
       "      <th>1204</th>\n",
       "      <td>Пресненская набережная</td>\n",
       "      <td>Пресненский район</td>\n",
       "      <td>167</td>\n",
       "    </tr>\n",
       "    <tr>\n",
       "      <th>456</th>\n",
       "      <td>Варшавское шоссе</td>\n",
       "      <td>Район Чертаново Северное</td>\n",
       "      <td>161</td>\n",
       "    </tr>\n",
       "    <tr>\n",
       "      <th>452</th>\n",
       "      <td>Варшавское шоссе</td>\n",
       "      <td>Донской район</td>\n",
       "      <td>161</td>\n",
       "    </tr>\n",
       "    <tr>\n",
       "      <th>453</th>\n",
       "      <td>Варшавское шоссе</td>\n",
       "      <td>Нагорный район</td>\n",
       "      <td>161</td>\n",
       "    </tr>\n",
       "    <tr>\n",
       "      <th>459</th>\n",
       "      <td>Варшавское шоссе</td>\n",
       "      <td>Район Южное Бутово</td>\n",
       "      <td>161</td>\n",
       "    </tr>\n",
       "    <tr>\n",
       "      <th>454</th>\n",
       "      <td>Варшавское шоссе</td>\n",
       "      <td>Район Нагатино-Садовники</td>\n",
       "      <td>161</td>\n",
       "    </tr>\n",
       "    <tr>\n",
       "      <th>455</th>\n",
       "      <td>Варшавское шоссе</td>\n",
       "      <td>Район Северное Бутово</td>\n",
       "      <td>161</td>\n",
       "    </tr>\n",
       "    <tr>\n",
       "      <th>458</th>\n",
       "      <td>Варшавское шоссе</td>\n",
       "      <td>Район Чертаново Южное</td>\n",
       "      <td>161</td>\n",
       "    </tr>\n",
       "    <tr>\n",
       "      <th>457</th>\n",
       "      <td>Варшавское шоссе</td>\n",
       "      <td>Район Чертаново Центральное</td>\n",
       "      <td>161</td>\n",
       "    </tr>\n",
       "    <tr>\n",
       "      <th>834</th>\n",
       "      <td>Ленинский проспект</td>\n",
       "      <td>Район Якиманка</td>\n",
       "      <td>147</td>\n",
       "    </tr>\n",
       "    <tr>\n",
       "      <th>829</th>\n",
       "      <td>Ленинский проспект</td>\n",
       "      <td>Обручевский район</td>\n",
       "      <td>147</td>\n",
       "    </tr>\n",
       "    <tr>\n",
       "      <th>828</th>\n",
       "      <td>Ленинский проспект</td>\n",
       "      <td>Ломоносовский район</td>\n",
       "      <td>147</td>\n",
       "    </tr>\n",
       "    <tr>\n",
       "      <th>827</th>\n",
       "      <td>Ленинский проспект</td>\n",
       "      <td>Донской район</td>\n",
       "      <td>147</td>\n",
       "    </tr>\n",
       "    <tr>\n",
       "      <th>831</th>\n",
       "      <td>Ленинский проспект</td>\n",
       "      <td>Район Проспект Вернадского</td>\n",
       "      <td>147</td>\n",
       "    </tr>\n",
       "    <tr>\n",
       "      <th>830</th>\n",
       "      <td>Ленинский проспект</td>\n",
       "      <td>Район Гагаринский</td>\n",
       "      <td>147</td>\n",
       "    </tr>\n",
       "    <tr>\n",
       "      <th>832</th>\n",
       "      <td>Ленинский проспект</td>\n",
       "      <td>Район Теплый Стан</td>\n",
       "      <td>147</td>\n",
       "    </tr>\n",
       "    <tr>\n",
       "      <th>833</th>\n",
       "      <td>Ленинский проспект</td>\n",
       "      <td>Район Тропарево-Никулино</td>\n",
       "      <td>147</td>\n",
       "    </tr>\n",
       "    <tr>\n",
       "      <th>1712</th>\n",
       "      <td>проспект Вернадского</td>\n",
       "      <td>Район Тропарево-Никулино</td>\n",
       "      <td>132</td>\n",
       "    </tr>\n",
       "    <tr>\n",
       "      <th>1711</th>\n",
       "      <td>проспект Вернадского</td>\n",
       "      <td>Район Раменки</td>\n",
       "      <td>132</td>\n",
       "    </tr>\n",
       "    <tr>\n",
       "      <th>1710</th>\n",
       "      <td>проспект Вернадского</td>\n",
       "      <td>Район Проспект Вернадского</td>\n",
       "      <td>132</td>\n",
       "    </tr>\n",
       "    <tr>\n",
       "      <th>1709</th>\n",
       "      <td>проспект Вернадского</td>\n",
       "      <td>Район Гагаринский</td>\n",
       "      <td>132</td>\n",
       "    </tr>\n",
       "    <tr>\n",
       "      <th>1708</th>\n",
       "      <td>проспект Вернадского</td>\n",
       "      <td>Ломоносовский район</td>\n",
       "      <td>132</td>\n",
       "    </tr>\n",
       "    <tr>\n",
       "      <th>805</th>\n",
       "      <td>Кутузовский проспект</td>\n",
       "      <td>Район Фили-Давыдково</td>\n",
       "      <td>114</td>\n",
       "    </tr>\n",
       "    <tr>\n",
       "      <th>804</th>\n",
       "      <td>Кутузовский проспект</td>\n",
       "      <td>Район Дорогомилово</td>\n",
       "      <td>114</td>\n",
       "    </tr>\n",
       "    <tr>\n",
       "      <th>710</th>\n",
       "      <td>Каширское шоссе</td>\n",
       "      <td>Район Москворечье-Сабурово</td>\n",
       "      <td>112</td>\n",
       "    </tr>\n",
       "    <tr>\n",
       "      <th>713</th>\n",
       "      <td>Каширское шоссе</td>\n",
       "      <td>Район Орехово-Борисово Южное</td>\n",
       "      <td>112</td>\n",
       "    </tr>\n",
       "    <tr>\n",
       "      <th>712</th>\n",
       "      <td>Каширское шоссе</td>\n",
       "      <td>Район Орехово-Борисово Северное</td>\n",
       "      <td>112</td>\n",
       "    </tr>\n",
       "    <tr>\n",
       "      <th>711</th>\n",
       "      <td>Каширское шоссе</td>\n",
       "      <td>Район Нагатино-Садовники</td>\n",
       "      <td>112</td>\n",
       "    </tr>\n",
       "  </tbody>\n",
       "</table>\n",
       "</div>"
      ],
      "text/plain": [
       "                      street                             area   id\n",
       "1651        город Зеленоград               Панфиловский район  232\n",
       "1652        город Зеленоград                    Район Крюково  232\n",
       "1653        город Зеленоград          Район Матушкино-Савелки  232\n",
       "1714           проспект Мира               Алексеевский район  204\n",
       "1720           проспект Мира                Ярославский Район  204\n",
       "1719           проспект Мира                   Район Свиблово  204\n",
       "1715           проспект Мира                  Мещанский район  204\n",
       "1716           проспект Мира               Останкинский район  204\n",
       "1717           проспект Мира               Район Марьина роща  204\n",
       "1718           проспект Мира                  Район Ростокино  204\n",
       "1225       Профсоюзная улица                   Район Коньково  182\n",
       "1223       Профсоюзная улица              Академический район  182\n",
       "1224       Профсоюзная улица                Обручевский район  182\n",
       "1228       Профсоюзная улица                    Район Ясенево  182\n",
       "1227       Профсоюзная улица                  Район Черемушки  182\n",
       "1226       Профсоюзная улица                Район Теплый Стан  182\n",
       "817   Ленинградский проспект                    Район Беговой  171\n",
       "818   Ленинградский проспект                      Район Сокол  171\n",
       "819   Ленинградский проспект                Хорошевский район  171\n",
       "816   Ленинградский проспект                   Район Аэропорт  171\n",
       "1204  Пресненская набережная                Пресненский район  167\n",
       "456         Варшавское шоссе         Район Чертаново Северное  161\n",
       "452         Варшавское шоссе                    Донской район  161\n",
       "453         Варшавское шоссе                   Нагорный район  161\n",
       "459         Варшавское шоссе               Район Южное Бутово  161\n",
       "454         Варшавское шоссе         Район Нагатино-Садовники  161\n",
       "455         Варшавское шоссе            Район Северное Бутово  161\n",
       "458         Варшавское шоссе            Район Чертаново Южное  161\n",
       "457         Варшавское шоссе      Район Чертаново Центральное  161\n",
       "834       Ленинский проспект                   Район Якиманка  147\n",
       "829       Ленинский проспект                Обручевский район  147\n",
       "828       Ленинский проспект              Ломоносовский район  147\n",
       "827       Ленинский проспект                    Донской район  147\n",
       "831       Ленинский проспект       Район Проспект Вернадского  147\n",
       "830       Ленинский проспект                Район Гагаринский  147\n",
       "832       Ленинский проспект                Район Теплый Стан  147\n",
       "833       Ленинский проспект         Район Тропарево-Никулино  147\n",
       "1712    проспект Вернадского         Район Тропарево-Никулино  132\n",
       "1711    проспект Вернадского                    Район Раменки  132\n",
       "1710    проспект Вернадского       Район Проспект Вернадского  132\n",
       "1709    проспект Вернадского                Район Гагаринский  132\n",
       "1708    проспект Вернадского              Ломоносовский район  132\n",
       "805     Кутузовский проспект             Район Фили-Давыдково  114\n",
       "804     Кутузовский проспект               Район Дорогомилово  114\n",
       "710          Каширское шоссе       Район Москворечье-Сабурово  112\n",
       "713          Каширское шоссе     Район Орехово-Борисово Южное  112\n",
       "712          Каширское шоссе  Район Орехово-Борисово Северное  112\n",
       "711          Каширское шоссе         Район Нагатино-Садовники  112"
      ]
     },
     "metadata": {},
     "output_type": "display_data"
    },
    {
     "data": {
      "text/html": [
       "<div>\n",
       "<style scoped>\n",
       "    .dataframe tbody tr th:only-of-type {\n",
       "        vertical-align: middle;\n",
       "    }\n",
       "\n",
       "    .dataframe tbody tr th {\n",
       "        vertical-align: top;\n",
       "    }\n",
       "\n",
       "    .dataframe thead th {\n",
       "        text-align: right;\n",
       "    }\n",
       "</style>\n",
       "<table border=\"1\" class=\"dataframe\">\n",
       "  <thead>\n",
       "    <tr style=\"text-align: right;\">\n",
       "      <th></th>\n",
       "      <th>street</th>\n",
       "      <th>area</th>\n",
       "      <th>id</th>\n",
       "    </tr>\n",
       "  </thead>\n",
       "  <tbody>\n",
       "    <tr>\n",
       "      <th>1223</th>\n",
       "      <td>Профсоюзная улица</td>\n",
       "      <td>Академический район</td>\n",
       "      <td>182</td>\n",
       "    </tr>\n",
       "    <tr>\n",
       "      <th>1714</th>\n",
       "      <td>проспект Мира</td>\n",
       "      <td>Алексеевский район</td>\n",
       "      <td>204</td>\n",
       "    </tr>\n",
       "    <tr>\n",
       "      <th>827</th>\n",
       "      <td>Ленинский проспект</td>\n",
       "      <td>Донской район</td>\n",
       "      <td>147</td>\n",
       "    </tr>\n",
       "    <tr>\n",
       "      <th>452</th>\n",
       "      <td>Варшавское шоссе</td>\n",
       "      <td>Донской район</td>\n",
       "      <td>161</td>\n",
       "    </tr>\n",
       "    <tr>\n",
       "      <th>1708</th>\n",
       "      <td>проспект Вернадского</td>\n",
       "      <td>Ломоносовский район</td>\n",
       "      <td>132</td>\n",
       "    </tr>\n",
       "    <tr>\n",
       "      <th>828</th>\n",
       "      <td>Ленинский проспект</td>\n",
       "      <td>Ломоносовский район</td>\n",
       "      <td>147</td>\n",
       "    </tr>\n",
       "    <tr>\n",
       "      <th>1715</th>\n",
       "      <td>проспект Мира</td>\n",
       "      <td>Мещанский район</td>\n",
       "      <td>204</td>\n",
       "    </tr>\n",
       "    <tr>\n",
       "      <th>453</th>\n",
       "      <td>Варшавское шоссе</td>\n",
       "      <td>Нагорный район</td>\n",
       "      <td>161</td>\n",
       "    </tr>\n",
       "    <tr>\n",
       "      <th>829</th>\n",
       "      <td>Ленинский проспект</td>\n",
       "      <td>Обручевский район</td>\n",
       "      <td>147</td>\n",
       "    </tr>\n",
       "    <tr>\n",
       "      <th>1224</th>\n",
       "      <td>Профсоюзная улица</td>\n",
       "      <td>Обручевский район</td>\n",
       "      <td>182</td>\n",
       "    </tr>\n",
       "    <tr>\n",
       "      <th>1716</th>\n",
       "      <td>проспект Мира</td>\n",
       "      <td>Останкинский район</td>\n",
       "      <td>204</td>\n",
       "    </tr>\n",
       "    <tr>\n",
       "      <th>1651</th>\n",
       "      <td>город Зеленоград</td>\n",
       "      <td>Панфиловский район</td>\n",
       "      <td>232</td>\n",
       "    </tr>\n",
       "    <tr>\n",
       "      <th>1204</th>\n",
       "      <td>Пресненская набережная</td>\n",
       "      <td>Пресненский район</td>\n",
       "      <td>167</td>\n",
       "    </tr>\n",
       "    <tr>\n",
       "      <th>816</th>\n",
       "      <td>Ленинградский проспект</td>\n",
       "      <td>Район Аэропорт</td>\n",
       "      <td>171</td>\n",
       "    </tr>\n",
       "    <tr>\n",
       "      <th>817</th>\n",
       "      <td>Ленинградский проспект</td>\n",
       "      <td>Район Беговой</td>\n",
       "      <td>171</td>\n",
       "    </tr>\n",
       "    <tr>\n",
       "      <th>830</th>\n",
       "      <td>Ленинский проспект</td>\n",
       "      <td>Район Гагаринский</td>\n",
       "      <td>147</td>\n",
       "    </tr>\n",
       "    <tr>\n",
       "      <th>1709</th>\n",
       "      <td>проспект Вернадского</td>\n",
       "      <td>Район Гагаринский</td>\n",
       "      <td>132</td>\n",
       "    </tr>\n",
       "    <tr>\n",
       "      <th>804</th>\n",
       "      <td>Кутузовский проспект</td>\n",
       "      <td>Район Дорогомилово</td>\n",
       "      <td>114</td>\n",
       "    </tr>\n",
       "    <tr>\n",
       "      <th>1225</th>\n",
       "      <td>Профсоюзная улица</td>\n",
       "      <td>Район Коньково</td>\n",
       "      <td>182</td>\n",
       "    </tr>\n",
       "    <tr>\n",
       "      <th>1652</th>\n",
       "      <td>город Зеленоград</td>\n",
       "      <td>Район Крюково</td>\n",
       "      <td>232</td>\n",
       "    </tr>\n",
       "    <tr>\n",
       "      <th>1717</th>\n",
       "      <td>проспект Мира</td>\n",
       "      <td>Район Марьина роща</td>\n",
       "      <td>204</td>\n",
       "    </tr>\n",
       "    <tr>\n",
       "      <th>1653</th>\n",
       "      <td>город Зеленоград</td>\n",
       "      <td>Район Матушкино-Савелки</td>\n",
       "      <td>232</td>\n",
       "    </tr>\n",
       "    <tr>\n",
       "      <th>710</th>\n",
       "      <td>Каширское шоссе</td>\n",
       "      <td>Район Москворечье-Сабурово</td>\n",
       "      <td>112</td>\n",
       "    </tr>\n",
       "    <tr>\n",
       "      <th>454</th>\n",
       "      <td>Варшавское шоссе</td>\n",
       "      <td>Район Нагатино-Садовники</td>\n",
       "      <td>161</td>\n",
       "    </tr>\n",
       "    <tr>\n",
       "      <th>711</th>\n",
       "      <td>Каширское шоссе</td>\n",
       "      <td>Район Нагатино-Садовники</td>\n",
       "      <td>112</td>\n",
       "    </tr>\n",
       "    <tr>\n",
       "      <th>712</th>\n",
       "      <td>Каширское шоссе</td>\n",
       "      <td>Район Орехово-Борисово Северное</td>\n",
       "      <td>112</td>\n",
       "    </tr>\n",
       "    <tr>\n",
       "      <th>713</th>\n",
       "      <td>Каширское шоссе</td>\n",
       "      <td>Район Орехово-Борисово Южное</td>\n",
       "      <td>112</td>\n",
       "    </tr>\n",
       "    <tr>\n",
       "      <th>1710</th>\n",
       "      <td>проспект Вернадского</td>\n",
       "      <td>Район Проспект Вернадского</td>\n",
       "      <td>132</td>\n",
       "    </tr>\n",
       "    <tr>\n",
       "      <th>831</th>\n",
       "      <td>Ленинский проспект</td>\n",
       "      <td>Район Проспект Вернадского</td>\n",
       "      <td>147</td>\n",
       "    </tr>\n",
       "    <tr>\n",
       "      <th>1711</th>\n",
       "      <td>проспект Вернадского</td>\n",
       "      <td>Район Раменки</td>\n",
       "      <td>132</td>\n",
       "    </tr>\n",
       "    <tr>\n",
       "      <th>1718</th>\n",
       "      <td>проспект Мира</td>\n",
       "      <td>Район Ростокино</td>\n",
       "      <td>204</td>\n",
       "    </tr>\n",
       "    <tr>\n",
       "      <th>1719</th>\n",
       "      <td>проспект Мира</td>\n",
       "      <td>Район Свиблово</td>\n",
       "      <td>204</td>\n",
       "    </tr>\n",
       "    <tr>\n",
       "      <th>455</th>\n",
       "      <td>Варшавское шоссе</td>\n",
       "      <td>Район Северное Бутово</td>\n",
       "      <td>161</td>\n",
       "    </tr>\n",
       "    <tr>\n",
       "      <th>818</th>\n",
       "      <td>Ленинградский проспект</td>\n",
       "      <td>Район Сокол</td>\n",
       "      <td>171</td>\n",
       "    </tr>\n",
       "    <tr>\n",
       "      <th>832</th>\n",
       "      <td>Ленинский проспект</td>\n",
       "      <td>Район Теплый Стан</td>\n",
       "      <td>147</td>\n",
       "    </tr>\n",
       "    <tr>\n",
       "      <th>1226</th>\n",
       "      <td>Профсоюзная улица</td>\n",
       "      <td>Район Теплый Стан</td>\n",
       "      <td>182</td>\n",
       "    </tr>\n",
       "    <tr>\n",
       "      <th>833</th>\n",
       "      <td>Ленинский проспект</td>\n",
       "      <td>Район Тропарево-Никулино</td>\n",
       "      <td>147</td>\n",
       "    </tr>\n",
       "    <tr>\n",
       "      <th>1712</th>\n",
       "      <td>проспект Вернадского</td>\n",
       "      <td>Район Тропарево-Никулино</td>\n",
       "      <td>132</td>\n",
       "    </tr>\n",
       "    <tr>\n",
       "      <th>805</th>\n",
       "      <td>Кутузовский проспект</td>\n",
       "      <td>Район Фили-Давыдково</td>\n",
       "      <td>114</td>\n",
       "    </tr>\n",
       "    <tr>\n",
       "      <th>1227</th>\n",
       "      <td>Профсоюзная улица</td>\n",
       "      <td>Район Черемушки</td>\n",
       "      <td>182</td>\n",
       "    </tr>\n",
       "    <tr>\n",
       "      <th>456</th>\n",
       "      <td>Варшавское шоссе</td>\n",
       "      <td>Район Чертаново Северное</td>\n",
       "      <td>161</td>\n",
       "    </tr>\n",
       "    <tr>\n",
       "      <th>457</th>\n",
       "      <td>Варшавское шоссе</td>\n",
       "      <td>Район Чертаново Центральное</td>\n",
       "      <td>161</td>\n",
       "    </tr>\n",
       "    <tr>\n",
       "      <th>458</th>\n",
       "      <td>Варшавское шоссе</td>\n",
       "      <td>Район Чертаново Южное</td>\n",
       "      <td>161</td>\n",
       "    </tr>\n",
       "    <tr>\n",
       "      <th>459</th>\n",
       "      <td>Варшавское шоссе</td>\n",
       "      <td>Район Южное Бутово</td>\n",
       "      <td>161</td>\n",
       "    </tr>\n",
       "    <tr>\n",
       "      <th>834</th>\n",
       "      <td>Ленинский проспект</td>\n",
       "      <td>Район Якиманка</td>\n",
       "      <td>147</td>\n",
       "    </tr>\n",
       "    <tr>\n",
       "      <th>1228</th>\n",
       "      <td>Профсоюзная улица</td>\n",
       "      <td>Район Ясенево</td>\n",
       "      <td>182</td>\n",
       "    </tr>\n",
       "    <tr>\n",
       "      <th>819</th>\n",
       "      <td>Ленинградский проспект</td>\n",
       "      <td>Хорошевский район</td>\n",
       "      <td>171</td>\n",
       "    </tr>\n",
       "    <tr>\n",
       "      <th>1720</th>\n",
       "      <td>проспект Мира</td>\n",
       "      <td>Ярославский Район</td>\n",
       "      <td>204</td>\n",
       "    </tr>\n",
       "  </tbody>\n",
       "</table>\n",
       "</div>"
      ],
      "text/plain": [
       "                      street                             area   id\n",
       "1223       Профсоюзная улица              Академический район  182\n",
       "1714           проспект Мира               Алексеевский район  204\n",
       "827       Ленинский проспект                    Донской район  147\n",
       "452         Варшавское шоссе                    Донской район  161\n",
       "1708    проспект Вернадского              Ломоносовский район  132\n",
       "828       Ленинский проспект              Ломоносовский район  147\n",
       "1715           проспект Мира                  Мещанский район  204\n",
       "453         Варшавское шоссе                   Нагорный район  161\n",
       "829       Ленинский проспект                Обручевский район  147\n",
       "1224       Профсоюзная улица                Обручевский район  182\n",
       "1716           проспект Мира               Останкинский район  204\n",
       "1651        город Зеленоград               Панфиловский район  232\n",
       "1204  Пресненская набережная                Пресненский район  167\n",
       "816   Ленинградский проспект                   Район Аэропорт  171\n",
       "817   Ленинградский проспект                    Район Беговой  171\n",
       "830       Ленинский проспект                Район Гагаринский  147\n",
       "1709    проспект Вернадского                Район Гагаринский  132\n",
       "804     Кутузовский проспект               Район Дорогомилово  114\n",
       "1225       Профсоюзная улица                   Район Коньково  182\n",
       "1652        город Зеленоград                    Район Крюково  232\n",
       "1717           проспект Мира               Район Марьина роща  204\n",
       "1653        город Зеленоград          Район Матушкино-Савелки  232\n",
       "710          Каширское шоссе       Район Москворечье-Сабурово  112\n",
       "454         Варшавское шоссе         Район Нагатино-Садовники  161\n",
       "711          Каширское шоссе         Район Нагатино-Садовники  112\n",
       "712          Каширское шоссе  Район Орехово-Борисово Северное  112\n",
       "713          Каширское шоссе     Район Орехово-Борисово Южное  112\n",
       "1710    проспект Вернадского       Район Проспект Вернадского  132\n",
       "831       Ленинский проспект       Район Проспект Вернадского  147\n",
       "1711    проспект Вернадского                    Район Раменки  132\n",
       "1718           проспект Мира                  Район Ростокино  204\n",
       "1719           проспект Мира                   Район Свиблово  204\n",
       "455         Варшавское шоссе            Район Северное Бутово  161\n",
       "818   Ленинградский проспект                      Район Сокол  171\n",
       "832       Ленинский проспект                Район Теплый Стан  147\n",
       "1226       Профсоюзная улица                Район Теплый Стан  182\n",
       "833       Ленинский проспект         Район Тропарево-Никулино  147\n",
       "1712    проспект Вернадского         Район Тропарево-Никулино  132\n",
       "805     Кутузовский проспект             Район Фили-Давыдково  114\n",
       "1227       Профсоюзная улица                  Район Черемушки  182\n",
       "456         Варшавское шоссе         Район Чертаново Северное  161\n",
       "457         Варшавское шоссе      Район Чертаново Центральное  161\n",
       "458         Варшавское шоссе            Район Чертаново Южное  161\n",
       "459         Варшавское шоссе               Район Южное Бутово  161\n",
       "834       Ленинский проспект                   Район Якиманка  147\n",
       "1228       Профсоюзная улица                    Район Ясенево  182\n",
       "819   Ленинградский проспект                Хорошевский район  171\n",
       "1720           проспект Мира                Ярославский Район  204"
      ]
     },
     "metadata": {},
     "output_type": "display_data"
    }
   ],
   "source": [
    "street_rest_qnt = data_merged.groupby(['street','area'])['id'].count().reset_index().sort_values(by='id', ascending=False)\n",
    "top_streets = street_rest_qnt.head(48)\n",
    "display(top_streets)\n",
    "display(top_streets.sort_values(by='area'))"
   ]
  },
  {
   "cell_type": "code",
   "execution_count": 35,
   "metadata": {},
   "outputs": [
    {
     "data": {
      "text/html": [
       "<div>\n",
       "<style scoped>\n",
       "    .dataframe tbody tr th:only-of-type {\n",
       "        vertical-align: middle;\n",
       "    }\n",
       "\n",
       "    .dataframe tbody tr th {\n",
       "        vertical-align: top;\n",
       "    }\n",
       "\n",
       "    .dataframe thead tr th {\n",
       "        text-align: left;\n",
       "    }\n",
       "\n",
       "    .dataframe thead tr:last-of-type th {\n",
       "        text-align: right;\n",
       "    }\n",
       "</style>\n",
       "<table border=\"1\" class=\"dataframe\">\n",
       "  <thead>\n",
       "    <tr>\n",
       "      <th></th>\n",
       "      <th colspan=\"2\" halign=\"left\">area</th>\n",
       "    </tr>\n",
       "    <tr>\n",
       "      <th></th>\n",
       "      <th>len</th>\n",
       "      <th>sorted</th>\n",
       "    </tr>\n",
       "    <tr>\n",
       "      <th>street</th>\n",
       "      <th></th>\n",
       "      <th></th>\n",
       "    </tr>\n",
       "  </thead>\n",
       "  <tbody>\n",
       "    <tr>\n",
       "      <th>Пресненская набережная</th>\n",
       "      <td>1</td>\n",
       "      <td>[Пресненский район]</td>\n",
       "    </tr>\n",
       "    <tr>\n",
       "      <th>Кутузовский проспект</th>\n",
       "      <td>2</td>\n",
       "      <td>[Район Дорогомилово, Район Фили-Давыдково]</td>\n",
       "    </tr>\n",
       "    <tr>\n",
       "      <th>город Зеленоград</th>\n",
       "      <td>3</td>\n",
       "      <td>[Панфиловский район, Район Крюково, Район Матушкино-Савелки]</td>\n",
       "    </tr>\n",
       "    <tr>\n",
       "      <th>Каширское шоссе</th>\n",
       "      <td>4</td>\n",
       "      <td>[Район Москворечье-Сабурово, Район Нагатино-Садовники, Район Орехово-Борисово Северное, Район Орехово-Борисово Южное]</td>\n",
       "    </tr>\n",
       "    <tr>\n",
       "      <th>Ленинградский проспект</th>\n",
       "      <td>4</td>\n",
       "      <td>[Район Аэропорт, Район Беговой, Район Сокол, Хорошевский район]</td>\n",
       "    </tr>\n",
       "    <tr>\n",
       "      <th>проспект Вернадского</th>\n",
       "      <td>5</td>\n",
       "      <td>[Ломоносовский район, Район Гагаринский, Район Проспект Вернадского, Район Раменки, Район Тропарево-Никулино]</td>\n",
       "    </tr>\n",
       "    <tr>\n",
       "      <th>Профсоюзная улица</th>\n",
       "      <td>6</td>\n",
       "      <td>[Академический район, Обручевский район, Район Коньково, Район Теплый Стан, Район Черемушки, Район Ясенево]</td>\n",
       "    </tr>\n",
       "    <tr>\n",
       "      <th>проспект Мира</th>\n",
       "      <td>7</td>\n",
       "      <td>[Алексеевский район, Мещанский район, Останкинский район, Район Марьина роща, Район Ростокино, Район Свиблово, Ярославский Район]</td>\n",
       "    </tr>\n",
       "    <tr>\n",
       "      <th>Варшавское шоссе</th>\n",
       "      <td>8</td>\n",
       "      <td>[Донской район, Нагорный район, Район Нагатино-Садовники, Район Северное Бутово, Район Чертаново Северное, Район Чертаново Центральное, Район Чертаново Южное, Район Южное Бутово]</td>\n",
       "    </tr>\n",
       "    <tr>\n",
       "      <th>Ленинский проспект</th>\n",
       "      <td>8</td>\n",
       "      <td>[Донской район, Ломоносовский район, Обручевский район, Район Гагаринский, Район Проспект Вернадского, Район Теплый Стан, Район Тропарево-Никулино, Район Якиманка]</td>\n",
       "    </tr>\n",
       "  </tbody>\n",
       "</table>\n",
       "</div>"
      ],
      "text/plain": [
       "                       area  \\\n",
       "                        len   \n",
       "street                        \n",
       "Пресненская набережная    1   \n",
       "Кутузовский проспект      2   \n",
       "город Зеленоград          3   \n",
       "Каширское шоссе           4   \n",
       "Ленинградский проспект    4   \n",
       "проспект Вернадского      5   \n",
       "Профсоюзная улица         6   \n",
       "проспект Мира             7   \n",
       "Варшавское шоссе          8   \n",
       "Ленинский проспект        8   \n",
       "\n",
       "                                                                                                                                                                                                            \n",
       "                                                                                                                                                                                                    sorted  \n",
       "street                                                                                                                                                                                                      \n",
       "Пресненская набережная                                                                                                                                                                 [Пресненский район]  \n",
       "Кутузовский проспект                                                                                                                                            [Район Дорогомилово, Район Фили-Давыдково]  \n",
       "город Зеленоград                                                                                                                              [Панфиловский район, Район Крюково, Район Матушкино-Савелки]  \n",
       "Каширское шоссе                                                                      [Район Москворечье-Сабурово, Район Нагатино-Садовники, Район Орехово-Борисово Северное, Район Орехово-Борисово Южное]  \n",
       "Ленинградский проспект                                                                                                                     [Район Аэропорт, Район Беговой, Район Сокол, Хорошевский район]  \n",
       "проспект Вернадского                                                                         [Ломоносовский район, Район Гагаринский, Район Проспект Вернадского, Район Раменки, Район Тропарево-Никулино]  \n",
       "Профсоюзная улица                                                                              [Академический район, Обручевский район, Район Коньково, Район Теплый Стан, Район Черемушки, Район Ясенево]  \n",
       "проспект Мира                                                            [Алексеевский район, Мещанский район, Останкинский район, Район Марьина роща, Район Ростокино, Район Свиблово, Ярославский Район]  \n",
       "Варшавское шоссе        [Донской район, Нагорный район, Район Нагатино-Садовники, Район Северное Бутово, Район Чертаново Северное, Район Чертаново Центральное, Район Чертаново Южное, Район Южное Бутово]  \n",
       "Ленинский проспект                     [Донской район, Ломоносовский район, Обручевский район, Район Гагаринский, Район Проспект Вернадского, Район Теплый Стан, Район Тропарево-Никулино, Район Якиманка]  "
      ]
     },
     "metadata": {},
     "output_type": "display_data"
    }
   ],
   "source": [
    "with pd.option_context('display.max_colwidth', 200):\n",
    "    display(top_streets.groupby('street').agg({'area':[len,sorted]}).sort_values((\"area\",\"len\")))"
   ]
  },
  {
   "cell_type": "code",
   "execution_count": 43,
   "metadata": {},
   "outputs": [
    {
     "data": {
      "image/png": "[encoded data removed]",
      "text/plain": [
       "<Figure size 432x288 with 1 Axes>"
      ]
     },
     "metadata": {
      "needs_background": "light"
     },
     "output_type": "display_data"
    }
   ],
   "source": [
    "sns.barplot(data=top_streets, x='id', y='street')\n",
    "plt.xlabel('Местонахождение')\n",
    "plt.ylabel('Количество заведений')\n",
    "plt.show()"
   ]
  },
  {
   "cell_type": "code",
   "execution_count": 37,
   "metadata": {},
   "outputs": [
    {
     "data": {
      "text/html": [
       "<div>\n",
       "<style scoped>\n",
       "    .dataframe tbody tr th:only-of-type {\n",
       "        vertical-align: middle;\n",
       "    }\n",
       "\n",
       "    .dataframe tbody tr th {\n",
       "        vertical-align: top;\n",
       "    }\n",
       "\n",
       "    .dataframe thead th {\n",
       "        text-align: right;\n",
       "    }\n",
       "</style>\n",
       "<table border=\"1\" class=\"dataframe\">\n",
       "  <thead>\n",
       "    <tr style=\"text-align: right;\">\n",
       "      <th></th>\n",
       "      <th>area</th>\n",
       "      <th>id</th>\n",
       "    </tr>\n",
       "  </thead>\n",
       "  <tbody>\n",
       "    <tr>\n",
       "      <th>118</th>\n",
       "      <td>Тверской район</td>\n",
       "      <td>1127</td>\n",
       "    </tr>\n",
       "    <tr>\n",
       "      <th>23</th>\n",
       "      <td>Пресненский район</td>\n",
       "      <td>788</td>\n",
       "    </tr>\n",
       "    <tr>\n",
       "      <th>4</th>\n",
       "      <td>Басманный район</td>\n",
       "      <td>702</td>\n",
       "    </tr>\n",
       "    <tr>\n",
       "      <th>15</th>\n",
       "      <td>Мещанский район</td>\n",
       "      <td>668</td>\n",
       "    </tr>\n",
       "    <tr>\n",
       "      <th>9</th>\n",
       "      <td>Даниловский район</td>\n",
       "      <td>667</td>\n",
       "    </tr>\n",
       "    <tr>\n",
       "      <th>11</th>\n",
       "      <td>Донской район</td>\n",
       "      <td>581</td>\n",
       "    </tr>\n",
       "    <tr>\n",
       "      <th>117</th>\n",
       "      <td>Таганский район</td>\n",
       "      <td>528</td>\n",
       "    </tr>\n",
       "    <tr>\n",
       "      <th>20</th>\n",
       "      <td>Обручевский район</td>\n",
       "      <td>492</td>\n",
       "    </tr>\n",
       "    <tr>\n",
       "      <th>41</th>\n",
       "      <td>Район Замоскворечье</td>\n",
       "      <td>479</td>\n",
       "    </tr>\n",
       "    <tr>\n",
       "      <th>38</th>\n",
       "      <td>Район Гагаринский</td>\n",
       "      <td>474</td>\n",
       "    </tr>\n",
       "  </tbody>\n",
       "</table>\n",
       "</div>"
      ],
      "text/plain": [
       "                    area    id\n",
       "118       Тверской район  1127\n",
       "23     Пресненский район   788\n",
       "4        Басманный район   702\n",
       "15       Мещанский район   668\n",
       "9      Даниловский район   667\n",
       "11         Донской район   581\n",
       "117      Таганский район   528\n",
       "20     Обручевский район   492\n",
       "41   Район Замоскворечье   479\n",
       "38     Район Гагаринский   474"
      ]
     },
     "metadata": {},
     "output_type": "display_data"
    }
   ],
   "source": [
    "area_rest_qnt = data_merged.groupby(['area'])['id'].count().reset_index().sort_values(by='id', ascending=False)\n",
    "top_areas = area_rest_qnt.head(10)\n",
    "display(top_areas)"
   ]
  },
  {
   "cell_type": "code",
   "execution_count": 44,
   "metadata": {},
   "outputs": [
    {
     "data": {
      "image/png": "[encoded data removed]",
      "text/plain": [
       "<Figure size 432x288 with 1 Axes>"
      ]
     },
     "metadata": {
      "needs_background": "light"
     },
     "output_type": "display_data"
    }
   ],
   "source": [
    "sns.barplot(data=top_areas, x='id', y='area')\n",
    "plt.xlabel('Местонахождение')\n",
    "plt.ylabel('Количество заведений')\n",
    "plt.show()"
   ]
  },
  {
   "cell_type": "markdown",
   "metadata": {},
   "source": [
    "Итак,\n",
    "если мы отберем ТОП-10 улиц по количеству ресторанов в Москве, то получаются магистральные улицы, которые проходят через несколько районов города. Сказать, что среди таких районов есть какие-то особенно выделяющиеся, нельзя.<br>\n",
    "При этом если мы осортируем районы по количеству заведение, то в ТОП-10 районов окажутся те, что располагаются в центре (или очень близко к центру) Москвы."
   ]
  },
  {
   "cell_type": "code",
   "execution_count": 45,
   "metadata": {},
   "outputs": [
    {
     "name": "stdout",
     "output_type": "stream",
     "text": [
      "29510\n",
      "15366\n"
     ]
    }
   ],
   "source": [
    "print(area_rest_qnt['id'].sum())\n",
    "print(data['object_name'].count())"
   ]
  },
  {
   "cell_type": "code",
   "execution_count": 40,
   "metadata": {},
   "outputs": [
    {
     "name": "stdout",
     "output_type": "stream",
     "text": [
      "<class 'pandas.core.frame.DataFrame'>\n",
      "Int64Index: 560 entries, 208 to 587\n",
      "Data columns (total 3 columns):\n",
      " #   Column  Non-Null Count  Dtype \n",
      "---  ------  --------------  ----- \n",
      " 0   street  560 non-null    object\n",
      " 1   area    560 non-null    object\n",
      " 2   id      560 non-null    int64 \n",
      "dtypes: int64(1), object(2)\n",
      "memory usage: 17.5+ KB\n"
     ]
    },
    {
     "data": {
      "text/html": [
       "<div>\n",
       "<style scoped>\n",
       "    .dataframe tbody tr th:only-of-type {\n",
       "        vertical-align: middle;\n",
       "    }\n",
       "\n",
       "    .dataframe tbody tr th {\n",
       "        vertical-align: top;\n",
       "    }\n",
       "\n",
       "    .dataframe thead th {\n",
       "        text-align: right;\n",
       "    }\n",
       "</style>\n",
       "<table border=\"1\" class=\"dataframe\">\n",
       "  <thead>\n",
       "    <tr style=\"text-align: right;\">\n",
       "      <th></th>\n",
       "      <th>street</th>\n",
       "      <th>area</th>\n",
       "      <th>id</th>\n",
       "    </tr>\n",
       "  </thead>\n",
       "  <tbody>\n",
       "    <tr>\n",
       "      <th>208</th>\n",
       "      <td>5-й проезд Марьиной Рощи</td>\n",
       "      <td>Район Марьина роща</td>\n",
       "      <td>1</td>\n",
       "    </tr>\n",
       "    <tr>\n",
       "      <th>204</th>\n",
       "      <td>5-й Котельнический переулок</td>\n",
       "      <td>Таганский район</td>\n",
       "      <td>1</td>\n",
       "    </tr>\n",
       "    <tr>\n",
       "      <th>205</th>\n",
       "      <td>5-й Монетчиковский переулок</td>\n",
       "      <td>Район Замоскворечье</td>\n",
       "      <td>1</td>\n",
       "    </tr>\n",
       "    <tr>\n",
       "      <th>2262</th>\n",
       "      <td>улица Шумкина</td>\n",
       "      <td>Район Сокольники</td>\n",
       "      <td>1</td>\n",
       "    </tr>\n",
       "    <tr>\n",
       "      <th>21</th>\n",
       "      <td>1-й Котельнический переулок</td>\n",
       "      <td>Таганский район</td>\n",
       "      <td>1</td>\n",
       "    </tr>\n",
       "    <tr>\n",
       "      <th>206</th>\n",
       "      <td>5-й Рощинский проезд</td>\n",
       "      <td>Даниловский район</td>\n",
       "      <td>1</td>\n",
       "    </tr>\n",
       "    <tr>\n",
       "      <th>1167</th>\n",
       "      <td>Печорская улица</td>\n",
       "      <td>Бабушкинский район</td>\n",
       "      <td>1</td>\n",
       "    </tr>\n",
       "    <tr>\n",
       "      <th>2261</th>\n",
       "      <td>улица Шумилова</td>\n",
       "      <td>Район Кузьминки</td>\n",
       "      <td>1</td>\n",
       "    </tr>\n",
       "    <tr>\n",
       "      <th>18</th>\n",
       "      <td>1-й Кожуховский проезд</td>\n",
       "      <td>Даниловский район</td>\n",
       "      <td>1</td>\n",
       "    </tr>\n",
       "    <tr>\n",
       "      <th>228</th>\n",
       "      <td>7-я улица Лазенки</td>\n",
       "      <td>Район Ново-Переделкино</td>\n",
       "      <td>1</td>\n",
       "    </tr>\n",
       "  </tbody>\n",
       "</table>\n",
       "</div>"
      ],
      "text/plain": [
       "                           street                    area  id\n",
       "208      5-й проезд Марьиной Рощи      Район Марьина роща   1\n",
       "204   5-й Котельнический переулок         Таганский район   1\n",
       "205   5-й Монетчиковский переулок     Район Замоскворечье   1\n",
       "2262                улица Шумкина        Район Сокольники   1\n",
       "21    1-й Котельнический переулок         Таганский район   1\n",
       "206          5-й Рощинский проезд       Даниловский район   1\n",
       "1167              Печорская улица      Бабушкинский район   1\n",
       "2261               улица Шумилова         Район Кузьминки   1\n",
       "18         1-й Кожуховский проезд       Даниловский район   1\n",
       "228             7-я улица Лазенки  Район Ново-Переделкино   1"
      ]
     },
     "metadata": {},
     "output_type": "display_data"
    }
   ],
   "source": [
    "street_rest_1 = street_rest_qnt.query('0<id<2')\n",
    "street_rest_1.info()\n",
    "display(street_rest_1.head(10))"
   ]
  },
  {
   "cell_type": "code",
   "execution_count": 41,
   "metadata": {},
   "outputs": [
    {
     "data": {
      "text/plain": [
       "(560, 3)"
      ]
     },
     "execution_count": 41,
     "metadata": {},
     "output_type": "execute_result"
    }
   ],
   "source": [
    "street_rest_qnt.query('id == 1').shape"
   ]
  },
  {
   "cell_type": "markdown",
   "metadata": {},
   "source": [
    "Всего 560 улиц с 1 заведением. При этом важно отметить, что есть ошибки, вызванные разделением столбцов."
   ]
  },
  {
   "cell_type": "code",
   "execution_count": 42,
   "metadata": {},
   "outputs": [
    {
     "data": {
      "text/html": [
       "<div>\n",
       "<style scoped>\n",
       "    .dataframe tbody tr th:only-of-type {\n",
       "        vertical-align: middle;\n",
       "    }\n",
       "\n",
       "    .dataframe tbody tr th {\n",
       "        vertical-align: top;\n",
       "    }\n",
       "\n",
       "    .dataframe thead th {\n",
       "        text-align: right;\n",
       "    }\n",
       "</style>\n",
       "<table border=\"1\" class=\"dataframe\">\n",
       "  <thead>\n",
       "    <tr style=\"text-align: right;\">\n",
       "      <th></th>\n",
       "      <th>area</th>\n",
       "      <th>id</th>\n",
       "    </tr>\n",
       "  </thead>\n",
       "  <tbody>\n",
       "    <tr>\n",
       "      <th>93</th>\n",
       "      <td>Таганский район</td>\n",
       "      <td>27</td>\n",
       "    </tr>\n",
       "    <tr>\n",
       "      <th>79</th>\n",
       "      <td>Район Хамовники</td>\n",
       "      <td>26</td>\n",
       "    </tr>\n",
       "    <tr>\n",
       "      <th>3</th>\n",
       "      <td>Басманный район</td>\n",
       "      <td>25</td>\n",
       "    </tr>\n",
       "    <tr>\n",
       "      <th>94</th>\n",
       "      <td>Тверской район</td>\n",
       "      <td>20</td>\n",
       "    </tr>\n",
       "    <tr>\n",
       "      <th>20</th>\n",
       "      <td>Пресненский район</td>\n",
       "      <td>19</td>\n",
       "    </tr>\n",
       "    <tr>\n",
       "      <th>49</th>\n",
       "      <td>Район Марьина роща</td>\n",
       "      <td>18</td>\n",
       "    </tr>\n",
       "    <tr>\n",
       "      <th>21</th>\n",
       "      <td>Район Арбат</td>\n",
       "      <td>17</td>\n",
       "    </tr>\n",
       "    <tr>\n",
       "      <th>13</th>\n",
       "      <td>Мещанский район</td>\n",
       "      <td>16</td>\n",
       "    </tr>\n",
       "    <tr>\n",
       "      <th>73</th>\n",
       "      <td>Район Сокольники</td>\n",
       "      <td>15</td>\n",
       "    </tr>\n",
       "    <tr>\n",
       "      <th>33</th>\n",
       "      <td>Район Замоскворечье</td>\n",
       "      <td>14</td>\n",
       "    </tr>\n",
       "  </tbody>\n",
       "</table>\n",
       "</div>"
      ],
      "text/plain": [
       "                   area  id\n",
       "93      Таганский район  27\n",
       "79      Район Хамовники  26\n",
       "3       Басманный район  25\n",
       "94       Тверской район  20\n",
       "20    Пресненский район  19\n",
       "49   Район Марьина роща  18\n",
       "21          Район Арбат  17\n",
       "13      Мещанский район  16\n",
       "73     Район Сокольники  15\n",
       "33  Район Замоскворечье  14"
      ]
     },
     "metadata": {},
     "output_type": "display_data"
    },
    {
     "data": {
      "text/html": [
       "<div>\n",
       "<style scoped>\n",
       "    .dataframe tbody tr th:only-of-type {\n",
       "        vertical-align: middle;\n",
       "    }\n",
       "\n",
       "    .dataframe tbody tr th {\n",
       "        vertical-align: top;\n",
       "    }\n",
       "\n",
       "    .dataframe thead th {\n",
       "        text-align: right;\n",
       "    }\n",
       "</style>\n",
       "<table border=\"1\" class=\"dataframe\">\n",
       "  <thead>\n",
       "    <tr style=\"text-align: right;\">\n",
       "      <th></th>\n",
       "      <th>area</th>\n",
       "      <th>id</th>\n",
       "    </tr>\n",
       "  </thead>\n",
       "  <tbody>\n",
       "    <tr>\n",
       "      <th>15</th>\n",
       "      <td>Молжаниновский район</td>\n",
       "      <td>1</td>\n",
       "    </tr>\n",
       "    <tr>\n",
       "      <th>48</th>\n",
       "      <td>Район Марфино</td>\n",
       "      <td>1</td>\n",
       "    </tr>\n",
       "    <tr>\n",
       "      <th>77</th>\n",
       "      <td>Район Филевский Парк</td>\n",
       "      <td>1</td>\n",
       "    </tr>\n",
       "    <tr>\n",
       "      <th>75</th>\n",
       "      <td>Район Строгино</td>\n",
       "      <td>1</td>\n",
       "    </tr>\n",
       "    <tr>\n",
       "      <th>1</th>\n",
       "      <td>Алтуфьевский район</td>\n",
       "      <td>1</td>\n",
       "    </tr>\n",
       "    <tr>\n",
       "      <th>50</th>\n",
       "      <td>Район Марьино</td>\n",
       "      <td>1</td>\n",
       "    </tr>\n",
       "    <tr>\n",
       "      <th>51</th>\n",
       "      <td>Район Матушкино-Савелки</td>\n",
       "      <td>1</td>\n",
       "    </tr>\n",
       "    <tr>\n",
       "      <th>52</th>\n",
       "      <td>Район Метрогородок</td>\n",
       "      <td>1</td>\n",
       "    </tr>\n",
       "    <tr>\n",
       "      <th>54</th>\n",
       "      <td>Район Москворечье-Сабурово</td>\n",
       "      <td>1</td>\n",
       "    </tr>\n",
       "    <tr>\n",
       "      <th>18</th>\n",
       "      <td>Обручевский район</td>\n",
       "      <td>1</td>\n",
       "    </tr>\n",
       "  </tbody>\n",
       "</table>\n",
       "</div>"
      ],
      "text/plain": [
       "                          area  id\n",
       "15        Молжаниновский район   1\n",
       "48               Район Марфино   1\n",
       "77        Район Филевский Парк   1\n",
       "75              Район Строгино   1\n",
       "1           Алтуфьевский район   1\n",
       "50               Район Марьино   1\n",
       "51     Район Матушкино-Савелки   1\n",
       "52          Район Метрогородок   1\n",
       "54  Район Москворечье-Сабурово   1\n",
       "18           Обручевский район   1"
      ]
     },
     "metadata": {},
     "output_type": "display_data"
    }
   ],
   "source": [
    "area_str_1_rest = street_rest_1.groupby(['area'])['id'].count().reset_index().sort_values(by='id', ascending=False)\n",
    "display(area_str_1_rest.head(10))\n",
    "display(area_str_1_rest.tail(10))"
   ]
  },
  {
   "cell_type": "markdown",
   "metadata": {},
   "source": [
    "Интересно отметить, что большое количество улиц с одним заведением также часто находятся в центре города. Кроме, пожалуй, районов Сокольники, Марьина роща и Мещанского.<br>\n",
    "При этом районы с одним рестораном находятся на окраинах города."
   ]
  },
  {
   "cell_type": "markdown",
   "metadata": {},
   "source": [
    "## Выводы"
   ]
  },
  {
   "cell_type": "markdown",
   "metadata": {},
   "source": [
    "### Предобработка данных\n",
    "\n",
    "Таблица состоит из 6 колонок и 15366 строк.<br>\n",
    "<br>\n",
    "Есть данные разных типов:\n",
    "- id и number целочисленные,\n",
    "- object_name, object_type, chain, address - категориальные.\n",
    "\n",
    "Пропуски данных и явные дубликаты отсутствуют.\n",
    "\n",
    "В данных 15366 строк и:<br>\n",
    "- 10393 уникальных названия заведений: скорее всего, присутствуют сети ресторанов с одним именем, потому что дубликатов не выявлено.<br>\n",
    "- 2 вида ресторанов по количеству заведений: сетевые и несетевые (подтверждение гипотезы выше).<br>\n",
    "- типов заведений может быть 9.<br>\n",
    "- уникальных адресов 9108: соответственно, в некоторых домах может быть несколько разных ресторанов.<br>\n",
    "- вариаций количества посадочных мест - 315: от 0 (киоск?) до 1700 человек.<br>\n",
    "\n",
    "### Анализ данных\n",
    "**Особенности заведений по числу посадочных мест**\n",
    "Больше всего общественного питания типа: кафе, затем столовых и на третьем месте рестораны.\n",
    "Большая часть заведений не являются сетевыми.\n",
    "Максимальное число посадочных мест характерно для столовых, на втором месте - рестораны. Самое маленькое количество посадочных мест в кафе. \n",
    "\n",
    "**Особенности сетевых заведений**\n",
    "Наиболее часто среди сетевых заведений встречаются: предприятия быстрого обслуживания, отделы кулинарии в магазинах, рестораны.\n",
    "Большая часть сетевых заведений имеет ориентировочно до 100 посадочных мест. Больше 100 посадочных мест встречаются редко. Т.е. для сетевых ресторанов характерно много заведений с небольшим числом посадочных мест в каждом.\n",
    "\n",
    "**Местоположение заведений общественного питания**\n",
    "- **ТОП-10 улиц** по количеству ресторанов в Москве - это крупные магистрали, которые проходят через несколько районов города. Сказать, что среди районов, по которым проходят эти магистрали, есть какие-то особенно выделяющиеся, - нельзя.<br>\n",
    "- если мы отсортируем районы по количеству заведений, то в **ТОП-10 районов** окажутся те, что располагаются в центре (или очень близко к центру) Москвы. Интересно отметить, что большое количество улиц с одним заведением также часто находятся в центре города. Кроме, пожалуй, районов Сокольники, Марьина роща и Мещанского.<br>\n",
    "- районы с одним рестораном находятся на обычных улицах на окраинах города.\n",
    "\n",
    "### Рекомендации по открытию заведения общественного питания\n",
    "- при открытии заведения рекомендую сразу думать о возможностях масштабирования проекта и открывать формат, который удобно делать сетевым.\n",
    "- с учетом особенностей сетевых заведений: это должно быть место с небольшим числом посадочных мест (на 20)\n",
    "- предприятие быстрого обслуживания будет оптимальным с точки зрения возможностей сетевого распространения и наиболее популярного количества посадочных мест.\n",
    "- очень много заведений общественного питания находятся на основных магистралях или в центре города. При открытии рекомендую придерживаться именно такой георгафии, т.к. наличие предложения подтверждает наличие спроса на общественное питание. Рекомендованный район: Тверской, Пресненский. Рекомендованная улица: проспект Мира (Мещанский район).\n",
    "- НЕ рекомендую открывать заведение на второстепенной улице на окраине города."
   ]
  }
 ],
 "metadata": {
  "ExecuteTimeLog": [
   {
    "duration": 86,
    "start_time": "2022-05-30T18:03:25.277Z"
   },
   {
    "duration": 1307,
    "start_time": "2022-05-30T18:03:29.709Z"
   },
   {
    "duration": 278,
    "start_time": "2022-05-30T18:03:32.414Z"
   },
   {
    "duration": 35,
    "start_time": "2022-05-30T18:03:58.095Z"
   },
   {
    "duration": 27,
    "start_time": "2022-05-30T18:04:25.844Z"
   },
   {
    "duration": 30,
    "start_time": "2022-05-30T18:06:27.108Z"
   },
   {
    "duration": 50,
    "start_time": "2022-05-30T18:07:28.279Z"
   },
   {
    "duration": 87,
    "start_time": "2022-05-30T18:09:13.518Z"
   },
   {
    "duration": 102,
    "start_time": "2022-05-30T18:10:15.228Z"
   },
   {
    "duration": 63,
    "start_time": "2022-05-30T18:10:42.165Z"
   },
   {
    "duration": 79,
    "start_time": "2022-05-30T18:11:21.146Z"
   },
   {
    "duration": 86,
    "start_time": "2022-05-30T18:12:00.472Z"
   },
   {
    "duration": 111,
    "start_time": "2022-05-30T18:12:15.379Z"
   },
   {
    "duration": 718,
    "start_time": "2022-05-30T18:28:21.168Z"
   },
   {
    "duration": 84,
    "start_time": "2022-05-30T18:29:26.361Z"
   },
   {
    "duration": 9,
    "start_time": "2022-05-30T18:31:13.968Z"
   },
   {
    "duration": 19,
    "start_time": "2022-05-30T18:31:27.651Z"
   },
   {
    "duration": 9,
    "start_time": "2022-05-30T18:31:38.068Z"
   },
   {
    "duration": 7,
    "start_time": "2022-05-30T18:31:51.816Z"
   },
   {
    "duration": 69,
    "start_time": "2022-05-30T18:35:33.172Z"
   },
   {
    "duration": 614,
    "start_time": "2022-05-30T18:35:55.320Z"
   },
   {
    "duration": 164,
    "start_time": "2022-05-30T18:36:44.973Z"
   },
   {
    "duration": 147,
    "start_time": "2022-05-30T18:36:53.768Z"
   },
   {
    "duration": 182,
    "start_time": "2022-05-30T18:39:18.094Z"
   },
   {
    "duration": 140,
    "start_time": "2022-05-30T18:40:09.692Z"
   },
   {
    "duration": 6,
    "start_time": "2022-05-30T18:42:08.120Z"
   },
   {
    "duration": 157,
    "start_time": "2022-05-30T18:42:10.007Z"
   },
   {
    "duration": 6,
    "start_time": "2022-05-30T18:42:12.686Z"
   },
   {
    "duration": 8,
    "start_time": "2022-05-30T18:42:23.384Z"
   },
   {
    "duration": 54,
    "start_time": "2022-05-30T18:43:44.127Z"
   },
   {
    "duration": 21,
    "start_time": "2022-05-30T18:44:19.281Z"
   },
   {
    "duration": 46,
    "start_time": "2022-05-30T18:46:10.843Z"
   },
   {
    "duration": 13,
    "start_time": "2022-05-30T18:47:45.882Z"
   },
   {
    "duration": 12,
    "start_time": "2022-05-30T18:47:54.197Z"
   },
   {
    "duration": 12,
    "start_time": "2022-05-30T18:48:03.280Z"
   },
   {
    "duration": 16,
    "start_time": "2022-05-30T18:48:35.277Z"
   },
   {
    "duration": 10,
    "start_time": "2022-05-30T18:48:48.520Z"
   },
   {
    "duration": 11,
    "start_time": "2022-05-30T18:49:30.101Z"
   },
   {
    "duration": 7,
    "start_time": "2022-05-30T18:52:26.920Z"
   },
   {
    "duration": 160,
    "start_time": "2022-05-30T18:54:01.957Z"
   },
   {
    "duration": 16,
    "start_time": "2022-05-30T18:54:54.366Z"
   },
   {
    "duration": 8,
    "start_time": "2022-05-30T18:55:23.401Z"
   },
   {
    "duration": 8,
    "start_time": "2022-05-30T18:55:31.041Z"
   },
   {
    "duration": 7,
    "start_time": "2022-05-30T18:56:29.520Z"
   },
   {
    "duration": 83,
    "start_time": "2022-05-30T18:56:43.912Z"
   },
   {
    "duration": 33,
    "start_time": "2022-05-30T18:57:50.912Z"
   },
   {
    "duration": 21,
    "start_time": "2022-05-30T18:57:58.847Z"
   },
   {
    "duration": 7,
    "start_time": "2022-05-30T18:58:04.617Z"
   },
   {
    "duration": 12,
    "start_time": "2022-05-30T18:59:28.914Z"
   },
   {
    "duration": 10,
    "start_time": "2022-05-30T18:59:39.088Z"
   },
   {
    "duration": 9,
    "start_time": "2022-05-30T19:00:34.998Z"
   },
   {
    "duration": 14,
    "start_time": "2022-05-30T19:00:54.973Z"
   },
   {
    "duration": 10,
    "start_time": "2022-05-30T20:34:12.037Z"
   },
   {
    "duration": 14,
    "start_time": "2022-05-30T20:34:25.603Z"
   },
   {
    "duration": 26,
    "start_time": "2022-05-30T20:35:05.332Z"
   },
   {
    "duration": 17,
    "start_time": "2022-05-30T20:36:03.121Z"
   },
   {
    "duration": 26,
    "start_time": "2022-05-30T20:36:56.137Z"
   },
   {
    "duration": 627,
    "start_time": "2022-05-30T20:39:40.210Z"
   },
   {
    "duration": 59,
    "start_time": "2022-05-30T20:40:35.794Z"
   },
   {
    "duration": 18,
    "start_time": "2022-05-30T20:41:36.852Z"
   },
   {
    "duration": 17,
    "start_time": "2022-05-30T20:41:42.659Z"
   },
   {
    "duration": 19,
    "start_time": "2022-05-30T20:41:47.573Z"
   },
   {
    "duration": 18,
    "start_time": "2022-05-30T20:41:58.291Z"
   },
   {
    "duration": 28,
    "start_time": "2022-05-30T20:42:49.212Z"
   },
   {
    "duration": 19,
    "start_time": "2022-05-30T20:43:00.476Z"
   },
   {
    "duration": 17,
    "start_time": "2022-05-30T20:43:19.958Z"
   },
   {
    "duration": 17,
    "start_time": "2022-05-30T20:43:37.443Z"
   },
   {
    "duration": 19,
    "start_time": "2022-05-30T20:43:44.316Z"
   },
   {
    "duration": 17,
    "start_time": "2022-05-30T20:43:58.454Z"
   },
   {
    "duration": 20,
    "start_time": "2022-05-30T20:44:07.014Z"
   },
   {
    "duration": 17,
    "start_time": "2022-05-30T20:44:25.337Z"
   },
   {
    "duration": 17,
    "start_time": "2022-05-30T20:44:33.656Z"
   },
   {
    "duration": 16,
    "start_time": "2022-05-30T20:44:47.569Z"
   },
   {
    "duration": 16,
    "start_time": "2022-05-30T20:44:57.282Z"
   },
   {
    "duration": 17,
    "start_time": "2022-05-30T20:45:11.795Z"
   },
   {
    "duration": 17,
    "start_time": "2022-05-30T20:45:17.043Z"
   },
   {
    "duration": 14,
    "start_time": "2022-05-30T20:46:01.384Z"
   },
   {
    "duration": 22,
    "start_time": "2022-05-30T20:48:33.743Z"
   },
   {
    "duration": 18,
    "start_time": "2022-05-30T20:49:13.010Z"
   },
   {
    "duration": 17,
    "start_time": "2022-05-30T20:49:16.901Z"
   },
   {
    "duration": 24,
    "start_time": "2022-05-30T20:49:29.271Z"
   },
   {
    "duration": 18,
    "start_time": "2022-05-30T20:49:37.794Z"
   },
   {
    "duration": 18,
    "start_time": "2022-05-30T20:49:43.425Z"
   },
   {
    "duration": 18,
    "start_time": "2022-05-30T20:50:30.216Z"
   },
   {
    "duration": 18,
    "start_time": "2022-05-30T20:51:08.794Z"
   },
   {
    "duration": 48,
    "start_time": "2022-05-30T20:51:31.604Z"
   },
   {
    "duration": 44,
    "start_time": "2022-05-30T20:53:05.007Z"
   },
   {
    "duration": 13,
    "start_time": "2022-05-30T20:55:16.194Z"
   },
   {
    "duration": 31,
    "start_time": "2022-05-30T20:55:23.937Z"
   },
   {
    "duration": 44,
    "start_time": "2022-05-30T20:55:50.791Z"
   },
   {
    "duration": 299,
    "start_time": "2022-05-30T20:55:59.785Z"
   },
   {
    "duration": 220,
    "start_time": "2022-05-30T20:57:16.601Z"
   },
   {
    "duration": 2,
    "start_time": "2022-05-30T20:57:35.685Z"
   },
   {
    "duration": 46,
    "start_time": "2022-05-30T20:58:34.320Z"
   },
   {
    "duration": 230,
    "start_time": "2022-05-30T21:01:13.317Z"
   },
   {
    "duration": 247,
    "start_time": "2022-05-30T21:01:37.266Z"
   },
   {
    "duration": 242,
    "start_time": "2022-05-30T21:01:46.515Z"
   },
   {
    "duration": 34,
    "start_time": "2022-05-30T21:04:14.292Z"
   },
   {
    "duration": 35,
    "start_time": "2022-05-30T21:04:26.376Z"
   },
   {
    "duration": 22,
    "start_time": "2022-05-30T21:04:52.026Z"
   },
   {
    "duration": 18,
    "start_time": "2022-05-30T21:05:12.969Z"
   },
   {
    "duration": 232,
    "start_time": "2022-05-30T21:05:21.997Z"
   },
   {
    "duration": 17,
    "start_time": "2022-05-30T21:05:36.863Z"
   },
   {
    "duration": 11,
    "start_time": "2022-05-30T21:06:53.240Z"
   },
   {
    "duration": 13,
    "start_time": "2022-05-30T21:06:59.944Z"
   },
   {
    "duration": 14,
    "start_time": "2022-05-30T21:07:06.462Z"
   },
   {
    "duration": 2,
    "start_time": "2022-05-30T21:09:19.522Z"
   },
   {
    "duration": 1493,
    "start_time": "2022-05-30T21:11:18.091Z"
   },
   {
    "duration": 13,
    "start_time": "2022-05-30T21:13:00.318Z"
   },
   {
    "duration": 182,
    "start_time": "2022-05-30T21:16:37.308Z"
   },
   {
    "duration": 9,
    "start_time": "2022-05-30T21:18:01.911Z"
   },
   {
    "duration": 15,
    "start_time": "2022-05-30T21:18:17.903Z"
   },
   {
    "duration": 175,
    "start_time": "2022-05-30T21:18:54.139Z"
   },
   {
    "duration": 154,
    "start_time": "2022-05-30T21:19:04.591Z"
   },
   {
    "duration": 205,
    "start_time": "2022-05-30T21:20:01.807Z"
   },
   {
    "duration": 201,
    "start_time": "2022-05-30T21:20:27.383Z"
   },
   {
    "duration": 159,
    "start_time": "2022-05-30T21:21:43.920Z"
   },
   {
    "duration": 182,
    "start_time": "2022-05-30T21:22:06.691Z"
   },
   {
    "duration": 151,
    "start_time": "2022-05-30T21:26:26.490Z"
   },
   {
    "duration": 293,
    "start_time": "2022-05-30T21:26:37.602Z"
   },
   {
    "duration": 148,
    "start_time": "2022-05-30T21:29:28.909Z"
   },
   {
    "duration": 146,
    "start_time": "2022-05-30T21:29:52.260Z"
   },
   {
    "duration": 134,
    "start_time": "2022-05-30T21:30:04.219Z"
   },
   {
    "duration": 135,
    "start_time": "2022-05-30T21:30:24.166Z"
   },
   {
    "duration": 144,
    "start_time": "2022-05-30T21:31:00.661Z"
   },
   {
    "duration": 136,
    "start_time": "2022-05-30T21:31:08.903Z"
   },
   {
    "duration": 5,
    "start_time": "2022-05-30T21:31:18.231Z"
   },
   {
    "duration": 147,
    "start_time": "2022-05-30T21:31:32.019Z"
   },
   {
    "duration": 153,
    "start_time": "2022-05-30T21:31:42.057Z"
   },
   {
    "duration": 157,
    "start_time": "2022-05-30T21:32:06.098Z"
   },
   {
    "duration": 57,
    "start_time": "2022-05-31T08:44:46.194Z"
   },
   {
    "duration": 1413,
    "start_time": "2022-05-31T08:44:54.272Z"
   },
   {
    "duration": 258,
    "start_time": "2022-05-31T08:44:55.687Z"
   },
   {
    "duration": 14,
    "start_time": "2022-05-31T08:44:55.947Z"
   },
   {
    "duration": 25,
    "start_time": "2022-05-31T08:44:55.963Z"
   },
   {
    "duration": 74,
    "start_time": "2022-05-31T08:44:55.989Z"
   },
   {
    "duration": 6,
    "start_time": "2022-05-31T08:44:56.064Z"
   },
   {
    "duration": 239,
    "start_time": "2022-05-31T08:44:56.072Z"
   },
   {
    "duration": 7,
    "start_time": "2022-05-31T08:44:56.313Z"
   },
   {
    "duration": 99,
    "start_time": "2022-05-31T08:44:56.322Z"
   },
   {
    "duration": 33,
    "start_time": "2022-05-31T08:44:56.423Z"
   },
   {
    "duration": 3,
    "start_time": "2022-05-31T08:44:56.457Z"
   },
   {
    "duration": 10,
    "start_time": "2022-05-31T08:44:56.461Z"
   },
   {
    "duration": 262,
    "start_time": "2022-05-31T08:44:56.473Z"
   },
   {
    "duration": 150,
    "start_time": "2022-05-31T08:44:56.737Z"
   },
   {
    "duration": 184,
    "start_time": "2022-05-31T08:44:56.889Z"
   },
   {
    "duration": 200,
    "start_time": "2022-05-31T08:45:35.185Z"
   },
   {
    "duration": 149,
    "start_time": "2022-05-31T08:46:16.192Z"
   },
   {
    "duration": 159,
    "start_time": "2022-05-31T08:46:49.964Z"
   },
   {
    "duration": 52,
    "start_time": "2022-05-31T17:04:04.795Z"
   },
   {
    "duration": 1380,
    "start_time": "2022-05-31T17:04:11.167Z"
   },
   {
    "duration": 278,
    "start_time": "2022-05-31T17:04:12.549Z"
   },
   {
    "duration": 13,
    "start_time": "2022-05-31T17:04:12.828Z"
   },
   {
    "duration": 23,
    "start_time": "2022-05-31T17:04:12.843Z"
   },
   {
    "duration": 79,
    "start_time": "2022-05-31T17:04:12.868Z"
   },
   {
    "duration": 8,
    "start_time": "2022-05-31T17:04:12.949Z"
   },
   {
    "duration": 243,
    "start_time": "2022-05-31T17:04:12.959Z"
   },
   {
    "duration": 7,
    "start_time": "2022-05-31T17:04:13.203Z"
   },
   {
    "duration": 101,
    "start_time": "2022-05-31T17:04:13.211Z"
   },
   {
    "duration": 17,
    "start_time": "2022-05-31T17:04:13.314Z"
   },
   {
    "duration": 2,
    "start_time": "2022-05-31T17:04:13.333Z"
   },
   {
    "duration": 7,
    "start_time": "2022-05-31T17:04:13.337Z"
   },
   {
    "duration": 245,
    "start_time": "2022-05-31T17:04:13.345Z"
   },
   {
    "duration": 134,
    "start_time": "2022-05-31T17:04:13.591Z"
   },
   {
    "duration": 144,
    "start_time": "2022-05-31T17:04:13.726Z"
   },
   {
    "duration": 58,
    "start_time": "2022-06-02T17:25:14.386Z"
   },
   {
    "duration": 1525,
    "start_time": "2022-06-02T17:25:20.933Z"
   },
   {
    "duration": 262,
    "start_time": "2022-06-02T17:25:22.462Z"
   },
   {
    "duration": 15,
    "start_time": "2022-06-02T17:25:22.728Z"
   },
   {
    "duration": 23,
    "start_time": "2022-06-02T17:25:22.745Z"
   },
   {
    "duration": 76,
    "start_time": "2022-06-02T17:25:22.769Z"
   },
   {
    "duration": 6,
    "start_time": "2022-06-02T17:25:22.847Z"
   },
   {
    "duration": 185,
    "start_time": "2022-06-02T17:25:22.855Z"
   },
   {
    "duration": 7,
    "start_time": "2022-06-02T17:25:23.042Z"
   },
   {
    "duration": 100,
    "start_time": "2022-06-02T17:25:23.051Z"
   },
   {
    "duration": 29,
    "start_time": "2022-06-02T17:25:23.153Z"
   },
   {
    "duration": 2,
    "start_time": "2022-06-02T17:25:23.184Z"
   },
   {
    "duration": 4,
    "start_time": "2022-06-02T17:25:23.188Z"
   },
   {
    "duration": 262,
    "start_time": "2022-06-02T17:25:23.195Z"
   },
   {
    "duration": 166,
    "start_time": "2022-06-02T17:25:23.459Z"
   },
   {
    "duration": 178,
    "start_time": "2022-06-02T17:25:23.628Z"
   },
   {
    "duration": 4,
    "start_time": "2022-06-02T17:25:27.437Z"
   },
   {
    "duration": 79,
    "start_time": "2022-06-02T17:25:27.453Z"
   },
   {
    "duration": 13,
    "start_time": "2022-06-02T17:25:27.534Z"
   },
   {
    "duration": 38,
    "start_time": "2022-06-02T17:25:27.549Z"
   },
   {
    "duration": 73,
    "start_time": "2022-06-02T17:25:27.588Z"
   },
   {
    "duration": 29,
    "start_time": "2022-06-02T17:25:27.663Z"
   },
   {
    "duration": 154,
    "start_time": "2022-06-02T17:25:27.694Z"
   },
   {
    "duration": 7,
    "start_time": "2022-06-02T17:25:27.850Z"
   },
   {
    "duration": 98,
    "start_time": "2022-06-02T17:25:27.859Z"
   },
   {
    "duration": 37,
    "start_time": "2022-06-02T17:25:27.959Z"
   },
   {
    "duration": 2,
    "start_time": "2022-06-02T17:25:27.998Z"
   },
   {
    "duration": 10,
    "start_time": "2022-06-02T17:25:28.002Z"
   },
   {
    "duration": 277,
    "start_time": "2022-06-02T17:25:28.014Z"
   },
   {
    "duration": 169,
    "start_time": "2022-06-02T17:25:28.293Z"
   },
   {
    "duration": 170,
    "start_time": "2022-06-02T17:25:28.465Z"
   },
   {
    "duration": 181,
    "start_time": "2022-06-02T17:26:08.774Z"
   },
   {
    "duration": 8,
    "start_time": "2022-06-02T17:31:39.879Z"
   },
   {
    "duration": 9,
    "start_time": "2022-06-02T17:31:54.685Z"
   },
   {
    "duration": 12,
    "start_time": "2022-06-02T17:32:01.705Z"
   },
   {
    "duration": 120,
    "start_time": "2022-06-02T17:32:15.263Z"
   },
   {
    "duration": 12,
    "start_time": "2022-06-02T17:32:33.244Z"
   },
   {
    "duration": 13,
    "start_time": "2022-06-02T17:34:06.181Z"
   },
   {
    "duration": 259,
    "start_time": "2022-06-02T17:36:39.388Z"
   },
   {
    "duration": 166,
    "start_time": "2022-06-02T17:37:02.906Z"
   },
   {
    "duration": 169,
    "start_time": "2022-06-02T17:37:23.316Z"
   },
   {
    "duration": 14,
    "start_time": "2022-06-02T17:38:06.969Z"
   },
   {
    "duration": 186,
    "start_time": "2022-06-02T17:38:29.874Z"
   },
   {
    "duration": 12,
    "start_time": "2022-06-02T17:45:25.903Z"
   },
   {
    "duration": 10,
    "start_time": "2022-06-02T17:45:35.903Z"
   },
   {
    "duration": 47,
    "start_time": "2022-06-02T17:50:10.384Z"
   },
   {
    "duration": 46,
    "start_time": "2022-06-02T17:50:21.354Z"
   },
   {
    "duration": 49,
    "start_time": "2022-06-02T17:50:28.069Z"
   },
   {
    "duration": 146,
    "start_time": "2022-06-02T17:50:45.955Z"
   },
   {
    "duration": 56,
    "start_time": "2022-06-02T17:53:04.448Z"
   },
   {
    "duration": 50,
    "start_time": "2022-06-02T17:53:23.719Z"
   },
   {
    "duration": 59,
    "start_time": "2022-06-02T17:53:59.953Z"
   },
   {
    "duration": 70,
    "start_time": "2022-06-02T17:55:43.947Z"
   },
   {
    "duration": 29,
    "start_time": "2022-06-02T17:56:29.029Z"
   },
   {
    "duration": 15,
    "start_time": "2022-06-02T17:58:12.321Z"
   },
   {
    "duration": 24,
    "start_time": "2022-06-02T17:58:19.733Z"
   },
   {
    "duration": 15,
    "start_time": "2022-06-02T17:58:34.357Z"
   },
   {
    "duration": 15,
    "start_time": "2022-06-02T17:59:03.555Z"
   },
   {
    "duration": 20,
    "start_time": "2022-06-02T17:59:12.308Z"
   },
   {
    "duration": 17,
    "start_time": "2022-06-02T17:59:30.797Z"
   },
   {
    "duration": 15,
    "start_time": "2022-06-02T18:00:31.266Z"
   },
   {
    "duration": 59,
    "start_time": "2022-06-02T18:02:39.857Z"
   },
   {
    "duration": 20,
    "start_time": "2022-06-02T18:18:05.699Z"
   },
   {
    "duration": 8,
    "start_time": "2022-06-02T18:18:15.247Z"
   },
   {
    "duration": 23,
    "start_time": "2022-06-02T18:19:16.541Z"
   },
   {
    "duration": 10,
    "start_time": "2022-06-02T18:19:21.711Z"
   },
   {
    "duration": 17,
    "start_time": "2022-06-02T18:19:33.138Z"
   },
   {
    "duration": 33,
    "start_time": "2022-06-02T18:20:49.968Z"
   },
   {
    "duration": 25,
    "start_time": "2022-06-02T18:21:32.651Z"
   },
   {
    "duration": 18,
    "start_time": "2022-06-02T18:22:21.614Z"
   },
   {
    "duration": 23,
    "start_time": "2022-06-02T18:24:54.484Z"
   },
   {
    "duration": 17,
    "start_time": "2022-06-02T18:25:06.981Z"
   },
   {
    "duration": 17,
    "start_time": "2022-06-02T18:25:12.095Z"
   },
   {
    "duration": 17,
    "start_time": "2022-06-02T18:25:21.179Z"
   },
   {
    "duration": 23,
    "start_time": "2022-06-02T18:25:31.664Z"
   },
   {
    "duration": 17,
    "start_time": "2022-06-02T18:25:38.096Z"
   },
   {
    "duration": 8,
    "start_time": "2022-06-02T18:25:58.605Z"
   },
   {
    "duration": 18,
    "start_time": "2022-06-02T18:27:16.861Z"
   },
   {
    "duration": 8,
    "start_time": "2022-06-02T18:27:20.491Z"
   },
   {
    "duration": 18,
    "start_time": "2022-06-02T18:27:47.751Z"
   },
   {
    "duration": 26,
    "start_time": "2022-06-02T18:27:52.222Z"
   },
   {
    "duration": 19,
    "start_time": "2022-06-02T18:28:07.328Z"
   },
   {
    "duration": 22,
    "start_time": "2022-06-02T18:28:12.394Z"
   },
   {
    "duration": 1172,
    "start_time": "2022-06-02T18:28:24.424Z"
   },
   {
    "duration": 94,
    "start_time": "2022-06-02T18:28:25.598Z"
   },
   {
    "duration": 18,
    "start_time": "2022-06-02T18:28:25.694Z"
   },
   {
    "duration": 25,
    "start_time": "2022-06-02T18:28:25.714Z"
   },
   {
    "duration": 87,
    "start_time": "2022-06-02T18:28:25.740Z"
   },
   {
    "duration": 6,
    "start_time": "2022-06-02T18:28:25.828Z"
   },
   {
    "duration": 236,
    "start_time": "2022-06-02T18:28:25.836Z"
   },
   {
    "duration": 8,
    "start_time": "2022-06-02T18:28:26.073Z"
   },
   {
    "duration": 100,
    "start_time": "2022-06-02T18:28:26.083Z"
   },
   {
    "duration": 20,
    "start_time": "2022-06-02T18:28:26.185Z"
   },
   {
    "duration": 2,
    "start_time": "2022-06-02T18:28:26.206Z"
   },
   {
    "duration": 6,
    "start_time": "2022-06-02T18:28:26.210Z"
   },
   {
    "duration": 270,
    "start_time": "2022-06-02T18:28:26.218Z"
   },
   {
    "duration": 155,
    "start_time": "2022-06-02T18:28:26.490Z"
   },
   {
    "duration": 14,
    "start_time": "2022-06-02T18:28:26.647Z"
   },
   {
    "duration": 20,
    "start_time": "2022-06-02T18:28:26.663Z"
   },
   {
    "duration": 173,
    "start_time": "2022-06-02T18:28:26.685Z"
   },
   {
    "duration": 51,
    "start_time": "2022-06-02T18:28:26.860Z"
   },
   {
    "duration": 23,
    "start_time": "2022-06-02T18:28:26.913Z"
   },
   {
    "duration": 14,
    "start_time": "2022-06-02T18:28:26.937Z"
   },
   {
    "duration": 136,
    "start_time": "2022-06-02T18:28:26.953Z"
   },
   {
    "duration": 4,
    "start_time": "2022-06-02T18:28:43.803Z"
   },
   {
    "duration": 82,
    "start_time": "2022-06-02T18:28:43.809Z"
   },
   {
    "duration": 13,
    "start_time": "2022-06-02T18:28:43.893Z"
   },
   {
    "duration": 23,
    "start_time": "2022-06-02T18:28:43.907Z"
   },
   {
    "duration": 111,
    "start_time": "2022-06-02T18:28:43.931Z"
   },
   {
    "duration": 7,
    "start_time": "2022-06-02T18:28:44.044Z"
   },
   {
    "duration": 168,
    "start_time": "2022-06-02T18:28:44.053Z"
   },
   {
    "duration": 8,
    "start_time": "2022-06-02T18:28:44.222Z"
   },
   {
    "duration": 108,
    "start_time": "2022-06-02T18:28:44.232Z"
   },
   {
    "duration": 19,
    "start_time": "2022-06-02T18:28:44.342Z"
   },
   {
    "duration": 15,
    "start_time": "2022-06-02T18:28:44.364Z"
   },
   {
    "duration": 3,
    "start_time": "2022-06-02T18:28:44.381Z"
   },
   {
    "duration": 258,
    "start_time": "2022-06-02T18:28:44.386Z"
   },
   {
    "duration": 167,
    "start_time": "2022-06-02T18:28:44.646Z"
   },
   {
    "duration": 11,
    "start_time": "2022-06-02T18:28:44.815Z"
   },
   {
    "duration": 11,
    "start_time": "2022-06-02T18:28:44.828Z"
   },
   {
    "duration": 307,
    "start_time": "2022-06-02T18:28:44.841Z"
   },
   {
    "duration": 71,
    "start_time": "2022-06-02T18:28:45.150Z"
   },
   {
    "duration": 28,
    "start_time": "2022-06-02T18:28:45.223Z"
   },
   {
    "duration": 41,
    "start_time": "2022-06-02T18:28:45.252Z"
   },
   {
    "duration": 17,
    "start_time": "2022-06-02T18:28:45.295Z"
   },
   {
    "duration": 18,
    "start_time": "2022-06-02T18:29:02.008Z"
   },
   {
    "duration": 19,
    "start_time": "2022-06-02T18:29:13.665Z"
   },
   {
    "duration": 12,
    "start_time": "2022-06-02T18:29:34.773Z"
   },
   {
    "duration": 17,
    "start_time": "2022-06-02T18:29:45.859Z"
   },
   {
    "duration": 23,
    "start_time": "2022-06-02T18:29:52.214Z"
   },
   {
    "duration": 21,
    "start_time": "2022-06-02T18:29:56.813Z"
   },
   {
    "duration": 18,
    "start_time": "2022-06-02T18:30:04.946Z"
   },
   {
    "duration": 12,
    "start_time": "2022-06-02T18:30:34.618Z"
   },
   {
    "duration": 21,
    "start_time": "2022-06-02T18:31:12.797Z"
   },
   {
    "duration": 9,
    "start_time": "2022-06-02T18:32:32.102Z"
   },
   {
    "duration": 13,
    "start_time": "2022-06-02T18:32:41.043Z"
   },
   {
    "duration": 86,
    "start_time": "2022-06-02T18:33:52.825Z"
   },
   {
    "duration": 14,
    "start_time": "2022-06-02T18:34:16.263Z"
   },
   {
    "duration": 15,
    "start_time": "2022-06-02T18:36:04.464Z"
   },
   {
    "duration": 54,
    "start_time": "2022-06-02T20:30:57.392Z"
   },
   {
    "duration": 1476,
    "start_time": "2022-06-02T20:31:04.130Z"
   },
   {
    "duration": 255,
    "start_time": "2022-06-02T20:31:05.608Z"
   },
   {
    "duration": 19,
    "start_time": "2022-06-02T20:31:05.865Z"
   },
   {
    "duration": 49,
    "start_time": "2022-06-02T20:31:05.887Z"
   },
   {
    "duration": 122,
    "start_time": "2022-06-02T20:31:05.939Z"
   },
   {
    "duration": 14,
    "start_time": "2022-06-02T20:31:06.064Z"
   },
   {
    "duration": 268,
    "start_time": "2022-06-02T20:31:06.080Z"
   },
   {
    "duration": 7,
    "start_time": "2022-06-02T20:31:06.349Z"
   },
   {
    "duration": 138,
    "start_time": "2022-06-02T20:31:06.358Z"
   },
   {
    "duration": 19,
    "start_time": "2022-06-02T20:31:06.499Z"
   },
   {
    "duration": 2,
    "start_time": "2022-06-02T20:31:06.520Z"
   },
   {
    "duration": 7,
    "start_time": "2022-06-02T20:31:06.523Z"
   },
   {
    "duration": 292,
    "start_time": "2022-06-02T20:31:06.531Z"
   },
   {
    "duration": 187,
    "start_time": "2022-06-02T20:31:06.824Z"
   },
   {
    "duration": 11,
    "start_time": "2022-06-02T20:31:07.029Z"
   },
   {
    "duration": 11,
    "start_time": "2022-06-02T20:31:07.042Z"
   },
   {
    "duration": 190,
    "start_time": "2022-06-02T20:31:07.054Z"
   },
   {
    "duration": 64,
    "start_time": "2022-06-02T20:31:07.245Z"
   },
   {
    "duration": 24,
    "start_time": "2022-06-02T20:31:07.311Z"
   },
   {
    "duration": 47,
    "start_time": "2022-06-02T20:31:07.337Z"
   },
   {
    "duration": 12,
    "start_time": "2022-06-02T20:31:07.386Z"
   },
   {
    "duration": 70,
    "start_time": "2022-06-02T20:32:41.285Z"
   },
   {
    "duration": 12,
    "start_time": "2022-06-02T20:32:51.782Z"
   },
   {
    "duration": 18,
    "start_time": "2022-06-02T20:34:16.817Z"
   },
   {
    "duration": 11,
    "start_time": "2022-06-02T20:34:33.350Z"
   },
   {
    "duration": 9,
    "start_time": "2022-06-02T20:35:46.867Z"
   },
   {
    "duration": 9,
    "start_time": "2022-06-02T20:35:57.142Z"
   },
   {
    "duration": 11,
    "start_time": "2022-06-02T20:36:14.217Z"
   },
   {
    "duration": 27,
    "start_time": "2022-06-02T20:36:56.399Z"
   },
   {
    "duration": 21,
    "start_time": "2022-06-02T20:37:11.597Z"
   },
   {
    "duration": 28,
    "start_time": "2022-06-02T20:37:47.359Z"
   },
   {
    "duration": 13,
    "start_time": "2022-06-02T20:38:11.343Z"
   },
   {
    "duration": 12,
    "start_time": "2022-06-02T20:38:29.687Z"
   },
   {
    "duration": 35,
    "start_time": "2022-06-02T20:38:47.905Z"
   },
   {
    "duration": 12,
    "start_time": "2022-06-02T20:38:57.105Z"
   },
   {
    "duration": 32,
    "start_time": "2022-06-02T20:40:14.146Z"
   },
   {
    "duration": 1916,
    "start_time": "2022-06-03T17:01:42.755Z"
   },
   {
    "duration": 1527,
    "start_time": "2022-06-03T17:01:52.394Z"
   },
   {
    "duration": 150,
    "start_time": "2022-06-03T17:01:53.924Z"
   },
   {
    "duration": 15,
    "start_time": "2022-06-03T17:01:54.076Z"
   },
   {
    "duration": 22,
    "start_time": "2022-06-03T17:01:54.093Z"
   },
   {
    "duration": 88,
    "start_time": "2022-06-03T17:01:54.118Z"
   },
   {
    "duration": 8,
    "start_time": "2022-06-03T17:01:54.208Z"
   },
   {
    "duration": 261,
    "start_time": "2022-06-03T17:01:54.225Z"
   },
   {
    "duration": 7,
    "start_time": "2022-06-03T17:01:54.488Z"
   },
   {
    "duration": 106,
    "start_time": "2022-06-03T17:01:54.496Z"
   },
   {
    "duration": 31,
    "start_time": "2022-06-03T17:01:54.604Z"
   },
   {
    "duration": 6,
    "start_time": "2022-06-03T17:01:54.637Z"
   },
   {
    "duration": 19,
    "start_time": "2022-06-03T17:01:54.645Z"
   },
   {
    "duration": 331,
    "start_time": "2022-06-03T17:01:54.666Z"
   },
   {
    "duration": 25,
    "start_time": "2022-06-03T17:01:55.002Z"
   },
   {
    "duration": 238,
    "start_time": "2022-06-03T17:01:55.028Z"
   },
   {
    "duration": 13,
    "start_time": "2022-06-03T17:01:55.268Z"
   },
   {
    "duration": 12,
    "start_time": "2022-06-03T17:01:55.283Z"
   },
   {
    "duration": 214,
    "start_time": "2022-06-03T17:01:55.297Z"
   },
   {
    "duration": 75,
    "start_time": "2022-06-03T17:01:55.512Z"
   },
   {
    "duration": 24,
    "start_time": "2022-06-03T17:01:55.589Z"
   },
   {
    "duration": 30,
    "start_time": "2022-06-03T17:01:55.615Z"
   },
   {
    "duration": 2075,
    "start_time": "2022-06-03T17:01:55.647Z"
   },
   {
    "duration": 18,
    "start_time": "2022-06-03T17:01:57.729Z"
   },
   {
    "duration": 143,
    "start_time": "2022-06-03T17:01:57.749Z"
   },
   {
    "duration": 92,
    "start_time": "2022-06-03T17:03:22.901Z"
   },
   {
    "duration": 159,
    "start_time": "2022-06-03T17:04:24.938Z"
   },
   {
    "duration": 62,
    "start_time": "2022-06-03T17:04:54.921Z"
   },
   {
    "duration": 39,
    "start_time": "2022-06-03T17:04:58.485Z"
   },
   {
    "duration": 35,
    "start_time": "2022-06-03T17:05:08.940Z"
   },
   {
    "duration": 23,
    "start_time": "2022-06-03T17:05:20.154Z"
   },
   {
    "duration": 53,
    "start_time": "2022-06-03T17:05:38.719Z"
   },
   {
    "duration": 1448,
    "start_time": "2022-06-03T17:05:49.837Z"
   },
   {
    "duration": 97,
    "start_time": "2022-06-03T17:05:51.287Z"
   },
   {
    "duration": 14,
    "start_time": "2022-06-03T17:05:51.386Z"
   },
   {
    "duration": 50,
    "start_time": "2022-06-03T17:05:51.403Z"
   },
   {
    "duration": 134,
    "start_time": "2022-06-03T17:05:51.457Z"
   },
   {
    "duration": 9,
    "start_time": "2022-06-03T17:05:51.593Z"
   },
   {
    "duration": 303,
    "start_time": "2022-06-03T17:05:51.604Z"
   },
   {
    "duration": 7,
    "start_time": "2022-06-03T17:05:51.909Z"
   },
   {
    "duration": 120,
    "start_time": "2022-06-03T17:05:51.929Z"
   },
   {
    "duration": 28,
    "start_time": "2022-06-03T17:05:52.053Z"
   },
   {
    "duration": 5,
    "start_time": "2022-06-03T17:05:52.084Z"
   },
   {
    "duration": 4,
    "start_time": "2022-06-03T17:05:52.091Z"
   },
   {
    "duration": 363,
    "start_time": "2022-06-03T17:05:52.097Z"
   },
   {
    "duration": 19,
    "start_time": "2022-06-03T17:05:52.462Z"
   },
   {
    "duration": 216,
    "start_time": "2022-06-03T17:05:52.483Z"
   },
   {
    "duration": 28,
    "start_time": "2022-06-03T17:05:52.700Z"
   },
   {
    "duration": 41,
    "start_time": "2022-06-03T17:05:52.729Z"
   },
   {
    "duration": 267,
    "start_time": "2022-06-03T17:05:52.772Z"
   },
   {
    "duration": 176,
    "start_time": "2022-06-03T17:05:53.041Z"
   },
   {
    "duration": 0,
    "start_time": "2022-06-03T17:05:53.225Z"
   },
   {
    "duration": 0,
    "start_time": "2022-06-03T17:05:53.226Z"
   },
   {
    "duration": 0,
    "start_time": "2022-06-03T17:05:53.227Z"
   },
   {
    "duration": 0,
    "start_time": "2022-06-03T17:05:53.228Z"
   },
   {
    "duration": 0,
    "start_time": "2022-06-03T17:05:53.229Z"
   },
   {
    "duration": 0,
    "start_time": "2022-06-03T17:05:53.230Z"
   },
   {
    "duration": 46,
    "start_time": "2022-06-03T17:05:59.614Z"
   },
   {
    "duration": 68,
    "start_time": "2022-06-03T17:06:04.218Z"
   },
   {
    "duration": 153,
    "start_time": "2022-06-03T17:06:35.655Z"
   },
   {
    "duration": 10,
    "start_time": "2022-06-03T17:06:56.787Z"
   },
   {
    "duration": 2052,
    "start_time": "2022-06-03T17:06:59.895Z"
   },
   {
    "duration": 64,
    "start_time": "2022-06-03T17:07:02.996Z"
   },
   {
    "duration": 75,
    "start_time": "2022-06-03T17:07:20.874Z"
   },
   {
    "duration": 261,
    "start_time": "2022-06-03T17:11:12.843Z"
   },
   {
    "duration": 45,
    "start_time": "2022-06-03T17:12:40.550Z"
   },
   {
    "duration": 429,
    "start_time": "2022-06-03T17:12:49.681Z"
   },
   {
    "duration": 1454,
    "start_time": "2022-06-03T17:13:04.236Z"
   },
   {
    "duration": 87,
    "start_time": "2022-06-03T17:13:05.692Z"
   },
   {
    "duration": 16,
    "start_time": "2022-06-03T17:13:05.780Z"
   },
   {
    "duration": 41,
    "start_time": "2022-06-03T17:13:05.798Z"
   },
   {
    "duration": 80,
    "start_time": "2022-06-03T17:13:05.841Z"
   },
   {
    "duration": 15,
    "start_time": "2022-06-03T17:13:05.925Z"
   },
   {
    "duration": 252,
    "start_time": "2022-06-03T17:13:05.943Z"
   },
   {
    "duration": 7,
    "start_time": "2022-06-03T17:13:06.197Z"
   },
   {
    "duration": 126,
    "start_time": "2022-06-03T17:13:06.206Z"
   },
   {
    "duration": 29,
    "start_time": "2022-06-03T17:13:06.337Z"
   },
   {
    "duration": 3,
    "start_time": "2022-06-03T17:13:06.367Z"
   },
   {
    "duration": 8,
    "start_time": "2022-06-03T17:13:06.372Z"
   },
   {
    "duration": 298,
    "start_time": "2022-06-03T17:13:06.382Z"
   },
   {
    "duration": 19,
    "start_time": "2022-06-03T17:13:06.684Z"
   },
   {
    "duration": 197,
    "start_time": "2022-06-03T17:13:06.705Z"
   },
   {
    "duration": 35,
    "start_time": "2022-06-03T17:13:06.904Z"
   },
   {
    "duration": 15,
    "start_time": "2022-06-03T17:13:06.941Z"
   },
   {
    "duration": 254,
    "start_time": "2022-06-03T17:13:06.958Z"
   },
   {
    "duration": 93,
    "start_time": "2022-06-03T17:13:07.214Z"
   },
   {
    "duration": 43,
    "start_time": "2022-06-03T17:13:07.309Z"
   },
   {
    "duration": 24,
    "start_time": "2022-06-03T17:13:07.354Z"
   },
   {
    "duration": 2070,
    "start_time": "2022-06-03T17:13:07.380Z"
   },
   {
    "duration": 194,
    "start_time": "2022-06-03T17:13:09.452Z"
   },
   {
    "duration": 83,
    "start_time": "2022-06-03T17:13:09.649Z"
   },
   {
    "duration": 12,
    "start_time": "2022-06-03T17:13:09.740Z"
   },
   {
    "duration": 150,
    "start_time": "2022-06-03T17:13:09.754Z"
   },
   {
    "duration": 4,
    "start_time": "2022-06-03T17:13:20.000Z"
   },
   {
    "duration": 105,
    "start_time": "2022-06-03T17:13:20.007Z"
   },
   {
    "duration": 25,
    "start_time": "2022-06-03T17:13:20.114Z"
   },
   {
    "duration": 34,
    "start_time": "2022-06-03T17:13:20.141Z"
   },
   {
    "duration": 84,
    "start_time": "2022-06-03T17:13:20.177Z"
   },
   {
    "duration": 8,
    "start_time": "2022-06-03T17:13:20.262Z"
   },
   {
    "duration": 181,
    "start_time": "2022-06-03T17:13:20.272Z"
   },
   {
    "duration": 7,
    "start_time": "2022-06-03T17:13:20.455Z"
   },
   {
    "duration": 125,
    "start_time": "2022-06-03T17:13:20.465Z"
   },
   {
    "duration": 37,
    "start_time": "2022-06-03T17:13:20.592Z"
   },
   {
    "duration": 7,
    "start_time": "2022-06-03T17:13:20.637Z"
   },
   {
    "duration": 9,
    "start_time": "2022-06-03T17:13:20.645Z"
   },
   {
    "duration": 283,
    "start_time": "2022-06-03T17:13:20.656Z"
   },
   {
    "duration": 15,
    "start_time": "2022-06-03T17:13:20.947Z"
   },
   {
    "duration": 189,
    "start_time": "2022-06-03T17:13:20.963Z"
   },
   {
    "duration": 13,
    "start_time": "2022-06-03T17:13:21.155Z"
   },
   {
    "duration": 14,
    "start_time": "2022-06-03T17:13:21.170Z"
   },
   {
    "duration": 266,
    "start_time": "2022-06-03T17:13:21.186Z"
   },
   {
    "duration": 119,
    "start_time": "2022-06-03T17:13:21.454Z"
   },
   {
    "duration": 33,
    "start_time": "2022-06-03T17:13:21.575Z"
   },
   {
    "duration": 41,
    "start_time": "2022-06-03T17:13:21.611Z"
   },
   {
    "duration": 1977,
    "start_time": "2022-06-03T17:13:21.656Z"
   },
   {
    "duration": 151,
    "start_time": "2022-06-03T17:13:23.640Z"
   },
   {
    "duration": 75,
    "start_time": "2022-06-03T17:13:23.795Z"
   },
   {
    "duration": 14,
    "start_time": "2022-06-03T17:13:23.872Z"
   },
   {
    "duration": 248,
    "start_time": "2022-06-03T17:14:41.243Z"
   },
   {
    "duration": 181,
    "start_time": "2022-06-03T17:14:46.447Z"
   },
   {
    "duration": 45,
    "start_time": "2022-06-03T17:14:49.446Z"
   },
   {
    "duration": 1854,
    "start_time": "2022-06-03T17:14:54.144Z"
   },
   {
    "duration": 1891,
    "start_time": "2022-06-03T17:15:10.292Z"
   },
   {
    "duration": 1935,
    "start_time": "2022-06-03T17:15:17.198Z"
   },
   {
    "duration": 445,
    "start_time": "2022-06-03T17:17:46.908Z"
   },
   {
    "duration": 5,
    "start_time": "2022-06-03T17:17:53.566Z"
   },
   {
    "duration": 151,
    "start_time": "2022-06-03T17:17:53.582Z"
   },
   {
    "duration": 17,
    "start_time": "2022-06-03T17:17:53.738Z"
   },
   {
    "duration": 24,
    "start_time": "2022-06-03T17:17:53.757Z"
   },
   {
    "duration": 125,
    "start_time": "2022-06-03T17:17:53.783Z"
   },
   {
    "duration": 7,
    "start_time": "2022-06-03T17:17:53.910Z"
   },
   {
    "duration": 156,
    "start_time": "2022-06-03T17:17:53.929Z"
   },
   {
    "duration": 9,
    "start_time": "2022-06-03T17:17:54.088Z"
   },
   {
    "duration": 221,
    "start_time": "2022-06-03T17:17:54.099Z"
   },
   {
    "duration": 35,
    "start_time": "2022-06-03T17:17:54.322Z"
   },
   {
    "duration": 3,
    "start_time": "2022-06-03T17:17:54.358Z"
   },
   {
    "duration": 7,
    "start_time": "2022-06-03T17:17:54.363Z"
   },
   {
    "duration": 290,
    "start_time": "2022-06-03T17:17:54.372Z"
   },
   {
    "duration": 16,
    "start_time": "2022-06-03T17:17:54.664Z"
   },
   {
    "duration": 257,
    "start_time": "2022-06-03T17:17:54.684Z"
   },
   {
    "duration": 17,
    "start_time": "2022-06-03T17:17:54.945Z"
   },
   {
    "duration": 24,
    "start_time": "2022-06-03T17:17:54.965Z"
   },
   {
    "duration": 216,
    "start_time": "2022-06-03T17:17:54.991Z"
   },
   {
    "duration": 64,
    "start_time": "2022-06-03T17:17:55.208Z"
   },
   {
    "duration": 27,
    "start_time": "2022-06-03T17:17:55.273Z"
   },
   {
    "duration": 46,
    "start_time": "2022-06-03T17:17:55.301Z"
   },
   {
    "duration": 1980,
    "start_time": "2022-06-03T17:17:55.348Z"
   },
   {
    "duration": 55,
    "start_time": "2022-06-03T17:17:57.330Z"
   },
   {
    "duration": 17,
    "start_time": "2022-06-03T17:17:57.387Z"
   },
   {
    "duration": 1329,
    "start_time": "2022-06-03T17:18:02.256Z"
   },
   {
    "duration": 107,
    "start_time": "2022-06-03T17:18:03.588Z"
   },
   {
    "duration": 30,
    "start_time": "2022-06-03T17:18:03.697Z"
   },
   {
    "duration": 43,
    "start_time": "2022-06-03T17:18:03.731Z"
   },
   {
    "duration": 95,
    "start_time": "2022-06-03T17:18:03.777Z"
   },
   {
    "duration": 6,
    "start_time": "2022-06-03T17:18:03.874Z"
   },
   {
    "duration": 259,
    "start_time": "2022-06-03T17:18:03.882Z"
   },
   {
    "duration": 7,
    "start_time": "2022-06-03T17:18:04.143Z"
   },
   {
    "duration": 106,
    "start_time": "2022-06-03T17:18:04.152Z"
   },
   {
    "duration": 22,
    "start_time": "2022-06-03T17:18:04.259Z"
   },
   {
    "duration": 3,
    "start_time": "2022-06-03T17:18:04.283Z"
   },
   {
    "duration": 29,
    "start_time": "2022-06-03T17:18:04.287Z"
   },
   {
    "duration": 317,
    "start_time": "2022-06-03T17:18:04.318Z"
   },
   {
    "duration": 14,
    "start_time": "2022-06-03T17:18:04.642Z"
   },
   {
    "duration": 227,
    "start_time": "2022-06-03T17:18:04.658Z"
   },
   {
    "duration": 16,
    "start_time": "2022-06-03T17:18:04.888Z"
   },
   {
    "duration": 58,
    "start_time": "2022-06-03T17:18:04.906Z"
   },
   {
    "duration": 217,
    "start_time": "2022-06-03T17:18:04.969Z"
   },
   {
    "duration": 65,
    "start_time": "2022-06-03T17:18:05.188Z"
   },
   {
    "duration": 36,
    "start_time": "2022-06-03T17:18:05.254Z"
   },
   {
    "duration": 15,
    "start_time": "2022-06-03T17:18:05.292Z"
   },
   {
    "duration": 2003,
    "start_time": "2022-06-03T17:18:05.309Z"
   },
   {
    "duration": 64,
    "start_time": "2022-06-03T17:18:07.314Z"
   },
   {
    "duration": 11,
    "start_time": "2022-06-03T17:18:07.380Z"
   },
   {
    "duration": 83,
    "start_time": "2022-06-03T17:21:10.843Z"
   },
   {
    "duration": 47,
    "start_time": "2022-06-03T17:22:58.604Z"
   },
   {
    "duration": 1981,
    "start_time": "2022-06-03T17:23:10.904Z"
   },
   {
    "duration": 143,
    "start_time": "2022-06-03T17:23:22.705Z"
   },
   {
    "duration": 19,
    "start_time": "2022-06-03T17:23:27.743Z"
   },
   {
    "duration": 1395,
    "start_time": "2022-06-03T17:23:50.566Z"
   },
   {
    "duration": 87,
    "start_time": "2022-06-03T17:23:51.962Z"
   },
   {
    "duration": 22,
    "start_time": "2022-06-03T17:23:52.051Z"
   },
   {
    "duration": 50,
    "start_time": "2022-06-03T17:23:52.076Z"
   },
   {
    "duration": 99,
    "start_time": "2022-06-03T17:23:52.130Z"
   },
   {
    "duration": 12,
    "start_time": "2022-06-03T17:23:52.235Z"
   },
   {
    "duration": 247,
    "start_time": "2022-06-03T17:23:52.249Z"
   },
   {
    "duration": 9,
    "start_time": "2022-06-03T17:23:52.499Z"
   },
   {
    "duration": 123,
    "start_time": "2022-06-03T17:23:52.510Z"
   },
   {
    "duration": 23,
    "start_time": "2022-06-03T17:23:52.635Z"
   },
   {
    "duration": 2,
    "start_time": "2022-06-03T17:23:52.660Z"
   },
   {
    "duration": 5,
    "start_time": "2022-06-03T17:23:52.664Z"
   },
   {
    "duration": 307,
    "start_time": "2022-06-03T17:23:52.671Z"
   },
   {
    "duration": 16,
    "start_time": "2022-06-03T17:23:52.980Z"
   },
   {
    "duration": 186,
    "start_time": "2022-06-03T17:23:52.998Z"
   },
   {
    "duration": 12,
    "start_time": "2022-06-03T17:23:53.185Z"
   },
   {
    "duration": 10,
    "start_time": "2022-06-03T17:23:53.199Z"
   },
   {
    "duration": 219,
    "start_time": "2022-06-03T17:23:53.225Z"
   },
   {
    "duration": 83,
    "start_time": "2022-06-03T17:23:53.447Z"
   },
   {
    "duration": 21,
    "start_time": "2022-06-03T17:23:53.536Z"
   },
   {
    "duration": 28,
    "start_time": "2022-06-03T17:23:53.559Z"
   },
   {
    "duration": 15,
    "start_time": "2022-06-03T17:23:53.589Z"
   },
   {
    "duration": 1917,
    "start_time": "2022-06-03T17:23:53.606Z"
   },
   {
    "duration": 49,
    "start_time": "2022-06-03T17:23:55.528Z"
   },
   {
    "duration": 101,
    "start_time": "2022-06-03T17:23:55.580Z"
   },
   {
    "duration": 12,
    "start_time": "2022-06-03T17:23:55.683Z"
   },
   {
    "duration": 151,
    "start_time": "2022-06-03T17:24:55.988Z"
   },
   {
    "duration": 18,
    "start_time": "2022-06-03T17:25:00.167Z"
   },
   {
    "duration": 1280,
    "start_time": "2022-06-03T17:25:09.623Z"
   },
   {
    "duration": 90,
    "start_time": "2022-06-03T17:25:10.905Z"
   },
   {
    "duration": 15,
    "start_time": "2022-06-03T17:25:10.997Z"
   },
   {
    "duration": 35,
    "start_time": "2022-06-03T17:25:11.015Z"
   },
   {
    "duration": 95,
    "start_time": "2022-06-03T17:25:11.052Z"
   },
   {
    "duration": 7,
    "start_time": "2022-06-03T17:25:11.149Z"
   },
   {
    "duration": 242,
    "start_time": "2022-06-03T17:25:11.158Z"
   },
   {
    "duration": 9,
    "start_time": "2022-06-03T17:25:11.402Z"
   },
   {
    "duration": 99,
    "start_time": "2022-06-03T17:25:11.438Z"
   },
   {
    "duration": 33,
    "start_time": "2022-06-03T17:25:11.542Z"
   },
   {
    "duration": 3,
    "start_time": "2022-06-03T17:25:11.577Z"
   },
   {
    "duration": 7,
    "start_time": "2022-06-03T17:25:11.582Z"
   },
   {
    "duration": 276,
    "start_time": "2022-06-03T17:25:11.590Z"
   },
   {
    "duration": 13,
    "start_time": "2022-06-03T17:25:11.868Z"
   },
   {
    "duration": 175,
    "start_time": "2022-06-03T17:25:11.882Z"
   },
   {
    "duration": 12,
    "start_time": "2022-06-03T17:25:12.058Z"
   },
   {
    "duration": 10,
    "start_time": "2022-06-03T17:25:12.072Z"
   },
   {
    "duration": 205,
    "start_time": "2022-06-03T17:25:12.084Z"
   },
   {
    "duration": 69,
    "start_time": "2022-06-03T17:25:12.291Z"
   },
   {
    "duration": 14,
    "start_time": "2022-06-03T17:25:12.362Z"
   },
   {
    "duration": 24,
    "start_time": "2022-06-03T17:25:12.378Z"
   },
   {
    "duration": 39,
    "start_time": "2022-06-03T17:25:12.404Z"
   },
   {
    "duration": 1943,
    "start_time": "2022-06-03T17:25:12.445Z"
   },
   {
    "duration": 52,
    "start_time": "2022-06-03T17:25:14.390Z"
   },
   {
    "duration": 68,
    "start_time": "2022-06-03T17:25:14.444Z"
   },
   {
    "duration": 27,
    "start_time": "2022-06-03T17:25:14.514Z"
   },
   {
    "duration": 171,
    "start_time": "2022-06-03T17:28:17.244Z"
   },
   {
    "duration": 31,
    "start_time": "2022-06-03T17:28:20.607Z"
   },
   {
    "duration": 1341,
    "start_time": "2022-06-03T17:28:26.715Z"
   },
   {
    "duration": 103,
    "start_time": "2022-06-03T17:28:28.058Z"
   },
   {
    "duration": 19,
    "start_time": "2022-06-03T17:28:28.163Z"
   },
   {
    "duration": 51,
    "start_time": "2022-06-03T17:28:28.183Z"
   },
   {
    "duration": 108,
    "start_time": "2022-06-03T17:28:28.243Z"
   },
   {
    "duration": 8,
    "start_time": "2022-06-03T17:28:28.353Z"
   },
   {
    "duration": 259,
    "start_time": "2022-06-03T17:28:28.362Z"
   },
   {
    "duration": 18,
    "start_time": "2022-06-03T17:28:28.623Z"
   },
   {
    "duration": 105,
    "start_time": "2022-06-03T17:28:28.645Z"
   },
   {
    "duration": 22,
    "start_time": "2022-06-03T17:28:28.752Z"
   },
   {
    "duration": 3,
    "start_time": "2022-06-03T17:28:28.776Z"
   },
   {
    "duration": 6,
    "start_time": "2022-06-03T17:28:28.780Z"
   },
   {
    "duration": 356,
    "start_time": "2022-06-03T17:28:28.788Z"
   },
   {
    "duration": 15,
    "start_time": "2022-06-03T17:28:29.147Z"
   },
   {
    "duration": 200,
    "start_time": "2022-06-03T17:28:29.164Z"
   },
   {
    "duration": 12,
    "start_time": "2022-06-03T17:28:29.366Z"
   },
   {
    "duration": 13,
    "start_time": "2022-06-03T17:28:29.380Z"
   },
   {
    "duration": 228,
    "start_time": "2022-06-03T17:28:29.395Z"
   },
   {
    "duration": 63,
    "start_time": "2022-06-03T17:28:29.627Z"
   },
   {
    "duration": 21,
    "start_time": "2022-06-03T17:28:29.692Z"
   },
   {
    "duration": 48,
    "start_time": "2022-06-03T17:28:29.715Z"
   },
   {
    "duration": 19,
    "start_time": "2022-06-03T17:28:29.766Z"
   },
   {
    "duration": 1942,
    "start_time": "2022-06-03T17:28:29.787Z"
   },
   {
    "duration": 36,
    "start_time": "2022-06-03T17:28:31.733Z"
   },
   {
    "duration": 182,
    "start_time": "2022-06-03T17:28:31.771Z"
   },
   {
    "duration": 0,
    "start_time": "2022-06-03T17:28:31.955Z"
   },
   {
    "duration": 40,
    "start_time": "2022-06-03T17:28:46.568Z"
   },
   {
    "duration": 49,
    "start_time": "2022-06-03T17:29:12.073Z"
   },
   {
    "duration": 417,
    "start_time": "2022-06-03T17:31:36.239Z"
   },
   {
    "duration": 12,
    "start_time": "2022-06-03T17:31:40.854Z"
   },
   {
    "duration": 12,
    "start_time": "2022-06-03T17:31:47.961Z"
   },
   {
    "duration": 1598,
    "start_time": "2022-06-03T17:32:02.418Z"
   },
   {
    "duration": 202,
    "start_time": "2022-06-03T17:32:04.018Z"
   },
   {
    "duration": 25,
    "start_time": "2022-06-03T17:32:04.222Z"
   },
   {
    "duration": 30,
    "start_time": "2022-06-03T17:32:04.252Z"
   },
   {
    "duration": 114,
    "start_time": "2022-06-03T17:32:04.284Z"
   },
   {
    "duration": 10,
    "start_time": "2022-06-03T17:32:04.400Z"
   },
   {
    "duration": 272,
    "start_time": "2022-06-03T17:32:04.412Z"
   },
   {
    "duration": 11,
    "start_time": "2022-06-03T17:32:04.686Z"
   },
   {
    "duration": 155,
    "start_time": "2022-06-03T17:32:04.699Z"
   },
   {
    "duration": 29,
    "start_time": "2022-06-03T17:32:04.857Z"
   },
   {
    "duration": 7,
    "start_time": "2022-06-03T17:32:04.888Z"
   },
   {
    "duration": 31,
    "start_time": "2022-06-03T17:32:04.898Z"
   },
   {
    "duration": 381,
    "start_time": "2022-06-03T17:32:04.932Z"
   },
   {
    "duration": 24,
    "start_time": "2022-06-03T17:32:05.315Z"
   },
   {
    "duration": 233,
    "start_time": "2022-06-03T17:32:05.341Z"
   },
   {
    "duration": 15,
    "start_time": "2022-06-03T17:32:05.576Z"
   },
   {
    "duration": 39,
    "start_time": "2022-06-03T17:32:05.593Z"
   },
   {
    "duration": 248,
    "start_time": "2022-06-03T17:32:05.633Z"
   },
   {
    "duration": 70,
    "start_time": "2022-06-03T17:32:05.883Z"
   },
   {
    "duration": 28,
    "start_time": "2022-06-03T17:32:05.955Z"
   },
   {
    "duration": 63,
    "start_time": "2022-06-03T17:32:05.985Z"
   },
   {
    "duration": 23,
    "start_time": "2022-06-03T17:32:06.050Z"
   },
   {
    "duration": 2134,
    "start_time": "2022-06-03T17:32:06.075Z"
   },
   {
    "duration": 48,
    "start_time": "2022-06-03T17:32:08.211Z"
   },
   {
    "duration": 41,
    "start_time": "2022-06-03T17:32:08.261Z"
   },
   {
    "duration": 66,
    "start_time": "2022-06-03T17:32:08.304Z"
   },
   {
    "duration": 10,
    "start_time": "2022-06-03T17:32:08.372Z"
   },
   {
    "duration": 3056,
    "start_time": "2022-06-03T17:37:37.955Z"
   },
   {
    "duration": 2447,
    "start_time": "2022-06-03T17:38:01.232Z"
   },
   {
    "duration": 2094,
    "start_time": "2022-06-03T17:38:05.760Z"
   },
   {
    "duration": 1889,
    "start_time": "2022-06-03T17:38:16.308Z"
   },
   {
    "duration": 52,
    "start_time": "2022-06-03T17:38:26.851Z"
   },
   {
    "duration": 20,
    "start_time": "2022-06-03T17:38:46.223Z"
   },
   {
    "duration": 13,
    "start_time": "2022-06-03T17:38:48.609Z"
   },
   {
    "duration": 13,
    "start_time": "2022-06-03T17:40:46.151Z"
   },
   {
    "duration": 20,
    "start_time": "2022-06-03T17:40:50.774Z"
   },
   {
    "duration": 14,
    "start_time": "2022-06-03T17:41:01.643Z"
   },
   {
    "duration": 374,
    "start_time": "2022-06-03T17:41:09.570Z"
   },
   {
    "duration": 1315,
    "start_time": "2022-06-03T17:41:23.359Z"
   },
   {
    "duration": 102,
    "start_time": "2022-06-03T17:41:24.677Z"
   },
   {
    "duration": 18,
    "start_time": "2022-06-03T17:41:24.781Z"
   },
   {
    "duration": 48,
    "start_time": "2022-06-03T17:41:24.802Z"
   },
   {
    "duration": 116,
    "start_time": "2022-06-03T17:41:24.853Z"
   },
   {
    "duration": 9,
    "start_time": "2022-06-03T17:41:24.971Z"
   },
   {
    "duration": 275,
    "start_time": "2022-06-03T17:41:24.982Z"
   },
   {
    "duration": 7,
    "start_time": "2022-06-03T17:41:25.259Z"
   },
   {
    "duration": 108,
    "start_time": "2022-06-03T17:41:25.268Z"
   },
   {
    "duration": 19,
    "start_time": "2022-06-03T17:41:25.378Z"
   },
   {
    "duration": 2,
    "start_time": "2022-06-03T17:41:25.399Z"
   },
   {
    "duration": 7,
    "start_time": "2022-06-03T17:41:25.402Z"
   },
   {
    "duration": 276,
    "start_time": "2022-06-03T17:41:25.426Z"
   },
   {
    "duration": 34,
    "start_time": "2022-06-03T17:41:25.705Z"
   },
   {
    "duration": 174,
    "start_time": "2022-06-03T17:41:25.741Z"
   },
   {
    "duration": 22,
    "start_time": "2022-06-03T17:41:25.916Z"
   },
   {
    "duration": 13,
    "start_time": "2022-06-03T17:41:25.940Z"
   },
   {
    "duration": 193,
    "start_time": "2022-06-03T17:41:25.954Z"
   },
   {
    "duration": 49,
    "start_time": "2022-06-03T17:41:26.149Z"
   },
   {
    "duration": 40,
    "start_time": "2022-06-03T17:41:26.200Z"
   },
   {
    "duration": 24,
    "start_time": "2022-06-03T17:41:26.242Z"
   },
   {
    "duration": 14,
    "start_time": "2022-06-03T17:41:26.267Z"
   },
   {
    "duration": 1997,
    "start_time": "2022-06-03T17:41:26.283Z"
   },
   {
    "duration": 59,
    "start_time": "2022-06-03T17:41:28.281Z"
   },
   {
    "duration": 35,
    "start_time": "2022-06-03T17:41:28.342Z"
   },
   {
    "duration": 56,
    "start_time": "2022-06-03T17:41:28.379Z"
   },
   {
    "duration": 132,
    "start_time": "2022-06-03T17:41:28.437Z"
   },
   {
    "duration": 0,
    "start_time": "2022-06-03T17:41:28.571Z"
   },
   {
    "duration": 35,
    "start_time": "2022-06-03T17:42:18.660Z"
   },
   {
    "duration": 54,
    "start_time": "2022-06-03T17:42:21.113Z"
   },
   {
    "duration": 19,
    "start_time": "2022-06-03T17:43:36.420Z"
   },
   {
    "duration": 61,
    "start_time": "2022-06-03T17:47:56.905Z"
   },
   {
    "duration": 53,
    "start_time": "2022-06-03T17:48:00.514Z"
   },
   {
    "duration": 1371,
    "start_time": "2022-06-03T17:48:13.416Z"
   },
   {
    "duration": 99,
    "start_time": "2022-06-03T17:48:14.790Z"
   },
   {
    "duration": 34,
    "start_time": "2022-06-03T17:48:14.891Z"
   },
   {
    "duration": 34,
    "start_time": "2022-06-03T17:48:14.928Z"
   },
   {
    "duration": 123,
    "start_time": "2022-06-03T17:48:14.965Z"
   },
   {
    "duration": 8,
    "start_time": "2022-06-03T17:48:15.090Z"
   },
   {
    "duration": 254,
    "start_time": "2022-06-03T17:48:15.100Z"
   },
   {
    "duration": 9,
    "start_time": "2022-06-03T17:48:15.356Z"
   },
   {
    "duration": 120,
    "start_time": "2022-06-03T17:48:15.367Z"
   },
   {
    "duration": 54,
    "start_time": "2022-06-03T17:48:15.491Z"
   },
   {
    "duration": 3,
    "start_time": "2022-06-03T17:48:15.549Z"
   },
   {
    "duration": 6,
    "start_time": "2022-06-03T17:48:15.553Z"
   },
   {
    "duration": 308,
    "start_time": "2022-06-03T17:48:15.560Z"
   },
   {
    "duration": 15,
    "start_time": "2022-06-03T17:48:15.870Z"
   },
   {
    "duration": 252,
    "start_time": "2022-06-03T17:48:15.887Z"
   },
   {
    "duration": 16,
    "start_time": "2022-06-03T17:48:16.141Z"
   },
   {
    "duration": 15,
    "start_time": "2022-06-03T17:48:16.159Z"
   },
   {
    "duration": 243,
    "start_time": "2022-06-03T17:48:16.176Z"
   },
   {
    "duration": 67,
    "start_time": "2022-06-03T17:48:16.420Z"
   },
   {
    "duration": 15,
    "start_time": "2022-06-03T17:48:16.488Z"
   },
   {
    "duration": 40,
    "start_time": "2022-06-03T17:48:16.505Z"
   },
   {
    "duration": 27,
    "start_time": "2022-06-03T17:48:16.546Z"
   },
   {
    "duration": 3071,
    "start_time": "2022-06-03T17:48:16.575Z"
   },
   {
    "duration": 45,
    "start_time": "2022-06-03T17:48:19.648Z"
   },
   {
    "duration": 70,
    "start_time": "2022-06-03T17:48:19.694Z"
   },
   {
    "duration": 19,
    "start_time": "2022-06-03T17:48:19.766Z"
   },
   {
    "duration": 54,
    "start_time": "2022-06-03T17:48:19.787Z"
   },
   {
    "duration": 13,
    "start_time": "2022-06-03T17:48:19.848Z"
   },
   {
    "duration": 20,
    "start_time": "2022-06-03T17:49:45.946Z"
   },
   {
    "duration": 21,
    "start_time": "2022-06-03T17:49:49.298Z"
   },
   {
    "duration": 15,
    "start_time": "2022-06-03T17:51:16.076Z"
   },
   {
    "duration": 20,
    "start_time": "2022-06-03T17:52:09.763Z"
   },
   {
    "duration": 16,
    "start_time": "2022-06-03T17:52:20.537Z"
   },
   {
    "duration": 37,
    "start_time": "2022-06-03T17:56:44.864Z"
   },
   {
    "duration": 150,
    "start_time": "2022-06-03T17:56:59.754Z"
   },
   {
    "duration": 33,
    "start_time": "2022-06-03T17:57:12.256Z"
   },
   {
    "duration": 61,
    "start_time": "2022-06-03T17:59:44.829Z"
   },
   {
    "duration": 36,
    "start_time": "2022-06-03T17:59:56.378Z"
   },
   {
    "duration": 1403,
    "start_time": "2022-06-03T18:00:03.751Z"
   },
   {
    "duration": 93,
    "start_time": "2022-06-03T18:00:05.156Z"
   },
   {
    "duration": 16,
    "start_time": "2022-06-03T18:00:05.250Z"
   },
   {
    "duration": 39,
    "start_time": "2022-06-03T18:00:05.269Z"
   },
   {
    "duration": 82,
    "start_time": "2022-06-03T18:00:05.326Z"
   },
   {
    "duration": 20,
    "start_time": "2022-06-03T18:00:05.410Z"
   },
   {
    "duration": 247,
    "start_time": "2022-06-03T18:00:05.432Z"
   },
   {
    "duration": 6,
    "start_time": "2022-06-03T18:00:05.681Z"
   },
   {
    "duration": 120,
    "start_time": "2022-06-03T18:00:05.689Z"
   },
   {
    "duration": 39,
    "start_time": "2022-06-03T18:00:05.812Z"
   },
   {
    "duration": 2,
    "start_time": "2022-06-03T18:00:05.853Z"
   },
   {
    "duration": 7,
    "start_time": "2022-06-03T18:00:05.857Z"
   },
   {
    "duration": 295,
    "start_time": "2022-06-03T18:00:05.866Z"
   },
   {
    "duration": 16,
    "start_time": "2022-06-03T18:00:06.164Z"
   },
   {
    "duration": 204,
    "start_time": "2022-06-03T18:00:06.182Z"
   },
   {
    "duration": 14,
    "start_time": "2022-06-03T18:00:06.388Z"
   },
   {
    "duration": 30,
    "start_time": "2022-06-03T18:00:06.404Z"
   },
   {
    "duration": 208,
    "start_time": "2022-06-03T18:00:06.435Z"
   },
   {
    "duration": 56,
    "start_time": "2022-06-03T18:00:06.644Z"
   },
   {
    "duration": 28,
    "start_time": "2022-06-03T18:00:06.702Z"
   },
   {
    "duration": 29,
    "start_time": "2022-06-03T18:00:06.732Z"
   },
   {
    "duration": 16,
    "start_time": "2022-06-03T18:00:06.764Z"
   },
   {
    "duration": 3196,
    "start_time": "2022-06-03T18:00:06.782Z"
   },
   {
    "duration": 56,
    "start_time": "2022-06-03T18:00:09.979Z"
   },
   {
    "duration": 43,
    "start_time": "2022-06-03T18:00:10.037Z"
   },
   {
    "duration": 18,
    "start_time": "2022-06-03T18:00:10.082Z"
   },
   {
    "duration": 170,
    "start_time": "2022-06-03T18:00:10.125Z"
   },
   {
    "duration": 0,
    "start_time": "2022-06-03T18:00:10.296Z"
   },
   {
    "duration": 23,
    "start_time": "2022-06-03T18:00:59.751Z"
   },
   {
    "duration": 45,
    "start_time": "2022-06-03T18:04:13.898Z"
   },
   {
    "duration": 42,
    "start_time": "2022-06-03T18:04:29.586Z"
   },
   {
    "duration": 38,
    "start_time": "2022-06-03T18:04:35.987Z"
   },
   {
    "duration": 25,
    "start_time": "2022-06-03T18:04:45.561Z"
   },
   {
    "duration": 45,
    "start_time": "2022-06-03T18:05:13.009Z"
   },
   {
    "duration": 22,
    "start_time": "2022-06-03T18:05:20.908Z"
   },
   {
    "duration": 41,
    "start_time": "2022-06-03T18:06:35.519Z"
   },
   {
    "duration": 36,
    "start_time": "2022-06-03T18:06:42.686Z"
   },
   {
    "duration": 15,
    "start_time": "2022-06-03T18:07:03.702Z"
   },
   {
    "duration": 20,
    "start_time": "2022-06-03T18:07:11.398Z"
   },
   {
    "duration": 14,
    "start_time": "2022-06-03T18:07:19.787Z"
   },
   {
    "duration": 15,
    "start_time": "2022-06-03T18:07:22.195Z"
   },
   {
    "duration": 29,
    "start_time": "2022-06-03T18:07:26.288Z"
   },
   {
    "duration": 41,
    "start_time": "2022-06-03T18:07:49.084Z"
   },
   {
    "duration": 21,
    "start_time": "2022-06-03T18:08:00.290Z"
   },
   {
    "duration": 5,
    "start_time": "2022-06-03T18:09:46.059Z"
   },
   {
    "duration": 23,
    "start_time": "2022-06-03T18:10:02.610Z"
   },
   {
    "duration": 16,
    "start_time": "2022-06-03T18:10:10.990Z"
   },
   {
    "duration": 29,
    "start_time": "2022-06-03T18:10:18.951Z"
   },
   {
    "duration": 22,
    "start_time": "2022-06-03T18:11:15.442Z"
   },
   {
    "duration": 22,
    "start_time": "2022-06-03T18:12:10.205Z"
   },
   {
    "duration": 27,
    "start_time": "2022-06-03T18:12:32.952Z"
   },
   {
    "duration": 42,
    "start_time": "2022-06-03T18:13:35.107Z"
   },
   {
    "duration": 27,
    "start_time": "2022-06-03T18:22:30.019Z"
   },
   {
    "duration": 27,
    "start_time": "2022-06-03T18:25:12.186Z"
   },
   {
    "duration": 45,
    "start_time": "2022-06-03T18:25:49.798Z"
   },
   {
    "duration": 30,
    "start_time": "2022-06-03T18:26:02.352Z"
   },
   {
    "duration": 19,
    "start_time": "2022-06-03T18:29:16.022Z"
   },
   {
    "duration": 20,
    "start_time": "2022-06-03T18:29:28.251Z"
   },
   {
    "duration": 6,
    "start_time": "2022-06-03T18:29:45.151Z"
   },
   {
    "duration": 22,
    "start_time": "2022-06-03T18:29:52.087Z"
   },
   {
    "duration": 40,
    "start_time": "2022-06-03T18:50:57.980Z"
   },
   {
    "duration": 31,
    "start_time": "2022-06-03T18:57:13.521Z"
   },
   {
    "duration": 850,
    "start_time": "2022-06-03T18:57:42.915Z"
   },
   {
    "duration": 618,
    "start_time": "2022-06-03T18:58:08.970Z"
   },
   {
    "duration": 644,
    "start_time": "2022-06-03T18:58:54.817Z"
   },
   {
    "duration": 1362,
    "start_time": "2022-06-03T18:59:23.583Z"
   },
   {
    "duration": 110,
    "start_time": "2022-06-03T18:59:24.950Z"
   },
   {
    "duration": 22,
    "start_time": "2022-06-03T18:59:25.062Z"
   },
   {
    "duration": 48,
    "start_time": "2022-06-03T18:59:25.087Z"
   },
   {
    "duration": 112,
    "start_time": "2022-06-03T18:59:25.137Z"
   },
   {
    "duration": 7,
    "start_time": "2022-06-03T18:59:25.251Z"
   },
   {
    "duration": 283,
    "start_time": "2022-06-03T18:59:25.260Z"
   },
   {
    "duration": 10,
    "start_time": "2022-06-03T18:59:25.550Z"
   },
   {
    "duration": 118,
    "start_time": "2022-06-03T18:59:25.562Z"
   },
   {
    "duration": 27,
    "start_time": "2022-06-03T18:59:25.684Z"
   },
   {
    "duration": 14,
    "start_time": "2022-06-03T18:59:25.714Z"
   },
   {
    "duration": 19,
    "start_time": "2022-06-03T18:59:25.730Z"
   },
   {
    "duration": 294,
    "start_time": "2022-06-03T18:59:25.751Z"
   },
   {
    "duration": 17,
    "start_time": "2022-06-03T18:59:26.047Z"
   },
   {
    "duration": 218,
    "start_time": "2022-06-03T18:59:26.066Z"
   },
   {
    "duration": 13,
    "start_time": "2022-06-03T18:59:26.286Z"
   },
   {
    "duration": 41,
    "start_time": "2022-06-03T18:59:26.301Z"
   },
   {
    "duration": 202,
    "start_time": "2022-06-03T18:59:26.343Z"
   },
   {
    "duration": 95,
    "start_time": "2022-06-03T18:59:26.548Z"
   },
   {
    "duration": 17,
    "start_time": "2022-06-03T18:59:26.647Z"
   },
   {
    "duration": 34,
    "start_time": "2022-06-03T18:59:26.666Z"
   },
   {
    "duration": 41,
    "start_time": "2022-06-03T18:59:26.702Z"
   },
   {
    "duration": 3059,
    "start_time": "2022-06-03T18:59:26.745Z"
   },
   {
    "duration": 68,
    "start_time": "2022-06-03T18:59:29.806Z"
   },
   {
    "duration": 39,
    "start_time": "2022-06-03T18:59:29.876Z"
   },
   {
    "duration": 22,
    "start_time": "2022-06-03T18:59:29.927Z"
   },
   {
    "duration": 204,
    "start_time": "2022-06-03T18:59:29.952Z"
   },
   {
    "duration": 0,
    "start_time": "2022-06-03T18:59:30.159Z"
   },
   {
    "duration": 27,
    "start_time": "2022-06-03T19:03:29.351Z"
   },
   {
    "duration": 1389,
    "start_time": "2022-06-03T19:04:12.686Z"
   },
   {
    "duration": 123,
    "start_time": "2022-06-03T19:04:14.078Z"
   },
   {
    "duration": 34,
    "start_time": "2022-06-03T19:04:14.203Z"
   },
   {
    "duration": 66,
    "start_time": "2022-06-03T19:04:14.247Z"
   },
   {
    "duration": 86,
    "start_time": "2022-06-03T19:04:14.315Z"
   },
   {
    "duration": 10,
    "start_time": "2022-06-03T19:04:14.403Z"
   },
   {
    "duration": 312,
    "start_time": "2022-06-03T19:04:14.430Z"
   },
   {
    "duration": 12,
    "start_time": "2022-06-03T19:04:14.743Z"
   },
   {
    "duration": 177,
    "start_time": "2022-06-03T19:04:14.758Z"
   },
   {
    "duration": 31,
    "start_time": "2022-06-03T19:04:14.939Z"
   },
   {
    "duration": 4,
    "start_time": "2022-06-03T19:04:14.971Z"
   },
   {
    "duration": 19,
    "start_time": "2022-06-03T19:04:14.977Z"
   },
   {
    "duration": 501,
    "start_time": "2022-06-03T19:04:14.999Z"
   },
   {
    "duration": 52,
    "start_time": "2022-06-03T19:04:15.502Z"
   },
   {
    "duration": 282,
    "start_time": "2022-06-03T19:04:15.556Z"
   },
   {
    "duration": 21,
    "start_time": "2022-06-03T19:04:15.859Z"
   },
   {
    "duration": 31,
    "start_time": "2022-06-03T19:04:15.882Z"
   },
   {
    "duration": 243,
    "start_time": "2022-06-03T19:04:15.916Z"
   },
   {
    "duration": 69,
    "start_time": "2022-06-03T19:04:16.161Z"
   },
   {
    "duration": 19,
    "start_time": "2022-06-03T19:04:16.232Z"
   },
   {
    "duration": 33,
    "start_time": "2022-06-03T19:04:16.253Z"
   },
   {
    "duration": 16,
    "start_time": "2022-06-03T19:04:16.288Z"
   },
   {
    "duration": 0,
    "start_time": "2022-06-03T19:05:04.060Z"
   },
   {
    "duration": 0,
    "start_time": "2022-06-03T19:05:04.062Z"
   },
   {
    "duration": 0,
    "start_time": "2022-06-03T19:05:04.064Z"
   },
   {
    "duration": 0,
    "start_time": "2022-06-03T19:05:04.065Z"
   },
   {
    "duration": 0,
    "start_time": "2022-06-03T19:05:04.067Z"
   },
   {
    "duration": 0,
    "start_time": "2022-06-03T19:05:04.068Z"
   },
   {
    "duration": 0,
    "start_time": "2022-06-03T19:05:04.070Z"
   },
   {
    "duration": 0,
    "start_time": "2022-06-03T19:05:04.071Z"
   },
   {
    "duration": 0,
    "start_time": "2022-06-03T19:05:04.073Z"
   },
   {
    "duration": 0,
    "start_time": "2022-06-03T19:05:04.074Z"
   },
   {
    "duration": 0,
    "start_time": "2022-06-03T19:05:04.076Z"
   },
   {
    "duration": 0,
    "start_time": "2022-06-03T19:05:04.078Z"
   },
   {
    "duration": 1,
    "start_time": "2022-06-03T19:05:04.079Z"
   },
   {
    "duration": 0,
    "start_time": "2022-06-03T19:05:04.081Z"
   },
   {
    "duration": 0,
    "start_time": "2022-06-03T19:05:04.082Z"
   },
   {
    "duration": 0,
    "start_time": "2022-06-03T19:05:04.084Z"
   },
   {
    "duration": 0,
    "start_time": "2022-06-03T19:05:04.085Z"
   },
   {
    "duration": 0,
    "start_time": "2022-06-03T19:05:04.129Z"
   },
   {
    "duration": 0,
    "start_time": "2022-06-03T19:05:04.130Z"
   },
   {
    "duration": 0,
    "start_time": "2022-06-03T19:05:04.131Z"
   },
   {
    "duration": 0,
    "start_time": "2022-06-03T19:05:04.131Z"
   },
   {
    "duration": 0,
    "start_time": "2022-06-03T19:05:04.132Z"
   },
   {
    "duration": 0,
    "start_time": "2022-06-03T19:05:04.133Z"
   },
   {
    "duration": 0,
    "start_time": "2022-06-03T19:05:04.133Z"
   },
   {
    "duration": 0,
    "start_time": "2022-06-03T19:05:04.134Z"
   },
   {
    "duration": 0,
    "start_time": "2022-06-03T19:05:04.134Z"
   },
   {
    "duration": 0,
    "start_time": "2022-06-03T19:05:04.135Z"
   },
   {
    "duration": 0,
    "start_time": "2022-06-03T19:05:04.136Z"
   },
   {
    "duration": 0,
    "start_time": "2022-06-03T19:05:04.137Z"
   },
   {
    "duration": 4,
    "start_time": "2022-06-03T19:05:12.647Z"
   },
   {
    "duration": 91,
    "start_time": "2022-06-03T19:05:12.654Z"
   },
   {
    "duration": 14,
    "start_time": "2022-06-03T19:05:12.747Z"
   },
   {
    "duration": 26,
    "start_time": "2022-06-03T19:05:12.763Z"
   },
   {
    "duration": 101,
    "start_time": "2022-06-03T19:05:12.791Z"
   },
   {
    "duration": 9,
    "start_time": "2022-06-03T19:05:12.894Z"
   },
   {
    "duration": 194,
    "start_time": "2022-06-03T19:05:12.905Z"
   },
   {
    "duration": 8,
    "start_time": "2022-06-03T19:05:13.101Z"
   },
   {
    "duration": 111,
    "start_time": "2022-06-03T19:05:13.131Z"
   },
   {
    "duration": 21,
    "start_time": "2022-06-03T19:05:13.244Z"
   },
   {
    "duration": 3,
    "start_time": "2022-06-03T19:05:13.266Z"
   },
   {
    "duration": 5,
    "start_time": "2022-06-03T19:05:13.270Z"
   },
   {
    "duration": 312,
    "start_time": "2022-06-03T19:05:13.277Z"
   },
   {
    "duration": 15,
    "start_time": "2022-06-03T19:05:13.591Z"
   },
   {
    "duration": 178,
    "start_time": "2022-06-03T19:05:13.607Z"
   },
   {
    "duration": 17,
    "start_time": "2022-06-03T19:05:13.788Z"
   },
   {
    "duration": 34,
    "start_time": "2022-06-03T19:05:13.808Z"
   },
   {
    "duration": 203,
    "start_time": "2022-06-03T19:05:13.843Z"
   },
   {
    "duration": 54,
    "start_time": "2022-06-03T19:05:14.048Z"
   },
   {
    "duration": 31,
    "start_time": "2022-06-03T19:05:14.104Z"
   },
   {
    "duration": 46,
    "start_time": "2022-06-03T19:05:14.143Z"
   },
   {
    "duration": 16,
    "start_time": "2022-06-03T19:05:14.191Z"
   },
   {
    "duration": 43659,
    "start_time": "2022-06-03T19:05:14.209Z"
   },
   {
    "duration": 1942,
    "start_time": "2022-06-03T19:05:57.869Z"
   },
   {
    "duration": 62,
    "start_time": "2022-06-03T19:05:59.812Z"
   },
   {
    "duration": 64,
    "start_time": "2022-06-03T19:05:59.877Z"
   },
   {
    "duration": 27,
    "start_time": "2022-06-03T19:05:59.950Z"
   },
   {
    "duration": 674,
    "start_time": "2022-06-03T19:05:59.979Z"
   },
   {
    "duration": 0,
    "start_time": "2022-06-03T19:06:00.655Z"
   },
   {
    "duration": 15,
    "start_time": "2022-06-03T19:06:41.787Z"
   },
   {
    "duration": 36,
    "start_time": "2022-06-03T19:06:49.801Z"
   },
   {
    "duration": 223,
    "start_time": "2022-06-03T19:07:11.254Z"
   },
   {
    "duration": 284,
    "start_time": "2022-06-03T19:08:39.180Z"
   },
   {
    "duration": 41,
    "start_time": "2022-06-03T19:11:33.368Z"
   },
   {
    "duration": 21,
    "start_time": "2022-06-03T19:11:40.445Z"
   },
   {
    "duration": 564,
    "start_time": "2022-06-03T19:12:51.592Z"
   },
   {
    "duration": 3,
    "start_time": "2022-06-03T19:18:50.065Z"
   },
   {
    "duration": 780,
    "start_time": "2022-06-03T20:16:57.859Z"
   },
   {
    "duration": 3,
    "start_time": "2022-06-03T20:17:12.272Z"
   },
   {
    "duration": 19,
    "start_time": "2022-06-03T20:17:19.943Z"
   },
   {
    "duration": 26,
    "start_time": "2022-06-03T20:19:16.414Z"
   },
   {
    "duration": 18,
    "start_time": "2022-06-03T20:19:18.874Z"
   },
   {
    "duration": 17,
    "start_time": "2022-06-03T20:19:25.768Z"
   },
   {
    "duration": 24,
    "start_time": "2022-06-03T20:19:54.021Z"
   },
   {
    "duration": 1314,
    "start_time": "2022-06-03T20:20:11.703Z"
   },
   {
    "duration": 89,
    "start_time": "2022-06-03T20:20:13.019Z"
   },
   {
    "duration": 14,
    "start_time": "2022-06-03T20:20:13.109Z"
   },
   {
    "duration": 60,
    "start_time": "2022-06-03T20:20:13.125Z"
   },
   {
    "duration": 77,
    "start_time": "2022-06-03T20:20:13.186Z"
   },
   {
    "duration": 6,
    "start_time": "2022-06-03T20:20:13.265Z"
   },
   {
    "duration": 275,
    "start_time": "2022-06-03T20:20:13.273Z"
   },
   {
    "duration": 7,
    "start_time": "2022-06-03T20:20:13.550Z"
   },
   {
    "duration": 113,
    "start_time": "2022-06-03T20:20:13.559Z"
   },
   {
    "duration": 20,
    "start_time": "2022-06-03T20:20:13.674Z"
   },
   {
    "duration": 3,
    "start_time": "2022-06-03T20:20:13.696Z"
   },
   {
    "duration": 19,
    "start_time": "2022-06-03T20:20:13.701Z"
   },
   {
    "duration": 294,
    "start_time": "2022-06-03T20:20:13.726Z"
   },
   {
    "duration": 22,
    "start_time": "2022-06-03T20:20:14.021Z"
   },
   {
    "duration": 178,
    "start_time": "2022-06-03T20:20:14.045Z"
   },
   {
    "duration": 20,
    "start_time": "2022-06-03T20:20:14.225Z"
   },
   {
    "duration": 23,
    "start_time": "2022-06-03T20:20:14.253Z"
   },
   {
    "duration": 185,
    "start_time": "2022-06-03T20:20:14.278Z"
   },
   {
    "duration": 73,
    "start_time": "2022-06-03T20:20:14.465Z"
   },
   {
    "duration": 15,
    "start_time": "2022-06-03T20:20:14.540Z"
   },
   {
    "duration": 25,
    "start_time": "2022-06-03T20:20:14.557Z"
   },
   {
    "duration": 16,
    "start_time": "2022-06-03T20:20:14.583Z"
   },
   {
    "duration": 286,
    "start_time": "2022-06-03T20:20:14.601Z"
   },
   {
    "duration": 3,
    "start_time": "2022-06-03T20:20:14.891Z"
   },
   {
    "duration": 12,
    "start_time": "2022-06-03T20:20:14.896Z"
   },
   {
    "duration": 16,
    "start_time": "2022-06-03T20:20:14.910Z"
   },
   {
    "duration": 6,
    "start_time": "2022-06-03T20:20:14.928Z"
   },
   {
    "duration": 918,
    "start_time": "2022-06-03T20:20:14.941Z"
   },
   {
    "duration": 19,
    "start_time": "2022-06-03T20:20:15.861Z"
   },
   {
    "duration": 136,
    "start_time": "2022-06-03T20:20:15.882Z"
   },
   {
    "duration": 0,
    "start_time": "2022-06-03T20:20:16.019Z"
   },
   {
    "duration": 1331,
    "start_time": "2022-06-03T20:21:24.040Z"
   },
   {
    "duration": 86,
    "start_time": "2022-06-03T20:21:25.372Z"
   },
   {
    "duration": 14,
    "start_time": "2022-06-03T20:21:25.460Z"
   },
   {
    "duration": 24,
    "start_time": "2022-06-03T20:21:25.476Z"
   },
   {
    "duration": 106,
    "start_time": "2022-06-03T20:21:25.503Z"
   },
   {
    "duration": 23,
    "start_time": "2022-06-03T20:21:25.611Z"
   },
   {
    "duration": 257,
    "start_time": "2022-06-03T20:21:25.638Z"
   },
   {
    "duration": 7,
    "start_time": "2022-06-03T20:21:25.897Z"
   },
   {
    "duration": 128,
    "start_time": "2022-06-03T20:21:25.905Z"
   },
   {
    "duration": 21,
    "start_time": "2022-06-03T20:21:26.039Z"
   },
   {
    "duration": 3,
    "start_time": "2022-06-03T20:21:26.062Z"
   },
   {
    "duration": 5,
    "start_time": "2022-06-03T20:21:26.067Z"
   },
   {
    "duration": 290,
    "start_time": "2022-06-03T20:21:26.074Z"
   },
   {
    "duration": 15,
    "start_time": "2022-06-03T20:21:26.366Z"
   },
   {
    "duration": 181,
    "start_time": "2022-06-03T20:21:26.383Z"
   },
   {
    "duration": 17,
    "start_time": "2022-06-03T20:21:26.567Z"
   },
   {
    "duration": 14,
    "start_time": "2022-06-03T20:21:26.586Z"
   },
   {
    "duration": 205,
    "start_time": "2022-06-03T20:21:26.602Z"
   },
   {
    "duration": 65,
    "start_time": "2022-06-03T20:21:26.809Z"
   },
   {
    "duration": 15,
    "start_time": "2022-06-03T20:21:26.875Z"
   },
   {
    "duration": 44,
    "start_time": "2022-06-03T20:21:26.891Z"
   },
   {
    "duration": 2,
    "start_time": "2022-06-03T20:21:26.939Z"
   },
   {
    "duration": 8,
    "start_time": "2022-06-03T20:21:26.943Z"
   },
   {
    "duration": 5,
    "start_time": "2022-06-03T20:21:26.953Z"
   },
   {
    "duration": 5,
    "start_time": "2022-06-03T20:21:26.959Z"
   },
   {
    "duration": 952,
    "start_time": "2022-06-03T20:21:26.966Z"
   },
   {
    "duration": 26,
    "start_time": "2022-06-03T20:21:27.920Z"
   },
   {
    "duration": 187,
    "start_time": "2022-06-03T20:21:27.950Z"
   },
   {
    "duration": 0,
    "start_time": "2022-06-03T20:21:28.139Z"
   },
   {
    "duration": 0,
    "start_time": "2022-06-03T20:21:28.141Z"
   },
   {
    "duration": 0,
    "start_time": "2022-06-03T20:21:28.142Z"
   },
   {
    "duration": 18,
    "start_time": "2022-06-03T20:21:41.839Z"
   },
   {
    "duration": 1241,
    "start_time": "2022-06-03T20:21:48.459Z"
   },
   {
    "duration": 85,
    "start_time": "2022-06-03T20:21:49.702Z"
   },
   {
    "duration": 14,
    "start_time": "2022-06-03T20:21:49.788Z"
   },
   {
    "duration": 38,
    "start_time": "2022-06-03T20:21:49.804Z"
   },
   {
    "duration": 71,
    "start_time": "2022-06-03T20:21:49.844Z"
   },
   {
    "duration": 17,
    "start_time": "2022-06-03T20:21:49.925Z"
   },
   {
    "duration": 233,
    "start_time": "2022-06-03T20:21:49.944Z"
   },
   {
    "duration": 7,
    "start_time": "2022-06-03T20:21:50.179Z"
   },
   {
    "duration": 116,
    "start_time": "2022-06-03T20:21:50.187Z"
   },
   {
    "duration": 37,
    "start_time": "2022-06-03T20:21:50.306Z"
   },
   {
    "duration": 3,
    "start_time": "2022-06-03T20:21:50.345Z"
   },
   {
    "duration": 10,
    "start_time": "2022-06-03T20:21:50.349Z"
   },
   {
    "duration": 292,
    "start_time": "2022-06-03T20:21:50.361Z"
   },
   {
    "duration": 14,
    "start_time": "2022-06-03T20:21:50.654Z"
   },
   {
    "duration": 186,
    "start_time": "2022-06-03T20:21:50.669Z"
   },
   {
    "duration": 12,
    "start_time": "2022-06-03T20:21:50.857Z"
   },
   {
    "duration": 11,
    "start_time": "2022-06-03T20:21:50.871Z"
   },
   {
    "duration": 202,
    "start_time": "2022-06-03T20:21:50.883Z"
   },
   {
    "duration": 73,
    "start_time": "2022-06-03T20:21:51.086Z"
   },
   {
    "duration": 15,
    "start_time": "2022-06-03T20:21:51.161Z"
   },
   {
    "duration": 24,
    "start_time": "2022-06-03T20:21:51.178Z"
   },
   {
    "duration": 3,
    "start_time": "2022-06-03T20:21:51.205Z"
   },
   {
    "duration": 2,
    "start_time": "2022-06-03T20:21:51.225Z"
   },
   {
    "duration": 8,
    "start_time": "2022-06-03T20:21:51.228Z"
   },
   {
    "duration": 9,
    "start_time": "2022-06-03T20:21:51.238Z"
   },
   {
    "duration": 922,
    "start_time": "2022-06-03T20:21:51.249Z"
   },
   {
    "duration": 17,
    "start_time": "2022-06-03T20:21:52.172Z"
   },
   {
    "duration": 143,
    "start_time": "2022-06-03T20:21:52.192Z"
   },
   {
    "duration": 0,
    "start_time": "2022-06-03T20:21:52.339Z"
   },
   {
    "duration": 0,
    "start_time": "2022-06-03T20:21:52.340Z"
   },
   {
    "duration": 1,
    "start_time": "2022-06-03T20:21:52.343Z"
   },
   {
    "duration": 17,
    "start_time": "2022-06-03T20:22:58.195Z"
   },
   {
    "duration": 22,
    "start_time": "2022-06-03T20:23:17.702Z"
   },
   {
    "duration": 21,
    "start_time": "2022-06-03T20:23:30.088Z"
   },
   {
    "duration": 22,
    "start_time": "2022-06-03T20:23:50.483Z"
   },
   {
    "duration": 35,
    "start_time": "2022-06-03T20:24:46.788Z"
   },
   {
    "duration": 21,
    "start_time": "2022-06-03T20:24:51.490Z"
   },
   {
    "duration": 22,
    "start_time": "2022-06-03T20:26:08.636Z"
   },
   {
    "duration": 1296,
    "start_time": "2022-06-03T20:26:18.959Z"
   },
   {
    "duration": 85,
    "start_time": "2022-06-03T20:26:20.258Z"
   },
   {
    "duration": 14,
    "start_time": "2022-06-03T20:26:20.344Z"
   },
   {
    "duration": 23,
    "start_time": "2022-06-03T20:26:20.360Z"
   },
   {
    "duration": 100,
    "start_time": "2022-06-03T20:26:20.384Z"
   },
   {
    "duration": 8,
    "start_time": "2022-06-03T20:26:20.486Z"
   },
   {
    "duration": 257,
    "start_time": "2022-06-03T20:26:20.496Z"
   },
   {
    "duration": 8,
    "start_time": "2022-06-03T20:26:20.755Z"
   },
   {
    "duration": 110,
    "start_time": "2022-06-03T20:26:20.764Z"
   },
   {
    "duration": 20,
    "start_time": "2022-06-03T20:26:20.878Z"
   },
   {
    "duration": 2,
    "start_time": "2022-06-03T20:26:20.900Z"
   },
   {
    "duration": 9,
    "start_time": "2022-06-03T20:26:20.904Z"
   },
   {
    "duration": 268,
    "start_time": "2022-06-03T20:26:20.933Z"
   },
   {
    "duration": 27,
    "start_time": "2022-06-03T20:26:21.203Z"
   },
   {
    "duration": 178,
    "start_time": "2022-06-03T20:26:21.232Z"
   },
   {
    "duration": 32,
    "start_time": "2022-06-03T20:26:21.411Z"
   },
   {
    "duration": 12,
    "start_time": "2022-06-03T20:26:21.444Z"
   },
   {
    "duration": 197,
    "start_time": "2022-06-03T20:26:21.458Z"
   },
   {
    "duration": 53,
    "start_time": "2022-06-03T20:26:21.656Z"
   },
   {
    "duration": 23,
    "start_time": "2022-06-03T20:26:21.725Z"
   },
   {
    "duration": 25,
    "start_time": "2022-06-03T20:26:21.750Z"
   },
   {
    "duration": 3,
    "start_time": "2022-06-03T20:26:21.776Z"
   },
   {
    "duration": 8,
    "start_time": "2022-06-03T20:26:21.780Z"
   },
   {
    "duration": 6,
    "start_time": "2022-06-03T20:26:21.789Z"
   },
   {
    "duration": 5,
    "start_time": "2022-06-03T20:26:21.796Z"
   },
   {
    "duration": 961,
    "start_time": "2022-06-03T20:26:21.803Z"
   },
   {
    "duration": 16,
    "start_time": "2022-06-03T20:26:22.765Z"
   },
   {
    "duration": 133,
    "start_time": "2022-06-03T20:26:22.784Z"
   },
   {
    "duration": 0,
    "start_time": "2022-06-03T20:26:22.919Z"
   },
   {
    "duration": 0,
    "start_time": "2022-06-03T20:26:22.925Z"
   },
   {
    "duration": 0,
    "start_time": "2022-06-03T20:26:22.927Z"
   },
   {
    "duration": 17,
    "start_time": "2022-06-03T20:26:47.049Z"
   },
   {
    "duration": 18,
    "start_time": "2022-06-03T20:27:43.256Z"
   },
   {
    "duration": 17,
    "start_time": "2022-06-03T20:27:52.482Z"
   },
   {
    "duration": 29,
    "start_time": "2022-06-03T20:28:10.145Z"
   },
   {
    "duration": 16,
    "start_time": "2022-06-03T20:28:22.782Z"
   },
   {
    "duration": 20,
    "start_time": "2022-06-03T20:28:32.640Z"
   },
   {
    "duration": 27,
    "start_time": "2022-06-03T20:28:41.823Z"
   },
   {
    "duration": 23,
    "start_time": "2022-06-03T20:28:44.959Z"
   },
   {
    "duration": 1310,
    "start_time": "2022-06-03T20:28:49.643Z"
   },
   {
    "duration": 91,
    "start_time": "2022-06-03T20:28:50.955Z"
   },
   {
    "duration": 16,
    "start_time": "2022-06-03T20:28:51.048Z"
   },
   {
    "duration": 23,
    "start_time": "2022-06-03T20:28:51.065Z"
   },
   {
    "duration": 101,
    "start_time": "2022-06-03T20:28:51.091Z"
   },
   {
    "duration": 7,
    "start_time": "2022-06-03T20:28:51.195Z"
   },
   {
    "duration": 263,
    "start_time": "2022-06-03T20:28:51.204Z"
   },
   {
    "duration": 8,
    "start_time": "2022-06-03T20:28:51.469Z"
   },
   {
    "duration": 113,
    "start_time": "2022-06-03T20:28:51.478Z"
   },
   {
    "duration": 19,
    "start_time": "2022-06-03T20:28:51.592Z"
   },
   {
    "duration": 12,
    "start_time": "2022-06-03T20:28:51.613Z"
   },
   {
    "duration": 22,
    "start_time": "2022-06-03T20:28:51.626Z"
   },
   {
    "duration": 299,
    "start_time": "2022-06-03T20:28:51.649Z"
   },
   {
    "duration": 14,
    "start_time": "2022-06-03T20:28:51.951Z"
   },
   {
    "duration": 188,
    "start_time": "2022-06-03T20:28:51.966Z"
   },
   {
    "duration": 12,
    "start_time": "2022-06-03T20:28:52.156Z"
   },
   {
    "duration": 12,
    "start_time": "2022-06-03T20:28:52.169Z"
   },
   {
    "duration": 206,
    "start_time": "2022-06-03T20:28:52.182Z"
   },
   {
    "duration": 78,
    "start_time": "2022-06-03T20:28:52.390Z"
   },
   {
    "duration": 14,
    "start_time": "2022-06-03T20:28:52.470Z"
   },
   {
    "duration": 46,
    "start_time": "2022-06-03T20:28:52.486Z"
   },
   {
    "duration": 3,
    "start_time": "2022-06-03T20:28:52.540Z"
   },
   {
    "duration": 7,
    "start_time": "2022-06-03T20:28:52.545Z"
   },
   {
    "duration": 5,
    "start_time": "2022-06-03T20:28:52.553Z"
   },
   {
    "duration": 6,
    "start_time": "2022-06-03T20:28:52.560Z"
   },
   {
    "duration": 896,
    "start_time": "2022-06-03T20:28:52.568Z"
   },
   {
    "duration": 18,
    "start_time": "2022-06-03T20:28:53.466Z"
   },
   {
    "duration": 138,
    "start_time": "2022-06-03T20:28:53.485Z"
   },
   {
    "duration": 0,
    "start_time": "2022-06-03T20:28:53.625Z"
   },
   {
    "duration": 0,
    "start_time": "2022-06-03T20:28:53.626Z"
   },
   {
    "duration": 0,
    "start_time": "2022-06-03T20:28:53.627Z"
   },
   {
    "duration": 27,
    "start_time": "2022-06-03T20:29:12.763Z"
   },
   {
    "duration": 40,
    "start_time": "2022-06-03T20:29:15.034Z"
   },
   {
    "duration": 35,
    "start_time": "2022-06-03T20:30:04.900Z"
   },
   {
    "duration": 27,
    "start_time": "2022-06-03T20:30:21.063Z"
   },
   {
    "duration": 22,
    "start_time": "2022-06-03T20:30:24.592Z"
   },
   {
    "duration": 1309,
    "start_time": "2022-06-03T20:30:32.084Z"
   },
   {
    "duration": 95,
    "start_time": "2022-06-03T20:30:33.395Z"
   },
   {
    "duration": 18,
    "start_time": "2022-06-03T20:30:33.492Z"
   },
   {
    "duration": 41,
    "start_time": "2022-06-03T20:30:33.512Z"
   },
   {
    "duration": 102,
    "start_time": "2022-06-03T20:30:33.556Z"
   },
   {
    "duration": 6,
    "start_time": "2022-06-03T20:30:33.660Z"
   },
   {
    "duration": 263,
    "start_time": "2022-06-03T20:30:33.668Z"
   },
   {
    "duration": 10,
    "start_time": "2022-06-03T20:30:33.936Z"
   },
   {
    "duration": 106,
    "start_time": "2022-06-03T20:30:33.948Z"
   },
   {
    "duration": 20,
    "start_time": "2022-06-03T20:30:34.056Z"
   },
   {
    "duration": 2,
    "start_time": "2022-06-03T20:30:34.078Z"
   },
   {
    "duration": 6,
    "start_time": "2022-06-03T20:30:34.082Z"
   },
   {
    "duration": 293,
    "start_time": "2022-06-03T20:30:34.089Z"
   },
   {
    "duration": 21,
    "start_time": "2022-06-03T20:30:34.386Z"
   },
   {
    "duration": 180,
    "start_time": "2022-06-03T20:30:34.409Z"
   },
   {
    "duration": 13,
    "start_time": "2022-06-03T20:30:34.591Z"
   },
   {
    "duration": 32,
    "start_time": "2022-06-03T20:30:34.605Z"
   },
   {
    "duration": 220,
    "start_time": "2022-06-03T20:30:34.642Z"
   },
   {
    "duration": 92,
    "start_time": "2022-06-03T20:30:34.864Z"
   },
   {
    "duration": 19,
    "start_time": "2022-06-03T20:30:34.958Z"
   },
   {
    "duration": 56,
    "start_time": "2022-06-03T20:30:34.979Z"
   },
   {
    "duration": 5,
    "start_time": "2022-06-03T20:30:35.039Z"
   },
   {
    "duration": 10,
    "start_time": "2022-06-03T20:30:35.046Z"
   },
   {
    "duration": 11,
    "start_time": "2022-06-03T20:30:35.058Z"
   },
   {
    "duration": 9,
    "start_time": "2022-06-03T20:30:35.072Z"
   },
   {
    "duration": 814,
    "start_time": "2022-06-03T20:30:35.083Z"
   },
   {
    "duration": 19,
    "start_time": "2022-06-03T20:30:35.898Z"
   },
   {
    "duration": 31,
    "start_time": "2022-06-03T20:30:35.919Z"
   },
   {
    "duration": 22,
    "start_time": "2022-06-03T20:30:35.951Z"
   },
   {
    "duration": 147,
    "start_time": "2022-06-03T20:30:35.974Z"
   },
   {
    "duration": 0,
    "start_time": "2022-06-03T20:30:36.134Z"
   },
   {
    "duration": 23,
    "start_time": "2022-06-03T20:30:56.559Z"
   },
   {
    "duration": 56,
    "start_time": "2022-06-03T20:33:08.795Z"
   },
   {
    "duration": 17,
    "start_time": "2022-06-03T20:33:12.865Z"
   },
   {
    "duration": 14,
    "start_time": "2022-06-03T20:33:19.954Z"
   },
   {
    "duration": 27,
    "start_time": "2022-06-03T20:33:26.260Z"
   },
   {
    "duration": 17,
    "start_time": "2022-06-03T20:33:39.466Z"
   },
   {
    "duration": 59,
    "start_time": "2022-06-03T20:34:46.335Z"
   },
   {
    "duration": 27,
    "start_time": "2022-06-03T20:35:09.051Z"
   },
   {
    "duration": 57,
    "start_time": "2022-06-03T20:35:18.679Z"
   },
   {
    "duration": 72,
    "start_time": "2022-06-03T20:35:27.365Z"
   },
   {
    "duration": 70,
    "start_time": "2022-06-03T20:36:16.335Z"
   },
   {
    "duration": 15,
    "start_time": "2022-06-03T20:36:55.845Z"
   },
   {
    "duration": 16,
    "start_time": "2022-06-03T20:36:59.642Z"
   },
   {
    "duration": 15,
    "start_time": "2022-06-03T20:37:38.568Z"
   },
   {
    "duration": 21,
    "start_time": "2022-06-03T20:37:50.465Z"
   },
   {
    "duration": 22,
    "start_time": "2022-06-03T20:38:08.660Z"
   },
   {
    "duration": 37,
    "start_time": "2022-06-03T20:38:34.898Z"
   },
   {
    "duration": 27,
    "start_time": "2022-06-03T20:39:16.925Z"
   },
   {
    "duration": 16,
    "start_time": "2022-06-03T20:39:49.647Z"
   },
   {
    "duration": 381,
    "start_time": "2022-06-03T20:40:17.890Z"
   },
   {
    "duration": 38,
    "start_time": "2022-06-03T20:41:17.307Z"
   },
   {
    "duration": 16,
    "start_time": "2022-06-03T20:41:25.655Z"
   },
   {
    "duration": 13,
    "start_time": "2022-06-03T20:41:39.375Z"
   },
   {
    "duration": 224,
    "start_time": "2022-06-03T20:42:39.310Z"
   },
   {
    "duration": 23,
    "start_time": "2022-06-03T20:43:44.192Z"
   },
   {
    "duration": 32,
    "start_time": "2022-06-03T20:44:02.320Z"
   },
   {
    "duration": 35,
    "start_time": "2022-06-03T20:44:31.859Z"
   },
   {
    "duration": 41,
    "start_time": "2022-06-03T20:48:32.822Z"
   },
   {
    "duration": 21,
    "start_time": "2022-06-03T20:49:51.247Z"
   },
   {
    "duration": 40,
    "start_time": "2022-06-03T20:51:29.621Z"
   },
   {
    "duration": 36,
    "start_time": "2022-06-03T20:51:43.771Z"
   },
   {
    "duration": 34,
    "start_time": "2022-06-03T20:51:48.806Z"
   },
   {
    "duration": 5,
    "start_time": "2022-06-03T20:52:40.898Z"
   },
   {
    "duration": 9,
    "start_time": "2022-06-03T20:52:56.983Z"
   },
   {
    "duration": 18,
    "start_time": "2022-06-03T20:53:02.246Z"
   },
   {
    "duration": 9,
    "start_time": "2022-06-03T20:53:15.214Z"
   },
   {
    "duration": 10,
    "start_time": "2022-06-03T20:53:41.710Z"
   },
   {
    "duration": 8,
    "start_time": "2022-06-03T20:53:56.997Z"
   },
   {
    "duration": 11,
    "start_time": "2022-06-03T20:54:42.868Z"
   },
   {
    "duration": 14,
    "start_time": "2022-06-03T20:55:16.010Z"
   },
   {
    "duration": 13,
    "start_time": "2022-06-03T20:55:21.575Z"
   },
   {
    "duration": 11,
    "start_time": "2022-06-03T20:55:46.568Z"
   },
   {
    "duration": 25,
    "start_time": "2022-06-03T20:55:56.667Z"
   },
   {
    "duration": 7,
    "start_time": "2022-06-03T20:57:23.764Z"
   },
   {
    "duration": 10,
    "start_time": "2022-06-03T20:57:40.708Z"
   },
   {
    "duration": 25,
    "start_time": "2022-06-03T21:02:33.420Z"
   },
   {
    "duration": 1270,
    "start_time": "2022-06-03T21:37:51.531Z"
   },
   {
    "duration": 80,
    "start_time": "2022-06-03T21:37:52.803Z"
   },
   {
    "duration": 15,
    "start_time": "2022-06-03T21:37:52.885Z"
   },
   {
    "duration": 35,
    "start_time": "2022-06-03T21:37:52.902Z"
   },
   {
    "duration": 74,
    "start_time": "2022-06-03T21:37:52.939Z"
   },
   {
    "duration": 15,
    "start_time": "2022-06-03T21:37:53.015Z"
   },
   {
    "duration": 233,
    "start_time": "2022-06-03T21:37:53.031Z"
   },
   {
    "duration": 6,
    "start_time": "2022-06-03T21:37:53.266Z"
   },
   {
    "duration": 119,
    "start_time": "2022-06-03T21:37:53.274Z"
   },
   {
    "duration": 30,
    "start_time": "2022-06-03T21:37:53.396Z"
   },
   {
    "duration": 3,
    "start_time": "2022-06-03T21:37:53.428Z"
   },
   {
    "duration": 18,
    "start_time": "2022-06-03T21:37:53.433Z"
   },
   {
    "duration": 262,
    "start_time": "2022-06-03T21:37:53.453Z"
   },
   {
    "duration": 19,
    "start_time": "2022-06-03T21:37:53.717Z"
   },
   {
    "duration": 172,
    "start_time": "2022-06-03T21:37:53.738Z"
   },
   {
    "duration": 20,
    "start_time": "2022-06-03T21:37:53.911Z"
   },
   {
    "duration": 11,
    "start_time": "2022-06-03T21:37:53.932Z"
   },
   {
    "duration": 183,
    "start_time": "2022-06-03T21:37:53.944Z"
   },
   {
    "duration": 50,
    "start_time": "2022-06-03T21:37:54.128Z"
   },
   {
    "duration": 14,
    "start_time": "2022-06-03T21:37:54.179Z"
   },
   {
    "duration": 44,
    "start_time": "2022-06-03T21:37:54.195Z"
   },
   {
    "duration": 3,
    "start_time": "2022-06-03T21:37:54.240Z"
   },
   {
    "duration": 8,
    "start_time": "2022-06-03T21:37:54.245Z"
   },
   {
    "duration": 4,
    "start_time": "2022-06-03T21:37:54.254Z"
   },
   {
    "duration": 5,
    "start_time": "2022-06-03T21:37:54.260Z"
   },
   {
    "duration": 1147,
    "start_time": "2022-06-03T21:37:54.266Z"
   },
   {
    "duration": 20,
    "start_time": "2022-06-03T21:37:55.415Z"
   },
   {
    "duration": 28,
    "start_time": "2022-06-03T21:37:55.439Z"
   },
   {
    "duration": 33,
    "start_time": "2022-06-03T21:37:55.468Z"
   },
   {
    "duration": 358,
    "start_time": "2022-06-03T21:37:55.524Z"
   },
   {
    "duration": 12,
    "start_time": "2022-06-03T21:37:55.883Z"
   },
   {
    "duration": 212,
    "start_time": "2022-06-03T21:37:55.896Z"
   },
   {
    "duration": 26,
    "start_time": "2022-06-03T21:37:56.110Z"
   },
   {
    "duration": 17,
    "start_time": "2022-06-03T21:37:56.138Z"
   },
   {
    "duration": 1620,
    "start_time": "2022-06-04T09:43:07.198Z"
   },
   {
    "duration": 290,
    "start_time": "2022-06-04T09:43:08.820Z"
   },
   {
    "duration": 19,
    "start_time": "2022-06-04T09:43:09.112Z"
   },
   {
    "duration": 33,
    "start_time": "2022-06-04T09:43:09.133Z"
   },
   {
    "duration": 120,
    "start_time": "2022-06-04T09:43:09.169Z"
   },
   {
    "duration": 10,
    "start_time": "2022-06-04T09:43:09.292Z"
   },
   {
    "duration": 172,
    "start_time": "2022-06-04T09:43:09.305Z"
   },
   {
    "duration": 6,
    "start_time": "2022-06-04T09:43:09.482Z"
   },
   {
    "duration": 101,
    "start_time": "2022-06-04T09:43:09.490Z"
   },
   {
    "duration": 19,
    "start_time": "2022-06-04T09:43:09.593Z"
   },
   {
    "duration": 3,
    "start_time": "2022-06-04T09:43:09.613Z"
   },
   {
    "duration": 5,
    "start_time": "2022-06-04T09:43:09.617Z"
   },
   {
    "duration": 285,
    "start_time": "2022-06-04T09:43:09.624Z"
   },
   {
    "duration": 12,
    "start_time": "2022-06-04T09:43:09.911Z"
   },
   {
    "duration": 12,
    "start_time": "2022-06-04T09:43:26.331Z"
   },
   {
    "duration": 117,
    "start_time": "2022-06-04T09:44:08.497Z"
   },
   {
    "duration": 4,
    "start_time": "2022-06-04T09:44:13.197Z"
   },
   {
    "duration": 86,
    "start_time": "2022-06-04T09:44:13.203Z"
   },
   {
    "duration": 12,
    "start_time": "2022-06-04T09:44:13.291Z"
   },
   {
    "duration": 28,
    "start_time": "2022-06-04T09:44:13.305Z"
   },
   {
    "duration": 97,
    "start_time": "2022-06-04T09:44:13.335Z"
   },
   {
    "duration": 7,
    "start_time": "2022-06-04T09:44:13.434Z"
   },
   {
    "duration": 159,
    "start_time": "2022-06-04T09:44:13.443Z"
   },
   {
    "duration": 7,
    "start_time": "2022-06-04T09:44:13.605Z"
   },
   {
    "duration": 110,
    "start_time": "2022-06-04T09:44:13.615Z"
   },
   {
    "duration": 19,
    "start_time": "2022-06-04T09:44:13.728Z"
   },
   {
    "duration": 25,
    "start_time": "2022-06-04T09:44:13.748Z"
   },
   {
    "duration": 11,
    "start_time": "2022-06-04T09:44:13.776Z"
   },
   {
    "duration": 243,
    "start_time": "2022-06-04T09:44:13.788Z"
   },
   {
    "duration": 14,
    "start_time": "2022-06-04T09:44:14.033Z"
   },
   {
    "duration": 27,
    "start_time": "2022-06-04T09:44:14.048Z"
   },
   {
    "duration": 158,
    "start_time": "2022-06-04T09:44:14.080Z"
   },
   {
    "duration": 11,
    "start_time": "2022-06-04T09:44:16.340Z"
   },
   {
    "duration": 5,
    "start_time": "2022-06-04T09:49:04.380Z"
   },
   {
    "duration": 81,
    "start_time": "2022-06-04T09:49:04.387Z"
   },
   {
    "duration": 14,
    "start_time": "2022-06-04T09:49:04.470Z"
   },
   {
    "duration": 26,
    "start_time": "2022-06-04T09:49:04.486Z"
   },
   {
    "duration": 140,
    "start_time": "2022-06-04T09:49:04.516Z"
   },
   {
    "duration": 8,
    "start_time": "2022-06-04T09:49:04.664Z"
   },
   {
    "duration": 194,
    "start_time": "2022-06-04T09:49:04.675Z"
   },
   {
    "duration": 8,
    "start_time": "2022-06-04T09:49:04.871Z"
   },
   {
    "duration": 111,
    "start_time": "2022-06-04T09:49:04.881Z"
   },
   {
    "duration": 22,
    "start_time": "2022-06-04T09:49:04.995Z"
   },
   {
    "duration": 4,
    "start_time": "2022-06-04T09:49:05.019Z"
   },
   {
    "duration": 6,
    "start_time": "2022-06-04T09:49:05.025Z"
   },
   {
    "duration": 302,
    "start_time": "2022-06-04T09:49:05.033Z"
   },
   {
    "duration": 14,
    "start_time": "2022-06-04T09:49:05.338Z"
   },
   {
    "duration": 296,
    "start_time": "2022-06-04T09:49:05.366Z"
   },
   {
    "duration": 17,
    "start_time": "2022-06-04T09:49:05.665Z"
   },
   {
    "duration": 18,
    "start_time": "2022-06-04T09:49:05.684Z"
   },
   {
    "duration": 271,
    "start_time": "2022-06-04T09:49:05.704Z"
   },
   {
    "duration": 57,
    "start_time": "2022-06-04T09:49:05.977Z"
   },
   {
    "duration": 23,
    "start_time": "2022-06-04T09:49:32.924Z"
   },
   {
    "duration": 20,
    "start_time": "2022-06-04T09:49:38.509Z"
   },
   {
    "duration": 20,
    "start_time": "2022-06-04T09:49:43.183Z"
   },
   {
    "duration": 16,
    "start_time": "2022-06-04T09:49:55.086Z"
   },
   {
    "duration": 4,
    "start_time": "2022-06-04T10:27:38.603Z"
   },
   {
    "duration": 81,
    "start_time": "2022-06-04T10:27:38.609Z"
   },
   {
    "duration": 13,
    "start_time": "2022-06-04T10:27:38.692Z"
   },
   {
    "duration": 24,
    "start_time": "2022-06-04T10:27:38.706Z"
   },
   {
    "duration": 84,
    "start_time": "2022-06-04T10:27:38.732Z"
   },
   {
    "duration": 6,
    "start_time": "2022-06-04T10:27:38.818Z"
   },
   {
    "duration": 184,
    "start_time": "2022-06-04T10:27:38.825Z"
   },
   {
    "duration": 10,
    "start_time": "2022-06-04T10:27:39.011Z"
   },
   {
    "duration": 122,
    "start_time": "2022-06-04T10:27:39.023Z"
   },
   {
    "duration": 37,
    "start_time": "2022-06-04T10:27:39.147Z"
   },
   {
    "duration": 3,
    "start_time": "2022-06-04T10:27:39.185Z"
   },
   {
    "duration": 14,
    "start_time": "2022-06-04T10:27:39.190Z"
   },
   {
    "duration": 253,
    "start_time": "2022-06-04T10:27:39.206Z"
   },
   {
    "duration": 15,
    "start_time": "2022-06-04T10:27:39.461Z"
   },
   {
    "duration": 165,
    "start_time": "2022-06-04T10:27:39.477Z"
   },
   {
    "duration": 11,
    "start_time": "2022-06-04T10:27:39.644Z"
   },
   {
    "duration": 9,
    "start_time": "2022-06-04T10:27:39.665Z"
   },
   {
    "duration": 168,
    "start_time": "2022-06-04T10:27:39.676Z"
   },
   {
    "duration": 54,
    "start_time": "2022-06-04T10:27:39.846Z"
   },
   {
    "duration": 16,
    "start_time": "2022-06-04T10:27:39.901Z"
   },
   {
    "duration": 12,
    "start_time": "2022-06-04T10:27:39.919Z"
   },
   {
    "duration": 44,
    "start_time": "2022-06-04T10:27:39.933Z"
   },
   {
    "duration": 2,
    "start_time": "2022-06-04T10:27:39.979Z"
   },
   {
    "duration": 6,
    "start_time": "2022-06-04T10:27:39.983Z"
   },
   {
    "duration": 5,
    "start_time": "2022-06-04T10:27:39.990Z"
   },
   {
    "duration": 1059,
    "start_time": "2022-06-04T10:27:39.996Z"
   },
   {
    "duration": 17,
    "start_time": "2022-06-04T10:27:41.057Z"
   },
   {
    "duration": 38,
    "start_time": "2022-06-04T10:27:41.075Z"
   },
   {
    "duration": 30,
    "start_time": "2022-06-04T10:27:41.115Z"
   },
   {
    "duration": 12,
    "start_time": "2022-06-04T10:28:19.183Z"
   },
   {
    "duration": 11,
    "start_time": "2022-06-04T10:28:41.327Z"
   },
   {
    "duration": 12,
    "start_time": "2022-06-04T10:28:50.447Z"
   },
   {
    "duration": 16,
    "start_time": "2022-06-04T10:29:09.215Z"
   },
   {
    "duration": 4,
    "start_time": "2022-06-04T10:29:25.079Z"
   },
   {
    "duration": 28,
    "start_time": "2022-06-04T10:29:34.435Z"
   },
   {
    "duration": 14,
    "start_time": "2022-06-04T10:29:40.211Z"
   },
   {
    "duration": 16,
    "start_time": "2022-06-04T10:29:56.311Z"
   },
   {
    "duration": 4,
    "start_time": "2022-06-04T10:33:31.495Z"
   },
   {
    "duration": 96,
    "start_time": "2022-06-04T10:33:31.501Z"
   },
   {
    "duration": 14,
    "start_time": "2022-06-04T10:33:31.598Z"
   },
   {
    "duration": 35,
    "start_time": "2022-06-04T10:33:31.614Z"
   },
   {
    "duration": 78,
    "start_time": "2022-06-04T10:33:31.651Z"
   },
   {
    "duration": 6,
    "start_time": "2022-06-04T10:33:31.731Z"
   },
   {
    "duration": 268,
    "start_time": "2022-06-04T10:33:31.739Z"
   },
   {
    "duration": 8,
    "start_time": "2022-06-04T10:33:32.009Z"
   },
   {
    "duration": 102,
    "start_time": "2022-06-04T10:33:32.019Z"
   },
   {
    "duration": 20,
    "start_time": "2022-06-04T10:33:32.122Z"
   },
   {
    "duration": 22,
    "start_time": "2022-06-04T10:33:32.143Z"
   },
   {
    "duration": 8,
    "start_time": "2022-06-04T10:33:32.167Z"
   },
   {
    "duration": 245,
    "start_time": "2022-06-04T10:33:32.177Z"
   },
   {
    "duration": 13,
    "start_time": "2022-06-04T10:33:32.424Z"
   },
   {
    "duration": 157,
    "start_time": "2022-06-04T10:33:32.439Z"
   },
   {
    "duration": 11,
    "start_time": "2022-06-04T10:33:32.598Z"
   },
   {
    "duration": 10,
    "start_time": "2022-06-04T10:33:32.610Z"
   },
   {
    "duration": 185,
    "start_time": "2022-06-04T10:33:32.622Z"
   },
   {
    "duration": 57,
    "start_time": "2022-06-04T10:33:32.809Z"
   },
   {
    "duration": 16,
    "start_time": "2022-06-04T10:33:32.867Z"
   },
   {
    "duration": 13,
    "start_time": "2022-06-04T10:33:32.885Z"
   },
   {
    "duration": 27,
    "start_time": "2022-06-04T10:33:32.900Z"
   },
   {
    "duration": 2,
    "start_time": "2022-06-04T10:33:32.929Z"
   },
   {
    "duration": 3,
    "start_time": "2022-06-04T10:33:32.934Z"
   },
   {
    "duration": 27,
    "start_time": "2022-06-04T10:33:32.939Z"
   },
   {
    "duration": 916,
    "start_time": "2022-06-04T10:33:32.968Z"
   },
   {
    "duration": 17,
    "start_time": "2022-06-04T10:33:33.886Z"
   },
   {
    "duration": 29,
    "start_time": "2022-06-04T10:33:33.905Z"
   },
   {
    "duration": 46,
    "start_time": "2022-06-04T10:33:33.936Z"
   },
   {
    "duration": 16,
    "start_time": "2022-06-04T10:33:33.983Z"
   },
   {
    "duration": 359,
    "start_time": "2022-06-04T10:33:34.000Z"
   },
   {
    "duration": 11,
    "start_time": "2022-06-04T10:33:34.361Z"
   },
   {
    "duration": 197,
    "start_time": "2022-06-04T10:33:34.373Z"
   },
   {
    "duration": 19,
    "start_time": "2022-06-04T10:34:30.499Z"
   },
   {
    "duration": 11,
    "start_time": "2022-06-04T11:33:38.919Z"
   },
   {
    "duration": 4,
    "start_time": "2022-06-04T11:33:51.607Z"
   },
   {
    "duration": 4,
    "start_time": "2022-06-04T11:34:20.435Z"
   },
   {
    "duration": 1276,
    "start_time": "2022-06-04T11:50:12.187Z"
   },
   {
    "duration": 86,
    "start_time": "2022-06-04T11:50:13.465Z"
   },
   {
    "duration": 14,
    "start_time": "2022-06-04T11:50:13.554Z"
   },
   {
    "duration": 28,
    "start_time": "2022-06-04T11:50:13.582Z"
   },
   {
    "duration": 78,
    "start_time": "2022-06-04T11:50:13.613Z"
   },
   {
    "duration": 10,
    "start_time": "2022-06-04T11:50:13.693Z"
   },
   {
    "duration": 249,
    "start_time": "2022-06-04T11:50:13.704Z"
   },
   {
    "duration": 18,
    "start_time": "2022-06-04T11:50:13.955Z"
   },
   {
    "duration": 105,
    "start_time": "2022-06-04T11:50:13.974Z"
   },
   {
    "duration": 19,
    "start_time": "2022-06-04T11:50:14.081Z"
   },
   {
    "duration": 3,
    "start_time": "2022-06-04T11:50:14.101Z"
   },
   {
    "duration": 12,
    "start_time": "2022-06-04T11:50:14.105Z"
   },
   {
    "duration": 271,
    "start_time": "2022-06-04T11:50:14.118Z"
   },
   {
    "duration": 13,
    "start_time": "2022-06-04T11:50:14.394Z"
   },
   {
    "duration": 173,
    "start_time": "2022-06-04T11:50:14.409Z"
   },
   {
    "duration": 11,
    "start_time": "2022-06-04T11:50:14.584Z"
   },
   {
    "duration": 12,
    "start_time": "2022-06-04T11:50:14.597Z"
   },
   {
    "duration": 191,
    "start_time": "2022-06-04T11:50:14.611Z"
   },
   {
    "duration": 62,
    "start_time": "2022-06-04T11:50:14.805Z"
   },
   {
    "duration": 24,
    "start_time": "2022-06-04T11:50:14.872Z"
   },
   {
    "duration": 13,
    "start_time": "2022-06-04T11:50:14.898Z"
   },
   {
    "duration": 21,
    "start_time": "2022-06-04T11:50:14.913Z"
   },
   {
    "duration": 2,
    "start_time": "2022-06-04T11:50:14.936Z"
   },
   {
    "duration": 33,
    "start_time": "2022-06-04T11:50:14.940Z"
   },
   {
    "duration": 2,
    "start_time": "2022-06-04T11:50:14.975Z"
   },
   {
    "duration": 1182,
    "start_time": "2022-06-04T11:50:14.979Z"
   },
   {
    "duration": 23,
    "start_time": "2022-06-04T11:50:16.163Z"
   },
   {
    "duration": 28,
    "start_time": "2022-06-04T11:50:16.188Z"
   },
   {
    "duration": 62,
    "start_time": "2022-06-04T11:50:16.217Z"
   },
   {
    "duration": 18,
    "start_time": "2022-06-04T11:50:16.280Z"
   },
   {
    "duration": 392,
    "start_time": "2022-06-04T11:50:16.299Z"
   },
   {
    "duration": 12,
    "start_time": "2022-06-04T11:50:16.693Z"
   },
   {
    "duration": 212,
    "start_time": "2022-06-04T11:50:16.707Z"
   },
   {
    "duration": 5,
    "start_time": "2022-06-04T11:50:16.921Z"
   },
   {
    "duration": 27,
    "start_time": "2022-06-04T11:50:16.927Z"
   },
   {
    "duration": 18,
    "start_time": "2022-06-04T11:50:16.965Z"
   },
   {
    "duration": 14,
    "start_time": "2022-06-04T11:52:57.707Z"
   },
   {
    "duration": 1410,
    "start_time": "2022-06-04T19:59:46.160Z"
   },
   {
    "duration": 152,
    "start_time": "2022-06-04T20:02:03.554Z"
   },
   {
    "duration": 1305,
    "start_time": "2022-06-04T20:02:18.136Z"
   },
   {
    "duration": 135,
    "start_time": "2022-06-04T20:02:19.443Z"
   },
   {
    "duration": 17,
    "start_time": "2022-06-04T20:02:19.579Z"
   },
   {
    "duration": 28,
    "start_time": "2022-06-04T20:02:19.599Z"
   },
   {
    "duration": 19,
    "start_time": "2022-06-04T20:02:19.628Z"
   },
   {
    "duration": 104,
    "start_time": "2022-06-04T20:02:19.649Z"
   },
   {
    "duration": 9,
    "start_time": "2022-06-04T20:02:19.757Z"
   },
   {
    "duration": 276,
    "start_time": "2022-06-04T20:02:19.768Z"
   },
   {
    "duration": 11,
    "start_time": "2022-06-04T20:02:20.047Z"
   },
   {
    "duration": 114,
    "start_time": "2022-06-04T20:02:20.061Z"
   },
   {
    "duration": 32,
    "start_time": "2022-06-04T20:02:20.177Z"
   },
   {
    "duration": 19,
    "start_time": "2022-06-04T20:02:20.211Z"
   },
   {
    "duration": 5,
    "start_time": "2022-06-04T20:02:20.235Z"
   },
   {
    "duration": 280,
    "start_time": "2022-06-04T20:02:20.242Z"
   },
   {
    "duration": 28,
    "start_time": "2022-06-04T20:02:20.524Z"
   },
   {
    "duration": 221,
    "start_time": "2022-06-04T20:02:20.555Z"
   },
   {
    "duration": 19,
    "start_time": "2022-06-04T20:02:20.787Z"
   },
   {
    "duration": 39,
    "start_time": "2022-06-04T20:02:20.808Z"
   },
   {
    "duration": 173,
    "start_time": "2022-06-04T20:02:20.850Z"
   },
   {
    "duration": 60,
    "start_time": "2022-06-04T20:02:21.025Z"
   },
   {
    "duration": 27,
    "start_time": "2022-06-04T20:02:21.087Z"
   },
   {
    "duration": 34,
    "start_time": "2022-06-04T20:02:21.116Z"
   },
   {
    "duration": 52,
    "start_time": "2022-06-04T20:02:21.153Z"
   },
   {
    "duration": 3,
    "start_time": "2022-06-04T20:02:21.207Z"
   },
   {
    "duration": 27,
    "start_time": "2022-06-04T20:02:21.212Z"
   },
   {
    "duration": 17,
    "start_time": "2022-06-04T20:02:21.241Z"
   },
   {
    "duration": 1277,
    "start_time": "2022-06-04T20:02:21.260Z"
   },
   {
    "duration": 27,
    "start_time": "2022-06-04T20:02:22.547Z"
   },
   {
    "duration": 37,
    "start_time": "2022-06-04T20:02:22.582Z"
   },
   {
    "duration": 39,
    "start_time": "2022-06-04T20:02:22.628Z"
   },
   {
    "duration": 17,
    "start_time": "2022-06-04T20:02:22.669Z"
   },
   {
    "duration": 562,
    "start_time": "2022-06-04T20:02:22.687Z"
   },
   {
    "duration": 14,
    "start_time": "2022-06-04T20:02:23.252Z"
   },
   {
    "duration": 198,
    "start_time": "2022-06-04T20:02:23.268Z"
   },
   {
    "duration": 6,
    "start_time": "2022-06-04T20:02:23.468Z"
   },
   {
    "duration": 40,
    "start_time": "2022-06-04T20:02:23.476Z"
   },
   {
    "duration": 26,
    "start_time": "2022-06-04T20:02:23.528Z"
   },
   {
    "duration": 36,
    "start_time": "2022-06-04T20:03:15.056Z"
   },
   {
    "duration": 12,
    "start_time": "2022-06-04T20:03:46.093Z"
   },
   {
    "duration": 154,
    "start_time": "2022-06-04T20:03:49.450Z"
   },
   {
    "duration": 12,
    "start_time": "2022-06-04T20:03:59.806Z"
   },
   {
    "duration": 11,
    "start_time": "2022-06-04T20:04:06.164Z"
   },
   {
    "duration": 1606,
    "start_time": "2022-06-04T20:04:13.308Z"
   },
   {
    "duration": 79,
    "start_time": "2022-06-04T20:04:14.916Z"
   },
   {
    "duration": 15,
    "start_time": "2022-06-04T20:04:14.997Z"
   },
   {
    "duration": 60,
    "start_time": "2022-06-04T20:04:15.014Z"
   },
   {
    "duration": 32,
    "start_time": "2022-06-04T20:04:15.078Z"
   },
   {
    "duration": 77,
    "start_time": "2022-06-04T20:04:15.112Z"
   },
   {
    "duration": 7,
    "start_time": "2022-06-04T20:04:15.190Z"
   },
   {
    "duration": 260,
    "start_time": "2022-06-04T20:04:15.198Z"
   },
   {
    "duration": 7,
    "start_time": "2022-06-04T20:04:15.459Z"
   },
   {
    "duration": 97,
    "start_time": "2022-06-04T20:04:15.468Z"
   },
   {
    "duration": 18,
    "start_time": "2022-06-04T20:04:15.567Z"
   },
   {
    "duration": 2,
    "start_time": "2022-06-04T20:04:15.586Z"
   },
   {
    "duration": 7,
    "start_time": "2022-06-04T20:04:15.590Z"
   },
   {
    "duration": 268,
    "start_time": "2022-06-04T20:04:15.599Z"
   },
   {
    "duration": 13,
    "start_time": "2022-06-04T20:04:15.868Z"
   },
   {
    "duration": 170,
    "start_time": "2022-06-04T20:04:15.883Z"
   },
   {
    "duration": 13,
    "start_time": "2022-06-04T20:04:16.055Z"
   },
   {
    "duration": 12,
    "start_time": "2022-06-04T20:04:16.069Z"
   },
   {
    "duration": 217,
    "start_time": "2022-06-04T20:04:16.083Z"
   },
   {
    "duration": 68,
    "start_time": "2022-06-04T20:04:16.302Z"
   },
   {
    "duration": 18,
    "start_time": "2022-06-04T20:04:16.371Z"
   },
   {
    "duration": 13,
    "start_time": "2022-06-04T20:04:16.391Z"
   },
   {
    "duration": 47,
    "start_time": "2022-06-04T20:04:16.406Z"
   },
   {
    "duration": 3,
    "start_time": "2022-06-04T20:04:16.455Z"
   },
   {
    "duration": 6,
    "start_time": "2022-06-04T20:04:16.460Z"
   },
   {
    "duration": 6,
    "start_time": "2022-06-04T20:04:16.468Z"
   },
   {
    "duration": 954,
    "start_time": "2022-06-04T20:04:16.476Z"
   },
   {
    "duration": 17,
    "start_time": "2022-06-04T20:04:17.432Z"
   },
   {
    "duration": 30,
    "start_time": "2022-06-04T20:04:17.451Z"
   },
   {
    "duration": 49,
    "start_time": "2022-06-04T20:04:17.482Z"
   },
   {
    "duration": 19,
    "start_time": "2022-06-04T20:04:17.533Z"
   },
   {
    "duration": 390,
    "start_time": "2022-06-04T20:04:17.554Z"
   },
   {
    "duration": 13,
    "start_time": "2022-06-04T20:04:17.945Z"
   },
   {
    "duration": 193,
    "start_time": "2022-06-04T20:04:17.960Z"
   },
   {
    "duration": 5,
    "start_time": "2022-06-04T20:04:18.155Z"
   },
   {
    "duration": 19,
    "start_time": "2022-06-04T20:04:18.161Z"
   },
   {
    "duration": 14,
    "start_time": "2022-06-04T20:04:18.181Z"
   },
   {
    "duration": 60,
    "start_time": "2022-06-04T20:04:38.321Z"
   },
   {
    "duration": 12,
    "start_time": "2022-06-04T20:04:47.347Z"
   },
   {
    "duration": 124,
    "start_time": "2022-06-04T20:04:59.302Z"
   },
   {
    "duration": 1259,
    "start_time": "2022-06-04T20:05:06.950Z"
   },
   {
    "duration": 88,
    "start_time": "2022-06-04T20:05:08.211Z"
   },
   {
    "duration": 16,
    "start_time": "2022-06-04T20:05:08.300Z"
   },
   {
    "duration": 32,
    "start_time": "2022-06-04T20:05:08.318Z"
   },
   {
    "duration": 17,
    "start_time": "2022-06-04T20:05:08.352Z"
   },
   {
    "duration": 139,
    "start_time": "2022-06-04T20:05:08.372Z"
   },
   {
    "duration": 0,
    "start_time": "2022-06-04T20:05:08.513Z"
   },
   {
    "duration": 0,
    "start_time": "2022-06-04T20:05:08.514Z"
   },
   {
    "duration": 0,
    "start_time": "2022-06-04T20:05:08.515Z"
   },
   {
    "duration": 0,
    "start_time": "2022-06-04T20:05:08.516Z"
   },
   {
    "duration": 0,
    "start_time": "2022-06-04T20:05:08.517Z"
   },
   {
    "duration": 0,
    "start_time": "2022-06-04T20:05:08.528Z"
   },
   {
    "duration": 0,
    "start_time": "2022-06-04T20:05:08.529Z"
   },
   {
    "duration": 0,
    "start_time": "2022-06-04T20:05:08.530Z"
   },
   {
    "duration": 0,
    "start_time": "2022-06-04T20:05:08.532Z"
   },
   {
    "duration": 0,
    "start_time": "2022-06-04T20:05:08.533Z"
   },
   {
    "duration": 0,
    "start_time": "2022-06-04T20:05:08.538Z"
   },
   {
    "duration": 0,
    "start_time": "2022-06-04T20:05:08.543Z"
   },
   {
    "duration": 0,
    "start_time": "2022-06-04T20:05:08.544Z"
   },
   {
    "duration": 0,
    "start_time": "2022-06-04T20:05:08.544Z"
   },
   {
    "duration": 0,
    "start_time": "2022-06-04T20:05:08.545Z"
   },
   {
    "duration": 0,
    "start_time": "2022-06-04T20:05:08.548Z"
   },
   {
    "duration": 0,
    "start_time": "2022-06-04T20:05:08.549Z"
   },
   {
    "duration": 0,
    "start_time": "2022-06-04T20:05:08.550Z"
   },
   {
    "duration": 0,
    "start_time": "2022-06-04T20:05:08.553Z"
   },
   {
    "duration": 0,
    "start_time": "2022-06-04T20:05:08.553Z"
   },
   {
    "duration": 0,
    "start_time": "2022-06-04T20:05:08.555Z"
   },
   {
    "duration": 0,
    "start_time": "2022-06-04T20:05:08.556Z"
   },
   {
    "duration": 0,
    "start_time": "2022-06-04T20:05:08.557Z"
   },
   {
    "duration": 0,
    "start_time": "2022-06-04T20:05:08.558Z"
   },
   {
    "duration": 0,
    "start_time": "2022-06-04T20:05:08.559Z"
   },
   {
    "duration": 0,
    "start_time": "2022-06-04T20:05:08.561Z"
   },
   {
    "duration": 0,
    "start_time": "2022-06-04T20:05:08.562Z"
   },
   {
    "duration": 0,
    "start_time": "2022-06-04T20:05:08.563Z"
   },
   {
    "duration": 0,
    "start_time": "2022-06-04T20:05:08.564Z"
   },
   {
    "duration": 0,
    "start_time": "2022-06-04T20:05:08.565Z"
   },
   {
    "duration": 0,
    "start_time": "2022-06-04T20:05:08.566Z"
   },
   {
    "duration": 12,
    "start_time": "2022-06-04T20:06:02.149Z"
   },
   {
    "duration": 1230,
    "start_time": "2022-06-04T20:06:07.334Z"
   },
   {
    "duration": 89,
    "start_time": "2022-06-04T20:06:08.566Z"
   },
   {
    "duration": 14,
    "start_time": "2022-06-04T20:06:08.656Z"
   },
   {
    "duration": 23,
    "start_time": "2022-06-04T20:06:08.672Z"
   },
   {
    "duration": 65,
    "start_time": "2022-06-04T20:06:08.696Z"
   },
   {
    "duration": 83,
    "start_time": "2022-06-04T20:06:08.762Z"
   },
   {
    "duration": 7,
    "start_time": "2022-06-04T20:06:08.847Z"
   },
   {
    "duration": 227,
    "start_time": "2022-06-04T20:06:08.855Z"
   },
   {
    "duration": 7,
    "start_time": "2022-06-04T20:06:09.084Z"
   },
   {
    "duration": 103,
    "start_time": "2022-06-04T20:06:09.093Z"
   },
   {
    "duration": 18,
    "start_time": "2022-06-04T20:06:09.198Z"
   },
   {
    "duration": 5,
    "start_time": "2022-06-04T20:06:09.234Z"
   },
   {
    "duration": 7,
    "start_time": "2022-06-04T20:06:09.241Z"
   },
   {
    "duration": 252,
    "start_time": "2022-06-04T20:06:09.250Z"
   },
   {
    "duration": 14,
    "start_time": "2022-06-04T20:06:09.503Z"
   },
   {
    "duration": 166,
    "start_time": "2022-06-04T20:06:09.530Z"
   },
   {
    "duration": 12,
    "start_time": "2022-06-04T20:06:09.698Z"
   },
   {
    "duration": 28,
    "start_time": "2022-06-04T20:06:09.712Z"
   },
   {
    "duration": 183,
    "start_time": "2022-06-04T20:06:09.742Z"
   },
   {
    "duration": 58,
    "start_time": "2022-06-04T20:06:09.930Z"
   },
   {
    "duration": 18,
    "start_time": "2022-06-04T20:06:09.989Z"
   },
   {
    "duration": 39,
    "start_time": "2022-06-04T20:06:10.009Z"
   },
   {
    "duration": 27,
    "start_time": "2022-06-04T20:06:10.050Z"
   },
   {
    "duration": 3,
    "start_time": "2022-06-04T20:06:10.079Z"
   },
   {
    "duration": 10,
    "start_time": "2022-06-04T20:06:10.084Z"
   },
   {
    "duration": 16,
    "start_time": "2022-06-04T20:06:10.097Z"
   },
   {
    "duration": 1146,
    "start_time": "2022-06-04T20:06:10.115Z"
   },
   {
    "duration": 25,
    "start_time": "2022-06-04T20:06:11.266Z"
   },
   {
    "duration": 29,
    "start_time": "2022-06-04T20:06:11.293Z"
   },
   {
    "duration": 34,
    "start_time": "2022-06-04T20:06:11.329Z"
   },
   {
    "duration": 27,
    "start_time": "2022-06-04T20:06:11.364Z"
   },
   {
    "duration": 375,
    "start_time": "2022-06-04T20:06:11.393Z"
   },
   {
    "duration": 12,
    "start_time": "2022-06-04T20:06:11.770Z"
   },
   {
    "duration": 203,
    "start_time": "2022-06-04T20:06:11.784Z"
   },
   {
    "duration": 5,
    "start_time": "2022-06-04T20:06:11.988Z"
   },
   {
    "duration": 37,
    "start_time": "2022-06-04T20:06:11.995Z"
   },
   {
    "duration": 30,
    "start_time": "2022-06-04T20:06:12.034Z"
   },
   {
    "duration": 39,
    "start_time": "2022-06-04T20:06:42.906Z"
   },
   {
    "duration": 41,
    "start_time": "2022-06-04T20:07:22.362Z"
   },
   {
    "duration": 82,
    "start_time": "2022-06-04T20:07:29.315Z"
   },
   {
    "duration": 72,
    "start_time": "2022-06-04T20:07:56.895Z"
   },
   {
    "duration": 1402,
    "start_time": "2022-06-04T20:08:03.989Z"
   },
   {
    "duration": 83,
    "start_time": "2022-06-04T20:08:05.393Z"
   },
   {
    "duration": 13,
    "start_time": "2022-06-04T20:08:05.478Z"
   },
   {
    "duration": 59,
    "start_time": "2022-06-04T20:08:05.493Z"
   },
   {
    "duration": 39,
    "start_time": "2022-06-04T20:08:05.555Z"
   },
   {
    "duration": 104,
    "start_time": "2022-06-04T20:08:05.596Z"
   },
   {
    "duration": 34,
    "start_time": "2022-06-04T20:08:05.703Z"
   },
   {
    "duration": 227,
    "start_time": "2022-06-04T20:08:05.739Z"
   },
   {
    "duration": 6,
    "start_time": "2022-06-04T20:08:05.968Z"
   },
   {
    "duration": 110,
    "start_time": "2022-06-04T20:08:05.976Z"
   },
   {
    "duration": 18,
    "start_time": "2022-06-04T20:08:06.088Z"
   },
   {
    "duration": 43,
    "start_time": "2022-06-04T20:08:06.108Z"
   },
   {
    "duration": 24,
    "start_time": "2022-06-04T20:08:06.153Z"
   },
   {
    "duration": 282,
    "start_time": "2022-06-04T20:08:06.180Z"
   },
   {
    "duration": 14,
    "start_time": "2022-06-04T20:08:06.463Z"
   },
   {
    "duration": 179,
    "start_time": "2022-06-04T20:08:06.478Z"
   },
   {
    "duration": 11,
    "start_time": "2022-06-04T20:08:06.659Z"
   },
   {
    "duration": 14,
    "start_time": "2022-06-04T20:08:06.671Z"
   },
   {
    "duration": 191,
    "start_time": "2022-06-04T20:08:06.687Z"
   },
   {
    "duration": 82,
    "start_time": "2022-06-04T20:08:06.880Z"
   },
   {
    "duration": 17,
    "start_time": "2022-06-04T20:08:06.964Z"
   },
   {
    "duration": 14,
    "start_time": "2022-06-04T20:08:06.983Z"
   },
   {
    "duration": 58,
    "start_time": "2022-06-04T20:08:06.998Z"
   },
   {
    "duration": 3,
    "start_time": "2022-06-04T20:08:07.058Z"
   },
   {
    "duration": 6,
    "start_time": "2022-06-04T20:08:07.062Z"
   },
   {
    "duration": 8,
    "start_time": "2022-06-04T20:08:07.069Z"
   },
   {
    "duration": 1063,
    "start_time": "2022-06-04T20:08:07.079Z"
   },
   {
    "duration": 19,
    "start_time": "2022-06-04T20:08:08.143Z"
   },
   {
    "duration": 29,
    "start_time": "2022-06-04T20:08:08.163Z"
   },
   {
    "duration": 57,
    "start_time": "2022-06-04T20:08:08.193Z"
   },
   {
    "duration": 17,
    "start_time": "2022-06-04T20:08:08.251Z"
   },
   {
    "duration": 385,
    "start_time": "2022-06-04T20:08:08.272Z"
   },
   {
    "duration": 14,
    "start_time": "2022-06-04T20:08:08.659Z"
   },
   {
    "duration": 240,
    "start_time": "2022-06-04T20:08:08.675Z"
   },
   {
    "duration": 4,
    "start_time": "2022-06-04T20:08:08.916Z"
   },
   {
    "duration": 35,
    "start_time": "2022-06-04T20:08:08.929Z"
   },
   {
    "duration": 20,
    "start_time": "2022-06-04T20:08:08.966Z"
   },
   {
    "duration": 42,
    "start_time": "2022-06-04T20:11:15.590Z"
   },
   {
    "duration": 1358,
    "start_time": "2022-06-04T20:11:23.607Z"
   },
   {
    "duration": 108,
    "start_time": "2022-06-04T20:11:24.967Z"
   },
   {
    "duration": 23,
    "start_time": "2022-06-04T20:11:25.078Z"
   },
   {
    "duration": 82,
    "start_time": "2022-06-04T20:11:25.103Z"
   },
   {
    "duration": 57,
    "start_time": "2022-06-04T20:11:25.187Z"
   },
   {
    "duration": 93,
    "start_time": "2022-06-04T20:11:25.248Z"
   },
   {
    "duration": 9,
    "start_time": "2022-06-04T20:11:25.346Z"
   },
   {
    "duration": 230,
    "start_time": "2022-06-04T20:11:25.357Z"
   },
   {
    "duration": 7,
    "start_time": "2022-06-04T20:11:25.590Z"
   },
   {
    "duration": 116,
    "start_time": "2022-06-04T20:11:25.599Z"
   },
   {
    "duration": 31,
    "start_time": "2022-06-04T20:11:25.717Z"
   },
   {
    "duration": 16,
    "start_time": "2022-06-04T20:11:25.750Z"
   },
   {
    "duration": 7,
    "start_time": "2022-06-04T20:11:25.768Z"
   },
   {
    "duration": 277,
    "start_time": "2022-06-04T20:11:25.776Z"
   },
   {
    "duration": 14,
    "start_time": "2022-06-04T20:11:26.055Z"
   },
   {
    "duration": 228,
    "start_time": "2022-06-04T20:11:26.070Z"
   },
   {
    "duration": 13,
    "start_time": "2022-06-04T20:11:26.299Z"
   },
   {
    "duration": 35,
    "start_time": "2022-06-04T20:11:26.313Z"
   },
   {
    "duration": 205,
    "start_time": "2022-06-04T20:11:26.349Z"
   },
   {
    "duration": 84,
    "start_time": "2022-06-04T20:11:26.557Z"
   },
   {
    "duration": 30,
    "start_time": "2022-06-04T20:11:26.644Z"
   },
   {
    "duration": 25,
    "start_time": "2022-06-04T20:11:26.678Z"
   },
   {
    "duration": 30,
    "start_time": "2022-06-04T20:11:26.705Z"
   },
   {
    "duration": 7,
    "start_time": "2022-06-04T20:11:26.742Z"
   },
   {
    "duration": 14,
    "start_time": "2022-06-04T20:11:26.751Z"
   },
   {
    "duration": 8,
    "start_time": "2022-06-04T20:11:26.767Z"
   },
   {
    "duration": 993,
    "start_time": "2022-06-04T20:11:26.778Z"
   },
   {
    "duration": 27,
    "start_time": "2022-06-04T20:11:27.773Z"
   },
   {
    "duration": 45,
    "start_time": "2022-06-04T20:11:27.802Z"
   },
   {
    "duration": 33,
    "start_time": "2022-06-04T20:11:27.849Z"
   },
   {
    "duration": 16,
    "start_time": "2022-06-04T20:11:27.883Z"
   },
   {
    "duration": 406,
    "start_time": "2022-06-04T20:11:27.902Z"
   },
   {
    "duration": 23,
    "start_time": "2022-06-04T20:11:28.310Z"
   },
   {
    "duration": 209,
    "start_time": "2022-06-04T20:11:28.334Z"
   },
   {
    "duration": 4,
    "start_time": "2022-06-04T20:11:28.551Z"
   },
   {
    "duration": 34,
    "start_time": "2022-06-04T20:11:28.558Z"
   },
   {
    "duration": 20,
    "start_time": "2022-06-04T20:11:28.594Z"
   },
   {
    "duration": 50,
    "start_time": "2022-06-04T20:12:04.090Z"
   },
   {
    "duration": 1310,
    "start_time": "2022-06-04T20:12:11.194Z"
   },
   {
    "duration": 105,
    "start_time": "2022-06-04T20:12:12.507Z"
   },
   {
    "duration": 23,
    "start_time": "2022-06-04T20:12:12.613Z"
   },
   {
    "duration": 44,
    "start_time": "2022-06-04T20:12:12.642Z"
   },
   {
    "duration": 55,
    "start_time": "2022-06-04T20:12:12.689Z"
   },
   {
    "duration": 79,
    "start_time": "2022-06-04T20:12:12.746Z"
   },
   {
    "duration": 10,
    "start_time": "2022-06-04T20:12:12.827Z"
   },
   {
    "duration": 246,
    "start_time": "2022-06-04T20:12:12.838Z"
   },
   {
    "duration": 9,
    "start_time": "2022-06-04T20:12:13.086Z"
   },
   {
    "duration": 112,
    "start_time": "2022-06-04T20:12:13.097Z"
   },
   {
    "duration": 34,
    "start_time": "2022-06-04T20:12:13.211Z"
   },
   {
    "duration": 3,
    "start_time": "2022-06-04T20:12:13.247Z"
   },
   {
    "duration": 5,
    "start_time": "2022-06-04T20:12:13.252Z"
   },
   {
    "duration": 287,
    "start_time": "2022-06-04T20:12:13.260Z"
   },
   {
    "duration": 15,
    "start_time": "2022-06-04T20:12:13.549Z"
   },
   {
    "duration": 190,
    "start_time": "2022-06-04T20:12:13.565Z"
   },
   {
    "duration": 13,
    "start_time": "2022-06-04T20:12:13.757Z"
   },
   {
    "duration": 12,
    "start_time": "2022-06-04T20:12:13.772Z"
   },
   {
    "duration": 194,
    "start_time": "2022-06-04T20:12:13.786Z"
   },
   {
    "duration": 158,
    "start_time": "2022-06-04T20:12:13.982Z"
   },
   {
    "duration": 28,
    "start_time": "2022-06-04T20:12:14.142Z"
   },
   {
    "duration": 73,
    "start_time": "2022-06-04T20:12:14.172Z"
   },
   {
    "duration": 28,
    "start_time": "2022-06-04T20:12:14.248Z"
   },
   {
    "duration": 7,
    "start_time": "2022-06-04T20:12:14.330Z"
   },
   {
    "duration": 15,
    "start_time": "2022-06-04T20:12:14.339Z"
   },
   {
    "duration": 22,
    "start_time": "2022-06-04T20:12:14.356Z"
   },
   {
    "duration": 1014,
    "start_time": "2022-06-04T20:12:14.380Z"
   },
   {
    "duration": 21,
    "start_time": "2022-06-04T20:12:15.396Z"
   },
   {
    "duration": 45,
    "start_time": "2022-06-04T20:12:15.419Z"
   },
   {
    "duration": 31,
    "start_time": "2022-06-04T20:12:15.466Z"
   },
   {
    "duration": 40,
    "start_time": "2022-06-04T20:12:15.499Z"
   },
   {
    "duration": 348,
    "start_time": "2022-06-04T20:12:15.545Z"
   },
   {
    "duration": 13,
    "start_time": "2022-06-04T20:12:15.895Z"
   },
   {
    "duration": 226,
    "start_time": "2022-06-04T20:12:15.910Z"
   },
   {
    "duration": 9,
    "start_time": "2022-06-04T20:12:16.138Z"
   },
   {
    "duration": 26,
    "start_time": "2022-06-04T20:12:16.150Z"
   },
   {
    "duration": 15,
    "start_time": "2022-06-04T20:12:16.178Z"
   },
   {
    "duration": 41,
    "start_time": "2022-06-04T20:14:39.249Z"
   },
   {
    "duration": 3,
    "start_time": "2022-06-04T20:18:55.220Z"
   },
   {
    "duration": 695,
    "start_time": "2022-06-04T20:24:42.491Z"
   },
   {
    "duration": 607,
    "start_time": "2022-06-04T20:25:09.000Z"
   },
   {
    "duration": 1176,
    "start_time": "2022-06-04T20:27:34.890Z"
   },
   {
    "duration": 72,
    "start_time": "2022-06-04T20:27:36.068Z"
   },
   {
    "duration": 13,
    "start_time": "2022-06-04T20:27:36.142Z"
   },
   {
    "duration": 37,
    "start_time": "2022-06-04T20:27:36.157Z"
   },
   {
    "duration": 59,
    "start_time": "2022-06-04T20:27:36.196Z"
   },
   {
    "duration": 79,
    "start_time": "2022-06-04T20:27:36.256Z"
   },
   {
    "duration": 6,
    "start_time": "2022-06-04T20:27:36.336Z"
   },
   {
    "duration": 225,
    "start_time": "2022-06-04T20:27:36.343Z"
   },
   {
    "duration": 7,
    "start_time": "2022-06-04T20:27:36.569Z"
   },
   {
    "duration": 105,
    "start_time": "2022-06-04T20:27:36.578Z"
   },
   {
    "duration": 18,
    "start_time": "2022-06-04T20:27:36.685Z"
   },
   {
    "duration": 2,
    "start_time": "2022-06-04T20:27:36.705Z"
   },
   {
    "duration": 3,
    "start_time": "2022-06-04T20:27:36.729Z"
   },
   {
    "duration": 1221,
    "start_time": "2022-06-04T20:28:57.526Z"
   },
   {
    "duration": 75,
    "start_time": "2022-06-04T20:28:58.749Z"
   },
   {
    "duration": 15,
    "start_time": "2022-06-04T20:28:58.826Z"
   },
   {
    "duration": 39,
    "start_time": "2022-06-04T20:28:58.842Z"
   },
   {
    "duration": 53,
    "start_time": "2022-06-04T20:28:58.883Z"
   },
   {
    "duration": 69,
    "start_time": "2022-06-04T20:28:58.937Z"
   },
   {
    "duration": 24,
    "start_time": "2022-06-04T20:28:59.007Z"
   },
   {
    "duration": 231,
    "start_time": "2022-06-04T20:28:59.033Z"
   },
   {
    "duration": 7,
    "start_time": "2022-06-04T20:28:59.266Z"
   },
   {
    "duration": 103,
    "start_time": "2022-06-04T20:28:59.276Z"
   },
   {
    "duration": 20,
    "start_time": "2022-06-04T20:28:59.381Z"
   },
   {
    "duration": 3,
    "start_time": "2022-06-04T20:28:59.403Z"
   },
   {
    "duration": 2,
    "start_time": "2022-06-04T20:28:59.429Z"
   },
   {
    "duration": 1256,
    "start_time": "2022-06-04T20:29:27.293Z"
   },
   {
    "duration": 78,
    "start_time": "2022-06-04T20:29:28.551Z"
   },
   {
    "duration": 13,
    "start_time": "2022-06-04T20:29:28.631Z"
   },
   {
    "duration": 42,
    "start_time": "2022-06-04T20:29:28.646Z"
   },
   {
    "duration": 50,
    "start_time": "2022-06-04T20:29:28.690Z"
   },
   {
    "duration": 70,
    "start_time": "2022-06-04T20:29:28.742Z"
   },
   {
    "duration": 6,
    "start_time": "2022-06-04T20:29:28.829Z"
   },
   {
    "duration": 232,
    "start_time": "2022-06-04T20:29:28.836Z"
   },
   {
    "duration": 10,
    "start_time": "2022-06-04T20:29:29.071Z"
   },
   {
    "duration": 99,
    "start_time": "2022-06-04T20:29:29.083Z"
   },
   {
    "duration": 30,
    "start_time": "2022-06-04T20:29:29.184Z"
   },
   {
    "duration": 2,
    "start_time": "2022-06-04T20:29:29.229Z"
   },
   {
    "duration": 5,
    "start_time": "2022-06-04T20:29:29.234Z"
   },
   {
    "duration": 264,
    "start_time": "2022-06-04T20:29:29.243Z"
   },
   {
    "duration": 22,
    "start_time": "2022-06-04T20:29:29.509Z"
   },
   {
    "duration": 155,
    "start_time": "2022-06-04T20:29:29.533Z"
   },
   {
    "duration": 11,
    "start_time": "2022-06-04T20:29:29.690Z"
   },
   {
    "duration": 27,
    "start_time": "2022-06-04T20:29:29.702Z"
   },
   {
    "duration": 176,
    "start_time": "2022-06-04T20:29:29.730Z"
   },
   {
    "duration": 54,
    "start_time": "2022-06-04T20:29:29.908Z"
   },
   {
    "duration": 17,
    "start_time": "2022-06-04T20:29:29.963Z"
   },
   {
    "duration": 15,
    "start_time": "2022-06-04T20:29:29.982Z"
   },
   {
    "duration": 50,
    "start_time": "2022-06-04T20:29:29.998Z"
   },
   {
    "duration": 3,
    "start_time": "2022-06-04T20:29:30.050Z"
   },
   {
    "duration": 13,
    "start_time": "2022-06-04T20:29:30.054Z"
   },
   {
    "duration": 9,
    "start_time": "2022-06-04T20:29:30.069Z"
   },
   {
    "duration": 1009,
    "start_time": "2022-06-04T20:29:30.079Z"
   },
   {
    "duration": 24,
    "start_time": "2022-06-04T20:29:31.091Z"
   },
   {
    "duration": 38,
    "start_time": "2022-06-04T20:29:31.117Z"
   },
   {
    "duration": 29,
    "start_time": "2022-06-04T20:29:31.157Z"
   },
   {
    "duration": 16,
    "start_time": "2022-06-04T20:29:31.188Z"
   },
   {
    "duration": 354,
    "start_time": "2022-06-04T20:29:31.205Z"
   },
   {
    "duration": 12,
    "start_time": "2022-06-04T20:29:31.560Z"
   },
   {
    "duration": 188,
    "start_time": "2022-06-04T20:29:31.574Z"
   },
   {
    "duration": 4,
    "start_time": "2022-06-04T20:29:31.763Z"
   },
   {
    "duration": 20,
    "start_time": "2022-06-04T20:29:31.769Z"
   },
   {
    "duration": 22,
    "start_time": "2022-06-04T20:29:31.790Z"
   },
   {
    "duration": 4,
    "start_time": "2022-06-04T20:29:43.094Z"
   },
   {
    "duration": 80,
    "start_time": "2022-06-04T20:29:43.100Z"
   },
   {
    "duration": 13,
    "start_time": "2022-06-04T20:29:43.182Z"
   },
   {
    "duration": 64,
    "start_time": "2022-06-04T20:29:43.196Z"
   },
   {
    "duration": 32,
    "start_time": "2022-06-04T20:29:43.261Z"
   },
   {
    "duration": 88,
    "start_time": "2022-06-04T20:29:43.294Z"
   },
   {
    "duration": 7,
    "start_time": "2022-06-04T20:29:43.384Z"
   },
   {
    "duration": 145,
    "start_time": "2022-06-04T20:29:43.393Z"
   },
   {
    "duration": 8,
    "start_time": "2022-06-04T20:29:43.539Z"
   },
   {
    "duration": 193,
    "start_time": "2022-06-04T20:29:43.549Z"
   },
   {
    "duration": 17,
    "start_time": "2022-06-04T20:29:43.744Z"
   },
   {
    "duration": 3,
    "start_time": "2022-06-04T20:29:43.762Z"
   },
   {
    "duration": 9,
    "start_time": "2022-06-04T20:29:43.766Z"
   },
   {
    "duration": 280,
    "start_time": "2022-06-04T20:29:43.777Z"
   },
   {
    "duration": 13,
    "start_time": "2022-06-04T20:29:44.059Z"
   },
   {
    "duration": 202,
    "start_time": "2022-06-04T20:29:44.073Z"
   },
   {
    "duration": 12,
    "start_time": "2022-06-04T20:29:44.277Z"
   },
   {
    "duration": 9,
    "start_time": "2022-06-04T20:29:44.291Z"
   },
   {
    "duration": 253,
    "start_time": "2022-06-04T20:29:44.302Z"
   },
   {
    "duration": 77,
    "start_time": "2022-06-04T20:29:44.557Z"
   },
   {
    "duration": 17,
    "start_time": "2022-06-04T20:29:44.636Z"
   },
   {
    "duration": 12,
    "start_time": "2022-06-04T20:29:44.655Z"
   },
   {
    "duration": 23,
    "start_time": "2022-06-04T20:29:44.669Z"
   },
   {
    "duration": 2,
    "start_time": "2022-06-04T20:29:44.694Z"
   },
   {
    "duration": 31,
    "start_time": "2022-06-04T20:29:44.698Z"
   },
   {
    "duration": 16,
    "start_time": "2022-06-04T20:29:44.731Z"
   },
   {
    "duration": 916,
    "start_time": "2022-06-04T20:29:44.749Z"
   },
   {
    "duration": 16,
    "start_time": "2022-06-04T20:29:45.668Z"
   },
   {
    "duration": 28,
    "start_time": "2022-06-04T20:29:45.685Z"
   },
   {
    "duration": 29,
    "start_time": "2022-06-04T20:29:45.714Z"
   },
   {
    "duration": 16,
    "start_time": "2022-06-04T20:29:45.745Z"
   },
   {
    "duration": 337,
    "start_time": "2022-06-04T20:29:45.763Z"
   },
   {
    "duration": 12,
    "start_time": "2022-06-04T20:29:46.102Z"
   },
   {
    "duration": 188,
    "start_time": "2022-06-04T20:29:46.116Z"
   },
   {
    "duration": 4,
    "start_time": "2022-06-04T20:29:46.306Z"
   },
   {
    "duration": 30,
    "start_time": "2022-06-04T20:29:46.311Z"
   },
   {
    "duration": 15,
    "start_time": "2022-06-04T20:29:46.342Z"
   },
   {
    "duration": 1203,
    "start_time": "2022-06-04T20:30:25.953Z"
   },
   {
    "duration": 76,
    "start_time": "2022-06-04T20:30:27.158Z"
   },
   {
    "duration": 13,
    "start_time": "2022-06-04T20:30:27.236Z"
   },
   {
    "duration": 53,
    "start_time": "2022-06-04T20:30:27.251Z"
   },
   {
    "duration": 46,
    "start_time": "2022-06-04T20:30:27.307Z"
   },
   {
    "duration": 83,
    "start_time": "2022-06-04T20:30:27.355Z"
   },
   {
    "duration": 8,
    "start_time": "2022-06-04T20:30:27.440Z"
   },
   {
    "duration": 251,
    "start_time": "2022-06-04T20:30:27.449Z"
   },
   {
    "duration": 9,
    "start_time": "2022-06-04T20:30:27.703Z"
   },
   {
    "duration": 95,
    "start_time": "2022-06-04T20:30:27.714Z"
   },
   {
    "duration": 32,
    "start_time": "2022-06-04T20:30:27.811Z"
   },
   {
    "duration": 3,
    "start_time": "2022-06-04T20:30:27.844Z"
   },
   {
    "duration": 14,
    "start_time": "2022-06-04T20:30:27.848Z"
   },
   {
    "duration": 1265,
    "start_time": "2022-06-04T20:34:23.097Z"
   },
   {
    "duration": 89,
    "start_time": "2022-06-04T20:34:24.365Z"
   },
   {
    "duration": 21,
    "start_time": "2022-06-04T20:34:24.456Z"
   },
   {
    "duration": 71,
    "start_time": "2022-06-04T20:34:24.480Z"
   },
   {
    "duration": 43,
    "start_time": "2022-06-04T20:34:24.553Z"
   },
   {
    "duration": 94,
    "start_time": "2022-06-04T20:34:24.598Z"
   },
   {
    "duration": 8,
    "start_time": "2022-06-04T20:34:24.694Z"
   },
   {
    "duration": 240,
    "start_time": "2022-06-04T20:34:24.703Z"
   },
   {
    "duration": 7,
    "start_time": "2022-06-04T20:34:24.944Z"
   },
   {
    "duration": 113,
    "start_time": "2022-06-04T20:34:24.953Z"
   },
   {
    "duration": 22,
    "start_time": "2022-06-04T20:34:25.068Z"
   },
   {
    "duration": 2,
    "start_time": "2022-06-04T20:34:25.092Z"
   },
   {
    "duration": 6,
    "start_time": "2022-06-04T20:34:25.095Z"
   },
   {
    "duration": 271,
    "start_time": "2022-06-04T20:34:25.102Z"
   },
   {
    "duration": 120,
    "start_time": "2022-06-04T20:34:25.374Z"
   },
   {
    "duration": 0,
    "start_time": "2022-06-04T20:34:25.497Z"
   },
   {
    "duration": 0,
    "start_time": "2022-06-04T20:34:25.499Z"
   },
   {
    "duration": 0,
    "start_time": "2022-06-04T20:34:25.501Z"
   },
   {
    "duration": 0,
    "start_time": "2022-06-04T20:34:25.502Z"
   },
   {
    "duration": 0,
    "start_time": "2022-06-04T20:34:25.504Z"
   },
   {
    "duration": 0,
    "start_time": "2022-06-04T20:34:25.505Z"
   },
   {
    "duration": 0,
    "start_time": "2022-06-04T20:34:25.507Z"
   },
   {
    "duration": 1,
    "start_time": "2022-06-04T20:34:25.508Z"
   },
   {
    "duration": 0,
    "start_time": "2022-06-04T20:34:25.510Z"
   },
   {
    "duration": 0,
    "start_time": "2022-06-04T20:34:25.529Z"
   },
   {
    "duration": 0,
    "start_time": "2022-06-04T20:34:25.530Z"
   },
   {
    "duration": 0,
    "start_time": "2022-06-04T20:34:25.532Z"
   },
   {
    "duration": 0,
    "start_time": "2022-06-04T20:34:25.533Z"
   },
   {
    "duration": 0,
    "start_time": "2022-06-04T20:34:25.534Z"
   },
   {
    "duration": 0,
    "start_time": "2022-06-04T20:34:25.536Z"
   },
   {
    "duration": 0,
    "start_time": "2022-06-04T20:34:25.538Z"
   },
   {
    "duration": 0,
    "start_time": "2022-06-04T20:34:25.539Z"
   },
   {
    "duration": 0,
    "start_time": "2022-06-04T20:34:25.540Z"
   },
   {
    "duration": 0,
    "start_time": "2022-06-04T20:34:25.542Z"
   },
   {
    "duration": 0,
    "start_time": "2022-06-04T20:34:25.544Z"
   },
   {
    "duration": 0,
    "start_time": "2022-06-04T20:34:25.546Z"
   },
   {
    "duration": 0,
    "start_time": "2022-06-04T20:34:25.547Z"
   },
   {
    "duration": 0,
    "start_time": "2022-06-04T20:34:25.549Z"
   },
   {
    "duration": 358,
    "start_time": "2022-06-04T20:35:04.546Z"
   },
   {
    "duration": 234,
    "start_time": "2022-06-04T20:35:42.938Z"
   },
   {
    "duration": 380,
    "start_time": "2022-06-04T20:36:58.204Z"
   },
   {
    "duration": 375,
    "start_time": "2022-06-04T20:37:05.038Z"
   },
   {
    "duration": 446,
    "start_time": "2022-06-04T20:37:39.342Z"
   },
   {
    "duration": 365,
    "start_time": "2022-06-04T20:37:47.361Z"
   },
   {
    "duration": 389,
    "start_time": "2022-06-04T20:37:52.725Z"
   },
   {
    "duration": 384,
    "start_time": "2022-06-04T20:37:55.925Z"
   },
   {
    "duration": 411,
    "start_time": "2022-06-04T20:38:00.090Z"
   },
   {
    "duration": 412,
    "start_time": "2022-06-04T20:38:04.320Z"
   },
   {
    "duration": 378,
    "start_time": "2022-06-04T20:38:08.266Z"
   },
   {
    "duration": 519,
    "start_time": "2022-06-04T20:38:11.492Z"
   },
   {
    "duration": 426,
    "start_time": "2022-06-04T20:38:30.496Z"
   },
   {
    "duration": 674,
    "start_time": "2022-06-04T20:38:44.195Z"
   },
   {
    "duration": 2,
    "start_time": "2022-06-04T20:39:00.311Z"
   },
   {
    "duration": 1095,
    "start_time": "2022-06-04T20:41:35.828Z"
   },
   {
    "duration": 24,
    "start_time": "2022-06-04T20:43:54.507Z"
   },
   {
    "duration": 252,
    "start_time": "2022-06-04T20:44:01.394Z"
   },
   {
    "duration": 2,
    "start_time": "2022-06-04T20:46:22.620Z"
   },
   {
    "duration": 65,
    "start_time": "2022-06-04T20:47:13.012Z"
   },
   {
    "duration": 1246,
    "start_time": "2022-06-04T20:47:26.084Z"
   },
   {
    "duration": 79,
    "start_time": "2022-06-04T20:47:27.332Z"
   },
   {
    "duration": 15,
    "start_time": "2022-06-04T20:47:27.412Z"
   },
   {
    "duration": 46,
    "start_time": "2022-06-04T20:47:27.429Z"
   },
   {
    "duration": 53,
    "start_time": "2022-06-04T20:47:27.476Z"
   },
   {
    "duration": 74,
    "start_time": "2022-06-04T20:47:27.531Z"
   },
   {
    "duration": 26,
    "start_time": "2022-06-04T20:47:27.606Z"
   },
   {
    "duration": 242,
    "start_time": "2022-06-04T20:47:27.634Z"
   },
   {
    "duration": 7,
    "start_time": "2022-06-04T20:47:27.877Z"
   },
   {
    "duration": 105,
    "start_time": "2022-06-04T20:47:27.887Z"
   },
   {
    "duration": 19,
    "start_time": "2022-06-04T20:47:27.994Z"
   },
   {
    "duration": 3,
    "start_time": "2022-06-04T20:47:28.029Z"
   },
   {
    "duration": 23,
    "start_time": "2022-06-04T20:47:28.033Z"
   },
   {
    "duration": 266,
    "start_time": "2022-06-04T20:47:28.058Z"
   },
   {
    "duration": 5,
    "start_time": "2022-06-04T20:47:28.329Z"
   },
   {
    "duration": 0,
    "start_time": "2022-06-04T20:47:28.336Z"
   },
   {
    "duration": 0,
    "start_time": "2022-06-04T20:47:28.338Z"
   },
   {
    "duration": 0,
    "start_time": "2022-06-04T20:47:28.339Z"
   },
   {
    "duration": 0,
    "start_time": "2022-06-04T20:47:28.341Z"
   },
   {
    "duration": 0,
    "start_time": "2022-06-04T20:47:28.342Z"
   },
   {
    "duration": 0,
    "start_time": "2022-06-04T20:47:28.344Z"
   },
   {
    "duration": 0,
    "start_time": "2022-06-04T20:47:28.345Z"
   },
   {
    "duration": 0,
    "start_time": "2022-06-04T20:47:28.346Z"
   },
   {
    "duration": 0,
    "start_time": "2022-06-04T20:47:28.347Z"
   },
   {
    "duration": 0,
    "start_time": "2022-06-04T20:47:28.348Z"
   },
   {
    "duration": 0,
    "start_time": "2022-06-04T20:47:28.349Z"
   },
   {
    "duration": 0,
    "start_time": "2022-06-04T20:47:28.350Z"
   },
   {
    "duration": 0,
    "start_time": "2022-06-04T20:47:28.351Z"
   },
   {
    "duration": 0,
    "start_time": "2022-06-04T20:47:28.352Z"
   },
   {
    "duration": 0,
    "start_time": "2022-06-04T20:47:28.353Z"
   },
   {
    "duration": 0,
    "start_time": "2022-06-04T20:47:28.355Z"
   },
   {
    "duration": 0,
    "start_time": "2022-06-04T20:47:28.356Z"
   },
   {
    "duration": 0,
    "start_time": "2022-06-04T20:47:28.357Z"
   },
   {
    "duration": 0,
    "start_time": "2022-06-04T20:47:28.358Z"
   },
   {
    "duration": 0,
    "start_time": "2022-06-04T20:47:28.359Z"
   },
   {
    "duration": 0,
    "start_time": "2022-06-04T20:47:28.360Z"
   },
   {
    "duration": 0,
    "start_time": "2022-06-04T20:47:28.361Z"
   },
   {
    "duration": 0,
    "start_time": "2022-06-04T20:47:28.362Z"
   },
   {
    "duration": 0,
    "start_time": "2022-06-04T20:47:28.363Z"
   },
   {
    "duration": 438,
    "start_time": "2022-06-04T20:47:51.124Z"
   },
   {
    "duration": 625,
    "start_time": "2022-06-04T20:48:13.255Z"
   },
   {
    "duration": 3,
    "start_time": "2022-06-04T20:48:29.606Z"
   },
   {
    "duration": 14,
    "start_time": "2022-06-04T20:48:50.676Z"
   },
   {
    "duration": 19,
    "start_time": "2022-06-04T20:48:55.194Z"
   },
   {
    "duration": 148,
    "start_time": "2022-06-04T20:49:26.504Z"
   },
   {
    "duration": 138,
    "start_time": "2022-06-04T21:07:34.787Z"
   },
   {
    "duration": 1254,
    "start_time": "2022-06-04T21:07:49.412Z"
   },
   {
    "duration": 76,
    "start_time": "2022-06-04T21:07:50.668Z"
   },
   {
    "duration": 14,
    "start_time": "2022-06-04T21:07:50.745Z"
   },
   {
    "duration": 43,
    "start_time": "2022-06-04T21:07:50.761Z"
   },
   {
    "duration": 44,
    "start_time": "2022-06-04T21:07:50.806Z"
   },
   {
    "duration": 83,
    "start_time": "2022-06-04T21:07:50.852Z"
   },
   {
    "duration": 6,
    "start_time": "2022-06-04T21:07:50.937Z"
   },
   {
    "duration": 228,
    "start_time": "2022-06-04T21:07:50.944Z"
   },
   {
    "duration": 7,
    "start_time": "2022-06-04T21:07:51.173Z"
   },
   {
    "duration": 99,
    "start_time": "2022-06-04T21:07:51.183Z"
   },
   {
    "duration": 19,
    "start_time": "2022-06-04T21:07:51.284Z"
   },
   {
    "duration": 3,
    "start_time": "2022-06-04T21:07:51.304Z"
   },
   {
    "duration": 21,
    "start_time": "2022-06-04T21:07:51.308Z"
   },
   {
    "duration": 257,
    "start_time": "2022-06-04T21:07:51.330Z"
   },
   {
    "duration": 3,
    "start_time": "2022-06-04T21:07:51.588Z"
   },
   {
    "duration": 5,
    "start_time": "2022-06-04T21:07:51.592Z"
   },
   {
    "duration": 33,
    "start_time": "2022-06-04T21:07:51.599Z"
   },
   {
    "duration": 111,
    "start_time": "2022-06-04T21:07:51.634Z"
   },
   {
    "duration": 0,
    "start_time": "2022-06-04T21:07:51.747Z"
   },
   {
    "duration": 0,
    "start_time": "2022-06-04T21:07:51.748Z"
   },
   {
    "duration": 0,
    "start_time": "2022-06-04T21:07:51.749Z"
   },
   {
    "duration": 0,
    "start_time": "2022-06-04T21:07:51.750Z"
   },
   {
    "duration": 0,
    "start_time": "2022-06-04T21:07:51.751Z"
   },
   {
    "duration": 0,
    "start_time": "2022-06-04T21:07:51.752Z"
   },
   {
    "duration": 0,
    "start_time": "2022-06-04T21:07:51.754Z"
   },
   {
    "duration": 0,
    "start_time": "2022-06-04T21:07:51.754Z"
   },
   {
    "duration": 0,
    "start_time": "2022-06-04T21:07:51.755Z"
   },
   {
    "duration": 0,
    "start_time": "2022-06-04T21:07:51.757Z"
   },
   {
    "duration": 0,
    "start_time": "2022-06-04T21:07:51.757Z"
   },
   {
    "duration": 0,
    "start_time": "2022-06-04T21:07:51.758Z"
   },
   {
    "duration": 0,
    "start_time": "2022-06-04T21:07:51.760Z"
   },
   {
    "duration": 0,
    "start_time": "2022-06-04T21:07:51.761Z"
   },
   {
    "duration": 0,
    "start_time": "2022-06-04T21:07:51.762Z"
   },
   {
    "duration": 0,
    "start_time": "2022-06-04T21:07:51.763Z"
   },
   {
    "duration": 0,
    "start_time": "2022-06-04T21:07:51.764Z"
   },
   {
    "duration": 0,
    "start_time": "2022-06-04T21:07:51.765Z"
   },
   {
    "duration": 0,
    "start_time": "2022-06-04T21:07:51.766Z"
   },
   {
    "duration": 0,
    "start_time": "2022-06-04T21:07:51.766Z"
   },
   {
    "duration": 0,
    "start_time": "2022-06-04T21:07:51.768Z"
   },
   {
    "duration": 1323,
    "start_time": "2022-06-04T21:08:44.581Z"
   },
   {
    "duration": 76,
    "start_time": "2022-06-04T21:08:45.906Z"
   },
   {
    "duration": 13,
    "start_time": "2022-06-04T21:08:45.984Z"
   },
   {
    "duration": 54,
    "start_time": "2022-06-04T21:08:45.999Z"
   },
   {
    "duration": 34,
    "start_time": "2022-06-04T21:08:46.054Z"
   },
   {
    "duration": 88,
    "start_time": "2022-06-04T21:08:46.090Z"
   },
   {
    "duration": 6,
    "start_time": "2022-06-04T21:08:46.180Z"
   },
   {
    "duration": 225,
    "start_time": "2022-06-04T21:08:46.188Z"
   },
   {
    "duration": 13,
    "start_time": "2022-06-04T21:08:46.415Z"
   },
   {
    "duration": 81,
    "start_time": "2022-06-04T21:08:46.431Z"
   },
   {
    "duration": 20,
    "start_time": "2022-06-04T21:08:46.528Z"
   },
   {
    "duration": 2,
    "start_time": "2022-06-04T21:08:46.550Z"
   },
   {
    "duration": 9,
    "start_time": "2022-06-04T21:08:46.553Z"
   },
   {
    "duration": 287,
    "start_time": "2022-06-04T21:08:46.564Z"
   },
   {
    "duration": 3,
    "start_time": "2022-06-04T21:08:46.852Z"
   },
   {
    "duration": 5,
    "start_time": "2022-06-04T21:08:46.856Z"
   },
   {
    "duration": 13,
    "start_time": "2022-06-04T21:08:46.862Z"
   },
   {
    "duration": 9397,
    "start_time": "2022-06-04T21:08:46.877Z"
   },
   {
    "duration": 14,
    "start_time": "2022-06-04T21:08:56.276Z"
   },
   {
    "duration": 12,
    "start_time": "2022-06-04T21:08:56.291Z"
   },
   {
    "duration": 170,
    "start_time": "2022-06-04T21:08:56.304Z"
   },
   {
    "duration": 66,
    "start_time": "2022-06-04T21:08:56.475Z"
   },
   {
    "duration": 18,
    "start_time": "2022-06-04T21:08:56.543Z"
   },
   {
    "duration": 14,
    "start_time": "2022-06-04T21:08:56.563Z"
   },
   {
    "duration": 55,
    "start_time": "2022-06-04T21:08:56.579Z"
   },
   {
    "duration": 2,
    "start_time": "2022-06-04T21:08:56.636Z"
   },
   {
    "duration": 7,
    "start_time": "2022-06-04T21:08:56.639Z"
   },
   {
    "duration": 4,
    "start_time": "2022-06-04T21:08:56.649Z"
   },
   {
    "duration": 1314,
    "start_time": "2022-06-04T21:08:56.654Z"
   },
   {
    "duration": 16,
    "start_time": "2022-06-04T21:08:57.970Z"
   },
   {
    "duration": 30,
    "start_time": "2022-06-04T21:08:57.988Z"
   },
   {
    "duration": 32,
    "start_time": "2022-06-04T21:08:58.021Z"
   },
   {
    "duration": 15,
    "start_time": "2022-06-04T21:08:58.054Z"
   },
   {
    "duration": 351,
    "start_time": "2022-06-04T21:08:58.071Z"
   },
   {
    "duration": 14,
    "start_time": "2022-06-04T21:08:58.424Z"
   },
   {
    "duration": 194,
    "start_time": "2022-06-04T21:08:58.440Z"
   },
   {
    "duration": 5,
    "start_time": "2022-06-04T21:08:58.636Z"
   },
   {
    "duration": 23,
    "start_time": "2022-06-04T21:08:58.642Z"
   },
   {
    "duration": 13,
    "start_time": "2022-06-04T21:08:58.667Z"
   },
   {
    "duration": 167,
    "start_time": "2022-06-04T21:09:31.229Z"
   },
   {
    "duration": 160,
    "start_time": "2022-06-04T21:12:35.975Z"
   },
   {
    "duration": 193,
    "start_time": "2022-06-04T21:12:49.005Z"
   },
   {
    "duration": 123,
    "start_time": "2022-06-04T21:13:23.129Z"
   },
   {
    "duration": 13,
    "start_time": "2022-06-04T21:14:09.377Z"
   },
   {
    "duration": 9,
    "start_time": "2022-06-04T21:16:45.286Z"
   },
   {
    "duration": 162,
    "start_time": "2022-06-04T21:16:48.359Z"
   },
   {
    "duration": 186,
    "start_time": "2022-06-04T21:16:51.690Z"
   },
   {
    "duration": 12,
    "start_time": "2022-06-04T21:17:49.555Z"
   },
   {
    "duration": 1167,
    "start_time": "2022-06-04T21:23:53.686Z"
   },
   {
    "duration": 76,
    "start_time": "2022-06-04T21:23:54.855Z"
   },
   {
    "duration": 13,
    "start_time": "2022-06-04T21:23:54.933Z"
   },
   {
    "duration": 45,
    "start_time": "2022-06-04T21:23:54.947Z"
   },
   {
    "duration": 47,
    "start_time": "2022-06-04T21:23:54.995Z"
   },
   {
    "duration": 88,
    "start_time": "2022-06-04T21:23:55.045Z"
   },
   {
    "duration": 7,
    "start_time": "2022-06-04T21:23:55.134Z"
   },
   {
    "duration": 233,
    "start_time": "2022-06-04T21:23:55.142Z"
   },
   {
    "duration": 7,
    "start_time": "2022-06-04T21:23:55.377Z"
   },
   {
    "duration": 94,
    "start_time": "2022-06-04T21:23:55.390Z"
   },
   {
    "duration": 20,
    "start_time": "2022-06-04T21:23:55.487Z"
   },
   {
    "duration": 3,
    "start_time": "2022-06-04T21:23:55.508Z"
   },
   {
    "duration": 2,
    "start_time": "2022-06-04T21:23:55.528Z"
   },
   {
    "duration": 256,
    "start_time": "2022-06-04T21:23:55.533Z"
   },
   {
    "duration": 2,
    "start_time": "2022-06-04T21:23:55.791Z"
   },
   {
    "duration": 11,
    "start_time": "2022-06-04T21:23:55.795Z"
   },
   {
    "duration": 17,
    "start_time": "2022-06-04T21:23:55.808Z"
   },
   {
    "duration": 9124,
    "start_time": "2022-06-04T21:23:55.826Z"
   },
   {
    "duration": 45584,
    "start_time": "2022-06-04T21:24:04.952Z"
   },
   {
    "duration": 13,
    "start_time": "2022-06-04T21:24:50.538Z"
   },
   {
    "duration": 52,
    "start_time": "2022-06-04T21:24:50.552Z"
   },
   {
    "duration": 10,
    "start_time": "2022-06-04T21:24:50.606Z"
   },
   {
    "duration": 157,
    "start_time": "2022-06-04T21:24:50.617Z"
   },
   {
    "duration": 59,
    "start_time": "2022-06-04T21:24:50.776Z"
   },
   {
    "duration": 16,
    "start_time": "2022-06-04T21:24:50.837Z"
   },
   {
    "duration": 18,
    "start_time": "2022-06-04T21:24:50.855Z"
   },
   {
    "duration": 33,
    "start_time": "2022-06-04T21:24:50.874Z"
   },
   {
    "duration": 5,
    "start_time": "2022-06-04T21:24:50.909Z"
   },
   {
    "duration": 3,
    "start_time": "2022-06-04T21:24:50.929Z"
   },
   {
    "duration": 8,
    "start_time": "2022-06-04T21:24:50.933Z"
   },
   {
    "duration": 1392,
    "start_time": "2022-06-04T21:24:50.942Z"
   },
   {
    "duration": 17,
    "start_time": "2022-06-04T21:24:52.336Z"
   },
   {
    "duration": 27,
    "start_time": "2022-06-04T21:24:52.355Z"
   },
   {
    "duration": 54,
    "start_time": "2022-06-04T21:24:52.383Z"
   },
   {
    "duration": 17,
    "start_time": "2022-06-04T21:24:52.438Z"
   },
   {
    "duration": 331,
    "start_time": "2022-06-04T21:24:52.456Z"
   },
   {
    "duration": 11,
    "start_time": "2022-06-04T21:24:52.789Z"
   },
   {
    "duration": 190,
    "start_time": "2022-06-04T21:24:52.802Z"
   },
   {
    "duration": 4,
    "start_time": "2022-06-04T21:24:52.993Z"
   },
   {
    "duration": 30,
    "start_time": "2022-06-04T21:24:52.999Z"
   },
   {
    "duration": 14,
    "start_time": "2022-06-04T21:24:53.033Z"
   },
   {
    "duration": 151,
    "start_time": "2022-06-04T21:26:05.746Z"
   },
   {
    "duration": 8850,
    "start_time": "2022-06-04T21:26:23.243Z"
   },
   {
    "duration": 10,
    "start_time": "2022-06-04T21:33:25.883Z"
   },
   {
    "duration": 7,
    "start_time": "2022-06-04T21:33:36.534Z"
   },
   {
    "duration": 1152,
    "start_time": "2022-06-04T21:33:56.388Z"
   },
   {
    "duration": 80,
    "start_time": "2022-06-04T21:33:57.542Z"
   },
   {
    "duration": 14,
    "start_time": "2022-06-04T21:33:57.624Z"
   },
   {
    "duration": 46,
    "start_time": "2022-06-04T21:33:57.640Z"
   },
   {
    "duration": 47,
    "start_time": "2022-06-04T21:33:57.689Z"
   },
   {
    "duration": 66,
    "start_time": "2022-06-04T21:33:57.737Z"
   },
   {
    "duration": 23,
    "start_time": "2022-06-04T21:33:57.805Z"
   },
   {
    "duration": 221,
    "start_time": "2022-06-04T21:33:57.830Z"
   },
   {
    "duration": 6,
    "start_time": "2022-06-04T21:33:58.053Z"
   },
   {
    "duration": 99,
    "start_time": "2022-06-04T21:33:58.061Z"
   },
   {
    "duration": 19,
    "start_time": "2022-06-04T21:33:58.162Z"
   },
   {
    "duration": 2,
    "start_time": "2022-06-04T21:33:58.182Z"
   },
   {
    "duration": 6,
    "start_time": "2022-06-04T21:33:58.185Z"
   },
   {
    "duration": 252,
    "start_time": "2022-06-04T21:33:58.194Z"
   },
   {
    "duration": 3,
    "start_time": "2022-06-04T21:33:58.448Z"
   },
   {
    "duration": 15,
    "start_time": "2022-06-04T21:33:58.453Z"
   },
   {
    "duration": 15,
    "start_time": "2022-06-04T21:33:58.469Z"
   },
   {
    "duration": 8680,
    "start_time": "2022-06-04T21:33:58.486Z"
   },
   {
    "duration": 46135,
    "start_time": "2022-06-04T21:34:07.168Z"
   },
   {
    "duration": 38,
    "start_time": "2022-06-04T21:34:53.339Z"
   },
   {
    "duration": 29,
    "start_time": "2022-06-04T21:34:53.378Z"
   },
   {
    "duration": 180,
    "start_time": "2022-06-04T21:34:53.409Z"
   },
   {
    "duration": 61,
    "start_time": "2022-06-04T21:34:53.590Z"
   },
   {
    "duration": 17,
    "start_time": "2022-06-04T21:34:53.653Z"
   },
   {
    "duration": 16,
    "start_time": "2022-06-04T21:34:53.672Z"
   },
   {
    "duration": 47,
    "start_time": "2022-06-04T21:34:53.690Z"
   },
   {
    "duration": 2,
    "start_time": "2022-06-04T21:34:53.739Z"
   },
   {
    "duration": 5,
    "start_time": "2022-06-04T21:34:53.742Z"
   },
   {
    "duration": 6,
    "start_time": "2022-06-04T21:34:53.748Z"
   },
   {
    "duration": 1351,
    "start_time": "2022-06-04T21:34:53.755Z"
   },
   {
    "duration": 17,
    "start_time": "2022-06-04T21:34:55.108Z"
   },
   {
    "duration": 51,
    "start_time": "2022-06-04T21:34:55.127Z"
   },
   {
    "duration": 35,
    "start_time": "2022-06-04T21:34:55.180Z"
   },
   {
    "duration": 18,
    "start_time": "2022-06-04T21:34:55.217Z"
   },
   {
    "duration": 327,
    "start_time": "2022-06-04T21:34:55.236Z"
   },
   {
    "duration": 11,
    "start_time": "2022-06-04T21:34:55.565Z"
   },
   {
    "duration": 180,
    "start_time": "2022-06-04T21:34:55.578Z"
   },
   {
    "duration": 4,
    "start_time": "2022-06-04T21:34:55.760Z"
   },
   {
    "duration": 21,
    "start_time": "2022-06-04T21:34:55.768Z"
   },
   {
    "duration": 13,
    "start_time": "2022-06-04T21:34:55.790Z"
   },
   {
    "duration": 6,
    "start_time": "2022-06-04T21:34:55.833Z"
   },
   {
    "duration": 19,
    "start_time": "2022-06-04T21:34:55.841Z"
   },
   {
    "duration": 7,
    "start_time": "2022-06-04T21:36:07.945Z"
   },
   {
    "duration": 7,
    "start_time": "2022-06-04T21:36:14.192Z"
   },
   {
    "duration": 69,
    "start_time": "2022-06-04T21:36:18.391Z"
   },
   {
    "duration": 2,
    "start_time": "2022-06-04T21:36:36.824Z"
   },
   {
    "duration": 66,
    "start_time": "2022-06-04T21:36:38.795Z"
   },
   {
    "duration": 1213,
    "start_time": "2022-06-04T21:36:50.151Z"
   },
   {
    "duration": 76,
    "start_time": "2022-06-04T21:36:51.366Z"
   },
   {
    "duration": 14,
    "start_time": "2022-06-04T21:36:51.444Z"
   },
   {
    "duration": 40,
    "start_time": "2022-06-04T21:36:51.460Z"
   },
   {
    "duration": 57,
    "start_time": "2022-06-04T21:36:51.503Z"
   },
   {
    "duration": 3,
    "start_time": "2022-06-04T21:36:51.562Z"
   },
   {
    "duration": 86,
    "start_time": "2022-06-04T21:36:51.566Z"
   },
   {
    "duration": 7,
    "start_time": "2022-06-04T21:36:51.654Z"
   },
   {
    "duration": 216,
    "start_time": "2022-06-04T21:36:51.663Z"
   },
   {
    "duration": 6,
    "start_time": "2022-06-04T21:36:51.881Z"
   },
   {
    "duration": 99,
    "start_time": "2022-06-04T21:36:51.889Z"
   },
   {
    "duration": 19,
    "start_time": "2022-06-04T21:36:51.990Z"
   },
   {
    "duration": 18,
    "start_time": "2022-06-04T21:36:52.010Z"
   },
   {
    "duration": 2,
    "start_time": "2022-06-04T21:36:52.032Z"
   },
   {
    "duration": 251,
    "start_time": "2022-06-04T21:36:52.036Z"
   },
   {
    "duration": 2,
    "start_time": "2022-06-04T21:36:52.289Z"
   },
   {
    "duration": 5,
    "start_time": "2022-06-04T21:36:52.293Z"
   },
   {
    "duration": 16,
    "start_time": "2022-06-04T21:36:52.300Z"
   },
   {
    "duration": 8790,
    "start_time": "2022-06-04T21:36:52.328Z"
   },
   {
    "duration": 1172,
    "start_time": "2022-06-04T21:37:28.565Z"
   },
   {
    "duration": 75,
    "start_time": "2022-06-04T21:37:29.739Z"
   },
   {
    "duration": 13,
    "start_time": "2022-06-04T21:37:29.816Z"
   },
   {
    "duration": 39,
    "start_time": "2022-06-04T21:37:29.831Z"
   },
   {
    "duration": 32,
    "start_time": "2022-06-04T21:37:29.871Z"
   },
   {
    "duration": 26,
    "start_time": "2022-06-04T21:37:29.905Z"
   },
   {
    "duration": 65,
    "start_time": "2022-06-04T21:37:29.933Z"
   },
   {
    "duration": 6,
    "start_time": "2022-06-04T21:37:29.999Z"
   },
   {
    "duration": 246,
    "start_time": "2022-06-04T21:37:30.006Z"
   },
   {
    "duration": 8,
    "start_time": "2022-06-04T21:37:30.255Z"
   },
   {
    "duration": 105,
    "start_time": "2022-06-04T21:37:30.265Z"
   },
   {
    "duration": 18,
    "start_time": "2022-06-04T21:37:30.372Z"
   },
   {
    "duration": 2,
    "start_time": "2022-06-04T21:37:30.392Z"
   },
   {
    "duration": 8,
    "start_time": "2022-06-04T21:37:30.395Z"
   },
   {
    "duration": 251,
    "start_time": "2022-06-04T21:37:30.404Z"
   },
   {
    "duration": 2,
    "start_time": "2022-06-04T21:37:30.657Z"
   },
   {
    "duration": 8,
    "start_time": "2022-06-04T21:37:30.660Z"
   },
   {
    "duration": 13,
    "start_time": "2022-06-04T21:37:30.670Z"
   },
   {
    "duration": 8697,
    "start_time": "2022-06-04T21:37:30.685Z"
   },
   {
    "duration": 44831,
    "start_time": "2022-06-04T21:37:39.384Z"
   },
   {
    "duration": 18,
    "start_time": "2022-06-04T21:38:24.216Z"
   },
   {
    "duration": 6,
    "start_time": "2022-06-04T21:38:24.236Z"
   },
   {
    "duration": 16,
    "start_time": "2022-06-04T21:38:24.244Z"
   },
   {
    "duration": 13,
    "start_time": "2022-06-04T21:38:24.262Z"
   },
   {
    "duration": 238,
    "start_time": "2022-06-04T21:38:24.277Z"
   },
   {
    "duration": 51,
    "start_time": "2022-06-04T21:38:24.517Z"
   },
   {
    "duration": 26,
    "start_time": "2022-06-04T21:38:24.570Z"
   },
   {
    "duration": 37,
    "start_time": "2022-06-04T21:38:24.601Z"
   },
   {
    "duration": 25,
    "start_time": "2022-06-04T21:38:24.640Z"
   },
   {
    "duration": 3,
    "start_time": "2022-06-04T21:38:24.667Z"
   },
   {
    "duration": 5,
    "start_time": "2022-06-04T21:38:24.672Z"
   },
   {
    "duration": 5,
    "start_time": "2022-06-04T21:38:24.678Z"
   },
   {
    "duration": 1193,
    "start_time": "2022-06-04T21:38:24.685Z"
   },
   {
    "duration": 16,
    "start_time": "2022-06-04T21:38:25.880Z"
   },
   {
    "duration": 27,
    "start_time": "2022-06-04T21:38:25.897Z"
   },
   {
    "duration": 29,
    "start_time": "2022-06-04T21:38:25.926Z"
   },
   {
    "duration": 15,
    "start_time": "2022-06-04T21:38:25.956Z"
   },
   {
    "duration": 326,
    "start_time": "2022-06-04T21:38:25.973Z"
   },
   {
    "duration": 11,
    "start_time": "2022-06-04T21:38:26.301Z"
   },
   {
    "duration": 184,
    "start_time": "2022-06-04T21:38:26.313Z"
   },
   {
    "duration": 4,
    "start_time": "2022-06-04T21:38:26.499Z"
   },
   {
    "duration": 29,
    "start_time": "2022-06-04T21:38:26.505Z"
   },
   {
    "duration": 12,
    "start_time": "2022-06-04T21:38:26.536Z"
   },
   {
    "duration": 34,
    "start_time": "2022-06-04T21:41:42.277Z"
   },
   {
    "duration": 29,
    "start_time": "2022-06-04T21:41:57.653Z"
   },
   {
    "duration": 4,
    "start_time": "2022-06-04T21:42:05.642Z"
   },
   {
    "duration": 14,
    "start_time": "2022-06-04T21:42:41.717Z"
   },
   {
    "duration": 24,
    "start_time": "2022-06-04T21:42:48.857Z"
   },
   {
    "duration": 4,
    "start_time": "2022-06-04T21:43:21.340Z"
   },
   {
    "duration": 15,
    "start_time": "2022-06-04T21:43:25.394Z"
   },
   {
    "duration": 128,
    "start_time": "2022-06-04T21:43:52.557Z"
   },
   {
    "duration": 17,
    "start_time": "2022-06-04T21:43:57.910Z"
   },
   {
    "duration": 28,
    "start_time": "2022-06-04T21:44:07.930Z"
   },
   {
    "duration": 28,
    "start_time": "2022-06-04T21:44:22.160Z"
   },
   {
    "duration": 23,
    "start_time": "2022-06-04T21:45:41.559Z"
   },
   {
    "duration": 67,
    "start_time": "2022-06-04T21:45:46.151Z"
   },
   {
    "duration": 51,
    "start_time": "2022-06-04T21:46:34.177Z"
   },
   {
    "duration": 10,
    "start_time": "2022-06-04T21:46:46.901Z"
   },
   {
    "duration": 20,
    "start_time": "2022-06-04T21:46:52.295Z"
   },
   {
    "duration": 11,
    "start_time": "2022-06-04T21:47:08.008Z"
   },
   {
    "duration": 18,
    "start_time": "2022-06-04T21:49:04.726Z"
   },
   {
    "duration": 21,
    "start_time": "2022-06-04T21:49:18.531Z"
   },
   {
    "duration": 1192,
    "start_time": "2022-06-04T21:49:32.844Z"
   },
   {
    "duration": 74,
    "start_time": "2022-06-04T21:49:34.038Z"
   },
   {
    "duration": 13,
    "start_time": "2022-06-04T21:49:34.114Z"
   },
   {
    "duration": 45,
    "start_time": "2022-06-04T21:49:34.129Z"
   },
   {
    "duration": 53,
    "start_time": "2022-06-04T21:49:34.176Z"
   },
   {
    "duration": 11,
    "start_time": "2022-06-04T21:49:34.231Z"
   },
   {
    "duration": 89,
    "start_time": "2022-06-04T21:49:34.243Z"
   },
   {
    "duration": 7,
    "start_time": "2022-06-04T21:49:34.334Z"
   },
   {
    "duration": 247,
    "start_time": "2022-06-04T21:49:34.344Z"
   },
   {
    "duration": 7,
    "start_time": "2022-06-04T21:49:34.594Z"
   },
   {
    "duration": 92,
    "start_time": "2022-06-04T21:49:34.602Z"
   },
   {
    "duration": 36,
    "start_time": "2022-06-04T21:49:34.696Z"
   },
   {
    "duration": 3,
    "start_time": "2022-06-04T21:49:34.733Z"
   },
   {
    "duration": 5,
    "start_time": "2022-06-04T21:49:34.737Z"
   },
   {
    "duration": 251,
    "start_time": "2022-06-04T21:49:34.744Z"
   },
   {
    "duration": 3,
    "start_time": "2022-06-04T21:49:34.997Z"
   },
   {
    "duration": 11,
    "start_time": "2022-06-04T21:49:35.002Z"
   },
   {
    "duration": 22,
    "start_time": "2022-06-04T21:49:35.015Z"
   },
   {
    "duration": 121,
    "start_time": "2022-06-04T21:49:35.039Z"
   },
   {
    "duration": 0,
    "start_time": "2022-06-04T21:49:35.163Z"
   },
   {
    "duration": 0,
    "start_time": "2022-06-04T21:49:35.164Z"
   },
   {
    "duration": 0,
    "start_time": "2022-06-04T21:49:35.165Z"
   },
   {
    "duration": 0,
    "start_time": "2022-06-04T21:49:35.166Z"
   },
   {
    "duration": 0,
    "start_time": "2022-06-04T21:49:35.168Z"
   },
   {
    "duration": 0,
    "start_time": "2022-06-04T21:49:35.169Z"
   },
   {
    "duration": 0,
    "start_time": "2022-06-04T21:49:35.171Z"
   },
   {
    "duration": 0,
    "start_time": "2022-06-04T21:49:35.172Z"
   },
   {
    "duration": 0,
    "start_time": "2022-06-04T21:49:35.173Z"
   },
   {
    "duration": 0,
    "start_time": "2022-06-04T21:49:35.175Z"
   },
   {
    "duration": 0,
    "start_time": "2022-06-04T21:49:35.176Z"
   },
   {
    "duration": 0,
    "start_time": "2022-06-04T21:49:35.178Z"
   },
   {
    "duration": 0,
    "start_time": "2022-06-04T21:49:35.179Z"
   },
   {
    "duration": 0,
    "start_time": "2022-06-04T21:49:35.180Z"
   },
   {
    "duration": 0,
    "start_time": "2022-06-04T21:49:35.182Z"
   },
   {
    "duration": 0,
    "start_time": "2022-06-04T21:49:35.183Z"
   },
   {
    "duration": 0,
    "start_time": "2022-06-04T21:49:35.185Z"
   },
   {
    "duration": 0,
    "start_time": "2022-06-04T21:49:35.187Z"
   },
   {
    "duration": 0,
    "start_time": "2022-06-04T21:49:35.229Z"
   },
   {
    "duration": 0,
    "start_time": "2022-06-04T21:49:35.231Z"
   },
   {
    "duration": 0,
    "start_time": "2022-06-04T21:49:35.233Z"
   },
   {
    "duration": 0,
    "start_time": "2022-06-04T21:49:35.234Z"
   },
   {
    "duration": 0,
    "start_time": "2022-06-04T21:49:35.236Z"
   },
   {
    "duration": 0,
    "start_time": "2022-06-04T21:49:35.237Z"
   },
   {
    "duration": 4,
    "start_time": "2022-06-04T21:50:07.012Z"
   },
   {
    "duration": 17,
    "start_time": "2022-06-04T21:50:16.261Z"
   },
   {
    "duration": 16,
    "start_time": "2022-06-04T21:50:41.364Z"
   },
   {
    "duration": 17,
    "start_time": "2022-06-04T21:50:50.203Z"
   },
   {
    "duration": 23,
    "start_time": "2022-06-04T21:51:09.400Z"
   },
   {
    "duration": 16,
    "start_time": "2022-06-04T21:51:19.310Z"
   },
   {
    "duration": 10,
    "start_time": "2022-06-04T21:52:51.381Z"
   },
   {
    "duration": 10,
    "start_time": "2022-06-04T21:53:22.409Z"
   },
   {
    "duration": 16,
    "start_time": "2022-06-04T21:53:32.781Z"
   },
   {
    "duration": 17,
    "start_time": "2022-06-04T21:53:41.554Z"
   },
   {
    "duration": 17,
    "start_time": "2022-06-04T21:54:06.701Z"
   },
   {
    "duration": 136,
    "start_time": "2022-06-04T21:54:42.220Z"
   },
   {
    "duration": 138,
    "start_time": "2022-06-04T21:54:51.450Z"
   },
   {
    "duration": 1198,
    "start_time": "2022-06-04T21:55:44.787Z"
   },
   {
    "duration": 75,
    "start_time": "2022-06-04T21:55:45.987Z"
   },
   {
    "duration": 13,
    "start_time": "2022-06-04T21:55:46.063Z"
   },
   {
    "duration": 56,
    "start_time": "2022-06-04T21:55:46.077Z"
   },
   {
    "duration": 52,
    "start_time": "2022-06-04T21:55:46.136Z"
   },
   {
    "duration": 11,
    "start_time": "2022-06-04T21:55:46.190Z"
   },
   {
    "duration": 91,
    "start_time": "2022-06-04T21:55:46.202Z"
   },
   {
    "duration": 6,
    "start_time": "2022-06-04T21:55:46.295Z"
   },
   {
    "duration": 239,
    "start_time": "2022-06-04T21:55:46.302Z"
   },
   {
    "duration": 7,
    "start_time": "2022-06-04T21:55:46.542Z"
   },
   {
    "duration": 109,
    "start_time": "2022-06-04T21:55:46.551Z"
   },
   {
    "duration": 20,
    "start_time": "2022-06-04T21:55:46.662Z"
   },
   {
    "duration": 2,
    "start_time": "2022-06-04T21:55:46.683Z"
   },
   {
    "duration": 8,
    "start_time": "2022-06-04T21:55:46.688Z"
   },
   {
    "duration": 251,
    "start_time": "2022-06-04T21:55:46.697Z"
   },
   {
    "duration": 2,
    "start_time": "2022-06-04T21:55:46.949Z"
   },
   {
    "duration": 6,
    "start_time": "2022-06-04T21:55:46.952Z"
   },
   {
    "duration": 20,
    "start_time": "2022-06-04T21:55:46.959Z"
   },
   {
    "duration": 154,
    "start_time": "2022-06-04T21:55:46.981Z"
   },
   {
    "duration": 10667,
    "start_time": "2022-06-04T21:55:47.137Z"
   },
   {
    "duration": 12,
    "start_time": "2022-06-04T21:55:57.806Z"
   },
   {
    "duration": 5,
    "start_time": "2022-06-04T21:55:57.829Z"
   },
   {
    "duration": 18,
    "start_time": "2022-06-04T21:55:57.836Z"
   },
   {
    "duration": 10,
    "start_time": "2022-06-04T21:55:57.856Z"
   },
   {
    "duration": 175,
    "start_time": "2022-06-04T21:55:57.867Z"
   },
   {
    "duration": 136,
    "start_time": "2022-06-04T21:55:58.044Z"
   },
   {
    "duration": 18,
    "start_time": "2022-06-04T21:55:58.181Z"
   },
   {
    "duration": 30,
    "start_time": "2022-06-04T21:55:58.201Z"
   },
   {
    "duration": 25,
    "start_time": "2022-06-04T21:55:58.232Z"
   },
   {
    "duration": 3,
    "start_time": "2022-06-04T21:55:58.258Z"
   },
   {
    "duration": 4,
    "start_time": "2022-06-04T21:55:58.262Z"
   },
   {
    "duration": 6,
    "start_time": "2022-06-04T21:55:58.268Z"
   },
   {
    "duration": 1201,
    "start_time": "2022-06-04T21:55:58.276Z"
   },
   {
    "duration": 15,
    "start_time": "2022-06-04T21:55:59.478Z"
   },
   {
    "duration": 30,
    "start_time": "2022-06-04T21:55:59.494Z"
   },
   {
    "duration": 28,
    "start_time": "2022-06-04T21:55:59.525Z"
   },
   {
    "duration": 14,
    "start_time": "2022-06-04T21:55:59.554Z"
   },
   {
    "duration": 325,
    "start_time": "2022-06-04T21:55:59.570Z"
   },
   {
    "duration": 10,
    "start_time": "2022-06-04T21:55:59.896Z"
   },
   {
    "duration": 169,
    "start_time": "2022-06-04T21:55:59.907Z"
   },
   {
    "duration": 4,
    "start_time": "2022-06-04T21:56:00.080Z"
   },
   {
    "duration": 21,
    "start_time": "2022-06-04T21:56:00.086Z"
   },
   {
    "duration": 32,
    "start_time": "2022-06-04T21:56:00.109Z"
   },
   {
    "duration": 137,
    "start_time": "2022-06-04T21:57:11.506Z"
   },
   {
    "duration": 45,
    "start_time": "2022-06-04T21:57:16.627Z"
   },
   {
    "duration": 156,
    "start_time": "2022-06-04T21:57:20.418Z"
   },
   {
    "duration": 149,
    "start_time": "2022-06-04T21:57:25.086Z"
   },
   {
    "duration": 151,
    "start_time": "2022-06-04T21:57:30.952Z"
   },
   {
    "duration": 69,
    "start_time": "2022-06-05T07:35:53.617Z"
   },
   {
    "duration": 1512,
    "start_time": "2022-06-05T07:35:59.959Z"
   },
   {
    "duration": 141,
    "start_time": "2022-06-05T07:36:01.473Z"
   },
   {
    "duration": 16,
    "start_time": "2022-06-05T07:36:01.616Z"
   },
   {
    "duration": 51,
    "start_time": "2022-06-05T07:36:01.634Z"
   },
   {
    "duration": 52,
    "start_time": "2022-06-05T07:36:01.689Z"
   },
   {
    "duration": 12,
    "start_time": "2022-06-05T07:36:01.743Z"
   },
   {
    "duration": 116,
    "start_time": "2022-06-05T07:36:01.757Z"
   },
   {
    "duration": 20,
    "start_time": "2022-06-05T07:36:01.876Z"
   },
   {
    "duration": 258,
    "start_time": "2022-06-05T07:36:01.897Z"
   },
   {
    "duration": 7,
    "start_time": "2022-06-05T07:36:02.158Z"
   },
   {
    "duration": 126,
    "start_time": "2022-06-05T07:36:02.166Z"
   },
   {
    "duration": 21,
    "start_time": "2022-06-05T07:36:02.294Z"
   },
   {
    "duration": 2,
    "start_time": "2022-06-05T07:36:02.317Z"
   },
   {
    "duration": 6,
    "start_time": "2022-06-05T07:36:02.320Z"
   },
   {
    "duration": 311,
    "start_time": "2022-06-05T07:36:02.327Z"
   },
   {
    "duration": 3,
    "start_time": "2022-06-05T07:36:02.640Z"
   },
   {
    "duration": 8,
    "start_time": "2022-06-05T07:36:02.645Z"
   },
   {
    "duration": 19,
    "start_time": "2022-06-05T07:36:02.655Z"
   },
   {
    "duration": 190,
    "start_time": "2022-06-05T07:36:02.690Z"
   },
   {
    "duration": 10725,
    "start_time": "2022-06-05T07:36:02.883Z"
   },
   {
    "duration": 12,
    "start_time": "2022-06-05T07:36:13.610Z"
   },
   {
    "duration": 11,
    "start_time": "2022-06-05T07:36:13.624Z"
   },
   {
    "duration": 237,
    "start_time": "2022-06-05T07:36:13.637Z"
   },
   {
    "duration": 163,
    "start_time": "2022-06-05T07:36:13.876Z"
   },
   {
    "duration": 21,
    "start_time": "2022-06-05T07:36:14.041Z"
   },
   {
    "duration": 34,
    "start_time": "2022-06-05T07:36:14.064Z"
   },
   {
    "duration": 30,
    "start_time": "2022-06-05T07:36:14.100Z"
   },
   {
    "duration": 3,
    "start_time": "2022-06-05T07:36:14.134Z"
   },
   {
    "duration": 10,
    "start_time": "2022-06-05T07:36:14.139Z"
   },
   {
    "duration": 19,
    "start_time": "2022-06-05T07:36:14.151Z"
   },
   {
    "duration": 2034,
    "start_time": "2022-06-05T07:36:14.172Z"
   },
   {
    "duration": 18,
    "start_time": "2022-06-05T07:36:16.209Z"
   },
   {
    "duration": 31,
    "start_time": "2022-06-05T07:36:16.229Z"
   },
   {
    "duration": 59,
    "start_time": "2022-06-05T07:36:16.262Z"
   },
   {
    "duration": 18,
    "start_time": "2022-06-05T07:36:16.322Z"
   },
   {
    "duration": 411,
    "start_time": "2022-06-05T07:36:16.341Z"
   },
   {
    "duration": 12,
    "start_time": "2022-06-05T07:36:16.754Z"
   },
   {
    "duration": 221,
    "start_time": "2022-06-05T07:36:16.768Z"
   },
   {
    "duration": 5,
    "start_time": "2022-06-05T07:36:16.991Z"
   },
   {
    "duration": 21,
    "start_time": "2022-06-05T07:36:16.997Z"
   },
   {
    "duration": 15,
    "start_time": "2022-06-05T07:36:17.019Z"
   },
   {
    "duration": 46,
    "start_time": "2022-06-05T07:37:34.152Z"
   },
   {
    "duration": 28,
    "start_time": "2022-06-05T07:37:43.239Z"
   },
   {
    "duration": 175,
    "start_time": "2022-06-05T07:37:51.329Z"
   },
   {
    "duration": 1350,
    "start_time": "2022-06-05T07:38:20.247Z"
   },
   {
    "duration": 85,
    "start_time": "2022-06-05T07:38:21.599Z"
   },
   {
    "duration": 14,
    "start_time": "2022-06-05T07:38:21.686Z"
   },
   {
    "duration": 53,
    "start_time": "2022-06-05T07:38:21.703Z"
   },
   {
    "duration": 83,
    "start_time": "2022-06-05T07:38:21.758Z"
   },
   {
    "duration": 14,
    "start_time": "2022-06-05T07:38:21.843Z"
   },
   {
    "duration": 135,
    "start_time": "2022-06-05T07:38:21.859Z"
   },
   {
    "duration": 9,
    "start_time": "2022-06-05T07:38:21.996Z"
   },
   {
    "duration": 266,
    "start_time": "2022-06-05T07:38:22.007Z"
   },
   {
    "duration": 19,
    "start_time": "2022-06-05T07:38:22.277Z"
   },
   {
    "duration": 120,
    "start_time": "2022-06-05T07:38:22.298Z"
   },
   {
    "duration": 23,
    "start_time": "2022-06-05T07:38:22.419Z"
   },
   {
    "duration": 2,
    "start_time": "2022-06-05T07:38:22.444Z"
   },
   {
    "duration": 9,
    "start_time": "2022-06-05T07:38:22.448Z"
   },
   {
    "duration": 368,
    "start_time": "2022-06-05T07:38:22.459Z"
   },
   {
    "duration": 3,
    "start_time": "2022-06-05T07:38:22.829Z"
   },
   {
    "duration": 4,
    "start_time": "2022-06-05T07:38:22.834Z"
   },
   {
    "duration": 16,
    "start_time": "2022-06-05T07:38:22.840Z"
   },
   {
    "duration": 214,
    "start_time": "2022-06-05T07:38:22.858Z"
   },
   {
    "duration": 11503,
    "start_time": "2022-06-05T07:38:23.074Z"
   },
   {
    "duration": 20,
    "start_time": "2022-06-05T07:38:34.579Z"
   },
   {
    "duration": 11,
    "start_time": "2022-06-05T07:38:34.601Z"
   },
   {
    "duration": 237,
    "start_time": "2022-06-05T07:38:34.613Z"
   },
   {
    "duration": 161,
    "start_time": "2022-06-05T07:38:34.852Z"
   },
   {
    "duration": 31,
    "start_time": "2022-06-05T07:38:35.015Z"
   },
   {
    "duration": 42,
    "start_time": "2022-06-05T07:38:35.048Z"
   },
   {
    "duration": 28,
    "start_time": "2022-06-05T07:38:35.092Z"
   },
   {
    "duration": 3,
    "start_time": "2022-06-05T07:38:35.123Z"
   },
   {
    "duration": 23,
    "start_time": "2022-06-05T07:38:35.129Z"
   },
   {
    "duration": 14,
    "start_time": "2022-06-05T07:38:35.154Z"
   },
   {
    "duration": 1281,
    "start_time": "2022-06-05T07:38:35.169Z"
   },
   {
    "duration": 19,
    "start_time": "2022-06-05T07:38:36.452Z"
   },
   {
    "duration": 38,
    "start_time": "2022-06-05T07:38:36.473Z"
   },
   {
    "duration": 36,
    "start_time": "2022-06-05T07:38:36.512Z"
   },
   {
    "duration": 19,
    "start_time": "2022-06-05T07:38:36.549Z"
   },
   {
    "duration": 475,
    "start_time": "2022-06-05T07:38:36.570Z"
   },
   {
    "duration": 14,
    "start_time": "2022-06-05T07:38:37.048Z"
   },
   {
    "duration": 270,
    "start_time": "2022-06-05T07:38:37.063Z"
   },
   {
    "duration": 6,
    "start_time": "2022-06-05T07:38:37.335Z"
   },
   {
    "duration": 49,
    "start_time": "2022-06-05T07:38:37.344Z"
   },
   {
    "duration": 36,
    "start_time": "2022-06-05T07:38:37.395Z"
   },
   {
    "duration": 5,
    "start_time": "2022-06-05T07:39:16.695Z"
   },
   {
    "duration": 18,
    "start_time": "2022-06-05T07:39:31.096Z"
   },
   {
    "duration": 170,
    "start_time": "2022-06-05T07:40:00.795Z"
   },
   {
    "duration": 6,
    "start_time": "2022-06-05T07:40:10.314Z"
   },
   {
    "duration": 5,
    "start_time": "2022-06-05T07:40:23.878Z"
   },
   {
    "duration": 747,
    "start_time": "2022-06-05T07:42:00.427Z"
   },
   {
    "duration": 172,
    "start_time": "2022-06-05T07:43:52.209Z"
   },
   {
    "duration": 662,
    "start_time": "2022-06-05T07:44:02.638Z"
   },
   {
    "duration": 178,
    "start_time": "2022-06-05T08:31:55.316Z"
   },
   {
    "duration": 4,
    "start_time": "2022-06-05T08:35:28.396Z"
   },
   {
    "duration": 44,
    "start_time": "2022-06-05T08:36:49.485Z"
   },
   {
    "duration": 239,
    "start_time": "2022-06-05T08:37:03.247Z"
   },
   {
    "duration": 112,
    "start_time": "2022-06-05T08:37:08.616Z"
   },
   {
    "duration": 152,
    "start_time": "2022-06-05T08:37:15.886Z"
   },
   {
    "duration": 65,
    "start_time": "2022-06-05T08:39:35.393Z"
   },
   {
    "duration": 17,
    "start_time": "2022-06-05T08:44:08.834Z"
   },
   {
    "duration": 17,
    "start_time": "2022-06-05T08:44:41.692Z"
   },
   {
    "duration": 18,
    "start_time": "2022-06-05T08:44:45.960Z"
   },
   {
    "duration": 16,
    "start_time": "2022-06-05T08:45:00.288Z"
   },
   {
    "duration": 51,
    "start_time": "2022-06-05T08:46:53.535Z"
   },
   {
    "duration": 62,
    "start_time": "2022-06-05T08:47:12.985Z"
   },
   {
    "duration": 70,
    "start_time": "2022-06-05T08:48:19.493Z"
   },
   {
    "duration": 34,
    "start_time": "2022-06-05T08:59:11.392Z"
   },
   {
    "duration": 44,
    "start_time": "2022-06-05T09:01:34.559Z"
   },
   {
    "duration": 46,
    "start_time": "2022-06-05T09:01:50.961Z"
   },
   {
    "duration": 30,
    "start_time": "2022-06-05T09:02:14.911Z"
   },
   {
    "duration": 15,
    "start_time": "2022-06-05T09:02:44.343Z"
   },
   {
    "duration": 18603,
    "start_time": "2022-06-05T09:03:32.114Z"
   },
   {
    "duration": 49,
    "start_time": "2022-06-05T09:05:10.023Z"
   },
   {
    "duration": 60,
    "start_time": "2022-06-05T09:05:13.889Z"
   },
   {
    "duration": 1389,
    "start_time": "2022-06-05T09:05:44.721Z"
   },
   {
    "duration": 91,
    "start_time": "2022-06-05T09:05:46.113Z"
   },
   {
    "duration": 23,
    "start_time": "2022-06-05T09:05:46.206Z"
   },
   {
    "duration": 67,
    "start_time": "2022-06-05T09:05:46.232Z"
   },
   {
    "duration": 69,
    "start_time": "2022-06-05T09:05:46.301Z"
   },
   {
    "duration": 32,
    "start_time": "2022-06-05T09:05:46.372Z"
   },
   {
    "duration": 96,
    "start_time": "2022-06-05T09:05:46.415Z"
   },
   {
    "duration": 9,
    "start_time": "2022-06-05T09:05:46.513Z"
   },
   {
    "duration": 275,
    "start_time": "2022-06-05T09:05:46.524Z"
   },
   {
    "duration": 17,
    "start_time": "2022-06-05T09:05:46.802Z"
   },
   {
    "duration": 127,
    "start_time": "2022-06-05T09:05:46.821Z"
   },
   {
    "duration": 25,
    "start_time": "2022-06-05T09:05:46.950Z"
   },
   {
    "duration": 16,
    "start_time": "2022-06-05T09:05:46.994Z"
   },
   {
    "duration": 16,
    "start_time": "2022-06-05T09:05:47.012Z"
   },
   {
    "duration": 340,
    "start_time": "2022-06-05T09:05:47.030Z"
   },
   {
    "duration": 3,
    "start_time": "2022-06-05T09:05:47.373Z"
   },
   {
    "duration": 14,
    "start_time": "2022-06-05T09:05:47.378Z"
   },
   {
    "duration": 34,
    "start_time": "2022-06-05T09:05:47.398Z"
   },
   {
    "duration": 200,
    "start_time": "2022-06-05T09:05:47.434Z"
   },
   {
    "duration": 809,
    "start_time": "2022-06-05T09:05:47.636Z"
   },
   {
    "duration": 16,
    "start_time": "2022-06-05T09:05:48.447Z"
   },
   {
    "duration": 43,
    "start_time": "2022-06-05T09:05:48.467Z"
   },
   {
    "duration": 262,
    "start_time": "2022-06-05T09:05:48.517Z"
   },
   {
    "duration": 77,
    "start_time": "2022-06-05T09:05:48.781Z"
   },
   {
    "duration": 24047,
    "start_time": "2022-06-05T09:05:48.859Z"
   },
   {
    "duration": 15,
    "start_time": "2022-06-05T09:06:12.908Z"
   },
   {
    "duration": 26,
    "start_time": "2022-06-05T09:06:12.925Z"
   },
   {
    "duration": 47,
    "start_time": "2022-06-05T09:06:12.956Z"
   },
   {
    "duration": 5,
    "start_time": "2022-06-05T09:06:13.009Z"
   },
   {
    "duration": 7,
    "start_time": "2022-06-05T09:06:13.015Z"
   },
   {
    "duration": 5,
    "start_time": "2022-06-05T09:06:13.024Z"
   },
   {
    "duration": 1125,
    "start_time": "2022-06-05T09:06:13.030Z"
   },
   {
    "duration": 24,
    "start_time": "2022-06-05T09:06:14.157Z"
   },
   {
    "duration": 38,
    "start_time": "2022-06-05T09:06:14.183Z"
   },
   {
    "duration": 23,
    "start_time": "2022-06-05T09:06:14.223Z"
   },
   {
    "duration": 18,
    "start_time": "2022-06-05T09:06:14.248Z"
   },
   {
    "duration": 171,
    "start_time": "2022-06-05T09:06:14.272Z"
   },
   {
    "duration": 11,
    "start_time": "2022-06-05T09:06:14.445Z"
   },
   {
    "duration": 262,
    "start_time": "2022-06-05T09:06:14.457Z"
   },
   {
    "duration": 8,
    "start_time": "2022-06-05T09:06:14.723Z"
   },
   {
    "duration": 24,
    "start_time": "2022-06-05T09:06:14.733Z"
   },
   {
    "duration": 31,
    "start_time": "2022-06-05T09:06:14.760Z"
   },
   {
    "duration": 42,
    "start_time": "2022-06-05T09:18:55.432Z"
   },
   {
    "duration": 141,
    "start_time": "2022-06-05T09:19:00.315Z"
   },
   {
    "duration": 10,
    "start_time": "2022-06-05T09:20:44.919Z"
   },
   {
    "duration": 85,
    "start_time": "2022-06-05T09:20:54.637Z"
   },
   {
    "duration": 11,
    "start_time": "2022-06-05T09:21:21.964Z"
   },
   {
    "duration": 17,
    "start_time": "2022-06-05T09:21:26.439Z"
   },
   {
    "duration": 14,
    "start_time": "2022-06-05T09:21:52.151Z"
   },
   {
    "duration": 22,
    "start_time": "2022-06-05T09:23:48.987Z"
   },
   {
    "duration": 35,
    "start_time": "2022-06-05T09:23:52.689Z"
   },
   {
    "duration": 17,
    "start_time": "2022-06-05T09:25:37.842Z"
   },
   {
    "duration": 73,
    "start_time": "2022-06-05T09:25:43.488Z"
   },
   {
    "duration": 21,
    "start_time": "2022-06-05T09:29:42.920Z"
   },
   {
    "duration": 1481,
    "start_time": "2022-06-05T09:29:50.887Z"
   },
   {
    "duration": 108,
    "start_time": "2022-06-05T09:29:52.370Z"
   },
   {
    "duration": 21,
    "start_time": "2022-06-05T09:29:52.480Z"
   },
   {
    "duration": 74,
    "start_time": "2022-06-05T09:29:52.503Z"
   },
   {
    "duration": 71,
    "start_time": "2022-06-05T09:29:52.580Z"
   },
   {
    "duration": 13,
    "start_time": "2022-06-05T09:29:52.653Z"
   },
   {
    "duration": 114,
    "start_time": "2022-06-05T09:29:52.667Z"
   },
   {
    "duration": 15,
    "start_time": "2022-06-05T09:29:52.783Z"
   },
   {
    "duration": 274,
    "start_time": "2022-06-05T09:29:52.799Z"
   },
   {
    "duration": 22,
    "start_time": "2022-06-05T09:29:53.075Z"
   },
   {
    "duration": 130,
    "start_time": "2022-06-05T09:29:53.103Z"
   },
   {
    "duration": 23,
    "start_time": "2022-06-05T09:29:53.235Z"
   },
   {
    "duration": 3,
    "start_time": "2022-06-05T09:29:53.260Z"
   },
   {
    "duration": 3,
    "start_time": "2022-06-05T09:29:53.266Z"
   },
   {
    "duration": 364,
    "start_time": "2022-06-05T09:29:53.271Z"
   },
   {
    "duration": 2,
    "start_time": "2022-06-05T09:29:53.637Z"
   },
   {
    "duration": 11,
    "start_time": "2022-06-05T09:29:53.641Z"
   },
   {
    "duration": 14,
    "start_time": "2022-06-05T09:29:53.654Z"
   },
   {
    "duration": 208,
    "start_time": "2022-06-05T09:29:53.670Z"
   },
   {
    "duration": 903,
    "start_time": "2022-06-05T09:29:53.880Z"
   },
   {
    "duration": 28,
    "start_time": "2022-06-05T09:29:54.785Z"
   },
   {
    "duration": 47,
    "start_time": "2022-06-05T09:29:54.815Z"
   },
   {
    "duration": 224,
    "start_time": "2022-06-05T09:29:54.864Z"
   },
   {
    "duration": 83,
    "start_time": "2022-06-05T09:29:55.090Z"
   },
   {
    "duration": 53,
    "start_time": "2022-06-05T09:29:55.174Z"
   },
   {
    "duration": 14,
    "start_time": "2022-06-05T09:29:55.230Z"
   },
   {
    "duration": 23,
    "start_time": "2022-06-05T09:29:55.246Z"
   },
   {
    "duration": 39,
    "start_time": "2022-06-05T09:29:55.271Z"
   },
   {
    "duration": 13,
    "start_time": "2022-06-05T09:29:55.312Z"
   },
   {
    "duration": 7,
    "start_time": "2022-06-05T09:29:55.327Z"
   },
   {
    "duration": 6,
    "start_time": "2022-06-05T09:29:55.336Z"
   },
   {
    "duration": 1190,
    "start_time": "2022-06-05T09:29:55.344Z"
   },
   {
    "duration": 23,
    "start_time": "2022-06-05T09:29:56.536Z"
   },
   {
    "duration": 35,
    "start_time": "2022-06-05T09:29:56.562Z"
   },
   {
    "duration": 45,
    "start_time": "2022-06-05T09:29:56.600Z"
   },
   {
    "duration": 19,
    "start_time": "2022-06-05T09:29:56.647Z"
   },
   {
    "duration": 478,
    "start_time": "2022-06-05T09:29:56.668Z"
   },
   {
    "duration": 13,
    "start_time": "2022-06-05T09:29:57.147Z"
   },
   {
    "duration": 351,
    "start_time": "2022-06-05T09:29:57.161Z"
   },
   {
    "duration": 7,
    "start_time": "2022-06-05T09:29:57.520Z"
   },
   {
    "duration": 26,
    "start_time": "2022-06-05T09:29:57.532Z"
   },
   {
    "duration": 35,
    "start_time": "2022-06-05T09:29:57.560Z"
   },
   {
    "duration": 6,
    "start_time": "2022-06-05T09:30:15.807Z"
   },
   {
    "duration": 115,
    "start_time": "2022-06-05T09:30:15.815Z"
   },
   {
    "duration": 14,
    "start_time": "2022-06-05T09:30:15.932Z"
   },
   {
    "duration": 77,
    "start_time": "2022-06-05T09:30:15.947Z"
   },
   {
    "duration": 53,
    "start_time": "2022-06-05T09:30:16.026Z"
   },
   {
    "duration": 30,
    "start_time": "2022-06-05T09:30:16.097Z"
   },
   {
    "duration": 110,
    "start_time": "2022-06-05T09:30:16.129Z"
   },
   {
    "duration": 9,
    "start_time": "2022-06-05T09:30:16.241Z"
   },
   {
    "duration": 227,
    "start_time": "2022-06-05T09:30:16.252Z"
   },
   {
    "duration": 10,
    "start_time": "2022-06-05T09:30:16.481Z"
   },
   {
    "duration": 147,
    "start_time": "2022-06-05T09:30:16.493Z"
   },
   {
    "duration": 23,
    "start_time": "2022-06-05T09:30:16.642Z"
   },
   {
    "duration": 3,
    "start_time": "2022-06-05T09:30:16.669Z"
   },
   {
    "duration": 5,
    "start_time": "2022-06-05T09:30:16.692Z"
   },
   {
    "duration": 369,
    "start_time": "2022-06-05T09:30:16.699Z"
   },
   {
    "duration": 3,
    "start_time": "2022-06-05T09:30:17.069Z"
   },
   {
    "duration": 8,
    "start_time": "2022-06-05T09:30:17.074Z"
   },
   {
    "duration": 48,
    "start_time": "2022-06-05T09:30:17.084Z"
   },
   {
    "duration": 201,
    "start_time": "2022-06-05T09:30:17.134Z"
   },
   {
    "duration": 802,
    "start_time": "2022-06-05T09:30:17.337Z"
   },
   {
    "duration": 13,
    "start_time": "2022-06-05T09:30:18.141Z"
   },
   {
    "duration": 12,
    "start_time": "2022-06-05T09:30:18.155Z"
   },
   {
    "duration": 268,
    "start_time": "2022-06-05T09:30:18.190Z"
   },
   {
    "duration": 123,
    "start_time": "2022-06-05T09:30:18.461Z"
   },
   {
    "duration": 34,
    "start_time": "2022-06-05T09:30:18.587Z"
   },
   {
    "duration": 24,
    "start_time": "2022-06-05T09:30:18.623Z"
   },
   {
    "duration": 30,
    "start_time": "2022-06-05T09:30:18.649Z"
   },
   {
    "duration": 51,
    "start_time": "2022-06-05T09:30:18.682Z"
   },
   {
    "duration": 9,
    "start_time": "2022-06-05T09:30:18.736Z"
   },
   {
    "duration": 20,
    "start_time": "2022-06-05T09:30:18.747Z"
   },
   {
    "duration": 19,
    "start_time": "2022-06-05T09:30:18.769Z"
   },
   {
    "duration": 985,
    "start_time": "2022-06-05T09:30:18.790Z"
   },
   {
    "duration": 20,
    "start_time": "2022-06-05T09:30:19.777Z"
   },
   {
    "duration": 62,
    "start_time": "2022-06-05T09:30:19.799Z"
   },
   {
    "duration": 40,
    "start_time": "2022-06-05T09:30:19.863Z"
   },
   {
    "duration": 30,
    "start_time": "2022-06-05T09:30:19.904Z"
   },
   {
    "duration": 494,
    "start_time": "2022-06-05T09:30:19.938Z"
   },
   {
    "duration": 13,
    "start_time": "2022-06-05T09:30:20.434Z"
   },
   {
    "duration": 339,
    "start_time": "2022-06-05T09:30:20.448Z"
   },
   {
    "duration": 12,
    "start_time": "2022-06-05T09:30:20.789Z"
   },
   {
    "duration": 39,
    "start_time": "2022-06-05T09:30:20.803Z"
   },
   {
    "duration": 15,
    "start_time": "2022-06-05T09:30:20.843Z"
   },
   {
    "duration": 842,
    "start_time": "2022-06-05T09:32:13.948Z"
   },
   {
    "duration": 19,
    "start_time": "2022-06-05T09:32:17.142Z"
   },
   {
    "duration": 32,
    "start_time": "2022-06-05T09:32:26.818Z"
   },
   {
    "duration": 38,
    "start_time": "2022-06-05T09:32:29.716Z"
   },
   {
    "duration": 6,
    "start_time": "2022-06-05T09:34:28.674Z"
   },
   {
    "duration": 138,
    "start_time": "2022-06-05T09:37:47.418Z"
   },
   {
    "duration": 33,
    "start_time": "2022-06-05T09:38:01.259Z"
   },
   {
    "duration": 97,
    "start_time": "2022-06-05T09:40:35.879Z"
   },
   {
    "duration": 14,
    "start_time": "2022-06-05T09:54:14.488Z"
   },
   {
    "duration": 184,
    "start_time": "2022-06-05T09:58:50.775Z"
   },
   {
    "duration": 177,
    "start_time": "2022-06-05T09:59:33.477Z"
   },
   {
    "duration": 180,
    "start_time": "2022-06-05T09:59:38.679Z"
   },
   {
    "duration": 209,
    "start_time": "2022-06-05T09:59:45.850Z"
   },
   {
    "duration": 163,
    "start_time": "2022-06-05T09:59:51.173Z"
   },
   {
    "duration": 185,
    "start_time": "2022-06-05T09:59:56.134Z"
   },
   {
    "duration": 183,
    "start_time": "2022-06-05T10:00:11.907Z"
   },
   {
    "duration": 198,
    "start_time": "2022-06-05T10:00:15.473Z"
   },
   {
    "duration": 195,
    "start_time": "2022-06-05T10:02:01.327Z"
   },
   {
    "duration": 70,
    "start_time": "2022-06-06T09:09:46.952Z"
   },
   {
    "duration": 1571,
    "start_time": "2022-06-06T09:09:52.292Z"
   },
   {
    "duration": 152,
    "start_time": "2022-06-06T09:09:53.865Z"
   },
   {
    "duration": 23,
    "start_time": "2022-06-06T09:09:54.018Z"
   },
   {
    "duration": 54,
    "start_time": "2022-06-06T09:09:54.043Z"
   },
   {
    "duration": 65,
    "start_time": "2022-06-06T09:09:54.099Z"
   },
   {
    "duration": 12,
    "start_time": "2022-06-06T09:09:54.166Z"
   },
   {
    "duration": 18,
    "start_time": "2022-06-06T09:10:03.096Z"
   },
   {
    "duration": 35,
    "start_time": "2022-06-06T09:12:03.116Z"
   },
   {
    "duration": 39,
    "start_time": "2022-06-06T09:25:21.151Z"
   },
   {
    "duration": 44,
    "start_time": "2022-06-06T09:31:46.060Z"
   },
   {
    "duration": 3,
    "start_time": "2022-06-06T09:33:24.096Z"
   },
   {
    "duration": 102,
    "start_time": "2022-06-06T09:33:24.103Z"
   },
   {
    "duration": 13,
    "start_time": "2022-06-06T09:33:24.206Z"
   },
   {
    "duration": 69,
    "start_time": "2022-06-06T09:33:24.220Z"
   },
   {
    "duration": 51,
    "start_time": "2022-06-06T09:33:24.291Z"
   },
   {
    "duration": 23,
    "start_time": "2022-06-06T09:33:24.343Z"
   },
   {
    "duration": 18,
    "start_time": "2022-06-06T09:33:24.370Z"
   },
   {
    "duration": 104,
    "start_time": "2022-06-06T09:33:24.390Z"
   },
   {
    "duration": 6,
    "start_time": "2022-06-06T09:33:24.496Z"
   },
   {
    "duration": 375,
    "start_time": "2022-06-06T09:33:24.503Z"
   },
   {
    "duration": 9,
    "start_time": "2022-06-06T09:33:24.881Z"
   },
   {
    "duration": 131,
    "start_time": "2022-06-06T09:33:24.892Z"
   },
   {
    "duration": 27,
    "start_time": "2022-06-06T09:33:25.034Z"
   },
   {
    "duration": 21,
    "start_time": "2022-06-06T09:33:25.063Z"
   },
   {
    "duration": 9,
    "start_time": "2022-06-06T09:33:25.086Z"
   },
   {
    "duration": 336,
    "start_time": "2022-06-06T09:33:25.097Z"
   },
   {
    "duration": 11,
    "start_time": "2022-06-06T09:33:25.435Z"
   },
   {
    "duration": 24,
    "start_time": "2022-06-06T09:33:25.450Z"
   },
   {
    "duration": 28,
    "start_time": "2022-06-06T09:33:25.476Z"
   },
   {
    "duration": 190,
    "start_time": "2022-06-06T09:33:25.506Z"
   },
   {
    "duration": 20,
    "start_time": "2022-06-06T09:33:27.919Z"
   },
   {
    "duration": 14,
    "start_time": "2022-06-06T09:36:24.404Z"
   },
   {
    "duration": 20,
    "start_time": "2022-06-06T09:38:39.412Z"
   },
   {
    "duration": 14,
    "start_time": "2022-06-06T09:39:50.568Z"
   },
   {
    "duration": 951,
    "start_time": "2022-06-06T09:41:52.262Z"
   },
   {
    "duration": 5,
    "start_time": "2022-06-06T09:41:56.250Z"
   },
   {
    "duration": 103,
    "start_time": "2022-06-06T09:41:56.256Z"
   },
   {
    "duration": 16,
    "start_time": "2022-06-06T09:41:56.360Z"
   },
   {
    "duration": 56,
    "start_time": "2022-06-06T09:41:56.378Z"
   },
   {
    "duration": 59,
    "start_time": "2022-06-06T09:41:56.437Z"
   },
   {
    "duration": 11,
    "start_time": "2022-06-06T09:41:56.498Z"
   },
   {
    "duration": 50,
    "start_time": "2022-06-06T09:41:56.511Z"
   },
   {
    "duration": 88,
    "start_time": "2022-06-06T09:41:56.566Z"
   },
   {
    "duration": 13,
    "start_time": "2022-06-06T09:41:56.656Z"
   },
   {
    "duration": 206,
    "start_time": "2022-06-06T09:41:56.671Z"
   },
   {
    "duration": 7,
    "start_time": "2022-06-06T09:41:56.879Z"
   },
   {
    "duration": 128,
    "start_time": "2022-06-06T09:41:56.887Z"
   },
   {
    "duration": 43,
    "start_time": "2022-06-06T09:41:57.017Z"
   },
   {
    "duration": 11,
    "start_time": "2022-06-06T09:41:57.067Z"
   },
   {
    "duration": 6,
    "start_time": "2022-06-06T09:41:57.080Z"
   },
   {
    "duration": 329,
    "start_time": "2022-06-06T09:41:57.088Z"
   },
   {
    "duration": 3,
    "start_time": "2022-06-06T09:41:57.419Z"
   },
   {
    "duration": 46,
    "start_time": "2022-06-06T09:41:57.424Z"
   },
   {
    "duration": 15,
    "start_time": "2022-06-06T09:41:57.472Z"
   },
   {
    "duration": 187,
    "start_time": "2022-06-06T09:41:57.489Z"
   },
   {
    "duration": 786,
    "start_time": "2022-06-06T09:41:57.678Z"
   },
   {
    "duration": 12,
    "start_time": "2022-06-06T09:41:58.467Z"
   },
   {
    "duration": 11,
    "start_time": "2022-06-06T09:41:58.480Z"
   },
   {
    "duration": 197,
    "start_time": "2022-06-06T09:41:58.493Z"
   },
   {
    "duration": 174,
    "start_time": "2022-06-06T09:41:58.692Z"
   },
   {
    "duration": 17,
    "start_time": "2022-06-06T09:41:58.868Z"
   },
   {
    "duration": 10,
    "start_time": "2022-06-06T09:41:58.886Z"
   },
   {
    "duration": 14,
    "start_time": "2022-06-06T09:41:59.456Z"
   },
   {
    "duration": 17,
    "start_time": "2022-06-06T09:42:05.844Z"
   },
   {
    "duration": 17,
    "start_time": "2022-06-06T09:42:16.475Z"
   },
   {
    "duration": 21,
    "start_time": "2022-06-06T09:42:26.570Z"
   },
   {
    "duration": 19,
    "start_time": "2022-06-06T09:42:32.853Z"
   },
   {
    "duration": 17,
    "start_time": "2022-06-06T09:42:36.728Z"
   },
   {
    "duration": 15,
    "start_time": "2022-06-06T09:42:40.190Z"
   },
   {
    "duration": 8,
    "start_time": "2022-06-06T09:48:06.184Z"
   },
   {
    "duration": 9,
    "start_time": "2022-06-06T09:48:08.752Z"
   },
   {
    "duration": 86,
    "start_time": "2022-06-06T09:48:08.763Z"
   },
   {
    "duration": 16,
    "start_time": "2022-06-06T09:48:08.851Z"
   },
   {
    "duration": 66,
    "start_time": "2022-06-06T09:48:08.870Z"
   },
   {
    "duration": 61,
    "start_time": "2022-06-06T09:48:08.938Z"
   },
   {
    "duration": 11,
    "start_time": "2022-06-06T09:48:09.001Z"
   },
   {
    "duration": 39,
    "start_time": "2022-06-06T09:48:09.014Z"
   },
   {
    "duration": 94,
    "start_time": "2022-06-06T09:48:09.055Z"
   },
   {
    "duration": 8,
    "start_time": "2022-06-06T09:48:09.151Z"
   },
   {
    "duration": 218,
    "start_time": "2022-06-06T09:48:09.162Z"
   },
   {
    "duration": 9,
    "start_time": "2022-06-06T09:48:09.382Z"
   },
   {
    "duration": 118,
    "start_time": "2022-06-06T09:48:09.393Z"
   },
   {
    "duration": 36,
    "start_time": "2022-06-06T09:48:09.513Z"
   },
   {
    "duration": 33,
    "start_time": "2022-06-06T09:48:09.554Z"
   },
   {
    "duration": 12,
    "start_time": "2022-06-06T09:48:09.589Z"
   },
   {
    "duration": 316,
    "start_time": "2022-06-06T09:48:09.602Z"
   },
   {
    "duration": 10,
    "start_time": "2022-06-06T09:48:09.920Z"
   },
   {
    "duration": 31,
    "start_time": "2022-06-06T09:48:09.938Z"
   },
   {
    "duration": 20,
    "start_time": "2022-06-06T09:48:09.970Z"
   },
   {
    "duration": 189,
    "start_time": "2022-06-06T09:48:09.992Z"
   },
   {
    "duration": 697,
    "start_time": "2022-06-06T09:48:10.182Z"
   },
   {
    "duration": 11,
    "start_time": "2022-06-06T09:48:10.880Z"
   },
   {
    "duration": 45,
    "start_time": "2022-06-06T09:48:10.892Z"
   },
   {
    "duration": 229,
    "start_time": "2022-06-06T09:48:10.940Z"
   },
   {
    "duration": 89,
    "start_time": "2022-06-06T09:48:11.170Z"
   },
   {
    "duration": 20,
    "start_time": "2022-06-06T09:48:11.261Z"
   },
   {
    "duration": 8,
    "start_time": "2022-06-06T09:48:11.282Z"
   },
   {
    "duration": 17,
    "start_time": "2022-06-06T09:48:11.294Z"
   },
   {
    "duration": 28,
    "start_time": "2022-06-06T09:48:11.312Z"
   },
   {
    "duration": 43,
    "start_time": "2022-06-06T09:48:11.348Z"
   },
   {
    "duration": 2,
    "start_time": "2022-06-06T09:48:11.393Z"
   },
   {
    "duration": 7,
    "start_time": "2022-06-06T09:48:11.397Z"
   },
   {
    "duration": 9,
    "start_time": "2022-06-06T09:48:11.406Z"
   },
   {
    "duration": 1510,
    "start_time": "2022-06-06T09:48:11.416Z"
   },
   {
    "duration": 26,
    "start_time": "2022-06-06T09:48:12.934Z"
   },
   {
    "duration": 34,
    "start_time": "2022-06-06T09:48:12.962Z"
   },
   {
    "duration": 37,
    "start_time": "2022-06-06T09:48:12.997Z"
   },
   {
    "duration": 23,
    "start_time": "2022-06-06T09:48:13.038Z"
   },
   {
    "duration": 396,
    "start_time": "2022-06-06T09:48:13.062Z"
   },
   {
    "duration": 14,
    "start_time": "2022-06-06T09:48:13.460Z"
   },
   {
    "duration": 233,
    "start_time": "2022-06-06T09:48:13.476Z"
   },
   {
    "duration": 5,
    "start_time": "2022-06-06T09:48:13.711Z"
   },
   {
    "duration": 47,
    "start_time": "2022-06-06T09:48:13.718Z"
   },
   {
    "duration": 12,
    "start_time": "2022-06-06T09:48:13.782Z"
   },
   {
    "duration": 10,
    "start_time": "2022-06-06T09:48:23.045Z"
   },
   {
    "duration": 6,
    "start_time": "2022-06-06T09:48:36.288Z"
   }
  ],
  "kernelspec": {
   "display_name": "Python 3 (ipykernel)",
   "language": "python",
   "name": "python3"
  },
  "language_info": {
   "codemirror_mode": {
    "name": "ipython",
    "version": 3
   },
   "file_extension": ".py",
   "mimetype": "text/x-python",
   "name": "python",
   "nbconvert_exporter": "python",
   "pygments_lexer": "ipython3",
   "version": "3.9.7"
  },
  "toc": {
   "base_numbering": 1,
   "nav_menu": {},
   "number_sections": true,
   "sideBar": true,
   "skip_h1_title": true,
   "title_cell": "Table of Contents",
   "title_sidebar": "Contents",
   "toc_cell": false,
   "toc_position": {},
   "toc_section_display": true,
   "toc_window_display": false
  }
 },
 "nbformat": 4,
 "nbformat_minor": 2
}
