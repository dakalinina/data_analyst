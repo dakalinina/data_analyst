{
 "cells": [
  {
   "cell_type": "markdown",
   "metadata": {
    "id": "E0vqbgi9ay0H"
   },
   "source": [
    "# Яндекс.Музыка"
   ]
  },
  {
   "cell_type": "markdown",
   "metadata": {
    "id": "VUC88oWjTJw2"
   },
   "source": [
    "Сравнение Москвы и Петербурга окружено мифами. Например:\n",
    " * Москва — мегаполис, подчинённый жёсткому ритму рабочей недели;\n",
    " * Петербург — культурная столица, со своими вкусами.\n",
    "\n",
    "На данных Яндекс.Музыки вы сравните поведение пользователей двух столиц.\n",
    "\n",
    "**Цель исследования** — проверьте три гипотезы:\n",
    "1. Активность пользователей зависит от дня недели. Причём в Москве и Петербурге это проявляется по-разному.\n",
    "2. В понедельник утром в Москве преобладают одни жанры, а в Петербурге — другие. Так же и вечером пятницы преобладают разные жанры — в зависимости от города. \n",
    "3. Москва и Петербург предпочитают разные жанры музыки. В Москве чаще слушают поп-музыку, в Петербурге — русский рэп.\n",
    "\n",
    "**Ход исследования**\n",
    "\n",
    "Данные о поведении пользователей вы получите из файла `yandex_music_project.csv`. О качестве данных ничего не известно. Поэтому перед проверкой гипотез понадобится обзор данных. \n",
    "\n",
    "Вы проверите данные на ошибки и оцените их влияние на исследование. Затем, на этапе предобработки вы поищете возможность исправить самые критичные ошибки данных.\n",
    " \n",
    "Таким образом, исследование пройдёт в три этапа:\n",
    " 1. Обзор данных.\n",
    " 2. Предобработка данных.\n",
    " 3. Проверка гипотез.\n",
    "\n"
   ]
  },
  {
   "cell_type": "markdown",
   "metadata": {
    "id": "Ml1hmfXC_Zcs"
   },
   "source": [
    "## Обзор данных\n",
    "\n",
    "Составьте первое представление о данных Яндекс.Музыки.\n",
    "\n",
    "\n"
   ]
  },
  {
   "cell_type": "markdown",
   "metadata": {
    "id": "57eAOGIz_Zcs"
   },
   "source": [
    "Основной инструмент аналитика — `pandas`. Импортируйте эту библиотеку."
   ]
  },
  {
   "cell_type": "code",
   "execution_count": 1,
   "metadata": {
    "id": "AXN7PHPN_Zcs"
   },
   "outputs": [],
   "source": [
    "import pandas\n",
    "import itertools\n",
    "import warnings\n",
    "warnings.filterwarnings('ignore')"
   ]
  },
  {
   "cell_type": "markdown",
   "metadata": {
    "id": "SG23P8tt_Zcs"
   },
   "source": [
    "Прочитайте файл `yandex_music_project.csv` из папки `/datasets` и сохраните его в переменной `df`:"
   ]
  },
  {
   "cell_type": "code",
   "execution_count": 2,
   "metadata": {
    "id": "fFVu7vqh_Zct"
   },
   "outputs": [],
   "source": [
    "df = pandas.read_csv('/Users/dasakalinina/Desktop/Practicum/_all_projects/City_music/yandex_music_project.csv')"
   ]
  },
  {
   "cell_type": "markdown",
   "metadata": {
    "id": "rDoOMd3uTqnZ"
   },
   "source": [
    "Выведите на экран первые десять строк таблицы:"
   ]
  },
  {
   "cell_type": "code",
   "execution_count": 3,
   "metadata": {
    "id": "oWTVX3gW_Zct",
    "scrolled": false
   },
   "outputs": [
    {
     "data": {
      "text/html": [
       "<div>\n",
       "<style scoped>\n",
       "    .dataframe tbody tr th:only-of-type {\n",
       "        vertical-align: middle;\n",
       "    }\n",
       "\n",
       "    .dataframe tbody tr th {\n",
       "        vertical-align: top;\n",
       "    }\n",
       "\n",
       "    .dataframe thead th {\n",
       "        text-align: right;\n",
       "    }\n",
       "</style>\n",
       "<table border=\"1\" class=\"dataframe\">\n",
       "  <thead>\n",
       "    <tr style=\"text-align: right;\">\n",
       "      <th></th>\n",
       "      <th>userID</th>\n",
       "      <th>Track</th>\n",
       "      <th>artist</th>\n",
       "      <th>genre</th>\n",
       "      <th>City</th>\n",
       "      <th>time</th>\n",
       "      <th>Day</th>\n",
       "    </tr>\n",
       "  </thead>\n",
       "  <tbody>\n",
       "    <tr>\n",
       "      <th>0</th>\n",
       "      <td>FFB692EC</td>\n",
       "      <td>Kamigata To Boots</td>\n",
       "      <td>The Mass Missile</td>\n",
       "      <td>rock</td>\n",
       "      <td>Saint-Petersburg</td>\n",
       "      <td>20:28:33</td>\n",
       "      <td>Wednesday</td>\n",
       "    </tr>\n",
       "    <tr>\n",
       "      <th>1</th>\n",
       "      <td>55204538</td>\n",
       "      <td>Delayed Because of Accident</td>\n",
       "      <td>Andreas Rönnberg</td>\n",
       "      <td>rock</td>\n",
       "      <td>Moscow</td>\n",
       "      <td>14:07:09</td>\n",
       "      <td>Friday</td>\n",
       "    </tr>\n",
       "    <tr>\n",
       "      <th>2</th>\n",
       "      <td>20EC38</td>\n",
       "      <td>Funiculì funiculà</td>\n",
       "      <td>Mario Lanza</td>\n",
       "      <td>pop</td>\n",
       "      <td>Saint-Petersburg</td>\n",
       "      <td>20:58:07</td>\n",
       "      <td>Wednesday</td>\n",
       "    </tr>\n",
       "    <tr>\n",
       "      <th>3</th>\n",
       "      <td>A3DD03C9</td>\n",
       "      <td>Dragons in the Sunset</td>\n",
       "      <td>Fire + Ice</td>\n",
       "      <td>folk</td>\n",
       "      <td>Saint-Petersburg</td>\n",
       "      <td>08:37:09</td>\n",
       "      <td>Monday</td>\n",
       "    </tr>\n",
       "    <tr>\n",
       "      <th>4</th>\n",
       "      <td>E2DC1FAE</td>\n",
       "      <td>Soul People</td>\n",
       "      <td>Space Echo</td>\n",
       "      <td>dance</td>\n",
       "      <td>Moscow</td>\n",
       "      <td>08:34:34</td>\n",
       "      <td>Monday</td>\n",
       "    </tr>\n",
       "    <tr>\n",
       "      <th>5</th>\n",
       "      <td>842029A1</td>\n",
       "      <td>Преданная</td>\n",
       "      <td>IMPERVTOR</td>\n",
       "      <td>rusrap</td>\n",
       "      <td>Saint-Petersburg</td>\n",
       "      <td>13:09:41</td>\n",
       "      <td>Friday</td>\n",
       "    </tr>\n",
       "    <tr>\n",
       "      <th>6</th>\n",
       "      <td>4CB90AA5</td>\n",
       "      <td>True</td>\n",
       "      <td>Roman Messer</td>\n",
       "      <td>dance</td>\n",
       "      <td>Moscow</td>\n",
       "      <td>13:00:07</td>\n",
       "      <td>Wednesday</td>\n",
       "    </tr>\n",
       "    <tr>\n",
       "      <th>7</th>\n",
       "      <td>F03E1C1F</td>\n",
       "      <td>Feeling This Way</td>\n",
       "      <td>Polina Griffith</td>\n",
       "      <td>dance</td>\n",
       "      <td>Moscow</td>\n",
       "      <td>20:47:49</td>\n",
       "      <td>Wednesday</td>\n",
       "    </tr>\n",
       "    <tr>\n",
       "      <th>8</th>\n",
       "      <td>8FA1D3BE</td>\n",
       "      <td>И вновь продолжается бой</td>\n",
       "      <td>NaN</td>\n",
       "      <td>ruspop</td>\n",
       "      <td>Moscow</td>\n",
       "      <td>09:17:40</td>\n",
       "      <td>Friday</td>\n",
       "    </tr>\n",
       "    <tr>\n",
       "      <th>9</th>\n",
       "      <td>E772D5C0</td>\n",
       "      <td>Pessimist</td>\n",
       "      <td>NaN</td>\n",
       "      <td>dance</td>\n",
       "      <td>Saint-Petersburg</td>\n",
       "      <td>21:20:49</td>\n",
       "      <td>Wednesday</td>\n",
       "    </tr>\n",
       "  </tbody>\n",
       "</table>\n",
       "</div>"
      ],
      "text/plain": [
       "     userID                        Track            artist   genre  \\\n",
       "0  FFB692EC            Kamigata To Boots  The Mass Missile    rock   \n",
       "1  55204538  Delayed Because of Accident  Andreas Rönnberg    rock   \n",
       "2    20EC38            Funiculì funiculà       Mario Lanza     pop   \n",
       "3  A3DD03C9        Dragons in the Sunset        Fire + Ice    folk   \n",
       "4  E2DC1FAE                  Soul People        Space Echo   dance   \n",
       "5  842029A1                    Преданная         IMPERVTOR  rusrap   \n",
       "6  4CB90AA5                         True      Roman Messer   dance   \n",
       "7  F03E1C1F             Feeling This Way   Polina Griffith   dance   \n",
       "8  8FA1D3BE     И вновь продолжается бой               NaN  ruspop   \n",
       "9  E772D5C0                    Pessimist               NaN   dance   \n",
       "\n",
       "             City        time        Day  \n",
       "0  Saint-Petersburg  20:28:33  Wednesday  \n",
       "1            Moscow  14:07:09     Friday  \n",
       "2  Saint-Petersburg  20:58:07  Wednesday  \n",
       "3  Saint-Petersburg  08:37:09     Monday  \n",
       "4            Moscow  08:34:34     Monday  \n",
       "5  Saint-Petersburg  13:09:41     Friday  \n",
       "6            Moscow  13:00:07  Wednesday  \n",
       "7            Moscow  20:47:49  Wednesday  \n",
       "8            Moscow  09:17:40     Friday  \n",
       "9  Saint-Petersburg  21:20:49  Wednesday  "
      ]
     },
     "metadata": {},
     "output_type": "display_data"
    }
   ],
   "source": [
    "display(df.head(10))"
   ]
  },
  {
   "cell_type": "markdown",
   "metadata": {
    "id": "EO73Kwic_Zct"
   },
   "source": [
    "Одной командой получить общую информацию о таблице:"
   ]
  },
  {
   "cell_type": "code",
   "execution_count": 4,
   "metadata": {
    "id": "DSf2kIb-_Zct"
   },
   "outputs": [
    {
     "name": "stdout",
     "output_type": "stream",
     "text": [
      "<class 'pandas.core.frame.DataFrame'>\n",
      "RangeIndex: 65079 entries, 0 to 65078\n",
      "Data columns (total 7 columns):\n",
      " #   Column    Non-Null Count  Dtype \n",
      "---  ------    --------------  ----- \n",
      " 0     userID  65079 non-null  object\n",
      " 1   Track     63848 non-null  object\n",
      " 2   artist    57876 non-null  object\n",
      " 3   genre     63881 non-null  object\n",
      " 4     City    65079 non-null  object\n",
      " 5   time      65079 non-null  object\n",
      " 6   Day       65079 non-null  object\n",
      "dtypes: object(7)\n",
      "memory usage: 3.5+ MB\n"
     ]
    }
   ],
   "source": [
    "df.info() # получение общей информации о данных в таблице df"
   ]
  },
  {
   "cell_type": "markdown",
   "metadata": {
    "id": "TaQ2Iwbr_Zct"
   },
   "source": [
    "Итак, в таблице семь столбцов. Тип данных во всех столбцах — `object`.\n",
    "\n",
    "Согласно документации к данным:\n",
    "* `userID` — идентификатор пользователя;\n",
    "* `Track` — название трека;  \n",
    "* `artist` — имя исполнителя;\n",
    "* `genre` — название жанра;\n",
    "* `City` — город пользователя;\n",
    "* `time` — время начала прослушивания;\n",
    "* `Day` — день недели.\n",
    "\n",
    "В названиях колонок видны три нарушения стиля:\n",
    "1. Строчные буквы сочетаются с прописными.\n",
    "2. Встречаются пробелы.\n",
    "3. Найдите ещё одну проблему в названии колонок и опишите её в этом пункте.\n",
    "   Используется \"верблюжье\", а не \"змеиное\" написание.\n",
    "\n",
    "\n",
    "\n",
    "Количество значений в столбцах различается. Значит, в данных есть пропущенные значения.\n"
   ]
  },
  {
   "cell_type": "markdown",
   "metadata": {
    "id": "MCB6-dXG_Zct"
   },
   "source": [
    "**Выводы**\n",
    "\n",
    "В каждой строке таблицы — данные о прослушанном треке. Часть колонок описывает саму композицию: название, исполнителя и жанр. Остальные данные рассказывают о пользователе: из какого он города, когда он слушал музыку. \n",
    "\n",
    "Предварительно можно утверждать, что, данных достаточно для проверки гипотез. Но встречаются пропуски в данных, а в названиях колонок — расхождения с хорошим стилем.\n",
    "\n",
    "Чтобы двигаться дальше, нужно устранить проблемы в данных."
   ]
  },
  {
   "cell_type": "markdown",
   "metadata": {
    "id": "SjYF6Ub9_Zct"
   },
   "source": [
    "## Предобработка данных\n",
    "Исправьте стиль в заголовках столбцов, исключите пропуски. Затем проверьте данные на дубликаты."
   ]
  },
  {
   "cell_type": "markdown",
   "metadata": {
    "id": "dIaKXr29_Zct"
   },
   "source": [
    "### Стиль заголовков\n",
    "Выведите на экран названия столбцов:"
   ]
  },
  {
   "cell_type": "code",
   "execution_count": 5,
   "metadata": {
    "id": "oKOTdF_Q_Zct"
   },
   "outputs": [
    {
     "name": "stdout",
     "output_type": "stream",
     "text": [
      "Index(['  userID', 'Track', 'artist', 'genre', '  City  ', 'time', 'Day'], dtype='object')\n"
     ]
    }
   ],
   "source": [
    "print (df.columns) # перечень названий столбцов таблицы df"
   ]
  },
  {
   "cell_type": "markdown",
   "metadata": {
    "id": "zj5534cv_Zct"
   },
   "source": [
    "Приведите названия в соответствие с хорошим стилем:\n",
    "* несколько слов в названии запишите в «змеином_регистре»,\n",
    "* все символы сделайте строчными,\n",
    "* устраните пробелы.\n",
    "\n",
    "Для этого переименуйте колонки так:\n",
    "* `'  userID'` → `'user_id'`;\n",
    "* `'Track'` → `'track'`;\n",
    "* `'  City  '` → `'city'`;\n",
    "* `'Day'` → `'day'`."
   ]
  },
  {
   "cell_type": "code",
   "execution_count": 6,
   "metadata": {
    "id": "ISlFqs5y_Zct"
   },
   "outputs": [],
   "source": [
    "df = df.rename(columns={'  userID':'user_id', 'Track':'track','  City  ':'city', 'Day':'day'})\n",
    "# переименование столбцов"
   ]
  },
  {
   "cell_type": "markdown",
   "metadata": {
    "id": "1dqbh00J_Zct"
   },
   "source": [
    "Проверьте результат. Для этого ещё раз выведите на экран названия столбцов:"
   ]
  },
  {
   "cell_type": "code",
   "execution_count": 7,
   "metadata": {
    "id": "d4NOAmTW_Zct"
   },
   "outputs": [
    {
     "name": "stdout",
     "output_type": "stream",
     "text": [
      "Index(['user_id', 'track', 'artist', 'genre', 'city', 'time', 'day'], dtype='object')\n"
     ]
    }
   ],
   "source": [
    "print (df.columns)\n",
    "# проверка результатов - перечень названий столбцов"
   ]
  },
  {
   "cell_type": "markdown",
   "metadata": {
    "id": "5ISfbcfY_Zct"
   },
   "source": [
    "### Пропуски значений\n",
    "Сначала посчитайте, сколько в таблице пропущенных значений. Для этого достаточно двух методов `pandas`:"
   ]
  },
  {
   "cell_type": "code",
   "execution_count": 8,
   "metadata": {
    "id": "RskX29qr_Zct"
   },
   "outputs": [
    {
     "name": "stdout",
     "output_type": "stream",
     "text": [
      "user_id       0\n",
      "track      1231\n",
      "artist     7203\n",
      "genre      1198\n",
      "city          0\n",
      "time          0\n",
      "day           0\n",
      "dtype: int64\n"
     ]
    }
   ],
   "source": [
    "print (df.isna().sum())# подсчёт пропусков"
   ]
  },
  {
   "cell_type": "markdown",
   "metadata": {
    "id": "qubhgnlO_Zct"
   },
   "source": [
    "Не все пропущенные значения влияют на исследование. Так в `track` и `artist` пропуски не важны для вашей работы. Достаточно заменить их явными обозначениями.\n",
    "\n",
    "Но пропуски в `genre` могут помешать сравнению музыкальных вкусов в Москве и Санкт-Петербурге. На практике было бы правильно установить причину пропусков и восстановить данные. Такой возможности нет в учебном проекте. Придётся:\n",
    "* заполнить и эти пропуски явными обозначениями,\n",
    "* оценить, насколько они повредят расчётам. "
   ]
  },
  {
   "cell_type": "markdown",
   "metadata": {
    "id": "fSv2laPA_Zct"
   },
   "source": [
    "Замените пропущенные значения в столбцах `track`, `artist` и `genre` на строку `'unknown'`. Для этого создайте список `columns_to_replace`, переберите его элементы циклом `for` и для каждого столбца выполните замену пропущенных значений:"
   ]
  },
  {
   "cell_type": "code",
   "execution_count": 9,
   "metadata": {
    "id": "KplB5qWs_Zct"
   },
   "outputs": [],
   "source": [
    "columns_to_replace = ['track', 'artist', 'genre']\n",
    "for column in columns_to_replace:\n",
    "    df[column] = df[column].fillna('unknown')# перебор названий столбцов в цикле и замена пропущенных значений на 'unknown'"
   ]
  },
  {
   "cell_type": "markdown",
   "metadata": {
    "id": "Ilsm-MZo_Zct"
   },
   "source": [
    "Убедитесь, что в таблице не осталось пропусков. Для этого ещё раз посчитайте пропущенные значения."
   ]
  },
  {
   "cell_type": "code",
   "execution_count": 10,
   "metadata": {
    "id": "Tq4nYRX4_Zct"
   },
   "outputs": [
    {
     "name": "stdout",
     "output_type": "stream",
     "text": [
      "user_id    0\n",
      "track      0\n",
      "artist     0\n",
      "genre      0\n",
      "city       0\n",
      "time       0\n",
      "day        0\n",
      "dtype: int64\n"
     ]
    }
   ],
   "source": [
    "print (df.isna().sum())# подсчёт пропусков"
   ]
  },
  {
   "cell_type": "markdown",
   "metadata": {
    "id": "BWKRtBJ3_Zct"
   },
   "source": [
    "### Дубликаты\n",
    "Посчитайте явные дубликаты в таблице одной командой:"
   ]
  },
  {
   "cell_type": "code",
   "execution_count": 11,
   "metadata": {
    "id": "36eES_S0_Zct"
   },
   "outputs": [
    {
     "name": "stdout",
     "output_type": "stream",
     "text": [
      "3826\n"
     ]
    }
   ],
   "source": [
    "print(df.duplicated().sum())# подсчёт явных дубликатов"
   ]
  },
  {
   "cell_type": "markdown",
   "metadata": {
    "id": "Ot25h6XR_Zct"
   },
   "source": [
    "Вызовите специальный метод `pandas`, чтобы удалить явные дубликаты:"
   ]
  },
  {
   "cell_type": "code",
   "execution_count": 12,
   "metadata": {
    "id": "exFHq6tt_Zct"
   },
   "outputs": [],
   "source": [
    "df = df.drop_duplicates().reset_index(drop = True)# удаление явных дубликатов (с удалением старых индексов и формированием новых)"
   ]
  },
  {
   "cell_type": "markdown",
   "metadata": {
    "id": "Im2YwBEG_Zct"
   },
   "source": [
    "Ещё раз посчитайте явные дубликаты в таблице — убедитесь, что полностью от них избавились:"
   ]
  },
  {
   "cell_type": "code",
   "execution_count": 13,
   "metadata": {
    "id": "-8PuNWQ0_Zct"
   },
   "outputs": [
    {
     "name": "stdout",
     "output_type": "stream",
     "text": [
      "0\n"
     ]
    }
   ],
   "source": [
    "print(df.duplicated().sum()) # проверка на отсутствие дубликатов"
   ]
  },
  {
   "cell_type": "markdown",
   "metadata": {
    "id": "QlFBsxAr_Zct"
   },
   "source": [
    "Теперь избавьтесь от неявных дубликатов в колонке `genre`. Например, название одного и того же жанра может быть записано немного по-разному. Такие ошибки тоже повлияют на результат исследования."
   ]
  },
  {
   "cell_type": "markdown",
   "metadata": {
    "id": "eSjWwsOh_Zct"
   },
   "source": [
    "Выведите на экран список уникальных названий жанров, отсортированный в алфавитном порядке. Для этого:\n",
    "* извлеките нужный столбец датафрейма, \n",
    "* примените к нему метод сортировки,\n",
    "* для отсортированного столбца вызовите метод, который вернёт уникальные значения из столбца."
   ]
  },
  {
   "cell_type": "code",
   "execution_count": 14,
   "metadata": {
    "id": "JIUcqzZN_Zct"
   },
   "outputs": [
    {
     "name": "stdout",
     "output_type": "stream",
     "text": [
      "['acid', 'acoustic', 'action', 'adult', 'africa', 'afrikaans', 'alternative', 'alternativepunk', 'ambient', 'americana', 'animated', 'anime', 'arabesk', 'arabic', 'arena', 'argentinetango', 'art', 'audiobook', 'author', 'avantgarde', 'axé', 'baile', 'balkan', 'beats', 'bigroom', 'black', 'bluegrass', 'blues', 'bollywood', 'bossa', 'brazilian', 'breakbeat', 'breaks', 'broadway', 'cantautori', 'cantopop', 'canzone', 'caribbean', 'caucasian', 'celtic', 'chamber', 'chanson', 'children', 'chill', 'chinese', 'choral', 'christian', 'christmas', 'classical', 'classicmetal', 'club', 'colombian', 'comedy', 'conjazz', 'contemporary', 'country', 'cuban', 'dance', 'dancehall', 'dancepop', 'dark', 'death', 'deep', 'deutschrock', 'deutschspr', 'dirty', 'disco', 'dnb', 'documentary', 'downbeat', 'downtempo', 'drum', 'dub', 'dubstep', 'eastern', 'easy', 'electronic', 'electropop', 'emo', 'entehno', 'epicmetal', 'estrada', 'ethnic', 'eurofolk', 'european', 'experimental', 'extrememetal', 'fado', 'fairytail', 'film', 'fitness', 'flamenco', 'folk', 'folklore', 'folkmetal', 'folkrock', 'folktronica', 'forró', 'frankreich', 'französisch', 'french', 'funk', 'future', 'gangsta', 'garage', 'german', 'ghazal', 'gitarre', 'glitch', 'gospel', 'gothic', 'grime', 'grunge', 'gypsy', 'handsup', \"hard'n'heavy\", 'hardcore', 'hardstyle', 'hardtechno', 'hip', 'hip-hop', 'hiphop', 'historisch', 'holiday', 'hop', 'horror', 'house', 'hymn', 'idm', 'independent', 'indian', 'indie', 'indipop', 'industrial', 'inspirational', 'instrumental', 'international', 'irish', 'jam', 'japanese', 'jazz', 'jewish', 'jpop', 'jungle', 'k-pop', 'karadeniz', 'karaoke', 'kayokyoku', 'korean', 'laiko', 'latin', 'latino', 'leftfield', 'local', 'lounge', 'loungeelectronic', 'lovers', 'malaysian', 'mandopop', 'marschmusik', 'meditative', 'mediterranean', 'melodic', 'metal', 'metalcore', 'mexican', 'middle', 'minimal', 'miscellaneous', 'modern', 'mood', 'mpb', 'muslim', 'native', 'neoklassik', 'neue', 'new', 'newage', 'newwave', 'nu', 'nujazz', 'numetal', 'oceania', 'old', 'opera', 'orchestral', 'other', 'piano', 'podcasts', 'pop', 'popdance', 'popelectronic', 'popeurodance', 'poprussian', 'post', 'posthardcore', 'postrock', 'power', 'progmetal', 'progressive', 'psychedelic', 'punjabi', 'punk', 'quebecois', 'ragga', 'ram', 'rancheras', 'rap', 'rave', 'reggae', 'reggaeton', 'regional', 'relax', 'religious', 'retro', 'rhythm', 'rnb', 'rnr', 'rock', 'rockabilly', 'rockalternative', 'rockindie', 'rockother', 'romance', 'roots', 'ruspop', 'rusrap', 'rusrock', 'russian', 'salsa', 'samba', 'scenic', 'schlager', 'self', 'sertanejo', 'shanson', 'shoegazing', 'showtunes', 'singer', 'ska', 'skarock', 'slow', 'smooth', 'soft', 'soul', 'soulful', 'sound', 'soundtrack', 'southern', 'specialty', 'speech', 'spiritual', 'sport', 'stonerrock', 'surf', 'swing', 'synthpop', 'synthrock', 'sängerportrait', 'tango', 'tanzorchester', 'taraftar', 'tatar', 'tech', 'techno', 'teen', 'thrash', 'top', 'traditional', 'tradjazz', 'trance', 'tribal', 'trip', 'triphop', 'tropical', 'türk', 'türkçe', 'ukrrock', 'unknown', 'urban', 'uzbek', 'variété', 'vi', 'videogame', 'vocal', 'western', 'world', 'worldbeat', 'ïîï', 'электроника']\n"
     ]
    }
   ],
   "source": [
    "print (sorted(df['genre'].unique()))# Просмотр уникальных названий жанров"
   ]
  },
  {
   "cell_type": "markdown",
   "metadata": {
    "id": "qej-Qmuo_Zct"
   },
   "source": [
    "Просмотрите список и найдите неявные дубликаты названия `hiphop`. Это могут быть названия с ошибками или альтернативные названия того же жанра.\n",
    "\n",
    "Вы увидите следующие неявные дубликаты:\n",
    "* *hip*,\n",
    "* *hop*,\n",
    "* *hip-hop*.\n",
    "\n",
    "Чтобы очистить от них таблицу, напишите функцию `replace_wrong_genres()` с двумя параметрами: \n",
    "* `wrong_genres` — список дубликатов,\n",
    "* `correct_genre` — строка с правильным значением.\n",
    "\n",
    "Функция должна исправить колонку `genre` в таблице `df`: заменить каждое значение из списка `wrong_genres` на значение из `correct_genre`."
   ]
  },
  {
   "cell_type": "code",
   "execution_count": 15,
   "metadata": {
    "id": "ErNDkmns_Zct"
   },
   "outputs": [],
   "source": [
    "# Функция для замены неявных дубликатов\n",
    "def replace_wrong_genres(wrong_genres, correct_genre): \n",
    "    for wrong_genre in wrong_genres:\n",
    "        df['genre'] = df['genre'].replace(wrong_genre, correct_genre)   \n"
   ]
  },
  {
   "cell_type": "markdown",
   "metadata": {
    "id": "aDoBJxbA_Zct"
   },
   "source": [
    "Вызовите `replace_wrong_genres()` и передайте ей такие аргументы, чтобы она устранила неявные дубликаты: вместо `hip`, `hop` и `hip-hop` в таблице должно быть значение `hiphop`:"
   ]
  },
  {
   "cell_type": "code",
   "execution_count": 16,
   "metadata": {},
   "outputs": [],
   "source": [
    "# Устранение неявных дубликатов\n",
    "wrong_genres = ['hip', 'hop','hip-hop']\n",
    "correct_genre = 'hiphop'\n",
    "replace_wrong_genres(wrong_genres, correct_genre)"
   ]
  },
  {
   "cell_type": "markdown",
   "metadata": {
    "id": "zQKF16_RG15m"
   },
   "source": [
    "Проверьте, что заменили неправильные названия:\n",
    "\n",
    "*   hip\n",
    "*   hop\n",
    "*   hip-hop\n",
    "\n",
    "Выведите отсортированный список уникальных значений столбца `genre`:"
   ]
  },
  {
   "cell_type": "code",
   "execution_count": 17,
   "metadata": {
    "id": "wvixALnFG15m"
   },
   "outputs": [
    {
     "name": "stdout",
     "output_type": "stream",
     "text": [
      "['acid', 'acoustic', 'action', 'adult', 'africa', 'afrikaans', 'alternative', 'alternativepunk', 'ambient', 'americana', 'animated', 'anime', 'arabesk', 'arabic', 'arena', 'argentinetango', 'art', 'audiobook', 'author', 'avantgarde', 'axé', 'baile', 'balkan', 'beats', 'bigroom', 'black', 'bluegrass', 'blues', 'bollywood', 'bossa', 'brazilian', 'breakbeat', 'breaks', 'broadway', 'cantautori', 'cantopop', 'canzone', 'caribbean', 'caucasian', 'celtic', 'chamber', 'chanson', 'children', 'chill', 'chinese', 'choral', 'christian', 'christmas', 'classical', 'classicmetal', 'club', 'colombian', 'comedy', 'conjazz', 'contemporary', 'country', 'cuban', 'dance', 'dancehall', 'dancepop', 'dark', 'death', 'deep', 'deutschrock', 'deutschspr', 'dirty', 'disco', 'dnb', 'documentary', 'downbeat', 'downtempo', 'drum', 'dub', 'dubstep', 'eastern', 'easy', 'electronic', 'electropop', 'emo', 'entehno', 'epicmetal', 'estrada', 'ethnic', 'eurofolk', 'european', 'experimental', 'extrememetal', 'fado', 'fairytail', 'film', 'fitness', 'flamenco', 'folk', 'folklore', 'folkmetal', 'folkrock', 'folktronica', 'forró', 'frankreich', 'französisch', 'french', 'funk', 'future', 'gangsta', 'garage', 'german', 'ghazal', 'gitarre', 'glitch', 'gospel', 'gothic', 'grime', 'grunge', 'gypsy', 'handsup', \"hard'n'heavy\", 'hardcore', 'hardstyle', 'hardtechno', 'hiphop', 'historisch', 'holiday', 'horror', 'house', 'hymn', 'idm', 'independent', 'indian', 'indie', 'indipop', 'industrial', 'inspirational', 'instrumental', 'international', 'irish', 'jam', 'japanese', 'jazz', 'jewish', 'jpop', 'jungle', 'k-pop', 'karadeniz', 'karaoke', 'kayokyoku', 'korean', 'laiko', 'latin', 'latino', 'leftfield', 'local', 'lounge', 'loungeelectronic', 'lovers', 'malaysian', 'mandopop', 'marschmusik', 'meditative', 'mediterranean', 'melodic', 'metal', 'metalcore', 'mexican', 'middle', 'minimal', 'miscellaneous', 'modern', 'mood', 'mpb', 'muslim', 'native', 'neoklassik', 'neue', 'new', 'newage', 'newwave', 'nu', 'nujazz', 'numetal', 'oceania', 'old', 'opera', 'orchestral', 'other', 'piano', 'podcasts', 'pop', 'popdance', 'popelectronic', 'popeurodance', 'poprussian', 'post', 'posthardcore', 'postrock', 'power', 'progmetal', 'progressive', 'psychedelic', 'punjabi', 'punk', 'quebecois', 'ragga', 'ram', 'rancheras', 'rap', 'rave', 'reggae', 'reggaeton', 'regional', 'relax', 'religious', 'retro', 'rhythm', 'rnb', 'rnr', 'rock', 'rockabilly', 'rockalternative', 'rockindie', 'rockother', 'romance', 'roots', 'ruspop', 'rusrap', 'rusrock', 'russian', 'salsa', 'samba', 'scenic', 'schlager', 'self', 'sertanejo', 'shanson', 'shoegazing', 'showtunes', 'singer', 'ska', 'skarock', 'slow', 'smooth', 'soft', 'soul', 'soulful', 'sound', 'soundtrack', 'southern', 'specialty', 'speech', 'spiritual', 'sport', 'stonerrock', 'surf', 'swing', 'synthpop', 'synthrock', 'sängerportrait', 'tango', 'tanzorchester', 'taraftar', 'tatar', 'tech', 'techno', 'teen', 'thrash', 'top', 'traditional', 'tradjazz', 'trance', 'tribal', 'trip', 'triphop', 'tropical', 'türk', 'türkçe', 'ukrrock', 'unknown', 'urban', 'uzbek', 'variété', 'vi', 'videogame', 'vocal', 'western', 'world', 'worldbeat', 'ïîï', 'электроника']\n"
     ]
    }
   ],
   "source": [
    "# Проверка на неявные дубликаты\n",
    "print(sorted(df['genre'].unique()))"
   ]
  },
  {
   "cell_type": "markdown",
   "metadata": {
    "id": "jz6a9-7HQUDd"
   },
   "source": [
    "**Выводы**\n",
    "\n",
    "Предобработка обнаружила три проблемы в данных:\n",
    "\n",
    "- нарушения в стиле заголовков,\n",
    "- пропущенные значения,\n",
    "- дубликаты — явные и неявные.\n",
    "\n",
    "Вы исправили заголовки, чтобы упростить работу с таблицей. Без дубликатов исследование станет более точным.\n",
    "\n",
    "Пропущенные значения вы заменили на `'unknown'`. Ещё предстоит увидеть, не повредят ли исследованию пропуски в колонке `genre`.\n",
    "\n",
    "Теперь можно перейти к проверке гипотез. "
   ]
  },
  {
   "cell_type": "markdown",
   "metadata": {
    "id": "WttZHXH0SqKk"
   },
   "source": [
    "## Проверка гипотез"
   ]
  },
  {
   "cell_type": "markdown",
   "metadata": {
    "id": "Im936VVi_Zcu"
   },
   "source": [
    "### Сравнение поведения пользователей двух столиц"
   ]
  },
  {
   "cell_type": "markdown",
   "metadata": {
    "id": "nwt_MuaL_Zcu"
   },
   "source": [
    "Первая гипотеза утверждает, что пользователи по-разному слушают музыку в Москве и Санкт-Петербурге. Проверьте это предположение по данным о трёх днях недели — понедельнике, среде и пятнице. Для этого:\n",
    "\n",
    "* Разделите пользователей Москвы и Санкт-Петербурга\n",
    "* Сравните, сколько треков послушала каждая группа пользователей в понедельник, среду и пятницу.\n"
   ]
  },
  {
   "cell_type": "markdown",
   "metadata": {
    "id": "8Dw_YMmT_Zcu"
   },
   "source": [
    "Для тренировки сначала выполните каждый из расчётов по отдельности. \n",
    "\n",
    "Оцените активность пользователей в каждом городе. Сгруппируйте данные по городу и посчитайте прослушивания в каждой группе.\n",
    "\n"
   ]
  },
  {
   "cell_type": "code",
   "execution_count": 18,
   "metadata": {
    "id": "0_Qs96oh_Zcu"
   },
   "outputs": [
    {
     "name": "stdout",
     "output_type": "stream",
     "text": [
      "city\n",
      "Moscow              42741\n",
      "Saint-Petersburg    18512\n",
      "Name: user_id, dtype: int64\n"
     ]
    }
   ],
   "source": [
    "# Подсчёт прослушиваний в каждом городе\n",
    "print(df.groupby('city')['user_id'].count())"
   ]
  },
  {
   "cell_type": "markdown",
   "metadata": {
    "id": "dzli3w8o_Zcu"
   },
   "source": [
    "В Москве прослушиваний больше, чем в Петербурге. Из этого не следует, что московские пользователи чаще слушают музыку. Просто самих пользователей в Москве больше.\n",
    "\n",
    "Теперь сгруппируйте данные по дню недели и подсчитайте прослушивания в понедельник, среду и пятницу. Учтите, что в данных есть информация только о прослушиваниях только за эти дни.\n"
   ]
  },
  {
   "cell_type": "code",
   "execution_count": 19,
   "metadata": {
    "id": "uZMKjiJz_Zcu"
   },
   "outputs": [
    {
     "name": "stdout",
     "output_type": "stream",
     "text": [
      "day\n",
      "Friday       21840\n",
      "Monday       21354\n",
      "Wednesday    18059\n",
      "Name: user_id, dtype: int64\n"
     ]
    }
   ],
   "source": [
    "# Подсчёт прослушиваний в каждый из трёх дней\n",
    "print(df.groupby('day')['user_id'].count())"
   ]
  },
  {
   "cell_type": "markdown",
   "metadata": {
    "id": "cC2tNrlL_Zcu"
   },
   "source": [
    "В среднем пользователи из двух городов менее активны по средам. Но картина может измениться, если рассмотреть каждый город в отдельности."
   ]
  },
  {
   "cell_type": "markdown",
   "metadata": {
    "id": "POzs8bGa_Zcu"
   },
   "source": [
    "Вы видели, как работает группировка по городу и по дням недели. Теперь напишите функцию, которая объединит два эти расчёта.\n",
    "\n",
    "Создайте функцию `number_tracks()`, которая посчитает прослушивания для заданного дня и города. Ей понадобятся два параметра:\n",
    "* день недели,\n",
    "* название города.\n",
    "\n",
    "В функции сохраните в переменную строки исходной таблицы, у которых значение:\n",
    "  * в колонке `day` равно параметру `day`,\n",
    "  * в колонке `city` равно параметру `city`.\n",
    "\n",
    "Для этого примените последовательную фильтрацию с логической индексацией.\n",
    "\n",
    "Затем посчитайте значения в столбце `user_id` получившейся таблицы. Результат сохраните в новую переменную. Верните эту переменную из функции."
   ]
  },
  {
   "cell_type": "code",
   "execution_count": 20,
   "metadata": {
    "id": "Nz3GdQB1_Zcu"
   },
   "outputs": [],
   "source": [
    "# <создание функции number_tracks()>\n",
    "# Объявляется функция с двумя параметрами: day, city.\n",
    "# В переменной track_list сохраняются те строки таблицы df, для которых \n",
    "# значение в столбце 'day' равно параметру day и одновременно значение\n",
    "# в столбце 'city' равно параметру city (используйте последовательную фильтрацию\n",
    "# с помощью логической индексации).\n",
    "\n",
    "# В переменной track_list_count сохраняется число значений столбца 'user_id',\n",
    "# рассчитанное методом count() для таблицы track_list.\n",
    "\n",
    "# Функция возвращает число - значение track_list_count.\n",
    "\n",
    "\n",
    "# Функция для подсчёта прослушиваний для конкретного города и дня.\n",
    "# С помощью последовательной фильтрации с логической индексацией она \n",
    "# сначала получит из исходной таблицы строки с нужным днём,\n",
    "# затем из результата отфильтрует строки с нужным городом,\n",
    "# методом count() посчитает количество значений в колонке user_id. \n",
    "# Это количество функция вернёт в качестве результата\n",
    "\n",
    "def number_tracks(day, city):\n",
    "    track_list = df[df['city'] == city]\n",
    "    track_list = track_list[track_list['day'] == day]\n",
    "    track_list_count = track_list.groupby('city')['user_id'].count()\n",
    "    return track_list_count"
   ]
  },
  {
   "cell_type": "markdown",
   "metadata": {
    "id": "ytf7xFrFJQ2r"
   },
   "source": [
    "Вызовите `number_tracks()` шесть раз, меняя значение параметров — так, чтобы получить данные для каждого города в каждый из трёх дней."
   ]
  },
  {
   "cell_type": "code",
   "execution_count": 21,
   "metadata": {
    "id": "rJcRATNQ_Zcu"
   },
   "outputs": [
    {
     "data": {
      "text/plain": [
       "city\n",
       "Moscow    15740\n",
       "Name: user_id, dtype: int64"
      ]
     },
     "execution_count": 21,
     "metadata": {},
     "output_type": "execute_result"
    }
   ],
   "source": [
    "# количество прослушиваний в Москве по понедельникам\n",
    "number_tracks('Monday','Moscow')"
   ]
  },
  {
   "cell_type": "code",
   "execution_count": 22,
   "metadata": {
    "id": "hq_ncZ5T_Zcu"
   },
   "outputs": [
    {
     "data": {
      "text/plain": [
       "city\n",
       "Saint-Petersburg    5614\n",
       "Name: user_id, dtype: int64"
      ]
     },
     "execution_count": 22,
     "metadata": {},
     "output_type": "execute_result"
    }
   ],
   "source": [
    "# количество прослушиваний в Санкт-Петербурге по понедельникам\n",
    "number_tracks('Monday','Saint-Petersburg')"
   ]
  },
  {
   "cell_type": "code",
   "execution_count": 23,
   "metadata": {
    "id": "_NTy2VPU_Zcu"
   },
   "outputs": [
    {
     "data": {
      "text/plain": [
       "city\n",
       "Moscow    11056\n",
       "Name: user_id, dtype: int64"
      ]
     },
     "execution_count": 23,
     "metadata": {},
     "output_type": "execute_result"
    }
   ],
   "source": [
    "# количество прослушиваний в Москве по средам\n",
    "number_tracks('Wednesday','Moscow')"
   ]
  },
  {
   "cell_type": "code",
   "execution_count": 24,
   "metadata": {
    "id": "j2y3TAwo_Zcu"
   },
   "outputs": [
    {
     "data": {
      "text/plain": [
       "city\n",
       "Saint-Petersburg    7003\n",
       "Name: user_id, dtype: int64"
      ]
     },
     "execution_count": 24,
     "metadata": {},
     "output_type": "execute_result"
    }
   ],
   "source": [
    "# количество прослушиваний в Санкт-Петербурге по средам\n",
    "number_tracks('Wednesday','Saint-Petersburg')"
   ]
  },
  {
   "cell_type": "code",
   "execution_count": 25,
   "metadata": {
    "id": "vYDw5u_K_Zcu"
   },
   "outputs": [
    {
     "data": {
      "text/plain": [
       "city\n",
       "Moscow    15945\n",
       "Name: user_id, dtype: int64"
      ]
     },
     "execution_count": 25,
     "metadata": {},
     "output_type": "execute_result"
    }
   ],
   "source": [
    "# количество прослушиваний в Москве по пятницам\n",
    "number_tracks('Friday','Moscow')"
   ]
  },
  {
   "cell_type": "code",
   "execution_count": 26,
   "metadata": {
    "id": "8_yzFtW3_Zcu"
   },
   "outputs": [
    {
     "data": {
      "text/plain": [
       "city\n",
       "Saint-Petersburg    5895\n",
       "Name: user_id, dtype: int64"
      ]
     },
     "execution_count": 26,
     "metadata": {},
     "output_type": "execute_result"
    }
   ],
   "source": [
    "# количество прослушиваний в Санкт-Петербурге по пятницам\n",
    "number_tracks('Friday','Saint-Petersburg')"
   ]
  },
  {
   "cell_type": "markdown",
   "metadata": {
    "id": "7QXffbO-_Zcu"
   },
   "source": [
    "Создайте c помощью конструктора `pd.DataFrame` таблицу, где\n",
    "* названия колонок — `['city', 'monday', 'wednesday', 'friday']`;\n",
    "* данные — результаты, которые вы получили с помощью `number_tracks`."
   ]
  },
  {
   "cell_type": "code",
   "execution_count": 27,
   "metadata": {
    "id": "APAcLpOr_Zcu"
   },
   "outputs": [
    {
     "data": {
      "text/html": [
       "<div>\n",
       "<style scoped>\n",
       "    .dataframe tbody tr th:only-of-type {\n",
       "        vertical-align: middle;\n",
       "    }\n",
       "\n",
       "    .dataframe tbody tr th {\n",
       "        vertical-align: top;\n",
       "    }\n",
       "\n",
       "    .dataframe thead th {\n",
       "        text-align: right;\n",
       "    }\n",
       "</style>\n",
       "<table border=\"1\" class=\"dataframe\">\n",
       "  <thead>\n",
       "    <tr style=\"text-align: right;\">\n",
       "      <th></th>\n",
       "      <th>city</th>\n",
       "      <th>monday</th>\n",
       "      <th>wednesday</th>\n",
       "      <th>friday</th>\n",
       "    </tr>\n",
       "  </thead>\n",
       "  <tbody>\n",
       "    <tr>\n",
       "      <th>0</th>\n",
       "      <td>Moscow</td>\n",
       "      <td>15740</td>\n",
       "      <td>11056</td>\n",
       "      <td>15945</td>\n",
       "    </tr>\n",
       "    <tr>\n",
       "      <th>1</th>\n",
       "      <td>Saint-Petersburg</td>\n",
       "      <td>5614</td>\n",
       "      <td>7003</td>\n",
       "      <td>5896</td>\n",
       "    </tr>\n",
       "  </tbody>\n",
       "</table>\n",
       "</div>"
      ],
      "text/plain": [
       "               city  monday  wednesday  friday\n",
       "0            Moscow   15740      11056   15945\n",
       "1  Saint-Petersburg    5614       7003    5896"
      ]
     },
     "metadata": {},
     "output_type": "display_data"
    }
   ],
   "source": [
    "# Таблица с результатами\n",
    "header = ['city', 'monday', 'wednesday', 'friday']\n",
    "data = [['Moscow', 15740, 11056, 15945],\n",
    "        ['Saint-Petersburg', 5614, 7003, 5896]]\n",
    "\n",
    "df_group = pandas.DataFrame(data=data, columns=header)\n",
    "\n",
    "display(df_group)"
   ]
  },
  {
   "cell_type": "markdown",
   "metadata": {
    "id": "-EgPIHYu_Zcu"
   },
   "source": [
    "**Выводы**\n",
    "\n",
    "Данные показывают разницу поведения пользователей:\n",
    "\n",
    "- В Москве пик прослушиваний приходится на понедельник и пятницу, а в среду заметен спад.\n",
    "- В Петербурге, наоборот, больше слушают музыку по средам. Активность в понедельник и пятницу здесь почти в равной мере уступает среде.\n",
    "\n",
    "Значит, данные говорят в пользу первой гипотезы."
   ]
  },
  {
   "cell_type": "markdown",
   "metadata": {
    "id": "atZAxtq4_Zcu"
   },
   "source": [
    "### Музыка в начале и в конце недели"
   ]
  },
  {
   "cell_type": "markdown",
   "metadata": {
    "id": "eXrQqXFH_Zcu"
   },
   "source": [
    "Согласно второй гипотезе, утром в понедельник в Москве преобладают одни жанры, а в Петербурге — другие. Так же и вечером пятницы преобладают разные жанры — в зависимости от города."
   ]
  },
  {
   "cell_type": "markdown",
   "metadata": {
    "id": "S8UcW6Hw_Zcu"
   },
   "source": [
    "Сохраните таблицы с данными в две переменные:\n",
    "* по Москве — в `moscow_general`;\n",
    "* по Санкт-Петербургу — в `spb_general`."
   ]
  },
  {
   "cell_type": "code",
   "execution_count": 28,
   "metadata": {
    "id": "qeaFfM_P_Zcu"
   },
   "outputs": [],
   "source": [
    "# получение таблицы moscow_general из тех строк таблицы df, \n",
    "# для которых значение в столбце 'city' равно 'Moscow'\n",
    "\n",
    "moscow_general = df[df['city']=='Moscow']"
   ]
  },
  {
   "cell_type": "code",
   "execution_count": 29,
   "metadata": {
    "id": "ORaVRKto_Zcu"
   },
   "outputs": [],
   "source": [
    "# получение таблицы spb_general из тех строк таблицы df,\n",
    "# для которых значение в столбце 'city' равно 'Saint-Petersburg'\n",
    "spb_general = df[df['city']=='Saint-Petersburg']"
   ]
  },
  {
   "cell_type": "markdown",
   "metadata": {
    "id": "MEJV-CX2_Zcu"
   },
   "source": [
    "Создайте функцию `genre_weekday()` с четырьмя параметрами:\n",
    "* таблица (датафрейм) с данными,\n",
    "* день недели,\n",
    "* начальная временная метка в формате 'hh:mm', \n",
    "* последняя временная метка в формате 'hh:mm'.\n",
    "\n",
    "Функция должна вернуть информацию о топ-10 жанров тех треков, которые прослушивали в указанный день, в промежутке между двумя отметками времени."
   ]
  },
  {
   "cell_type": "code",
   "execution_count": 30,
   "metadata": {
    "id": "laJT9BYl_Zcu"
   },
   "outputs": [],
   "source": [
    "# Объявление функции genre_weekday() с параметрами table, day, time1, time2,\n",
    "# которая возвращает информацию о самых популярных жанрах в указанный день в\n",
    "# заданное время:\n",
    "\n",
    "def genre_weekday(table,day,time1,time2): \n",
    "\n",
    "# 1) в переменную genre_df сохраняются те строки переданного датафрейма table, для\n",
    "#    которых одновременно:\n",
    "#    - значение в столбце day равно значению аргумента day\n",
    "#    - значение в столбце time больше значения аргумента time1\n",
    "#    - значение в столбце time меньше значения аргумента time2\n",
    "#    Используйте последовательную фильтрацию с помощью логической индексации.\n",
    "    \n",
    "    genre_df = table[table['day'] == day]\n",
    "    genre_df = genre_df[df['time'] > time1]\n",
    "    genre_df = genre_df[df['time'] < time2]\n",
    "    \n",
    "# 2) сгруппировать датафрейм genre_df по столбцу genre, взять один из его\n",
    "#    столбцов и посчитать методом count() количество записей для каждого из\n",
    "#    присутствующих жанров, получившийся Series записать в переменную\n",
    "#    genre_df_count\n",
    "    \n",
    "    genre_df_count = genre_df.groupby('genre')['user_id'].count()\n",
    "# 3) отсортировать genre_df_count по убыванию встречаемости и сохранить\n",
    "#    в переменную genre_df_sorted\n",
    "    genre_df_sorted = genre_df_count.sort_values(ascending = False)\n",
    "# 4) вернуть Series из 10 первых значений genre_df_sorted, это будут топ-10\n",
    "#    популярных жанров (в указанный день, в заданное время)\n",
    "    return genre_df_sorted.head(10)"
   ]
  },
  {
   "cell_type": "markdown",
   "metadata": {
    "id": "la2s2_PF_Zcu"
   },
   "source": [
    "Cравните результаты функции `genre_weekday()` для Москвы и Санкт-Петербурга в понедельник утром (с 7:00 до 11:00) и в пятницу вечером (с 17:00 до 23:00):"
   ]
  },
  {
   "cell_type": "code",
   "execution_count": 31,
   "metadata": {
    "id": "yz7itPUQ_Zcu"
   },
   "outputs": [
    {
     "data": {
      "text/plain": [
       "genre\n",
       "pop            781\n",
       "dance          549\n",
       "electronic     480\n",
       "rock           474\n",
       "hiphop         286\n",
       "ruspop         186\n",
       "world          181\n",
       "rusrap         175\n",
       "alternative    164\n",
       "unknown        161\n",
       "Name: user_id, dtype: int64"
      ]
     },
     "execution_count": 31,
     "metadata": {},
     "output_type": "execute_result"
    }
   ],
   "source": [
    "# вызов функции для утра понедельника в Москве (вместо df — таблица moscow_general)\n",
    "# объекты, хранящие время, являются строками и сравниваются как строки\n",
    "# пример вызова: genre_weekday(moscow_general, 'Monday', '07:00', '11:00')\n",
    "\n",
    "genre_weekday(moscow_general,'Monday','07:00','11:00')"
   ]
  },
  {
   "cell_type": "code",
   "execution_count": 32,
   "metadata": {
    "id": "kwUcHPdy_Zcu"
   },
   "outputs": [
    {
     "data": {
      "text/plain": [
       "genre\n",
       "pop            218\n",
       "dance          182\n",
       "rock           162\n",
       "electronic     147\n",
       "hiphop          80\n",
       "ruspop          64\n",
       "alternative     58\n",
       "rusrap          55\n",
       "jazz            44\n",
       "classical       40\n",
       "Name: user_id, dtype: int64"
      ]
     },
     "execution_count": 32,
     "metadata": {},
     "output_type": "execute_result"
    }
   ],
   "source": [
    "# вызов функции для утра понедельника в Петербурге (вместо df — таблица spb_general)\n",
    "genre_weekday(spb_general,'Monday','07:00','11:00')"
   ]
  },
  {
   "cell_type": "code",
   "execution_count": 33,
   "metadata": {
    "id": "EzXVRE1o_Zcu"
   },
   "outputs": [
    {
     "data": {
      "text/plain": [
       "genre\n",
       "pop            713\n",
       "rock           517\n",
       "dance          495\n",
       "electronic     482\n",
       "hiphop         273\n",
       "world          208\n",
       "ruspop         170\n",
       "alternative    163\n",
       "classical      163\n",
       "rusrap         142\n",
       "Name: user_id, dtype: int64"
      ]
     },
     "execution_count": 33,
     "metadata": {},
     "output_type": "execute_result"
    }
   ],
   "source": [
    "# вызов функции для вечера пятницы в Москве\n",
    "genre_weekday(moscow_general,'Friday','17:00','23:00')"
   ]
  },
  {
   "cell_type": "code",
   "execution_count": 34,
   "metadata": {
    "id": "JZaEKu5v_Zcu"
   },
   "outputs": [
    {
     "data": {
      "text/plain": [
       "genre\n",
       "pop            256\n",
       "electronic     216\n",
       "rock           216\n",
       "dance          210\n",
       "hiphop          97\n",
       "alternative     63\n",
       "jazz            61\n",
       "classical       60\n",
       "rusrap          59\n",
       "world           54\n",
       "Name: user_id, dtype: int64"
      ]
     },
     "execution_count": 34,
     "metadata": {},
     "output_type": "execute_result"
    }
   ],
   "source": [
    "# вызов функции для вечера пятницы в Петербурге\n",
    "genre_weekday(spb_general,'Friday','17:00','23:00')"
   ]
  },
  {
   "cell_type": "markdown",
   "metadata": {
    "id": "wrCe4MNX_Zcu"
   },
   "source": [
    "**Выводы**\n",
    "\n",
    "Если сравнить топ-10 жанров в понедельник утром, можно сделать такие выводы:\n",
    "\n",
    "1. В Москве и Петербурге слушают похожую музыку. Единственное отличие — в московский рейтинг вошёл жанр “world”, а в петербургский — джаз и классика.\n",
    "\n",
    "2. В Москве пропущенных значений оказалось так много, что значение `'unknown'` заняло десятое место среди самых популярных жанров. Значит, пропущенные значения занимают существенную долю в данных и угрожают достоверности исследования.\n",
    "\n",
    "Вечер пятницы не меняет эту картину. Некоторые жанры поднимаются немного выше, другие спускаются, но в целом топ-10 остаётся тем же самым.\n",
    "\n",
    "Таким образом, вторая гипотеза подтвердилась лишь частично:\n",
    "* Пользователи слушают похожую музыку в начале недели и в конце.\n",
    "* Разница между Москвой и Петербургом не слишком выражена. В Москве чаще слушают русскую популярную музыку, в Петербурге — джаз.\n",
    "\n",
    "Однако пропуски в данных ставят под сомнение этот результат. В Москве их так много, что рейтинг топ-10 мог бы выглядеть иначе, если бы не утерянные  данные о жанрах."
   ]
  },
  {
   "cell_type": "markdown",
   "metadata": {
    "id": "JolODAqr_Zcu"
   },
   "source": [
    "### Жанровые предпочтения в Москве и Петербурге\n",
    "\n",
    "Гипотеза: Петербург — столица рэпа, музыку этого жанра там слушают чаще, чем в Москве.  А Москва — город контрастов, в котором, тем не менее, преобладает поп-музыка."
   ]
  },
  {
   "cell_type": "markdown",
   "metadata": {
    "id": "DlegSvaT_Zcu"
   },
   "source": [
    "Сгруппируйте таблицу `moscow_general` по жанру и посчитайте прослушивания треков каждого жанра методом `count()`. Затем отсортируйте результат в порядке убывания и сохраните его в таблице `moscow_genres`."
   ]
  },
  {
   "cell_type": "code",
   "execution_count": 35,
   "metadata": {
    "id": "r19lIPke_Zcu"
   },
   "outputs": [],
   "source": [
    "# одной строкой: группировка таблицы moscow_general по столбцу 'genre', \n",
    "# подсчёт числа значений 'genre' в этой группировке методом count(), \n",
    "# сортировка получившегося Series в порядке убыванияи сохранение в moscow_genres\n",
    "moscow_genres = moscow_general.groupby('genre')['user_id'].count()\n",
    "moscow_genres = moscow_genres.sort_values(ascending = False)"
   ]
  },
  {
   "cell_type": "markdown",
   "metadata": {
    "id": "6kMuomxTiIr8"
   },
   "source": [
    "Выведите на экран первые десять строк `moscow_genres`:"
   ]
  },
  {
   "cell_type": "code",
   "execution_count": 36,
   "metadata": {
    "id": "WhCSooF8_Zcv"
   },
   "outputs": [
    {
     "name": "stdout",
     "output_type": "stream",
     "text": [
      "genre\n",
      "pop            5892\n",
      "dance          4435\n",
      "rock           3965\n",
      "electronic     3786\n",
      "hiphop         2096\n",
      "classical      1616\n",
      "world          1432\n",
      "alternative    1379\n",
      "ruspop         1372\n",
      "rusrap         1161\n",
      "Name: user_id, dtype: int64\n"
     ]
    }
   ],
   "source": [
    "# просмотр первых 10 строк moscow_genres\n",
    "print(moscow_genres.head(10))"
   ]
  },
  {
   "cell_type": "markdown",
   "metadata": {
    "id": "cnPG2vnN_Zcv"
   },
   "source": [
    "Теперь повторите то же и для Петербурга.\n",
    "\n",
    "Сгруппируйте таблицу `spb_general` по жанру. Посчитайте прослушивания треков каждого жанра. Результат отсортируйте в порядке убывания и сохраните в таблице `spb_genres`:\n"
   ]
  },
  {
   "cell_type": "code",
   "execution_count": 37,
   "metadata": {
    "id": "gluLIpE7_Zcv"
   },
   "outputs": [],
   "source": [
    "# одной строкой: группировка таблицы spb_general по столбцу 'genre', \n",
    "# подсчёт числа значений 'genre' в этой группировке методом count(), \n",
    "# сортировка получившегося Series в порядке убывания и сохранение в spb_genres\n",
    "spb_genres = spb_general.groupby('genre')['user_id'].count()\n",
    "spb_genres = spb_genres.sort_values(ascending = False)"
   ]
  },
  {
   "cell_type": "markdown",
   "metadata": {
    "id": "5Doha_ODgyQ8"
   },
   "source": [
    "Выведите на экран первые десять строк `spb_genres`:"
   ]
  },
  {
   "cell_type": "code",
   "execution_count": 38,
   "metadata": {
    "id": "uaGJHjVU_Zcv"
   },
   "outputs": [
    {
     "name": "stdout",
     "output_type": "stream",
     "text": [
      "genre\n",
      "pop            2431\n",
      "dance          1932\n",
      "rock           1879\n",
      "electronic     1736\n",
      "hiphop          960\n",
      "alternative     649\n",
      "classical       646\n",
      "rusrap          564\n",
      "ruspop          538\n",
      "world           515\n",
      "Name: user_id, dtype: int64\n"
     ]
    }
   ],
   "source": [
    "# просмотр первых 10 строк spb_genres\n",
    "print(spb_genres.head(10))"
   ]
  },
  {
   "cell_type": "markdown",
   "metadata": {
    "id": "RY51YJYu_Zcv"
   },
   "source": [
    "**Выводы**"
   ]
  },
  {
   "cell_type": "markdown",
   "metadata": {
    "id": "nVhnJEm__Zcv"
   },
   "source": [
    "Гипотеза частично подтвердилась:\n",
    "* Поп-музыка — самый популярный жанр в Москве, как и предполагала гипотеза. Более того, в топ-10 жанров встречается близкий жанр — русская популярная музыка.\n",
    "* Вопреки ожиданиям, рэп одинаково популярен в Москве и Петербурге. \n"
   ]
  },
  {
   "cell_type": "markdown",
   "metadata": {
    "id": "ykKQ0N65_Zcv"
   },
   "source": [
    "## Итоги исследования"
   ]
  },
  {
   "cell_type": "markdown",
   "metadata": {
    "id": "tjUwbHb3_Zcv"
   },
   "source": [
    "Вы проверили три гипотезы и установили:\n",
    "\n",
    "1. День недели по-разному влияет на активность пользователей в Москве и Петербурге. \n",
    "\n",
    "Первая гипотеза полностью подтвердилась.\n",
    "\n",
    "2. Музыкальные предпочтения не сильно меняются в течение недели — будь то Москва или Петербург. Небольшие различия заметны в начале недели, по понедельникам:\n",
    "* в Москве слушают музыку жанра “world”,\n",
    "* в Петербурге — джаз и классику.\n",
    "\n",
    "Таким образом, вторая гипотеза подтвердилась лишь отчасти. Этот результат мог оказаться иным, если бы не пропуски в данных.\n",
    "\n",
    "3. Во вкусах пользователей Москвы и Петербурга больше общего чем различий. Вопреки ожиданиям, предпочтения жанров в Петербурге напоминают московские.\n",
    "\n",
    "Третья гипотеза не подтвердилась. Если различия в предпочтениях и существуют, на основной массе пользователей они незаметны.\n",
    "\n",
    "**На практике исследования содержат проверки статистических гипотез.**\n",
    "Из данных одного сервиса не всегда можно сделать вывод о всех жителях города.\n",
    "Проверки статистических гипотез покажут, насколько они достоверны, исходя из имеющихся данных. \n",
    "С методами проверок гипотез вы ещё познакомитесь в следующих темах."
   ]
  }
 ],
 "metadata": {
  "ExecuteTimeLog": [
   {
    "duration": 342,
    "start_time": "2021-12-26T07:18:56.072Z"
   },
   {
    "duration": 330,
    "start_time": "2021-12-26T07:19:08.892Z"
   },
   {
    "duration": 740,
    "start_time": "2021-12-26T07:19:12.983Z"
   },
   {
    "duration": 347,
    "start_time": "2021-12-26T07:19:49.673Z"
   },
   {
    "duration": 3,
    "start_time": "2021-12-26T07:19:55.473Z"
   },
   {
    "duration": 4,
    "start_time": "2021-12-26T07:22:20.867Z"
   },
   {
    "duration": 173,
    "start_time": "2021-12-26T07:22:36.977Z"
   },
   {
    "duration": 173,
    "start_time": "2021-12-26T07:22:41.547Z"
   },
   {
    "duration": 26,
    "start_time": "2021-12-26T07:22:46.788Z"
   },
   {
    "duration": 5,
    "start_time": "2021-12-26T07:24:36.970Z"
   },
   {
    "duration": 5,
    "start_time": "2021-12-26T07:27:00.254Z"
   },
   {
    "duration": 32,
    "start_time": "2021-12-26T07:27:16.914Z"
   },
   {
    "duration": 4,
    "start_time": "2021-12-26T07:32:35.142Z"
   },
   {
    "duration": 287,
    "start_time": "2021-12-26T07:42:19.087Z"
   },
   {
    "duration": 99,
    "start_time": "2021-12-26T07:42:32.627Z"
   },
   {
    "duration": 105,
    "start_time": "2021-12-26T07:43:07.178Z"
   },
   {
    "duration": 1114,
    "start_time": "2021-12-26T07:44:39.420Z"
   },
   {
    "duration": 62,
    "start_time": "2021-12-26T07:44:48.930Z"
   },
   {
    "duration": 6,
    "start_time": "2021-12-26T07:45:25.072Z"
   },
   {
    "duration": 91,
    "start_time": "2021-12-26T07:45:46.002Z"
   },
   {
    "duration": 21,
    "start_time": "2021-12-26T07:45:56.321Z"
   },
   {
    "duration": 4,
    "start_time": "2021-12-26T07:46:02.742Z"
   },
   {
    "duration": 117,
    "start_time": "2021-12-26T07:46:42.203Z"
   },
   {
    "duration": 26,
    "start_time": "2021-12-26T07:46:48.313Z"
   },
   {
    "duration": 22,
    "start_time": "2021-12-26T07:50:18.458Z"
   },
   {
    "duration": 23,
    "start_time": "2021-12-26T07:50:22.008Z"
   },
   {
    "duration": 23,
    "start_time": "2021-12-26T07:50:29.279Z"
   },
   {
    "duration": 58,
    "start_time": "2021-12-26T07:50:43.799Z"
   },
   {
    "duration": 17,
    "start_time": "2021-12-26T07:51:22.232Z"
   },
   {
    "duration": 17,
    "start_time": "2021-12-26T07:51:24.780Z"
   },
   {
    "duration": 34,
    "start_time": "2021-12-26T07:51:26.769Z"
   },
   {
    "duration": 21,
    "start_time": "2021-12-26T07:51:48.460Z"
   },
   {
    "duration": 33,
    "start_time": "2021-12-26T07:51:51.250Z"
   },
   {
    "duration": 81,
    "start_time": "2021-12-26T07:52:27.061Z"
   },
   {
    "duration": 100,
    "start_time": "2021-12-26T07:53:26.471Z"
   },
   {
    "duration": 76,
    "start_time": "2021-12-26T07:53:37.243Z"
   },
   {
    "duration": 8607,
    "start_time": "2021-12-26T07:55:15.836Z"
   },
   {
    "duration": 8,
    "start_time": "2021-12-26T07:55:36.820Z"
   },
   {
    "duration": 549,
    "start_time": "2021-12-26T08:06:23.712Z"
   },
   {
    "duration": 311,
    "start_time": "2021-12-26T08:07:06.284Z"
   },
   {
    "duration": 481,
    "start_time": "2021-12-26T08:07:15.683Z"
   },
   {
    "duration": 5,
    "start_time": "2021-12-26T08:07:53.114Z"
   },
   {
    "duration": 8,
    "start_time": "2021-12-26T08:08:20.284Z"
   },
   {
    "duration": 486,
    "start_time": "2021-12-26T08:08:40.268Z"
   },
   {
    "duration": 15,
    "start_time": "2021-12-26T08:08:57.867Z"
   },
   {
    "duration": 284,
    "start_time": "2021-12-26T08:09:01.676Z"
   },
   {
    "duration": 357,
    "start_time": "2021-12-26T08:09:21.246Z"
   },
   {
    "duration": 454,
    "start_time": "2021-12-26T08:09:37.917Z"
   },
   {
    "duration": 537,
    "start_time": "2021-12-26T08:10:48.839Z"
   },
   {
    "duration": 4,
    "start_time": "2021-12-26T08:11:23.322Z"
   },
   {
    "duration": 325,
    "start_time": "2021-12-26T08:11:26.960Z"
   },
   {
    "duration": 270,
    "start_time": "2021-12-26T08:11:53.520Z"
   },
   {
    "duration": 263,
    "start_time": "2021-12-26T08:12:10.891Z"
   },
   {
    "duration": 279,
    "start_time": "2021-12-26T08:12:20.251Z"
   },
   {
    "duration": 6,
    "start_time": "2021-12-26T08:13:27.543Z"
   },
   {
    "duration": 280,
    "start_time": "2021-12-26T08:13:31.557Z"
   },
   {
    "duration": 5,
    "start_time": "2021-12-26T08:16:31.073Z"
   },
   {
    "duration": 5,
    "start_time": "2021-12-26T08:16:33.378Z"
   },
   {
    "duration": 4,
    "start_time": "2021-12-26T08:16:37.178Z"
   },
   {
    "duration": 5,
    "start_time": "2021-12-26T08:17:48.989Z"
   },
   {
    "duration": 331,
    "start_time": "2021-12-26T08:17:50.949Z"
   },
   {
    "duration": 475,
    "start_time": "2021-12-26T08:18:45.691Z"
   },
   {
    "duration": 478,
    "start_time": "2021-12-26T08:19:55.373Z"
   },
   {
    "duration": 772,
    "start_time": "2021-12-26T08:20:22.394Z"
   },
   {
    "duration": 183,
    "start_time": "2021-12-26T08:20:23.169Z"
   },
   {
    "duration": 26,
    "start_time": "2021-12-26T08:20:23.356Z"
   },
   {
    "duration": 52,
    "start_time": "2021-12-26T08:20:23.385Z"
   },
   {
    "duration": 4,
    "start_time": "2021-12-26T08:20:23.440Z"
   },
   {
    "duration": 26,
    "start_time": "2021-12-26T08:20:23.447Z"
   },
   {
    "duration": 11,
    "start_time": "2021-12-26T08:20:23.476Z"
   },
   {
    "duration": 60,
    "start_time": "2021-12-26T08:20:23.490Z"
   },
   {
    "duration": 24,
    "start_time": "2021-12-26T08:20:23.553Z"
   },
   {
    "duration": 26,
    "start_time": "2021-12-26T08:20:23.580Z"
   },
   {
    "duration": 79,
    "start_time": "2021-12-26T08:20:23.624Z"
   },
   {
    "duration": 106,
    "start_time": "2021-12-26T08:20:23.705Z"
   },
   {
    "duration": 79,
    "start_time": "2021-12-26T08:20:23.813Z"
   },
   {
    "duration": 9,
    "start_time": "2021-12-26T08:20:23.894Z"
   },
   {
    "duration": 454,
    "start_time": "2021-12-26T08:20:23.924Z"
   },
   {
    "duration": -40,
    "start_time": "2021-12-26T08:20:24.422Z"
   },
   {
    "duration": -40,
    "start_time": "2021-12-26T08:20:24.424Z"
   },
   {
    "duration": -42,
    "start_time": "2021-12-26T08:20:24.428Z"
   },
   {
    "duration": -42,
    "start_time": "2021-12-26T08:20:24.431Z"
   },
   {
    "duration": -46,
    "start_time": "2021-12-26T08:20:24.437Z"
   },
   {
    "duration": -47,
    "start_time": "2021-12-26T08:20:24.440Z"
   },
   {
    "duration": -50,
    "start_time": "2021-12-26T08:20:24.444Z"
   },
   {
    "duration": -50,
    "start_time": "2021-12-26T08:20:24.446Z"
   },
   {
    "duration": -52,
    "start_time": "2021-12-26T08:20:24.449Z"
   },
   {
    "duration": -54,
    "start_time": "2021-12-26T08:20:24.452Z"
   },
   {
    "duration": -55,
    "start_time": "2021-12-26T08:20:24.455Z"
   },
   {
    "duration": -56,
    "start_time": "2021-12-26T08:20:24.457Z"
   },
   {
    "duration": -64,
    "start_time": "2021-12-26T08:20:24.466Z"
   },
   {
    "duration": -65,
    "start_time": "2021-12-26T08:20:24.469Z"
   },
   {
    "duration": -67,
    "start_time": "2021-12-26T08:20:24.472Z"
   },
   {
    "duration": -69,
    "start_time": "2021-12-26T08:20:24.475Z"
   },
   {
    "duration": -69,
    "start_time": "2021-12-26T08:20:24.477Z"
   },
   {
    "duration": -71,
    "start_time": "2021-12-26T08:20:24.480Z"
   },
   {
    "duration": -72,
    "start_time": "2021-12-26T08:20:24.483Z"
   },
   {
    "duration": -73,
    "start_time": "2021-12-26T08:20:24.485Z"
   },
   {
    "duration": -75,
    "start_time": "2021-12-26T08:20:24.488Z"
   },
   {
    "duration": -75,
    "start_time": "2021-12-26T08:20:24.490Z"
   },
   {
    "duration": -77,
    "start_time": "2021-12-26T08:20:24.493Z"
   },
   {
    "duration": 3,
    "start_time": "2021-12-26T08:21:38.786Z"
   },
   {
    "duration": 542,
    "start_time": "2021-12-26T08:22:39.397Z"
   },
   {
    "duration": 4,
    "start_time": "2021-12-26T08:27:43.688Z"
   },
   {
    "duration": 4,
    "start_time": "2021-12-26T08:27:46.922Z"
   },
   {
    "duration": 636,
    "start_time": "2021-12-26T08:27:48.923Z"
   },
   {
    "duration": 696,
    "start_time": "2021-12-26T08:28:48.542Z"
   },
   {
    "duration": 169,
    "start_time": "2021-12-26T08:28:49.240Z"
   },
   {
    "duration": 28,
    "start_time": "2021-12-26T08:28:49.412Z"
   },
   {
    "duration": 34,
    "start_time": "2021-12-26T08:28:49.443Z"
   },
   {
    "duration": 4,
    "start_time": "2021-12-26T08:28:49.479Z"
   },
   {
    "duration": 55,
    "start_time": "2021-12-26T08:28:49.486Z"
   },
   {
    "duration": 5,
    "start_time": "2021-12-26T08:28:49.544Z"
   },
   {
    "duration": 27,
    "start_time": "2021-12-26T08:28:49.555Z"
   },
   {
    "duration": 52,
    "start_time": "2021-12-26T08:28:49.586Z"
   },
   {
    "duration": 28,
    "start_time": "2021-12-26T08:28:49.640Z"
   },
   {
    "duration": 98,
    "start_time": "2021-12-26T08:28:49.670Z"
   },
   {
    "duration": 104,
    "start_time": "2021-12-26T08:28:49.770Z"
   },
   {
    "duration": 79,
    "start_time": "2021-12-26T08:28:49.877Z"
   },
   {
    "duration": 8,
    "start_time": "2021-12-26T08:28:49.958Z"
   },
   {
    "duration": 6,
    "start_time": "2021-12-26T08:28:49.968Z"
   },
   {
    "duration": 16,
    "start_time": "2021-12-26T08:28:49.976Z"
   },
   {
    "duration": 32,
    "start_time": "2021-12-26T08:28:49.994Z"
   },
   {
    "duration": 3,
    "start_time": "2021-12-26T08:28:50.028Z"
   },
   {
    "duration": 7,
    "start_time": "2021-12-26T08:28:50.033Z"
   },
   {
    "duration": 7,
    "start_time": "2021-12-26T08:28:50.042Z"
   },
   {
    "duration": 6,
    "start_time": "2021-12-26T08:28:50.051Z"
   },
   {
    "duration": 7,
    "start_time": "2021-12-26T08:28:50.059Z"
   },
   {
    "duration": 3,
    "start_time": "2021-12-26T08:28:50.071Z"
   },
   {
    "duration": 5,
    "start_time": "2021-12-26T08:28:50.077Z"
   },
   {
    "duration": 7,
    "start_time": "2021-12-26T08:28:50.124Z"
   },
   {
    "duration": 5,
    "start_time": "2021-12-26T08:28:50.133Z"
   },
   {
    "duration": 6,
    "start_time": "2021-12-26T08:28:50.141Z"
   },
   {
    "duration": 5,
    "start_time": "2021-12-26T08:28:50.149Z"
   },
   {
    "duration": 7,
    "start_time": "2021-12-26T08:28:50.157Z"
   },
   {
    "duration": 7,
    "start_time": "2021-12-26T08:28:50.166Z"
   },
   {
    "duration": 48,
    "start_time": "2021-12-26T08:28:50.175Z"
   },
   {
    "duration": 3,
    "start_time": "2021-12-26T08:28:50.225Z"
   },
   {
    "duration": 5,
    "start_time": "2021-12-26T08:28:50.231Z"
   },
   {
    "duration": 8,
    "start_time": "2021-12-26T08:28:50.239Z"
   },
   {
    "duration": 6,
    "start_time": "2021-12-26T08:28:50.249Z"
   },
   {
    "duration": 5,
    "start_time": "2021-12-26T08:28:50.257Z"
   },
   {
    "duration": 6,
    "start_time": "2021-12-26T08:28:50.264Z"
   },
   {
    "duration": 6,
    "start_time": "2021-12-26T08:28:50.272Z"
   },
   {
    "duration": 6,
    "start_time": "2021-12-26T08:28:50.280Z"
   },
   {
    "duration": 8,
    "start_time": "2021-12-26T08:29:57.515Z"
   },
   {
    "duration": 702,
    "start_time": "2021-12-26T08:39:24.408Z"
   },
   {
    "duration": 8,
    "start_time": "2021-12-26T08:40:12.290Z"
   },
   {
    "duration": 8,
    "start_time": "2021-12-26T08:41:09.601Z"
   },
   {
    "duration": 3,
    "start_time": "2021-12-26T08:41:17.761Z"
   },
   {
    "duration": 9,
    "start_time": "2021-12-26T08:41:31.892Z"
   },
   {
    "duration": 10,
    "start_time": "2021-12-26T08:43:06.224Z"
   },
   {
    "duration": 10,
    "start_time": "2021-12-26T08:44:10.516Z"
   },
   {
    "duration": 4,
    "start_time": "2021-12-26T08:47:27.111Z"
   },
   {
    "duration": 3,
    "start_time": "2021-12-26T08:47:38.841Z"
   },
   {
    "duration": 380,
    "start_time": "2021-12-26T08:47:52.261Z"
   },
   {
    "duration": 5,
    "start_time": "2021-12-26T08:48:04.491Z"
   },
   {
    "duration": 13,
    "start_time": "2021-12-26T08:50:51.356Z"
   },
   {
    "duration": 689,
    "start_time": "2021-12-26T08:51:18.236Z"
   },
   {
    "duration": 14,
    "start_time": "2021-12-26T08:51:33.766Z"
   },
   {
    "duration": 13,
    "start_time": "2021-12-26T08:51:48.847Z"
   },
   {
    "duration": 409,
    "start_time": "2021-12-26T08:54:08.651Z"
   },
   {
    "duration": 84,
    "start_time": "2021-12-26T08:54:13.341Z"
   },
   {
    "duration": 13,
    "start_time": "2021-12-26T08:54:50.252Z"
   },
   {
    "duration": 456,
    "start_time": "2021-12-26T09:06:48.010Z"
   },
   {
    "duration": 5,
    "start_time": "2021-12-26T09:06:59.460Z"
   },
   {
    "duration": 580,
    "start_time": "2021-12-26T09:08:33.712Z"
   },
   {
    "duration": 5,
    "start_time": "2021-12-26T09:08:53.621Z"
   },
   {
    "duration": 596,
    "start_time": "2021-12-26T09:08:57.783Z"
   },
   {
    "duration": 572,
    "start_time": "2021-12-26T09:09:19.465Z"
   },
   {
    "duration": 139,
    "start_time": "2021-12-26T09:12:19.048Z"
   },
   {
    "duration": 5,
    "start_time": "2021-12-26T09:12:35.568Z"
   },
   {
    "duration": 566,
    "start_time": "2021-12-26T09:12:38.448Z"
   },
   {
    "duration": 106,
    "start_time": "2021-12-26T09:14:46.651Z"
   },
   {
    "duration": 137,
    "start_time": "2021-12-26T09:15:01.572Z"
   },
   {
    "duration": 119,
    "start_time": "2021-12-26T09:15:34.842Z"
   },
   {
    "duration": 88,
    "start_time": "2021-12-26T09:15:50.773Z"
   },
   {
    "duration": 674,
    "start_time": "2021-12-26T09:16:05.184Z"
   },
   {
    "duration": 5,
    "start_time": "2021-12-26T09:16:15.564Z"
   },
   {
    "duration": 1200,
    "start_time": "2021-12-26T09:16:47.094Z"
   },
   {
    "duration": 295,
    "start_time": "2021-12-26T09:17:02.160Z"
   },
   {
    "duration": 589,
    "start_time": "2021-12-26T09:17:38.707Z"
   },
   {
    "duration": 596,
    "start_time": "2021-12-26T09:17:53.987Z"
   },
   {
    "duration": 5,
    "start_time": "2021-12-26T09:20:45.230Z"
   },
   {
    "duration": 614,
    "start_time": "2021-12-26T09:20:47.300Z"
   },
   {
    "duration": 5,
    "start_time": "2021-12-26T09:21:59.082Z"
   },
   {
    "duration": 545,
    "start_time": "2021-12-26T09:22:26.084Z"
   },
   {
    "duration": 550,
    "start_time": "2021-12-26T09:22:47.643Z"
   },
   {
    "duration": 640,
    "start_time": "2021-12-26T09:23:32.814Z"
   },
   {
    "duration": 7,
    "start_time": "2021-12-26T09:23:36.892Z"
   },
   {
    "duration": 4,
    "start_time": "2021-12-26T09:24:37.616Z"
   },
   {
    "duration": 24,
    "start_time": "2021-12-26T09:24:47.956Z"
   },
   {
    "duration": 5,
    "start_time": "2021-12-26T09:25:22.417Z"
   },
   {
    "duration": 33,
    "start_time": "2021-12-26T09:25:24.297Z"
   },
   {
    "duration": 25,
    "start_time": "2021-12-26T09:26:08.459Z"
   },
   {
    "duration": 3,
    "start_time": "2021-12-26T09:26:31.339Z"
   },
   {
    "duration": 30,
    "start_time": "2021-12-26T09:26:41.748Z"
   },
   {
    "duration": 5,
    "start_time": "2021-12-26T09:27:27.930Z"
   },
   {
    "duration": 88,
    "start_time": "2021-12-26T09:27:29.740Z"
   },
   {
    "duration": 52,
    "start_time": "2021-12-26T09:27:37.590Z"
   },
   {
    "duration": 5,
    "start_time": "2021-12-26T09:27:56.971Z"
   },
   {
    "duration": 75,
    "start_time": "2021-12-26T09:28:00.431Z"
   },
   {
    "duration": 5,
    "start_time": "2021-12-26T09:28:45.052Z"
   },
   {
    "duration": 722,
    "start_time": "2021-12-26T09:28:48.122Z"
   },
   {
    "duration": 5,
    "start_time": "2021-12-26T09:29:00.363Z"
   },
   {
    "duration": 5,
    "start_time": "2021-12-26T09:29:39.063Z"
   },
   {
    "duration": 595,
    "start_time": "2021-12-26T09:29:42.253Z"
   },
   {
    "duration": 4,
    "start_time": "2021-12-26T09:30:02.534Z"
   },
   {
    "duration": 76,
    "start_time": "2021-12-26T09:30:05.214Z"
   },
   {
    "duration": 565,
    "start_time": "2021-12-26T09:30:16.364Z"
   },
   {
    "duration": 65,
    "start_time": "2021-12-26T09:30:25.294Z"
   },
   {
    "duration": 6,
    "start_time": "2021-12-26T09:30:39.577Z"
   },
   {
    "duration": 32,
    "start_time": "2021-12-26T09:30:41.724Z"
   },
   {
    "duration": 701,
    "start_time": "2021-12-26T09:30:54.378Z"
   },
   {
    "duration": 165,
    "start_time": "2021-12-26T09:30:55.082Z"
   },
   {
    "duration": 28,
    "start_time": "2021-12-26T09:30:55.249Z"
   },
   {
    "duration": 57,
    "start_time": "2021-12-26T09:30:55.280Z"
   },
   {
    "duration": 4,
    "start_time": "2021-12-26T09:30:55.345Z"
   },
   {
    "duration": 34,
    "start_time": "2021-12-26T09:30:55.352Z"
   },
   {
    "duration": 12,
    "start_time": "2021-12-26T09:30:55.389Z"
   },
   {
    "duration": 39,
    "start_time": "2021-12-26T09:30:55.405Z"
   },
   {
    "duration": 27,
    "start_time": "2021-12-26T09:30:55.447Z"
   },
   {
    "duration": 48,
    "start_time": "2021-12-26T09:30:55.477Z"
   },
   {
    "duration": 103,
    "start_time": "2021-12-26T09:30:55.528Z"
   },
   {
    "duration": 109,
    "start_time": "2021-12-26T09:30:55.634Z"
   },
   {
    "duration": 104,
    "start_time": "2021-12-26T09:30:55.746Z"
   },
   {
    "duration": 11,
    "start_time": "2021-12-26T09:30:55.853Z"
   },
   {
    "duration": 4,
    "start_time": "2021-12-26T09:30:55.867Z"
   },
   {
    "duration": 16,
    "start_time": "2021-12-26T09:30:55.874Z"
   },
   {
    "duration": 36,
    "start_time": "2021-12-26T09:30:55.893Z"
   },
   {
    "duration": 16,
    "start_time": "2021-12-26T09:30:55.932Z"
   },
   {
    "duration": 13,
    "start_time": "2021-12-26T09:30:55.951Z"
   },
   {
    "duration": 7,
    "start_time": "2021-12-26T09:30:55.966Z"
   },
   {
    "duration": 71,
    "start_time": "2021-12-26T09:30:55.975Z"
   },
   {
    "duration": 25,
    "start_time": "2021-12-26T09:30:56.048Z"
   },
   {
    "duration": 55,
    "start_time": "2021-12-26T09:30:56.078Z"
   },
   {
    "duration": 3,
    "start_time": "2021-12-26T09:30:56.136Z"
   },
   {
    "duration": 7,
    "start_time": "2021-12-26T09:30:56.141Z"
   },
   {
    "duration": 5,
    "start_time": "2021-12-26T09:30:56.150Z"
   },
   {
    "duration": 6,
    "start_time": "2021-12-26T09:30:56.157Z"
   },
   {
    "duration": 6,
    "start_time": "2021-12-26T09:30:56.166Z"
   },
   {
    "duration": 6,
    "start_time": "2021-12-26T09:30:56.175Z"
   },
   {
    "duration": 40,
    "start_time": "2021-12-26T09:30:56.183Z"
   },
   {
    "duration": 8,
    "start_time": "2021-12-26T09:30:56.226Z"
   },
   {
    "duration": 7,
    "start_time": "2021-12-26T09:30:56.237Z"
   },
   {
    "duration": 10,
    "start_time": "2021-12-26T09:30:56.247Z"
   },
   {
    "duration": 20,
    "start_time": "2021-12-26T09:30:56.260Z"
   },
   {
    "duration": 9,
    "start_time": "2021-12-26T09:30:56.283Z"
   },
   {
    "duration": 11,
    "start_time": "2021-12-26T09:30:56.294Z"
   },
   {
    "duration": 16,
    "start_time": "2021-12-26T09:30:56.307Z"
   },
   {
    "duration": 9,
    "start_time": "2021-12-26T09:30:56.326Z"
   },
   {
    "duration": 5,
    "start_time": "2021-12-26T09:33:10.522Z"
   },
   {
    "duration": 37,
    "start_time": "2021-12-26T09:33:12.973Z"
   },
   {
    "duration": 32,
    "start_time": "2021-12-26T09:34:23.045Z"
   },
   {
    "duration": 6,
    "start_time": "2021-12-26T09:34:26.906Z"
   },
   {
    "duration": 30,
    "start_time": "2021-12-26T09:34:29.074Z"
   },
   {
    "duration": 21,
    "start_time": "2021-12-26T09:34:41.305Z"
   },
   {
    "duration": 25,
    "start_time": "2021-12-26T09:34:45.134Z"
   },
   {
    "duration": 26,
    "start_time": "2021-12-26T09:35:09.625Z"
   },
   {
    "duration": 19,
    "start_time": "2021-12-26T09:35:22.935Z"
   },
   {
    "duration": 20,
    "start_time": "2021-12-26T09:35:29.136Z"
   },
   {
    "duration": 27,
    "start_time": "2021-12-26T09:35:48.886Z"
   },
   {
    "duration": 23,
    "start_time": "2021-12-26T09:36:31.429Z"
   },
   {
    "duration": 420,
    "start_time": "2021-12-26T09:41:10.911Z"
   },
   {
    "duration": 306,
    "start_time": "2021-12-26T09:41:43.327Z"
   },
   {
    "duration": 297,
    "start_time": "2021-12-26T09:41:58.795Z"
   },
   {
    "duration": 12,
    "start_time": "2021-12-26T09:44:31.430Z"
   },
   {
    "duration": -96,
    "start_time": "2021-12-26T09:58:38.156Z"
   },
   {
    "duration": -53,
    "start_time": "2021-12-26T10:00:17.696Z"
   },
   {
    "duration": -60,
    "start_time": "2021-12-26T10:00:17.705Z"
   },
   {
    "duration": 746,
    "start_time": "2021-12-26T10:01:00.115Z"
   },
   {
    "duration": 182,
    "start_time": "2021-12-26T10:01:00.864Z"
   },
   {
    "duration": 26,
    "start_time": "2021-12-26T10:01:01.049Z"
   },
   {
    "duration": 52,
    "start_time": "2021-12-26T10:01:01.078Z"
   },
   {
    "duration": 4,
    "start_time": "2021-12-26T10:01:01.133Z"
   },
   {
    "duration": 37,
    "start_time": "2021-12-26T10:01:01.139Z"
   },
   {
    "duration": 11,
    "start_time": "2021-12-26T10:01:01.179Z"
   },
   {
    "duration": 57,
    "start_time": "2021-12-26T10:01:01.194Z"
   },
   {
    "duration": 27,
    "start_time": "2021-12-26T10:01:01.254Z"
   },
   {
    "duration": 40,
    "start_time": "2021-12-26T10:01:01.284Z"
   },
   {
    "duration": 110,
    "start_time": "2021-12-26T10:01:01.326Z"
   },
   {
    "duration": 108,
    "start_time": "2021-12-26T10:01:01.439Z"
   },
   {
    "duration": 78,
    "start_time": "2021-12-26T10:01:01.550Z"
   },
   {
    "duration": 7,
    "start_time": "2021-12-26T10:01:01.631Z"
   },
   {
    "duration": 9,
    "start_time": "2021-12-26T10:01:01.641Z"
   },
   {
    "duration": 20,
    "start_time": "2021-12-26T10:01:01.652Z"
   },
   {
    "duration": 11,
    "start_time": "2021-12-26T10:01:01.675Z"
   },
   {
    "duration": 39,
    "start_time": "2021-12-26T10:01:01.689Z"
   },
   {
    "duration": 12,
    "start_time": "2021-12-26T10:01:01.731Z"
   },
   {
    "duration": 4,
    "start_time": "2021-12-26T10:01:01.746Z"
   },
   {
    "duration": 34,
    "start_time": "2021-12-26T10:01:01.753Z"
   },
   {
    "duration": 47,
    "start_time": "2021-12-26T10:01:01.789Z"
   },
   {
    "duration": 27,
    "start_time": "2021-12-26T10:01:01.843Z"
   },
   {
    "duration": 50,
    "start_time": "2021-12-26T10:01:01.873Z"
   },
   {
    "duration": 28,
    "start_time": "2021-12-26T10:01:01.925Z"
   },
   {
    "duration": 20,
    "start_time": "2021-12-26T10:01:01.956Z"
   },
   {
    "duration": 11,
    "start_time": "2021-12-26T10:01:01.978Z"
   },
   {
    "duration": 7678,
    "start_time": "2021-12-26T10:01:01.991Z"
   },
   {
    "duration": -74,
    "start_time": "2021-12-26T10:01:09.746Z"
   },
   {
    "duration": -80,
    "start_time": "2021-12-26T10:01:09.753Z"
   },
   {
    "duration": -83,
    "start_time": "2021-12-26T10:01:09.758Z"
   },
   {
    "duration": -85,
    "start_time": "2021-12-26T10:01:09.761Z"
   },
   {
    "duration": -86,
    "start_time": "2021-12-26T10:01:09.764Z"
   },
   {
    "duration": -90,
    "start_time": "2021-12-26T10:01:09.769Z"
   },
   {
    "duration": -93,
    "start_time": "2021-12-26T10:01:09.774Z"
   },
   {
    "duration": -98,
    "start_time": "2021-12-26T10:01:09.780Z"
   },
   {
    "duration": -102,
    "start_time": "2021-12-26T10:01:09.786Z"
   },
   {
    "duration": -105,
    "start_time": "2021-12-26T10:01:09.790Z"
   },
   {
    "duration": 291,
    "start_time": "2021-12-26T10:02:10.736Z"
   },
   {
    "duration": 23,
    "start_time": "2021-12-26T10:02:17.336Z"
   },
   {
    "duration": 28,
    "start_time": "2021-12-26T10:02:26.486Z"
   },
   {
    "duration": 13,
    "start_time": "2021-12-26T10:03:18.127Z"
   },
   {
    "duration": 414,
    "start_time": "2021-12-26T10:03:33.959Z"
   },
   {
    "duration": 19,
    "start_time": "2021-12-26T10:03:42.938Z"
   },
   {
    "duration": 22,
    "start_time": "2021-12-26T10:03:51.598Z"
   },
   {
    "duration": 12,
    "start_time": "2021-12-26T10:04:01.415Z"
   },
   {
    "duration": 97,
    "start_time": "2021-12-26T10:21:14.795Z"
   },
   {
    "duration": 5,
    "start_time": "2021-12-26T10:21:27.825Z"
   },
   {
    "duration": 6,
    "start_time": "2021-12-26T10:21:43.005Z"
   },
   {
    "duration": 5,
    "start_time": "2021-12-26T10:21:47.006Z"
   },
   {
    "duration": 5,
    "start_time": "2021-12-26T10:21:52.416Z"
   },
   {
    "duration": 5,
    "start_time": "2021-12-26T10:22:25.517Z"
   },
   {
    "duration": 8,
    "start_time": "2021-12-26T10:22:28.136Z"
   },
   {
    "duration": 5,
    "start_time": "2021-12-26T10:22:34.537Z"
   },
   {
    "duration": 5,
    "start_time": "2021-12-26T10:23:46.909Z"
   },
   {
    "duration": 731,
    "start_time": "2021-12-26T10:23:57.050Z"
   },
   {
    "duration": 177,
    "start_time": "2021-12-26T10:23:57.784Z"
   },
   {
    "duration": 27,
    "start_time": "2021-12-26T10:23:57.969Z"
   },
   {
    "duration": 48,
    "start_time": "2021-12-26T10:23:58.023Z"
   },
   {
    "duration": 6,
    "start_time": "2021-12-26T10:23:58.074Z"
   },
   {
    "duration": 58,
    "start_time": "2021-12-26T10:23:58.082Z"
   },
   {
    "duration": 11,
    "start_time": "2021-12-26T10:23:58.143Z"
   },
   {
    "duration": 43,
    "start_time": "2021-12-26T10:23:58.161Z"
   },
   {
    "duration": 29,
    "start_time": "2021-12-26T10:23:58.225Z"
   },
   {
    "duration": 31,
    "start_time": "2021-12-26T10:23:58.256Z"
   },
   {
    "duration": 114,
    "start_time": "2021-12-26T10:23:58.290Z"
   },
   {
    "duration": 102,
    "start_time": "2021-12-26T10:23:58.406Z"
   },
   {
    "duration": 78,
    "start_time": "2021-12-26T10:23:58.511Z"
   },
   {
    "duration": 8,
    "start_time": "2021-12-26T10:23:58.592Z"
   },
   {
    "duration": 5,
    "start_time": "2021-12-26T10:23:58.624Z"
   },
   {
    "duration": 32,
    "start_time": "2021-12-26T10:23:58.633Z"
   },
   {
    "duration": 10,
    "start_time": "2021-12-26T10:23:58.668Z"
   },
   {
    "duration": 24,
    "start_time": "2021-12-26T10:23:58.681Z"
   },
   {
    "duration": 31,
    "start_time": "2021-12-26T10:23:58.708Z"
   },
   {
    "duration": 8,
    "start_time": "2021-12-26T10:23:58.743Z"
   },
   {
    "duration": 48,
    "start_time": "2021-12-26T10:23:58.754Z"
   },
   {
    "duration": 43,
    "start_time": "2021-12-26T10:23:58.805Z"
   },
   {
    "duration": 35,
    "start_time": "2021-12-26T10:23:58.851Z"
   },
   {
    "duration": 48,
    "start_time": "2021-12-26T10:23:58.889Z"
   },
   {
    "duration": 35,
    "start_time": "2021-12-26T10:23:58.940Z"
   },
   {
    "duration": 57,
    "start_time": "2021-12-26T10:23:58.982Z"
   },
   {
    "duration": 16,
    "start_time": "2021-12-26T10:23:59.042Z"
   },
   {
    "duration": 19,
    "start_time": "2021-12-26T10:23:59.061Z"
   },
   {
    "duration": 45,
    "start_time": "2021-12-26T10:23:59.083Z"
   },
   {
    "duration": 6,
    "start_time": "2021-12-26T10:23:59.131Z"
   },
   {
    "duration": 9,
    "start_time": "2021-12-26T10:23:59.140Z"
   },
   {
    "duration": 8,
    "start_time": "2021-12-26T10:23:59.151Z"
   },
   {
    "duration": 5,
    "start_time": "2021-12-26T10:23:59.161Z"
   },
   {
    "duration": 10,
    "start_time": "2021-12-26T10:23:59.168Z"
   },
   {
    "duration": 5,
    "start_time": "2021-12-26T10:23:59.180Z"
   },
   {
    "duration": 35,
    "start_time": "2021-12-26T10:23:59.188Z"
   },
   {
    "duration": 7,
    "start_time": "2021-12-26T10:23:59.226Z"
   },
   {
    "duration": 15,
    "start_time": "2021-12-26T10:23:59.236Z"
   },
   {
    "duration": 6,
    "start_time": "2021-12-26T10:25:13.963Z"
   },
   {
    "duration": 7,
    "start_time": "2021-12-26T10:25:16.783Z"
   },
   {
    "duration": 6,
    "start_time": "2021-12-26T10:25:20.473Z"
   },
   {
    "duration": 360,
    "start_time": "2021-12-26T10:25:39.503Z"
   },
   {
    "duration": 297,
    "start_time": "2021-12-26T10:25:58.055Z"
   },
   {
    "duration": 7,
    "start_time": "2021-12-26T10:26:20.984Z"
   },
   {
    "duration": 9,
    "start_time": "2021-12-26T10:29:42.201Z"
   },
   {
    "duration": 1027,
    "start_time": "2021-12-26T10:30:51.840Z"
   },
   {
    "duration": 846,
    "start_time": "2021-12-26T10:31:36.917Z"
   },
   {
    "duration": 6,
    "start_time": "2021-12-26T10:31:50.433Z"
   },
   {
    "duration": 696,
    "start_time": "2021-12-26T10:31:59.860Z"
   },
   {
    "duration": 168,
    "start_time": "2021-12-26T10:32:00.559Z"
   },
   {
    "duration": 25,
    "start_time": "2021-12-26T10:32:00.731Z"
   },
   {
    "duration": 32,
    "start_time": "2021-12-26T10:32:00.759Z"
   },
   {
    "duration": 31,
    "start_time": "2021-12-26T10:32:00.794Z"
   },
   {
    "duration": 42,
    "start_time": "2021-12-26T10:32:00.827Z"
   },
   {
    "duration": 12,
    "start_time": "2021-12-26T10:32:00.871Z"
   },
   {
    "duration": 46,
    "start_time": "2021-12-26T10:32:00.887Z"
   },
   {
    "duration": 24,
    "start_time": "2021-12-26T10:32:00.936Z"
   },
   {
    "duration": 39,
    "start_time": "2021-12-26T10:32:00.962Z"
   },
   {
    "duration": 98,
    "start_time": "2021-12-26T10:32:01.004Z"
   },
   {
    "duration": 102,
    "start_time": "2021-12-26T10:32:01.105Z"
   },
   {
    "duration": 79,
    "start_time": "2021-12-26T10:32:01.210Z"
   },
   {
    "duration": 8,
    "start_time": "2021-12-26T10:32:01.292Z"
   },
   {
    "duration": 7,
    "start_time": "2021-12-26T10:32:01.325Z"
   },
   {
    "duration": 30,
    "start_time": "2021-12-26T10:32:01.334Z"
   },
   {
    "duration": 17,
    "start_time": "2021-12-26T10:32:01.367Z"
   },
   {
    "duration": 30,
    "start_time": "2021-12-26T10:32:01.386Z"
   },
   {
    "duration": 16,
    "start_time": "2021-12-26T10:32:01.418Z"
   },
   {
    "duration": 28,
    "start_time": "2021-12-26T10:32:01.436Z"
   },
   {
    "duration": 68,
    "start_time": "2021-12-26T10:32:01.466Z"
   },
   {
    "duration": 37,
    "start_time": "2021-12-26T10:32:01.537Z"
   },
   {
    "duration": 38,
    "start_time": "2021-12-26T10:32:01.579Z"
   },
   {
    "duration": 28,
    "start_time": "2021-12-26T10:32:01.620Z"
   },
   {
    "duration": 42,
    "start_time": "2021-12-26T10:32:01.650Z"
   },
   {
    "duration": 30,
    "start_time": "2021-12-26T10:32:01.694Z"
   },
   {
    "duration": 13,
    "start_time": "2021-12-26T10:32:01.727Z"
   },
   {
    "duration": 37,
    "start_time": "2021-12-26T10:32:01.743Z"
   },
   {
    "duration": 23,
    "start_time": "2021-12-26T10:32:01.783Z"
   },
   {
    "duration": 12,
    "start_time": "2021-12-26T10:32:01.809Z"
   },
   {
    "duration": 71,
    "start_time": "2021-12-26T10:32:01.823Z"
   },
   {
    "duration": 4,
    "start_time": "2021-12-26T10:32:01.897Z"
   },
   {
    "duration": 44,
    "start_time": "2021-12-26T10:32:01.904Z"
   },
   {
    "duration": 18,
    "start_time": "2021-12-26T10:32:01.951Z"
   },
   {
    "duration": 39,
    "start_time": "2021-12-26T10:32:01.971Z"
   },
   {
    "duration": 56,
    "start_time": "2021-12-26T10:32:02.012Z"
   },
   {
    "duration": 19,
    "start_time": "2021-12-26T10:32:02.071Z"
   },
   {
    "duration": 29,
    "start_time": "2021-12-26T10:32:02.092Z"
   },
   {
    "duration": 29,
    "start_time": "2021-12-26T10:35:25.796Z"
   },
   {
    "duration": 4,
    "start_time": "2021-12-26T10:36:38.558Z"
   },
   {
    "duration": 33,
    "start_time": "2021-12-26T10:37:14.578Z"
   },
   {
    "duration": 31,
    "start_time": "2021-12-26T10:37:18.100Z"
   },
   {
    "duration": 349,
    "start_time": "2021-12-26T10:43:29.587Z"
   },
   {
    "duration": 13,
    "start_time": "2021-12-26T10:43:37.728Z"
   },
   {
    "duration": 5,
    "start_time": "2021-12-26T10:43:40.907Z"
   },
   {
    "duration": 365,
    "start_time": "2021-12-26T10:44:50.289Z"
   },
   {
    "duration": 9,
    "start_time": "2021-12-26T10:44:52.820Z"
   },
   {
    "duration": 5,
    "start_time": "2021-12-26T10:44:54.679Z"
   },
   {
    "duration": 1783,
    "start_time": "2021-12-27T08:57:10.782Z"
   },
   {
    "duration": 194,
    "start_time": "2021-12-27T08:57:12.570Z"
   },
   {
    "duration": 28,
    "start_time": "2021-12-27T08:57:12.768Z"
   },
   {
    "duration": 32,
    "start_time": "2021-12-27T08:57:12.800Z"
   },
   {
    "duration": 32,
    "start_time": "2021-12-27T08:57:12.834Z"
   },
   {
    "duration": 32,
    "start_time": "2021-12-27T08:57:12.872Z"
   },
   {
    "duration": 5,
    "start_time": "2021-12-27T08:57:12.907Z"
   },
   {
    "duration": 69,
    "start_time": "2021-12-27T08:57:12.916Z"
   },
   {
    "duration": 22,
    "start_time": "2021-12-27T08:57:12.988Z"
   },
   {
    "duration": 55,
    "start_time": "2021-12-27T08:57:13.013Z"
   },
   {
    "duration": 94,
    "start_time": "2021-12-27T08:57:13.072Z"
   },
   {
    "duration": 127,
    "start_time": "2021-12-27T08:57:13.169Z"
   },
   {
    "duration": 92,
    "start_time": "2021-12-27T08:57:13.299Z"
   },
   {
    "duration": 8,
    "start_time": "2021-12-27T08:57:13.394Z"
   },
   {
    "duration": 4,
    "start_time": "2021-12-27T08:57:13.404Z"
   },
   {
    "duration": 17,
    "start_time": "2021-12-27T08:57:13.410Z"
   },
   {
    "duration": 35,
    "start_time": "2021-12-27T08:57:13.429Z"
   },
   {
    "duration": 27,
    "start_time": "2021-12-27T08:57:13.468Z"
   },
   {
    "duration": 12,
    "start_time": "2021-12-27T08:57:13.498Z"
   },
   {
    "duration": 4,
    "start_time": "2021-12-27T08:57:13.513Z"
   },
   {
    "duration": 67,
    "start_time": "2021-12-27T08:57:13.519Z"
   },
   {
    "duration": 21,
    "start_time": "2021-12-27T08:57:13.588Z"
   },
   {
    "duration": 63,
    "start_time": "2021-12-27T08:57:13.615Z"
   },
   {
    "duration": 22,
    "start_time": "2021-12-27T08:57:13.682Z"
   },
   {
    "duration": 57,
    "start_time": "2021-12-27T08:57:13.707Z"
   },
   {
    "duration": 27,
    "start_time": "2021-12-27T08:57:13.768Z"
   },
   {
    "duration": 11,
    "start_time": "2021-12-27T08:57:13.797Z"
   },
   {
    "duration": 14,
    "start_time": "2021-12-27T08:57:13.811Z"
   },
   {
    "duration": 46,
    "start_time": "2021-12-27T08:57:13.828Z"
   },
   {
    "duration": 6,
    "start_time": "2021-12-27T08:57:13.877Z"
   },
   {
    "duration": 40,
    "start_time": "2021-12-27T08:57:13.885Z"
   },
   {
    "duration": 64,
    "start_time": "2021-12-27T08:57:13.927Z"
   },
   {
    "duration": 33,
    "start_time": "2021-12-27T08:57:13.994Z"
   },
   {
    "duration": 64,
    "start_time": "2021-12-27T08:57:14.030Z"
   },
   {
    "duration": 11,
    "start_time": "2021-12-27T08:57:14.096Z"
   },
   {
    "duration": 5,
    "start_time": "2021-12-27T08:57:14.110Z"
   },
   {
    "duration": 12,
    "start_time": "2021-12-27T08:57:14.117Z"
   },
   {
    "duration": 6,
    "start_time": "2021-12-27T08:57:14.163Z"
   }
  ],
  "colab": {
   "collapsed_sections": [
    "E0vqbgi9ay0H",
    "VUC88oWjTJw2"
   ],
   "name": "yandex_music_project_2021.2.ipynb",
   "provenance": []
  },
  "kernelspec": {
   "display_name": "Python 3 (ipykernel)",
   "language": "python",
   "name": "python3"
  },
  "language_info": {
   "codemirror_mode": {
    "name": "ipython",
    "version": 3
   },
   "file_extension": ".py",
   "mimetype": "text/x-python",
   "name": "python",
   "nbconvert_exporter": "python",
   "pygments_lexer": "ipython3",
   "version": "3.9.7"
  },
  "toc": {
   "base_numbering": 1,
   "nav_menu": {},
   "number_sections": true,
   "sideBar": true,
   "skip_h1_title": true,
   "title_cell": "Table of Contents",
   "title_sidebar": "Contents",
   "toc_cell": false,
   "toc_position": {},
   "toc_section_display": true,
   "toc_window_display": true
  }
 },
 "nbformat": 4,
 "nbformat_minor": 1
}
