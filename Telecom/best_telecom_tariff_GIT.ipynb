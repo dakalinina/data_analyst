{
 "cells": [
  {
   "cell_type": "markdown",
   "metadata": {},
   "source": [
    "# Определение выгодного тарифа для телеком компании"
   ]
  },
  {
   "cell_type": "markdown",
   "metadata": {},
   "source": [
    "## Изучение данных из файла"
   ]
  },
  {
   "cell_type": "code",
   "execution_count": 1,
   "metadata": {
    "scrolled": true
   },
   "outputs": [
    {
     "data": {
      "text/html": [
       "<div>\n",
       "<style scoped>\n",
       "    .dataframe tbody tr th:only-of-type {\n",
       "        vertical-align: middle;\n",
       "    }\n",
       "\n",
       "    .dataframe tbody tr th {\n",
       "        vertical-align: top;\n",
       "    }\n",
       "\n",
       "    .dataframe thead th {\n",
       "        text-align: right;\n",
       "    }\n",
       "</style>\n",
       "<table border=\"1\" class=\"dataframe\">\n",
       "  <thead>\n",
       "    <tr style=\"text-align: right;\">\n",
       "      <th></th>\n",
       "      <th>id</th>\n",
       "      <th>call_date</th>\n",
       "      <th>duration</th>\n",
       "      <th>user_id</th>\n",
       "    </tr>\n",
       "  </thead>\n",
       "  <tbody>\n",
       "    <tr>\n",
       "      <th>0</th>\n",
       "      <td>1000_0</td>\n",
       "      <td>2018-07-25</td>\n",
       "      <td>0.00</td>\n",
       "      <td>1000</td>\n",
       "    </tr>\n",
       "    <tr>\n",
       "      <th>1</th>\n",
       "      <td>1000_1</td>\n",
       "      <td>2018-08-17</td>\n",
       "      <td>0.00</td>\n",
       "      <td>1000</td>\n",
       "    </tr>\n",
       "    <tr>\n",
       "      <th>2</th>\n",
       "      <td>1000_2</td>\n",
       "      <td>2018-06-11</td>\n",
       "      <td>2.85</td>\n",
       "      <td>1000</td>\n",
       "    </tr>\n",
       "    <tr>\n",
       "      <th>3</th>\n",
       "      <td>1000_3</td>\n",
       "      <td>2018-09-21</td>\n",
       "      <td>13.80</td>\n",
       "      <td>1000</td>\n",
       "    </tr>\n",
       "    <tr>\n",
       "      <th>4</th>\n",
       "      <td>1000_4</td>\n",
       "      <td>2018-12-15</td>\n",
       "      <td>5.18</td>\n",
       "      <td>1000</td>\n",
       "    </tr>\n",
       "  </tbody>\n",
       "</table>\n",
       "</div>"
      ],
      "text/plain": [
       "       id   call_date  duration  user_id\n",
       "0  1000_0  2018-07-25      0.00     1000\n",
       "1  1000_1  2018-08-17      0.00     1000\n",
       "2  1000_2  2018-06-11      2.85     1000\n",
       "3  1000_3  2018-09-21     13.80     1000\n",
       "4  1000_4  2018-12-15      5.18     1000"
      ]
     },
     "metadata": {},
     "output_type": "display_data"
    }
   ],
   "source": [
    "import pandas as pd\n",
    "import matplotlib.pyplot as plt\n",
    "import numpy as np\n",
    "from scipy import stats as st\n",
    "\n",
    "data_calls = pd.read_csv('/Users/dasakalinina/Desktop/Practicum/_all_projects/Telecom/calls.csv')\n",
    "display(data_calls.head(5))\n",
    "pd.options.display.max_columns = 100"
   ]
  },
  {
   "cell_type": "code",
   "execution_count": 2,
   "metadata": {
    "scrolled": true
   },
   "outputs": [
    {
     "name": "stdout",
     "output_type": "stream",
     "text": [
      "<class 'pandas.core.frame.DataFrame'>\n",
      "RangeIndex: 202607 entries, 0 to 202606\n",
      "Data columns (total 4 columns):\n",
      " #   Column     Non-Null Count   Dtype  \n",
      "---  ------     --------------   -----  \n",
      " 0   id         202607 non-null  object \n",
      " 1   call_date  202607 non-null  object \n",
      " 2   duration   202607 non-null  float64\n",
      " 3   user_id    202607 non-null  int64  \n",
      "dtypes: float64(1), int64(1), object(2)\n",
      "memory usage: 6.2+ MB\n"
     ]
    }
   ],
   "source": [
    "data_calls.info()"
   ]
  },
  {
   "cell_type": "markdown",
   "metadata": {},
   "source": [
    "Таблица со звонками состоит из 202607 строк, явных пропусков данных нет."
   ]
  },
  {
   "cell_type": "code",
   "execution_count": 3,
   "metadata": {},
   "outputs": [
    {
     "name": "stdout",
     "output_type": "stream",
     "text": [
      "Общее число дубликатов: 0\n",
      "Общее число пропущенных значений: id           0\n",
      "call_date    0\n",
      "duration     0\n",
      "user_id      0\n",
      "dtype: int64\n"
     ]
    }
   ],
   "source": [
    "#проверяю дубликаты\n",
    "print('Общее число дубликатов:', data_calls.duplicated().sum())\n",
    "\n",
    "#проверяю пропуски\n",
    "print('Общее число пропущенных значений:', data_calls.isna().sum())"
   ]
  },
  {
   "cell_type": "markdown",
   "metadata": {},
   "source": [
    "Явных пропусков данных и явных дубликатов не обнаружено."
   ]
  },
  {
   "cell_type": "code",
   "execution_count": 4,
   "metadata": {
    "scrolled": true
   },
   "outputs": [
    {
     "data": {
      "text/html": [
       "<div>\n",
       "<style scoped>\n",
       "    .dataframe tbody tr th:only-of-type {\n",
       "        vertical-align: middle;\n",
       "    }\n",
       "\n",
       "    .dataframe tbody tr th {\n",
       "        vertical-align: top;\n",
       "    }\n",
       "\n",
       "    .dataframe thead th {\n",
       "        text-align: right;\n",
       "    }\n",
       "</style>\n",
       "<table border=\"1\" class=\"dataframe\">\n",
       "  <thead>\n",
       "    <tr style=\"text-align: right;\">\n",
       "      <th></th>\n",
       "      <th>Unnamed: 0</th>\n",
       "      <th>id</th>\n",
       "      <th>mb_used</th>\n",
       "      <th>session_date</th>\n",
       "      <th>user_id</th>\n",
       "    </tr>\n",
       "  </thead>\n",
       "  <tbody>\n",
       "    <tr>\n",
       "      <th>0</th>\n",
       "      <td>0</td>\n",
       "      <td>1000_0</td>\n",
       "      <td>112.95</td>\n",
       "      <td>2018-11-25</td>\n",
       "      <td>1000</td>\n",
       "    </tr>\n",
       "    <tr>\n",
       "      <th>1</th>\n",
       "      <td>1</td>\n",
       "      <td>1000_1</td>\n",
       "      <td>1052.81</td>\n",
       "      <td>2018-09-07</td>\n",
       "      <td>1000</td>\n",
       "    </tr>\n",
       "    <tr>\n",
       "      <th>2</th>\n",
       "      <td>2</td>\n",
       "      <td>1000_2</td>\n",
       "      <td>1197.26</td>\n",
       "      <td>2018-06-25</td>\n",
       "      <td>1000</td>\n",
       "    </tr>\n",
       "    <tr>\n",
       "      <th>3</th>\n",
       "      <td>3</td>\n",
       "      <td>1000_3</td>\n",
       "      <td>550.27</td>\n",
       "      <td>2018-08-22</td>\n",
       "      <td>1000</td>\n",
       "    </tr>\n",
       "    <tr>\n",
       "      <th>4</th>\n",
       "      <td>4</td>\n",
       "      <td>1000_4</td>\n",
       "      <td>302.56</td>\n",
       "      <td>2018-09-24</td>\n",
       "      <td>1000</td>\n",
       "    </tr>\n",
       "  </tbody>\n",
       "</table>\n",
       "</div>"
      ],
      "text/plain": [
       "   Unnamed: 0      id  mb_used session_date  user_id\n",
       "0           0  1000_0   112.95   2018-11-25     1000\n",
       "1           1  1000_1  1052.81   2018-09-07     1000\n",
       "2           2  1000_2  1197.26   2018-06-25     1000\n",
       "3           3  1000_3   550.27   2018-08-22     1000\n",
       "4           4  1000_4   302.56   2018-09-24     1000"
      ]
     },
     "metadata": {},
     "output_type": "display_data"
    }
   ],
   "source": [
    "data_internet = pd.read_csv('/Users/dasakalinina/Desktop/Practicum/_all_projects/Telecom/internet.csv')\n",
    "display(data_internet.head(5))"
   ]
  },
  {
   "cell_type": "code",
   "execution_count": 5,
   "metadata": {},
   "outputs": [
    {
     "name": "stdout",
     "output_type": "stream",
     "text": [
      "<class 'pandas.core.frame.DataFrame'>\n",
      "RangeIndex: 149396 entries, 0 to 149395\n",
      "Data columns (total 5 columns):\n",
      " #   Column        Non-Null Count   Dtype  \n",
      "---  ------        --------------   -----  \n",
      " 0   Unnamed: 0    149396 non-null  int64  \n",
      " 1   id            149396 non-null  object \n",
      " 2   mb_used       149396 non-null  float64\n",
      " 3   session_date  149396 non-null  object \n",
      " 4   user_id       149396 non-null  int64  \n",
      "dtypes: float64(1), int64(2), object(2)\n",
      "memory usage: 5.7+ MB\n"
     ]
    }
   ],
   "source": [
    "data_internet.info()"
   ]
  },
  {
   "cell_type": "code",
   "execution_count": 6,
   "metadata": {},
   "outputs": [
    {
     "name": "stdout",
     "output_type": "stream",
     "text": [
      "Общее число дубликатов: 0\n",
      "Общее число пропущенных значений: Unnamed: 0      0\n",
      "id              0\n",
      "mb_used         0\n",
      "session_date    0\n",
      "user_id         0\n",
      "dtype: int64\n"
     ]
    }
   ],
   "source": [
    "#проверяю дубликаты\n",
    "print('Общее число дубликатов:', data_internet.duplicated().sum())\n",
    "\n",
    "#проверяю пропуски\n",
    "print('Общее число пропущенных значений:', data_internet.isna().sum())"
   ]
  },
  {
   "cell_type": "markdown",
   "metadata": {},
   "source": [
    "Таблица с интернет-трафиком состоит из 149 396 строк, явных пропусков данных и дубликатов не обнаружено."
   ]
  },
  {
   "cell_type": "code",
   "execution_count": 7,
   "metadata": {
    "scrolled": true
   },
   "outputs": [
    {
     "data": {
      "text/html": [
       "<div>\n",
       "<style scoped>\n",
       "    .dataframe tbody tr th:only-of-type {\n",
       "        vertical-align: middle;\n",
       "    }\n",
       "\n",
       "    .dataframe tbody tr th {\n",
       "        vertical-align: top;\n",
       "    }\n",
       "\n",
       "    .dataframe thead th {\n",
       "        text-align: right;\n",
       "    }\n",
       "</style>\n",
       "<table border=\"1\" class=\"dataframe\">\n",
       "  <thead>\n",
       "    <tr style=\"text-align: right;\">\n",
       "      <th></th>\n",
       "      <th>id</th>\n",
       "      <th>message_date</th>\n",
       "      <th>user_id</th>\n",
       "    </tr>\n",
       "  </thead>\n",
       "  <tbody>\n",
       "    <tr>\n",
       "      <th>0</th>\n",
       "      <td>1000_0</td>\n",
       "      <td>2018-06-27</td>\n",
       "      <td>1000</td>\n",
       "    </tr>\n",
       "    <tr>\n",
       "      <th>1</th>\n",
       "      <td>1000_1</td>\n",
       "      <td>2018-10-08</td>\n",
       "      <td>1000</td>\n",
       "    </tr>\n",
       "    <tr>\n",
       "      <th>2</th>\n",
       "      <td>1000_2</td>\n",
       "      <td>2018-08-04</td>\n",
       "      <td>1000</td>\n",
       "    </tr>\n",
       "    <tr>\n",
       "      <th>3</th>\n",
       "      <td>1000_3</td>\n",
       "      <td>2018-06-16</td>\n",
       "      <td>1000</td>\n",
       "    </tr>\n",
       "    <tr>\n",
       "      <th>4</th>\n",
       "      <td>1000_4</td>\n",
       "      <td>2018-12-05</td>\n",
       "      <td>1000</td>\n",
       "    </tr>\n",
       "  </tbody>\n",
       "</table>\n",
       "</div>"
      ],
      "text/plain": [
       "       id message_date  user_id\n",
       "0  1000_0   2018-06-27     1000\n",
       "1  1000_1   2018-10-08     1000\n",
       "2  1000_2   2018-08-04     1000\n",
       "3  1000_3   2018-06-16     1000\n",
       "4  1000_4   2018-12-05     1000"
      ]
     },
     "metadata": {},
     "output_type": "display_data"
    }
   ],
   "source": [
    "data_messages = pd.read_csv('/Users/dasakalinina/Desktop/Practicum/_all_projects/Telecom/messages.csv')\n",
    "display(data_messages.head(5))"
   ]
  },
  {
   "cell_type": "code",
   "execution_count": 8,
   "metadata": {},
   "outputs": [
    {
     "name": "stdout",
     "output_type": "stream",
     "text": [
      "<class 'pandas.core.frame.DataFrame'>\n",
      "RangeIndex: 123036 entries, 0 to 123035\n",
      "Data columns (total 3 columns):\n",
      " #   Column        Non-Null Count   Dtype \n",
      "---  ------        --------------   ----- \n",
      " 0   id            123036 non-null  object\n",
      " 1   message_date  123036 non-null  object\n",
      " 2   user_id       123036 non-null  int64 \n",
      "dtypes: int64(1), object(2)\n",
      "memory usage: 2.8+ MB\n",
      "Общее число дубликатов: 0\n",
      "Общее число пропущенных значений: id              0\n",
      "message_date    0\n",
      "user_id         0\n",
      "dtype: int64\n"
     ]
    }
   ],
   "source": [
    "data_messages.info()\n",
    "#проверяю дубликаты\n",
    "print('Общее число дубликатов:', data_messages.duplicated().sum())\n",
    "\n",
    "#проверяю пропуски\n",
    "print('Общее число пропущенных значений:', data_messages.isna().sum())"
   ]
  },
  {
   "cell_type": "markdown",
   "metadata": {},
   "source": [
    "Таблица с сообщениями состоит из 123 036 строк, явных пропусков данных и дубликатов не обнаружено"
   ]
  },
  {
   "cell_type": "code",
   "execution_count": 9,
   "metadata": {},
   "outputs": [
    {
     "data": {
      "text/html": [
       "<div>\n",
       "<style scoped>\n",
       "    .dataframe tbody tr th:only-of-type {\n",
       "        vertical-align: middle;\n",
       "    }\n",
       "\n",
       "    .dataframe tbody tr th {\n",
       "        vertical-align: top;\n",
       "    }\n",
       "\n",
       "    .dataframe thead th {\n",
       "        text-align: right;\n",
       "    }\n",
       "</style>\n",
       "<table border=\"1\" class=\"dataframe\">\n",
       "  <thead>\n",
       "    <tr style=\"text-align: right;\">\n",
       "      <th></th>\n",
       "      <th>messages_included</th>\n",
       "      <th>mb_per_month_included</th>\n",
       "      <th>minutes_included</th>\n",
       "      <th>rub_monthly_fee</th>\n",
       "      <th>rub_per_gb</th>\n",
       "      <th>rub_per_message</th>\n",
       "      <th>rub_per_minute</th>\n",
       "      <th>tariff_name</th>\n",
       "    </tr>\n",
       "  </thead>\n",
       "  <tbody>\n",
       "    <tr>\n",
       "      <th>0</th>\n",
       "      <td>50</td>\n",
       "      <td>15360</td>\n",
       "      <td>500</td>\n",
       "      <td>550</td>\n",
       "      <td>200</td>\n",
       "      <td>3</td>\n",
       "      <td>3</td>\n",
       "      <td>smart</td>\n",
       "    </tr>\n",
       "    <tr>\n",
       "      <th>1</th>\n",
       "      <td>1000</td>\n",
       "      <td>30720</td>\n",
       "      <td>3000</td>\n",
       "      <td>1950</td>\n",
       "      <td>150</td>\n",
       "      <td>1</td>\n",
       "      <td>1</td>\n",
       "      <td>ultra</td>\n",
       "    </tr>\n",
       "  </tbody>\n",
       "</table>\n",
       "</div>"
      ],
      "text/plain": [
       "   messages_included  mb_per_month_included  minutes_included  \\\n",
       "0                 50                  15360               500   \n",
       "1               1000                  30720              3000   \n",
       "\n",
       "   rub_monthly_fee  rub_per_gb  rub_per_message  rub_per_minute tariff_name  \n",
       "0              550         200                3               3       smart  \n",
       "1             1950         150                1               1       ultra  "
      ]
     },
     "metadata": {},
     "output_type": "display_data"
    }
   ],
   "source": [
    "data_tariffs = pd.read_csv('/Users/dasakalinina/Desktop/Practicum/_all_projects/Telecom/tariffs.csv')\n",
    "display(data_tariffs)"
   ]
  },
  {
   "cell_type": "code",
   "execution_count": 10,
   "metadata": {
    "scrolled": true
   },
   "outputs": [
    {
     "data": {
      "text/html": [
       "<div>\n",
       "<style scoped>\n",
       "    .dataframe tbody tr th:only-of-type {\n",
       "        vertical-align: middle;\n",
       "    }\n",
       "\n",
       "    .dataframe tbody tr th {\n",
       "        vertical-align: top;\n",
       "    }\n",
       "\n",
       "    .dataframe thead th {\n",
       "        text-align: right;\n",
       "    }\n",
       "</style>\n",
       "<table border=\"1\" class=\"dataframe\">\n",
       "  <thead>\n",
       "    <tr style=\"text-align: right;\">\n",
       "      <th></th>\n",
       "      <th>user_id</th>\n",
       "      <th>age</th>\n",
       "      <th>churn_date</th>\n",
       "      <th>city</th>\n",
       "      <th>first_name</th>\n",
       "      <th>last_name</th>\n",
       "      <th>reg_date</th>\n",
       "      <th>tariff</th>\n",
       "    </tr>\n",
       "  </thead>\n",
       "  <tbody>\n",
       "    <tr>\n",
       "      <th>0</th>\n",
       "      <td>1000</td>\n",
       "      <td>52</td>\n",
       "      <td>NaN</td>\n",
       "      <td>Краснодар</td>\n",
       "      <td>Рафаил</td>\n",
       "      <td>Верещагин</td>\n",
       "      <td>2018-05-25</td>\n",
       "      <td>ultra</td>\n",
       "    </tr>\n",
       "    <tr>\n",
       "      <th>1</th>\n",
       "      <td>1001</td>\n",
       "      <td>41</td>\n",
       "      <td>NaN</td>\n",
       "      <td>Москва</td>\n",
       "      <td>Иван</td>\n",
       "      <td>Ежов</td>\n",
       "      <td>2018-11-01</td>\n",
       "      <td>smart</td>\n",
       "    </tr>\n",
       "    <tr>\n",
       "      <th>2</th>\n",
       "      <td>1002</td>\n",
       "      <td>59</td>\n",
       "      <td>NaN</td>\n",
       "      <td>Стерлитамак</td>\n",
       "      <td>Евгений</td>\n",
       "      <td>Абрамович</td>\n",
       "      <td>2018-06-17</td>\n",
       "      <td>smart</td>\n",
       "    </tr>\n",
       "    <tr>\n",
       "      <th>3</th>\n",
       "      <td>1003</td>\n",
       "      <td>23</td>\n",
       "      <td>NaN</td>\n",
       "      <td>Москва</td>\n",
       "      <td>Белла</td>\n",
       "      <td>Белякова</td>\n",
       "      <td>2018-08-17</td>\n",
       "      <td>ultra</td>\n",
       "    </tr>\n",
       "    <tr>\n",
       "      <th>4</th>\n",
       "      <td>1004</td>\n",
       "      <td>68</td>\n",
       "      <td>NaN</td>\n",
       "      <td>Новокузнецк</td>\n",
       "      <td>Татьяна</td>\n",
       "      <td>Авдеенко</td>\n",
       "      <td>2018-05-14</td>\n",
       "      <td>ultra</td>\n",
       "    </tr>\n",
       "  </tbody>\n",
       "</table>\n",
       "</div>"
      ],
      "text/plain": [
       "   user_id  age churn_date         city first_name  last_name    reg_date  \\\n",
       "0     1000   52        NaN    Краснодар     Рафаил  Верещагин  2018-05-25   \n",
       "1     1001   41        NaN       Москва       Иван       Ежов  2018-11-01   \n",
       "2     1002   59        NaN  Стерлитамак    Евгений  Абрамович  2018-06-17   \n",
       "3     1003   23        NaN       Москва      Белла   Белякова  2018-08-17   \n",
       "4     1004   68        NaN  Новокузнецк    Татьяна   Авдеенко  2018-05-14   \n",
       "\n",
       "  tariff  \n",
       "0  ultra  \n",
       "1  smart  \n",
       "2  smart  \n",
       "3  ultra  \n",
       "4  ultra  "
      ]
     },
     "metadata": {},
     "output_type": "display_data"
    }
   ],
   "source": [
    "data_users = pd.read_csv('/Users/dasakalinina/Desktop/Practicum/_all_projects/Telecom/users.csv')\n",
    "display(data_users.head(5))"
   ]
  },
  {
   "cell_type": "code",
   "execution_count": 11,
   "metadata": {},
   "outputs": [
    {
     "name": "stdout",
     "output_type": "stream",
     "text": [
      "<class 'pandas.core.frame.DataFrame'>\n",
      "RangeIndex: 500 entries, 0 to 499\n",
      "Data columns (total 8 columns):\n",
      " #   Column      Non-Null Count  Dtype \n",
      "---  ------      --------------  ----- \n",
      " 0   user_id     500 non-null    int64 \n",
      " 1   age         500 non-null    int64 \n",
      " 2   churn_date  38 non-null     object\n",
      " 3   city        500 non-null    object\n",
      " 4   first_name  500 non-null    object\n",
      " 5   last_name   500 non-null    object\n",
      " 6   reg_date    500 non-null    object\n",
      " 7   tariff      500 non-null    object\n",
      "dtypes: int64(2), object(6)\n",
      "memory usage: 31.4+ KB\n",
      "Общее число дубликатов: 0\n",
      "Общее число пропущенных значений: user_id         0\n",
      "age             0\n",
      "churn_date    462\n",
      "city            0\n",
      "first_name      0\n",
      "last_name       0\n",
      "reg_date        0\n",
      "tariff          0\n",
      "dtype: int64\n"
     ]
    }
   ],
   "source": [
    "data_users.info()\n",
    "\n",
    "#проверяю дубликаты\n",
    "print('Общее число дубликатов:', data_users.duplicated().sum())\n",
    "\n",
    "#проверяю пропуски\n",
    "print('Общее число пропущенных значений:', data_users.isna().sum())"
   ]
  },
  {
   "cell_type": "markdown",
   "metadata": {},
   "source": [
    "Из 500 пользователей 462 продолжают пользоваться различными тарифами оператора, 38 закрыли договор."
   ]
  },
  {
   "cell_type": "markdown",
   "metadata": {},
   "source": [
    "## Предобработка данных"
   ]
  },
  {
   "cell_type": "markdown",
   "metadata": {},
   "source": [
    "Изменяем тип данных object в столбцах с датой.\n",
    "Добавляем столбец с месяцем и годом во все таблицы, для которых релевантно."
   ]
  },
  {
   "cell_type": "code",
   "execution_count": 12,
   "metadata": {},
   "outputs": [
    {
     "data": {
      "text/html": [
       "<div>\n",
       "<style scoped>\n",
       "    .dataframe tbody tr th:only-of-type {\n",
       "        vertical-align: middle;\n",
       "    }\n",
       "\n",
       "    .dataframe tbody tr th {\n",
       "        vertical-align: top;\n",
       "    }\n",
       "\n",
       "    .dataframe thead th {\n",
       "        text-align: right;\n",
       "    }\n",
       "</style>\n",
       "<table border=\"1\" class=\"dataframe\">\n",
       "  <thead>\n",
       "    <tr style=\"text-align: right;\">\n",
       "      <th></th>\n",
       "      <th>id</th>\n",
       "      <th>call_date</th>\n",
       "      <th>duration</th>\n",
       "      <th>user_id</th>\n",
       "      <th>month</th>\n",
       "      <th>year</th>\n",
       "    </tr>\n",
       "  </thead>\n",
       "  <tbody>\n",
       "    <tr>\n",
       "      <th>0</th>\n",
       "      <td>1000_0</td>\n",
       "      <td>2018-07-25</td>\n",
       "      <td>0.0</td>\n",
       "      <td>1000</td>\n",
       "      <td>7</td>\n",
       "      <td>2018</td>\n",
       "    </tr>\n",
       "    <tr>\n",
       "      <th>1</th>\n",
       "      <td>1000_1</td>\n",
       "      <td>2018-08-17</td>\n",
       "      <td>0.0</td>\n",
       "      <td>1000</td>\n",
       "      <td>8</td>\n",
       "      <td>2018</td>\n",
       "    </tr>\n",
       "    <tr>\n",
       "      <th>2</th>\n",
       "      <td>1000_2</td>\n",
       "      <td>2018-06-11</td>\n",
       "      <td>3.0</td>\n",
       "      <td>1000</td>\n",
       "      <td>6</td>\n",
       "      <td>2018</td>\n",
       "    </tr>\n",
       "    <tr>\n",
       "      <th>3</th>\n",
       "      <td>1000_3</td>\n",
       "      <td>2018-09-21</td>\n",
       "      <td>14.0</td>\n",
       "      <td>1000</td>\n",
       "      <td>9</td>\n",
       "      <td>2018</td>\n",
       "    </tr>\n",
       "    <tr>\n",
       "      <th>4</th>\n",
       "      <td>1000_4</td>\n",
       "      <td>2018-12-15</td>\n",
       "      <td>6.0</td>\n",
       "      <td>1000</td>\n",
       "      <td>12</td>\n",
       "      <td>2018</td>\n",
       "    </tr>\n",
       "  </tbody>\n",
       "</table>\n",
       "</div>"
      ],
      "text/plain": [
       "       id  call_date  duration  user_id  month  year\n",
       "0  1000_0 2018-07-25       0.0     1000      7  2018\n",
       "1  1000_1 2018-08-17       0.0     1000      8  2018\n",
       "2  1000_2 2018-06-11       3.0     1000      6  2018\n",
       "3  1000_3 2018-09-21      14.0     1000      9  2018\n",
       "4  1000_4 2018-12-15       6.0     1000     12  2018"
      ]
     },
     "metadata": {},
     "output_type": "display_data"
    },
    {
     "name": "stdout",
     "output_type": "stream",
     "text": [
      "<class 'pandas.core.frame.DataFrame'>\n",
      "RangeIndex: 202607 entries, 0 to 202606\n",
      "Data columns (total 6 columns):\n",
      " #   Column     Non-Null Count   Dtype         \n",
      "---  ------     --------------   -----         \n",
      " 0   id         202607 non-null  object        \n",
      " 1   call_date  202607 non-null  datetime64[ns]\n",
      " 2   duration   202607 non-null  float64       \n",
      " 3   user_id    202607 non-null  int64         \n",
      " 4   month      202607 non-null  int64         \n",
      " 5   year       202607 non-null  int64         \n",
      "dtypes: datetime64[ns](1), float64(1), int64(3), object(1)\n",
      "memory usage: 9.3+ MB\n"
     ]
    }
   ],
   "source": [
    "#заменяем дату звонка на формат даты\n",
    "data_calls['call_date'] = pd.to_datetime(data_calls['call_date'], format='%Y-%m-%dT%H:%M:%S')\n",
    "data_calls['month']=data_calls['call_date'].dt.month\n",
    "data_calls['year']=data_calls['call_date'].dt.year\n",
    "#каждый звонок округляется отдельно: даже если он длился всего 1 секунду, будет засчитан как 1 минута. \n",
    "#Поэтому округляем каждый звонок до минут.\n",
    "data_calls['duration']=np.ceil(data_calls['duration'])\n",
    "display(data_calls.head())\n",
    "data_calls.info()"
   ]
  },
  {
   "cell_type": "code",
   "execution_count": 13,
   "metadata": {},
   "outputs": [
    {
     "data": {
      "text/html": [
       "<div>\n",
       "<style scoped>\n",
       "    .dataframe tbody tr th:only-of-type {\n",
       "        vertical-align: middle;\n",
       "    }\n",
       "\n",
       "    .dataframe tbody tr th {\n",
       "        vertical-align: top;\n",
       "    }\n",
       "\n",
       "    .dataframe thead th {\n",
       "        text-align: right;\n",
       "    }\n",
       "</style>\n",
       "<table border=\"1\" class=\"dataframe\">\n",
       "  <thead>\n",
       "    <tr style=\"text-align: right;\">\n",
       "      <th></th>\n",
       "      <th>Unnamed: 0</th>\n",
       "      <th>id</th>\n",
       "      <th>mb_used</th>\n",
       "      <th>session_date</th>\n",
       "      <th>user_id</th>\n",
       "      <th>month</th>\n",
       "      <th>year</th>\n",
       "    </tr>\n",
       "  </thead>\n",
       "  <tbody>\n",
       "    <tr>\n",
       "      <th>0</th>\n",
       "      <td>0</td>\n",
       "      <td>1000_0</td>\n",
       "      <td>112.95</td>\n",
       "      <td>2018-11-25</td>\n",
       "      <td>1000</td>\n",
       "      <td>11</td>\n",
       "      <td>2018</td>\n",
       "    </tr>\n",
       "    <tr>\n",
       "      <th>1</th>\n",
       "      <td>1</td>\n",
       "      <td>1000_1</td>\n",
       "      <td>1052.81</td>\n",
       "      <td>2018-09-07</td>\n",
       "      <td>1000</td>\n",
       "      <td>9</td>\n",
       "      <td>2018</td>\n",
       "    </tr>\n",
       "    <tr>\n",
       "      <th>2</th>\n",
       "      <td>2</td>\n",
       "      <td>1000_2</td>\n",
       "      <td>1197.26</td>\n",
       "      <td>2018-06-25</td>\n",
       "      <td>1000</td>\n",
       "      <td>6</td>\n",
       "      <td>2018</td>\n",
       "    </tr>\n",
       "    <tr>\n",
       "      <th>3</th>\n",
       "      <td>3</td>\n",
       "      <td>1000_3</td>\n",
       "      <td>550.27</td>\n",
       "      <td>2018-08-22</td>\n",
       "      <td>1000</td>\n",
       "      <td>8</td>\n",
       "      <td>2018</td>\n",
       "    </tr>\n",
       "    <tr>\n",
       "      <th>4</th>\n",
       "      <td>4</td>\n",
       "      <td>1000_4</td>\n",
       "      <td>302.56</td>\n",
       "      <td>2018-09-24</td>\n",
       "      <td>1000</td>\n",
       "      <td>9</td>\n",
       "      <td>2018</td>\n",
       "    </tr>\n",
       "  </tbody>\n",
       "</table>\n",
       "</div>"
      ],
      "text/plain": [
       "   Unnamed: 0      id  mb_used session_date  user_id  month  year\n",
       "0           0  1000_0   112.95   2018-11-25     1000     11  2018\n",
       "1           1  1000_1  1052.81   2018-09-07     1000      9  2018\n",
       "2           2  1000_2  1197.26   2018-06-25     1000      6  2018\n",
       "3           3  1000_3   550.27   2018-08-22     1000      8  2018\n",
       "4           4  1000_4   302.56   2018-09-24     1000      9  2018"
      ]
     },
     "metadata": {},
     "output_type": "display_data"
    },
    {
     "name": "stdout",
     "output_type": "stream",
     "text": [
      "<class 'pandas.core.frame.DataFrame'>\n",
      "RangeIndex: 149396 entries, 0 to 149395\n",
      "Data columns (total 7 columns):\n",
      " #   Column        Non-Null Count   Dtype         \n",
      "---  ------        --------------   -----         \n",
      " 0   Unnamed: 0    149396 non-null  int64         \n",
      " 1   id            149396 non-null  object        \n",
      " 2   mb_used       149396 non-null  float64       \n",
      " 3   session_date  149396 non-null  datetime64[ns]\n",
      " 4   user_id       149396 non-null  int64         \n",
      " 5   month         149396 non-null  int64         \n",
      " 6   year          149396 non-null  int64         \n",
      "dtypes: datetime64[ns](1), float64(1), int64(4), object(1)\n",
      "memory usage: 8.0+ MB\n"
     ]
    }
   ],
   "source": [
    "#заменяем дату сессии на формат даты\n",
    "data_internet['session_date'] = pd.to_datetime(data_internet['session_date'], format='%Y-%m-%dT%H:%M:%S')\n",
    "data_internet['month']=data_internet['session_date'].dt.month\n",
    "data_internet['year']=data_internet['session_date'].dt.year\n",
    "display(data_internet.head())\n",
    "data_internet.info()"
   ]
  },
  {
   "cell_type": "code",
   "execution_count": 14,
   "metadata": {},
   "outputs": [
    {
     "data": {
      "text/html": [
       "<div>\n",
       "<style scoped>\n",
       "    .dataframe tbody tr th:only-of-type {\n",
       "        vertical-align: middle;\n",
       "    }\n",
       "\n",
       "    .dataframe tbody tr th {\n",
       "        vertical-align: top;\n",
       "    }\n",
       "\n",
       "    .dataframe thead th {\n",
       "        text-align: right;\n",
       "    }\n",
       "</style>\n",
       "<table border=\"1\" class=\"dataframe\">\n",
       "  <thead>\n",
       "    <tr style=\"text-align: right;\">\n",
       "      <th></th>\n",
       "      <th>id</th>\n",
       "      <th>message_date</th>\n",
       "      <th>user_id</th>\n",
       "      <th>month</th>\n",
       "      <th>year</th>\n",
       "    </tr>\n",
       "  </thead>\n",
       "  <tbody>\n",
       "    <tr>\n",
       "      <th>0</th>\n",
       "      <td>1000_0</td>\n",
       "      <td>2018-06-27</td>\n",
       "      <td>1000</td>\n",
       "      <td>6</td>\n",
       "      <td>2018</td>\n",
       "    </tr>\n",
       "    <tr>\n",
       "      <th>1</th>\n",
       "      <td>1000_1</td>\n",
       "      <td>2018-10-08</td>\n",
       "      <td>1000</td>\n",
       "      <td>10</td>\n",
       "      <td>2018</td>\n",
       "    </tr>\n",
       "    <tr>\n",
       "      <th>2</th>\n",
       "      <td>1000_2</td>\n",
       "      <td>2018-08-04</td>\n",
       "      <td>1000</td>\n",
       "      <td>8</td>\n",
       "      <td>2018</td>\n",
       "    </tr>\n",
       "    <tr>\n",
       "      <th>3</th>\n",
       "      <td>1000_3</td>\n",
       "      <td>2018-06-16</td>\n",
       "      <td>1000</td>\n",
       "      <td>6</td>\n",
       "      <td>2018</td>\n",
       "    </tr>\n",
       "    <tr>\n",
       "      <th>4</th>\n",
       "      <td>1000_4</td>\n",
       "      <td>2018-12-05</td>\n",
       "      <td>1000</td>\n",
       "      <td>12</td>\n",
       "      <td>2018</td>\n",
       "    </tr>\n",
       "  </tbody>\n",
       "</table>\n",
       "</div>"
      ],
      "text/plain": [
       "       id message_date  user_id  month  year\n",
       "0  1000_0   2018-06-27     1000      6  2018\n",
       "1  1000_1   2018-10-08     1000     10  2018\n",
       "2  1000_2   2018-08-04     1000      8  2018\n",
       "3  1000_3   2018-06-16     1000      6  2018\n",
       "4  1000_4   2018-12-05     1000     12  2018"
      ]
     },
     "metadata": {},
     "output_type": "display_data"
    },
    {
     "name": "stdout",
     "output_type": "stream",
     "text": [
      "<class 'pandas.core.frame.DataFrame'>\n",
      "RangeIndex: 123036 entries, 0 to 123035\n",
      "Data columns (total 5 columns):\n",
      " #   Column        Non-Null Count   Dtype         \n",
      "---  ------        --------------   -----         \n",
      " 0   id            123036 non-null  object        \n",
      " 1   message_date  123036 non-null  datetime64[ns]\n",
      " 2   user_id       123036 non-null  int64         \n",
      " 3   month         123036 non-null  int64         \n",
      " 4   year          123036 non-null  int64         \n",
      "dtypes: datetime64[ns](1), int64(3), object(1)\n",
      "memory usage: 4.7+ MB\n"
     ]
    }
   ],
   "source": [
    "#заменяем дату сообщения на формат даты\n",
    "data_messages['message_date'] = pd.to_datetime(data_messages['message_date'], format='%Y-%m-%dT%H:%M:%S')\n",
    "data_messages['month']=data_messages['message_date'].dt.month\n",
    "data_messages['year']=data_messages['message_date'].dt.year\n",
    "display(data_messages.head())\n",
    "data_messages.info()"
   ]
  },
  {
   "cell_type": "code",
   "execution_count": 15,
   "metadata": {
    "scrolled": false
   },
   "outputs": [
    {
     "data": {
      "text/html": [
       "<div>\n",
       "<style scoped>\n",
       "    .dataframe tbody tr th:only-of-type {\n",
       "        vertical-align: middle;\n",
       "    }\n",
       "\n",
       "    .dataframe tbody tr th {\n",
       "        vertical-align: top;\n",
       "    }\n",
       "\n",
       "    .dataframe thead th {\n",
       "        text-align: right;\n",
       "    }\n",
       "</style>\n",
       "<table border=\"1\" class=\"dataframe\">\n",
       "  <thead>\n",
       "    <tr style=\"text-align: right;\">\n",
       "      <th></th>\n",
       "      <th>user_id</th>\n",
       "      <th>age</th>\n",
       "      <th>churn_date</th>\n",
       "      <th>city</th>\n",
       "      <th>first_name</th>\n",
       "      <th>last_name</th>\n",
       "      <th>reg_date</th>\n",
       "      <th>tariff</th>\n",
       "      <th>reg_month</th>\n",
       "      <th>reg_year</th>\n",
       "      <th>churn_month</th>\n",
       "      <th>churn_year</th>\n",
       "    </tr>\n",
       "  </thead>\n",
       "  <tbody>\n",
       "    <tr>\n",
       "      <th>0</th>\n",
       "      <td>1000</td>\n",
       "      <td>52</td>\n",
       "      <td>NaT</td>\n",
       "      <td>Краснодар</td>\n",
       "      <td>Рафаил</td>\n",
       "      <td>Верещагин</td>\n",
       "      <td>2018-05-25</td>\n",
       "      <td>ultra</td>\n",
       "      <td>5</td>\n",
       "      <td>2018</td>\n",
       "      <td>NaN</td>\n",
       "      <td>NaN</td>\n",
       "    </tr>\n",
       "    <tr>\n",
       "      <th>1</th>\n",
       "      <td>1001</td>\n",
       "      <td>41</td>\n",
       "      <td>NaT</td>\n",
       "      <td>Москва</td>\n",
       "      <td>Иван</td>\n",
       "      <td>Ежов</td>\n",
       "      <td>2018-11-01</td>\n",
       "      <td>smart</td>\n",
       "      <td>11</td>\n",
       "      <td>2018</td>\n",
       "      <td>NaN</td>\n",
       "      <td>NaN</td>\n",
       "    </tr>\n",
       "    <tr>\n",
       "      <th>2</th>\n",
       "      <td>1002</td>\n",
       "      <td>59</td>\n",
       "      <td>NaT</td>\n",
       "      <td>Стерлитамак</td>\n",
       "      <td>Евгений</td>\n",
       "      <td>Абрамович</td>\n",
       "      <td>2018-06-17</td>\n",
       "      <td>smart</td>\n",
       "      <td>6</td>\n",
       "      <td>2018</td>\n",
       "      <td>NaN</td>\n",
       "      <td>NaN</td>\n",
       "    </tr>\n",
       "    <tr>\n",
       "      <th>3</th>\n",
       "      <td>1003</td>\n",
       "      <td>23</td>\n",
       "      <td>NaT</td>\n",
       "      <td>Москва</td>\n",
       "      <td>Белла</td>\n",
       "      <td>Белякова</td>\n",
       "      <td>2018-08-17</td>\n",
       "      <td>ultra</td>\n",
       "      <td>8</td>\n",
       "      <td>2018</td>\n",
       "      <td>NaN</td>\n",
       "      <td>NaN</td>\n",
       "    </tr>\n",
       "    <tr>\n",
       "      <th>4</th>\n",
       "      <td>1004</td>\n",
       "      <td>68</td>\n",
       "      <td>NaT</td>\n",
       "      <td>Новокузнецк</td>\n",
       "      <td>Татьяна</td>\n",
       "      <td>Авдеенко</td>\n",
       "      <td>2018-05-14</td>\n",
       "      <td>ultra</td>\n",
       "      <td>5</td>\n",
       "      <td>2018</td>\n",
       "      <td>NaN</td>\n",
       "      <td>NaN</td>\n",
       "    </tr>\n",
       "  </tbody>\n",
       "</table>\n",
       "</div>"
      ],
      "text/plain": [
       "   user_id  age churn_date         city first_name  last_name   reg_date  \\\n",
       "0     1000   52        NaT    Краснодар     Рафаил  Верещагин 2018-05-25   \n",
       "1     1001   41        NaT       Москва       Иван       Ежов 2018-11-01   \n",
       "2     1002   59        NaT  Стерлитамак    Евгений  Абрамович 2018-06-17   \n",
       "3     1003   23        NaT       Москва      Белла   Белякова 2018-08-17   \n",
       "4     1004   68        NaT  Новокузнецк    Татьяна   Авдеенко 2018-05-14   \n",
       "\n",
       "  tariff  reg_month  reg_year  churn_month  churn_year  \n",
       "0  ultra          5      2018          NaN         NaN  \n",
       "1  smart         11      2018          NaN         NaN  \n",
       "2  smart          6      2018          NaN         NaN  \n",
       "3  ultra          8      2018          NaN         NaN  \n",
       "4  ultra          5      2018          NaN         NaN  "
      ]
     },
     "metadata": {},
     "output_type": "display_data"
    },
    {
     "name": "stdout",
     "output_type": "stream",
     "text": [
      "<class 'pandas.core.frame.DataFrame'>\n",
      "RangeIndex: 500 entries, 0 to 499\n",
      "Data columns (total 12 columns):\n",
      " #   Column       Non-Null Count  Dtype         \n",
      "---  ------       --------------  -----         \n",
      " 0   user_id      500 non-null    int64         \n",
      " 1   age          500 non-null    int64         \n",
      " 2   churn_date   38 non-null     datetime64[ns]\n",
      " 3   city         500 non-null    object        \n",
      " 4   first_name   500 non-null    object        \n",
      " 5   last_name    500 non-null    object        \n",
      " 6   reg_date     500 non-null    datetime64[ns]\n",
      " 7   tariff       500 non-null    object        \n",
      " 8   reg_month    500 non-null    int64         \n",
      " 9   reg_year     500 non-null    int64         \n",
      " 10  churn_month  38 non-null     float64       \n",
      " 11  churn_year   38 non-null     float64       \n",
      "dtypes: datetime64[ns](2), float64(2), int64(4), object(4)\n",
      "memory usage: 47.0+ KB\n"
     ]
    }
   ],
   "source": [
    "#заменяем дату регистрации и дату завершения договора пользователя на формат даты (где применимо)\n",
    "data_users['reg_date'] = pd.to_datetime(data_users['reg_date'], format='%Y-%m-%dT%H:%M:%S')\n",
    "data_users['churn_date'] = pd.to_datetime(data_users['churn_date'], format='%Y-%m-%dT%H:%M:%S')\n",
    "data_users['reg_month']=data_users['reg_date'].dt.month\n",
    "data_users['reg_year']=data_users['reg_date'].dt.year\n",
    "data_users['churn_month']=data_users['churn_date'].dt.month\n",
    "data_users['churn_year']=data_users['churn_date'].dt.year\n",
    "display(data_users.head())\n",
    "data_users.info()"
   ]
  },
  {
   "cell_type": "markdown",
   "metadata": {},
   "source": [
    "## Расчеты и добавление результатов в таблицу"
   ]
  },
  {
   "cell_type": "markdown",
   "metadata": {},
   "source": [
    "Количество сделанных звонков и израсходованных минут разговора по месяцам"
   ]
  },
  {
   "cell_type": "code",
   "execution_count": 16,
   "metadata": {},
   "outputs": [
    {
     "data": {
      "text/html": [
       "<div>\n",
       "<style scoped>\n",
       "    .dataframe tbody tr th:only-of-type {\n",
       "        vertical-align: middle;\n",
       "    }\n",
       "\n",
       "    .dataframe tbody tr th {\n",
       "        vertical-align: top;\n",
       "    }\n",
       "\n",
       "    .dataframe thead th {\n",
       "        text-align: right;\n",
       "    }\n",
       "</style>\n",
       "<table border=\"1\" class=\"dataframe\">\n",
       "  <thead>\n",
       "    <tr style=\"text-align: right;\">\n",
       "      <th></th>\n",
       "      <th>user_id</th>\n",
       "      <th>month</th>\n",
       "      <th>call_qnt</th>\n",
       "      <th>call_duration</th>\n",
       "    </tr>\n",
       "  </thead>\n",
       "  <tbody>\n",
       "    <tr>\n",
       "      <th>0</th>\n",
       "      <td>1000</td>\n",
       "      <td>5</td>\n",
       "      <td>22</td>\n",
       "      <td>159.0</td>\n",
       "    </tr>\n",
       "    <tr>\n",
       "      <th>1</th>\n",
       "      <td>1000</td>\n",
       "      <td>6</td>\n",
       "      <td>43</td>\n",
       "      <td>172.0</td>\n",
       "    </tr>\n",
       "    <tr>\n",
       "      <th>2</th>\n",
       "      <td>1000</td>\n",
       "      <td>7</td>\n",
       "      <td>47</td>\n",
       "      <td>340.0</td>\n",
       "    </tr>\n",
       "    <tr>\n",
       "      <th>3</th>\n",
       "      <td>1000</td>\n",
       "      <td>8</td>\n",
       "      <td>52</td>\n",
       "      <td>408.0</td>\n",
       "    </tr>\n",
       "    <tr>\n",
       "      <th>4</th>\n",
       "      <td>1000</td>\n",
       "      <td>9</td>\n",
       "      <td>58</td>\n",
       "      <td>466.0</td>\n",
       "    </tr>\n",
       "    <tr>\n",
       "      <th>5</th>\n",
       "      <td>1000</td>\n",
       "      <td>10</td>\n",
       "      <td>57</td>\n",
       "      <td>350.0</td>\n",
       "    </tr>\n",
       "    <tr>\n",
       "      <th>6</th>\n",
       "      <td>1000</td>\n",
       "      <td>11</td>\n",
       "      <td>43</td>\n",
       "      <td>338.0</td>\n",
       "    </tr>\n",
       "    <tr>\n",
       "      <th>7</th>\n",
       "      <td>1000</td>\n",
       "      <td>12</td>\n",
       "      <td>46</td>\n",
       "      <td>333.0</td>\n",
       "    </tr>\n",
       "    <tr>\n",
       "      <th>8</th>\n",
       "      <td>1001</td>\n",
       "      <td>11</td>\n",
       "      <td>59</td>\n",
       "      <td>430.0</td>\n",
       "    </tr>\n",
       "    <tr>\n",
       "      <th>9</th>\n",
       "      <td>1001</td>\n",
       "      <td>12</td>\n",
       "      <td>63</td>\n",
       "      <td>414.0</td>\n",
       "    </tr>\n",
       "  </tbody>\n",
       "</table>\n",
       "</div>"
      ],
      "text/plain": [
       "   user_id  month  call_qnt  call_duration\n",
       "0     1000      5        22          159.0\n",
       "1     1000      6        43          172.0\n",
       "2     1000      7        47          340.0\n",
       "3     1000      8        52          408.0\n",
       "4     1000      9        58          466.0\n",
       "5     1000     10        57          350.0\n",
       "6     1000     11        43          338.0\n",
       "7     1000     12        46          333.0\n",
       "8     1001     11        59          430.0\n",
       "9     1001     12        63          414.0"
      ]
     },
     "metadata": {},
     "output_type": "display_data"
    }
   ],
   "source": [
    "data_calls_grouped = data_calls.groupby(['user_id','month']).agg({'call_date':'count','duration':'sum'})\n",
    "data_calls_grouped.rename(columns = {'call_date' : 'call_qnt', 'duration' : 'call_duration'}, inplace = True)\n",
    "data_calls_grouped = data_calls_grouped.reset_index()\n",
    "display(data_calls_grouped.head(10))"
   ]
  },
  {
   "cell_type": "markdown",
   "metadata": {},
   "source": [
    "Количество отправленных сообщений по месяцам"
   ]
  },
  {
   "cell_type": "code",
   "execution_count": 17,
   "metadata": {},
   "outputs": [
    {
     "data": {
      "text/html": [
       "<div>\n",
       "<style scoped>\n",
       "    .dataframe tbody tr th:only-of-type {\n",
       "        vertical-align: middle;\n",
       "    }\n",
       "\n",
       "    .dataframe tbody tr th {\n",
       "        vertical-align: top;\n",
       "    }\n",
       "\n",
       "    .dataframe thead th {\n",
       "        text-align: right;\n",
       "    }\n",
       "</style>\n",
       "<table border=\"1\" class=\"dataframe\">\n",
       "  <thead>\n",
       "    <tr style=\"text-align: right;\">\n",
       "      <th></th>\n",
       "      <th>user_id</th>\n",
       "      <th>month</th>\n",
       "      <th>message_qnt</th>\n",
       "    </tr>\n",
       "  </thead>\n",
       "  <tbody>\n",
       "    <tr>\n",
       "      <th>0</th>\n",
       "      <td>1000</td>\n",
       "      <td>5</td>\n",
       "      <td>22</td>\n",
       "    </tr>\n",
       "    <tr>\n",
       "      <th>1</th>\n",
       "      <td>1000</td>\n",
       "      <td>6</td>\n",
       "      <td>60</td>\n",
       "    </tr>\n",
       "    <tr>\n",
       "      <th>2</th>\n",
       "      <td>1000</td>\n",
       "      <td>7</td>\n",
       "      <td>75</td>\n",
       "    </tr>\n",
       "    <tr>\n",
       "      <th>3</th>\n",
       "      <td>1000</td>\n",
       "      <td>8</td>\n",
       "      <td>81</td>\n",
       "    </tr>\n",
       "    <tr>\n",
       "      <th>4</th>\n",
       "      <td>1000</td>\n",
       "      <td>9</td>\n",
       "      <td>57</td>\n",
       "    </tr>\n",
       "    <tr>\n",
       "      <th>5</th>\n",
       "      <td>1000</td>\n",
       "      <td>10</td>\n",
       "      <td>73</td>\n",
       "    </tr>\n",
       "    <tr>\n",
       "      <th>6</th>\n",
       "      <td>1000</td>\n",
       "      <td>11</td>\n",
       "      <td>58</td>\n",
       "    </tr>\n",
       "    <tr>\n",
       "      <th>7</th>\n",
       "      <td>1000</td>\n",
       "      <td>12</td>\n",
       "      <td>70</td>\n",
       "    </tr>\n",
       "    <tr>\n",
       "      <th>8</th>\n",
       "      <td>1002</td>\n",
       "      <td>6</td>\n",
       "      <td>4</td>\n",
       "    </tr>\n",
       "    <tr>\n",
       "      <th>9</th>\n",
       "      <td>1002</td>\n",
       "      <td>7</td>\n",
       "      <td>11</td>\n",
       "    </tr>\n",
       "  </tbody>\n",
       "</table>\n",
       "</div>"
      ],
      "text/plain": [
       "   user_id  month  message_qnt\n",
       "0     1000      5           22\n",
       "1     1000      6           60\n",
       "2     1000      7           75\n",
       "3     1000      8           81\n",
       "4     1000      9           57\n",
       "5     1000     10           73\n",
       "6     1000     11           58\n",
       "7     1000     12           70\n",
       "8     1002      6            4\n",
       "9     1002      7           11"
      ]
     },
     "metadata": {},
     "output_type": "display_data"
    }
   ],
   "source": [
    "data_messages_grouped = data_messages.groupby(['user_id','month']).agg({'message_date':'count'})\n",
    "data_messages_grouped.rename(columns = {'message_date' : 'message_qnt',}, inplace = True)\n",
    "data_messages_grouped = data_messages_grouped.reset_index()\n",
    "display(data_messages_grouped.head(10))"
   ]
  },
  {
   "cell_type": "markdown",
   "metadata": {},
   "source": [
    "Объем израсходованного интернет-трафика по месяцам"
   ]
  },
  {
   "cell_type": "code",
   "execution_count": 18,
   "metadata": {},
   "outputs": [
    {
     "data": {
      "text/html": [
       "<div>\n",
       "<style scoped>\n",
       "    .dataframe tbody tr th:only-of-type {\n",
       "        vertical-align: middle;\n",
       "    }\n",
       "\n",
       "    .dataframe tbody tr th {\n",
       "        vertical-align: top;\n",
       "    }\n",
       "\n",
       "    .dataframe thead th {\n",
       "        text-align: right;\n",
       "    }\n",
       "</style>\n",
       "<table border=\"1\" class=\"dataframe\">\n",
       "  <thead>\n",
       "    <tr style=\"text-align: right;\">\n",
       "      <th></th>\n",
       "      <th>user_id</th>\n",
       "      <th>month</th>\n",
       "      <th>mb_used</th>\n",
       "    </tr>\n",
       "  </thead>\n",
       "  <tbody>\n",
       "    <tr>\n",
       "      <th>0</th>\n",
       "      <td>1000</td>\n",
       "      <td>5</td>\n",
       "      <td>2253.49</td>\n",
       "    </tr>\n",
       "    <tr>\n",
       "      <th>1</th>\n",
       "      <td>1000</td>\n",
       "      <td>6</td>\n",
       "      <td>23233.77</td>\n",
       "    </tr>\n",
       "    <tr>\n",
       "      <th>2</th>\n",
       "      <td>1000</td>\n",
       "      <td>7</td>\n",
       "      <td>14003.64</td>\n",
       "    </tr>\n",
       "    <tr>\n",
       "      <th>3</th>\n",
       "      <td>1000</td>\n",
       "      <td>8</td>\n",
       "      <td>14055.93</td>\n",
       "    </tr>\n",
       "    <tr>\n",
       "      <th>4</th>\n",
       "      <td>1000</td>\n",
       "      <td>9</td>\n",
       "      <td>14568.91</td>\n",
       "    </tr>\n",
       "    <tr>\n",
       "      <th>5</th>\n",
       "      <td>1000</td>\n",
       "      <td>10</td>\n",
       "      <td>14702.49</td>\n",
       "    </tr>\n",
       "    <tr>\n",
       "      <th>6</th>\n",
       "      <td>1000</td>\n",
       "      <td>11</td>\n",
       "      <td>14756.47</td>\n",
       "    </tr>\n",
       "    <tr>\n",
       "      <th>7</th>\n",
       "      <td>1000</td>\n",
       "      <td>12</td>\n",
       "      <td>9817.61</td>\n",
       "    </tr>\n",
       "    <tr>\n",
       "      <th>8</th>\n",
       "      <td>1001</td>\n",
       "      <td>11</td>\n",
       "      <td>18429.34</td>\n",
       "    </tr>\n",
       "    <tr>\n",
       "      <th>9</th>\n",
       "      <td>1001</td>\n",
       "      <td>12</td>\n",
       "      <td>14036.66</td>\n",
       "    </tr>\n",
       "  </tbody>\n",
       "</table>\n",
       "</div>"
      ],
      "text/plain": [
       "   user_id  month   mb_used\n",
       "0     1000      5   2253.49\n",
       "1     1000      6  23233.77\n",
       "2     1000      7  14003.64\n",
       "3     1000      8  14055.93\n",
       "4     1000      9  14568.91\n",
       "5     1000     10  14702.49\n",
       "6     1000     11  14756.47\n",
       "7     1000     12   9817.61\n",
       "8     1001     11  18429.34\n",
       "9     1001     12  14036.66"
      ]
     },
     "metadata": {},
     "output_type": "display_data"
    }
   ],
   "source": [
    "data_internet_grouped = data_internet.groupby(['user_id','month']).agg({'mb_used':'sum'})\n",
    "data_internet_grouped = data_internet_grouped.reset_index()\n",
    "display(data_internet_grouped.head(10))"
   ]
  },
  {
   "cell_type": "code",
   "execution_count": 19,
   "metadata": {},
   "outputs": [],
   "source": [
    "data_merge = data_calls_grouped.merge(data_messages_grouped, on=['user_id', 'month'], how = 'outer')"
   ]
  },
  {
   "cell_type": "code",
   "execution_count": 20,
   "metadata": {
    "scrolled": true
   },
   "outputs": [
    {
     "data": {
      "text/html": [
       "<div>\n",
       "<style scoped>\n",
       "    .dataframe tbody tr th:only-of-type {\n",
       "        vertical-align: middle;\n",
       "    }\n",
       "\n",
       "    .dataframe tbody tr th {\n",
       "        vertical-align: top;\n",
       "    }\n",
       "\n",
       "    .dataframe thead th {\n",
       "        text-align: right;\n",
       "    }\n",
       "</style>\n",
       "<table border=\"1\" class=\"dataframe\">\n",
       "  <thead>\n",
       "    <tr style=\"text-align: right;\">\n",
       "      <th></th>\n",
       "      <th>user_id</th>\n",
       "      <th>month</th>\n",
       "      <th>call_qnt</th>\n",
       "      <th>call_duration</th>\n",
       "      <th>message_qnt</th>\n",
       "    </tr>\n",
       "  </thead>\n",
       "  <tbody>\n",
       "    <tr>\n",
       "      <th>0</th>\n",
       "      <td>1000</td>\n",
       "      <td>5</td>\n",
       "      <td>22.0</td>\n",
       "      <td>159.0</td>\n",
       "      <td>22.0</td>\n",
       "    </tr>\n",
       "    <tr>\n",
       "      <th>1</th>\n",
       "      <td>1000</td>\n",
       "      <td>6</td>\n",
       "      <td>43.0</td>\n",
       "      <td>172.0</td>\n",
       "      <td>60.0</td>\n",
       "    </tr>\n",
       "    <tr>\n",
       "      <th>2</th>\n",
       "      <td>1000</td>\n",
       "      <td>7</td>\n",
       "      <td>47.0</td>\n",
       "      <td>340.0</td>\n",
       "      <td>75.0</td>\n",
       "    </tr>\n",
       "    <tr>\n",
       "      <th>3</th>\n",
       "      <td>1000</td>\n",
       "      <td>8</td>\n",
       "      <td>52.0</td>\n",
       "      <td>408.0</td>\n",
       "      <td>81.0</td>\n",
       "    </tr>\n",
       "    <tr>\n",
       "      <th>4</th>\n",
       "      <td>1000</td>\n",
       "      <td>9</td>\n",
       "      <td>58.0</td>\n",
       "      <td>466.0</td>\n",
       "      <td>57.0</td>\n",
       "    </tr>\n",
       "    <tr>\n",
       "      <th>5</th>\n",
       "      <td>1000</td>\n",
       "      <td>10</td>\n",
       "      <td>57.0</td>\n",
       "      <td>350.0</td>\n",
       "      <td>73.0</td>\n",
       "    </tr>\n",
       "    <tr>\n",
       "      <th>6</th>\n",
       "      <td>1000</td>\n",
       "      <td>11</td>\n",
       "      <td>43.0</td>\n",
       "      <td>338.0</td>\n",
       "      <td>58.0</td>\n",
       "    </tr>\n",
       "    <tr>\n",
       "      <th>7</th>\n",
       "      <td>1000</td>\n",
       "      <td>12</td>\n",
       "      <td>46.0</td>\n",
       "      <td>333.0</td>\n",
       "      <td>70.0</td>\n",
       "    </tr>\n",
       "    <tr>\n",
       "      <th>8</th>\n",
       "      <td>1001</td>\n",
       "      <td>11</td>\n",
       "      <td>59.0</td>\n",
       "      <td>430.0</td>\n",
       "      <td>NaN</td>\n",
       "    </tr>\n",
       "    <tr>\n",
       "      <th>9</th>\n",
       "      <td>1001</td>\n",
       "      <td>12</td>\n",
       "      <td>63.0</td>\n",
       "      <td>414.0</td>\n",
       "      <td>NaN</td>\n",
       "    </tr>\n",
       "  </tbody>\n",
       "</table>\n",
       "</div>"
      ],
      "text/plain": [
       "   user_id  month  call_qnt  call_duration  message_qnt\n",
       "0     1000      5      22.0          159.0         22.0\n",
       "1     1000      6      43.0          172.0         60.0\n",
       "2     1000      7      47.0          340.0         75.0\n",
       "3     1000      8      52.0          408.0         81.0\n",
       "4     1000      9      58.0          466.0         57.0\n",
       "5     1000     10      57.0          350.0         73.0\n",
       "6     1000     11      43.0          338.0         58.0\n",
       "7     1000     12      46.0          333.0         70.0\n",
       "8     1001     11      59.0          430.0          NaN\n",
       "9     1001     12      63.0          414.0          NaN"
      ]
     },
     "metadata": {},
     "output_type": "display_data"
    }
   ],
   "source": [
    "display(data_merge.head(10))"
   ]
  },
  {
   "cell_type": "code",
   "execution_count": 21,
   "metadata": {},
   "outputs": [],
   "source": [
    "data_merge = data_merge.merge(data_internet_grouped, on=['user_id', 'month'], how = 'outer')"
   ]
  },
  {
   "cell_type": "code",
   "execution_count": 22,
   "metadata": {
    "scrolled": true
   },
   "outputs": [
    {
     "data": {
      "text/html": [
       "<div>\n",
       "<style scoped>\n",
       "    .dataframe tbody tr th:only-of-type {\n",
       "        vertical-align: middle;\n",
       "    }\n",
       "\n",
       "    .dataframe tbody tr th {\n",
       "        vertical-align: top;\n",
       "    }\n",
       "\n",
       "    .dataframe thead th {\n",
       "        text-align: right;\n",
       "    }\n",
       "</style>\n",
       "<table border=\"1\" class=\"dataframe\">\n",
       "  <thead>\n",
       "    <tr style=\"text-align: right;\">\n",
       "      <th></th>\n",
       "      <th>user_id</th>\n",
       "      <th>month</th>\n",
       "      <th>call_qnt</th>\n",
       "      <th>call_duration</th>\n",
       "      <th>message_qnt</th>\n",
       "      <th>mb_used</th>\n",
       "    </tr>\n",
       "  </thead>\n",
       "  <tbody>\n",
       "    <tr>\n",
       "      <th>0</th>\n",
       "      <td>1000</td>\n",
       "      <td>5</td>\n",
       "      <td>22.0</td>\n",
       "      <td>159.0</td>\n",
       "      <td>22.0</td>\n",
       "      <td>2253.49</td>\n",
       "    </tr>\n",
       "    <tr>\n",
       "      <th>1</th>\n",
       "      <td>1000</td>\n",
       "      <td>6</td>\n",
       "      <td>43.0</td>\n",
       "      <td>172.0</td>\n",
       "      <td>60.0</td>\n",
       "      <td>23233.77</td>\n",
       "    </tr>\n",
       "    <tr>\n",
       "      <th>2</th>\n",
       "      <td>1000</td>\n",
       "      <td>7</td>\n",
       "      <td>47.0</td>\n",
       "      <td>340.0</td>\n",
       "      <td>75.0</td>\n",
       "      <td>14003.64</td>\n",
       "    </tr>\n",
       "    <tr>\n",
       "      <th>3</th>\n",
       "      <td>1000</td>\n",
       "      <td>8</td>\n",
       "      <td>52.0</td>\n",
       "      <td>408.0</td>\n",
       "      <td>81.0</td>\n",
       "      <td>14055.93</td>\n",
       "    </tr>\n",
       "    <tr>\n",
       "      <th>4</th>\n",
       "      <td>1000</td>\n",
       "      <td>9</td>\n",
       "      <td>58.0</td>\n",
       "      <td>466.0</td>\n",
       "      <td>57.0</td>\n",
       "      <td>14568.91</td>\n",
       "    </tr>\n",
       "    <tr>\n",
       "      <th>5</th>\n",
       "      <td>1000</td>\n",
       "      <td>10</td>\n",
       "      <td>57.0</td>\n",
       "      <td>350.0</td>\n",
       "      <td>73.0</td>\n",
       "      <td>14702.49</td>\n",
       "    </tr>\n",
       "    <tr>\n",
       "      <th>6</th>\n",
       "      <td>1000</td>\n",
       "      <td>11</td>\n",
       "      <td>43.0</td>\n",
       "      <td>338.0</td>\n",
       "      <td>58.0</td>\n",
       "      <td>14756.47</td>\n",
       "    </tr>\n",
       "    <tr>\n",
       "      <th>7</th>\n",
       "      <td>1000</td>\n",
       "      <td>12</td>\n",
       "      <td>46.0</td>\n",
       "      <td>333.0</td>\n",
       "      <td>70.0</td>\n",
       "      <td>9817.61</td>\n",
       "    </tr>\n",
       "    <tr>\n",
       "      <th>8</th>\n",
       "      <td>1001</td>\n",
       "      <td>11</td>\n",
       "      <td>59.0</td>\n",
       "      <td>430.0</td>\n",
       "      <td>NaN</td>\n",
       "      <td>18429.34</td>\n",
       "    </tr>\n",
       "    <tr>\n",
       "      <th>9</th>\n",
       "      <td>1001</td>\n",
       "      <td>12</td>\n",
       "      <td>63.0</td>\n",
       "      <td>414.0</td>\n",
       "      <td>NaN</td>\n",
       "      <td>14036.66</td>\n",
       "    </tr>\n",
       "  </tbody>\n",
       "</table>\n",
       "</div>"
      ],
      "text/plain": [
       "   user_id  month  call_qnt  call_duration  message_qnt   mb_used\n",
       "0     1000      5      22.0          159.0         22.0   2253.49\n",
       "1     1000      6      43.0          172.0         60.0  23233.77\n",
       "2     1000      7      47.0          340.0         75.0  14003.64\n",
       "3     1000      8      52.0          408.0         81.0  14055.93\n",
       "4     1000      9      58.0          466.0         57.0  14568.91\n",
       "5     1000     10      57.0          350.0         73.0  14702.49\n",
       "6     1000     11      43.0          338.0         58.0  14756.47\n",
       "7     1000     12      46.0          333.0         70.0   9817.61\n",
       "8     1001     11      59.0          430.0          NaN  18429.34\n",
       "9     1001     12      63.0          414.0          NaN  14036.66"
      ]
     },
     "metadata": {},
     "output_type": "display_data"
    }
   ],
   "source": [
    "display(data_merge.head(10))"
   ]
  },
  {
   "cell_type": "code",
   "execution_count": 23,
   "metadata": {},
   "outputs": [
    {
     "data": {
      "text/html": [
       "<div>\n",
       "<style scoped>\n",
       "    .dataframe tbody tr th:only-of-type {\n",
       "        vertical-align: middle;\n",
       "    }\n",
       "\n",
       "    .dataframe tbody tr th {\n",
       "        vertical-align: top;\n",
       "    }\n",
       "\n",
       "    .dataframe thead th {\n",
       "        text-align: right;\n",
       "    }\n",
       "</style>\n",
       "<table border=\"1\" class=\"dataframe\">\n",
       "  <thead>\n",
       "    <tr style=\"text-align: right;\">\n",
       "      <th></th>\n",
       "      <th>user_id</th>\n",
       "      <th>month</th>\n",
       "      <th>call_qnt</th>\n",
       "      <th>call_duration</th>\n",
       "      <th>message_qnt</th>\n",
       "      <th>mb_used</th>\n",
       "      <th>tariff</th>\n",
       "      <th>city</th>\n",
       "    </tr>\n",
       "  </thead>\n",
       "  <tbody>\n",
       "    <tr>\n",
       "      <th>0</th>\n",
       "      <td>1000</td>\n",
       "      <td>5.0</td>\n",
       "      <td>22.0</td>\n",
       "      <td>159.0</td>\n",
       "      <td>22.0</td>\n",
       "      <td>2253.49</td>\n",
       "      <td>ultra</td>\n",
       "      <td>Краснодар</td>\n",
       "    </tr>\n",
       "    <tr>\n",
       "      <th>1</th>\n",
       "      <td>1000</td>\n",
       "      <td>6.0</td>\n",
       "      <td>43.0</td>\n",
       "      <td>172.0</td>\n",
       "      <td>60.0</td>\n",
       "      <td>23233.77</td>\n",
       "      <td>ultra</td>\n",
       "      <td>Краснодар</td>\n",
       "    </tr>\n",
       "    <tr>\n",
       "      <th>2</th>\n",
       "      <td>1000</td>\n",
       "      <td>7.0</td>\n",
       "      <td>47.0</td>\n",
       "      <td>340.0</td>\n",
       "      <td>75.0</td>\n",
       "      <td>14003.64</td>\n",
       "      <td>ultra</td>\n",
       "      <td>Краснодар</td>\n",
       "    </tr>\n",
       "    <tr>\n",
       "      <th>3</th>\n",
       "      <td>1000</td>\n",
       "      <td>8.0</td>\n",
       "      <td>52.0</td>\n",
       "      <td>408.0</td>\n",
       "      <td>81.0</td>\n",
       "      <td>14055.93</td>\n",
       "      <td>ultra</td>\n",
       "      <td>Краснодар</td>\n",
       "    </tr>\n",
       "    <tr>\n",
       "      <th>4</th>\n",
       "      <td>1000</td>\n",
       "      <td>9.0</td>\n",
       "      <td>58.0</td>\n",
       "      <td>466.0</td>\n",
       "      <td>57.0</td>\n",
       "      <td>14568.91</td>\n",
       "      <td>ultra</td>\n",
       "      <td>Краснодар</td>\n",
       "    </tr>\n",
       "    <tr>\n",
       "      <th>5</th>\n",
       "      <td>1000</td>\n",
       "      <td>10.0</td>\n",
       "      <td>57.0</td>\n",
       "      <td>350.0</td>\n",
       "      <td>73.0</td>\n",
       "      <td>14702.49</td>\n",
       "      <td>ultra</td>\n",
       "      <td>Краснодар</td>\n",
       "    </tr>\n",
       "    <tr>\n",
       "      <th>6</th>\n",
       "      <td>1000</td>\n",
       "      <td>11.0</td>\n",
       "      <td>43.0</td>\n",
       "      <td>338.0</td>\n",
       "      <td>58.0</td>\n",
       "      <td>14756.47</td>\n",
       "      <td>ultra</td>\n",
       "      <td>Краснодар</td>\n",
       "    </tr>\n",
       "    <tr>\n",
       "      <th>7</th>\n",
       "      <td>1000</td>\n",
       "      <td>12.0</td>\n",
       "      <td>46.0</td>\n",
       "      <td>333.0</td>\n",
       "      <td>70.0</td>\n",
       "      <td>9817.61</td>\n",
       "      <td>ultra</td>\n",
       "      <td>Краснодар</td>\n",
       "    </tr>\n",
       "    <tr>\n",
       "      <th>8</th>\n",
       "      <td>1001</td>\n",
       "      <td>11.0</td>\n",
       "      <td>59.0</td>\n",
       "      <td>430.0</td>\n",
       "      <td>NaN</td>\n",
       "      <td>18429.34</td>\n",
       "      <td>smart</td>\n",
       "      <td>Москва</td>\n",
       "    </tr>\n",
       "    <tr>\n",
       "      <th>9</th>\n",
       "      <td>1001</td>\n",
       "      <td>12.0</td>\n",
       "      <td>63.0</td>\n",
       "      <td>414.0</td>\n",
       "      <td>NaN</td>\n",
       "      <td>14036.66</td>\n",
       "      <td>smart</td>\n",
       "      <td>Москва</td>\n",
       "    </tr>\n",
       "  </tbody>\n",
       "</table>\n",
       "</div>"
      ],
      "text/plain": [
       "   user_id  month  call_qnt  call_duration  message_qnt   mb_used tariff  \\\n",
       "0     1000    5.0      22.0          159.0         22.0   2253.49  ultra   \n",
       "1     1000    6.0      43.0          172.0         60.0  23233.77  ultra   \n",
       "2     1000    7.0      47.0          340.0         75.0  14003.64  ultra   \n",
       "3     1000    8.0      52.0          408.0         81.0  14055.93  ultra   \n",
       "4     1000    9.0      58.0          466.0         57.0  14568.91  ultra   \n",
       "5     1000   10.0      57.0          350.0         73.0  14702.49  ultra   \n",
       "6     1000   11.0      43.0          338.0         58.0  14756.47  ultra   \n",
       "7     1000   12.0      46.0          333.0         70.0   9817.61  ultra   \n",
       "8     1001   11.0      59.0          430.0          NaN  18429.34  smart   \n",
       "9     1001   12.0      63.0          414.0          NaN  14036.66  smart   \n",
       "\n",
       "        city  \n",
       "0  Краснодар  \n",
       "1  Краснодар  \n",
       "2  Краснодар  \n",
       "3  Краснодар  \n",
       "4  Краснодар  \n",
       "5  Краснодар  \n",
       "6  Краснодар  \n",
       "7  Краснодар  \n",
       "8     Москва  \n",
       "9     Москва  "
      ]
     },
     "metadata": {},
     "output_type": "display_data"
    }
   ],
   "source": [
    "data_merge = data_merge.merge(data_users[['user_id', 'tariff', 'city']], on = ['user_id'], how = 'outer')\n",
    "display(data_merge.head(10))"
   ]
  },
  {
   "cell_type": "markdown",
   "metadata": {},
   "source": [
    "**Приведем данные \"в порядок\":**\n",
    "* Приведем мегабайты в гигабайты делением значений на 1024.\n",
    "* Округлим общую сумму гигабайт за месяц в бо́льшую сторону. Если абонент использует 1025 мегабайт в этом месяце, с него возьмут плату за 2 гигабайта."
   ]
  },
  {
   "cell_type": "code",
   "execution_count": 25,
   "metadata": {},
   "outputs": [
    {
     "data": {
      "text/html": [
       "<div>\n",
       "<style scoped>\n",
       "    .dataframe tbody tr th:only-of-type {\n",
       "        vertical-align: middle;\n",
       "    }\n",
       "\n",
       "    .dataframe tbody tr th {\n",
       "        vertical-align: top;\n",
       "    }\n",
       "\n",
       "    .dataframe thead th {\n",
       "        text-align: right;\n",
       "    }\n",
       "</style>\n",
       "<table border=\"1\" class=\"dataframe\">\n",
       "  <thead>\n",
       "    <tr style=\"text-align: right;\">\n",
       "      <th></th>\n",
       "      <th>messages_included</th>\n",
       "      <th>mb_per_month_included</th>\n",
       "      <th>minutes_included</th>\n",
       "      <th>rub_monthly_fee</th>\n",
       "      <th>rub_per_gb</th>\n",
       "      <th>rub_per_message</th>\n",
       "      <th>rub_per_minute</th>\n",
       "      <th>tariff</th>\n",
       "    </tr>\n",
       "  </thead>\n",
       "  <tbody>\n",
       "    <tr>\n",
       "      <th>0</th>\n",
       "      <td>50</td>\n",
       "      <td>15360</td>\n",
       "      <td>500</td>\n",
       "      <td>550</td>\n",
       "      <td>200</td>\n",
       "      <td>3</td>\n",
       "      <td>3</td>\n",
       "      <td>smart</td>\n",
       "    </tr>\n",
       "    <tr>\n",
       "      <th>1</th>\n",
       "      <td>1000</td>\n",
       "      <td>30720</td>\n",
       "      <td>3000</td>\n",
       "      <td>1950</td>\n",
       "      <td>150</td>\n",
       "      <td>1</td>\n",
       "      <td>1</td>\n",
       "      <td>ultra</td>\n",
       "    </tr>\n",
       "  </tbody>\n",
       "</table>\n",
       "</div>"
      ],
      "text/plain": [
       "   messages_included  mb_per_month_included  minutes_included  \\\n",
       "0                 50                  15360               500   \n",
       "1               1000                  30720              3000   \n",
       "\n",
       "   rub_monthly_fee  rub_per_gb  rub_per_message  rub_per_minute tariff  \n",
       "0              550         200                3               3  smart  \n",
       "1             1950         150                1               1  ultra  "
      ]
     },
     "metadata": {},
     "output_type": "display_data"
    }
   ],
   "source": [
    "data_tariffs = data_tariffs.rename(columns = {'tariff_name' : 'tariff'})\n",
    "display(data_tariffs.head())"
   ]
  },
  {
   "cell_type": "code",
   "execution_count": 26,
   "metadata": {
    "scrolled": false
   },
   "outputs": [
    {
     "data": {
      "text/html": [
       "<div>\n",
       "<style scoped>\n",
       "    .dataframe tbody tr th:only-of-type {\n",
       "        vertical-align: middle;\n",
       "    }\n",
       "\n",
       "    .dataframe tbody tr th {\n",
       "        vertical-align: top;\n",
       "    }\n",
       "\n",
       "    .dataframe thead th {\n",
       "        text-align: right;\n",
       "    }\n",
       "</style>\n",
       "<table border=\"1\" class=\"dataframe\">\n",
       "  <thead>\n",
       "    <tr style=\"text-align: right;\">\n",
       "      <th></th>\n",
       "      <th>user_id</th>\n",
       "      <th>month</th>\n",
       "      <th>call_qnt</th>\n",
       "      <th>call_duration</th>\n",
       "      <th>message_qnt</th>\n",
       "      <th>mb_used</th>\n",
       "      <th>tariff</th>\n",
       "      <th>city</th>\n",
       "      <th>messages_included</th>\n",
       "      <th>mb_per_month_included</th>\n",
       "      <th>minutes_included</th>\n",
       "      <th>rub_monthly_fee</th>\n",
       "      <th>rub_per_gb</th>\n",
       "      <th>rub_per_message</th>\n",
       "      <th>rub_per_minute</th>\n",
       "    </tr>\n",
       "  </thead>\n",
       "  <tbody>\n",
       "    <tr>\n",
       "      <th>0</th>\n",
       "      <td>1000</td>\n",
       "      <td>5.0</td>\n",
       "      <td>22.0</td>\n",
       "      <td>159.0</td>\n",
       "      <td>22.0</td>\n",
       "      <td>2253.49</td>\n",
       "      <td>ultra</td>\n",
       "      <td>Краснодар</td>\n",
       "      <td>1000</td>\n",
       "      <td>30720</td>\n",
       "      <td>3000</td>\n",
       "      <td>1950</td>\n",
       "      <td>150</td>\n",
       "      <td>1</td>\n",
       "      <td>1</td>\n",
       "    </tr>\n",
       "    <tr>\n",
       "      <th>1</th>\n",
       "      <td>1000</td>\n",
       "      <td>6.0</td>\n",
       "      <td>43.0</td>\n",
       "      <td>172.0</td>\n",
       "      <td>60.0</td>\n",
       "      <td>23233.77</td>\n",
       "      <td>ultra</td>\n",
       "      <td>Краснодар</td>\n",
       "      <td>1000</td>\n",
       "      <td>30720</td>\n",
       "      <td>3000</td>\n",
       "      <td>1950</td>\n",
       "      <td>150</td>\n",
       "      <td>1</td>\n",
       "      <td>1</td>\n",
       "    </tr>\n",
       "    <tr>\n",
       "      <th>2</th>\n",
       "      <td>1000</td>\n",
       "      <td>7.0</td>\n",
       "      <td>47.0</td>\n",
       "      <td>340.0</td>\n",
       "      <td>75.0</td>\n",
       "      <td>14003.64</td>\n",
       "      <td>ultra</td>\n",
       "      <td>Краснодар</td>\n",
       "      <td>1000</td>\n",
       "      <td>30720</td>\n",
       "      <td>3000</td>\n",
       "      <td>1950</td>\n",
       "      <td>150</td>\n",
       "      <td>1</td>\n",
       "      <td>1</td>\n",
       "    </tr>\n",
       "    <tr>\n",
       "      <th>3</th>\n",
       "      <td>1000</td>\n",
       "      <td>8.0</td>\n",
       "      <td>52.0</td>\n",
       "      <td>408.0</td>\n",
       "      <td>81.0</td>\n",
       "      <td>14055.93</td>\n",
       "      <td>ultra</td>\n",
       "      <td>Краснодар</td>\n",
       "      <td>1000</td>\n",
       "      <td>30720</td>\n",
       "      <td>3000</td>\n",
       "      <td>1950</td>\n",
       "      <td>150</td>\n",
       "      <td>1</td>\n",
       "      <td>1</td>\n",
       "    </tr>\n",
       "    <tr>\n",
       "      <th>4</th>\n",
       "      <td>1000</td>\n",
       "      <td>9.0</td>\n",
       "      <td>58.0</td>\n",
       "      <td>466.0</td>\n",
       "      <td>57.0</td>\n",
       "      <td>14568.91</td>\n",
       "      <td>ultra</td>\n",
       "      <td>Краснодар</td>\n",
       "      <td>1000</td>\n",
       "      <td>30720</td>\n",
       "      <td>3000</td>\n",
       "      <td>1950</td>\n",
       "      <td>150</td>\n",
       "      <td>1</td>\n",
       "      <td>1</td>\n",
       "    </tr>\n",
       "    <tr>\n",
       "      <th>5</th>\n",
       "      <td>1000</td>\n",
       "      <td>10.0</td>\n",
       "      <td>57.0</td>\n",
       "      <td>350.0</td>\n",
       "      <td>73.0</td>\n",
       "      <td>14702.49</td>\n",
       "      <td>ultra</td>\n",
       "      <td>Краснодар</td>\n",
       "      <td>1000</td>\n",
       "      <td>30720</td>\n",
       "      <td>3000</td>\n",
       "      <td>1950</td>\n",
       "      <td>150</td>\n",
       "      <td>1</td>\n",
       "      <td>1</td>\n",
       "    </tr>\n",
       "    <tr>\n",
       "      <th>6</th>\n",
       "      <td>1000</td>\n",
       "      <td>11.0</td>\n",
       "      <td>43.0</td>\n",
       "      <td>338.0</td>\n",
       "      <td>58.0</td>\n",
       "      <td>14756.47</td>\n",
       "      <td>ultra</td>\n",
       "      <td>Краснодар</td>\n",
       "      <td>1000</td>\n",
       "      <td>30720</td>\n",
       "      <td>3000</td>\n",
       "      <td>1950</td>\n",
       "      <td>150</td>\n",
       "      <td>1</td>\n",
       "      <td>1</td>\n",
       "    </tr>\n",
       "    <tr>\n",
       "      <th>7</th>\n",
       "      <td>1000</td>\n",
       "      <td>12.0</td>\n",
       "      <td>46.0</td>\n",
       "      <td>333.0</td>\n",
       "      <td>70.0</td>\n",
       "      <td>9817.61</td>\n",
       "      <td>ultra</td>\n",
       "      <td>Краснодар</td>\n",
       "      <td>1000</td>\n",
       "      <td>30720</td>\n",
       "      <td>3000</td>\n",
       "      <td>1950</td>\n",
       "      <td>150</td>\n",
       "      <td>1</td>\n",
       "      <td>1</td>\n",
       "    </tr>\n",
       "    <tr>\n",
       "      <th>8</th>\n",
       "      <td>1001</td>\n",
       "      <td>11.0</td>\n",
       "      <td>59.0</td>\n",
       "      <td>430.0</td>\n",
       "      <td>NaN</td>\n",
       "      <td>18429.34</td>\n",
       "      <td>smart</td>\n",
       "      <td>Москва</td>\n",
       "      <td>50</td>\n",
       "      <td>15360</td>\n",
       "      <td>500</td>\n",
       "      <td>550</td>\n",
       "      <td>200</td>\n",
       "      <td>3</td>\n",
       "      <td>3</td>\n",
       "    </tr>\n",
       "    <tr>\n",
       "      <th>9</th>\n",
       "      <td>1001</td>\n",
       "      <td>12.0</td>\n",
       "      <td>63.0</td>\n",
       "      <td>414.0</td>\n",
       "      <td>NaN</td>\n",
       "      <td>14036.66</td>\n",
       "      <td>smart</td>\n",
       "      <td>Москва</td>\n",
       "      <td>50</td>\n",
       "      <td>15360</td>\n",
       "      <td>500</td>\n",
       "      <td>550</td>\n",
       "      <td>200</td>\n",
       "      <td>3</td>\n",
       "      <td>3</td>\n",
       "    </tr>\n",
       "  </tbody>\n",
       "</table>\n",
       "</div>"
      ],
      "text/plain": [
       "   user_id  month  call_qnt  call_duration  message_qnt   mb_used tariff  \\\n",
       "0     1000    5.0      22.0          159.0         22.0   2253.49  ultra   \n",
       "1     1000    6.0      43.0          172.0         60.0  23233.77  ultra   \n",
       "2     1000    7.0      47.0          340.0         75.0  14003.64  ultra   \n",
       "3     1000    8.0      52.0          408.0         81.0  14055.93  ultra   \n",
       "4     1000    9.0      58.0          466.0         57.0  14568.91  ultra   \n",
       "5     1000   10.0      57.0          350.0         73.0  14702.49  ultra   \n",
       "6     1000   11.0      43.0          338.0         58.0  14756.47  ultra   \n",
       "7     1000   12.0      46.0          333.0         70.0   9817.61  ultra   \n",
       "8     1001   11.0      59.0          430.0          NaN  18429.34  smart   \n",
       "9     1001   12.0      63.0          414.0          NaN  14036.66  smart   \n",
       "\n",
       "        city  messages_included  mb_per_month_included  minutes_included  \\\n",
       "0  Краснодар               1000                  30720              3000   \n",
       "1  Краснодар               1000                  30720              3000   \n",
       "2  Краснодар               1000                  30720              3000   \n",
       "3  Краснодар               1000                  30720              3000   \n",
       "4  Краснодар               1000                  30720              3000   \n",
       "5  Краснодар               1000                  30720              3000   \n",
       "6  Краснодар               1000                  30720              3000   \n",
       "7  Краснодар               1000                  30720              3000   \n",
       "8     Москва                 50                  15360               500   \n",
       "9     Москва                 50                  15360               500   \n",
       "\n",
       "   rub_monthly_fee  rub_per_gb  rub_per_message  rub_per_minute  \n",
       "0             1950         150                1               1  \n",
       "1             1950         150                1               1  \n",
       "2             1950         150                1               1  \n",
       "3             1950         150                1               1  \n",
       "4             1950         150                1               1  \n",
       "5             1950         150                1               1  \n",
       "6             1950         150                1               1  \n",
       "7             1950         150                1               1  \n",
       "8              550         200                3               3  \n",
       "9              550         200                3               3  "
      ]
     },
     "metadata": {},
     "output_type": "display_data"
    }
   ],
   "source": [
    "#добавим условия по тарифам для каждого пользователя\n",
    "data_merge = data_merge.merge(data_tariffs, on = ['tariff'], how = 'left')\n",
    "display(data_merge.head(10))"
   ]
  },
  {
   "cell_type": "code",
   "execution_count": 27,
   "metadata": {},
   "outputs": [
    {
     "data": {
      "text/html": [
       "<div>\n",
       "<style scoped>\n",
       "    .dataframe tbody tr th:only-of-type {\n",
       "        vertical-align: middle;\n",
       "    }\n",
       "\n",
       "    .dataframe tbody tr th {\n",
       "        vertical-align: top;\n",
       "    }\n",
       "\n",
       "    .dataframe thead th {\n",
       "        text-align: right;\n",
       "    }\n",
       "</style>\n",
       "<table border=\"1\" class=\"dataframe\">\n",
       "  <thead>\n",
       "    <tr style=\"text-align: right;\">\n",
       "      <th></th>\n",
       "      <th>user_id</th>\n",
       "      <th>month</th>\n",
       "      <th>call_qnt</th>\n",
       "      <th>call_duration</th>\n",
       "      <th>message_qnt</th>\n",
       "      <th>mb_used</th>\n",
       "      <th>tariff</th>\n",
       "      <th>city</th>\n",
       "      <th>messages_included</th>\n",
       "      <th>mb_per_month_included</th>\n",
       "      <th>minutes_included</th>\n",
       "      <th>rub_monthly_fee</th>\n",
       "      <th>rub_per_gb</th>\n",
       "      <th>rub_per_message</th>\n",
       "      <th>rub_per_minute</th>\n",
       "      <th>gb_extra</th>\n",
       "      <th>messages_extra</th>\n",
       "      <th>call_extra</th>\n",
       "    </tr>\n",
       "  </thead>\n",
       "  <tbody>\n",
       "    <tr>\n",
       "      <th>0</th>\n",
       "      <td>1000</td>\n",
       "      <td>5.0</td>\n",
       "      <td>22.0</td>\n",
       "      <td>159.0</td>\n",
       "      <td>22.0</td>\n",
       "      <td>2253.49</td>\n",
       "      <td>ultra</td>\n",
       "      <td>Краснодар</td>\n",
       "      <td>1000</td>\n",
       "      <td>30720</td>\n",
       "      <td>3000</td>\n",
       "      <td>1950</td>\n",
       "      <td>150</td>\n",
       "      <td>1</td>\n",
       "      <td>1</td>\n",
       "      <td>-27.0</td>\n",
       "      <td>-978.0</td>\n",
       "      <td>-2841.0</td>\n",
       "    </tr>\n",
       "    <tr>\n",
       "      <th>1</th>\n",
       "      <td>1000</td>\n",
       "      <td>6.0</td>\n",
       "      <td>43.0</td>\n",
       "      <td>172.0</td>\n",
       "      <td>60.0</td>\n",
       "      <td>23233.77</td>\n",
       "      <td>ultra</td>\n",
       "      <td>Краснодар</td>\n",
       "      <td>1000</td>\n",
       "      <td>30720</td>\n",
       "      <td>3000</td>\n",
       "      <td>1950</td>\n",
       "      <td>150</td>\n",
       "      <td>1</td>\n",
       "      <td>1</td>\n",
       "      <td>-7.0</td>\n",
       "      <td>-940.0</td>\n",
       "      <td>-2828.0</td>\n",
       "    </tr>\n",
       "    <tr>\n",
       "      <th>2</th>\n",
       "      <td>1000</td>\n",
       "      <td>7.0</td>\n",
       "      <td>47.0</td>\n",
       "      <td>340.0</td>\n",
       "      <td>75.0</td>\n",
       "      <td>14003.64</td>\n",
       "      <td>ultra</td>\n",
       "      <td>Краснодар</td>\n",
       "      <td>1000</td>\n",
       "      <td>30720</td>\n",
       "      <td>3000</td>\n",
       "      <td>1950</td>\n",
       "      <td>150</td>\n",
       "      <td>1</td>\n",
       "      <td>1</td>\n",
       "      <td>-16.0</td>\n",
       "      <td>-925.0</td>\n",
       "      <td>-2660.0</td>\n",
       "    </tr>\n",
       "    <tr>\n",
       "      <th>3</th>\n",
       "      <td>1000</td>\n",
       "      <td>8.0</td>\n",
       "      <td>52.0</td>\n",
       "      <td>408.0</td>\n",
       "      <td>81.0</td>\n",
       "      <td>14055.93</td>\n",
       "      <td>ultra</td>\n",
       "      <td>Краснодар</td>\n",
       "      <td>1000</td>\n",
       "      <td>30720</td>\n",
       "      <td>3000</td>\n",
       "      <td>1950</td>\n",
       "      <td>150</td>\n",
       "      <td>1</td>\n",
       "      <td>1</td>\n",
       "      <td>-16.0</td>\n",
       "      <td>-919.0</td>\n",
       "      <td>-2592.0</td>\n",
       "    </tr>\n",
       "    <tr>\n",
       "      <th>4</th>\n",
       "      <td>1000</td>\n",
       "      <td>9.0</td>\n",
       "      <td>58.0</td>\n",
       "      <td>466.0</td>\n",
       "      <td>57.0</td>\n",
       "      <td>14568.91</td>\n",
       "      <td>ultra</td>\n",
       "      <td>Краснодар</td>\n",
       "      <td>1000</td>\n",
       "      <td>30720</td>\n",
       "      <td>3000</td>\n",
       "      <td>1950</td>\n",
       "      <td>150</td>\n",
       "      <td>1</td>\n",
       "      <td>1</td>\n",
       "      <td>-15.0</td>\n",
       "      <td>-943.0</td>\n",
       "      <td>-2534.0</td>\n",
       "    </tr>\n",
       "    <tr>\n",
       "      <th>5</th>\n",
       "      <td>1000</td>\n",
       "      <td>10.0</td>\n",
       "      <td>57.0</td>\n",
       "      <td>350.0</td>\n",
       "      <td>73.0</td>\n",
       "      <td>14702.49</td>\n",
       "      <td>ultra</td>\n",
       "      <td>Краснодар</td>\n",
       "      <td>1000</td>\n",
       "      <td>30720</td>\n",
       "      <td>3000</td>\n",
       "      <td>1950</td>\n",
       "      <td>150</td>\n",
       "      <td>1</td>\n",
       "      <td>1</td>\n",
       "      <td>-15.0</td>\n",
       "      <td>-927.0</td>\n",
       "      <td>-2650.0</td>\n",
       "    </tr>\n",
       "    <tr>\n",
       "      <th>6</th>\n",
       "      <td>1000</td>\n",
       "      <td>11.0</td>\n",
       "      <td>43.0</td>\n",
       "      <td>338.0</td>\n",
       "      <td>58.0</td>\n",
       "      <td>14756.47</td>\n",
       "      <td>ultra</td>\n",
       "      <td>Краснодар</td>\n",
       "      <td>1000</td>\n",
       "      <td>30720</td>\n",
       "      <td>3000</td>\n",
       "      <td>1950</td>\n",
       "      <td>150</td>\n",
       "      <td>1</td>\n",
       "      <td>1</td>\n",
       "      <td>-15.0</td>\n",
       "      <td>-942.0</td>\n",
       "      <td>-2662.0</td>\n",
       "    </tr>\n",
       "    <tr>\n",
       "      <th>7</th>\n",
       "      <td>1000</td>\n",
       "      <td>12.0</td>\n",
       "      <td>46.0</td>\n",
       "      <td>333.0</td>\n",
       "      <td>70.0</td>\n",
       "      <td>9817.61</td>\n",
       "      <td>ultra</td>\n",
       "      <td>Краснодар</td>\n",
       "      <td>1000</td>\n",
       "      <td>30720</td>\n",
       "      <td>3000</td>\n",
       "      <td>1950</td>\n",
       "      <td>150</td>\n",
       "      <td>1</td>\n",
       "      <td>1</td>\n",
       "      <td>-20.0</td>\n",
       "      <td>-930.0</td>\n",
       "      <td>-2667.0</td>\n",
       "    </tr>\n",
       "    <tr>\n",
       "      <th>8</th>\n",
       "      <td>1001</td>\n",
       "      <td>11.0</td>\n",
       "      <td>59.0</td>\n",
       "      <td>430.0</td>\n",
       "      <td>NaN</td>\n",
       "      <td>18429.34</td>\n",
       "      <td>smart</td>\n",
       "      <td>Москва</td>\n",
       "      <td>50</td>\n",
       "      <td>15360</td>\n",
       "      <td>500</td>\n",
       "      <td>550</td>\n",
       "      <td>200</td>\n",
       "      <td>3</td>\n",
       "      <td>3</td>\n",
       "      <td>3.0</td>\n",
       "      <td>NaN</td>\n",
       "      <td>-70.0</td>\n",
       "    </tr>\n",
       "    <tr>\n",
       "      <th>9</th>\n",
       "      <td>1001</td>\n",
       "      <td>12.0</td>\n",
       "      <td>63.0</td>\n",
       "      <td>414.0</td>\n",
       "      <td>NaN</td>\n",
       "      <td>14036.66</td>\n",
       "      <td>smart</td>\n",
       "      <td>Москва</td>\n",
       "      <td>50</td>\n",
       "      <td>15360</td>\n",
       "      <td>500</td>\n",
       "      <td>550</td>\n",
       "      <td>200</td>\n",
       "      <td>3</td>\n",
       "      <td>3</td>\n",
       "      <td>-1.0</td>\n",
       "      <td>NaN</td>\n",
       "      <td>-86.0</td>\n",
       "    </tr>\n",
       "    <tr>\n",
       "      <th>10</th>\n",
       "      <td>1002</td>\n",
       "      <td>6.0</td>\n",
       "      <td>15.0</td>\n",
       "      <td>117.0</td>\n",
       "      <td>4.0</td>\n",
       "      <td>10856.82</td>\n",
       "      <td>smart</td>\n",
       "      <td>Стерлитамак</td>\n",
       "      <td>50</td>\n",
       "      <td>15360</td>\n",
       "      <td>500</td>\n",
       "      <td>550</td>\n",
       "      <td>200</td>\n",
       "      <td>3</td>\n",
       "      <td>3</td>\n",
       "      <td>-4.0</td>\n",
       "      <td>-46.0</td>\n",
       "      <td>-383.0</td>\n",
       "    </tr>\n",
       "    <tr>\n",
       "      <th>11</th>\n",
       "      <td>1002</td>\n",
       "      <td>7.0</td>\n",
       "      <td>26.0</td>\n",
       "      <td>214.0</td>\n",
       "      <td>11.0</td>\n",
       "      <td>17580.10</td>\n",
       "      <td>smart</td>\n",
       "      <td>Стерлитамак</td>\n",
       "      <td>50</td>\n",
       "      <td>15360</td>\n",
       "      <td>500</td>\n",
       "      <td>550</td>\n",
       "      <td>200</td>\n",
       "      <td>3</td>\n",
       "      <td>3</td>\n",
       "      <td>3.0</td>\n",
       "      <td>-39.0</td>\n",
       "      <td>-286.0</td>\n",
       "    </tr>\n",
       "    <tr>\n",
       "      <th>12</th>\n",
       "      <td>1002</td>\n",
       "      <td>8.0</td>\n",
       "      <td>42.0</td>\n",
       "      <td>289.0</td>\n",
       "      <td>13.0</td>\n",
       "      <td>20319.26</td>\n",
       "      <td>smart</td>\n",
       "      <td>Стерлитамак</td>\n",
       "      <td>50</td>\n",
       "      <td>15360</td>\n",
       "      <td>500</td>\n",
       "      <td>550</td>\n",
       "      <td>200</td>\n",
       "      <td>3</td>\n",
       "      <td>3</td>\n",
       "      <td>5.0</td>\n",
       "      <td>-37.0</td>\n",
       "      <td>-211.0</td>\n",
       "    </tr>\n",
       "    <tr>\n",
       "      <th>13</th>\n",
       "      <td>1002</td>\n",
       "      <td>9.0</td>\n",
       "      <td>36.0</td>\n",
       "      <td>206.0</td>\n",
       "      <td>4.0</td>\n",
       "      <td>16691.08</td>\n",
       "      <td>smart</td>\n",
       "      <td>Стерлитамак</td>\n",
       "      <td>50</td>\n",
       "      <td>15360</td>\n",
       "      <td>500</td>\n",
       "      <td>550</td>\n",
       "      <td>200</td>\n",
       "      <td>3</td>\n",
       "      <td>3</td>\n",
       "      <td>2.0</td>\n",
       "      <td>-46.0</td>\n",
       "      <td>-294.0</td>\n",
       "    </tr>\n",
       "    <tr>\n",
       "      <th>14</th>\n",
       "      <td>1002</td>\n",
       "      <td>10.0</td>\n",
       "      <td>33.0</td>\n",
       "      <td>212.0</td>\n",
       "      <td>10.0</td>\n",
       "      <td>13888.25</td>\n",
       "      <td>smart</td>\n",
       "      <td>Стерлитамак</td>\n",
       "      <td>50</td>\n",
       "      <td>15360</td>\n",
       "      <td>500</td>\n",
       "      <td>550</td>\n",
       "      <td>200</td>\n",
       "      <td>3</td>\n",
       "      <td>3</td>\n",
       "      <td>-1.0</td>\n",
       "      <td>-40.0</td>\n",
       "      <td>-288.0</td>\n",
       "    </tr>\n",
       "    <tr>\n",
       "      <th>15</th>\n",
       "      <td>1002</td>\n",
       "      <td>11.0</td>\n",
       "      <td>32.0</td>\n",
       "      <td>243.0</td>\n",
       "      <td>16.0</td>\n",
       "      <td>18587.28</td>\n",
       "      <td>smart</td>\n",
       "      <td>Стерлитамак</td>\n",
       "      <td>50</td>\n",
       "      <td>15360</td>\n",
       "      <td>500</td>\n",
       "      <td>550</td>\n",
       "      <td>200</td>\n",
       "      <td>3</td>\n",
       "      <td>3</td>\n",
       "      <td>4.0</td>\n",
       "      <td>-34.0</td>\n",
       "      <td>-257.0</td>\n",
       "    </tr>\n",
       "    <tr>\n",
       "      <th>16</th>\n",
       "      <td>1002</td>\n",
       "      <td>12.0</td>\n",
       "      <td>33.0</td>\n",
       "      <td>236.0</td>\n",
       "      <td>12.0</td>\n",
       "      <td>18113.73</td>\n",
       "      <td>smart</td>\n",
       "      <td>Стерлитамак</td>\n",
       "      <td>50</td>\n",
       "      <td>15360</td>\n",
       "      <td>500</td>\n",
       "      <td>550</td>\n",
       "      <td>200</td>\n",
       "      <td>3</td>\n",
       "      <td>3</td>\n",
       "      <td>3.0</td>\n",
       "      <td>-38.0</td>\n",
       "      <td>-264.0</td>\n",
       "    </tr>\n",
       "    <tr>\n",
       "      <th>17</th>\n",
       "      <td>1003</td>\n",
       "      <td>8.0</td>\n",
       "      <td>55.0</td>\n",
       "      <td>380.0</td>\n",
       "      <td>37.0</td>\n",
       "      <td>8565.21</td>\n",
       "      <td>ultra</td>\n",
       "      <td>Москва</td>\n",
       "      <td>1000</td>\n",
       "      <td>30720</td>\n",
       "      <td>3000</td>\n",
       "      <td>1950</td>\n",
       "      <td>150</td>\n",
       "      <td>1</td>\n",
       "      <td>1</td>\n",
       "      <td>-21.0</td>\n",
       "      <td>-963.0</td>\n",
       "      <td>-2620.0</td>\n",
       "    </tr>\n",
       "    <tr>\n",
       "      <th>18</th>\n",
       "      <td>1003</td>\n",
       "      <td>9.0</td>\n",
       "      <td>134.0</td>\n",
       "      <td>961.0</td>\n",
       "      <td>91.0</td>\n",
       "      <td>12468.87</td>\n",
       "      <td>ultra</td>\n",
       "      <td>Москва</td>\n",
       "      <td>1000</td>\n",
       "      <td>30720</td>\n",
       "      <td>3000</td>\n",
       "      <td>1950</td>\n",
       "      <td>150</td>\n",
       "      <td>1</td>\n",
       "      <td>1</td>\n",
       "      <td>-17.0</td>\n",
       "      <td>-909.0</td>\n",
       "      <td>-2039.0</td>\n",
       "    </tr>\n",
       "    <tr>\n",
       "      <th>19</th>\n",
       "      <td>1003</td>\n",
       "      <td>10.0</td>\n",
       "      <td>108.0</td>\n",
       "      <td>855.0</td>\n",
       "      <td>83.0</td>\n",
       "      <td>14768.14</td>\n",
       "      <td>ultra</td>\n",
       "      <td>Москва</td>\n",
       "      <td>1000</td>\n",
       "      <td>30720</td>\n",
       "      <td>3000</td>\n",
       "      <td>1950</td>\n",
       "      <td>150</td>\n",
       "      <td>1</td>\n",
       "      <td>1</td>\n",
       "      <td>-15.0</td>\n",
       "      <td>-917.0</td>\n",
       "      <td>-2145.0</td>\n",
       "    </tr>\n",
       "  </tbody>\n",
       "</table>\n",
       "</div>"
      ],
      "text/plain": [
       "    user_id  month  call_qnt  call_duration  message_qnt   mb_used tariff  \\\n",
       "0      1000    5.0      22.0          159.0         22.0   2253.49  ultra   \n",
       "1      1000    6.0      43.0          172.0         60.0  23233.77  ultra   \n",
       "2      1000    7.0      47.0          340.0         75.0  14003.64  ultra   \n",
       "3      1000    8.0      52.0          408.0         81.0  14055.93  ultra   \n",
       "4      1000    9.0      58.0          466.0         57.0  14568.91  ultra   \n",
       "5      1000   10.0      57.0          350.0         73.0  14702.49  ultra   \n",
       "6      1000   11.0      43.0          338.0         58.0  14756.47  ultra   \n",
       "7      1000   12.0      46.0          333.0         70.0   9817.61  ultra   \n",
       "8      1001   11.0      59.0          430.0          NaN  18429.34  smart   \n",
       "9      1001   12.0      63.0          414.0          NaN  14036.66  smart   \n",
       "10     1002    6.0      15.0          117.0          4.0  10856.82  smart   \n",
       "11     1002    7.0      26.0          214.0         11.0  17580.10  smart   \n",
       "12     1002    8.0      42.0          289.0         13.0  20319.26  smart   \n",
       "13     1002    9.0      36.0          206.0          4.0  16691.08  smart   \n",
       "14     1002   10.0      33.0          212.0         10.0  13888.25  smart   \n",
       "15     1002   11.0      32.0          243.0         16.0  18587.28  smart   \n",
       "16     1002   12.0      33.0          236.0         12.0  18113.73  smart   \n",
       "17     1003    8.0      55.0          380.0         37.0   8565.21  ultra   \n",
       "18     1003    9.0     134.0          961.0         91.0  12468.87  ultra   \n",
       "19     1003   10.0     108.0          855.0         83.0  14768.14  ultra   \n",
       "\n",
       "           city  messages_included  mb_per_month_included  minutes_included  \\\n",
       "0     Краснодар               1000                  30720              3000   \n",
       "1     Краснодар               1000                  30720              3000   \n",
       "2     Краснодар               1000                  30720              3000   \n",
       "3     Краснодар               1000                  30720              3000   \n",
       "4     Краснодар               1000                  30720              3000   \n",
       "5     Краснодар               1000                  30720              3000   \n",
       "6     Краснодар               1000                  30720              3000   \n",
       "7     Краснодар               1000                  30720              3000   \n",
       "8        Москва                 50                  15360               500   \n",
       "9        Москва                 50                  15360               500   \n",
       "10  Стерлитамак                 50                  15360               500   \n",
       "11  Стерлитамак                 50                  15360               500   \n",
       "12  Стерлитамак                 50                  15360               500   \n",
       "13  Стерлитамак                 50                  15360               500   \n",
       "14  Стерлитамак                 50                  15360               500   \n",
       "15  Стерлитамак                 50                  15360               500   \n",
       "16  Стерлитамак                 50                  15360               500   \n",
       "17       Москва               1000                  30720              3000   \n",
       "18       Москва               1000                  30720              3000   \n",
       "19       Москва               1000                  30720              3000   \n",
       "\n",
       "    rub_monthly_fee  rub_per_gb  rub_per_message  rub_per_minute  gb_extra  \\\n",
       "0              1950         150                1               1     -27.0   \n",
       "1              1950         150                1               1      -7.0   \n",
       "2              1950         150                1               1     -16.0   \n",
       "3              1950         150                1               1     -16.0   \n",
       "4              1950         150                1               1     -15.0   \n",
       "5              1950         150                1               1     -15.0   \n",
       "6              1950         150                1               1     -15.0   \n",
       "7              1950         150                1               1     -20.0   \n",
       "8               550         200                3               3       3.0   \n",
       "9               550         200                3               3      -1.0   \n",
       "10              550         200                3               3      -4.0   \n",
       "11              550         200                3               3       3.0   \n",
       "12              550         200                3               3       5.0   \n",
       "13              550         200                3               3       2.0   \n",
       "14              550         200                3               3      -1.0   \n",
       "15              550         200                3               3       4.0   \n",
       "16              550         200                3               3       3.0   \n",
       "17             1950         150                1               1     -21.0   \n",
       "18             1950         150                1               1     -17.0   \n",
       "19             1950         150                1               1     -15.0   \n",
       "\n",
       "    messages_extra  call_extra  \n",
       "0           -978.0     -2841.0  \n",
       "1           -940.0     -2828.0  \n",
       "2           -925.0     -2660.0  \n",
       "3           -919.0     -2592.0  \n",
       "4           -943.0     -2534.0  \n",
       "5           -927.0     -2650.0  \n",
       "6           -942.0     -2662.0  \n",
       "7           -930.0     -2667.0  \n",
       "8              NaN       -70.0  \n",
       "9              NaN       -86.0  \n",
       "10           -46.0      -383.0  \n",
       "11           -39.0      -286.0  \n",
       "12           -37.0      -211.0  \n",
       "13           -46.0      -294.0  \n",
       "14           -40.0      -288.0  \n",
       "15           -34.0      -257.0  \n",
       "16           -38.0      -264.0  \n",
       "17          -963.0     -2620.0  \n",
       "18          -909.0     -2039.0  \n",
       "19          -917.0     -2145.0  "
      ]
     },
     "metadata": {},
     "output_type": "display_data"
    }
   ],
   "source": [
    "data_merge['gb_extra']=np.ceil((data_merge['mb_used']-data_merge['mb_per_month_included'])/1024)\n",
    "data_merge['messages_extra']=data_merge['message_qnt']-data_merge['messages_included']\n",
    "data_merge['call_extra']=data_merge['call_duration']-data_merge['minutes_included']\n",
    "display(data_merge.head(20))"
   ]
  },
  {
   "cell_type": "markdown",
   "metadata": {},
   "source": [
    "Создадим функцию для расчета экстра платежей при превышении лимитов, установленных тарифами."
   ]
  },
  {
   "cell_type": "code",
   "execution_count": 28,
   "metadata": {},
   "outputs": [
    {
     "data": {
      "text/html": [
       "<div>\n",
       "<style scoped>\n",
       "    .dataframe tbody tr th:only-of-type {\n",
       "        vertical-align: middle;\n",
       "    }\n",
       "\n",
       "    .dataframe tbody tr th {\n",
       "        vertical-align: top;\n",
       "    }\n",
       "\n",
       "    .dataframe thead th {\n",
       "        text-align: right;\n",
       "    }\n",
       "</style>\n",
       "<table border=\"1\" class=\"dataframe\">\n",
       "  <thead>\n",
       "    <tr style=\"text-align: right;\">\n",
       "      <th></th>\n",
       "      <th>user_id</th>\n",
       "      <th>month</th>\n",
       "      <th>call_qnt</th>\n",
       "      <th>call_duration</th>\n",
       "      <th>message_qnt</th>\n",
       "      <th>mb_used</th>\n",
       "      <th>tariff</th>\n",
       "      <th>city</th>\n",
       "      <th>messages_included</th>\n",
       "      <th>mb_per_month_included</th>\n",
       "      <th>minutes_included</th>\n",
       "      <th>rub_monthly_fee</th>\n",
       "      <th>rub_per_gb</th>\n",
       "      <th>rub_per_message</th>\n",
       "      <th>rub_per_minute</th>\n",
       "      <th>gb_extra</th>\n",
       "      <th>messages_extra</th>\n",
       "      <th>call_extra</th>\n",
       "      <th>extra_fee</th>\n",
       "    </tr>\n",
       "  </thead>\n",
       "  <tbody>\n",
       "    <tr>\n",
       "      <th>0</th>\n",
       "      <td>1000</td>\n",
       "      <td>5.0</td>\n",
       "      <td>22.0</td>\n",
       "      <td>159.0</td>\n",
       "      <td>22.0</td>\n",
       "      <td>2253.49</td>\n",
       "      <td>ultra</td>\n",
       "      <td>Краснодар</td>\n",
       "      <td>1000</td>\n",
       "      <td>30720</td>\n",
       "      <td>3000</td>\n",
       "      <td>1950</td>\n",
       "      <td>150</td>\n",
       "      <td>1</td>\n",
       "      <td>1</td>\n",
       "      <td>-27.0</td>\n",
       "      <td>-978.0</td>\n",
       "      <td>-2841.0</td>\n",
       "      <td>0.0</td>\n",
       "    </tr>\n",
       "    <tr>\n",
       "      <th>1</th>\n",
       "      <td>1000</td>\n",
       "      <td>6.0</td>\n",
       "      <td>43.0</td>\n",
       "      <td>172.0</td>\n",
       "      <td>60.0</td>\n",
       "      <td>23233.77</td>\n",
       "      <td>ultra</td>\n",
       "      <td>Краснодар</td>\n",
       "      <td>1000</td>\n",
       "      <td>30720</td>\n",
       "      <td>3000</td>\n",
       "      <td>1950</td>\n",
       "      <td>150</td>\n",
       "      <td>1</td>\n",
       "      <td>1</td>\n",
       "      <td>-7.0</td>\n",
       "      <td>-940.0</td>\n",
       "      <td>-2828.0</td>\n",
       "      <td>0.0</td>\n",
       "    </tr>\n",
       "    <tr>\n",
       "      <th>2</th>\n",
       "      <td>1000</td>\n",
       "      <td>7.0</td>\n",
       "      <td>47.0</td>\n",
       "      <td>340.0</td>\n",
       "      <td>75.0</td>\n",
       "      <td>14003.64</td>\n",
       "      <td>ultra</td>\n",
       "      <td>Краснодар</td>\n",
       "      <td>1000</td>\n",
       "      <td>30720</td>\n",
       "      <td>3000</td>\n",
       "      <td>1950</td>\n",
       "      <td>150</td>\n",
       "      <td>1</td>\n",
       "      <td>1</td>\n",
       "      <td>-16.0</td>\n",
       "      <td>-925.0</td>\n",
       "      <td>-2660.0</td>\n",
       "      <td>0.0</td>\n",
       "    </tr>\n",
       "    <tr>\n",
       "      <th>3</th>\n",
       "      <td>1000</td>\n",
       "      <td>8.0</td>\n",
       "      <td>52.0</td>\n",
       "      <td>408.0</td>\n",
       "      <td>81.0</td>\n",
       "      <td>14055.93</td>\n",
       "      <td>ultra</td>\n",
       "      <td>Краснодар</td>\n",
       "      <td>1000</td>\n",
       "      <td>30720</td>\n",
       "      <td>3000</td>\n",
       "      <td>1950</td>\n",
       "      <td>150</td>\n",
       "      <td>1</td>\n",
       "      <td>1</td>\n",
       "      <td>-16.0</td>\n",
       "      <td>-919.0</td>\n",
       "      <td>-2592.0</td>\n",
       "      <td>0.0</td>\n",
       "    </tr>\n",
       "    <tr>\n",
       "      <th>4</th>\n",
       "      <td>1000</td>\n",
       "      <td>9.0</td>\n",
       "      <td>58.0</td>\n",
       "      <td>466.0</td>\n",
       "      <td>57.0</td>\n",
       "      <td>14568.91</td>\n",
       "      <td>ultra</td>\n",
       "      <td>Краснодар</td>\n",
       "      <td>1000</td>\n",
       "      <td>30720</td>\n",
       "      <td>3000</td>\n",
       "      <td>1950</td>\n",
       "      <td>150</td>\n",
       "      <td>1</td>\n",
       "      <td>1</td>\n",
       "      <td>-15.0</td>\n",
       "      <td>-943.0</td>\n",
       "      <td>-2534.0</td>\n",
       "      <td>0.0</td>\n",
       "    </tr>\n",
       "    <tr>\n",
       "      <th>5</th>\n",
       "      <td>1000</td>\n",
       "      <td>10.0</td>\n",
       "      <td>57.0</td>\n",
       "      <td>350.0</td>\n",
       "      <td>73.0</td>\n",
       "      <td>14702.49</td>\n",
       "      <td>ultra</td>\n",
       "      <td>Краснодар</td>\n",
       "      <td>1000</td>\n",
       "      <td>30720</td>\n",
       "      <td>3000</td>\n",
       "      <td>1950</td>\n",
       "      <td>150</td>\n",
       "      <td>1</td>\n",
       "      <td>1</td>\n",
       "      <td>-15.0</td>\n",
       "      <td>-927.0</td>\n",
       "      <td>-2650.0</td>\n",
       "      <td>0.0</td>\n",
       "    </tr>\n",
       "    <tr>\n",
       "      <th>6</th>\n",
       "      <td>1000</td>\n",
       "      <td>11.0</td>\n",
       "      <td>43.0</td>\n",
       "      <td>338.0</td>\n",
       "      <td>58.0</td>\n",
       "      <td>14756.47</td>\n",
       "      <td>ultra</td>\n",
       "      <td>Краснодар</td>\n",
       "      <td>1000</td>\n",
       "      <td>30720</td>\n",
       "      <td>3000</td>\n",
       "      <td>1950</td>\n",
       "      <td>150</td>\n",
       "      <td>1</td>\n",
       "      <td>1</td>\n",
       "      <td>-15.0</td>\n",
       "      <td>-942.0</td>\n",
       "      <td>-2662.0</td>\n",
       "      <td>0.0</td>\n",
       "    </tr>\n",
       "    <tr>\n",
       "      <th>7</th>\n",
       "      <td>1000</td>\n",
       "      <td>12.0</td>\n",
       "      <td>46.0</td>\n",
       "      <td>333.0</td>\n",
       "      <td>70.0</td>\n",
       "      <td>9817.61</td>\n",
       "      <td>ultra</td>\n",
       "      <td>Краснодар</td>\n",
       "      <td>1000</td>\n",
       "      <td>30720</td>\n",
       "      <td>3000</td>\n",
       "      <td>1950</td>\n",
       "      <td>150</td>\n",
       "      <td>1</td>\n",
       "      <td>1</td>\n",
       "      <td>-20.0</td>\n",
       "      <td>-930.0</td>\n",
       "      <td>-2667.0</td>\n",
       "      <td>0.0</td>\n",
       "    </tr>\n",
       "    <tr>\n",
       "      <th>8</th>\n",
       "      <td>1001</td>\n",
       "      <td>11.0</td>\n",
       "      <td>59.0</td>\n",
       "      <td>430.0</td>\n",
       "      <td>NaN</td>\n",
       "      <td>18429.34</td>\n",
       "      <td>smart</td>\n",
       "      <td>Москва</td>\n",
       "      <td>50</td>\n",
       "      <td>15360</td>\n",
       "      <td>500</td>\n",
       "      <td>550</td>\n",
       "      <td>200</td>\n",
       "      <td>3</td>\n",
       "      <td>3</td>\n",
       "      <td>3.0</td>\n",
       "      <td>NaN</td>\n",
       "      <td>-70.0</td>\n",
       "      <td>600.0</td>\n",
       "    </tr>\n",
       "    <tr>\n",
       "      <th>9</th>\n",
       "      <td>1001</td>\n",
       "      <td>12.0</td>\n",
       "      <td>63.0</td>\n",
       "      <td>414.0</td>\n",
       "      <td>NaN</td>\n",
       "      <td>14036.66</td>\n",
       "      <td>smart</td>\n",
       "      <td>Москва</td>\n",
       "      <td>50</td>\n",
       "      <td>15360</td>\n",
       "      <td>500</td>\n",
       "      <td>550</td>\n",
       "      <td>200</td>\n",
       "      <td>3</td>\n",
       "      <td>3</td>\n",
       "      <td>-1.0</td>\n",
       "      <td>NaN</td>\n",
       "      <td>-86.0</td>\n",
       "      <td>0.0</td>\n",
       "    </tr>\n",
       "  </tbody>\n",
       "</table>\n",
       "</div>"
      ],
      "text/plain": [
       "   user_id  month  call_qnt  call_duration  message_qnt   mb_used tariff  \\\n",
       "0     1000    5.0      22.0          159.0         22.0   2253.49  ultra   \n",
       "1     1000    6.0      43.0          172.0         60.0  23233.77  ultra   \n",
       "2     1000    7.0      47.0          340.0         75.0  14003.64  ultra   \n",
       "3     1000    8.0      52.0          408.0         81.0  14055.93  ultra   \n",
       "4     1000    9.0      58.0          466.0         57.0  14568.91  ultra   \n",
       "5     1000   10.0      57.0          350.0         73.0  14702.49  ultra   \n",
       "6     1000   11.0      43.0          338.0         58.0  14756.47  ultra   \n",
       "7     1000   12.0      46.0          333.0         70.0   9817.61  ultra   \n",
       "8     1001   11.0      59.0          430.0          NaN  18429.34  smart   \n",
       "9     1001   12.0      63.0          414.0          NaN  14036.66  smart   \n",
       "\n",
       "        city  messages_included  mb_per_month_included  minutes_included  \\\n",
       "0  Краснодар               1000                  30720              3000   \n",
       "1  Краснодар               1000                  30720              3000   \n",
       "2  Краснодар               1000                  30720              3000   \n",
       "3  Краснодар               1000                  30720              3000   \n",
       "4  Краснодар               1000                  30720              3000   \n",
       "5  Краснодар               1000                  30720              3000   \n",
       "6  Краснодар               1000                  30720              3000   \n",
       "7  Краснодар               1000                  30720              3000   \n",
       "8     Москва                 50                  15360               500   \n",
       "9     Москва                 50                  15360               500   \n",
       "\n",
       "   rub_monthly_fee  rub_per_gb  rub_per_message  rub_per_minute  gb_extra  \\\n",
       "0             1950         150                1               1     -27.0   \n",
       "1             1950         150                1               1      -7.0   \n",
       "2             1950         150                1               1     -16.0   \n",
       "3             1950         150                1               1     -16.0   \n",
       "4             1950         150                1               1     -15.0   \n",
       "5             1950         150                1               1     -15.0   \n",
       "6             1950         150                1               1     -15.0   \n",
       "7             1950         150                1               1     -20.0   \n",
       "8              550         200                3               3       3.0   \n",
       "9              550         200                3               3      -1.0   \n",
       "\n",
       "   messages_extra  call_extra  extra_fee  \n",
       "0          -978.0     -2841.0        0.0  \n",
       "1          -940.0     -2828.0        0.0  \n",
       "2          -925.0     -2660.0        0.0  \n",
       "3          -919.0     -2592.0        0.0  \n",
       "4          -943.0     -2534.0        0.0  \n",
       "5          -927.0     -2650.0        0.0  \n",
       "6          -942.0     -2662.0        0.0  \n",
       "7          -930.0     -2667.0        0.0  \n",
       "8             NaN       -70.0      600.0  \n",
       "9             NaN       -86.0        0.0  "
      ]
     },
     "metadata": {},
     "output_type": "display_data"
    }
   ],
   "source": [
    "def extra_fee(row):   \n",
    "    \n",
    "    extra_fee = 0\n",
    "    \n",
    "    gb_extra = row['gb_extra']\n",
    "    messages_extra = row['messages_extra']\n",
    "    call_extra = row['call_extra']\n",
    "    rub_per_gb = row['rub_per_gb']\n",
    "    rub_per_message = row['rub_per_message']\n",
    "    rub_per_minute = row['rub_per_minute']\n",
    "    \n",
    "    if gb_extra >= 0:\n",
    "        extra_fee += gb_extra*rub_per_gb\n",
    "\n",
    "    if messages_extra >= 0:\n",
    "        extra_fee += messages_extra*rub_per_message\n",
    "   \n",
    "    if call_extra >= 0:\n",
    "        extra_fee += call_extra*rub_per_minute\n",
    "    \n",
    "    return extra_fee\n",
    "\n",
    "#проверка работы функции\n",
    "#row_values = [15, 36, 4, 200, 1, 1]\n",
    "#row_columns = ['gb_extra', 'call_extra', 'messages_extra', 'rub_per_gb', 'rub_per_message', 'rub_per_minute']\n",
    "#row = pd.Series(data = row_values, index = row_columns)\n",
    "#extra_fee(row)\n",
    "\n",
    "\n",
    "data_merge['extra_fee'] = data_merge.apply(extra_fee, axis = 1)\n",
    "display(data_merge.head(10))"
   ]
  },
  {
   "cell_type": "code",
   "execution_count": 29,
   "metadata": {},
   "outputs": [
    {
     "data": {
      "text/html": [
       "<div>\n",
       "<style scoped>\n",
       "    .dataframe tbody tr th:only-of-type {\n",
       "        vertical-align: middle;\n",
       "    }\n",
       "\n",
       "    .dataframe tbody tr th {\n",
       "        vertical-align: top;\n",
       "    }\n",
       "\n",
       "    .dataframe thead th {\n",
       "        text-align: right;\n",
       "    }\n",
       "</style>\n",
       "<table border=\"1\" class=\"dataframe\">\n",
       "  <thead>\n",
       "    <tr style=\"text-align: right;\">\n",
       "      <th></th>\n",
       "      <th>user_id</th>\n",
       "      <th>month</th>\n",
       "      <th>call_qnt</th>\n",
       "      <th>call_duration</th>\n",
       "      <th>message_qnt</th>\n",
       "      <th>mb_used</th>\n",
       "      <th>tariff</th>\n",
       "      <th>city</th>\n",
       "      <th>messages_included</th>\n",
       "      <th>mb_per_month_included</th>\n",
       "      <th>minutes_included</th>\n",
       "      <th>rub_monthly_fee</th>\n",
       "      <th>rub_per_gb</th>\n",
       "      <th>rub_per_message</th>\n",
       "      <th>rub_per_minute</th>\n",
       "      <th>gb_extra</th>\n",
       "      <th>messages_extra</th>\n",
       "      <th>call_extra</th>\n",
       "      <th>extra_fee</th>\n",
       "      <th>total_fee</th>\n",
       "    </tr>\n",
       "  </thead>\n",
       "  <tbody>\n",
       "    <tr>\n",
       "      <th>0</th>\n",
       "      <td>1000</td>\n",
       "      <td>5.0</td>\n",
       "      <td>22.0</td>\n",
       "      <td>159.0</td>\n",
       "      <td>22.0</td>\n",
       "      <td>2253.49</td>\n",
       "      <td>ultra</td>\n",
       "      <td>Краснодар</td>\n",
       "      <td>1000</td>\n",
       "      <td>30720</td>\n",
       "      <td>3000</td>\n",
       "      <td>1950</td>\n",
       "      <td>150</td>\n",
       "      <td>1</td>\n",
       "      <td>1</td>\n",
       "      <td>-27.0</td>\n",
       "      <td>-978.0</td>\n",
       "      <td>-2841.0</td>\n",
       "      <td>0.0</td>\n",
       "      <td>1950.0</td>\n",
       "    </tr>\n",
       "    <tr>\n",
       "      <th>1</th>\n",
       "      <td>1000</td>\n",
       "      <td>6.0</td>\n",
       "      <td>43.0</td>\n",
       "      <td>172.0</td>\n",
       "      <td>60.0</td>\n",
       "      <td>23233.77</td>\n",
       "      <td>ultra</td>\n",
       "      <td>Краснодар</td>\n",
       "      <td>1000</td>\n",
       "      <td>30720</td>\n",
       "      <td>3000</td>\n",
       "      <td>1950</td>\n",
       "      <td>150</td>\n",
       "      <td>1</td>\n",
       "      <td>1</td>\n",
       "      <td>-7.0</td>\n",
       "      <td>-940.0</td>\n",
       "      <td>-2828.0</td>\n",
       "      <td>0.0</td>\n",
       "      <td>1950.0</td>\n",
       "    </tr>\n",
       "    <tr>\n",
       "      <th>2</th>\n",
       "      <td>1000</td>\n",
       "      <td>7.0</td>\n",
       "      <td>47.0</td>\n",
       "      <td>340.0</td>\n",
       "      <td>75.0</td>\n",
       "      <td>14003.64</td>\n",
       "      <td>ultra</td>\n",
       "      <td>Краснодар</td>\n",
       "      <td>1000</td>\n",
       "      <td>30720</td>\n",
       "      <td>3000</td>\n",
       "      <td>1950</td>\n",
       "      <td>150</td>\n",
       "      <td>1</td>\n",
       "      <td>1</td>\n",
       "      <td>-16.0</td>\n",
       "      <td>-925.0</td>\n",
       "      <td>-2660.0</td>\n",
       "      <td>0.0</td>\n",
       "      <td>1950.0</td>\n",
       "    </tr>\n",
       "    <tr>\n",
       "      <th>3</th>\n",
       "      <td>1000</td>\n",
       "      <td>8.0</td>\n",
       "      <td>52.0</td>\n",
       "      <td>408.0</td>\n",
       "      <td>81.0</td>\n",
       "      <td>14055.93</td>\n",
       "      <td>ultra</td>\n",
       "      <td>Краснодар</td>\n",
       "      <td>1000</td>\n",
       "      <td>30720</td>\n",
       "      <td>3000</td>\n",
       "      <td>1950</td>\n",
       "      <td>150</td>\n",
       "      <td>1</td>\n",
       "      <td>1</td>\n",
       "      <td>-16.0</td>\n",
       "      <td>-919.0</td>\n",
       "      <td>-2592.0</td>\n",
       "      <td>0.0</td>\n",
       "      <td>1950.0</td>\n",
       "    </tr>\n",
       "    <tr>\n",
       "      <th>4</th>\n",
       "      <td>1000</td>\n",
       "      <td>9.0</td>\n",
       "      <td>58.0</td>\n",
       "      <td>466.0</td>\n",
       "      <td>57.0</td>\n",
       "      <td>14568.91</td>\n",
       "      <td>ultra</td>\n",
       "      <td>Краснодар</td>\n",
       "      <td>1000</td>\n",
       "      <td>30720</td>\n",
       "      <td>3000</td>\n",
       "      <td>1950</td>\n",
       "      <td>150</td>\n",
       "      <td>1</td>\n",
       "      <td>1</td>\n",
       "      <td>-15.0</td>\n",
       "      <td>-943.0</td>\n",
       "      <td>-2534.0</td>\n",
       "      <td>0.0</td>\n",
       "      <td>1950.0</td>\n",
       "    </tr>\n",
       "    <tr>\n",
       "      <th>5</th>\n",
       "      <td>1000</td>\n",
       "      <td>10.0</td>\n",
       "      <td>57.0</td>\n",
       "      <td>350.0</td>\n",
       "      <td>73.0</td>\n",
       "      <td>14702.49</td>\n",
       "      <td>ultra</td>\n",
       "      <td>Краснодар</td>\n",
       "      <td>1000</td>\n",
       "      <td>30720</td>\n",
       "      <td>3000</td>\n",
       "      <td>1950</td>\n",
       "      <td>150</td>\n",
       "      <td>1</td>\n",
       "      <td>1</td>\n",
       "      <td>-15.0</td>\n",
       "      <td>-927.0</td>\n",
       "      <td>-2650.0</td>\n",
       "      <td>0.0</td>\n",
       "      <td>1950.0</td>\n",
       "    </tr>\n",
       "    <tr>\n",
       "      <th>6</th>\n",
       "      <td>1000</td>\n",
       "      <td>11.0</td>\n",
       "      <td>43.0</td>\n",
       "      <td>338.0</td>\n",
       "      <td>58.0</td>\n",
       "      <td>14756.47</td>\n",
       "      <td>ultra</td>\n",
       "      <td>Краснодар</td>\n",
       "      <td>1000</td>\n",
       "      <td>30720</td>\n",
       "      <td>3000</td>\n",
       "      <td>1950</td>\n",
       "      <td>150</td>\n",
       "      <td>1</td>\n",
       "      <td>1</td>\n",
       "      <td>-15.0</td>\n",
       "      <td>-942.0</td>\n",
       "      <td>-2662.0</td>\n",
       "      <td>0.0</td>\n",
       "      <td>1950.0</td>\n",
       "    </tr>\n",
       "    <tr>\n",
       "      <th>7</th>\n",
       "      <td>1000</td>\n",
       "      <td>12.0</td>\n",
       "      <td>46.0</td>\n",
       "      <td>333.0</td>\n",
       "      <td>70.0</td>\n",
       "      <td>9817.61</td>\n",
       "      <td>ultra</td>\n",
       "      <td>Краснодар</td>\n",
       "      <td>1000</td>\n",
       "      <td>30720</td>\n",
       "      <td>3000</td>\n",
       "      <td>1950</td>\n",
       "      <td>150</td>\n",
       "      <td>1</td>\n",
       "      <td>1</td>\n",
       "      <td>-20.0</td>\n",
       "      <td>-930.0</td>\n",
       "      <td>-2667.0</td>\n",
       "      <td>0.0</td>\n",
       "      <td>1950.0</td>\n",
       "    </tr>\n",
       "    <tr>\n",
       "      <th>8</th>\n",
       "      <td>1001</td>\n",
       "      <td>11.0</td>\n",
       "      <td>59.0</td>\n",
       "      <td>430.0</td>\n",
       "      <td>NaN</td>\n",
       "      <td>18429.34</td>\n",
       "      <td>smart</td>\n",
       "      <td>Москва</td>\n",
       "      <td>50</td>\n",
       "      <td>15360</td>\n",
       "      <td>500</td>\n",
       "      <td>550</td>\n",
       "      <td>200</td>\n",
       "      <td>3</td>\n",
       "      <td>3</td>\n",
       "      <td>3.0</td>\n",
       "      <td>NaN</td>\n",
       "      <td>-70.0</td>\n",
       "      <td>600.0</td>\n",
       "      <td>1150.0</td>\n",
       "    </tr>\n",
       "    <tr>\n",
       "      <th>9</th>\n",
       "      <td>1001</td>\n",
       "      <td>12.0</td>\n",
       "      <td>63.0</td>\n",
       "      <td>414.0</td>\n",
       "      <td>NaN</td>\n",
       "      <td>14036.66</td>\n",
       "      <td>smart</td>\n",
       "      <td>Москва</td>\n",
       "      <td>50</td>\n",
       "      <td>15360</td>\n",
       "      <td>500</td>\n",
       "      <td>550</td>\n",
       "      <td>200</td>\n",
       "      <td>3</td>\n",
       "      <td>3</td>\n",
       "      <td>-1.0</td>\n",
       "      <td>NaN</td>\n",
       "      <td>-86.0</td>\n",
       "      <td>0.0</td>\n",
       "      <td>550.0</td>\n",
       "    </tr>\n",
       "  </tbody>\n",
       "</table>\n",
       "</div>"
      ],
      "text/plain": [
       "   user_id  month  call_qnt  call_duration  message_qnt   mb_used tariff  \\\n",
       "0     1000    5.0      22.0          159.0         22.0   2253.49  ultra   \n",
       "1     1000    6.0      43.0          172.0         60.0  23233.77  ultra   \n",
       "2     1000    7.0      47.0          340.0         75.0  14003.64  ultra   \n",
       "3     1000    8.0      52.0          408.0         81.0  14055.93  ultra   \n",
       "4     1000    9.0      58.0          466.0         57.0  14568.91  ultra   \n",
       "5     1000   10.0      57.0          350.0         73.0  14702.49  ultra   \n",
       "6     1000   11.0      43.0          338.0         58.0  14756.47  ultra   \n",
       "7     1000   12.0      46.0          333.0         70.0   9817.61  ultra   \n",
       "8     1001   11.0      59.0          430.0          NaN  18429.34  smart   \n",
       "9     1001   12.0      63.0          414.0          NaN  14036.66  smart   \n",
       "\n",
       "        city  messages_included  mb_per_month_included  minutes_included  \\\n",
       "0  Краснодар               1000                  30720              3000   \n",
       "1  Краснодар               1000                  30720              3000   \n",
       "2  Краснодар               1000                  30720              3000   \n",
       "3  Краснодар               1000                  30720              3000   \n",
       "4  Краснодар               1000                  30720              3000   \n",
       "5  Краснодар               1000                  30720              3000   \n",
       "6  Краснодар               1000                  30720              3000   \n",
       "7  Краснодар               1000                  30720              3000   \n",
       "8     Москва                 50                  15360               500   \n",
       "9     Москва                 50                  15360               500   \n",
       "\n",
       "   rub_monthly_fee  rub_per_gb  rub_per_message  rub_per_minute  gb_extra  \\\n",
       "0             1950         150                1               1     -27.0   \n",
       "1             1950         150                1               1      -7.0   \n",
       "2             1950         150                1               1     -16.0   \n",
       "3             1950         150                1               1     -16.0   \n",
       "4             1950         150                1               1     -15.0   \n",
       "5             1950         150                1               1     -15.0   \n",
       "6             1950         150                1               1     -15.0   \n",
       "7             1950         150                1               1     -20.0   \n",
       "8              550         200                3               3       3.0   \n",
       "9              550         200                3               3      -1.0   \n",
       "\n",
       "   messages_extra  call_extra  extra_fee  total_fee  \n",
       "0          -978.0     -2841.0        0.0     1950.0  \n",
       "1          -940.0     -2828.0        0.0     1950.0  \n",
       "2          -925.0     -2660.0        0.0     1950.0  \n",
       "3          -919.0     -2592.0        0.0     1950.0  \n",
       "4          -943.0     -2534.0        0.0     1950.0  \n",
       "5          -927.0     -2650.0        0.0     1950.0  \n",
       "6          -942.0     -2662.0        0.0     1950.0  \n",
       "7          -930.0     -2667.0        0.0     1950.0  \n",
       "8             NaN       -70.0      600.0     1150.0  \n",
       "9             NaN       -86.0        0.0      550.0  "
      ]
     },
     "metadata": {},
     "output_type": "display_data"
    }
   ],
   "source": [
    "data_merge['total_fee'] = data_merge['extra_fee'] + data_merge['rub_monthly_fee']\n",
    "display(data_merge.head(10))"
   ]
  },
  {
   "cell_type": "markdown",
   "metadata": {},
   "source": [
    "## Исследовательский анализ данных"
   ]
  },
  {
   "cell_type": "code",
   "execution_count": 30,
   "metadata": {},
   "outputs": [
    {
     "data": {
      "text/html": [
       "<div>\n",
       "<style scoped>\n",
       "    .dataframe tbody tr th:only-of-type {\n",
       "        vertical-align: middle;\n",
       "    }\n",
       "\n",
       "    .dataframe tbody tr th {\n",
       "        vertical-align: top;\n",
       "    }\n",
       "\n",
       "    .dataframe thead th {\n",
       "        text-align: right;\n",
       "    }\n",
       "</style>\n",
       "<table border=\"1\" class=\"dataframe\">\n",
       "  <thead>\n",
       "    <tr style=\"text-align: right;\">\n",
       "      <th></th>\n",
       "      <th>user_id</th>\n",
       "      <th>month</th>\n",
       "      <th>call_qnt</th>\n",
       "      <th>call_duration</th>\n",
       "      <th>message_qnt</th>\n",
       "      <th>mb_used</th>\n",
       "      <th>tariff</th>\n",
       "      <th>city</th>\n",
       "      <th>messages_included</th>\n",
       "      <th>mb_per_month_included</th>\n",
       "      <th>minutes_included</th>\n",
       "      <th>rub_monthly_fee</th>\n",
       "      <th>rub_per_gb</th>\n",
       "      <th>rub_per_message</th>\n",
       "      <th>rub_per_minute</th>\n",
       "      <th>gb_extra</th>\n",
       "      <th>messages_extra</th>\n",
       "      <th>call_extra</th>\n",
       "      <th>extra_fee</th>\n",
       "      <th>total_fee</th>\n",
       "    </tr>\n",
       "  </thead>\n",
       "  <tbody>\n",
       "    <tr>\n",
       "      <th>8</th>\n",
       "      <td>1001</td>\n",
       "      <td>11.0</td>\n",
       "      <td>59.0</td>\n",
       "      <td>430.0</td>\n",
       "      <td>NaN</td>\n",
       "      <td>18429.34</td>\n",
       "      <td>smart</td>\n",
       "      <td>Москва</td>\n",
       "      <td>50</td>\n",
       "      <td>15360</td>\n",
       "      <td>500</td>\n",
       "      <td>550</td>\n",
       "      <td>200</td>\n",
       "      <td>3</td>\n",
       "      <td>3</td>\n",
       "      <td>3.0</td>\n",
       "      <td>NaN</td>\n",
       "      <td>-70.0</td>\n",
       "      <td>600.0</td>\n",
       "      <td>1150.0</td>\n",
       "    </tr>\n",
       "    <tr>\n",
       "      <th>9</th>\n",
       "      <td>1001</td>\n",
       "      <td>12.0</td>\n",
       "      <td>63.0</td>\n",
       "      <td>414.0</td>\n",
       "      <td>NaN</td>\n",
       "      <td>14036.66</td>\n",
       "      <td>smart</td>\n",
       "      <td>Москва</td>\n",
       "      <td>50</td>\n",
       "      <td>15360</td>\n",
       "      <td>500</td>\n",
       "      <td>550</td>\n",
       "      <td>200</td>\n",
       "      <td>3</td>\n",
       "      <td>3</td>\n",
       "      <td>-1.0</td>\n",
       "      <td>NaN</td>\n",
       "      <td>-86.0</td>\n",
       "      <td>0.0</td>\n",
       "      <td>550.0</td>\n",
       "    </tr>\n",
       "    <tr>\n",
       "      <th>10</th>\n",
       "      <td>1002</td>\n",
       "      <td>6.0</td>\n",
       "      <td>15.0</td>\n",
       "      <td>117.0</td>\n",
       "      <td>4.0</td>\n",
       "      <td>10856.82</td>\n",
       "      <td>smart</td>\n",
       "      <td>Стерлитамак</td>\n",
       "      <td>50</td>\n",
       "      <td>15360</td>\n",
       "      <td>500</td>\n",
       "      <td>550</td>\n",
       "      <td>200</td>\n",
       "      <td>3</td>\n",
       "      <td>3</td>\n",
       "      <td>-4.0</td>\n",
       "      <td>-46.0</td>\n",
       "      <td>-383.0</td>\n",
       "      <td>0.0</td>\n",
       "      <td>550.0</td>\n",
       "    </tr>\n",
       "    <tr>\n",
       "      <th>11</th>\n",
       "      <td>1002</td>\n",
       "      <td>7.0</td>\n",
       "      <td>26.0</td>\n",
       "      <td>214.0</td>\n",
       "      <td>11.0</td>\n",
       "      <td>17580.10</td>\n",
       "      <td>smart</td>\n",
       "      <td>Стерлитамак</td>\n",
       "      <td>50</td>\n",
       "      <td>15360</td>\n",
       "      <td>500</td>\n",
       "      <td>550</td>\n",
       "      <td>200</td>\n",
       "      <td>3</td>\n",
       "      <td>3</td>\n",
       "      <td>3.0</td>\n",
       "      <td>-39.0</td>\n",
       "      <td>-286.0</td>\n",
       "      <td>600.0</td>\n",
       "      <td>1150.0</td>\n",
       "    </tr>\n",
       "    <tr>\n",
       "      <th>12</th>\n",
       "      <td>1002</td>\n",
       "      <td>8.0</td>\n",
       "      <td>42.0</td>\n",
       "      <td>289.0</td>\n",
       "      <td>13.0</td>\n",
       "      <td>20319.26</td>\n",
       "      <td>smart</td>\n",
       "      <td>Стерлитамак</td>\n",
       "      <td>50</td>\n",
       "      <td>15360</td>\n",
       "      <td>500</td>\n",
       "      <td>550</td>\n",
       "      <td>200</td>\n",
       "      <td>3</td>\n",
       "      <td>3</td>\n",
       "      <td>5.0</td>\n",
       "      <td>-37.0</td>\n",
       "      <td>-211.0</td>\n",
       "      <td>1000.0</td>\n",
       "      <td>1550.0</td>\n",
       "    </tr>\n",
       "  </tbody>\n",
       "</table>\n",
       "</div>"
      ],
      "text/plain": [
       "    user_id  month  call_qnt  call_duration  message_qnt   mb_used tariff  \\\n",
       "8      1001   11.0      59.0          430.0          NaN  18429.34  smart   \n",
       "9      1001   12.0      63.0          414.0          NaN  14036.66  smart   \n",
       "10     1002    6.0      15.0          117.0          4.0  10856.82  smart   \n",
       "11     1002    7.0      26.0          214.0         11.0  17580.10  smart   \n",
       "12     1002    8.0      42.0          289.0         13.0  20319.26  smart   \n",
       "\n",
       "           city  messages_included  mb_per_month_included  minutes_included  \\\n",
       "8        Москва                 50                  15360               500   \n",
       "9        Москва                 50                  15360               500   \n",
       "10  Стерлитамак                 50                  15360               500   \n",
       "11  Стерлитамак                 50                  15360               500   \n",
       "12  Стерлитамак                 50                  15360               500   \n",
       "\n",
       "    rub_monthly_fee  rub_per_gb  rub_per_message  rub_per_minute  gb_extra  \\\n",
       "8               550         200                3               3       3.0   \n",
       "9               550         200                3               3      -1.0   \n",
       "10              550         200                3               3      -4.0   \n",
       "11              550         200                3               3       3.0   \n",
       "12              550         200                3               3       5.0   \n",
       "\n",
       "    messages_extra  call_extra  extra_fee  total_fee  \n",
       "8              NaN       -70.0      600.0     1150.0  \n",
       "9              NaN       -86.0        0.0      550.0  \n",
       "10           -46.0      -383.0        0.0      550.0  \n",
       "11           -39.0      -286.0      600.0     1150.0  \n",
       "12           -37.0      -211.0     1000.0     1550.0  "
      ]
     },
     "metadata": {},
     "output_type": "display_data"
    }
   ],
   "source": [
    "smart = data_merge[data_merge['tariff'] == \"smart\"]\n",
    "display(smart.head())"
   ]
  },
  {
   "cell_type": "code",
   "execution_count": 31,
   "metadata": {
    "scrolled": true
   },
   "outputs": [
    {
     "data": {
      "text/html": [
       "<div>\n",
       "<style scoped>\n",
       "    .dataframe tbody tr th:only-of-type {\n",
       "        vertical-align: middle;\n",
       "    }\n",
       "\n",
       "    .dataframe tbody tr th {\n",
       "        vertical-align: top;\n",
       "    }\n",
       "\n",
       "    .dataframe thead th {\n",
       "        text-align: right;\n",
       "    }\n",
       "</style>\n",
       "<table border=\"1\" class=\"dataframe\">\n",
       "  <thead>\n",
       "    <tr style=\"text-align: right;\">\n",
       "      <th></th>\n",
       "      <th>user_id</th>\n",
       "      <th>month</th>\n",
       "      <th>call_qnt</th>\n",
       "      <th>call_duration</th>\n",
       "      <th>message_qnt</th>\n",
       "      <th>mb_used</th>\n",
       "      <th>tariff</th>\n",
       "      <th>city</th>\n",
       "      <th>messages_included</th>\n",
       "      <th>mb_per_month_included</th>\n",
       "      <th>minutes_included</th>\n",
       "      <th>rub_monthly_fee</th>\n",
       "      <th>rub_per_gb</th>\n",
       "      <th>rub_per_message</th>\n",
       "      <th>rub_per_minute</th>\n",
       "      <th>gb_extra</th>\n",
       "      <th>messages_extra</th>\n",
       "      <th>call_extra</th>\n",
       "      <th>extra_fee</th>\n",
       "      <th>total_fee</th>\n",
       "    </tr>\n",
       "  </thead>\n",
       "  <tbody>\n",
       "    <tr>\n",
       "      <th>0</th>\n",
       "      <td>1000</td>\n",
       "      <td>5.0</td>\n",
       "      <td>22.0</td>\n",
       "      <td>159.0</td>\n",
       "      <td>22.0</td>\n",
       "      <td>2253.49</td>\n",
       "      <td>ultra</td>\n",
       "      <td>Краснодар</td>\n",
       "      <td>1000</td>\n",
       "      <td>30720</td>\n",
       "      <td>3000</td>\n",
       "      <td>1950</td>\n",
       "      <td>150</td>\n",
       "      <td>1</td>\n",
       "      <td>1</td>\n",
       "      <td>-27.0</td>\n",
       "      <td>-978.0</td>\n",
       "      <td>-2841.0</td>\n",
       "      <td>0.0</td>\n",
       "      <td>1950.0</td>\n",
       "    </tr>\n",
       "    <tr>\n",
       "      <th>1</th>\n",
       "      <td>1000</td>\n",
       "      <td>6.0</td>\n",
       "      <td>43.0</td>\n",
       "      <td>172.0</td>\n",
       "      <td>60.0</td>\n",
       "      <td>23233.77</td>\n",
       "      <td>ultra</td>\n",
       "      <td>Краснодар</td>\n",
       "      <td>1000</td>\n",
       "      <td>30720</td>\n",
       "      <td>3000</td>\n",
       "      <td>1950</td>\n",
       "      <td>150</td>\n",
       "      <td>1</td>\n",
       "      <td>1</td>\n",
       "      <td>-7.0</td>\n",
       "      <td>-940.0</td>\n",
       "      <td>-2828.0</td>\n",
       "      <td>0.0</td>\n",
       "      <td>1950.0</td>\n",
       "    </tr>\n",
       "    <tr>\n",
       "      <th>2</th>\n",
       "      <td>1000</td>\n",
       "      <td>7.0</td>\n",
       "      <td>47.0</td>\n",
       "      <td>340.0</td>\n",
       "      <td>75.0</td>\n",
       "      <td>14003.64</td>\n",
       "      <td>ultra</td>\n",
       "      <td>Краснодар</td>\n",
       "      <td>1000</td>\n",
       "      <td>30720</td>\n",
       "      <td>3000</td>\n",
       "      <td>1950</td>\n",
       "      <td>150</td>\n",
       "      <td>1</td>\n",
       "      <td>1</td>\n",
       "      <td>-16.0</td>\n",
       "      <td>-925.0</td>\n",
       "      <td>-2660.0</td>\n",
       "      <td>0.0</td>\n",
       "      <td>1950.0</td>\n",
       "    </tr>\n",
       "    <tr>\n",
       "      <th>3</th>\n",
       "      <td>1000</td>\n",
       "      <td>8.0</td>\n",
       "      <td>52.0</td>\n",
       "      <td>408.0</td>\n",
       "      <td>81.0</td>\n",
       "      <td>14055.93</td>\n",
       "      <td>ultra</td>\n",
       "      <td>Краснодар</td>\n",
       "      <td>1000</td>\n",
       "      <td>30720</td>\n",
       "      <td>3000</td>\n",
       "      <td>1950</td>\n",
       "      <td>150</td>\n",
       "      <td>1</td>\n",
       "      <td>1</td>\n",
       "      <td>-16.0</td>\n",
       "      <td>-919.0</td>\n",
       "      <td>-2592.0</td>\n",
       "      <td>0.0</td>\n",
       "      <td>1950.0</td>\n",
       "    </tr>\n",
       "    <tr>\n",
       "      <th>4</th>\n",
       "      <td>1000</td>\n",
       "      <td>9.0</td>\n",
       "      <td>58.0</td>\n",
       "      <td>466.0</td>\n",
       "      <td>57.0</td>\n",
       "      <td>14568.91</td>\n",
       "      <td>ultra</td>\n",
       "      <td>Краснодар</td>\n",
       "      <td>1000</td>\n",
       "      <td>30720</td>\n",
       "      <td>3000</td>\n",
       "      <td>1950</td>\n",
       "      <td>150</td>\n",
       "      <td>1</td>\n",
       "      <td>1</td>\n",
       "      <td>-15.0</td>\n",
       "      <td>-943.0</td>\n",
       "      <td>-2534.0</td>\n",
       "      <td>0.0</td>\n",
       "      <td>1950.0</td>\n",
       "    </tr>\n",
       "  </tbody>\n",
       "</table>\n",
       "</div>"
      ],
      "text/plain": [
       "   user_id  month  call_qnt  call_duration  message_qnt   mb_used tariff  \\\n",
       "0     1000    5.0      22.0          159.0         22.0   2253.49  ultra   \n",
       "1     1000    6.0      43.0          172.0         60.0  23233.77  ultra   \n",
       "2     1000    7.0      47.0          340.0         75.0  14003.64  ultra   \n",
       "3     1000    8.0      52.0          408.0         81.0  14055.93  ultra   \n",
       "4     1000    9.0      58.0          466.0         57.0  14568.91  ultra   \n",
       "\n",
       "        city  messages_included  mb_per_month_included  minutes_included  \\\n",
       "0  Краснодар               1000                  30720              3000   \n",
       "1  Краснодар               1000                  30720              3000   \n",
       "2  Краснодар               1000                  30720              3000   \n",
       "3  Краснодар               1000                  30720              3000   \n",
       "4  Краснодар               1000                  30720              3000   \n",
       "\n",
       "   rub_monthly_fee  rub_per_gb  rub_per_message  rub_per_minute  gb_extra  \\\n",
       "0             1950         150                1               1     -27.0   \n",
       "1             1950         150                1               1      -7.0   \n",
       "2             1950         150                1               1     -16.0   \n",
       "3             1950         150                1               1     -16.0   \n",
       "4             1950         150                1               1     -15.0   \n",
       "\n",
       "   messages_extra  call_extra  extra_fee  total_fee  \n",
       "0          -978.0     -2841.0        0.0     1950.0  \n",
       "1          -940.0     -2828.0        0.0     1950.0  \n",
       "2          -925.0     -2660.0        0.0     1950.0  \n",
       "3          -919.0     -2592.0        0.0     1950.0  \n",
       "4          -943.0     -2534.0        0.0     1950.0  "
      ]
     },
     "metadata": {},
     "output_type": "display_data"
    }
   ],
   "source": [
    "ultra = data_merge[data_merge['tariff'] == \"ultra\"]\n",
    "display(ultra.head())"
   ]
  },
  {
   "cell_type": "code",
   "execution_count": 32,
   "metadata": {},
   "outputs": [
    {
     "data": {
      "text/html": [
       "<div>\n",
       "<style scoped>\n",
       "    .dataframe tbody tr th:only-of-type {\n",
       "        vertical-align: middle;\n",
       "    }\n",
       "\n",
       "    .dataframe tbody tr th {\n",
       "        vertical-align: top;\n",
       "    }\n",
       "\n",
       "    .dataframe thead th {\n",
       "        text-align: right;\n",
       "    }\n",
       "</style>\n",
       "<table border=\"1\" class=\"dataframe\">\n",
       "  <thead>\n",
       "    <tr style=\"text-align: right;\">\n",
       "      <th></th>\n",
       "      <th>user_id</th>\n",
       "      <th>month</th>\n",
       "      <th>call_qnt</th>\n",
       "      <th>call_duration</th>\n",
       "      <th>message_qnt</th>\n",
       "      <th>mb_used</th>\n",
       "      <th>tariff</th>\n",
       "      <th>city</th>\n",
       "      <th>messages_included</th>\n",
       "      <th>mb_per_month_included</th>\n",
       "      <th>minutes_included</th>\n",
       "      <th>rub_monthly_fee</th>\n",
       "      <th>rub_per_gb</th>\n",
       "      <th>rub_per_message</th>\n",
       "      <th>rub_per_minute</th>\n",
       "      <th>gb_extra</th>\n",
       "      <th>messages_extra</th>\n",
       "      <th>call_extra</th>\n",
       "      <th>extra_fee</th>\n",
       "      <th>total_fee</th>\n",
       "    </tr>\n",
       "  </thead>\n",
       "  <tbody>\n",
       "    <tr>\n",
       "      <th>8</th>\n",
       "      <td>1001</td>\n",
       "      <td>11.0</td>\n",
       "      <td>59.0</td>\n",
       "      <td>430.0</td>\n",
       "      <td>NaN</td>\n",
       "      <td>18429.34</td>\n",
       "      <td>smart</td>\n",
       "      <td>Москва</td>\n",
       "      <td>50</td>\n",
       "      <td>15360</td>\n",
       "      <td>500</td>\n",
       "      <td>550</td>\n",
       "      <td>200</td>\n",
       "      <td>3</td>\n",
       "      <td>3</td>\n",
       "      <td>3.0</td>\n",
       "      <td>NaN</td>\n",
       "      <td>-70.0</td>\n",
       "      <td>600.0</td>\n",
       "      <td>1150.0</td>\n",
       "    </tr>\n",
       "    <tr>\n",
       "      <th>9</th>\n",
       "      <td>1001</td>\n",
       "      <td>12.0</td>\n",
       "      <td>63.0</td>\n",
       "      <td>414.0</td>\n",
       "      <td>NaN</td>\n",
       "      <td>14036.66</td>\n",
       "      <td>smart</td>\n",
       "      <td>Москва</td>\n",
       "      <td>50</td>\n",
       "      <td>15360</td>\n",
       "      <td>500</td>\n",
       "      <td>550</td>\n",
       "      <td>200</td>\n",
       "      <td>3</td>\n",
       "      <td>3</td>\n",
       "      <td>-1.0</td>\n",
       "      <td>NaN</td>\n",
       "      <td>-86.0</td>\n",
       "      <td>0.0</td>\n",
       "      <td>550.0</td>\n",
       "    </tr>\n",
       "    <tr>\n",
       "      <th>17</th>\n",
       "      <td>1003</td>\n",
       "      <td>8.0</td>\n",
       "      <td>55.0</td>\n",
       "      <td>380.0</td>\n",
       "      <td>37.0</td>\n",
       "      <td>8565.21</td>\n",
       "      <td>ultra</td>\n",
       "      <td>Москва</td>\n",
       "      <td>1000</td>\n",
       "      <td>30720</td>\n",
       "      <td>3000</td>\n",
       "      <td>1950</td>\n",
       "      <td>150</td>\n",
       "      <td>1</td>\n",
       "      <td>1</td>\n",
       "      <td>-21.0</td>\n",
       "      <td>-963.0</td>\n",
       "      <td>-2620.0</td>\n",
       "      <td>0.0</td>\n",
       "      <td>1950.0</td>\n",
       "    </tr>\n",
       "    <tr>\n",
       "      <th>18</th>\n",
       "      <td>1003</td>\n",
       "      <td>9.0</td>\n",
       "      <td>134.0</td>\n",
       "      <td>961.0</td>\n",
       "      <td>91.0</td>\n",
       "      <td>12468.87</td>\n",
       "      <td>ultra</td>\n",
       "      <td>Москва</td>\n",
       "      <td>1000</td>\n",
       "      <td>30720</td>\n",
       "      <td>3000</td>\n",
       "      <td>1950</td>\n",
       "      <td>150</td>\n",
       "      <td>1</td>\n",
       "      <td>1</td>\n",
       "      <td>-17.0</td>\n",
       "      <td>-909.0</td>\n",
       "      <td>-2039.0</td>\n",
       "      <td>0.0</td>\n",
       "      <td>1950.0</td>\n",
       "    </tr>\n",
       "    <tr>\n",
       "      <th>19</th>\n",
       "      <td>1003</td>\n",
       "      <td>10.0</td>\n",
       "      <td>108.0</td>\n",
       "      <td>855.0</td>\n",
       "      <td>83.0</td>\n",
       "      <td>14768.14</td>\n",
       "      <td>ultra</td>\n",
       "      <td>Москва</td>\n",
       "      <td>1000</td>\n",
       "      <td>30720</td>\n",
       "      <td>3000</td>\n",
       "      <td>1950</td>\n",
       "      <td>150</td>\n",
       "      <td>1</td>\n",
       "      <td>1</td>\n",
       "      <td>-15.0</td>\n",
       "      <td>-917.0</td>\n",
       "      <td>-2145.0</td>\n",
       "      <td>0.0</td>\n",
       "      <td>1950.0</td>\n",
       "    </tr>\n",
       "  </tbody>\n",
       "</table>\n",
       "</div>"
      ],
      "text/plain": [
       "    user_id  month  call_qnt  call_duration  message_qnt   mb_used tariff  \\\n",
       "8      1001   11.0      59.0          430.0          NaN  18429.34  smart   \n",
       "9      1001   12.0      63.0          414.0          NaN  14036.66  smart   \n",
       "17     1003    8.0      55.0          380.0         37.0   8565.21  ultra   \n",
       "18     1003    9.0     134.0          961.0         91.0  12468.87  ultra   \n",
       "19     1003   10.0     108.0          855.0         83.0  14768.14  ultra   \n",
       "\n",
       "      city  messages_included  mb_per_month_included  minutes_included  \\\n",
       "8   Москва                 50                  15360               500   \n",
       "9   Москва                 50                  15360               500   \n",
       "17  Москва               1000                  30720              3000   \n",
       "18  Москва               1000                  30720              3000   \n",
       "19  Москва               1000                  30720              3000   \n",
       "\n",
       "    rub_monthly_fee  rub_per_gb  rub_per_message  rub_per_minute  gb_extra  \\\n",
       "8               550         200                3               3       3.0   \n",
       "9               550         200                3               3      -1.0   \n",
       "17             1950         150                1               1     -21.0   \n",
       "18             1950         150                1               1     -17.0   \n",
       "19             1950         150                1               1     -15.0   \n",
       "\n",
       "    messages_extra  call_extra  extra_fee  total_fee  \n",
       "8              NaN       -70.0      600.0     1150.0  \n",
       "9              NaN       -86.0        0.0      550.0  \n",
       "17          -963.0     -2620.0        0.0     1950.0  \n",
       "18          -909.0     -2039.0        0.0     1950.0  \n",
       "19          -917.0     -2145.0        0.0     1950.0  "
      ]
     },
     "metadata": {},
     "output_type": "display_data"
    }
   ],
   "source": [
    "moscow = data_merge[data_merge['city'] == 'Москва']\n",
    "display(moscow.head())"
   ]
  },
  {
   "cell_type": "code",
   "execution_count": 33,
   "metadata": {},
   "outputs": [
    {
     "data": {
      "text/html": [
       "<div>\n",
       "<style scoped>\n",
       "    .dataframe tbody tr th:only-of-type {\n",
       "        vertical-align: middle;\n",
       "    }\n",
       "\n",
       "    .dataframe tbody tr th {\n",
       "        vertical-align: top;\n",
       "    }\n",
       "\n",
       "    .dataframe thead th {\n",
       "        text-align: right;\n",
       "    }\n",
       "</style>\n",
       "<table border=\"1\" class=\"dataframe\">\n",
       "  <thead>\n",
       "    <tr style=\"text-align: right;\">\n",
       "      <th></th>\n",
       "      <th>user_id</th>\n",
       "      <th>month</th>\n",
       "      <th>call_qnt</th>\n",
       "      <th>call_duration</th>\n",
       "      <th>message_qnt</th>\n",
       "      <th>mb_used</th>\n",
       "      <th>tariff</th>\n",
       "      <th>city</th>\n",
       "      <th>messages_included</th>\n",
       "      <th>mb_per_month_included</th>\n",
       "      <th>minutes_included</th>\n",
       "      <th>rub_monthly_fee</th>\n",
       "      <th>rub_per_gb</th>\n",
       "      <th>rub_per_message</th>\n",
       "      <th>rub_per_minute</th>\n",
       "      <th>gb_extra</th>\n",
       "      <th>messages_extra</th>\n",
       "      <th>call_extra</th>\n",
       "      <th>extra_fee</th>\n",
       "      <th>total_fee</th>\n",
       "    </tr>\n",
       "  </thead>\n",
       "  <tbody>\n",
       "    <tr>\n",
       "      <th>0</th>\n",
       "      <td>1000</td>\n",
       "      <td>5.0</td>\n",
       "      <td>22.0</td>\n",
       "      <td>159.0</td>\n",
       "      <td>22.0</td>\n",
       "      <td>2253.49</td>\n",
       "      <td>ultra</td>\n",
       "      <td>Краснодар</td>\n",
       "      <td>1000</td>\n",
       "      <td>30720</td>\n",
       "      <td>3000</td>\n",
       "      <td>1950</td>\n",
       "      <td>150</td>\n",
       "      <td>1</td>\n",
       "      <td>1</td>\n",
       "      <td>-27.0</td>\n",
       "      <td>-978.0</td>\n",
       "      <td>-2841.0</td>\n",
       "      <td>0.0</td>\n",
       "      <td>1950.0</td>\n",
       "    </tr>\n",
       "    <tr>\n",
       "      <th>1</th>\n",
       "      <td>1000</td>\n",
       "      <td>6.0</td>\n",
       "      <td>43.0</td>\n",
       "      <td>172.0</td>\n",
       "      <td>60.0</td>\n",
       "      <td>23233.77</td>\n",
       "      <td>ultra</td>\n",
       "      <td>Краснодар</td>\n",
       "      <td>1000</td>\n",
       "      <td>30720</td>\n",
       "      <td>3000</td>\n",
       "      <td>1950</td>\n",
       "      <td>150</td>\n",
       "      <td>1</td>\n",
       "      <td>1</td>\n",
       "      <td>-7.0</td>\n",
       "      <td>-940.0</td>\n",
       "      <td>-2828.0</td>\n",
       "      <td>0.0</td>\n",
       "      <td>1950.0</td>\n",
       "    </tr>\n",
       "    <tr>\n",
       "      <th>2</th>\n",
       "      <td>1000</td>\n",
       "      <td>7.0</td>\n",
       "      <td>47.0</td>\n",
       "      <td>340.0</td>\n",
       "      <td>75.0</td>\n",
       "      <td>14003.64</td>\n",
       "      <td>ultra</td>\n",
       "      <td>Краснодар</td>\n",
       "      <td>1000</td>\n",
       "      <td>30720</td>\n",
       "      <td>3000</td>\n",
       "      <td>1950</td>\n",
       "      <td>150</td>\n",
       "      <td>1</td>\n",
       "      <td>1</td>\n",
       "      <td>-16.0</td>\n",
       "      <td>-925.0</td>\n",
       "      <td>-2660.0</td>\n",
       "      <td>0.0</td>\n",
       "      <td>1950.0</td>\n",
       "    </tr>\n",
       "    <tr>\n",
       "      <th>3</th>\n",
       "      <td>1000</td>\n",
       "      <td>8.0</td>\n",
       "      <td>52.0</td>\n",
       "      <td>408.0</td>\n",
       "      <td>81.0</td>\n",
       "      <td>14055.93</td>\n",
       "      <td>ultra</td>\n",
       "      <td>Краснодар</td>\n",
       "      <td>1000</td>\n",
       "      <td>30720</td>\n",
       "      <td>3000</td>\n",
       "      <td>1950</td>\n",
       "      <td>150</td>\n",
       "      <td>1</td>\n",
       "      <td>1</td>\n",
       "      <td>-16.0</td>\n",
       "      <td>-919.0</td>\n",
       "      <td>-2592.0</td>\n",
       "      <td>0.0</td>\n",
       "      <td>1950.0</td>\n",
       "    </tr>\n",
       "    <tr>\n",
       "      <th>4</th>\n",
       "      <td>1000</td>\n",
       "      <td>9.0</td>\n",
       "      <td>58.0</td>\n",
       "      <td>466.0</td>\n",
       "      <td>57.0</td>\n",
       "      <td>14568.91</td>\n",
       "      <td>ultra</td>\n",
       "      <td>Краснодар</td>\n",
       "      <td>1000</td>\n",
       "      <td>30720</td>\n",
       "      <td>3000</td>\n",
       "      <td>1950</td>\n",
       "      <td>150</td>\n",
       "      <td>1</td>\n",
       "      <td>1</td>\n",
       "      <td>-15.0</td>\n",
       "      <td>-943.0</td>\n",
       "      <td>-2534.0</td>\n",
       "      <td>0.0</td>\n",
       "      <td>1950.0</td>\n",
       "    </tr>\n",
       "  </tbody>\n",
       "</table>\n",
       "</div>"
      ],
      "text/plain": [
       "   user_id  month  call_qnt  call_duration  message_qnt   mb_used tariff  \\\n",
       "0     1000    5.0      22.0          159.0         22.0   2253.49  ultra   \n",
       "1     1000    6.0      43.0          172.0         60.0  23233.77  ultra   \n",
       "2     1000    7.0      47.0          340.0         75.0  14003.64  ultra   \n",
       "3     1000    8.0      52.0          408.0         81.0  14055.93  ultra   \n",
       "4     1000    9.0      58.0          466.0         57.0  14568.91  ultra   \n",
       "\n",
       "        city  messages_included  mb_per_month_included  minutes_included  \\\n",
       "0  Краснодар               1000                  30720              3000   \n",
       "1  Краснодар               1000                  30720              3000   \n",
       "2  Краснодар               1000                  30720              3000   \n",
       "3  Краснодар               1000                  30720              3000   \n",
       "4  Краснодар               1000                  30720              3000   \n",
       "\n",
       "   rub_monthly_fee  rub_per_gb  rub_per_message  rub_per_minute  gb_extra  \\\n",
       "0             1950         150                1               1     -27.0   \n",
       "1             1950         150                1               1      -7.0   \n",
       "2             1950         150                1               1     -16.0   \n",
       "3             1950         150                1               1     -16.0   \n",
       "4             1950         150                1               1     -15.0   \n",
       "\n",
       "   messages_extra  call_extra  extra_fee  total_fee  \n",
       "0          -978.0     -2841.0        0.0     1950.0  \n",
       "1          -940.0     -2828.0        0.0     1950.0  \n",
       "2          -925.0     -2660.0        0.0     1950.0  \n",
       "3          -919.0     -2592.0        0.0     1950.0  \n",
       "4          -943.0     -2534.0        0.0     1950.0  "
      ]
     },
     "metadata": {},
     "output_type": "display_data"
    }
   ],
   "source": [
    "region = data_merge[data_merge['city'] != 'Москва']\n",
    "display(region.head())"
   ]
  },
  {
   "cell_type": "code",
   "execution_count": 34,
   "metadata": {
    "scrolled": false
   },
   "outputs": [
    {
     "data": {
      "text/plain": [
       "<AxesSubplot:>"
      ]
     },
     "execution_count": 34,
     "metadata": {},
     "output_type": "execute_result"
    },
    {
     "data": {
      "image/png": "[encoded data removed]",
      "text/plain": [
       "<Figure size 432x288 with 1 Axes>"
      ]
     },
     "metadata": {
      "needs_background": "light"
     },
     "output_type": "display_data"
    }
   ],
   "source": [
    "smart.boxplot(column='total_fee')"
   ]
  },
  {
   "cell_type": "markdown",
   "metadata": {},
   "source": [
    "Из диаграммы размаха пользователей тарифа Smart видно, что медиана находится где-то на 1000 руб., в \"ящике\" значения от 550 до 1800 руб. Значения нормального распределения от 550 руб. (минимальный тариф) до 3500 руб. Свыше 3500 - выбросы."
   ]
  },
  {
   "cell_type": "code",
   "execution_count": 35,
   "metadata": {
    "scrolled": true
   },
   "outputs": [
    {
     "data": {
      "text/plain": [
       "<AxesSubplot:>"
      ]
     },
     "execution_count": 35,
     "metadata": {},
     "output_type": "execute_result"
    },
    {
     "data": {
      "image/png": "[encoded data removed]",
      "text/plain": [
       "<Figure size 432x288 with 1 Axes>"
      ]
     },
     "metadata": {
      "needs_background": "light"
     },
     "output_type": "display_data"
    }
   ],
   "source": [
    "ultra.boxplot(column='total_fee')"
   ]
  },
  {
   "cell_type": "markdown",
   "metadata": {},
   "source": [
    "Из диаграммы размаха пользователей тарифа Ultra видно, что большая часть пользователей платит только абонентскую плату в 1950 руб., оплаты сверх тарифа бывают редко и являются выбросами."
   ]
  },
  {
   "cell_type": "code",
   "execution_count": 36,
   "metadata": {
    "scrolled": true
   },
   "outputs": [
    {
     "data": {
      "text/plain": [
       "count    2230.000000\n",
       "mean     1289.641704\n",
       "std       818.370799\n",
       "min       550.000000\n",
       "25%       550.000000\n",
       "50%      1021.000000\n",
       "75%      1750.000000\n",
       "max      6770.000000\n",
       "Name: total_fee, dtype: float64"
      ]
     },
     "execution_count": 36,
     "metadata": {},
     "output_type": "execute_result"
    }
   ],
   "source": [
    "smart['total_fee'].describe()"
   ]
  },
  {
   "cell_type": "markdown",
   "metadata": {},
   "source": [
    "Среднее значение и медиана отличаются, что говорит о наличии выбросов. Остальные значения в целом подтверждают выводы, сделанные из диаграммы размаха."
   ]
  },
  {
   "cell_type": "code",
   "execution_count": 37,
   "metadata": {},
   "outputs": [
    {
     "data": {
      "text/plain": [
       "count     986.000000\n",
       "mean     2070.030426\n",
       "std       376.015578\n",
       "min      1950.000000\n",
       "25%      1950.000000\n",
       "50%      1950.000000\n",
       "75%      1950.000000\n",
       "max      4800.000000\n",
       "Name: total_fee, dtype: float64"
      ]
     },
     "execution_count": 37,
     "metadata": {},
     "output_type": "execute_result"
    }
   ],
   "source": [
    "ultra['total_fee'].describe()"
   ]
  },
  {
   "cell_type": "markdown",
   "metadata": {},
   "source": [
    "Среднее значение и медиана отличаются незначительно, что говорит о малом количестве выбросов. Остальные значения в целом подтверждают выводы, сделанные из диаграммы размаха."
   ]
  },
  {
   "cell_type": "code",
   "execution_count": 38,
   "metadata": {
    "scrolled": true
   },
   "outputs": [
    {
     "data": {
      "text/plain": [
       "Text(0, 0.5, 'Количество клиентов')"
      ]
     },
     "execution_count": 38,
     "metadata": {},
     "output_type": "execute_result"
    },
    {
     "data": {
      "image/png": "[encoded data removed]",
      "text/plain": [
       "<Figure size 432x288 with 1 Axes>"
      ]
     },
     "metadata": {
      "needs_background": "light"
     },
     "output_type": "display_data"
    }
   ],
   "source": [
    "smart['total_fee'].hist(bins=30)\n",
    "\n",
    "plt.title('Распределение итоговой суммы оплаты для клиентов тарифа Smart')\n",
    "plt.xlabel('Итоговая сумма')\n",
    "plt.ylabel('Количество клиентов')"
   ]
  },
  {
   "cell_type": "markdown",
   "metadata": {},
   "source": [
    "Гистограмма имеет пик: на 550 руб., далее распределение похоже на нормальное с выбросами за пределами примерно 2500 руб."
   ]
  },
  {
   "cell_type": "code",
   "execution_count": 39,
   "metadata": {
    "scrolled": true
   },
   "outputs": [
    {
     "data": {
      "text/plain": [
       "Text(0, 0.5, 'Количество клиентов')"
      ]
     },
     "execution_count": 39,
     "metadata": {},
     "output_type": "execute_result"
    },
    {
     "data": {
      "image/png": "[encoded data removed]",
      "text/plain": [
       "<Figure size 432x288 with 1 Axes>"
      ]
     },
     "metadata": {
      "needs_background": "light"
     },
     "output_type": "display_data"
    }
   ],
   "source": [
    "ultra['total_fee'].hist(bins=30)\n",
    "plt.title('Распределение итоговой суммы оплаты для клиентов тарифа Ultra')\n",
    "plt.xlabel('Итоговая сумма')\n",
    "plt.ylabel('Количество клиентов')"
   ]
  },
  {
   "cell_type": "markdown",
   "metadata": {},
   "source": [
    "Гистограмма имеет пик на 1950 руб., далее выбросы."
   ]
  },
  {
   "cell_type": "code",
   "execution_count": 40,
   "metadata": {},
   "outputs": [
    {
     "data": {
      "text/html": [
       "<div>\n",
       "<style scoped>\n",
       "    .dataframe tbody tr th:only-of-type {\n",
       "        vertical-align: middle;\n",
       "    }\n",
       "\n",
       "    .dataframe tbody tr th {\n",
       "        vertical-align: top;\n",
       "    }\n",
       "\n",
       "    .dataframe thead th {\n",
       "        text-align: right;\n",
       "    }\n",
       "</style>\n",
       "<table border=\"1\" class=\"dataframe\">\n",
       "  <thead>\n",
       "    <tr style=\"text-align: right;\">\n",
       "      <th></th>\n",
       "      <th>user_id</th>\n",
       "      <th>month</th>\n",
       "      <th>call_qnt</th>\n",
       "      <th>call_duration</th>\n",
       "      <th>message_qnt</th>\n",
       "      <th>mb_used</th>\n",
       "      <th>tariff</th>\n",
       "      <th>city</th>\n",
       "      <th>messages_included</th>\n",
       "      <th>mb_per_month_included</th>\n",
       "      <th>minutes_included</th>\n",
       "      <th>rub_monthly_fee</th>\n",
       "      <th>rub_per_gb</th>\n",
       "      <th>rub_per_message</th>\n",
       "      <th>rub_per_minute</th>\n",
       "      <th>gb_extra</th>\n",
       "      <th>messages_extra</th>\n",
       "      <th>call_extra</th>\n",
       "      <th>extra_fee</th>\n",
       "      <th>total_fee</th>\n",
       "    </tr>\n",
       "  </thead>\n",
       "  <tbody>\n",
       "    <tr>\n",
       "      <th>3108</th>\n",
       "      <td>1486</td>\n",
       "      <td>12.0</td>\n",
       "      <td>133.0</td>\n",
       "      <td>1007.0</td>\n",
       "      <td>83.0</td>\n",
       "      <td>38552.45</td>\n",
       "      <td>smart</td>\n",
       "      <td>Нижний Новгород</td>\n",
       "      <td>50</td>\n",
       "      <td>15360</td>\n",
       "      <td>500</td>\n",
       "      <td>550</td>\n",
       "      <td>200</td>\n",
       "      <td>3</td>\n",
       "      <td>3</td>\n",
       "      <td>23.0</td>\n",
       "      <td>33.0</td>\n",
       "      <td>507.0</td>\n",
       "      <td>6220.0</td>\n",
       "      <td>6770.0</td>\n",
       "    </tr>\n",
       "    <tr>\n",
       "      <th>260</th>\n",
       "      <td>1042</td>\n",
       "      <td>12.0</td>\n",
       "      <td>121.0</td>\n",
       "      <td>728.0</td>\n",
       "      <td>75.0</td>\n",
       "      <td>37165.69</td>\n",
       "      <td>smart</td>\n",
       "      <td>Хабаровск</td>\n",
       "      <td>50</td>\n",
       "      <td>15360</td>\n",
       "      <td>500</td>\n",
       "      <td>550</td>\n",
       "      <td>200</td>\n",
       "      <td>3</td>\n",
       "      <td>3</td>\n",
       "      <td>22.0</td>\n",
       "      <td>25.0</td>\n",
       "      <td>228.0</td>\n",
       "      <td>5159.0</td>\n",
       "      <td>5709.0</td>\n",
       "    </tr>\n",
       "    <tr>\n",
       "      <th>3107</th>\n",
       "      <td>1486</td>\n",
       "      <td>11.0</td>\n",
       "      <td>108.0</td>\n",
       "      <td>764.0</td>\n",
       "      <td>96.0</td>\n",
       "      <td>36266.11</td>\n",
       "      <td>smart</td>\n",
       "      <td>Нижний Новгород</td>\n",
       "      <td>50</td>\n",
       "      <td>15360</td>\n",
       "      <td>500</td>\n",
       "      <td>550</td>\n",
       "      <td>200</td>\n",
       "      <td>3</td>\n",
       "      <td>3</td>\n",
       "      <td>21.0</td>\n",
       "      <td>46.0</td>\n",
       "      <td>264.0</td>\n",
       "      <td>5130.0</td>\n",
       "      <td>5680.0</td>\n",
       "    </tr>\n",
       "    <tr>\n",
       "      <th>1622</th>\n",
       "      <td>1261</td>\n",
       "      <td>12.0</td>\n",
       "      <td>141.0</td>\n",
       "      <td>1074.0</td>\n",
       "      <td>22.0</td>\n",
       "      <td>32650.91</td>\n",
       "      <td>smart</td>\n",
       "      <td>Казань</td>\n",
       "      <td>50</td>\n",
       "      <td>15360</td>\n",
       "      <td>500</td>\n",
       "      <td>550</td>\n",
       "      <td>200</td>\n",
       "      <td>3</td>\n",
       "      <td>3</td>\n",
       "      <td>17.0</td>\n",
       "      <td>-28.0</td>\n",
       "      <td>574.0</td>\n",
       "      <td>5122.0</td>\n",
       "      <td>5672.0</td>\n",
       "    </tr>\n",
       "    <tr>\n",
       "      <th>1793</th>\n",
       "      <td>1286</td>\n",
       "      <td>12.0</td>\n",
       "      <td>95.0</td>\n",
       "      <td>739.0</td>\n",
       "      <td>68.0</td>\n",
       "      <td>35108.07</td>\n",
       "      <td>smart</td>\n",
       "      <td>Москва</td>\n",
       "      <td>50</td>\n",
       "      <td>15360</td>\n",
       "      <td>500</td>\n",
       "      <td>550</td>\n",
       "      <td>200</td>\n",
       "      <td>3</td>\n",
       "      <td>3</td>\n",
       "      <td>20.0</td>\n",
       "      <td>18.0</td>\n",
       "      <td>239.0</td>\n",
       "      <td>4771.0</td>\n",
       "      <td>5321.0</td>\n",
       "    </tr>\n",
       "    <tr>\n",
       "      <th>1000</th>\n",
       "      <td>1159</td>\n",
       "      <td>12.0</td>\n",
       "      <td>110.0</td>\n",
       "      <td>734.0</td>\n",
       "      <td>2.0</td>\n",
       "      <td>35135.89</td>\n",
       "      <td>smart</td>\n",
       "      <td>Красноярск</td>\n",
       "      <td>50</td>\n",
       "      <td>15360</td>\n",
       "      <td>500</td>\n",
       "      <td>550</td>\n",
       "      <td>200</td>\n",
       "      <td>3</td>\n",
       "      <td>3</td>\n",
       "      <td>20.0</td>\n",
       "      <td>-48.0</td>\n",
       "      <td>234.0</td>\n",
       "      <td>4702.0</td>\n",
       "      <td>5252.0</td>\n",
       "    </tr>\n",
       "    <tr>\n",
       "      <th>615</th>\n",
       "      <td>1098</td>\n",
       "      <td>12.0</td>\n",
       "      <td>80.0</td>\n",
       "      <td>588.0</td>\n",
       "      <td>14.0</td>\n",
       "      <td>36523.90</td>\n",
       "      <td>smart</td>\n",
       "      <td>Челябинск</td>\n",
       "      <td>50</td>\n",
       "      <td>15360</td>\n",
       "      <td>500</td>\n",
       "      <td>550</td>\n",
       "      <td>200</td>\n",
       "      <td>3</td>\n",
       "      <td>3</td>\n",
       "      <td>21.0</td>\n",
       "      <td>-36.0</td>\n",
       "      <td>88.0</td>\n",
       "      <td>4464.0</td>\n",
       "      <td>5014.0</td>\n",
       "    </tr>\n",
       "    <tr>\n",
       "      <th>1621</th>\n",
       "      <td>1261</td>\n",
       "      <td>11.0</td>\n",
       "      <td>117.0</td>\n",
       "      <td>738.0</td>\n",
       "      <td>25.0</td>\n",
       "      <td>32503.56</td>\n",
       "      <td>smart</td>\n",
       "      <td>Казань</td>\n",
       "      <td>50</td>\n",
       "      <td>15360</td>\n",
       "      <td>500</td>\n",
       "      <td>550</td>\n",
       "      <td>200</td>\n",
       "      <td>3</td>\n",
       "      <td>3</td>\n",
       "      <td>17.0</td>\n",
       "      <td>-25.0</td>\n",
       "      <td>238.0</td>\n",
       "      <td>4114.0</td>\n",
       "      <td>4664.0</td>\n",
       "    </tr>\n",
       "    <tr>\n",
       "      <th>1914</th>\n",
       "      <td>1306</td>\n",
       "      <td>12.0</td>\n",
       "      <td>66.0</td>\n",
       "      <td>484.0</td>\n",
       "      <td>NaN</td>\n",
       "      <td>34912.13</td>\n",
       "      <td>smart</td>\n",
       "      <td>Чита</td>\n",
       "      <td>50</td>\n",
       "      <td>15360</td>\n",
       "      <td>500</td>\n",
       "      <td>550</td>\n",
       "      <td>200</td>\n",
       "      <td>3</td>\n",
       "      <td>3</td>\n",
       "      <td>20.0</td>\n",
       "      <td>NaN</td>\n",
       "      <td>-16.0</td>\n",
       "      <td>4000.0</td>\n",
       "      <td>4550.0</td>\n",
       "    </tr>\n",
       "    <tr>\n",
       "      <th>1069</th>\n",
       "      <td>1172</td>\n",
       "      <td>6.0</td>\n",
       "      <td>73.0</td>\n",
       "      <td>541.0</td>\n",
       "      <td>2.0</td>\n",
       "      <td>33886.40</td>\n",
       "      <td>smart</td>\n",
       "      <td>Санкт-Петербург</td>\n",
       "      <td>50</td>\n",
       "      <td>15360</td>\n",
       "      <td>500</td>\n",
       "      <td>550</td>\n",
       "      <td>200</td>\n",
       "      <td>3</td>\n",
       "      <td>3</td>\n",
       "      <td>19.0</td>\n",
       "      <td>-48.0</td>\n",
       "      <td>41.0</td>\n",
       "      <td>3923.0</td>\n",
       "      <td>4473.0</td>\n",
       "    </tr>\n",
       "    <tr>\n",
       "      <th>856</th>\n",
       "      <td>1138</td>\n",
       "      <td>8.0</td>\n",
       "      <td>107.0</td>\n",
       "      <td>859.0</td>\n",
       "      <td>3.0</td>\n",
       "      <td>28836.37</td>\n",
       "      <td>smart</td>\n",
       "      <td>Екатеринбург</td>\n",
       "      <td>50</td>\n",
       "      <td>15360</td>\n",
       "      <td>500</td>\n",
       "      <td>550</td>\n",
       "      <td>200</td>\n",
       "      <td>3</td>\n",
       "      <td>3</td>\n",
       "      <td>14.0</td>\n",
       "      <td>-47.0</td>\n",
       "      <td>359.0</td>\n",
       "      <td>3877.0</td>\n",
       "      <td>4427.0</td>\n",
       "    </tr>\n",
       "    <tr>\n",
       "      <th>1359</th>\n",
       "      <td>1216</td>\n",
       "      <td>12.0</td>\n",
       "      <td>198.0</td>\n",
       "      <td>1435.0</td>\n",
       "      <td>64.0</td>\n",
       "      <td>20066.05</td>\n",
       "      <td>smart</td>\n",
       "      <td>Волгоград</td>\n",
       "      <td>50</td>\n",
       "      <td>15360</td>\n",
       "      <td>500</td>\n",
       "      <td>550</td>\n",
       "      <td>200</td>\n",
       "      <td>3</td>\n",
       "      <td>3</td>\n",
       "      <td>5.0</td>\n",
       "      <td>14.0</td>\n",
       "      <td>935.0</td>\n",
       "      <td>3847.0</td>\n",
       "      <td>4397.0</td>\n",
       "    </tr>\n",
       "    <tr>\n",
       "      <th>2280</th>\n",
       "      <td>1365</td>\n",
       "      <td>12.0</td>\n",
       "      <td>111.0</td>\n",
       "      <td>782.0</td>\n",
       "      <td>43.0</td>\n",
       "      <td>30135.14</td>\n",
       "      <td>smart</td>\n",
       "      <td>Ростов-на-Дону</td>\n",
       "      <td>50</td>\n",
       "      <td>15360</td>\n",
       "      <td>500</td>\n",
       "      <td>550</td>\n",
       "      <td>200</td>\n",
       "      <td>3</td>\n",
       "      <td>3</td>\n",
       "      <td>15.0</td>\n",
       "      <td>-7.0</td>\n",
       "      <td>282.0</td>\n",
       "      <td>3846.0</td>\n",
       "      <td>4396.0</td>\n",
       "    </tr>\n",
       "    <tr>\n",
       "      <th>2899</th>\n",
       "      <td>1456</td>\n",
       "      <td>11.0</td>\n",
       "      <td>112.0</td>\n",
       "      <td>889.0</td>\n",
       "      <td>NaN</td>\n",
       "      <td>28002.35</td>\n",
       "      <td>smart</td>\n",
       "      <td>Санкт-Петербург</td>\n",
       "      <td>50</td>\n",
       "      <td>15360</td>\n",
       "      <td>500</td>\n",
       "      <td>550</td>\n",
       "      <td>200</td>\n",
       "      <td>3</td>\n",
       "      <td>3</td>\n",
       "      <td>13.0</td>\n",
       "      <td>NaN</td>\n",
       "      <td>389.0</td>\n",
       "      <td>3767.0</td>\n",
       "      <td>4317.0</td>\n",
       "    </tr>\n",
       "    <tr>\n",
       "      <th>2900</th>\n",
       "      <td>1456</td>\n",
       "      <td>12.0</td>\n",
       "      <td>111.0</td>\n",
       "      <td>930.0</td>\n",
       "      <td>NaN</td>\n",
       "      <td>26866.54</td>\n",
       "      <td>smart</td>\n",
       "      <td>Санкт-Петербург</td>\n",
       "      <td>50</td>\n",
       "      <td>15360</td>\n",
       "      <td>500</td>\n",
       "      <td>550</td>\n",
       "      <td>200</td>\n",
       "      <td>3</td>\n",
       "      <td>3</td>\n",
       "      <td>12.0</td>\n",
       "      <td>NaN</td>\n",
       "      <td>430.0</td>\n",
       "      <td>3690.0</td>\n",
       "      <td>4240.0</td>\n",
       "    </tr>\n",
       "  </tbody>\n",
       "</table>\n",
       "</div>"
      ],
      "text/plain": [
       "      user_id  month  call_qnt  call_duration  message_qnt   mb_used tariff  \\\n",
       "3108     1486   12.0     133.0         1007.0         83.0  38552.45  smart   \n",
       "260      1042   12.0     121.0          728.0         75.0  37165.69  smart   \n",
       "3107     1486   11.0     108.0          764.0         96.0  36266.11  smart   \n",
       "1622     1261   12.0     141.0         1074.0         22.0  32650.91  smart   \n",
       "1793     1286   12.0      95.0          739.0         68.0  35108.07  smart   \n",
       "1000     1159   12.0     110.0          734.0          2.0  35135.89  smart   \n",
       "615      1098   12.0      80.0          588.0         14.0  36523.90  smart   \n",
       "1621     1261   11.0     117.0          738.0         25.0  32503.56  smart   \n",
       "1914     1306   12.0      66.0          484.0          NaN  34912.13  smart   \n",
       "1069     1172    6.0      73.0          541.0          2.0  33886.40  smart   \n",
       "856      1138    8.0     107.0          859.0          3.0  28836.37  smart   \n",
       "1359     1216   12.0     198.0         1435.0         64.0  20066.05  smart   \n",
       "2280     1365   12.0     111.0          782.0         43.0  30135.14  smart   \n",
       "2899     1456   11.0     112.0          889.0          NaN  28002.35  smart   \n",
       "2900     1456   12.0     111.0          930.0          NaN  26866.54  smart   \n",
       "\n",
       "                 city  messages_included  mb_per_month_included  \\\n",
       "3108  Нижний Новгород                 50                  15360   \n",
       "260         Хабаровск                 50                  15360   \n",
       "3107  Нижний Новгород                 50                  15360   \n",
       "1622           Казань                 50                  15360   \n",
       "1793           Москва                 50                  15360   \n",
       "1000       Красноярск                 50                  15360   \n",
       "615         Челябинск                 50                  15360   \n",
       "1621           Казань                 50                  15360   \n",
       "1914             Чита                 50                  15360   \n",
       "1069  Санкт-Петербург                 50                  15360   \n",
       "856      Екатеринбург                 50                  15360   \n",
       "1359        Волгоград                 50                  15360   \n",
       "2280   Ростов-на-Дону                 50                  15360   \n",
       "2899  Санкт-Петербург                 50                  15360   \n",
       "2900  Санкт-Петербург                 50                  15360   \n",
       "\n",
       "      minutes_included  rub_monthly_fee  rub_per_gb  rub_per_message  \\\n",
       "3108               500              550         200                3   \n",
       "260                500              550         200                3   \n",
       "3107               500              550         200                3   \n",
       "1622               500              550         200                3   \n",
       "1793               500              550         200                3   \n",
       "1000               500              550         200                3   \n",
       "615                500              550         200                3   \n",
       "1621               500              550         200                3   \n",
       "1914               500              550         200                3   \n",
       "1069               500              550         200                3   \n",
       "856                500              550         200                3   \n",
       "1359               500              550         200                3   \n",
       "2280               500              550         200                3   \n",
       "2899               500              550         200                3   \n",
       "2900               500              550         200                3   \n",
       "\n",
       "      rub_per_minute  gb_extra  messages_extra  call_extra  extra_fee  \\\n",
       "3108               3      23.0            33.0       507.0     6220.0   \n",
       "260                3      22.0            25.0       228.0     5159.0   \n",
       "3107               3      21.0            46.0       264.0     5130.0   \n",
       "1622               3      17.0           -28.0       574.0     5122.0   \n",
       "1793               3      20.0            18.0       239.0     4771.0   \n",
       "1000               3      20.0           -48.0       234.0     4702.0   \n",
       "615                3      21.0           -36.0        88.0     4464.0   \n",
       "1621               3      17.0           -25.0       238.0     4114.0   \n",
       "1914               3      20.0             NaN       -16.0     4000.0   \n",
       "1069               3      19.0           -48.0        41.0     3923.0   \n",
       "856                3      14.0           -47.0       359.0     3877.0   \n",
       "1359               3       5.0            14.0       935.0     3847.0   \n",
       "2280               3      15.0            -7.0       282.0     3846.0   \n",
       "2899               3      13.0             NaN       389.0     3767.0   \n",
       "2900               3      12.0             NaN       430.0     3690.0   \n",
       "\n",
       "      total_fee  \n",
       "3108     6770.0  \n",
       "260      5709.0  \n",
       "3107     5680.0  \n",
       "1622     5672.0  \n",
       "1793     5321.0  \n",
       "1000     5252.0  \n",
       "615      5014.0  \n",
       "1621     4664.0  \n",
       "1914     4550.0  \n",
       "1069     4473.0  \n",
       "856      4427.0  \n",
       "1359     4397.0  \n",
       "2280     4396.0  \n",
       "2899     4317.0  \n",
       "2900     4240.0  "
      ]
     },
     "metadata": {},
     "output_type": "display_data"
    }
   ],
   "source": [
    "display(smart.sort_values(by = 'total_fee', ascending = False).head(15))"
   ]
  },
  {
   "cell_type": "markdown",
   "metadata": {},
   "source": [
    "По первым 15 строкам с максимальными значениями оплат видно, что пользователи с максимальной оплатой по Smart проживают не в Москве."
   ]
  },
  {
   "cell_type": "code",
   "execution_count": 41,
   "metadata": {
    "scrolled": true
   },
   "outputs": [
    {
     "data": {
      "text/html": [
       "<div>\n",
       "<style scoped>\n",
       "    .dataframe tbody tr th:only-of-type {\n",
       "        vertical-align: middle;\n",
       "    }\n",
       "\n",
       "    .dataframe tbody tr th {\n",
       "        vertical-align: top;\n",
       "    }\n",
       "\n",
       "    .dataframe thead th {\n",
       "        text-align: right;\n",
       "    }\n",
       "</style>\n",
       "<table border=\"1\" class=\"dataframe\">\n",
       "  <thead>\n",
       "    <tr style=\"text-align: right;\">\n",
       "      <th></th>\n",
       "      <th>user_id</th>\n",
       "      <th>month</th>\n",
       "      <th>call_qnt</th>\n",
       "      <th>call_duration</th>\n",
       "      <th>message_qnt</th>\n",
       "      <th>mb_used</th>\n",
       "      <th>tariff</th>\n",
       "      <th>city</th>\n",
       "      <th>messages_included</th>\n",
       "      <th>mb_per_month_included</th>\n",
       "      <th>minutes_included</th>\n",
       "      <th>rub_monthly_fee</th>\n",
       "      <th>rub_per_gb</th>\n",
       "      <th>rub_per_message</th>\n",
       "      <th>rub_per_minute</th>\n",
       "      <th>gb_extra</th>\n",
       "      <th>messages_extra</th>\n",
       "      <th>call_extra</th>\n",
       "      <th>extra_fee</th>\n",
       "      <th>total_fee</th>\n",
       "    </tr>\n",
       "  </thead>\n",
       "  <tbody>\n",
       "    <tr>\n",
       "      <th>782</th>\n",
       "      <td>1124</td>\n",
       "      <td>10.0</td>\n",
       "      <td>152.0</td>\n",
       "      <td>1225.0</td>\n",
       "      <td>121.0</td>\n",
       "      <td>49745.69</td>\n",
       "      <td>ultra</td>\n",
       "      <td>Махачкала</td>\n",
       "      <td>1000</td>\n",
       "      <td>30720</td>\n",
       "      <td>3000</td>\n",
       "      <td>1950</td>\n",
       "      <td>150</td>\n",
       "      <td>1</td>\n",
       "      <td>1</td>\n",
       "      <td>19.0</td>\n",
       "      <td>-879.0</td>\n",
       "      <td>-1775.0</td>\n",
       "      <td>2850.0</td>\n",
       "      <td>4800.0</td>\n",
       "    </tr>\n",
       "    <tr>\n",
       "      <th>1499</th>\n",
       "      <td>1240</td>\n",
       "      <td>8.0</td>\n",
       "      <td>54.0</td>\n",
       "      <td>457.0</td>\n",
       "      <td>NaN</td>\n",
       "      <td>48351.59</td>\n",
       "      <td>ultra</td>\n",
       "      <td>Воронеж</td>\n",
       "      <td>1000</td>\n",
       "      <td>30720</td>\n",
       "      <td>3000</td>\n",
       "      <td>1950</td>\n",
       "      <td>150</td>\n",
       "      <td>1</td>\n",
       "      <td>1</td>\n",
       "      <td>18.0</td>\n",
       "      <td>NaN</td>\n",
       "      <td>-2543.0</td>\n",
       "      <td>2700.0</td>\n",
       "      <td>4650.0</td>\n",
       "    </tr>\n",
       "    <tr>\n",
       "      <th>1597</th>\n",
       "      <td>1255</td>\n",
       "      <td>7.0</td>\n",
       "      <td>37.0</td>\n",
       "      <td>263.0</td>\n",
       "      <td>NaN</td>\n",
       "      <td>45180.71</td>\n",
       "      <td>ultra</td>\n",
       "      <td>Саранск</td>\n",
       "      <td>1000</td>\n",
       "      <td>30720</td>\n",
       "      <td>3000</td>\n",
       "      <td>1950</td>\n",
       "      <td>150</td>\n",
       "      <td>1</td>\n",
       "      <td>1</td>\n",
       "      <td>15.0</td>\n",
       "      <td>NaN</td>\n",
       "      <td>-2737.0</td>\n",
       "      <td>2250.0</td>\n",
       "      <td>4200.0</td>\n",
       "    </tr>\n",
       "    <tr>\n",
       "      <th>1884</th>\n",
       "      <td>1300</td>\n",
       "      <td>11.0</td>\n",
       "      <td>88.0</td>\n",
       "      <td>658.0</td>\n",
       "      <td>170.0</td>\n",
       "      <td>44296.86</td>\n",
       "      <td>ultra</td>\n",
       "      <td>Москва</td>\n",
       "      <td>1000</td>\n",
       "      <td>30720</td>\n",
       "      <td>3000</td>\n",
       "      <td>1950</td>\n",
       "      <td>150</td>\n",
       "      <td>1</td>\n",
       "      <td>1</td>\n",
       "      <td>14.0</td>\n",
       "      <td>-830.0</td>\n",
       "      <td>-2342.0</td>\n",
       "      <td>2100.0</td>\n",
       "      <td>4050.0</td>\n",
       "    </tr>\n",
       "    <tr>\n",
       "      <th>383</th>\n",
       "      <td>1060</td>\n",
       "      <td>12.0</td>\n",
       "      <td>184.0</td>\n",
       "      <td>1233.0</td>\n",
       "      <td>52.0</td>\n",
       "      <td>43931.36</td>\n",
       "      <td>ultra</td>\n",
       "      <td>Калуга</td>\n",
       "      <td>1000</td>\n",
       "      <td>30720</td>\n",
       "      <td>3000</td>\n",
       "      <td>1950</td>\n",
       "      <td>150</td>\n",
       "      <td>1</td>\n",
       "      <td>1</td>\n",
       "      <td>13.0</td>\n",
       "      <td>-948.0</td>\n",
       "      <td>-1767.0</td>\n",
       "      <td>1950.0</td>\n",
       "      <td>3900.0</td>\n",
       "    </tr>\n",
       "    <tr>\n",
       "      <th>159</th>\n",
       "      <td>1024</td>\n",
       "      <td>11.0</td>\n",
       "      <td>157.0</td>\n",
       "      <td>1146.0</td>\n",
       "      <td>NaN</td>\n",
       "      <td>43107.47</td>\n",
       "      <td>ultra</td>\n",
       "      <td>Санкт-Петербург</td>\n",
       "      <td>1000</td>\n",
       "      <td>30720</td>\n",
       "      <td>3000</td>\n",
       "      <td>1950</td>\n",
       "      <td>150</td>\n",
       "      <td>1</td>\n",
       "      <td>1</td>\n",
       "      <td>13.0</td>\n",
       "      <td>NaN</td>\n",
       "      <td>-1854.0</td>\n",
       "      <td>1950.0</td>\n",
       "      <td>3900.0</td>\n",
       "    </tr>\n",
       "    <tr>\n",
       "      <th>1147</th>\n",
       "      <td>1180</td>\n",
       "      <td>10.0</td>\n",
       "      <td>19.0</td>\n",
       "      <td>98.0</td>\n",
       "      <td>18.0</td>\n",
       "      <td>43574.62</td>\n",
       "      <td>ultra</td>\n",
       "      <td>Москва</td>\n",
       "      <td>1000</td>\n",
       "      <td>30720</td>\n",
       "      <td>3000</td>\n",
       "      <td>1950</td>\n",
       "      <td>150</td>\n",
       "      <td>1</td>\n",
       "      <td>1</td>\n",
       "      <td>13.0</td>\n",
       "      <td>-982.0</td>\n",
       "      <td>-2902.0</td>\n",
       "      <td>1950.0</td>\n",
       "      <td>3900.0</td>\n",
       "    </tr>\n",
       "    <tr>\n",
       "      <th>1496</th>\n",
       "      <td>1240</td>\n",
       "      <td>5.0</td>\n",
       "      <td>59.0</td>\n",
       "      <td>395.0</td>\n",
       "      <td>NaN</td>\n",
       "      <td>43824.90</td>\n",
       "      <td>ultra</td>\n",
       "      <td>Воронеж</td>\n",
       "      <td>1000</td>\n",
       "      <td>30720</td>\n",
       "      <td>3000</td>\n",
       "      <td>1950</td>\n",
       "      <td>150</td>\n",
       "      <td>1</td>\n",
       "      <td>1</td>\n",
       "      <td>13.0</td>\n",
       "      <td>NaN</td>\n",
       "      <td>-2605.0</td>\n",
       "      <td>1950.0</td>\n",
       "      <td>3900.0</td>\n",
       "    </tr>\n",
       "    <tr>\n",
       "      <th>2394</th>\n",
       "      <td>1380</td>\n",
       "      <td>12.0</td>\n",
       "      <td>104.0</td>\n",
       "      <td>735.0</td>\n",
       "      <td>30.0</td>\n",
       "      <td>43304.50</td>\n",
       "      <td>ultra</td>\n",
       "      <td>Ростов-на-Дону</td>\n",
       "      <td>1000</td>\n",
       "      <td>30720</td>\n",
       "      <td>3000</td>\n",
       "      <td>1950</td>\n",
       "      <td>150</td>\n",
       "      <td>1</td>\n",
       "      <td>1</td>\n",
       "      <td>13.0</td>\n",
       "      <td>-970.0</td>\n",
       "      <td>-2265.0</td>\n",
       "      <td>1950.0</td>\n",
       "      <td>3900.0</td>\n",
       "    </tr>\n",
       "    <tr>\n",
       "      <th>1503</th>\n",
       "      <td>1240</td>\n",
       "      <td>12.0</td>\n",
       "      <td>63.0</td>\n",
       "      <td>431.0</td>\n",
       "      <td>NaN</td>\n",
       "      <td>43325.30</td>\n",
       "      <td>ultra</td>\n",
       "      <td>Воронеж</td>\n",
       "      <td>1000</td>\n",
       "      <td>30720</td>\n",
       "      <td>3000</td>\n",
       "      <td>1950</td>\n",
       "      <td>150</td>\n",
       "      <td>1</td>\n",
       "      <td>1</td>\n",
       "      <td>13.0</td>\n",
       "      <td>NaN</td>\n",
       "      <td>-2569.0</td>\n",
       "      <td>1950.0</td>\n",
       "      <td>3900.0</td>\n",
       "    </tr>\n",
       "    <tr>\n",
       "      <th>1909</th>\n",
       "      <td>1304</td>\n",
       "      <td>12.0</td>\n",
       "      <td>77.0</td>\n",
       "      <td>508.0</td>\n",
       "      <td>87.0</td>\n",
       "      <td>42039.00</td>\n",
       "      <td>ultra</td>\n",
       "      <td>Владимир</td>\n",
       "      <td>1000</td>\n",
       "      <td>30720</td>\n",
       "      <td>3000</td>\n",
       "      <td>1950</td>\n",
       "      <td>150</td>\n",
       "      <td>1</td>\n",
       "      <td>1</td>\n",
       "      <td>12.0</td>\n",
       "      <td>-913.0</td>\n",
       "      <td>-2492.0</td>\n",
       "      <td>1800.0</td>\n",
       "      <td>3750.0</td>\n",
       "    </tr>\n",
       "    <tr>\n",
       "      <th>2215</th>\n",
       "      <td>1356</td>\n",
       "      <td>5.0</td>\n",
       "      <td>138.0</td>\n",
       "      <td>935.0</td>\n",
       "      <td>133.0</td>\n",
       "      <td>42626.64</td>\n",
       "      <td>ultra</td>\n",
       "      <td>Москва</td>\n",
       "      <td>1000</td>\n",
       "      <td>30720</td>\n",
       "      <td>3000</td>\n",
       "      <td>1950</td>\n",
       "      <td>150</td>\n",
       "      <td>1</td>\n",
       "      <td>1</td>\n",
       "      <td>12.0</td>\n",
       "      <td>-867.0</td>\n",
       "      <td>-2065.0</td>\n",
       "      <td>1800.0</td>\n",
       "      <td>3750.0</td>\n",
       "    </tr>\n",
       "    <tr>\n",
       "      <th>1595</th>\n",
       "      <td>1255</td>\n",
       "      <td>5.0</td>\n",
       "      <td>45.0</td>\n",
       "      <td>320.0</td>\n",
       "      <td>NaN</td>\n",
       "      <td>42986.63</td>\n",
       "      <td>ultra</td>\n",
       "      <td>Саранск</td>\n",
       "      <td>1000</td>\n",
       "      <td>30720</td>\n",
       "      <td>3000</td>\n",
       "      <td>1950</td>\n",
       "      <td>150</td>\n",
       "      <td>1</td>\n",
       "      <td>1</td>\n",
       "      <td>12.0</td>\n",
       "      <td>NaN</td>\n",
       "      <td>-2680.0</td>\n",
       "      <td>1800.0</td>\n",
       "      <td>3750.0</td>\n",
       "    </tr>\n",
       "    <tr>\n",
       "      <th>1027</th>\n",
       "      <td>1165</td>\n",
       "      <td>11.0</td>\n",
       "      <td>34.0</td>\n",
       "      <td>232.0</td>\n",
       "      <td>197.0</td>\n",
       "      <td>42144.47</td>\n",
       "      <td>ultra</td>\n",
       "      <td>Самара</td>\n",
       "      <td>1000</td>\n",
       "      <td>30720</td>\n",
       "      <td>3000</td>\n",
       "      <td>1950</td>\n",
       "      <td>150</td>\n",
       "      <td>1</td>\n",
       "      <td>1</td>\n",
       "      <td>12.0</td>\n",
       "      <td>-803.0</td>\n",
       "      <td>-2768.0</td>\n",
       "      <td>1800.0</td>\n",
       "      <td>3750.0</td>\n",
       "    </tr>\n",
       "    <tr>\n",
       "      <th>3018</th>\n",
       "      <td>1474</td>\n",
       "      <td>12.0</td>\n",
       "      <td>156.0</td>\n",
       "      <td>1345.0</td>\n",
       "      <td>105.0</td>\n",
       "      <td>42320.87</td>\n",
       "      <td>ultra</td>\n",
       "      <td>Набережные Челны</td>\n",
       "      <td>1000</td>\n",
       "      <td>30720</td>\n",
       "      <td>3000</td>\n",
       "      <td>1950</td>\n",
       "      <td>150</td>\n",
       "      <td>1</td>\n",
       "      <td>1</td>\n",
       "      <td>12.0</td>\n",
       "      <td>-895.0</td>\n",
       "      <td>-1655.0</td>\n",
       "      <td>1800.0</td>\n",
       "      <td>3750.0</td>\n",
       "    </tr>\n",
       "  </tbody>\n",
       "</table>\n",
       "</div>"
      ],
      "text/plain": [
       "      user_id  month  call_qnt  call_duration  message_qnt   mb_used tariff  \\\n",
       "782      1124   10.0     152.0         1225.0        121.0  49745.69  ultra   \n",
       "1499     1240    8.0      54.0          457.0          NaN  48351.59  ultra   \n",
       "1597     1255    7.0      37.0          263.0          NaN  45180.71  ultra   \n",
       "1884     1300   11.0      88.0          658.0        170.0  44296.86  ultra   \n",
       "383      1060   12.0     184.0         1233.0         52.0  43931.36  ultra   \n",
       "159      1024   11.0     157.0         1146.0          NaN  43107.47  ultra   \n",
       "1147     1180   10.0      19.0           98.0         18.0  43574.62  ultra   \n",
       "1496     1240    5.0      59.0          395.0          NaN  43824.90  ultra   \n",
       "2394     1380   12.0     104.0          735.0         30.0  43304.50  ultra   \n",
       "1503     1240   12.0      63.0          431.0          NaN  43325.30  ultra   \n",
       "1909     1304   12.0      77.0          508.0         87.0  42039.00  ultra   \n",
       "2215     1356    5.0     138.0          935.0        133.0  42626.64  ultra   \n",
       "1595     1255    5.0      45.0          320.0          NaN  42986.63  ultra   \n",
       "1027     1165   11.0      34.0          232.0        197.0  42144.47  ultra   \n",
       "3018     1474   12.0     156.0         1345.0        105.0  42320.87  ultra   \n",
       "\n",
       "                  city  messages_included  mb_per_month_included  \\\n",
       "782          Махачкала               1000                  30720   \n",
       "1499           Воронеж               1000                  30720   \n",
       "1597           Саранск               1000                  30720   \n",
       "1884            Москва               1000                  30720   \n",
       "383             Калуга               1000                  30720   \n",
       "159    Санкт-Петербург               1000                  30720   \n",
       "1147            Москва               1000                  30720   \n",
       "1496           Воронеж               1000                  30720   \n",
       "2394    Ростов-на-Дону               1000                  30720   \n",
       "1503           Воронеж               1000                  30720   \n",
       "1909          Владимир               1000                  30720   \n",
       "2215            Москва               1000                  30720   \n",
       "1595           Саранск               1000                  30720   \n",
       "1027            Самара               1000                  30720   \n",
       "3018  Набережные Челны               1000                  30720   \n",
       "\n",
       "      minutes_included  rub_monthly_fee  rub_per_gb  rub_per_message  \\\n",
       "782               3000             1950         150                1   \n",
       "1499              3000             1950         150                1   \n",
       "1597              3000             1950         150                1   \n",
       "1884              3000             1950         150                1   \n",
       "383               3000             1950         150                1   \n",
       "159               3000             1950         150                1   \n",
       "1147              3000             1950         150                1   \n",
       "1496              3000             1950         150                1   \n",
       "2394              3000             1950         150                1   \n",
       "1503              3000             1950         150                1   \n",
       "1909              3000             1950         150                1   \n",
       "2215              3000             1950         150                1   \n",
       "1595              3000             1950         150                1   \n",
       "1027              3000             1950         150                1   \n",
       "3018              3000             1950         150                1   \n",
       "\n",
       "      rub_per_minute  gb_extra  messages_extra  call_extra  extra_fee  \\\n",
       "782                1      19.0          -879.0     -1775.0     2850.0   \n",
       "1499               1      18.0             NaN     -2543.0     2700.0   \n",
       "1597               1      15.0             NaN     -2737.0     2250.0   \n",
       "1884               1      14.0          -830.0     -2342.0     2100.0   \n",
       "383                1      13.0          -948.0     -1767.0     1950.0   \n",
       "159                1      13.0             NaN     -1854.0     1950.0   \n",
       "1147               1      13.0          -982.0     -2902.0     1950.0   \n",
       "1496               1      13.0             NaN     -2605.0     1950.0   \n",
       "2394               1      13.0          -970.0     -2265.0     1950.0   \n",
       "1503               1      13.0             NaN     -2569.0     1950.0   \n",
       "1909               1      12.0          -913.0     -2492.0     1800.0   \n",
       "2215               1      12.0          -867.0     -2065.0     1800.0   \n",
       "1595               1      12.0             NaN     -2680.0     1800.0   \n",
       "1027               1      12.0          -803.0     -2768.0     1800.0   \n",
       "3018               1      12.0          -895.0     -1655.0     1800.0   \n",
       "\n",
       "      total_fee  \n",
       "782      4800.0  \n",
       "1499     4650.0  \n",
       "1597     4200.0  \n",
       "1884     4050.0  \n",
       "383      3900.0  \n",
       "159      3900.0  \n",
       "1147     3900.0  \n",
       "1496     3900.0  \n",
       "2394     3900.0  \n",
       "1503     3900.0  \n",
       "1909     3750.0  \n",
       "2215     3750.0  \n",
       "1595     3750.0  \n",
       "1027     3750.0  \n",
       "3018     3750.0  "
      ]
     },
     "metadata": {},
     "output_type": "display_data"
    }
   ],
   "source": [
    "display(ultra.sort_values(by = 'total_fee', ascending = False).head(15))"
   ]
  },
  {
   "cell_type": "markdown",
   "metadata": {},
   "source": [
    "Вариативность по городам большая, но встречается и Москва."
   ]
  },
  {
   "cell_type": "code",
   "execution_count": 42,
   "metadata": {
    "scrolled": false
   },
   "outputs": [
    {
     "data": {
      "text/plain": [
       "'Города Smart:'"
      ]
     },
     "metadata": {},
     "output_type": "display_data"
    },
    {
     "data": {
      "text/plain": [
       "array(['Архангельск', 'Астрахань', 'Балашиха', 'Барнаул', 'Белгород',\n",
       "       'Владивосток', 'Владикавказ', 'Владимир', 'Волгоград', 'Волжский',\n",
       "       'Вологда', 'Воронеж', 'Грозный', 'Екатеринбург', 'Ижевск',\n",
       "       'Иркутск', 'Казань', 'Калининград', 'Калуга', 'Кемерово', 'Киров',\n",
       "       'Кострома', 'Краснодар', 'Красноярск', 'Курган', 'Курск', 'Липецк',\n",
       "       'Магнитогорск', 'Махачкала', 'Москва', 'Мурманск',\n",
       "       'Набережные Челны', 'Нижний Новгород', 'Нижний Тагил',\n",
       "       'Новокузнецк', 'Новороссийск', 'Новосибирск', 'Омск', 'Оренбург',\n",
       "       'Орёл', 'Пенза', 'Пермь', 'Петрозаводск', 'Подольск',\n",
       "       'Ростов-на-Дону', 'Рязань', 'Самара', 'Санкт-Петербург', 'Саранск',\n",
       "       'Саратов', 'Севастополь', 'Смоленск', 'Сочи', 'Ставрополь',\n",
       "       'Стерлитамак', 'Тамбов', 'Тверь', 'Тольятти', 'Томск', 'Тула',\n",
       "       'Тюмень', 'Улан-Удэ', 'Ульяновск', 'Уфа', 'Хабаровск', 'Химки',\n",
       "       'Чебоксары', 'Челябинск', 'Череповец', 'Чита', 'Якутск',\n",
       "       'Ярославль'], dtype=object)"
      ]
     },
     "metadata": {},
     "output_type": "display_data"
    },
    {
     "data": {
      "text/plain": [
       "'Города Ultra:'"
      ]
     },
     "metadata": {},
     "output_type": "display_data"
    },
    {
     "data": {
      "text/plain": [
       "array(['Астрахань', 'Балашиха', 'Барнаул', 'Брянск', 'Владивосток',\n",
       "       'Владимир', 'Волгоград', 'Волжский', 'Вологда', 'Воронеж',\n",
       "       'Екатеринбург', 'Иваново', 'Иркутск', 'Казань', 'Калуга',\n",
       "       'Кемерово', 'Киров', 'Кострома', 'Краснодар', 'Красноярск',\n",
       "       'Курган', 'Магнитогорск', 'Махачкала', 'Москва', 'Мурманск',\n",
       "       'Набережные Челны', 'Нижневартовск', 'Нижний Новгород',\n",
       "       'Нижний Тагил', 'Новокузнецк', 'Новосибирск', 'Омск', 'Оренбург',\n",
       "       'Пенза', 'Пермь', 'Ростов-на-Дону', 'Рязань', 'Самара',\n",
       "       'Санкт-Петербург', 'Саранск', 'Саратов', 'Севастополь', 'Смоленск',\n",
       "       'Сочи', 'Стерлитамак', 'Сургут', 'Тверь', 'Тольятти', 'Томск',\n",
       "       'Тула', 'Тюмень', 'Ульяновск', 'Уфа', 'Чебоксары', 'Челябинск',\n",
       "       'Череповец', 'Ярославль'], dtype=object)"
      ]
     },
     "metadata": {},
     "output_type": "display_data"
    },
    {
     "data": {
      "text/plain": [
       "'Количество уникальных городов smart:'"
      ]
     },
     "metadata": {},
     "output_type": "display_data"
    },
    {
     "data": {
      "text/plain": [
       "72"
      ]
     },
     "metadata": {},
     "output_type": "display_data"
    },
    {
     "data": {
      "text/plain": [
       "'Количество уникальных городов ultra:'"
      ]
     },
     "metadata": {},
     "output_type": "display_data"
    },
    {
     "data": {
      "text/plain": [
       "57"
      ]
     },
     "metadata": {},
     "output_type": "display_data"
    },
    {
     "data": {
      "text/plain": [
       "'Количество\\xa0по городам smart'"
      ]
     },
     "metadata": {},
     "output_type": "display_data"
    },
    {
     "data": {
      "text/plain": [
       "Москва              386\n",
       "Санкт-Петербург     210\n",
       "Ульяновск            81\n",
       "Казань               74\n",
       "Уфа                  65\n",
       "Новосибирск          54\n",
       "Омск                 54\n",
       "Самара               54\n",
       "Набережные Челны     49\n",
       "Улан-Удэ             48\n",
       "Name: city, dtype: int64"
      ]
     },
     "metadata": {},
     "output_type": "display_data"
    },
    {
     "data": {
      "text/plain": [
       "'Количество\\xa0по городам ultra'"
      ]
     },
     "metadata": {},
     "output_type": "display_data"
    },
    {
     "data": {
      "text/plain": [
       "Москва             225\n",
       "Санкт-Петербург     60\n",
       "Новосибирск         44\n",
       "Пенза               43\n",
       "Краснодар           41\n",
       "Воронеж             31\n",
       "Уфа                 30\n",
       "Брянск              28\n",
       "Пермь               26\n",
       "Нижний Новгород     23\n",
       "Name: city, dtype: int64"
      ]
     },
     "metadata": {},
     "output_type": "display_data"
    }
   ],
   "source": [
    "display('Города Smart:', smart['city'].sort_values().unique())\n",
    "display('Города Ultra:', ultra['city'].sort_values().unique())\n",
    "display('Количество уникальных городов smart:', smart['city'].value_counts().count())\n",
    "display('Количество уникальных городов ultra:', ultra['city'].value_counts().count())\n",
    "value_counts_smart = smart['city'].value_counts().head(10)\n",
    "value_counts_ultra = ultra['city'].value_counts().head(10)\n",
    "display('Количество по городам smart', value_counts_smart)\n",
    "display('Количество по городам ultra', value_counts_ultra)"
   ]
  },
  {
   "cell_type": "markdown",
   "metadata": {},
   "source": [
    "Москва однозначно лидирует по подключению тарифа Ultra (по количеству пользователей и месяцев использования). Smart используется в бОльшем количестве городов."
   ]
  },
  {
   "cell_type": "code",
   "execution_count": 43,
   "metadata": {
    "scrolled": true
   },
   "outputs": [
    {
     "data": {
      "text/plain": [
       "'Количество тарифов:'"
      ]
     },
     "metadata": {},
     "output_type": "display_data"
    },
    {
     "data": {
      "text/plain": [
       "smart    2230\n",
       "ultra     986\n",
       "Name: tariff, dtype: int64"
      ]
     },
     "metadata": {},
     "output_type": "display_data"
    }
   ],
   "source": [
    "display('Количество тарифов:', data_merge['tariff'].value_counts())"
   ]
  },
  {
   "cell_type": "markdown",
   "metadata": {},
   "source": [
    "По количеству пользователей / месяцев подключения лидер Smart."
   ]
  },
  {
   "cell_type": "markdown",
   "metadata": {},
   "source": [
    "Общий вывод: пользователи тарифа Ultra приносят больше дохода компании, чем пользователи тарифа Smart."
   ]
  },
  {
   "cell_type": "code",
   "execution_count": 44,
   "metadata": {},
   "outputs": [
    {
     "name": "stdout",
     "output_type": "stream",
     "text": [
      "Smart\n"
     ]
    },
    {
     "data": {
      "image/png": "[encoded data removed]",
      "text/plain": [
       "<Figure size 432x288 with 1 Axes>"
      ]
     },
     "metadata": {
      "needs_background": "light"
     },
     "output_type": "display_data"
    },
    {
     "name": "stdout",
     "output_type": "stream",
     "text": [
      "Ultra\n"
     ]
    },
    {
     "data": {
      "image/png": "[encoded data removed]",
      "text/plain": [
       "<Figure size 432x288 with 1 Axes>"
      ]
     },
     "metadata": {
      "needs_background": "light"
     },
     "output_type": "display_data"
    }
   ],
   "source": [
    "#диаграмма разброса по количеству минут разговора\n",
    "print('Smart')\n",
    "smart.boxplot(column='call_duration')\n",
    "plt.show()\n",
    "print('Ultra')\n",
    "ultra.boxplot(column='call_duration')\n",
    "plt.show()"
   ]
  },
  {
   "cell_type": "markdown",
   "metadata": {},
   "source": [
    "Из диаграммы разброса видно, что медиана количества минут пользователя тарифа Smart в месяц составляет чуть более 400 минут, а тарифа Ultra - 500.\n",
    "При этом диапазон нормального распределения для тарифа Smart составляет от 0 до 900 минут, тогда как для пользователя Ultra - от 0 до 1400.\n",
    "Большая часть значений для тарифа Smart лежит в диапазоне от 250 до 550 минут, для Ultra - от 260 до 750 минут."
   ]
  },
  {
   "cell_type": "code",
   "execution_count": 45,
   "metadata": {
    "scrolled": false
   },
   "outputs": [
    {
     "name": "stdout",
     "output_type": "stream",
     "text": [
      "Smart\n"
     ]
    },
    {
     "data": {
      "text/plain": [
       "count    2223.000000\n",
       "mean      419.062978\n",
       "std       189.325618\n",
       "min         0.000000\n",
       "25%       285.000000\n",
       "50%       423.000000\n",
       "75%       545.500000\n",
       "max      1435.000000\n",
       "Name: call_duration, dtype: float64"
      ]
     },
     "metadata": {},
     "output_type": "display_data"
    },
    {
     "name": "stdout",
     "output_type": "stream",
     "text": [
      "Ultra\n"
     ]
    },
    {
     "data": {
      "text/plain": [
       "count     951.000000\n",
       "mean      545.451104\n",
       "std       306.925754\n",
       "min         0.000000\n",
       "25%       310.000000\n",
       "50%       528.000000\n",
       "75%       756.500000\n",
       "max      1673.000000\n",
       "Name: call_duration, dtype: float64"
      ]
     },
     "execution_count": 45,
     "metadata": {},
     "output_type": "execute_result"
    }
   ],
   "source": [
    "#диаграмма разброса по количеству минут разговора\n",
    "print('Smart')\n",
    "display(smart['call_duration'].describe())\n",
    "\n",
    "\n",
    "print('Ultra')\n",
    "ultra['call_duration'].describe()"
   ]
  },
  {
   "cell_type": "markdown",
   "metadata": {},
   "source": [
    "Выводы по диаграмме распределения подтверждены с небольшими отклонениями по точным цифрам. Разброс между средней и медианой небольшой, что говорит о малом количестве выбросов."
   ]
  },
  {
   "cell_type": "code",
   "execution_count": 46,
   "metadata": {},
   "outputs": [
    {
     "data": {
      "image/png": "[encoded data removed]",
      "text/plain": [
       "<Figure size 432x288 with 1 Axes>"
      ]
     },
     "metadata": {
      "needs_background": "light"
     },
     "output_type": "display_data"
    },
    {
     "data": {
      "image/png": "[encoded data removed]",
      "text/plain": [
       "<Figure size 432x288 with 1 Axes>"
      ]
     },
     "metadata": {
      "needs_background": "light"
     },
     "output_type": "display_data"
    }
   ],
   "source": [
    "smart['call_duration'].hist(bins=25)\n",
    "plt.title('Распределение итогового количества минут разговора для клиентов тарифа Smart')\n",
    "plt.xlabel('Всего минут в месяц')\n",
    "plt.ylabel('Количество клиентов')\n",
    "plt.show()\n",
    "ultra['call_duration'].hist(bins=25)\n",
    "plt.title('Распределение итогового количества минут разговора для клиентов тарифа Ultra')\n",
    "plt.xlabel('Всего минут в месяц')\n",
    "plt.ylabel('Количество клиентов')\n",
    "plt.show()"
   ]
  },
  {
   "cell_type": "markdown",
   "metadata": {},
   "source": [
    "Диаграмма минут звонков владельцев тарифа Ultra больше похожа на нормальное распределение с пиком в диапазоне от 400 до 450 минут разговора.\n",
    "Тогда как диаграмма распределения количества минут разговора тарифа Smart имеет несколько пиков - на 500 минутах, на 26- минутах и на 800 минутах.\n",
    "В обоих графиках есть достаточно большой столбец по значениям 0 - сброшенные звонки."
   ]
  },
  {
   "cell_type": "markdown",
   "metadata": {},
   "source": [
    "Общий вывод: пользователи тарифа Smart более активно разговаривают по телефону."
   ]
  },
  {
   "cell_type": "code",
   "execution_count": 47,
   "metadata": {},
   "outputs": [
    {
     "name": "stdout",
     "output_type": "stream",
     "text": [
      "Smart\n"
     ]
    },
    {
     "data": {
      "image/png": "[encoded data removed]",
      "text/plain": [
       "<Figure size 432x288 with 1 Axes>"
      ]
     },
     "metadata": {
      "needs_background": "light"
     },
     "output_type": "display_data"
    },
    {
     "name": "stdout",
     "output_type": "stream",
     "text": [
      "Ultra\n"
     ]
    },
    {
     "data": {
      "image/png": "[encoded data removed]",
      "text/plain": [
       "<Figure size 432x288 with 1 Axes>"
      ]
     },
     "metadata": {
      "needs_background": "light"
     },
     "output_type": "display_data"
    }
   ],
   "source": [
    "print('Smart')\n",
    "smart.boxplot(column='message_qnt')\n",
    "plt.show()\n",
    "print('Ultra')\n",
    "ultra.boxplot(column='message_qnt')\n",
    "plt.show()"
   ]
  },
  {
   "cell_type": "markdown",
   "metadata": {},
   "source": [
    "Из диаграммы видно, что большинство пользователей нечасто пользуются сообщениями: медиана составляет около 30 сообщений для тарифа Smart и около 50 сообщений для тарифа Ultra. Диапазон нормального распределения для тарифа Smart составляет от 0 до примерно 110 сообщений. Диапазон нормального распредения для тарифа Ultra - от 0 до 180 сообщений."
   ]
  },
  {
   "cell_type": "code",
   "execution_count": 48,
   "metadata": {},
   "outputs": [
    {
     "name": "stdout",
     "output_type": "stream",
     "text": [
      "Smart\n",
      "count    1922.000000\n",
      "mean       38.716441\n",
      "std        26.787949\n",
      "min         1.000000\n",
      "25%        17.000000\n",
      "50%        34.000000\n",
      "75%        55.000000\n",
      "max       143.000000\n",
      "Name: message_qnt, dtype: float64\n",
      "Ultra\n"
     ]
    },
    {
     "data": {
      "text/plain": [
       "count    795.000000\n",
       "mean      61.161006\n",
       "std       45.931026\n",
       "min        1.000000\n",
       "25%       24.000000\n",
       "50%       51.000000\n",
       "75%       87.500000\n",
       "max      224.000000\n",
       "Name: message_qnt, dtype: float64"
      ]
     },
     "execution_count": 48,
     "metadata": {},
     "output_type": "execute_result"
    }
   ],
   "source": [
    "print('Smart')\n",
    "print(smart['message_qnt'].describe())\n",
    "print('Ultra')\n",
    "ultra['message_qnt'].describe()"
   ]
  },
  {
   "cell_type": "markdown",
   "metadata": {},
   "source": [
    "В целом, все выводы, сделанные ранее, подтверждены. Среднее значение и медиана для тарифа Smart не сильно отличаются, что говорит, о небольшом количестве выбросов. Для тарифа Ultra разброс больше, следовательно, больше и выбросов."
   ]
  },
  {
   "cell_type": "code",
   "execution_count": 49,
   "metadata": {},
   "outputs": [
    {
     "data": {
      "image/png": "[encoded data removed]",
      "text/plain": [
       "<Figure size 432x288 with 1 Axes>"
      ]
     },
     "metadata": {
      "needs_background": "light"
     },
     "output_type": "display_data"
    },
    {
     "data": {
      "image/png": "[encoded data removed]",
      "text/plain": [
       "<Figure size 432x288 with 1 Axes>"
      ]
     },
     "metadata": {
      "needs_background": "light"
     },
     "output_type": "display_data"
    }
   ],
   "source": [
    "smart['message_qnt'].hist(bins=25)\n",
    "plt.title('Распределение итогового количества SMS для клиентов тарифа Smart')\n",
    "plt.xlabel('Всего SMS в месяц')\n",
    "plt.ylabel('Количество клиентов')\n",
    "plt.show()\n",
    "ultra['message_qnt'].hist(bins=25)\n",
    "plt.title('Распределение итогового количества SMS для клиентов тарифа Ultra')\n",
    "plt.xlabel('Всего SMS в месяц')\n",
    "plt.ylabel('Количество клиентов')\n",
    "plt.show()"
   ]
  },
  {
   "cell_type": "markdown",
   "metadata": {},
   "source": [
    "Оба графика не похожи на график нормального распределения, скорее, это распределение Пуассона. Большая часть клиентов в месяц отправляет небольшое количество сообщений, чем больше сообщений, тем меньше таких клиентов в месяце."
   ]
  },
  {
   "cell_type": "code",
   "execution_count": 50,
   "metadata": {},
   "outputs": [
    {
     "data": {
      "text/html": [
       "<div>\n",
       "<style scoped>\n",
       "    .dataframe tbody tr th:only-of-type {\n",
       "        vertical-align: middle;\n",
       "    }\n",
       "\n",
       "    .dataframe tbody tr th {\n",
       "        vertical-align: top;\n",
       "    }\n",
       "\n",
       "    .dataframe thead th {\n",
       "        text-align: right;\n",
       "    }\n",
       "</style>\n",
       "<table border=\"1\" class=\"dataframe\">\n",
       "  <thead>\n",
       "    <tr style=\"text-align: right;\">\n",
       "      <th></th>\n",
       "      <th>user_id</th>\n",
       "      <th>month</th>\n",
       "      <th>call_qnt</th>\n",
       "      <th>call_duration</th>\n",
       "      <th>message_qnt</th>\n",
       "      <th>mb_used</th>\n",
       "      <th>tariff</th>\n",
       "      <th>city</th>\n",
       "      <th>messages_included</th>\n",
       "      <th>mb_per_month_included</th>\n",
       "      <th>minutes_included</th>\n",
       "      <th>rub_monthly_fee</th>\n",
       "      <th>rub_per_gb</th>\n",
       "      <th>rub_per_message</th>\n",
       "      <th>rub_per_minute</th>\n",
       "      <th>gb_extra</th>\n",
       "      <th>messages_extra</th>\n",
       "      <th>call_extra</th>\n",
       "      <th>extra_fee</th>\n",
       "      <th>total_fee</th>\n",
       "    </tr>\n",
       "  </thead>\n",
       "  <tbody>\n",
       "    <tr>\n",
       "      <th>8</th>\n",
       "      <td>1001</td>\n",
       "      <td>11.0</td>\n",
       "      <td>59.0</td>\n",
       "      <td>430.0</td>\n",
       "      <td>NaN</td>\n",
       "      <td>18429.34</td>\n",
       "      <td>smart</td>\n",
       "      <td>Москва</td>\n",
       "      <td>50</td>\n",
       "      <td>15360</td>\n",
       "      <td>500</td>\n",
       "      <td>550</td>\n",
       "      <td>200</td>\n",
       "      <td>3</td>\n",
       "      <td>3</td>\n",
       "      <td>3.0</td>\n",
       "      <td>NaN</td>\n",
       "      <td>-70.0</td>\n",
       "      <td>600.0</td>\n",
       "      <td>1150.0</td>\n",
       "    </tr>\n",
       "    <tr>\n",
       "      <th>9</th>\n",
       "      <td>1001</td>\n",
       "      <td>12.0</td>\n",
       "      <td>63.0</td>\n",
       "      <td>414.0</td>\n",
       "      <td>NaN</td>\n",
       "      <td>14036.66</td>\n",
       "      <td>smart</td>\n",
       "      <td>Москва</td>\n",
       "      <td>50</td>\n",
       "      <td>15360</td>\n",
       "      <td>500</td>\n",
       "      <td>550</td>\n",
       "      <td>200</td>\n",
       "      <td>3</td>\n",
       "      <td>3</td>\n",
       "      <td>-1.0</td>\n",
       "      <td>NaN</td>\n",
       "      <td>-86.0</td>\n",
       "      <td>0.0</td>\n",
       "      <td>550.0</td>\n",
       "    </tr>\n",
       "    <tr>\n",
       "      <th>10</th>\n",
       "      <td>1002</td>\n",
       "      <td>6.0</td>\n",
       "      <td>15.0</td>\n",
       "      <td>117.0</td>\n",
       "      <td>4.0</td>\n",
       "      <td>10856.82</td>\n",
       "      <td>smart</td>\n",
       "      <td>Стерлитамак</td>\n",
       "      <td>50</td>\n",
       "      <td>15360</td>\n",
       "      <td>500</td>\n",
       "      <td>550</td>\n",
       "      <td>200</td>\n",
       "      <td>3</td>\n",
       "      <td>3</td>\n",
       "      <td>-4.0</td>\n",
       "      <td>-46.0</td>\n",
       "      <td>-383.0</td>\n",
       "      <td>0.0</td>\n",
       "      <td>550.0</td>\n",
       "    </tr>\n",
       "    <tr>\n",
       "      <th>11</th>\n",
       "      <td>1002</td>\n",
       "      <td>7.0</td>\n",
       "      <td>26.0</td>\n",
       "      <td>214.0</td>\n",
       "      <td>11.0</td>\n",
       "      <td>17580.10</td>\n",
       "      <td>smart</td>\n",
       "      <td>Стерлитамак</td>\n",
       "      <td>50</td>\n",
       "      <td>15360</td>\n",
       "      <td>500</td>\n",
       "      <td>550</td>\n",
       "      <td>200</td>\n",
       "      <td>3</td>\n",
       "      <td>3</td>\n",
       "      <td>3.0</td>\n",
       "      <td>-39.0</td>\n",
       "      <td>-286.0</td>\n",
       "      <td>600.0</td>\n",
       "      <td>1150.0</td>\n",
       "    </tr>\n",
       "    <tr>\n",
       "      <th>12</th>\n",
       "      <td>1002</td>\n",
       "      <td>8.0</td>\n",
       "      <td>42.0</td>\n",
       "      <td>289.0</td>\n",
       "      <td>13.0</td>\n",
       "      <td>20319.26</td>\n",
       "      <td>smart</td>\n",
       "      <td>Стерлитамак</td>\n",
       "      <td>50</td>\n",
       "      <td>15360</td>\n",
       "      <td>500</td>\n",
       "      <td>550</td>\n",
       "      <td>200</td>\n",
       "      <td>3</td>\n",
       "      <td>3</td>\n",
       "      <td>5.0</td>\n",
       "      <td>-37.0</td>\n",
       "      <td>-211.0</td>\n",
       "      <td>1000.0</td>\n",
       "      <td>1550.0</td>\n",
       "    </tr>\n",
       "  </tbody>\n",
       "</table>\n",
       "</div>"
      ],
      "text/plain": [
       "    user_id  month  call_qnt  call_duration  message_qnt   mb_used tariff  \\\n",
       "8      1001   11.0      59.0          430.0          NaN  18429.34  smart   \n",
       "9      1001   12.0      63.0          414.0          NaN  14036.66  smart   \n",
       "10     1002    6.0      15.0          117.0          4.0  10856.82  smart   \n",
       "11     1002    7.0      26.0          214.0         11.0  17580.10  smart   \n",
       "12     1002    8.0      42.0          289.0         13.0  20319.26  smart   \n",
       "\n",
       "           city  messages_included  mb_per_month_included  minutes_included  \\\n",
       "8        Москва                 50                  15360               500   \n",
       "9        Москва                 50                  15360               500   \n",
       "10  Стерлитамак                 50                  15360               500   \n",
       "11  Стерлитамак                 50                  15360               500   \n",
       "12  Стерлитамак                 50                  15360               500   \n",
       "\n",
       "    rub_monthly_fee  rub_per_gb  rub_per_message  rub_per_minute  gb_extra  \\\n",
       "8               550         200                3               3       3.0   \n",
       "9               550         200                3               3      -1.0   \n",
       "10              550         200                3               3      -4.0   \n",
       "11              550         200                3               3       3.0   \n",
       "12              550         200                3               3       5.0   \n",
       "\n",
       "    messages_extra  call_extra  extra_fee  total_fee  \n",
       "8              NaN       -70.0      600.0     1150.0  \n",
       "9              NaN       -86.0        0.0      550.0  \n",
       "10           -46.0      -383.0        0.0      550.0  \n",
       "11           -39.0      -286.0      600.0     1150.0  \n",
       "12           -37.0      -211.0     1000.0     1550.0  "
      ]
     },
     "metadata": {},
     "output_type": "display_data"
    }
   ],
   "source": [
    "display(smart.head())"
   ]
  },
  {
   "cell_type": "code",
   "execution_count": 51,
   "metadata": {},
   "outputs": [
    {
     "name": "stdout",
     "output_type": "stream",
     "text": [
      "Smart\n"
     ]
    },
    {
     "data": {
      "image/png": "[encoded data removed]",
      "text/plain": [
       "<Figure size 432x288 with 1 Axes>"
      ]
     },
     "metadata": {
      "needs_background": "light"
     },
     "output_type": "display_data"
    },
    {
     "name": "stdout",
     "output_type": "stream",
     "text": [
      "Ultra\n"
     ]
    },
    {
     "data": {
      "image/png": "[encoded data removed]",
      "text/plain": [
       "<Figure size 432x288 with 1 Axes>"
      ]
     },
     "metadata": {
      "needs_background": "light"
     },
     "output_type": "display_data"
    }
   ],
   "source": [
    "print('Smart')\n",
    "smart.boxplot(column='mb_used')\n",
    "plt.show()\n",
    "print('Ultra')\n",
    "ultra.boxplot(column='mb_used')\n",
    "plt.show()"
   ]
  },
  {
   "cell_type": "markdown",
   "metadata": {},
   "source": [
    "Из диаграммы распределения можно сделать вывод, что пользователи Smart чаще всего используют около 16 000 mb, тогда как пользователи Ultra - около 20 000 mb.  При этом диапазон нормального распредения составляет от 0 до 31000 mb для Smart и от 0 до 49000 mb для Ultra. В тарифе Smart можно наблюдать достаточно много выбросов, тогда как в тарифе Ultra их практически нет (один?)."
   ]
  },
  {
   "cell_type": "code",
   "execution_count": 52,
   "metadata": {},
   "outputs": [
    {
     "name": "stdout",
     "output_type": "stream",
     "text": [
      "Smart\n",
      "count     2228.000000\n",
      "mean     16215.661849\n",
      "std       5861.736234\n",
      "min          0.000000\n",
      "25%      12649.272500\n",
      "50%      16507.740000\n",
      "75%      20043.792500\n",
      "max      38552.450000\n",
      "Name: mb_used, dtype: float64\n",
      "Ultra\n"
     ]
    },
    {
     "data": {
      "text/plain": [
       "count      975.000000\n",
       "mean     19668.485262\n",
       "std       9943.050284\n",
       "min          0.000000\n",
       "25%      12008.305000\n",
       "50%      19394.290000\n",
       "75%      26896.550000\n",
       "max      49745.690000\n",
       "Name: mb_used, dtype: float64"
      ]
     },
     "execution_count": 52,
     "metadata": {},
     "output_type": "execute_result"
    }
   ],
   "source": [
    "print('Smart')\n",
    "print(smart['mb_used'].describe())\n",
    "print('Ultra')\n",
    "ultra['mb_used'].describe()"
   ]
  },
  {
   "cell_type": "markdown",
   "metadata": {},
   "source": [
    "В целом, выводы подтвержды. В обоих случаях средняя и медиана практически совпадает, что говорит о небольшом количестве выбросов."
   ]
  },
  {
   "cell_type": "markdown",
   "metadata": {},
   "source": [
    "Общий вывод: пользователи тарифа Ultra используют больше mb трафика, чем пользователи тарифа Smart."
   ]
  },
  {
   "cell_type": "markdown",
   "metadata": {},
   "source": [
    "## Проверка гипотез"
   ]
  },
  {
   "cell_type": "markdown",
   "metadata": {},
   "source": [
    "**Нулевая гипотеза:** выручка пользователей тарифа Smart и Ultra одинаковая. \n",
    "**Альтернативная гипотеза:** выручка пользователей тарифов Smart и Ultra отличается."
   ]
  },
  {
   "cell_type": "code",
   "execution_count": 53,
   "metadata": {},
   "outputs": [
    {
     "name": "stdout",
     "output_type": "stream",
     "text": [
      "p-значение: 1.927011394420941e-250\n",
      "Отвергаем нулевую гипотезу\n"
     ]
    }
   ],
   "source": [
    "ultra_test = ultra['total_fee']\n",
    "smart_test = smart['total_fee']\n",
    "\n",
    "alpha = 0.05 # критический уровень статистической значимости\n",
    "\n",
    "results = st.ttest_ind(# проверка гипотезы о равенстве средних двух независимых совокупностей\n",
    "    ultra_test, \n",
    "    smart_test,\n",
    "    equal_var = False) # т.к. дисперсии не равны\n",
    "\n",
    "print('p-значение:', results.pvalue) \n",
    "\n",
    "if results.pvalue < alpha: \n",
    "    print(\"Отвергаем нулевую гипотезу\")\n",
    "else:\n",
    "    print(\"Не получилось отвергнуть нулевую гипотезу\")"
   ]
  },
  {
   "cell_type": "code",
   "execution_count": 54,
   "metadata": {
    "scrolled": false
   },
   "outputs": [
    {
     "name": "stdout",
     "output_type": "stream",
     "text": [
      "Средняя выручка пользователей тарифа Ultra: 2070.030425963489\n",
      "Средняя выручка пользователей тарифа Smart: 1289.6417040358745\n"
     ]
    }
   ],
   "source": [
    "print('Средняя выручка пользователей тарифа Ultra:', ultra['total_fee'].mean())\n",
    "print('Средняя выручка пользователей тарифа Smart:',smart['total_fee'].mean())"
   ]
  },
  {
   "cell_type": "markdown",
   "metadata": {},
   "source": [
    "**Вывод:** средняя выручка пользователей Smart и Ultra отличается. Средняя выручка от пользователей тарифа Ultra больше, чем от пользователей тарифа Smart."
   ]
  },
  {
   "cell_type": "markdown",
   "metadata": {},
   "source": [
    "**Нулевая гипотеза:** выручка пользователей Москвы и регионов одинаковая. **Альтернативная гипотеза:** выручка пользователей Москвы и регионов отличается."
   ]
  },
  {
   "cell_type": "code",
   "execution_count": 55,
   "metadata": {},
   "outputs": [
    {
     "name": "stdout",
     "output_type": "stream",
     "text": [
      "p-значение: 0.5216952110000279\n",
      "Не получилось отвергнуть нулевую гипотезу\n"
     ]
    }
   ],
   "source": [
    "moscow_test = moscow['total_fee']\n",
    "region_test = region['total_fee']\n",
    "\n",
    "alpha = 0.05 # критический уровень статистической значимости\n",
    "\n",
    "results = st.ttest_ind(# проверка гипотезы о равенстве средних двух независимых совокупностей\n",
    "    moscow_test, \n",
    "    region_test,\n",
    "    equal_var = False) # т.к. дисперсии не равны\n",
    "\n",
    "print('p-значение:', results.pvalue) \n",
    "\n",
    "if results.pvalue < alpha: \n",
    "    print(\"Отвергаем нулевую гипотезу\")\n",
    "else:\n",
    "    print(\"Не получилось отвергнуть нулевую гипотезу\")"
   ]
  },
  {
   "cell_type": "code",
   "execution_count": 56,
   "metadata": {},
   "outputs": [
    {
     "name": "stdout",
     "output_type": "stream",
     "text": [
      "Средняя выручка от пользователей Москвы: 1546.7135842880523\n",
      "Средняя выручка от пользователей в регионах: 1524.7251439539348\n"
     ]
    }
   ],
   "source": [
    "print('Средняя выручка от пользователей Москвы:', moscow['total_fee'].mean())\n",
    "print('Средняя выручка от пользователей в регионах:',region['total_fee'].mean())"
   ]
  },
  {
   "cell_type": "markdown",
   "metadata": {},
   "source": [
    "Вывод: средняя выручка пользователей Москвы и регионов отличается. При этом различие не настолько существенное, как между пользователями разных тарифов."
   ]
  },
  {
   "cell_type": "markdown",
   "metadata": {},
   "source": [
    "## Общий вывод"
   ]
  },
  {
   "cell_type": "markdown",
   "metadata": {},
   "source": [
    "### Изучение данных из файла\n",
    "\n",
    "**Таблица со звонками** состоит из 202607 строк, явных пропусков данных и дубликатов нет.\n",
    "**Таблица с интернет-трафиком** состоит из 149 396 строк, явных пропусков данных и дубликатов не обнаружено.\n",
    "**Таблица с сообщениями** состоит из 123 036 строк, явных пропусков данных и дубликатов не обнаружено\n",
    "**Из 500 пользователей 462 продолжают пользоваться** различными тарифами оператора, 38 закрыли договор.\n",
    "\n",
    "### Обработка данных:\n",
    "* Изменяем тип данных object в столбцах с датой.\n",
    "* Добавляем столбец с месяцем и годом во все таблицы, для которых релевантно.\n",
    "* Округляем звонки до минут в соответствии с тарифами оператора\n",
    "* *Не стала менять тип числовых данных с float на int, потому что при слиянии таблиц это приводит к появлению пропусков в формате <NA>, которые у меня не получилось заменить ни одним известным способом (fillna, .loc, replace). Расчетам такой вид данных не мешает.*\n",
    "* Приведем мегабайты в гигабайты делением значений на 1000.\n",
    "* Округлим общую сумму гигабайт за месяц в бо́льшую сторону. *Если абонент использует 1025 мегабайт в этом месяце, с него возьмут плату за 2 гигабайта.*\n",
    "\n",
    "**Объединяем все таблицы в одну общую** по пользователям и месяцам + добавляем условия по тарифам в таблицу для упрощения расчетов.\n",
    "\n",
    "**Добавляем новые столбцы:**\n",
    "* данные с расчетом платежей сверх тарифа, \n",
    "* данные с общей суммой платежа: платеж по тарифу плюс экстра.\n",
    "    \n",
    "### Исследовательский анализ данных\n",
    "\n",
    "**Выручка для пользователей разных тарифов:**\n",
    "* Для пользователей  тарифа Smart: медиана находится где-то на 1000 руб., в \"ящике\" значения от 550 до 1800 руб. Значения нормального распределения от 550 руб. (минимальный тариф) до 3500 руб. Свыше 3500 - выбросы.\n",
    "* Для пользователей тарифа Ultra: большая часть пользователей платит только абонентскую плату в 1950 руб., оплаты сверх тарифа бывают редко и являются выбросами.\n",
    "* **Москва** однозначно лидирует по подключению **тарифа Ultra** (по количеству пользователей и месяцев использования).\n",
    "* **Smart** используется в бОльшем количестве городов и лидирует по количеству пользователей / месяцев подключения в целом.\n",
    "\n",
    "**Общий вывод: пользователи тарифа Ultra приносят больше дохода компании, чем пользователи тарифа Smart.**<br>\n",
    "<br>\n",
    "<br>\n",
    "**Количество минут разговора для разных тарифов**:\n",
    "* медиана количества минут пользователя тарифа Smart в месяц составляет чуть более 400 минут, а тарифа Ultra - 500. При этом диапазон нормального распределения для тарифа Smart составляет от 0 до 900 минут, тогда как для пользователя Ultra - от 0 до 1400. Большая часть значений для тарифа Smart лежит в диапазоне от 250 до 550 минут, для Ultra - от 260 до 750 минут.\n",
    "* диаграмма минут звонков **владельцев тарифа Ultra** больше похожа на **нормальное распределение** с пиком в диапазоне от 400 до 450 минут разговора.\n",
    "* диаграмма распределения количества минут разговора **тарифа Smart имеет несколько пиков**: на 500 минутах, на 26 минутах и на 800 минутах.\n",
    "* в обоих графиках есть достаточно большой столбец по значениям 0 - сброшенные звонки.\n",
    "\n",
    "**Общий вывод: пользователи тарифа Smart более активно разговаривают по телефону.**<br>\n",
    "<br>\n",
    "<br>\n",
    "**Количество отправленных сообщений для пользователей разных тарифов**:\n",
    "* большинство пользователей нечасто пользуются сообщениями: медиана составляет около 30 сообщений для тарифа Smart и около 50 сообщений для тарифа Ultra.\n",
    "* Диапазон нормального распределения для тарифа Smart составляет от 0 до примерно 110 сообщений. \n",
    "* Диапазон нормального распредения для тарифа Ultra - от 0 до 180 сообщений.\n",
    "* Обе диаграммы являются распределением Пуассона.\n",
    "\n",
    "**Общий вывод: пользователи тарифа Ultra чаще отправляют сообщения.**<br>\n",
    "<br>\n",
    "<br>\n",
    "**Количество использованных Гб для пользователей разных тарифов**:\n",
    "* пользователи Smart чаще всего используют около 16 000 mb, тогда как пользователи Ultra - около 20 000 mb.  \n",
    "* диапазон нормального распредения составляет от 0 до 31000 mb для Smart и от 0 до 49000 mb для Ultra. \n",
    "* в тарифе Smart можно наблюдать достаточно много выбросов, тогда как в тарифе Ultra их практически нет.\n",
    "\n",
    "**Общий вывод: пользователи тарифа Ultra используют больше mb трафика, чем пользователи тарифа Smart.**\n",
    "\n",
    "### Проверка гипотез\n",
    "Средняя выручка пользователей Smart и Ultra отличается. Средняя выручка от пользователей тарифа Ultra больше, чем от пользователей тарифа Smart.<br>\n",
    "Средняя выручка пользователей Москвы и регионов отличается. При этом различие не настолько существенное, как между пользователями разных тарифов."
   ]
  }
 ],
 "metadata": {
  "ExecuteTimeLog": [
   {
    "duration": 836,
    "start_time": "2022-02-26T09:38:46.353Z"
   },
   {
    "duration": 153,
    "start_time": "2022-02-26T09:38:48.835Z"
   },
   {
    "duration": 140,
    "start_time": "2022-02-26T09:38:54.025Z"
   },
   {
    "duration": 155,
    "start_time": "2022-02-26T09:39:07.281Z"
   },
   {
    "duration": 119,
    "start_time": "2022-02-26T09:39:45.620Z"
   },
   {
    "duration": 163,
    "start_time": "2022-02-26T09:40:28.022Z"
   },
   {
    "duration": 89,
    "start_time": "2022-02-26T09:41:07.191Z"
   },
   {
    "duration": 15,
    "start_time": "2022-02-26T09:41:44.420Z"
   },
   {
    "duration": 57,
    "start_time": "2022-02-26T09:42:20.581Z"
   },
   {
    "duration": 39,
    "start_time": "2022-02-26T09:42:30.186Z"
   },
   {
    "duration": 35,
    "start_time": "2022-02-26T09:43:19.465Z"
   },
   {
    "duration": 203,
    "start_time": "2022-02-26T09:43:42.485Z"
   },
   {
    "duration": 176,
    "start_time": "2022-02-26T09:43:52.899Z"
   },
   {
    "duration": 122,
    "start_time": "2022-02-26T09:45:39.717Z"
   },
   {
    "duration": 28,
    "start_time": "2022-02-26T09:48:01.239Z"
   },
   {
    "duration": 90,
    "start_time": "2022-02-26T09:48:30.060Z"
   },
   {
    "duration": 90,
    "start_time": "2022-02-26T09:49:36.333Z"
   },
   {
    "duration": 80,
    "start_time": "2022-02-26T09:50:01.147Z"
   },
   {
    "duration": 31,
    "start_time": "2022-02-26T09:50:36.643Z"
   },
   {
    "duration": 81,
    "start_time": "2022-02-26T09:50:52.118Z"
   },
   {
    "duration": 11,
    "start_time": "2022-02-26T10:02:25.380Z"
   },
   {
    "duration": 47,
    "start_time": "2022-02-26T10:10:07.961Z"
   },
   {
    "duration": 36,
    "start_time": "2022-02-26T10:11:18.557Z"
   },
   {
    "duration": 38,
    "start_time": "2022-02-26T10:12:59.303Z"
   },
   {
    "duration": 19,
    "start_time": "2022-02-26T10:15:38.739Z"
   },
   {
    "duration": 4302,
    "start_time": "2022-02-26T10:16:21.956Z"
   },
   {
    "duration": 4691,
    "start_time": "2022-02-26T10:16:27.362Z"
   },
   {
    "duration": 21,
    "start_time": "2022-02-26T10:16:53.209Z"
   },
   {
    "duration": 209,
    "start_time": "2022-02-26T10:30:04.524Z"
   },
   {
    "duration": 12,
    "start_time": "2022-02-26T10:30:20.559Z"
   },
   {
    "duration": 16,
    "start_time": "2022-02-26T10:30:45.647Z"
   },
   {
    "duration": 25,
    "start_time": "2022-02-26T10:31:00.805Z"
   },
   {
    "duration": 18,
    "start_time": "2022-02-26T10:31:58.564Z"
   },
   {
    "duration": 23,
    "start_time": "2022-02-26T10:32:15.975Z"
   },
   {
    "duration": 17,
    "start_time": "2022-02-26T10:32:33.150Z"
   },
   {
    "duration": 134,
    "start_time": "2022-02-26T10:32:45.756Z"
   },
   {
    "duration": 19,
    "start_time": "2022-02-26T10:32:45.892Z"
   },
   {
    "duration": 120,
    "start_time": "2022-02-26T10:32:45.913Z"
   },
   {
    "duration": 125,
    "start_time": "2022-02-26T10:32:46.035Z"
   },
   {
    "duration": 16,
    "start_time": "2022-02-26T10:32:46.161Z"
   },
   {
    "duration": 76,
    "start_time": "2022-02-26T10:32:46.179Z"
   },
   {
    "duration": 65,
    "start_time": "2022-02-26T10:32:46.257Z"
   },
   {
    "duration": 25,
    "start_time": "2022-02-26T10:32:46.300Z"
   },
   {
    "duration": 24,
    "start_time": "2022-02-26T10:32:46.302Z"
   },
   {
    "duration": 23,
    "start_time": "2022-02-26T10:32:46.304Z"
   },
   {
    "duration": 10,
    "start_time": "2022-02-26T10:32:46.318Z"
   },
   {
    "duration": 7,
    "start_time": "2022-02-26T10:32:46.322Z"
   },
   {
    "duration": 5,
    "start_time": "2022-02-26T10:32:46.325Z"
   },
   {
    "duration": -6,
    "start_time": "2022-02-26T10:32:46.337Z"
   },
   {
    "duration": -15,
    "start_time": "2022-02-26T10:32:46.348Z"
   },
   {
    "duration": -16,
    "start_time": "2022-02-26T10:32:46.350Z"
   },
   {
    "duration": -18,
    "start_time": "2022-02-26T10:32:46.352Z"
   },
   {
    "duration": -20,
    "start_time": "2022-02-26T10:32:46.355Z"
   },
   {
    "duration": 17,
    "start_time": "2022-02-26T10:32:54.250Z"
   },
   {
    "duration": 799,
    "start_time": "2022-02-26T10:33:21.122Z"
   },
   {
    "duration": 23,
    "start_time": "2022-02-26T10:33:21.923Z"
   },
   {
    "duration": 135,
    "start_time": "2022-02-26T10:33:21.950Z"
   },
   {
    "duration": 137,
    "start_time": "2022-02-26T10:33:22.087Z"
   },
   {
    "duration": 28,
    "start_time": "2022-02-26T10:33:22.233Z"
   },
   {
    "duration": 121,
    "start_time": "2022-02-26T10:33:22.264Z"
   },
   {
    "duration": 59,
    "start_time": "2022-02-26T10:33:22.388Z"
   },
   {
    "duration": 14,
    "start_time": "2022-02-26T10:33:22.436Z"
   },
   {
    "duration": 12,
    "start_time": "2022-02-26T10:33:22.439Z"
   },
   {
    "duration": 11,
    "start_time": "2022-02-26T10:33:22.442Z"
   },
   {
    "duration": 10,
    "start_time": "2022-02-26T10:33:22.444Z"
   },
   {
    "duration": 8,
    "start_time": "2022-02-26T10:33:22.447Z"
   },
   {
    "duration": 8,
    "start_time": "2022-02-26T10:33:22.449Z"
   },
   {
    "duration": 2,
    "start_time": "2022-02-26T10:33:22.456Z"
   },
   {
    "duration": 1,
    "start_time": "2022-02-26T10:33:22.458Z"
   },
   {
    "duration": 1,
    "start_time": "2022-02-26T10:33:22.460Z"
   },
   {
    "duration": 0,
    "start_time": "2022-02-26T10:33:22.462Z"
   },
   {
    "duration": 0,
    "start_time": "2022-02-26T10:33:22.463Z"
   },
   {
    "duration": 274,
    "start_time": "2022-02-26T10:33:43.069Z"
   },
   {
    "duration": 233,
    "start_time": "2022-02-26T10:33:49.645Z"
   },
   {
    "duration": 22,
    "start_time": "2022-02-26T10:33:49.880Z"
   },
   {
    "duration": 141,
    "start_time": "2022-02-26T10:33:49.905Z"
   },
   {
    "duration": 144,
    "start_time": "2022-02-26T10:33:50.048Z"
   },
   {
    "duration": 18,
    "start_time": "2022-02-26T10:33:50.194Z"
   },
   {
    "duration": 80,
    "start_time": "2022-02-26T10:33:50.214Z"
   },
   {
    "duration": 62,
    "start_time": "2022-02-26T10:33:50.296Z"
   },
   {
    "duration": 11,
    "start_time": "2022-02-26T10:33:50.349Z"
   },
   {
    "duration": 9,
    "start_time": "2022-02-26T10:33:50.353Z"
   },
   {
    "duration": 8,
    "start_time": "2022-02-26T10:33:50.355Z"
   },
   {
    "duration": 5,
    "start_time": "2022-02-26T10:33:50.359Z"
   },
   {
    "duration": 4,
    "start_time": "2022-02-26T10:33:50.361Z"
   },
   {
    "duration": 4,
    "start_time": "2022-02-26T10:33:50.363Z"
   },
   {
    "duration": 4,
    "start_time": "2022-02-26T10:33:50.365Z"
   },
   {
    "duration": 3,
    "start_time": "2022-02-26T10:33:50.367Z"
   },
   {
    "duration": 3,
    "start_time": "2022-02-26T10:33:50.368Z"
   },
   {
    "duration": 3,
    "start_time": "2022-02-26T10:33:50.370Z"
   },
   {
    "duration": 151,
    "start_time": "2022-02-26T10:34:05.646Z"
   },
   {
    "duration": 35,
    "start_time": "2022-02-26T10:34:05.799Z"
   },
   {
    "duration": 101,
    "start_time": "2022-02-26T10:34:05.837Z"
   },
   {
    "duration": 193,
    "start_time": "2022-02-26T10:34:05.941Z"
   },
   {
    "duration": 27,
    "start_time": "2022-02-26T10:34:06.137Z"
   },
   {
    "duration": 111,
    "start_time": "2022-02-26T10:34:06.166Z"
   },
   {
    "duration": 59,
    "start_time": "2022-02-26T10:34:06.279Z"
   },
   {
    "duration": 14,
    "start_time": "2022-02-26T10:34:06.327Z"
   },
   {
    "duration": 13,
    "start_time": "2022-02-26T10:34:06.330Z"
   },
   {
    "duration": 12,
    "start_time": "2022-02-26T10:34:06.332Z"
   },
   {
    "duration": 9,
    "start_time": "2022-02-26T10:34:06.336Z"
   },
   {
    "duration": 9,
    "start_time": "2022-02-26T10:34:06.338Z"
   },
   {
    "duration": 8,
    "start_time": "2022-02-26T10:34:06.340Z"
   },
   {
    "duration": 7,
    "start_time": "2022-02-26T10:34:06.342Z"
   },
   {
    "duration": 7,
    "start_time": "2022-02-26T10:34:06.344Z"
   },
   {
    "duration": 6,
    "start_time": "2022-02-26T10:34:06.346Z"
   },
   {
    "duration": 6,
    "start_time": "2022-02-26T10:34:06.347Z"
   },
   {
    "duration": 5,
    "start_time": "2022-02-26T10:34:06.350Z"
   },
   {
    "duration": 119,
    "start_time": "2022-02-26T10:34:36.058Z"
   },
   {
    "duration": 18,
    "start_time": "2022-02-26T10:34:38.733Z"
   },
   {
    "duration": 28,
    "start_time": "2022-02-26T10:34:40.583Z"
   },
   {
    "duration": 12,
    "start_time": "2022-02-26T10:34:43.939Z"
   },
   {
    "duration": 48,
    "start_time": "2022-02-26T10:34:50.017Z"
   },
   {
    "duration": 19,
    "start_time": "2022-02-26T10:35:01.875Z"
   },
   {
    "duration": 31,
    "start_time": "2022-02-26T10:35:05.167Z"
   },
   {
    "duration": 195,
    "start_time": "2022-02-26T10:40:38.333Z"
   },
   {
    "duration": 76,
    "start_time": "2022-02-26T10:40:49.678Z"
   },
   {
    "duration": 4933,
    "start_time": "2022-02-26T10:41:36.339Z"
   },
   {
    "duration": 74,
    "start_time": "2022-02-26T10:42:15.535Z"
   },
   {
    "duration": 55,
    "start_time": "2022-02-26T10:42:20.243Z"
   },
   {
    "duration": 28,
    "start_time": "2022-02-26T10:42:24.071Z"
   },
   {
    "duration": 4600,
    "start_time": "2022-02-26T10:43:13.846Z"
   },
   {
    "duration": -26,
    "start_time": "2022-02-26T10:43:18.474Z"
   },
   {
    "duration": 48,
    "start_time": "2022-02-26T10:43:39.605Z"
   },
   {
    "duration": 26,
    "start_time": "2022-02-26T10:44:43.143Z"
   },
   {
    "duration": 30,
    "start_time": "2022-02-26T10:45:15.921Z"
   },
   {
    "duration": 302,
    "start_time": "2022-02-27T05:41:17.269Z"
   },
   {
    "duration": 680,
    "start_time": "2022-02-27T05:41:43.905Z"
   },
   {
    "duration": 1586,
    "start_time": "2022-02-27T05:41:46.739Z"
   },
   {
    "duration": 62,
    "start_time": "2022-02-27T05:41:50.236Z"
   },
   {
    "duration": 200,
    "start_time": "2022-02-27T05:41:55.710Z"
   },
   {
    "duration": 71,
    "start_time": "2022-02-27T05:41:55.913Z"
   },
   {
    "duration": 184,
    "start_time": "2022-02-27T05:41:55.988Z"
   },
   {
    "duration": 162,
    "start_time": "2022-02-27T05:41:56.183Z"
   },
   {
    "duration": 55,
    "start_time": "2022-02-27T05:41:56.347Z"
   },
   {
    "duration": 153,
    "start_time": "2022-02-27T05:41:56.404Z"
   },
   {
    "duration": 114,
    "start_time": "2022-02-27T05:41:56.559Z"
   },
   {
    "duration": 19,
    "start_time": "2022-02-27T05:41:56.683Z"
   },
   {
    "duration": 30,
    "start_time": "2022-02-27T05:41:56.706Z"
   },
   {
    "duration": 16,
    "start_time": "2022-02-27T05:41:56.739Z"
   },
   {
    "duration": 229,
    "start_time": "2022-02-27T05:41:56.758Z"
   },
   {
    "duration": -11,
    "start_time": "2022-02-27T05:41:57.001Z"
   },
   {
    "duration": -12,
    "start_time": "2022-02-27T05:41:57.003Z"
   },
   {
    "duration": -24,
    "start_time": "2022-02-27T05:41:57.017Z"
   },
   {
    "duration": -25,
    "start_time": "2022-02-27T05:41:57.019Z"
   },
   {
    "duration": -24,
    "start_time": "2022-02-27T05:41:57.020Z"
   },
   {
    "duration": -25,
    "start_time": "2022-02-27T05:41:57.022Z"
   },
   {
    "duration": -26,
    "start_time": "2022-02-27T05:41:57.024Z"
   },
   {
    "duration": -24,
    "start_time": "2022-02-27T05:41:57.025Z"
   },
   {
    "duration": 276,
    "start_time": "2022-02-27T05:42:31.767Z"
   },
   {
    "duration": 186,
    "start_time": "2022-02-27T05:42:36.914Z"
   },
   {
    "duration": 63,
    "start_time": "2022-02-27T05:42:39.878Z"
   },
   {
    "duration": 180,
    "start_time": "2022-02-27T05:42:42.969Z"
   },
   {
    "duration": 173,
    "start_time": "2022-02-27T05:42:45.791Z"
   },
   {
    "duration": 184,
    "start_time": "2022-02-27T05:43:01.939Z"
   },
   {
    "duration": 76,
    "start_time": "2022-02-27T05:43:04.619Z"
   },
   {
    "duration": 115,
    "start_time": "2022-02-27T05:43:10.578Z"
   },
   {
    "duration": 93,
    "start_time": "2022-02-27T05:43:13.328Z"
   },
   {
    "duration": 40,
    "start_time": "2022-02-27T05:43:16.673Z"
   },
   {
    "duration": 257,
    "start_time": "2022-02-27T05:43:20.394Z"
   },
   {
    "duration": 213,
    "start_time": "2022-02-27T05:43:44.670Z"
   },
   {
    "duration": 44,
    "start_time": "2022-02-27T05:43:51.580Z"
   },
   {
    "duration": 50,
    "start_time": "2022-02-27T05:44:13.843Z"
   },
   {
    "duration": 48,
    "start_time": "2022-02-27T05:44:29.440Z"
   },
   {
    "duration": 5423,
    "start_time": "2022-02-27T05:45:36.678Z"
   },
   {
    "duration": 22,
    "start_time": "2022-02-27T05:46:08.672Z"
   },
   {
    "duration": 26,
    "start_time": "2022-02-27T05:46:43.398Z"
   },
   {
    "duration": 23,
    "start_time": "2022-02-27T05:46:52.698Z"
   },
   {
    "duration": 27,
    "start_time": "2022-02-27T05:50:23.854Z"
   },
   {
    "duration": 15,
    "start_time": "2022-02-27T05:53:07.717Z"
   },
   {
    "duration": 16,
    "start_time": "2022-02-27T05:53:38.796Z"
   },
   {
    "duration": 13,
    "start_time": "2022-02-27T05:55:42.235Z"
   },
   {
    "duration": 17,
    "start_time": "2022-02-27T05:56:57.026Z"
   },
   {
    "duration": 22,
    "start_time": "2022-02-27T05:57:08.490Z"
   },
   {
    "duration": 19,
    "start_time": "2022-02-27T05:57:35.642Z"
   },
   {
    "duration": 29,
    "start_time": "2022-02-27T05:57:44.211Z"
   },
   {
    "duration": 25,
    "start_time": "2022-02-27T06:26:16.460Z"
   },
   {
    "duration": 22,
    "start_time": "2022-02-27T06:26:27.953Z"
   },
   {
    "duration": 296,
    "start_time": "2022-02-27T06:30:31.587Z"
   },
   {
    "duration": 12,
    "start_time": "2022-02-27T06:30:40.616Z"
   },
   {
    "duration": 227,
    "start_time": "2022-02-27T06:30:51.262Z"
   },
   {
    "duration": 8,
    "start_time": "2022-02-27T06:30:59.305Z"
   },
   {
    "duration": 28,
    "start_time": "2022-02-27T06:32:42.587Z"
   },
   {
    "duration": 42,
    "start_time": "2022-02-27T06:32:59.331Z"
   },
   {
    "duration": 27,
    "start_time": "2022-02-27T06:33:31.543Z"
   },
   {
    "duration": 27,
    "start_time": "2022-02-27T06:33:36.186Z"
   },
   {
    "duration": 31,
    "start_time": "2022-02-27T06:33:42.473Z"
   },
   {
    "duration": 28,
    "start_time": "2022-02-27T06:33:52.668Z"
   },
   {
    "duration": 21,
    "start_time": "2022-02-27T06:34:22.660Z"
   },
   {
    "duration": 22,
    "start_time": "2022-02-27T06:34:39.433Z"
   },
   {
    "duration": 13,
    "start_time": "2022-02-27T06:35:04.113Z"
   },
   {
    "duration": 12,
    "start_time": "2022-02-27T06:35:09.953Z"
   },
   {
    "duration": 35,
    "start_time": "2022-02-27T06:35:15.455Z"
   },
   {
    "duration": 21,
    "start_time": "2022-02-27T06:35:44.052Z"
   },
   {
    "duration": 131,
    "start_time": "2022-02-27T06:36:19.484Z"
   },
   {
    "duration": 87,
    "start_time": "2022-02-27T06:36:25.655Z"
   },
   {
    "duration": 96,
    "start_time": "2022-02-27T06:36:30.344Z"
   },
   {
    "duration": 72,
    "start_time": "2022-02-27T06:36:38.612Z"
   },
   {
    "duration": 29,
    "start_time": "2022-02-27T06:37:13.713Z"
   },
   {
    "duration": 22,
    "start_time": "2022-02-27T06:37:26.527Z"
   },
   {
    "duration": 15,
    "start_time": "2022-02-27T06:37:35.148Z"
   },
   {
    "duration": 23,
    "start_time": "2022-02-27T06:37:46.164Z"
   },
   {
    "duration": 219,
    "start_time": "2022-02-27T06:38:01.136Z"
   },
   {
    "duration": 883,
    "start_time": "2022-02-27T06:38:09.082Z"
   },
   {
    "duration": 215,
    "start_time": "2022-02-27T06:38:19.072Z"
   },
   {
    "duration": 600,
    "start_time": "2022-02-27T06:38:32.645Z"
   },
   {
    "duration": 17,
    "start_time": "2022-02-27T06:41:13.521Z"
   },
   {
    "duration": 9,
    "start_time": "2022-02-27T06:41:13.659Z"
   },
   {
    "duration": 8,
    "start_time": "2022-02-27T06:41:16.403Z"
   },
   {
    "duration": 9,
    "start_time": "2022-02-27T06:41:26.335Z"
   },
   {
    "duration": 14,
    "start_time": "2022-02-27T06:42:24.040Z"
   },
   {
    "duration": 236,
    "start_time": "2022-02-27T06:43:01.048Z"
   },
   {
    "duration": 224,
    "start_time": "2022-02-27T06:43:04.281Z"
   },
   {
    "duration": 9,
    "start_time": "2022-02-27T06:43:11.468Z"
   },
   {
    "duration": 9,
    "start_time": "2022-02-27T06:43:21.193Z"
   },
   {
    "duration": 6,
    "start_time": "2022-02-27T06:43:25.426Z"
   },
   {
    "duration": 9,
    "start_time": "2022-02-27T06:43:27.582Z"
   },
   {
    "duration": 12,
    "start_time": "2022-02-27T06:43:31.265Z"
   },
   {
    "duration": 252,
    "start_time": "2022-02-27T06:44:26.828Z"
   },
   {
    "duration": 6,
    "start_time": "2022-02-27T06:44:31.267Z"
   },
   {
    "duration": 9,
    "start_time": "2022-02-27T06:44:33.144Z"
   },
   {
    "duration": 17,
    "start_time": "2022-02-27T06:44:35.828Z"
   },
   {
    "duration": 270,
    "start_time": "2022-02-27T06:47:26.004Z"
   },
   {
    "duration": 14,
    "start_time": "2022-02-27T06:48:36.279Z"
   },
   {
    "duration": 17,
    "start_time": "2022-02-27T06:48:43.652Z"
   },
   {
    "duration": 31,
    "start_time": "2022-02-27T06:48:52.813Z"
   },
   {
    "duration": 58,
    "start_time": "2022-02-27T06:49:00.318Z"
   },
   {
    "duration": 79,
    "start_time": "2022-02-27T06:51:25.288Z"
   },
   {
    "duration": 207,
    "start_time": "2022-02-27T06:51:32.198Z"
   },
   {
    "duration": 260,
    "start_time": "2022-02-27T06:52:03.676Z"
   },
   {
    "duration": 17,
    "start_time": "2022-02-27T06:53:01.026Z"
   },
   {
    "duration": 52,
    "start_time": "2022-02-27T06:53:03.583Z"
   },
   {
    "duration": 17,
    "start_time": "2022-02-27T06:53:14.236Z"
   },
   {
    "duration": 53,
    "start_time": "2022-02-27T06:53:16.560Z"
   },
   {
    "duration": 16,
    "start_time": "2022-02-27T06:54:06.712Z"
   },
   {
    "duration": 14,
    "start_time": "2022-02-27T06:54:24.192Z"
   },
   {
    "duration": 223,
    "start_time": "2022-02-27T06:54:36.467Z"
   },
   {
    "duration": 206,
    "start_time": "2022-02-27T06:54:40.278Z"
   },
   {
    "duration": 24,
    "start_time": "2022-02-27T06:54:50.539Z"
   },
   {
    "duration": 23,
    "start_time": "2022-02-27T06:54:57.032Z"
   },
   {
    "duration": 22,
    "start_time": "2022-02-27T06:55:02.780Z"
   },
   {
    "duration": 6,
    "start_time": "2022-02-27T06:55:05.598Z"
   },
   {
    "duration": 9,
    "start_time": "2022-02-27T06:55:08.620Z"
   },
   {
    "duration": 20,
    "start_time": "2022-02-27T06:55:16.387Z"
   },
   {
    "duration": 21,
    "start_time": "2022-02-27T06:55:37.111Z"
   },
   {
    "duration": 24,
    "start_time": "2022-02-27T06:55:40.472Z"
   },
   {
    "duration": 10,
    "start_time": "2022-02-27T06:55:43.202Z"
   },
   {
    "duration": 219,
    "start_time": "2022-02-27T06:55:46.526Z"
   },
   {
    "duration": 243,
    "start_time": "2022-02-27T06:59:13.184Z"
   },
   {
    "duration": 16,
    "start_time": "2022-02-27T06:59:27.747Z"
   },
   {
    "duration": 6444,
    "start_time": "2022-02-27T07:06:04.937Z"
   },
   {
    "duration": 9,
    "start_time": "2022-02-27T07:06:28.951Z"
   },
   {
    "duration": 26,
    "start_time": "2022-02-27T07:06:38.842Z"
   },
   {
    "duration": 215,
    "start_time": "2022-02-27T07:06:59.545Z"
   },
   {
    "duration": 228,
    "start_time": "2022-02-27T07:07:24.067Z"
   },
   {
    "duration": 706,
    "start_time": "2022-02-27T07:07:42.014Z"
   },
   {
    "duration": 274,
    "start_time": "2022-02-27T07:08:02.581Z"
   },
   {
    "duration": 9,
    "start_time": "2022-02-27T07:08:07.106Z"
   },
   {
    "duration": 9,
    "start_time": "2022-02-27T07:09:16.644Z"
   },
   {
    "duration": 41,
    "start_time": "2022-02-27T07:09:23.252Z"
   },
   {
    "duration": 274,
    "start_time": "2022-02-27T07:09:31.117Z"
   },
   {
    "duration": 214,
    "start_time": "2022-02-27T07:09:37.451Z"
   },
   {
    "duration": 249,
    "start_time": "2022-02-27T07:10:05.074Z"
   },
   {
    "duration": 59,
    "start_time": "2022-02-27T07:10:12.421Z"
   },
   {
    "duration": 236,
    "start_time": "2022-02-27T07:11:40.038Z"
   },
   {
    "duration": 219,
    "start_time": "2022-02-27T07:11:42.937Z"
   },
   {
    "duration": 213,
    "start_time": "2022-02-27T07:12:26.603Z"
   },
   {
    "duration": 222,
    "start_time": "2022-02-27T07:12:35.836Z"
   },
   {
    "duration": 227,
    "start_time": "2022-02-27T07:12:41.987Z"
   },
   {
    "duration": 942,
    "start_time": "2022-02-27T07:12:53.031Z"
   },
   {
    "duration": 27,
    "start_time": "2022-02-27T07:12:53.984Z"
   },
   {
    "duration": 155,
    "start_time": "2022-02-27T07:12:54.015Z"
   },
   {
    "duration": 164,
    "start_time": "2022-02-27T07:12:54.173Z"
   },
   {
    "duration": 22,
    "start_time": "2022-02-27T07:12:54.339Z"
   },
   {
    "duration": 122,
    "start_time": "2022-02-27T07:12:54.364Z"
   },
   {
    "duration": 122,
    "start_time": "2022-02-27T07:12:54.490Z"
   },
   {
    "duration": 21,
    "start_time": "2022-02-27T07:12:54.618Z"
   },
   {
    "duration": 39,
    "start_time": "2022-02-27T07:12:54.643Z"
   },
   {
    "duration": 15,
    "start_time": "2022-02-27T07:12:54.686Z"
   },
   {
    "duration": 151,
    "start_time": "2022-02-27T07:12:54.704Z"
   },
   {
    "duration": 110,
    "start_time": "2022-02-27T07:12:54.858Z"
   },
   {
    "duration": 89,
    "start_time": "2022-02-27T07:12:54.970Z"
   },
   {
    "duration": 55,
    "start_time": "2022-02-27T07:12:55.062Z"
   },
   {
    "duration": 68,
    "start_time": "2022-02-27T07:12:55.120Z"
   },
   {
    "duration": 47,
    "start_time": "2022-02-27T07:12:55.143Z"
   },
   {
    "duration": 45,
    "start_time": "2022-02-27T07:12:55.147Z"
   },
   {
    "duration": 44,
    "start_time": "2022-02-27T07:12:55.150Z"
   },
   {
    "duration": 41,
    "start_time": "2022-02-27T07:12:55.154Z"
   },
   {
    "duration": 40,
    "start_time": "2022-02-27T07:12:55.157Z"
   },
   {
    "duration": 38,
    "start_time": "2022-02-27T07:12:55.160Z"
   },
   {
    "duration": 38,
    "start_time": "2022-02-27T07:12:55.162Z"
   },
   {
    "duration": 37,
    "start_time": "2022-02-27T07:12:55.165Z"
   },
   {
    "duration": 29,
    "start_time": "2022-02-27T07:12:55.174Z"
   },
   {
    "duration": 28,
    "start_time": "2022-02-27T07:12:55.177Z"
   },
   {
    "duration": 205,
    "start_time": "2022-02-27T07:13:17.602Z"
   },
   {
    "duration": 26,
    "start_time": "2022-02-27T07:13:17.809Z"
   },
   {
    "duration": 157,
    "start_time": "2022-02-27T07:13:17.838Z"
   },
   {
    "duration": 190,
    "start_time": "2022-02-27T07:13:17.998Z"
   },
   {
    "duration": 22,
    "start_time": "2022-02-27T07:13:18.191Z"
   },
   {
    "duration": 156,
    "start_time": "2022-02-27T07:13:18.215Z"
   },
   {
    "duration": 129,
    "start_time": "2022-02-27T07:13:18.374Z"
   },
   {
    "duration": 22,
    "start_time": "2022-02-27T07:13:18.505Z"
   },
   {
    "duration": 31,
    "start_time": "2022-02-27T07:13:18.531Z"
   },
   {
    "duration": 33,
    "start_time": "2022-02-27T07:13:18.565Z"
   },
   {
    "duration": 154,
    "start_time": "2022-02-27T07:13:18.601Z"
   },
   {
    "duration": 115,
    "start_time": "2022-02-27T07:13:18.757Z"
   },
   {
    "duration": 100,
    "start_time": "2022-02-27T07:13:18.883Z"
   },
   {
    "duration": 41,
    "start_time": "2022-02-27T07:13:18.985Z"
   },
   {
    "duration": 100,
    "start_time": "2022-02-27T07:13:19.028Z"
   },
   {
    "duration": 39,
    "start_time": "2022-02-27T07:13:19.092Z"
   },
   {
    "duration": 37,
    "start_time": "2022-02-27T07:13:19.095Z"
   },
   {
    "duration": 37,
    "start_time": "2022-02-27T07:13:19.097Z"
   },
   {
    "duration": 34,
    "start_time": "2022-02-27T07:13:19.102Z"
   },
   {
    "duration": 33,
    "start_time": "2022-02-27T07:13:19.104Z"
   },
   {
    "duration": 30,
    "start_time": "2022-02-27T07:13:19.108Z"
   },
   {
    "duration": 25,
    "start_time": "2022-02-27T07:13:19.114Z"
   },
   {
    "duration": 25,
    "start_time": "2022-02-27T07:13:19.116Z"
   },
   {
    "duration": 23,
    "start_time": "2022-02-27T07:13:19.119Z"
   },
   {
    "duration": 23,
    "start_time": "2022-02-27T07:13:19.121Z"
   },
   {
    "duration": 30,
    "start_time": "2022-02-27T07:13:37.480Z"
   },
   {
    "duration": 21,
    "start_time": "2022-02-27T07:13:40.857Z"
   },
   {
    "duration": 22,
    "start_time": "2022-02-27T07:13:43.712Z"
   },
   {
    "duration": 15,
    "start_time": "2022-02-27T07:13:48.413Z"
   },
   {
    "duration": 16,
    "start_time": "2022-02-27T07:13:50.341Z"
   },
   {
    "duration": 15,
    "start_time": "2022-02-27T07:13:54.578Z"
   },
   {
    "duration": 38,
    "start_time": "2022-02-27T07:13:59.690Z"
   },
   {
    "duration": 22,
    "start_time": "2022-02-27T07:14:20.779Z"
   },
   {
    "duration": 6,
    "start_time": "2022-02-27T07:14:24.651Z"
   },
   {
    "duration": 8,
    "start_time": "2022-02-27T07:15:42.949Z"
   },
   {
    "duration": 16,
    "start_time": "2022-02-27T07:15:45.083Z"
   },
   {
    "duration": 15,
    "start_time": "2022-02-27T07:15:48.445Z"
   },
   {
    "duration": 39,
    "start_time": "2022-02-27T07:15:52.109Z"
   },
   {
    "duration": 80,
    "start_time": "2022-02-27T07:19:34.385Z"
   },
   {
    "duration": 7,
    "start_time": "2022-02-27T07:19:40.673Z"
   },
   {
    "duration": 20,
    "start_time": "2022-02-27T07:19:51.030Z"
   },
   {
    "duration": 56,
    "start_time": "2022-02-27T07:19:58.640Z"
   },
   {
    "duration": 24,
    "start_time": "2022-02-27T07:20:14.396Z"
   },
   {
    "duration": 22,
    "start_time": "2022-02-27T07:20:17.012Z"
   },
   {
    "duration": 20,
    "start_time": "2022-02-27T07:21:25.389Z"
   },
   {
    "duration": 40,
    "start_time": "2022-02-27T07:21:28.229Z"
   },
   {
    "duration": 318,
    "start_time": "2022-02-27T07:22:06.516Z"
   },
   {
    "duration": 211,
    "start_time": "2022-02-27T07:22:20.199Z"
   },
   {
    "duration": 228,
    "start_time": "2022-02-27T07:22:37.059Z"
   },
   {
    "duration": 1017,
    "start_time": "2022-02-27T07:22:52.071Z"
   },
   {
    "duration": 26,
    "start_time": "2022-02-27T07:22:53.090Z"
   },
   {
    "duration": 149,
    "start_time": "2022-02-27T07:22:53.119Z"
   },
   {
    "duration": 159,
    "start_time": "2022-02-27T07:22:53.271Z"
   },
   {
    "duration": 22,
    "start_time": "2022-02-27T07:22:53.433Z"
   },
   {
    "duration": 131,
    "start_time": "2022-02-27T07:22:53.457Z"
   },
   {
    "duration": 112,
    "start_time": "2022-02-27T07:22:53.591Z"
   },
   {
    "duration": 20,
    "start_time": "2022-02-27T07:22:53.708Z"
   },
   {
    "duration": 32,
    "start_time": "2022-02-27T07:22:53.731Z"
   },
   {
    "duration": 25,
    "start_time": "2022-02-27T07:22:53.766Z"
   },
   {
    "duration": 141,
    "start_time": "2022-02-27T07:22:53.793Z"
   },
   {
    "duration": 155,
    "start_time": "2022-02-27T07:22:53.938Z"
   },
   {
    "duration": 116,
    "start_time": "2022-02-27T07:22:54.096Z"
   },
   {
    "duration": 71,
    "start_time": "2022-02-27T07:22:54.215Z"
   },
   {
    "duration": 102,
    "start_time": "2022-02-27T07:22:54.289Z"
   },
   {
    "duration": 39,
    "start_time": "2022-02-27T07:22:54.356Z"
   },
   {
    "duration": 38,
    "start_time": "2022-02-27T07:22:54.359Z"
   },
   {
    "duration": 37,
    "start_time": "2022-02-27T07:22:54.361Z"
   },
   {
    "duration": 37,
    "start_time": "2022-02-27T07:22:54.363Z"
   },
   {
    "duration": 37,
    "start_time": "2022-02-27T07:22:54.365Z"
   },
   {
    "duration": 29,
    "start_time": "2022-02-27T07:22:54.375Z"
   },
   {
    "duration": 28,
    "start_time": "2022-02-27T07:22:54.378Z"
   },
   {
    "duration": 27,
    "start_time": "2022-02-27T07:22:54.381Z"
   },
   {
    "duration": 27,
    "start_time": "2022-02-27T07:22:54.383Z"
   },
   {
    "duration": 27,
    "start_time": "2022-02-27T07:22:54.385Z"
   },
   {
    "duration": 24,
    "start_time": "2022-02-27T07:22:54.390Z"
   },
   {
    "duration": 21,
    "start_time": "2022-02-27T07:22:54.394Z"
   },
   {
    "duration": 13,
    "start_time": "2022-02-27T07:22:54.404Z"
   },
   {
    "duration": 12,
    "start_time": "2022-02-27T07:22:54.407Z"
   },
   {
    "duration": 206,
    "start_time": "2022-02-27T07:23:20.235Z"
   },
   {
    "duration": 26,
    "start_time": "2022-02-27T07:23:20.444Z"
   },
   {
    "duration": 137,
    "start_time": "2022-02-27T07:23:20.484Z"
   },
   {
    "duration": 170,
    "start_time": "2022-02-27T07:23:20.624Z"
   },
   {
    "duration": 21,
    "start_time": "2022-02-27T07:23:20.797Z"
   },
   {
    "duration": 128,
    "start_time": "2022-02-27T07:23:20.821Z"
   },
   {
    "duration": 118,
    "start_time": "2022-02-27T07:23:20.952Z"
   },
   {
    "duration": 21,
    "start_time": "2022-02-27T07:23:21.073Z"
   },
   {
    "duration": 27,
    "start_time": "2022-02-27T07:23:21.098Z"
   },
   {
    "duration": 15,
    "start_time": "2022-02-27T07:23:21.128Z"
   },
   {
    "duration": 159,
    "start_time": "2022-02-27T07:23:21.145Z"
   },
   {
    "duration": 112,
    "start_time": "2022-02-27T07:23:21.307Z"
   },
   {
    "duration": 98,
    "start_time": "2022-02-27T07:23:21.421Z"
   },
   {
    "duration": 64,
    "start_time": "2022-02-27T07:23:21.522Z"
   },
   {
    "duration": 74,
    "start_time": "2022-02-27T07:23:21.588Z"
   },
   {
    "duration": 49,
    "start_time": "2022-02-27T07:23:21.616Z"
   },
   {
    "duration": 48,
    "start_time": "2022-02-27T07:23:21.618Z"
   },
   {
    "duration": 48,
    "start_time": "2022-02-27T07:23:21.620Z"
   },
   {
    "duration": 38,
    "start_time": "2022-02-27T07:23:21.631Z"
   },
   {
    "duration": 36,
    "start_time": "2022-02-27T07:23:21.634Z"
   },
   {
    "duration": 36,
    "start_time": "2022-02-27T07:23:21.636Z"
   },
   {
    "duration": 34,
    "start_time": "2022-02-27T07:23:21.639Z"
   },
   {
    "duration": 33,
    "start_time": "2022-02-27T07:23:21.642Z"
   },
   {
    "duration": 32,
    "start_time": "2022-02-27T07:23:21.645Z"
   },
   {
    "duration": 30,
    "start_time": "2022-02-27T07:23:21.648Z"
   },
   {
    "duration": 29,
    "start_time": "2022-02-27T07:23:21.650Z"
   },
   {
    "duration": 22,
    "start_time": "2022-02-27T07:23:21.658Z"
   },
   {
    "duration": 20,
    "start_time": "2022-02-27T07:23:21.662Z"
   },
   {
    "duration": 18,
    "start_time": "2022-02-27T07:23:21.665Z"
   },
   {
    "duration": 27,
    "start_time": "2022-02-27T07:24:01.007Z"
   },
   {
    "duration": 469,
    "start_time": "2022-02-27T07:24:03.351Z"
   },
   {
    "duration": 220,
    "start_time": "2022-02-27T07:24:06.535Z"
   },
   {
    "duration": 30,
    "start_time": "2022-02-27T07:24:10.518Z"
   },
   {
    "duration": 72,
    "start_time": "2022-02-27T07:24:15.785Z"
   },
   {
    "duration": 30,
    "start_time": "2022-02-27T07:24:20.968Z"
   },
   {
    "duration": 23,
    "start_time": "2022-02-27T07:24:23.995Z"
   },
   {
    "duration": 23,
    "start_time": "2022-02-27T07:24:26.963Z"
   },
   {
    "duration": 15,
    "start_time": "2022-02-27T07:24:29.656Z"
   },
   {
    "duration": 15,
    "start_time": "2022-02-27T07:24:32.175Z"
   },
   {
    "duration": 9,
    "start_time": "2022-02-27T07:24:34.808Z"
   },
   {
    "duration": 15,
    "start_time": "2022-02-27T07:24:37.083Z"
   },
   {
    "duration": 9,
    "start_time": "2022-02-27T07:24:39.470Z"
   },
   {
    "duration": 28,
    "start_time": "2022-02-27T07:24:41.739Z"
   },
   {
    "duration": 7,
    "start_time": "2022-02-27T07:24:47.570Z"
   },
   {
    "duration": 5,
    "start_time": "2022-02-27T07:24:49.896Z"
   },
   {
    "duration": 226,
    "start_time": "2022-02-27T07:25:05.496Z"
   },
   {
    "duration": 1062,
    "start_time": "2022-02-27T07:25:17.752Z"
   },
   {
    "duration": 27,
    "start_time": "2022-02-27T07:25:18.818Z"
   },
   {
    "duration": 166,
    "start_time": "2022-02-27T07:25:18.849Z"
   },
   {
    "duration": 179,
    "start_time": "2022-02-27T07:25:19.019Z"
   },
   {
    "duration": 22,
    "start_time": "2022-02-27T07:25:19.201Z"
   },
   {
    "duration": 159,
    "start_time": "2022-02-27T07:25:19.225Z"
   },
   {
    "duration": 128,
    "start_time": "2022-02-27T07:25:19.386Z"
   },
   {
    "duration": 21,
    "start_time": "2022-02-27T07:25:19.516Z"
   },
   {
    "duration": 34,
    "start_time": "2022-02-27T07:25:19.541Z"
   },
   {
    "duration": 16,
    "start_time": "2022-02-27T07:25:19.583Z"
   },
   {
    "duration": 153,
    "start_time": "2022-02-27T07:25:19.601Z"
   },
   {
    "duration": 112,
    "start_time": "2022-02-27T07:25:19.756Z"
   },
   {
    "duration": 88,
    "start_time": "2022-02-27T07:25:19.870Z"
   },
   {
    "duration": 57,
    "start_time": "2022-02-27T07:25:19.961Z"
   },
   {
    "duration": 63,
    "start_time": "2022-02-27T07:25:20.021Z"
   },
   {
    "duration": 126,
    "start_time": "2022-02-27T07:25:20.087Z"
   },
   {
    "duration": 29,
    "start_time": "2022-02-27T07:25:20.187Z"
   },
   {
    "duration": 28,
    "start_time": "2022-02-27T07:25:20.191Z"
   },
   {
    "duration": 26,
    "start_time": "2022-02-27T07:25:20.195Z"
   },
   {
    "duration": 25,
    "start_time": "2022-02-27T07:25:20.197Z"
   },
   {
    "duration": 24,
    "start_time": "2022-02-27T07:25:20.199Z"
   },
   {
    "duration": 24,
    "start_time": "2022-02-27T07:25:20.201Z"
   },
   {
    "duration": 23,
    "start_time": "2022-02-27T07:25:20.203Z"
   },
   {
    "duration": 20,
    "start_time": "2022-02-27T07:25:20.207Z"
   },
   {
    "duration": 18,
    "start_time": "2022-02-27T07:25:20.210Z"
   },
   {
    "duration": 17,
    "start_time": "2022-02-27T07:25:20.212Z"
   },
   {
    "duration": 9,
    "start_time": "2022-02-27T07:25:20.221Z"
   },
   {
    "duration": 240,
    "start_time": "2022-02-27T07:25:28.781Z"
   },
   {
    "duration": 27,
    "start_time": "2022-02-27T07:25:29.024Z"
   },
   {
    "duration": 150,
    "start_time": "2022-02-27T07:25:29.054Z"
   },
   {
    "duration": 164,
    "start_time": "2022-02-27T07:25:29.207Z"
   },
   {
    "duration": 25,
    "start_time": "2022-02-27T07:25:29.374Z"
   },
   {
    "duration": 119,
    "start_time": "2022-02-27T07:25:29.401Z"
   },
   {
    "duration": 117,
    "start_time": "2022-02-27T07:25:29.523Z"
   },
   {
    "duration": 23,
    "start_time": "2022-02-27T07:25:29.643Z"
   },
   {
    "duration": 31,
    "start_time": "2022-02-27T07:25:29.685Z"
   },
   {
    "duration": 15,
    "start_time": "2022-02-27T07:25:29.720Z"
   },
   {
    "duration": 151,
    "start_time": "2022-02-27T07:25:29.737Z"
   },
   {
    "duration": 110,
    "start_time": "2022-02-27T07:25:29.891Z"
   },
   {
    "duration": 100,
    "start_time": "2022-02-27T07:25:30.003Z"
   },
   {
    "duration": 39,
    "start_time": "2022-02-27T07:25:30.106Z"
   },
   {
    "duration": 58,
    "start_time": "2022-02-27T07:25:30.148Z"
   },
   {
    "duration": 96,
    "start_time": "2022-02-27T07:25:30.209Z"
   },
   {
    "duration": 23,
    "start_time": "2022-02-27T07:25:30.284Z"
   },
   {
    "duration": 16,
    "start_time": "2022-02-27T07:25:30.293Z"
   },
   {
    "duration": 14,
    "start_time": "2022-02-27T07:25:30.297Z"
   },
   {
    "duration": 11,
    "start_time": "2022-02-27T07:25:30.302Z"
   },
   {
    "duration": 10,
    "start_time": "2022-02-27T07:25:30.304Z"
   },
   {
    "duration": 10,
    "start_time": "2022-02-27T07:25:30.306Z"
   },
   {
    "duration": 11,
    "start_time": "2022-02-27T07:25:30.307Z"
   },
   {
    "duration": 11,
    "start_time": "2022-02-27T07:25:30.309Z"
   },
   {
    "duration": 9,
    "start_time": "2022-02-27T07:25:30.312Z"
   },
   {
    "duration": 9,
    "start_time": "2022-02-27T07:25:30.314Z"
   },
   {
    "duration": 7,
    "start_time": "2022-02-27T07:25:30.317Z"
   },
   {
    "duration": 333,
    "start_time": "2022-03-11T13:29:49.449Z"
   },
   {
    "duration": 327,
    "start_time": "2022-03-11T13:29:55.749Z"
   },
   {
    "duration": 876,
    "start_time": "2022-03-11T13:29:59.982Z"
   },
   {
    "duration": 21,
    "start_time": "2022-03-11T13:30:00.860Z"
   },
   {
    "duration": 136,
    "start_time": "2022-03-11T13:30:00.884Z"
   },
   {
    "duration": 141,
    "start_time": "2022-03-11T13:30:01.023Z"
   },
   {
    "duration": 17,
    "start_time": "2022-03-11T13:30:01.166Z"
   },
   {
    "duration": 87,
    "start_time": "2022-03-11T13:30:01.185Z"
   },
   {
    "duration": 88,
    "start_time": "2022-03-11T13:30:01.274Z"
   },
   {
    "duration": 171,
    "start_time": "2022-03-11T13:30:01.363Z"
   },
   {
    "duration": 68,
    "start_time": "2022-03-11T13:30:01.536Z"
   },
   {
    "duration": 12,
    "start_time": "2022-03-11T13:30:01.606Z"
   },
   {
    "duration": 101,
    "start_time": "2022-03-11T13:30:01.619Z"
   },
   {
    "duration": 82,
    "start_time": "2022-03-11T13:30:01.721Z"
   },
   {
    "duration": 54,
    "start_time": "2022-03-11T13:30:01.804Z"
   },
   {
    "duration": 23,
    "start_time": "2022-03-11T13:30:01.860Z"
   },
   {
    "duration": 22,
    "start_time": "2022-03-11T13:30:01.901Z"
   },
   {
    "duration": 13,
    "start_time": "2022-03-11T13:30:01.924Z"
   },
   {
    "duration": 99,
    "start_time": "2022-03-11T13:30:01.939Z"
   },
   {
    "duration": 529,
    "start_time": "2022-03-11T13:30:01.510Z"
   },
   {
    "duration": 527,
    "start_time": "2022-03-11T13:30:01.513Z"
   },
   {
    "duration": 525,
    "start_time": "2022-03-11T13:30:01.516Z"
   },
   {
    "duration": 524,
    "start_time": "2022-03-11T13:30:01.518Z"
   },
   {
    "duration": 522,
    "start_time": "2022-03-11T13:30:01.521Z"
   },
   {
    "duration": 521,
    "start_time": "2022-03-11T13:30:01.523Z"
   },
   {
    "duration": 519,
    "start_time": "2022-03-11T13:30:01.526Z"
   },
   {
    "duration": 515,
    "start_time": "2022-03-11T13:30:01.531Z"
   },
   {
    "duration": 512,
    "start_time": "2022-03-11T13:30:01.534Z"
   },
   {
    "duration": 14,
    "start_time": "2022-03-11T13:30:16.262Z"
   },
   {
    "duration": 7,
    "start_time": "2022-03-11T13:30:19.436Z"
   },
   {
    "duration": 8,
    "start_time": "2022-03-11T13:30:21.061Z"
   },
   {
    "duration": 4,
    "start_time": "2022-03-11T13:30:23.029Z"
   },
   {
    "duration": 6,
    "start_time": "2022-03-11T13:30:26.406Z"
   },
   {
    "duration": 10,
    "start_time": "2022-03-11T13:30:30.200Z"
   },
   {
    "duration": 9,
    "start_time": "2022-03-11T13:30:33.902Z"
   },
   {
    "duration": 18,
    "start_time": "2022-03-11T13:30:36.524Z"
   },
   {
    "duration": 6,
    "start_time": "2022-03-11T13:30:47.561Z"
   },
   {
    "duration": 13,
    "start_time": "2022-03-11T13:30:49.506Z"
   },
   {
    "duration": 10,
    "start_time": "2022-03-11T13:35:42.480Z"
   },
   {
    "duration": 21,
    "start_time": "2022-03-11T13:35:44.920Z"
   },
   {
    "duration": 16,
    "start_time": "2022-03-11T13:36:03.160Z"
   },
   {
    "duration": 21,
    "start_time": "2022-03-11T13:36:05.280Z"
   },
   {
    "duration": 6,
    "start_time": "2022-03-11T13:36:12.381Z"
   },
   {
    "duration": 21,
    "start_time": "2022-03-11T13:36:14.780Z"
   },
   {
    "duration": 20,
    "start_time": "2022-03-11T13:37:01.463Z"
   },
   {
    "duration": 358,
    "start_time": "2022-03-11T13:37:08.721Z"
   },
   {
    "duration": 137,
    "start_time": "2022-03-11T13:37:13.321Z"
   },
   {
    "duration": 17,
    "start_time": "2022-03-11T13:37:13.460Z"
   },
   {
    "duration": 97,
    "start_time": "2022-03-11T13:37:13.479Z"
   },
   {
    "duration": 128,
    "start_time": "2022-03-11T13:37:13.577Z"
   },
   {
    "duration": 16,
    "start_time": "2022-03-11T13:37:13.706Z"
   },
   {
    "duration": 56,
    "start_time": "2022-03-11T13:37:13.723Z"
   },
   {
    "duration": 86,
    "start_time": "2022-03-11T13:37:13.781Z"
   },
   {
    "duration": 20,
    "start_time": "2022-03-11T13:37:13.869Z"
   },
   {
    "duration": 45,
    "start_time": "2022-03-11T13:37:13.891Z"
   },
   {
    "duration": 10,
    "start_time": "2022-03-11T13:37:13.938Z"
   },
   {
    "duration": 83,
    "start_time": "2022-03-11T13:37:13.950Z"
   },
   {
    "duration": 74,
    "start_time": "2022-03-11T13:37:14.035Z"
   },
   {
    "duration": 53,
    "start_time": "2022-03-11T13:37:14.111Z"
   },
   {
    "duration": 37,
    "start_time": "2022-03-11T13:37:14.165Z"
   },
   {
    "duration": 19,
    "start_time": "2022-03-11T13:37:14.204Z"
   },
   {
    "duration": 13,
    "start_time": "2022-03-11T13:37:14.224Z"
   },
   {
    "duration": 13,
    "start_time": "2022-03-11T13:37:14.238Z"
   },
   {
    "duration": 7,
    "start_time": "2022-03-11T13:37:14.252Z"
   },
   {
    "duration": 8,
    "start_time": "2022-03-11T13:37:14.260Z"
   },
   {
    "duration": 36,
    "start_time": "2022-03-11T13:37:14.269Z"
   },
   {
    "duration": 9,
    "start_time": "2022-03-11T13:37:14.306Z"
   },
   {
    "duration": 4,
    "start_time": "2022-03-11T13:37:14.316Z"
   },
   {
    "duration": 4,
    "start_time": "2022-03-11T13:37:14.321Z"
   },
   {
    "duration": 5,
    "start_time": "2022-03-11T13:37:14.326Z"
   },
   {
    "duration": 7,
    "start_time": "2022-03-11T13:37:14.332Z"
   },
   {
    "duration": 10,
    "start_time": "2022-03-11T13:37:26.739Z"
   },
   {
    "duration": 305,
    "start_time": "2022-03-11T13:39:37.520Z"
   },
   {
    "duration": 8,
    "start_time": "2022-03-11T13:45:06.444Z"
   },
   {
    "duration": 26,
    "start_time": "2022-03-11T13:45:23.960Z"
   },
   {
    "duration": 390,
    "start_time": "2022-03-11T13:49:19.299Z"
   },
   {
    "duration": 314,
    "start_time": "2022-03-11T13:50:14.660Z"
   },
   {
    "duration": 146,
    "start_time": "2022-03-11T13:50:21.460Z"
   },
   {
    "duration": 17,
    "start_time": "2022-03-11T13:50:21.608Z"
   },
   {
    "duration": 95,
    "start_time": "2022-03-11T13:50:21.627Z"
   },
   {
    "duration": 119,
    "start_time": "2022-03-11T13:50:21.724Z"
   },
   {
    "duration": 15,
    "start_time": "2022-03-11T13:50:21.845Z"
   },
   {
    "duration": 62,
    "start_time": "2022-03-11T13:50:21.862Z"
   },
   {
    "duration": 80,
    "start_time": "2022-03-11T13:50:21.926Z"
   },
   {
    "duration": 21,
    "start_time": "2022-03-11T13:50:22.007Z"
   },
   {
    "duration": 45,
    "start_time": "2022-03-11T13:50:22.030Z"
   },
   {
    "duration": 10,
    "start_time": "2022-03-11T13:50:22.078Z"
   },
   {
    "duration": 78,
    "start_time": "2022-03-11T13:50:22.090Z"
   },
   {
    "duration": 66,
    "start_time": "2022-03-11T13:50:22.170Z"
   },
   {
    "duration": 66,
    "start_time": "2022-03-11T13:50:22.237Z"
   },
   {
    "duration": 21,
    "start_time": "2022-03-11T13:50:22.304Z"
   },
   {
    "duration": 19,
    "start_time": "2022-03-11T13:50:22.327Z"
   },
   {
    "duration": 13,
    "start_time": "2022-03-11T13:50:22.348Z"
   },
   {
    "duration": 43,
    "start_time": "2022-03-11T13:50:22.362Z"
   },
   {
    "duration": 7,
    "start_time": "2022-03-11T13:50:22.406Z"
   },
   {
    "duration": 8,
    "start_time": "2022-03-11T13:50:22.414Z"
   },
   {
    "duration": 6,
    "start_time": "2022-03-11T13:50:22.423Z"
   },
   {
    "duration": 8,
    "start_time": "2022-03-11T13:50:22.431Z"
   },
   {
    "duration": 328,
    "start_time": "2022-03-11T13:50:22.441Z"
   },
   {
    "duration": 36,
    "start_time": "2022-03-11T13:50:22.734Z"
   },
   {
    "duration": 35,
    "start_time": "2022-03-11T13:50:22.736Z"
   },
   {
    "duration": 35,
    "start_time": "2022-03-11T13:50:22.737Z"
   },
   {
    "duration": 34,
    "start_time": "2022-03-11T13:50:22.739Z"
   },
   {
    "duration": 8,
    "start_time": "2022-03-11T13:51:19.673Z"
   },
   {
    "duration": 29,
    "start_time": "2022-03-11T13:51:42.318Z"
   },
   {
    "duration": 319,
    "start_time": "2022-03-11T13:52:35.155Z"
   },
   {
    "duration": 330,
    "start_time": "2022-03-11T13:52:54.405Z"
   },
   {
    "duration": 30,
    "start_time": "2022-03-11T13:53:06.034Z"
   },
   {
    "duration": 29,
    "start_time": "2022-03-11T13:53:17.958Z"
   },
   {
    "duration": 341,
    "start_time": "2022-03-11T13:55:58.625Z"
   },
   {
    "duration": 7600,
    "start_time": "2022-03-11T13:56:41.085Z"
   },
   {
    "duration": 305,
    "start_time": "2022-03-11T13:57:03.067Z"
   },
   {
    "duration": 34,
    "start_time": "2022-03-11T13:57:18.919Z"
   },
   {
    "duration": 11,
    "start_time": "2022-03-11T14:03:33.862Z"
   },
   {
    "duration": 9,
    "start_time": "2022-03-11T14:03:37.099Z"
   },
   {
    "duration": 9,
    "start_time": "2022-03-11T14:04:08.039Z"
   },
   {
    "duration": 10,
    "start_time": "2022-03-11T14:04:10.084Z"
   },
   {
    "duration": 11,
    "start_time": "2022-03-11T14:04:50.378Z"
   },
   {
    "duration": 12,
    "start_time": "2022-03-11T14:04:52.355Z"
   },
   {
    "duration": 316,
    "start_time": "2022-03-11T14:05:59.219Z"
   },
   {
    "duration": 8,
    "start_time": "2022-03-11T14:06:35.279Z"
   },
   {
    "duration": 18,
    "start_time": "2022-03-11T14:06:57.660Z"
   },
   {
    "duration": 787,
    "start_time": "2022-03-11T14:08:21.855Z"
   },
   {
    "duration": 18,
    "start_time": "2022-03-11T14:08:29.186Z"
   },
   {
    "duration": 9,
    "start_time": "2022-03-11T14:17:26.195Z"
   },
   {
    "duration": 302,
    "start_time": "2022-03-11T14:17:34.436Z"
   },
   {
    "duration": 340,
    "start_time": "2022-03-11T14:17:46.774Z"
   },
   {
    "duration": 148,
    "start_time": "2022-03-11T14:17:51.688Z"
   },
   {
    "duration": 18,
    "start_time": "2022-03-11T14:17:51.837Z"
   },
   {
    "duration": 104,
    "start_time": "2022-03-11T14:17:51.857Z"
   },
   {
    "duration": 118,
    "start_time": "2022-03-11T14:17:51.962Z"
   },
   {
    "duration": 20,
    "start_time": "2022-03-11T14:17:52.082Z"
   },
   {
    "duration": 55,
    "start_time": "2022-03-11T14:17:52.104Z"
   },
   {
    "duration": 86,
    "start_time": "2022-03-11T14:17:52.160Z"
   },
   {
    "duration": 21,
    "start_time": "2022-03-11T14:17:52.249Z"
   },
   {
    "duration": 36,
    "start_time": "2022-03-11T14:17:52.272Z"
   },
   {
    "duration": 10,
    "start_time": "2022-03-11T14:17:52.310Z"
   },
   {
    "duration": 97,
    "start_time": "2022-03-11T14:17:52.321Z"
   },
   {
    "duration": 96,
    "start_time": "2022-03-11T14:17:52.420Z"
   },
   {
    "duration": 53,
    "start_time": "2022-03-11T14:17:52.518Z"
   },
   {
    "duration": 38,
    "start_time": "2022-03-11T14:17:52.573Z"
   },
   {
    "duration": 19,
    "start_time": "2022-03-11T14:17:52.612Z"
   },
   {
    "duration": 14,
    "start_time": "2022-03-11T14:17:52.632Z"
   },
   {
    "duration": 13,
    "start_time": "2022-03-11T14:17:52.648Z"
   },
   {
    "duration": 38,
    "start_time": "2022-03-11T14:17:52.663Z"
   },
   {
    "duration": 7,
    "start_time": "2022-03-11T14:17:52.703Z"
   },
   {
    "duration": 326,
    "start_time": "2022-03-11T14:17:52.712Z"
   },
   {
    "duration": -95,
    "start_time": "2022-03-11T14:17:53.135Z"
   },
   {
    "duration": -96,
    "start_time": "2022-03-11T14:17:53.137Z"
   },
   {
    "duration": 8,
    "start_time": "2022-03-11T14:18:10.180Z"
   },
   {
    "duration": 10,
    "start_time": "2022-03-11T14:18:15.294Z"
   },
   {
    "duration": 9,
    "start_time": "2022-03-11T14:18:17.730Z"
   },
   {
    "duration": 10,
    "start_time": "2022-03-11T14:18:31.909Z"
   },
   {
    "duration": 9,
    "start_time": "2022-03-11T14:18:38.034Z"
   },
   {
    "duration": 11,
    "start_time": "2022-03-11T14:18:40.034Z"
   },
   {
    "duration": 16,
    "start_time": "2022-03-11T14:18:43.774Z"
   },
   {
    "duration": 16,
    "start_time": "2022-03-11T14:18:55.614Z"
   },
   {
    "duration": 18,
    "start_time": "2022-03-11T14:18:59.613Z"
   },
   {
    "duration": 20,
    "start_time": "2022-03-11T14:19:07.054Z"
   },
   {
    "duration": 3,
    "start_time": "2022-03-11T14:19:20.150Z"
   },
   {
    "duration": 21,
    "start_time": "2022-03-11T14:19:22.893Z"
   },
   {
    "duration": 17,
    "start_time": "2022-03-11T14:20:42.334Z"
   },
   {
    "duration": 19,
    "start_time": "2022-03-11T14:20:51.380Z"
   },
   {
    "duration": 18,
    "start_time": "2022-03-11T14:21:01.280Z"
   },
   {
    "duration": 19,
    "start_time": "2022-03-11T14:24:01.659Z"
   },
   {
    "duration": 16,
    "start_time": "2022-03-11T14:24:25.212Z"
   },
   {
    "duration": 16,
    "start_time": "2022-03-11T14:24:32.011Z"
   },
   {
    "duration": 17,
    "start_time": "2022-03-11T14:24:44.411Z"
   },
   {
    "duration": 17,
    "start_time": "2022-03-11T14:25:31.493Z"
   },
   {
    "duration": 146,
    "start_time": "2022-03-11T14:25:39.733Z"
   },
   {
    "duration": 34,
    "start_time": "2022-03-11T14:25:39.882Z"
   },
   {
    "duration": 91,
    "start_time": "2022-03-11T14:25:39.919Z"
   },
   {
    "duration": 120,
    "start_time": "2022-03-11T14:25:40.012Z"
   },
   {
    "duration": 17,
    "start_time": "2022-03-11T14:25:40.134Z"
   },
   {
    "duration": 73,
    "start_time": "2022-03-11T14:25:40.153Z"
   },
   {
    "duration": 83,
    "start_time": "2022-03-11T14:25:40.227Z"
   },
   {
    "duration": 21,
    "start_time": "2022-03-11T14:25:40.311Z"
   },
   {
    "duration": 49,
    "start_time": "2022-03-11T14:25:40.335Z"
   },
   {
    "duration": 14,
    "start_time": "2022-03-11T14:25:40.387Z"
   },
   {
    "duration": 83,
    "start_time": "2022-03-11T14:25:40.403Z"
   },
   {
    "duration": 72,
    "start_time": "2022-03-11T14:25:40.487Z"
   },
   {
    "duration": 69,
    "start_time": "2022-03-11T14:25:40.561Z"
   },
   {
    "duration": 23,
    "start_time": "2022-03-11T14:25:40.631Z"
   },
   {
    "duration": 33,
    "start_time": "2022-03-11T14:25:40.655Z"
   },
   {
    "duration": 18,
    "start_time": "2022-03-11T14:25:40.689Z"
   },
   {
    "duration": 13,
    "start_time": "2022-03-11T14:25:40.708Z"
   },
   {
    "duration": 16,
    "start_time": "2022-03-11T14:25:40.723Z"
   },
   {
    "duration": 18,
    "start_time": "2022-03-11T14:25:40.740Z"
   },
   {
    "duration": 17,
    "start_time": "2022-03-11T14:25:40.760Z"
   },
   {
    "duration": 11,
    "start_time": "2022-03-11T14:25:40.778Z"
   },
   {
    "duration": 12,
    "start_time": "2022-03-11T14:25:40.791Z"
   },
   {
    "duration": 443,
    "start_time": "2022-03-11T14:25:40.804Z"
   },
   {
    "duration": 320,
    "start_time": "2022-03-11T14:26:03.260Z"
   },
   {
    "duration": 306,
    "start_time": "2022-03-11T14:26:07.574Z"
   },
   {
    "duration": 797,
    "start_time": "2022-03-11T14:26:15.319Z"
   },
   {
    "duration": 21,
    "start_time": "2022-03-11T14:26:16.118Z"
   },
   {
    "duration": 112,
    "start_time": "2022-03-11T14:26:16.141Z"
   },
   {
    "duration": 117,
    "start_time": "2022-03-11T14:26:16.255Z"
   },
   {
    "duration": 15,
    "start_time": "2022-03-11T14:26:16.373Z"
   },
   {
    "duration": 67,
    "start_time": "2022-03-11T14:26:16.389Z"
   },
   {
    "duration": 83,
    "start_time": "2022-03-11T14:26:16.457Z"
   },
   {
    "duration": 21,
    "start_time": "2022-03-11T14:26:16.541Z"
   },
   {
    "duration": 34,
    "start_time": "2022-03-11T14:26:16.564Z"
   },
   {
    "duration": 10,
    "start_time": "2022-03-11T14:26:16.600Z"
   },
   {
    "duration": 90,
    "start_time": "2022-03-11T14:26:16.611Z"
   },
   {
    "duration": 62,
    "start_time": "2022-03-11T14:26:16.703Z"
   },
   {
    "duration": 68,
    "start_time": "2022-03-11T14:26:16.767Z"
   },
   {
    "duration": 22,
    "start_time": "2022-03-11T14:26:16.837Z"
   },
   {
    "duration": 20,
    "start_time": "2022-03-11T14:26:16.861Z"
   },
   {
    "duration": 30,
    "start_time": "2022-03-11T14:26:16.882Z"
   },
   {
    "duration": 13,
    "start_time": "2022-03-11T14:26:16.913Z"
   },
   {
    "duration": 9,
    "start_time": "2022-03-11T14:26:16.928Z"
   },
   {
    "duration": 8,
    "start_time": "2022-03-11T14:26:16.938Z"
   },
   {
    "duration": 10,
    "start_time": "2022-03-11T14:26:16.947Z"
   },
   {
    "duration": 8,
    "start_time": "2022-03-11T14:26:16.959Z"
   },
   {
    "duration": 45,
    "start_time": "2022-03-11T14:26:16.968Z"
   },
   {
    "duration": 382,
    "start_time": "2022-03-11T14:26:57.489Z"
   },
   {
    "duration": 318,
    "start_time": "2022-03-11T14:27:00.385Z"
   },
   {
    "duration": 738,
    "start_time": "2022-03-11T14:27:08.554Z"
   },
   {
    "duration": 20,
    "start_time": "2022-03-11T14:27:09.293Z"
   },
   {
    "duration": 98,
    "start_time": "2022-03-11T14:27:09.315Z"
   },
   {
    "duration": 118,
    "start_time": "2022-03-11T14:27:09.415Z"
   },
   {
    "duration": 16,
    "start_time": "2022-03-11T14:27:09.534Z"
   },
   {
    "duration": 66,
    "start_time": "2022-03-11T14:27:09.552Z"
   },
   {
    "duration": 80,
    "start_time": "2022-03-11T14:27:09.620Z"
   },
   {
    "duration": 21,
    "start_time": "2022-03-11T14:27:09.702Z"
   },
   {
    "duration": 34,
    "start_time": "2022-03-11T14:27:09.725Z"
   },
   {
    "duration": 9,
    "start_time": "2022-03-11T14:27:09.760Z"
   },
   {
    "duration": 82,
    "start_time": "2022-03-11T14:27:09.771Z"
   },
   {
    "duration": 77,
    "start_time": "2022-03-11T14:27:09.854Z"
   },
   {
    "duration": 55,
    "start_time": "2022-03-11T14:27:09.933Z"
   },
   {
    "duration": 25,
    "start_time": "2022-03-11T14:27:10.001Z"
   },
   {
    "duration": 23,
    "start_time": "2022-03-11T14:27:10.027Z"
   },
   {
    "duration": 15,
    "start_time": "2022-03-11T14:27:10.052Z"
   },
   {
    "duration": 44,
    "start_time": "2022-03-11T14:27:10.068Z"
   },
   {
    "duration": 9,
    "start_time": "2022-03-11T14:27:10.113Z"
   },
   {
    "duration": 8,
    "start_time": "2022-03-11T14:27:10.123Z"
   },
   {
    "duration": 17,
    "start_time": "2022-03-11T14:27:10.133Z"
   },
   {
    "duration": 8,
    "start_time": "2022-03-11T14:27:10.152Z"
   },
   {
    "duration": 41,
    "start_time": "2022-03-11T14:27:10.161Z"
   },
   {
    "duration": 363,
    "start_time": "2022-03-11T14:28:41.780Z"
   },
   {
    "duration": 19,
    "start_time": "2022-03-11T14:28:57.472Z"
   },
   {
    "duration": 15,
    "start_time": "2022-03-11T14:29:22.032Z"
   },
   {
    "duration": 15,
    "start_time": "2022-03-11T14:29:34.948Z"
   },
   {
    "duration": 8,
    "start_time": "2022-03-11T14:29:41.771Z"
   },
   {
    "duration": 9,
    "start_time": "2022-03-11T14:29:44.114Z"
   },
   {
    "duration": 10,
    "start_time": "2022-03-11T14:29:49.387Z"
   },
   {
    "duration": 10,
    "start_time": "2022-03-11T14:29:53.274Z"
   },
   {
    "duration": 1632,
    "start_time": "2022-03-11T14:29:58.281Z"
   },
   {
    "duration": 18,
    "start_time": "2022-03-11T14:29:59.915Z"
   },
   {
    "duration": 109,
    "start_time": "2022-03-11T14:29:59.935Z"
   },
   {
    "duration": 133,
    "start_time": "2022-03-11T14:30:00.046Z"
   },
   {
    "duration": 26,
    "start_time": "2022-03-11T14:30:00.180Z"
   },
   {
    "duration": 73,
    "start_time": "2022-03-11T14:30:00.208Z"
   },
   {
    "duration": 89,
    "start_time": "2022-03-11T14:30:00.283Z"
   },
   {
    "duration": 22,
    "start_time": "2022-03-11T14:30:00.373Z"
   },
   {
    "duration": 83,
    "start_time": "2022-03-11T14:30:00.397Z"
   },
   {
    "duration": 10,
    "start_time": "2022-03-11T14:30:00.482Z"
   },
   {
    "duration": 122,
    "start_time": "2022-03-11T14:30:00.494Z"
   },
   {
    "duration": 67,
    "start_time": "2022-03-11T14:30:00.618Z"
   },
   {
    "duration": 70,
    "start_time": "2022-03-11T14:30:00.687Z"
   },
   {
    "duration": 43,
    "start_time": "2022-03-11T14:30:00.758Z"
   },
   {
    "duration": 21,
    "start_time": "2022-03-11T14:30:00.803Z"
   },
   {
    "duration": 25,
    "start_time": "2022-03-11T14:30:00.826Z"
   },
   {
    "duration": 15,
    "start_time": "2022-03-11T14:30:00.853Z"
   },
   {
    "duration": 8,
    "start_time": "2022-03-11T14:30:00.869Z"
   },
   {
    "duration": 26,
    "start_time": "2022-03-11T14:30:00.879Z"
   },
   {
    "duration": 13,
    "start_time": "2022-03-11T14:30:00.907Z"
   },
   {
    "duration": 13,
    "start_time": "2022-03-11T14:30:00.922Z"
   },
   {
    "duration": 32,
    "start_time": "2022-03-11T14:30:00.937Z"
   },
   {
    "duration": 785,
    "start_time": "2022-03-11T14:30:18.410Z"
   },
   {
    "duration": 20,
    "start_time": "2022-03-11T14:30:19.197Z"
   },
   {
    "duration": 104,
    "start_time": "2022-03-11T14:30:19.219Z"
   },
   {
    "duration": 118,
    "start_time": "2022-03-11T14:30:19.325Z"
   },
   {
    "duration": 15,
    "start_time": "2022-03-11T14:30:19.445Z"
   },
   {
    "duration": 70,
    "start_time": "2022-03-11T14:30:19.461Z"
   },
   {
    "duration": 84,
    "start_time": "2022-03-11T14:30:19.532Z"
   },
   {
    "duration": 20,
    "start_time": "2022-03-11T14:30:19.618Z"
   },
   {
    "duration": 47,
    "start_time": "2022-03-11T14:30:19.641Z"
   },
   {
    "duration": 10,
    "start_time": "2022-03-11T14:30:19.690Z"
   },
   {
    "duration": 84,
    "start_time": "2022-03-11T14:30:19.702Z"
   },
   {
    "duration": 70,
    "start_time": "2022-03-11T14:30:19.787Z"
   },
   {
    "duration": 64,
    "start_time": "2022-03-11T14:30:19.859Z"
   },
   {
    "duration": 21,
    "start_time": "2022-03-11T14:30:19.925Z"
   },
   {
    "duration": 20,
    "start_time": "2022-03-11T14:30:19.947Z"
   },
   {
    "duration": 38,
    "start_time": "2022-03-11T14:30:19.968Z"
   },
   {
    "duration": 15,
    "start_time": "2022-03-11T14:30:20.008Z"
   },
   {
    "duration": 8,
    "start_time": "2022-03-11T14:30:20.024Z"
   },
   {
    "duration": 8,
    "start_time": "2022-03-11T14:30:20.034Z"
   },
   {
    "duration": 9,
    "start_time": "2022-03-11T14:30:20.043Z"
   },
   {
    "duration": 10,
    "start_time": "2022-03-11T14:30:20.054Z"
   },
   {
    "duration": 48,
    "start_time": "2022-03-11T14:30:20.066Z"
   },
   {
    "duration": 7,
    "start_time": "2022-03-11T14:30:26.411Z"
   },
   {
    "duration": 14,
    "start_time": "2022-03-11T14:30:31.029Z"
   },
   {
    "duration": 818,
    "start_time": "2022-03-11T14:30:38.372Z"
   },
   {
    "duration": 18,
    "start_time": "2022-03-11T14:30:39.192Z"
   },
   {
    "duration": 102,
    "start_time": "2022-03-11T14:30:39.212Z"
   },
   {
    "duration": 120,
    "start_time": "2022-03-11T14:30:39.315Z"
   },
   {
    "duration": 15,
    "start_time": "2022-03-11T14:30:39.437Z"
   },
   {
    "duration": 71,
    "start_time": "2022-03-11T14:30:39.453Z"
   },
   {
    "duration": 82,
    "start_time": "2022-03-11T14:30:39.526Z"
   },
   {
    "duration": 20,
    "start_time": "2022-03-11T14:30:39.609Z"
   },
   {
    "duration": 39,
    "start_time": "2022-03-11T14:30:39.632Z"
   },
   {
    "duration": 9,
    "start_time": "2022-03-11T14:30:39.673Z"
   },
   {
    "duration": 87,
    "start_time": "2022-03-11T14:30:39.683Z"
   },
   {
    "duration": 69,
    "start_time": "2022-03-11T14:30:39.772Z"
   },
   {
    "duration": 64,
    "start_time": "2022-03-11T14:30:39.843Z"
   },
   {
    "duration": 22,
    "start_time": "2022-03-11T14:30:39.908Z"
   },
   {
    "duration": 20,
    "start_time": "2022-03-11T14:30:39.931Z"
   },
   {
    "duration": 14,
    "start_time": "2022-03-11T14:30:39.953Z"
   },
   {
    "duration": 44,
    "start_time": "2022-03-11T14:30:39.968Z"
   },
   {
    "duration": 7,
    "start_time": "2022-03-11T14:30:40.013Z"
   },
   {
    "duration": 8,
    "start_time": "2022-03-11T14:30:40.022Z"
   },
   {
    "duration": 8,
    "start_time": "2022-03-11T14:30:40.032Z"
   },
   {
    "duration": 8,
    "start_time": "2022-03-11T14:30:40.042Z"
   },
   {
    "duration": 17,
    "start_time": "2022-03-11T14:30:40.051Z"
   },
   {
    "duration": 425,
    "start_time": "2022-03-11T14:38:53.548Z"
   },
   {
    "duration": 637,
    "start_time": "2022-03-11T14:40:16.044Z"
   },
   {
    "duration": 426,
    "start_time": "2022-03-11T14:40:23.271Z"
   },
   {
    "duration": 517,
    "start_time": "2022-03-11T14:40:33.280Z"
   },
   {
    "duration": 351,
    "start_time": "2022-03-11T14:44:41.491Z"
   },
   {
    "duration": 362,
    "start_time": "2022-03-11T14:45:02.837Z"
   },
   {
    "duration": 334,
    "start_time": "2022-03-11T14:49:43.807Z"
   },
   {
    "duration": 348,
    "start_time": "2022-03-11T14:51:03.694Z"
   },
   {
    "duration": 345,
    "start_time": "2022-03-11T14:52:36.752Z"
   },
   {
    "duration": 1026,
    "start_time": "2022-03-11T14:52:56.594Z"
   },
   {
    "duration": 28,
    "start_time": "2022-03-11T14:52:57.622Z"
   },
   {
    "duration": 109,
    "start_time": "2022-03-11T14:52:57.653Z"
   },
   {
    "duration": 121,
    "start_time": "2022-03-11T14:52:57.764Z"
   },
   {
    "duration": 21,
    "start_time": "2022-03-11T14:52:57.887Z"
   },
   {
    "duration": 61,
    "start_time": "2022-03-11T14:52:57.909Z"
   },
   {
    "duration": 87,
    "start_time": "2022-03-11T14:52:57.972Z"
   },
   {
    "duration": 20,
    "start_time": "2022-03-11T14:52:58.060Z"
   },
   {
    "duration": 33,
    "start_time": "2022-03-11T14:52:58.083Z"
   },
   {
    "duration": 12,
    "start_time": "2022-03-11T14:52:58.118Z"
   },
   {
    "duration": 123,
    "start_time": "2022-03-11T14:52:58.132Z"
   },
   {
    "duration": 101,
    "start_time": "2022-03-11T14:52:58.258Z"
   },
   {
    "duration": 61,
    "start_time": "2022-03-11T14:52:58.361Z"
   },
   {
    "duration": 22,
    "start_time": "2022-03-11T14:52:58.424Z"
   },
   {
    "duration": 22,
    "start_time": "2022-03-11T14:52:58.448Z"
   },
   {
    "duration": 40,
    "start_time": "2022-03-11T14:52:58.471Z"
   },
   {
    "duration": 15,
    "start_time": "2022-03-11T14:52:58.513Z"
   },
   {
    "duration": 8,
    "start_time": "2022-03-11T14:52:58.529Z"
   },
   {
    "duration": 8,
    "start_time": "2022-03-11T14:52:58.538Z"
   },
   {
    "duration": 8,
    "start_time": "2022-03-11T14:52:58.548Z"
   },
   {
    "duration": 94,
    "start_time": "2022-03-11T14:52:58.558Z"
   },
   {
    "duration": 23,
    "start_time": "2022-03-11T14:52:58.654Z"
   },
   {
    "duration": 63,
    "start_time": "2022-03-11T14:54:59.102Z"
   },
   {
    "duration": 3,
    "start_time": "2022-03-11T15:02:27.142Z"
   },
   {
    "duration": 378,
    "start_time": "2022-03-11T15:04:40.094Z"
   },
   {
    "duration": 15,
    "start_time": "2022-03-11T15:05:14.130Z"
   },
   {
    "duration": 17,
    "start_time": "2022-03-11T15:06:39.035Z"
   },
   {
    "duration": 100,
    "start_time": "2022-03-11T15:06:46.946Z"
   },
   {
    "duration": 14,
    "start_time": "2022-03-11T15:06:52.358Z"
   },
   {
    "duration": 13,
    "start_time": "2022-03-11T15:06:55.576Z"
   },
   {
    "duration": 155,
    "start_time": "2022-03-11T15:07:03.566Z"
   },
   {
    "duration": 20,
    "start_time": "2022-03-11T15:07:03.723Z"
   },
   {
    "duration": 106,
    "start_time": "2022-03-11T15:07:03.745Z"
   },
   {
    "duration": 124,
    "start_time": "2022-03-11T15:07:03.854Z"
   },
   {
    "duration": 25,
    "start_time": "2022-03-11T15:07:03.980Z"
   },
   {
    "duration": 58,
    "start_time": "2022-03-11T15:07:04.007Z"
   },
   {
    "duration": 87,
    "start_time": "2022-03-11T15:07:04.067Z"
   },
   {
    "duration": 21,
    "start_time": "2022-03-11T15:07:04.156Z"
   },
   {
    "duration": 33,
    "start_time": "2022-03-11T15:07:04.180Z"
   },
   {
    "duration": 9,
    "start_time": "2022-03-11T15:07:04.215Z"
   },
   {
    "duration": 91,
    "start_time": "2022-03-11T15:07:04.226Z"
   },
   {
    "duration": 64,
    "start_time": "2022-03-11T15:07:04.318Z"
   },
   {
    "duration": 67,
    "start_time": "2022-03-11T15:07:04.383Z"
   },
   {
    "duration": 20,
    "start_time": "2022-03-11T15:07:04.452Z"
   },
   {
    "duration": 39,
    "start_time": "2022-03-11T15:07:04.473Z"
   },
   {
    "duration": 13,
    "start_time": "2022-03-11T15:07:04.514Z"
   },
   {
    "duration": 14,
    "start_time": "2022-03-11T15:07:04.529Z"
   },
   {
    "duration": 7,
    "start_time": "2022-03-11T15:07:04.545Z"
   },
   {
    "duration": 7,
    "start_time": "2022-03-11T15:07:04.554Z"
   },
   {
    "duration": 8,
    "start_time": "2022-03-11T15:07:04.563Z"
   },
   {
    "duration": 36,
    "start_time": "2022-03-11T15:07:04.573Z"
   },
   {
    "duration": 18,
    "start_time": "2022-03-11T15:07:04.610Z"
   },
   {
    "duration": 13,
    "start_time": "2022-03-11T15:07:04.630Z"
   },
   {
    "duration": 13,
    "start_time": "2022-03-11T15:07:19.183Z"
   },
   {
    "duration": 47,
    "start_time": "2022-03-11T15:09:02.113Z"
   },
   {
    "duration": 16,
    "start_time": "2022-03-11T15:10:29.705Z"
   },
   {
    "duration": 785,
    "start_time": "2022-03-11T15:10:52.633Z"
   },
   {
    "duration": 19,
    "start_time": "2022-03-11T15:10:53.420Z"
   },
   {
    "duration": 119,
    "start_time": "2022-03-11T15:10:53.441Z"
   },
   {
    "duration": 131,
    "start_time": "2022-03-11T15:10:53.562Z"
   },
   {
    "duration": 19,
    "start_time": "2022-03-11T15:10:53.695Z"
   },
   {
    "duration": 63,
    "start_time": "2022-03-11T15:10:53.716Z"
   },
   {
    "duration": 93,
    "start_time": "2022-03-11T15:10:53.781Z"
   },
   {
    "duration": 22,
    "start_time": "2022-03-11T15:10:53.876Z"
   },
   {
    "duration": 35,
    "start_time": "2022-03-11T15:10:53.901Z"
   },
   {
    "duration": 11,
    "start_time": "2022-03-11T15:10:53.938Z"
   },
   {
    "duration": 87,
    "start_time": "2022-03-11T15:10:53.950Z"
   },
   {
    "duration": 76,
    "start_time": "2022-03-11T15:10:54.039Z"
   },
   {
    "duration": 52,
    "start_time": "2022-03-11T15:10:54.117Z"
   },
   {
    "duration": 39,
    "start_time": "2022-03-11T15:10:54.171Z"
   },
   {
    "duration": 20,
    "start_time": "2022-03-11T15:10:54.212Z"
   },
   {
    "duration": 14,
    "start_time": "2022-03-11T15:10:54.234Z"
   },
   {
    "duration": 14,
    "start_time": "2022-03-11T15:10:54.250Z"
   },
   {
    "duration": 36,
    "start_time": "2022-03-11T15:10:54.265Z"
   },
   {
    "duration": 8,
    "start_time": "2022-03-11T15:10:54.303Z"
   },
   {
    "duration": 9,
    "start_time": "2022-03-11T15:10:54.313Z"
   },
   {
    "duration": 8,
    "start_time": "2022-03-11T15:10:54.324Z"
   },
   {
    "duration": 14,
    "start_time": "2022-03-11T15:10:54.334Z"
   },
   {
    "duration": 17,
    "start_time": "2022-03-11T15:10:54.349Z"
   },
   {
    "duration": 364,
    "start_time": "2022-03-11T15:16:13.952Z"
   },
   {
    "duration": 304,
    "start_time": "2022-03-11T15:16:50.447Z"
   },
   {
    "duration": 309,
    "start_time": "2022-03-11T15:16:53.762Z"
   },
   {
    "duration": 315,
    "start_time": "2022-03-11T15:17:02.515Z"
   },
   {
    "duration": 8,
    "start_time": "2022-03-11T15:17:44.448Z"
   },
   {
    "duration": 317,
    "start_time": "2022-03-11T15:22:08.027Z"
   },
   {
    "duration": 296,
    "start_time": "2022-03-11T15:22:22.967Z"
   },
   {
    "duration": 349,
    "start_time": "2022-03-11T15:22:30.784Z"
   },
   {
    "duration": 362,
    "start_time": "2022-03-11T15:23:22.467Z"
   },
   {
    "duration": 824,
    "start_time": "2022-03-11T15:23:28.894Z"
   },
   {
    "duration": 18,
    "start_time": "2022-03-11T15:23:29.719Z"
   },
   {
    "duration": 109,
    "start_time": "2022-03-11T15:23:29.739Z"
   },
   {
    "duration": 121,
    "start_time": "2022-03-11T15:23:29.850Z"
   },
   {
    "duration": 15,
    "start_time": "2022-03-11T15:23:29.973Z"
   },
   {
    "duration": 78,
    "start_time": "2022-03-11T15:23:29.990Z"
   },
   {
    "duration": 88,
    "start_time": "2022-03-11T15:23:30.069Z"
   },
   {
    "duration": 21,
    "start_time": "2022-03-11T15:23:30.159Z"
   },
   {
    "duration": 35,
    "start_time": "2022-03-11T15:23:30.182Z"
   },
   {
    "duration": 10,
    "start_time": "2022-03-11T15:23:30.219Z"
   },
   {
    "duration": 103,
    "start_time": "2022-03-11T15:23:30.231Z"
   },
   {
    "duration": 75,
    "start_time": "2022-03-11T15:23:30.336Z"
   },
   {
    "duration": 59,
    "start_time": "2022-03-11T15:23:30.413Z"
   },
   {
    "duration": 50,
    "start_time": "2022-03-11T15:23:30.474Z"
   },
   {
    "duration": 22,
    "start_time": "2022-03-11T15:23:30.526Z"
   },
   {
    "duration": 16,
    "start_time": "2022-03-11T15:23:30.549Z"
   },
   {
    "duration": 44,
    "start_time": "2022-03-11T15:23:30.567Z"
   },
   {
    "duration": 8,
    "start_time": "2022-03-11T15:23:30.613Z"
   },
   {
    "duration": 19,
    "start_time": "2022-03-11T15:23:30.623Z"
   },
   {
    "duration": 11,
    "start_time": "2022-03-11T15:23:30.644Z"
   },
   {
    "duration": 13,
    "start_time": "2022-03-11T15:23:30.657Z"
   },
   {
    "duration": 30,
    "start_time": "2022-03-11T15:23:30.672Z"
   },
   {
    "duration": 19,
    "start_time": "2022-03-11T15:23:30.704Z"
   },
   {
    "duration": 14,
    "start_time": "2022-03-11T15:23:30.724Z"
   },
   {
    "duration": 404,
    "start_time": "2022-03-11T15:23:30.740Z"
   },
   {
    "duration": 296,
    "start_time": "2022-03-11T15:24:09.899Z"
   },
   {
    "duration": 759,
    "start_time": "2022-03-11T15:24:25.336Z"
   },
   {
    "duration": 19,
    "start_time": "2022-03-11T15:24:26.097Z"
   },
   {
    "duration": 103,
    "start_time": "2022-03-11T15:24:26.118Z"
   },
   {
    "duration": 120,
    "start_time": "2022-03-11T15:24:26.222Z"
   },
   {
    "duration": 16,
    "start_time": "2022-03-11T15:24:26.344Z"
   },
   {
    "duration": 74,
    "start_time": "2022-03-11T15:24:26.361Z"
   },
   {
    "duration": 83,
    "start_time": "2022-03-11T15:24:26.437Z"
   },
   {
    "duration": 20,
    "start_time": "2022-03-11T15:24:26.523Z"
   },
   {
    "duration": 35,
    "start_time": "2022-03-11T15:24:26.545Z"
   },
   {
    "duration": 10,
    "start_time": "2022-03-11T15:24:26.581Z"
   },
   {
    "duration": 89,
    "start_time": "2022-03-11T15:24:26.593Z"
   },
   {
    "duration": 65,
    "start_time": "2022-03-11T15:24:26.683Z"
   },
   {
    "duration": 63,
    "start_time": "2022-03-11T15:24:26.750Z"
   },
   {
    "duration": 21,
    "start_time": "2022-03-11T15:24:26.815Z"
   },
   {
    "duration": 19,
    "start_time": "2022-03-11T15:24:26.838Z"
   },
   {
    "duration": 13,
    "start_time": "2022-03-11T15:24:26.859Z"
   },
   {
    "duration": 39,
    "start_time": "2022-03-11T15:24:26.874Z"
   },
   {
    "duration": 8,
    "start_time": "2022-03-11T15:24:26.915Z"
   },
   {
    "duration": 8,
    "start_time": "2022-03-11T15:24:26.924Z"
   },
   {
    "duration": 8,
    "start_time": "2022-03-11T15:24:26.934Z"
   },
   {
    "duration": 9,
    "start_time": "2022-03-11T15:24:26.943Z"
   },
   {
    "duration": 14,
    "start_time": "2022-03-11T15:24:26.954Z"
   },
   {
    "duration": 46,
    "start_time": "2022-03-11T15:24:26.970Z"
   },
   {
    "duration": 3,
    "start_time": "2022-03-11T15:24:27.017Z"
   },
   {
    "duration": 359,
    "start_time": "2022-03-11T15:24:27.021Z"
   },
   {
    "duration": 147,
    "start_time": "2022-03-11T15:24:36.015Z"
   },
   {
    "duration": 18,
    "start_time": "2022-03-11T15:24:36.164Z"
   },
   {
    "duration": 87,
    "start_time": "2022-03-11T15:24:36.184Z"
   },
   {
    "duration": 123,
    "start_time": "2022-03-11T15:24:36.272Z"
   },
   {
    "duration": 16,
    "start_time": "2022-03-11T15:24:36.397Z"
   },
   {
    "duration": 58,
    "start_time": "2022-03-11T15:24:36.415Z"
   },
   {
    "duration": 96,
    "start_time": "2022-03-11T15:24:36.475Z"
   },
   {
    "duration": 21,
    "start_time": "2022-03-11T15:24:36.573Z"
   },
   {
    "duration": 34,
    "start_time": "2022-03-11T15:24:36.597Z"
   },
   {
    "duration": 11,
    "start_time": "2022-03-11T15:24:36.633Z"
   },
   {
    "duration": 79,
    "start_time": "2022-03-11T15:24:36.645Z"
   },
   {
    "duration": 76,
    "start_time": "2022-03-11T15:24:36.725Z"
   },
   {
    "duration": 52,
    "start_time": "2022-03-11T15:24:36.803Z"
   },
   {
    "duration": 20,
    "start_time": "2022-03-11T15:24:36.857Z"
   },
   {
    "duration": 39,
    "start_time": "2022-03-11T15:24:36.878Z"
   },
   {
    "duration": 14,
    "start_time": "2022-03-11T15:24:36.918Z"
   },
   {
    "duration": 15,
    "start_time": "2022-03-11T15:24:36.933Z"
   },
   {
    "duration": 8,
    "start_time": "2022-03-11T15:24:36.949Z"
   },
   {
    "duration": 9,
    "start_time": "2022-03-11T15:24:36.958Z"
   },
   {
    "duration": 40,
    "start_time": "2022-03-11T15:24:36.968Z"
   },
   {
    "duration": 9,
    "start_time": "2022-03-11T15:24:37.010Z"
   },
   {
    "duration": 15,
    "start_time": "2022-03-11T15:24:37.021Z"
   },
   {
    "duration": 17,
    "start_time": "2022-03-11T15:24:37.038Z"
   },
   {
    "duration": 2,
    "start_time": "2022-03-11T15:24:37.057Z"
   },
   {
    "duration": 320,
    "start_time": "2022-03-11T15:24:37.061Z"
   },
   {
    "duration": 10,
    "start_time": "2022-03-11T15:25:00.134Z"
   },
   {
    "duration": 327,
    "start_time": "2022-03-11T15:26:09.893Z"
   },
   {
    "duration": 8,
    "start_time": "2022-03-11T15:26:21.539Z"
   },
   {
    "duration": -47,
    "start_time": "2022-03-11T15:26:32.401Z"
   },
   {
    "duration": 144,
    "start_time": "2022-03-11T15:26:34.187Z"
   },
   {
    "duration": 19,
    "start_time": "2022-03-11T15:26:34.333Z"
   },
   {
    "duration": 100,
    "start_time": "2022-03-11T15:26:34.354Z"
   },
   {
    "duration": 118,
    "start_time": "2022-03-11T15:26:34.456Z"
   },
   {
    "duration": 15,
    "start_time": "2022-03-11T15:26:34.576Z"
   },
   {
    "duration": 61,
    "start_time": "2022-03-11T15:26:34.592Z"
   },
   {
    "duration": 82,
    "start_time": "2022-03-11T15:26:34.655Z"
   },
   {
    "duration": 21,
    "start_time": "2022-03-11T15:26:34.739Z"
   },
   {
    "duration": 36,
    "start_time": "2022-03-11T15:26:34.763Z"
   },
   {
    "duration": 10,
    "start_time": "2022-03-11T15:26:34.801Z"
   },
   {
    "duration": 99,
    "start_time": "2022-03-11T15:26:34.813Z"
   },
   {
    "duration": 63,
    "start_time": "2022-03-11T15:26:34.914Z"
   },
   {
    "duration": 71,
    "start_time": "2022-03-11T15:26:34.979Z"
   },
   {
    "duration": 22,
    "start_time": "2022-03-11T15:26:35.051Z"
   },
   {
    "duration": 39,
    "start_time": "2022-03-11T15:26:35.075Z"
   },
   {
    "duration": 15,
    "start_time": "2022-03-11T15:26:35.115Z"
   },
   {
    "duration": 15,
    "start_time": "2022-03-11T15:26:35.131Z"
   },
   {
    "duration": 6,
    "start_time": "2022-03-11T15:26:35.147Z"
   },
   {
    "duration": 7,
    "start_time": "2022-03-11T15:26:35.155Z"
   },
   {
    "duration": 8,
    "start_time": "2022-03-11T15:26:35.164Z"
   },
   {
    "duration": 35,
    "start_time": "2022-03-11T15:26:35.173Z"
   },
   {
    "duration": 27,
    "start_time": "2022-03-11T15:26:35.210Z"
   },
   {
    "duration": 15,
    "start_time": "2022-03-11T15:26:35.239Z"
   },
   {
    "duration": 10,
    "start_time": "2022-03-11T15:26:35.256Z"
   },
   {
    "duration": 311,
    "start_time": "2022-03-11T15:26:35.267Z"
   },
   {
    "duration": 311,
    "start_time": "2022-03-11T15:26:53.651Z"
   },
   {
    "duration": 314,
    "start_time": "2022-03-11T15:27:06.513Z"
   },
   {
    "duration": 21,
    "start_time": "2022-03-11T15:27:26.544Z"
   },
   {
    "duration": 22,
    "start_time": "2022-03-11T15:28:33.375Z"
   },
   {
    "duration": 26,
    "start_time": "2022-03-11T15:28:44.423Z"
   },
   {
    "duration": 24,
    "start_time": "2022-03-11T15:29:28.414Z"
   },
   {
    "duration": 9,
    "start_time": "2022-03-11T15:34:41.036Z"
   },
   {
    "duration": 864,
    "start_time": "2022-03-11T15:35:53.996Z"
   },
   {
    "duration": 18,
    "start_time": "2022-03-11T15:35:54.862Z"
   },
   {
    "duration": 114,
    "start_time": "2022-03-11T15:35:54.882Z"
   },
   {
    "duration": 129,
    "start_time": "2022-03-11T15:35:54.997Z"
   },
   {
    "duration": 18,
    "start_time": "2022-03-11T15:35:55.127Z"
   },
   {
    "duration": 76,
    "start_time": "2022-03-11T15:35:55.147Z"
   },
   {
    "duration": 88,
    "start_time": "2022-03-11T15:35:55.225Z"
   },
   {
    "duration": 24,
    "start_time": "2022-03-11T15:35:55.315Z"
   },
   {
    "duration": 34,
    "start_time": "2022-03-11T15:35:55.342Z"
   },
   {
    "duration": 10,
    "start_time": "2022-03-11T15:35:55.378Z"
   },
   {
    "duration": 89,
    "start_time": "2022-03-11T15:35:55.389Z"
   },
   {
    "duration": 76,
    "start_time": "2022-03-11T15:35:55.479Z"
   },
   {
    "duration": 60,
    "start_time": "2022-03-11T15:35:55.557Z"
   },
   {
    "duration": 25,
    "start_time": "2022-03-11T15:35:55.619Z"
   },
   {
    "duration": 24,
    "start_time": "2022-03-11T15:35:55.646Z"
   },
   {
    "duration": 44,
    "start_time": "2022-03-11T15:35:55.672Z"
   },
   {
    "duration": 16,
    "start_time": "2022-03-11T15:35:55.718Z"
   },
   {
    "duration": 8,
    "start_time": "2022-03-11T15:35:55.736Z"
   },
   {
    "duration": 10,
    "start_time": "2022-03-11T15:35:55.745Z"
   },
   {
    "duration": 8,
    "start_time": "2022-03-11T15:35:55.756Z"
   },
   {
    "duration": 42,
    "start_time": "2022-03-11T15:35:55.766Z"
   },
   {
    "duration": 16,
    "start_time": "2022-03-11T15:35:55.810Z"
   },
   {
    "duration": 21,
    "start_time": "2022-03-11T15:35:55.827Z"
   },
   {
    "duration": 9,
    "start_time": "2022-03-11T15:35:55.849Z"
   },
   {
    "duration": 47,
    "start_time": "2022-03-11T15:35:55.860Z"
   },
   {
    "duration": 7,
    "start_time": "2022-03-11T15:35:55.909Z"
   },
   {
    "duration": 765,
    "start_time": "2022-03-11T15:39:03.023Z"
   },
   {
    "duration": 19,
    "start_time": "2022-03-11T15:39:03.790Z"
   },
   {
    "duration": 105,
    "start_time": "2022-03-11T15:39:03.811Z"
   },
   {
    "duration": 124,
    "start_time": "2022-03-11T15:39:03.917Z"
   },
   {
    "duration": 16,
    "start_time": "2022-03-11T15:39:04.042Z"
   },
   {
    "duration": 70,
    "start_time": "2022-03-11T15:39:04.060Z"
   },
   {
    "duration": 84,
    "start_time": "2022-03-11T15:39:04.131Z"
   },
   {
    "duration": 20,
    "start_time": "2022-03-11T15:39:04.217Z"
   },
   {
    "duration": 36,
    "start_time": "2022-03-11T15:39:04.240Z"
   },
   {
    "duration": 10,
    "start_time": "2022-03-11T15:39:04.278Z"
   },
   {
    "duration": 88,
    "start_time": "2022-03-11T15:39:04.290Z"
   },
   {
    "duration": 75,
    "start_time": "2022-03-11T15:39:04.380Z"
   },
   {
    "duration": 60,
    "start_time": "2022-03-11T15:39:04.456Z"
   },
   {
    "duration": 22,
    "start_time": "2022-03-11T15:39:04.517Z"
   },
   {
    "duration": 21,
    "start_time": "2022-03-11T15:39:04.541Z"
   },
   {
    "duration": 38,
    "start_time": "2022-03-11T15:39:04.564Z"
   },
   {
    "duration": 14,
    "start_time": "2022-03-11T15:39:04.603Z"
   },
   {
    "duration": 7,
    "start_time": "2022-03-11T15:39:04.619Z"
   },
   {
    "duration": 8,
    "start_time": "2022-03-11T15:39:04.628Z"
   },
   {
    "duration": 8,
    "start_time": "2022-03-11T15:39:04.637Z"
   },
   {
    "duration": 9,
    "start_time": "2022-03-11T15:39:04.646Z"
   },
   {
    "duration": 46,
    "start_time": "2022-03-11T15:39:04.656Z"
   },
   {
    "duration": 18,
    "start_time": "2022-03-11T15:39:04.703Z"
   },
   {
    "duration": 10,
    "start_time": "2022-03-11T15:39:04.722Z"
   },
   {
    "duration": 17,
    "start_time": "2022-03-11T15:39:04.733Z"
   },
   {
    "duration": 6,
    "start_time": "2022-03-11T15:39:04.752Z"
   },
   {
    "duration": 7,
    "start_time": "2022-03-11T15:39:04.761Z"
   },
   {
    "duration": 370,
    "start_time": "2022-03-11T15:46:15.672Z"
   },
   {
    "duration": 7709,
    "start_time": "2022-03-11T15:46:27.333Z"
   },
   {
    "duration": 782,
    "start_time": "2022-03-11T15:47:20.959Z"
   },
   {
    "duration": 20,
    "start_time": "2022-03-11T15:47:21.743Z"
   },
   {
    "duration": 104,
    "start_time": "2022-03-11T15:47:21.764Z"
   },
   {
    "duration": 118,
    "start_time": "2022-03-11T15:47:21.870Z"
   },
   {
    "duration": 15,
    "start_time": "2022-03-11T15:47:21.990Z"
   },
   {
    "duration": 63,
    "start_time": "2022-03-11T15:47:22.007Z"
   },
   {
    "duration": 88,
    "start_time": "2022-03-11T15:47:22.071Z"
   },
   {
    "duration": 20,
    "start_time": "2022-03-11T15:47:22.162Z"
   },
   {
    "duration": 37,
    "start_time": "2022-03-11T15:47:22.184Z"
   },
   {
    "duration": 9,
    "start_time": "2022-03-11T15:47:22.223Z"
   },
   {
    "duration": 84,
    "start_time": "2022-03-11T15:47:22.234Z"
   },
   {
    "duration": 66,
    "start_time": "2022-03-11T15:47:22.320Z"
   },
   {
    "duration": 52,
    "start_time": "2022-03-11T15:47:22.401Z"
   },
   {
    "duration": 22,
    "start_time": "2022-03-11T15:47:22.454Z"
   },
   {
    "duration": 43,
    "start_time": "2022-03-11T15:47:22.478Z"
   },
   {
    "duration": 15,
    "start_time": "2022-03-11T15:47:22.523Z"
   },
   {
    "duration": 16,
    "start_time": "2022-03-11T15:47:22.539Z"
   },
   {
    "duration": 9,
    "start_time": "2022-03-11T15:47:22.557Z"
   },
   {
    "duration": 38,
    "start_time": "2022-03-11T15:47:22.567Z"
   },
   {
    "duration": 10,
    "start_time": "2022-03-11T15:47:22.607Z"
   },
   {
    "duration": 10,
    "start_time": "2022-03-11T15:47:22.618Z"
   },
   {
    "duration": 17,
    "start_time": "2022-03-11T15:47:22.629Z"
   },
   {
    "duration": 13,
    "start_time": "2022-03-11T15:47:22.647Z"
   },
   {
    "duration": 41,
    "start_time": "2022-03-11T15:47:22.661Z"
   },
   {
    "duration": 18,
    "start_time": "2022-03-11T15:47:22.704Z"
   },
   {
    "duration": 19,
    "start_time": "2022-03-11T15:47:22.724Z"
   },
   {
    "duration": 7,
    "start_time": "2022-03-11T15:47:22.745Z"
   },
   {
    "duration": 6,
    "start_time": "2022-03-11T15:47:22.753Z"
   },
   {
    "duration": 7479,
    "start_time": "2022-03-11T15:47:52.103Z"
   },
   {
    "duration": 789,
    "start_time": "2022-03-11T15:48:09.191Z"
   },
   {
    "duration": 19,
    "start_time": "2022-03-11T15:48:09.982Z"
   },
   {
    "duration": 100,
    "start_time": "2022-03-11T15:48:10.003Z"
   },
   {
    "duration": 121,
    "start_time": "2022-03-11T15:48:10.105Z"
   },
   {
    "duration": 17,
    "start_time": "2022-03-11T15:48:10.227Z"
   },
   {
    "duration": 73,
    "start_time": "2022-03-11T15:48:10.245Z"
   },
   {
    "duration": 82,
    "start_time": "2022-03-11T15:48:10.319Z"
   },
   {
    "duration": 20,
    "start_time": "2022-03-11T15:48:10.403Z"
   },
   {
    "duration": 33,
    "start_time": "2022-03-11T15:48:10.426Z"
   },
   {
    "duration": 10,
    "start_time": "2022-03-11T15:48:10.461Z"
   },
   {
    "duration": 85,
    "start_time": "2022-03-11T15:48:10.472Z"
   },
   {
    "duration": 68,
    "start_time": "2022-03-11T15:48:10.559Z"
   },
   {
    "duration": 51,
    "start_time": "2022-03-11T15:48:10.628Z"
   },
   {
    "duration": 38,
    "start_time": "2022-03-11T15:48:10.680Z"
   },
   {
    "duration": 20,
    "start_time": "2022-03-11T15:48:10.719Z"
   },
   {
    "duration": 14,
    "start_time": "2022-03-11T15:48:10.741Z"
   },
   {
    "duration": 14,
    "start_time": "2022-03-11T15:48:10.756Z"
   },
   {
    "duration": 32,
    "start_time": "2022-03-11T15:48:10.771Z"
   },
   {
    "duration": 8,
    "start_time": "2022-03-11T15:48:10.805Z"
   },
   {
    "duration": 9,
    "start_time": "2022-03-11T15:48:10.815Z"
   },
   {
    "duration": 9,
    "start_time": "2022-03-11T15:48:10.825Z"
   },
   {
    "duration": 16,
    "start_time": "2022-03-11T15:48:10.836Z"
   },
   {
    "duration": 13,
    "start_time": "2022-03-11T15:48:10.853Z"
   },
   {
    "duration": 41,
    "start_time": "2022-03-11T15:48:10.867Z"
   },
   {
    "duration": 17,
    "start_time": "2022-03-11T15:48:10.909Z"
   },
   {
    "duration": 17,
    "start_time": "2022-03-11T15:48:10.927Z"
   },
   {
    "duration": 6,
    "start_time": "2022-03-11T15:48:10.947Z"
   },
   {
    "duration": 4,
    "start_time": "2022-03-11T15:48:10.955Z"
   },
   {
    "duration": 7716,
    "start_time": "2022-03-11T15:49:03.260Z"
   },
   {
    "duration": 752,
    "start_time": "2022-03-11T15:49:18.731Z"
   },
   {
    "duration": 18,
    "start_time": "2022-03-11T15:49:19.485Z"
   },
   {
    "duration": 102,
    "start_time": "2022-03-11T15:49:19.505Z"
   },
   {
    "duration": 122,
    "start_time": "2022-03-11T15:49:19.609Z"
   },
   {
    "duration": 15,
    "start_time": "2022-03-11T15:49:19.732Z"
   },
   {
    "duration": 76,
    "start_time": "2022-03-11T15:49:19.749Z"
   },
   {
    "duration": 85,
    "start_time": "2022-03-11T15:49:19.827Z"
   },
   {
    "duration": 20,
    "start_time": "2022-03-11T15:49:19.913Z"
   },
   {
    "duration": 49,
    "start_time": "2022-03-11T15:49:19.935Z"
   },
   {
    "duration": 9,
    "start_time": "2022-03-11T15:49:19.986Z"
   },
   {
    "duration": 104,
    "start_time": "2022-03-11T15:49:19.997Z"
   },
   {
    "duration": 66,
    "start_time": "2022-03-11T15:49:20.102Z"
   },
   {
    "duration": 61,
    "start_time": "2022-03-11T15:49:20.170Z"
   },
   {
    "duration": 22,
    "start_time": "2022-03-11T15:49:20.233Z"
   },
   {
    "duration": 21,
    "start_time": "2022-03-11T15:49:20.257Z"
   },
   {
    "duration": 35,
    "start_time": "2022-03-11T15:49:20.280Z"
   },
   {
    "duration": 14,
    "start_time": "2022-03-11T15:49:20.317Z"
   },
   {
    "duration": 7,
    "start_time": "2022-03-11T15:49:20.332Z"
   },
   {
    "duration": 7,
    "start_time": "2022-03-11T15:49:20.341Z"
   },
   {
    "duration": 7,
    "start_time": "2022-03-11T15:49:20.350Z"
   },
   {
    "duration": 9,
    "start_time": "2022-03-11T15:49:20.359Z"
   },
   {
    "duration": 45,
    "start_time": "2022-03-11T15:49:20.369Z"
   },
   {
    "duration": 12,
    "start_time": "2022-03-11T15:49:20.416Z"
   },
   {
    "duration": 7,
    "start_time": "2022-03-11T15:49:20.430Z"
   },
   {
    "duration": 19,
    "start_time": "2022-03-11T15:49:20.438Z"
   },
   {
    "duration": 43,
    "start_time": "2022-03-11T15:49:20.459Z"
   },
   {
    "duration": 7,
    "start_time": "2022-03-11T15:49:20.505Z"
   },
   {
    "duration": 5,
    "start_time": "2022-03-11T15:49:20.513Z"
   },
   {
    "duration": 7804,
    "start_time": "2022-03-11T15:53:18.352Z"
   },
   {
    "duration": 803,
    "start_time": "2022-03-11T15:53:37.692Z"
   },
   {
    "duration": 18,
    "start_time": "2022-03-11T15:53:38.497Z"
   },
   {
    "duration": 99,
    "start_time": "2022-03-11T15:53:38.517Z"
   },
   {
    "duration": 121,
    "start_time": "2022-03-11T15:53:38.618Z"
   },
   {
    "duration": 15,
    "start_time": "2022-03-11T15:53:38.741Z"
   },
   {
    "duration": 68,
    "start_time": "2022-03-11T15:53:38.758Z"
   },
   {
    "duration": 85,
    "start_time": "2022-03-11T15:53:38.828Z"
   },
   {
    "duration": 19,
    "start_time": "2022-03-11T15:53:38.916Z"
   },
   {
    "duration": 35,
    "start_time": "2022-03-11T15:53:38.937Z"
   },
   {
    "duration": 10,
    "start_time": "2022-03-11T15:53:38.974Z"
   },
   {
    "duration": 88,
    "start_time": "2022-03-11T15:53:38.985Z"
   },
   {
    "duration": 70,
    "start_time": "2022-03-11T15:53:39.075Z"
   },
   {
    "duration": 62,
    "start_time": "2022-03-11T15:53:39.146Z"
   },
   {
    "duration": 22,
    "start_time": "2022-03-11T15:53:39.210Z"
   },
   {
    "duration": 20,
    "start_time": "2022-03-11T15:53:39.234Z"
   },
   {
    "duration": 14,
    "start_time": "2022-03-11T15:53:39.256Z"
   },
   {
    "duration": 39,
    "start_time": "2022-03-11T15:53:39.272Z"
   },
   {
    "duration": 8,
    "start_time": "2022-03-11T15:53:39.313Z"
   },
   {
    "duration": 9,
    "start_time": "2022-03-11T15:53:39.322Z"
   },
   {
    "duration": 7,
    "start_time": "2022-03-11T15:53:39.332Z"
   },
   {
    "duration": 10,
    "start_time": "2022-03-11T15:53:39.341Z"
   },
   {
    "duration": 16,
    "start_time": "2022-03-11T15:53:39.352Z"
   },
   {
    "duration": 42,
    "start_time": "2022-03-11T15:53:39.371Z"
   },
   {
    "duration": 7,
    "start_time": "2022-03-11T15:53:39.415Z"
   },
   {
    "duration": 18,
    "start_time": "2022-03-11T15:53:39.423Z"
   },
   {
    "duration": 359,
    "start_time": "2022-03-11T15:53:39.442Z"
   },
   {
    "duration": 160,
    "start_time": "2022-03-11T15:53:39.643Z"
   },
   {
    "duration": 159,
    "start_time": "2022-03-11T15:53:39.645Z"
   },
   {
    "duration": 352,
    "start_time": "2022-03-11T15:54:14.241Z"
   },
   {
    "duration": 119,
    "start_time": "2022-03-11T15:55:03.908Z"
   },
   {
    "duration": 17,
    "start_time": "2022-03-11T15:55:12.087Z"
   },
   {
    "duration": 18,
    "start_time": "2022-03-11T15:57:23.397Z"
   },
   {
    "duration": 4,
    "start_time": "2022-03-11T15:58:16.939Z"
   },
   {
    "duration": 19,
    "start_time": "2022-03-11T16:00:34.758Z"
   },
   {
    "duration": 18,
    "start_time": "2022-03-11T16:00:47.847Z"
   },
   {
    "duration": 21,
    "start_time": "2022-03-11T16:00:58.726Z"
   },
   {
    "duration": 122,
    "start_time": "2022-03-12T06:09:35.597Z"
   },
   {
    "duration": 116,
    "start_time": "2022-03-12T06:09:54.047Z"
   },
   {
    "duration": 142,
    "start_time": "2022-03-12T06:10:01.456Z"
   },
   {
    "duration": 201,
    "start_time": "2022-03-12T06:10:20.101Z"
   },
   {
    "duration": 116,
    "start_time": "2022-03-12T06:10:27.996Z"
   },
   {
    "duration": 404,
    "start_time": "2022-03-12T06:14:16.388Z"
   },
   {
    "duration": 312,
    "start_time": "2022-03-12T06:14:33.704Z"
   },
   {
    "duration": 380,
    "start_time": "2022-03-12T06:14:56.298Z"
   },
   {
    "duration": 1033,
    "start_time": "2022-03-12T06:15:05.871Z"
   },
   {
    "duration": 36,
    "start_time": "2022-03-12T06:15:06.907Z"
   },
   {
    "duration": 153,
    "start_time": "2022-03-12T06:15:06.946Z"
   },
   {
    "duration": 182,
    "start_time": "2022-03-12T06:15:07.101Z"
   },
   {
    "duration": 22,
    "start_time": "2022-03-12T06:15:07.286Z"
   },
   {
    "duration": 127,
    "start_time": "2022-03-12T06:15:07.311Z"
   },
   {
    "duration": 121,
    "start_time": "2022-03-12T06:15:07.441Z"
   },
   {
    "duration": 27,
    "start_time": "2022-03-12T06:15:07.565Z"
   },
   {
    "duration": 41,
    "start_time": "2022-03-12T06:15:07.595Z"
   },
   {
    "duration": 15,
    "start_time": "2022-03-12T06:15:07.639Z"
   },
   {
    "duration": 151,
    "start_time": "2022-03-12T06:15:07.656Z"
   },
   {
    "duration": 112,
    "start_time": "2022-03-12T06:15:07.809Z"
   },
   {
    "duration": 111,
    "start_time": "2022-03-12T06:15:07.924Z"
   },
   {
    "duration": 38,
    "start_time": "2022-03-12T06:15:08.037Z"
   },
   {
    "duration": 61,
    "start_time": "2022-03-12T06:15:08.078Z"
   },
   {
    "duration": 21,
    "start_time": "2022-03-12T06:15:08.141Z"
   },
   {
    "duration": 23,
    "start_time": "2022-03-12T06:15:08.164Z"
   },
   {
    "duration": 43,
    "start_time": "2022-03-12T06:15:08.189Z"
   },
   {
    "duration": 13,
    "start_time": "2022-03-12T06:15:08.235Z"
   },
   {
    "duration": 12,
    "start_time": "2022-03-12T06:15:08.251Z"
   },
   {
    "duration": 14,
    "start_time": "2022-03-12T06:15:08.265Z"
   },
   {
    "duration": 62,
    "start_time": "2022-03-12T06:15:08.281Z"
   },
   {
    "duration": 22,
    "start_time": "2022-03-12T06:15:08.347Z"
   },
   {
    "duration": 12,
    "start_time": "2022-03-12T06:15:08.371Z"
   },
   {
    "duration": 61,
    "start_time": "2022-03-12T06:15:08.385Z"
   },
   {
    "duration": 40,
    "start_time": "2022-03-12T06:15:08.448Z"
   },
   {
    "duration": 419,
    "start_time": "2022-03-12T06:15:08.490Z"
   },
   {
    "duration": -70,
    "start_time": "2022-03-12T06:15:08.982Z"
   },
   {
    "duration": 325,
    "start_time": "2022-03-12T06:15:38.074Z"
   },
   {
    "duration": 691,
    "start_time": "2022-03-12T06:15:57.556Z"
   },
   {
    "duration": 328,
    "start_time": "2022-03-12T06:16:35.123Z"
   },
   {
    "duration": 354,
    "start_time": "2022-03-12T06:16:43.756Z"
   },
   {
    "duration": -95,
    "start_time": "2022-03-12T06:16:58.386Z"
   },
   {
    "duration": -52,
    "start_time": "2022-03-12T06:17:13.900Z"
   },
   {
    "duration": 6,
    "start_time": "2022-03-12T06:33:03.462Z"
   },
   {
    "duration": 6,
    "start_time": "2022-03-12T06:33:09.410Z"
   },
   {
    "duration": 243,
    "start_time": "2022-03-12T06:36:04.938Z"
   },
   {
    "duration": 233,
    "start_time": "2022-03-12T06:37:07.559Z"
   },
   {
    "duration": 211,
    "start_time": "2022-03-12T06:37:15.094Z"
   },
   {
    "duration": 139,
    "start_time": "2022-03-12T06:37:20.330Z"
   },
   {
    "duration": 249,
    "start_time": "2022-03-12T06:37:24.817Z"
   },
   {
    "duration": 229,
    "start_time": "2022-03-12T06:43:02.814Z"
   },
   {
    "duration": 147,
    "start_time": "2022-03-12T06:44:15.225Z"
   },
   {
    "duration": 237,
    "start_time": "2022-03-12T06:44:22.117Z"
   },
   {
    "duration": 76,
    "start_time": "2022-03-12T18:27:28.235Z"
   },
   {
    "duration": 254,
    "start_time": "2022-03-12T18:27:44.292Z"
   },
   {
    "duration": 1391,
    "start_time": "2022-03-12T18:27:51.777Z"
   },
   {
    "duration": 3975,
    "start_time": "2022-03-12T18:27:53.170Z"
   },
   {
    "duration": 6371,
    "start_time": "2022-03-12T18:27:57.148Z"
   },
   {
    "duration": 4379,
    "start_time": "2022-03-12T18:28:03.523Z"
   },
   {
    "duration": 1640,
    "start_time": "2022-03-12T18:28:07.904Z"
   },
   {
    "duration": 1547,
    "start_time": "2022-03-12T18:28:09.546Z"
   },
   {
    "duration": 1368,
    "start_time": "2022-03-12T18:28:11.096Z"
   },
   {
    "duration": 4272,
    "start_time": "2022-03-12T18:28:12.466Z"
   },
   {
    "duration": 6557,
    "start_time": "2022-03-12T18:28:16.741Z"
   },
   {
    "duration": 4526,
    "start_time": "2022-03-12T18:28:23.300Z"
   },
   {
    "duration": 4960,
    "start_time": "2022-03-12T18:28:27.827Z"
   },
   {
    "duration": 857,
    "start_time": "2022-03-12T18:28:44.595Z"
   },
   {
    "duration": 581,
    "start_time": "2022-03-12T18:28:45.454Z"
   },
   {
    "duration": 3498,
    "start_time": "2022-03-12T18:28:46.038Z"
   },
   {
    "duration": 4409,
    "start_time": "2022-03-12T18:28:49.539Z"
   },
   {
    "duration": 4385,
    "start_time": "2022-03-12T18:28:53.950Z"
   },
   {
    "duration": 1747,
    "start_time": "2022-03-12T18:28:58.337Z"
   },
   {
    "duration": 3045,
    "start_time": "2022-03-12T18:29:00.086Z"
   },
   {
    "duration": 1528,
    "start_time": "2022-03-12T18:29:03.134Z"
   },
   {
    "duration": 5085,
    "start_time": "2022-03-12T18:29:04.664Z"
   },
   {
    "duration": 1065,
    "start_time": "2022-03-12T18:29:09.750Z"
   },
   {
    "duration": 2059,
    "start_time": "2022-03-12T18:29:10.816Z"
   },
   {
    "duration": 2037,
    "start_time": "2022-03-12T18:29:12.878Z"
   },
   {
    "duration": 4033,
    "start_time": "2022-03-12T18:29:14.917Z"
   },
   {
    "duration": 5049,
    "start_time": "2022-03-12T18:29:18.952Z"
   },
   {
    "duration": 6524,
    "start_time": "2022-03-12T18:29:24.003Z"
   },
   {
    "duration": 2401,
    "start_time": "2022-03-12T18:29:30.529Z"
   },
   {
    "duration": 1716,
    "start_time": "2022-03-12T18:29:32.932Z"
   },
   {
    "duration": 1464,
    "start_time": "2022-03-12T18:29:34.649Z"
   },
   {
    "duration": 2983,
    "start_time": "2022-03-12T18:29:36.115Z"
   },
   {
    "duration": 1465,
    "start_time": "2022-03-12T18:29:39.100Z"
   },
   {
    "duration": 2128,
    "start_time": "2022-03-12T18:29:40.567Z"
   },
   {
    "duration": 2320,
    "start_time": "2022-03-12T18:29:42.697Z"
   },
   {
    "duration": 1326,
    "start_time": "2022-03-12T18:29:45.021Z"
   },
   {
    "duration": 3347,
    "start_time": "2022-03-12T18:29:46.349Z"
   },
   {
    "duration": 2652,
    "start_time": "2022-03-12T18:29:49.698Z"
   },
   {
    "duration": 1411,
    "start_time": "2022-03-12T18:29:52.352Z"
   },
   {
    "duration": 2329,
    "start_time": "2022-03-12T18:29:53.764Z"
   },
   {
    "duration": 4111,
    "start_time": "2022-03-12T18:29:56.095Z"
   },
   {
    "duration": 117,
    "start_time": "2022-03-12T18:30:53.510Z"
   },
   {
    "duration": 117,
    "start_time": "2022-03-12T18:31:11.018Z"
   },
   {
    "duration": 3440,
    "start_time": "2022-03-12T18:31:28.904Z"
   },
   {
    "duration": 896,
    "start_time": "2022-03-12T18:31:59.711Z"
   },
   {
    "duration": 1149,
    "start_time": "2022-03-12T18:32:00.610Z"
   },
   {
    "duration": 2051,
    "start_time": "2022-03-12T18:32:01.763Z"
   },
   {
    "duration": 1837,
    "start_time": "2022-03-12T18:32:03.817Z"
   },
   {
    "duration": 2864,
    "start_time": "2022-03-12T18:32:05.656Z"
   },
   {
    "duration": 2598,
    "start_time": "2022-03-12T18:32:08.522Z"
   },
   {
    "duration": 2672,
    "start_time": "2022-03-12T18:32:11.122Z"
   },
   {
    "duration": 1320,
    "start_time": "2022-03-12T18:32:13.796Z"
   },
   {
    "duration": 2519,
    "start_time": "2022-03-12T18:32:15.119Z"
   },
   {
    "duration": 1360,
    "start_time": "2022-03-12T18:33:39.748Z"
   },
   {
    "duration": 1886,
    "start_time": "2022-03-12T18:33:41.110Z"
   },
   {
    "duration": 1347,
    "start_time": "2022-03-12T18:33:42.998Z"
   },
   {
    "duration": 1283,
    "start_time": "2022-03-12T18:33:44.348Z"
   },
   {
    "duration": 1090,
    "start_time": "2022-03-12T18:33:45.633Z"
   },
   {
    "duration": 1882,
    "start_time": "2022-03-12T18:33:46.725Z"
   },
   {
    "duration": 970,
    "start_time": "2022-03-12T18:33:48.609Z"
   },
   {
    "duration": 440,
    "start_time": "2022-03-12T18:33:49.581Z"
   },
   {
    "duration": 2979,
    "start_time": "2022-03-12T18:33:50.023Z"
   },
   {
    "duration": 786,
    "start_time": "2022-03-12T18:33:53.004Z"
   },
   {
    "duration": 943,
    "start_time": "2022-03-12T18:33:53.792Z"
   },
   {
    "duration": 1175,
    "start_time": "2022-03-12T18:33:54.737Z"
   },
   {
    "duration": 1002,
    "start_time": "2022-03-12T18:33:55.914Z"
   },
   {
    "duration": 1449,
    "start_time": "2022-03-12T18:33:56.918Z"
   },
   {
    "duration": 815,
    "start_time": "2022-03-12T18:33:58.369Z"
   },
   {
    "duration": 1073,
    "start_time": "2022-03-12T18:33:59.186Z"
   },
   {
    "duration": 593,
    "start_time": "2022-03-12T18:34:00.262Z"
   },
   {
    "duration": 1883,
    "start_time": "2022-03-12T18:34:00.857Z"
   },
   {
    "duration": 1253,
    "start_time": "2022-03-12T18:34:02.743Z"
   },
   {
    "duration": 1153,
    "start_time": "2022-03-12T18:34:03.998Z"
   },
   {
    "duration": 1317,
    "start_time": "2022-03-12T18:34:05.153Z"
   },
   {
    "duration": 2848,
    "start_time": "2022-03-12T18:34:06.472Z"
   },
   {
    "duration": 1745,
    "start_time": "2022-03-12T18:34:09.321Z"
   },
   {
    "duration": 1825,
    "start_time": "2022-03-12T18:34:11.067Z"
   },
   {
    "duration": 1447,
    "start_time": "2022-03-12T18:34:12.894Z"
   },
   {
    "duration": 1883,
    "start_time": "2022-03-12T18:34:14.344Z"
   },
   {
    "duration": 819,
    "start_time": "2022-03-12T18:34:16.229Z"
   },
   {
    "duration": 1473,
    "start_time": "2022-03-12T18:34:17.051Z"
   },
   {
    "duration": 117,
    "start_time": "2022-03-12T18:34:21.340Z"
   },
   {
    "duration": 132,
    "start_time": "2022-03-12T18:34:31.172Z"
   },
   {
    "duration": 119,
    "start_time": "2022-03-12T18:34:45.373Z"
   },
   {
    "duration": 127,
    "start_time": "2022-03-12T18:35:14.041Z"
   },
   {
    "duration": 128,
    "start_time": "2022-03-12T18:36:26.561Z"
   },
   {
    "duration": 197,
    "start_time": "2022-03-12T18:36:46.386Z"
   },
   {
    "duration": 122,
    "start_time": "2022-03-12T18:37:52.478Z"
   },
   {
    "duration": 837,
    "start_time": "2022-03-12T18:38:24.915Z"
   },
   {
    "duration": 2230,
    "start_time": "2022-03-12T18:38:25.754Z"
   },
   {
    "duration": 3060,
    "start_time": "2022-03-12T18:38:27.986Z"
   },
   {
    "duration": 1964,
    "start_time": "2022-03-12T18:38:31.049Z"
   },
   {
    "duration": 647,
    "start_time": "2022-03-12T18:38:33.016Z"
   },
   {
    "duration": 663,
    "start_time": "2022-03-12T18:38:33.665Z"
   },
   {
    "duration": 756,
    "start_time": "2022-03-12T18:38:34.330Z"
   },
   {
    "duration": 356,
    "start_time": "2022-03-12T18:38:35.090Z"
   },
   {
    "duration": 1108,
    "start_time": "2022-03-12T18:38:35.449Z"
   },
   {
    "duration": 1676,
    "start_time": "2022-03-12T18:38:36.559Z"
   },
   {
    "duration": 906,
    "start_time": "2022-03-12T18:38:38.237Z"
   },
   {
    "duration": 1468,
    "start_time": "2022-03-12T18:38:39.145Z"
   },
   {
    "duration": 529,
    "start_time": "2022-03-12T18:38:40.615Z"
   },
   {
    "duration": 278,
    "start_time": "2022-03-12T18:38:41.147Z"
   },
   {
    "duration": 3650,
    "start_time": "2022-03-12T18:38:41.427Z"
   },
   {
    "duration": 4249,
    "start_time": "2022-03-12T18:38:45.079Z"
   },
   {
    "duration": 1072,
    "start_time": "2022-03-12T18:39:00.490Z"
   },
   {
    "duration": 938,
    "start_time": "2022-03-12T18:39:01.563Z"
   },
   {
    "duration": 966,
    "start_time": "2022-03-12T18:39:02.503Z"
   },
   {
    "duration": 758,
    "start_time": "2022-03-12T18:39:03.470Z"
   },
   {
    "duration": 375,
    "start_time": "2022-03-12T18:39:04.231Z"
   },
   {
    "duration": 248,
    "start_time": "2022-03-12T18:39:04.608Z"
   },
   {
    "duration": 368,
    "start_time": "2022-03-12T18:39:04.858Z"
   },
   {
    "duration": 2010,
    "start_time": "2022-03-12T18:39:05.228Z"
   },
   {
    "duration": 845,
    "start_time": "2022-03-12T18:39:07.240Z"
   },
   {
    "duration": 988,
    "start_time": "2022-03-12T18:39:08.086Z"
   },
   {
    "duration": 1052,
    "start_time": "2022-03-12T18:39:09.075Z"
   },
   {
    "duration": 1071,
    "start_time": "2022-03-12T18:39:10.129Z"
   },
   {
    "duration": 1310,
    "start_time": "2022-03-12T18:39:11.203Z"
   },
   {
    "duration": 877,
    "start_time": "2022-03-12T18:39:12.515Z"
   },
   {
    "duration": 1215,
    "start_time": "2022-03-12T18:39:13.394Z"
   },
   {
    "duration": 1215,
    "start_time": "2022-03-12T18:39:14.611Z"
   },
   {
    "duration": 722,
    "start_time": "2022-03-12T18:39:15.828Z"
   },
   {
    "duration": 591,
    "start_time": "2022-03-12T18:39:16.552Z"
   },
   {
    "duration": 1027,
    "start_time": "2022-03-12T18:39:17.145Z"
   },
   {
    "duration": 456,
    "start_time": "2022-03-12T18:39:18.174Z"
   },
   {
    "duration": 563,
    "start_time": "2022-03-12T18:39:18.631Z"
   },
   {
    "duration": 443,
    "start_time": "2022-03-12T18:39:19.195Z"
   },
   {
    "duration": 1311,
    "start_time": "2022-03-12T18:39:19.640Z"
   },
   {
    "duration": 257,
    "start_time": "2022-03-12T18:39:20.953Z"
   },
   {
    "duration": 453,
    "start_time": "2022-03-12T18:39:21.212Z"
   },
   {
    "duration": 561,
    "start_time": "2022-03-12T18:39:21.667Z"
   },
   {
    "duration": 1010,
    "start_time": "2022-03-12T18:39:22.230Z"
   },
   {
    "duration": 2036,
    "start_time": "2022-03-12T18:39:23.242Z"
   },
   {
    "duration": 129,
    "start_time": "2022-03-12T18:39:48.998Z"
   },
   {
    "duration": 121,
    "start_time": "2022-03-12T18:43:31.882Z"
   },
   {
    "duration": 153,
    "start_time": "2022-03-12T18:44:32.359Z"
   },
   {
    "duration": 162,
    "start_time": "2022-03-12T18:45:00.575Z"
   },
   {
    "duration": 166,
    "start_time": "2022-03-12T18:45:14.580Z"
   },
   {
    "duration": 157,
    "start_time": "2022-03-12T18:45:38.299Z"
   },
   {
    "duration": 375,
    "start_time": "2022-03-12T18:49:50.720Z"
   },
   {
    "duration": 180,
    "start_time": "2022-03-12T18:50:00.897Z"
   },
   {
    "duration": 9,
    "start_time": "2022-03-12T18:50:12.803Z"
   },
   {
    "duration": 1221,
    "start_time": "2022-03-12T18:50:12.996Z"
   },
   {
    "duration": 9,
    "start_time": "2022-03-12T18:50:36.391Z"
   },
   {
    "duration": 7,
    "start_time": "2022-03-12T18:50:45.889Z"
   },
   {
    "duration": 8,
    "start_time": "2022-03-12T18:51:02.300Z"
   },
   {
    "duration": 1006,
    "start_time": "2022-03-12T18:51:09.826Z"
   },
   {
    "duration": 9,
    "start_time": "2022-03-12T18:51:17.582Z"
   },
   {
    "duration": 8,
    "start_time": "2022-03-12T19:46:02.442Z"
   },
   {
    "duration": 8,
    "start_time": "2022-03-12T19:46:09.457Z"
   },
   {
    "duration": 166,
    "start_time": "2022-03-12T19:49:37.610Z"
   },
   {
    "duration": 169,
    "start_time": "2022-03-12T19:49:57.217Z"
   },
   {
    "duration": 164,
    "start_time": "2022-03-12T19:50:13.094Z"
   },
   {
    "duration": 4,
    "start_time": "2022-03-12T19:55:53.746Z"
   },
   {
    "duration": 25,
    "start_time": "2022-03-12T19:56:14.758Z"
   },
   {
    "duration": 334,
    "start_time": "2022-03-13T18:48:15.317Z"
   },
   {
    "duration": 869,
    "start_time": "2022-03-13T18:48:23.939Z"
   },
   {
    "duration": 27,
    "start_time": "2022-03-13T18:48:24.810Z"
   },
   {
    "duration": 115,
    "start_time": "2022-03-13T18:48:24.839Z"
   },
   {
    "duration": 162,
    "start_time": "2022-03-13T18:48:24.956Z"
   },
   {
    "duration": 25,
    "start_time": "2022-03-13T18:48:25.120Z"
   },
   {
    "duration": 99,
    "start_time": "2022-03-13T18:48:25.147Z"
   },
   {
    "duration": 94,
    "start_time": "2022-03-13T18:48:25.247Z"
   },
   {
    "duration": 22,
    "start_time": "2022-03-13T18:48:25.343Z"
   },
   {
    "duration": 41,
    "start_time": "2022-03-13T18:48:25.368Z"
   },
   {
    "duration": 13,
    "start_time": "2022-03-13T18:48:25.412Z"
   },
   {
    "duration": 106,
    "start_time": "2022-03-13T18:48:25.427Z"
   },
   {
    "duration": 92,
    "start_time": "2022-03-13T18:48:25.534Z"
   },
   {
    "duration": 56,
    "start_time": "2022-03-13T18:48:25.627Z"
   },
   {
    "duration": 47,
    "start_time": "2022-03-13T18:48:25.685Z"
   },
   {
    "duration": 22,
    "start_time": "2022-03-13T18:48:25.733Z"
   },
   {
    "duration": 18,
    "start_time": "2022-03-13T18:48:25.757Z"
   },
   {
    "duration": 48,
    "start_time": "2022-03-13T18:48:25.777Z"
   },
   {
    "duration": 10,
    "start_time": "2022-03-13T18:48:25.827Z"
   },
   {
    "duration": 12,
    "start_time": "2022-03-13T18:48:25.838Z"
   },
   {
    "duration": 9,
    "start_time": "2022-03-13T18:48:25.852Z"
   },
   {
    "duration": 10,
    "start_time": "2022-03-13T18:48:25.863Z"
   },
   {
    "duration": 53,
    "start_time": "2022-03-13T18:48:25.875Z"
   },
   {
    "duration": 14,
    "start_time": "2022-03-13T18:48:25.930Z"
   },
   {
    "duration": 10,
    "start_time": "2022-03-13T18:48:25.946Z"
   },
   {
    "duration": 27,
    "start_time": "2022-03-13T18:48:25.958Z"
   },
   {
    "duration": 46,
    "start_time": "2022-03-13T18:48:25.987Z"
   },
   {
    "duration": 105,
    "start_time": "2022-03-13T18:48:26.035Z"
   },
   {
    "duration": -28,
    "start_time": "2022-03-13T18:48:26.169Z"
   },
   {
    "duration": -30,
    "start_time": "2022-03-13T18:48:26.172Z"
   },
   {
    "duration": -31,
    "start_time": "2022-03-13T18:48:26.174Z"
   },
   {
    "duration": 154,
    "start_time": "2022-03-13T18:48:56.633Z"
   },
   {
    "duration": 40,
    "start_time": "2022-03-13T18:48:56.788Z"
   },
   {
    "duration": 111,
    "start_time": "2022-03-13T18:48:56.830Z"
   },
   {
    "duration": 135,
    "start_time": "2022-03-13T18:48:56.943Z"
   },
   {
    "duration": 16,
    "start_time": "2022-03-13T18:48:57.079Z"
   },
   {
    "duration": 71,
    "start_time": "2022-03-13T18:48:57.097Z"
   },
   {
    "duration": 97,
    "start_time": "2022-03-13T18:48:57.170Z"
   },
   {
    "duration": 21,
    "start_time": "2022-03-13T18:48:57.271Z"
   },
   {
    "duration": 44,
    "start_time": "2022-03-13T18:48:57.294Z"
   },
   {
    "duration": 11,
    "start_time": "2022-03-13T18:48:57.340Z"
   },
   {
    "duration": 94,
    "start_time": "2022-03-13T18:48:57.352Z"
   },
   {
    "duration": 81,
    "start_time": "2022-03-13T18:48:57.447Z"
   },
   {
    "duration": 55,
    "start_time": "2022-03-13T18:48:57.530Z"
   },
   {
    "duration": 48,
    "start_time": "2022-03-13T18:48:57.586Z"
   },
   {
    "duration": 29,
    "start_time": "2022-03-13T18:48:57.636Z"
   },
   {
    "duration": 63,
    "start_time": "2022-03-13T18:48:57.667Z"
   },
   {
    "duration": 17,
    "start_time": "2022-03-13T18:48:57.732Z"
   },
   {
    "duration": 8,
    "start_time": "2022-03-13T18:48:57.751Z"
   },
   {
    "duration": 9,
    "start_time": "2022-03-13T18:48:57.760Z"
   },
   {
    "duration": 10,
    "start_time": "2022-03-13T18:48:57.770Z"
   },
   {
    "duration": 25,
    "start_time": "2022-03-13T18:48:57.782Z"
   },
   {
    "duration": 29,
    "start_time": "2022-03-13T18:48:57.810Z"
   },
   {
    "duration": 14,
    "start_time": "2022-03-13T18:48:57.842Z"
   },
   {
    "duration": 10,
    "start_time": "2022-03-13T18:48:57.858Z"
   },
   {
    "duration": 20,
    "start_time": "2022-03-13T18:48:57.870Z"
   },
   {
    "duration": 35,
    "start_time": "2022-03-13T18:48:57.905Z"
   },
   {
    "duration": 114,
    "start_time": "2022-03-13T18:48:57.941Z"
   },
   {
    "duration": -79,
    "start_time": "2022-03-13T18:48:58.136Z"
   },
   {
    "duration": -80,
    "start_time": "2022-03-13T18:48:58.138Z"
   },
   {
    "duration": -82,
    "start_time": "2022-03-13T18:48:58.140Z"
   },
   {
    "duration": 7705,
    "start_time": "2022-03-13T18:49:31.923Z"
   },
   {
    "duration": 515,
    "start_time": "2022-03-13T18:49:51.640Z"
   },
   {
    "duration": 850,
    "start_time": "2022-03-13T18:49:57.939Z"
   },
   {
    "duration": 33,
    "start_time": "2022-03-13T18:49:58.791Z"
   },
   {
    "duration": 158,
    "start_time": "2022-03-13T18:49:58.826Z"
   },
   {
    "duration": 145,
    "start_time": "2022-03-13T18:49:58.986Z"
   },
   {
    "duration": 16,
    "start_time": "2022-03-13T18:49:59.132Z"
   },
   {
    "duration": 93,
    "start_time": "2022-03-13T18:49:59.150Z"
   },
   {
    "duration": 92,
    "start_time": "2022-03-13T18:49:59.245Z"
   },
   {
    "duration": 21,
    "start_time": "2022-03-13T18:49:59.340Z"
   },
   {
    "duration": 44,
    "start_time": "2022-03-13T18:49:59.363Z"
   },
   {
    "duration": 16,
    "start_time": "2022-03-13T18:49:59.409Z"
   },
   {
    "duration": 110,
    "start_time": "2022-03-13T18:49:59.427Z"
   },
   {
    "duration": 85,
    "start_time": "2022-03-13T18:49:59.539Z"
   },
   {
    "duration": 53,
    "start_time": "2022-03-13T18:49:59.626Z"
   },
   {
    "duration": 45,
    "start_time": "2022-03-13T18:49:59.681Z"
   },
   {
    "duration": 20,
    "start_time": "2022-03-13T18:49:59.728Z"
   },
   {
    "duration": 15,
    "start_time": "2022-03-13T18:49:59.750Z"
   },
   {
    "duration": 15,
    "start_time": "2022-03-13T18:49:59.766Z"
   },
   {
    "duration": 14,
    "start_time": "2022-03-13T18:49:59.807Z"
   },
   {
    "duration": 11,
    "start_time": "2022-03-13T18:49:59.822Z"
   },
   {
    "duration": 8,
    "start_time": "2022-03-13T18:49:59.834Z"
   },
   {
    "duration": 9,
    "start_time": "2022-03-13T18:49:59.843Z"
   },
   {
    "duration": 21,
    "start_time": "2022-03-13T18:49:59.854Z"
   },
   {
    "duration": 47,
    "start_time": "2022-03-13T18:49:59.877Z"
   },
   {
    "duration": 8,
    "start_time": "2022-03-13T18:49:59.926Z"
   },
   {
    "duration": 17,
    "start_time": "2022-03-13T18:49:59.936Z"
   },
   {
    "duration": 23,
    "start_time": "2022-03-13T18:49:59.954Z"
   },
   {
    "duration": 120,
    "start_time": "2022-03-13T18:49:59.979Z"
   },
   {
    "duration": -118,
    "start_time": "2022-03-13T18:50:00.219Z"
   },
   {
    "duration": -119,
    "start_time": "2022-03-13T18:50:00.221Z"
   },
   {
    "duration": -120,
    "start_time": "2022-03-13T18:50:00.223Z"
   },
   {
    "duration": 177,
    "start_time": "2022-03-13T18:51:15.368Z"
   },
   {
    "duration": 19,
    "start_time": "2022-03-13T18:51:15.547Z"
   },
   {
    "duration": 110,
    "start_time": "2022-03-13T18:51:15.568Z"
   },
   {
    "duration": 139,
    "start_time": "2022-03-13T18:51:15.680Z"
   },
   {
    "duration": 16,
    "start_time": "2022-03-13T18:51:15.821Z"
   },
   {
    "duration": 88,
    "start_time": "2022-03-13T18:51:15.839Z"
   },
   {
    "duration": 95,
    "start_time": "2022-03-13T18:51:15.929Z"
   },
   {
    "duration": 23,
    "start_time": "2022-03-13T18:51:16.026Z"
   },
   {
    "duration": 37,
    "start_time": "2022-03-13T18:51:16.051Z"
   },
   {
    "duration": 11,
    "start_time": "2022-03-13T18:51:16.090Z"
   },
   {
    "duration": 100,
    "start_time": "2022-03-13T18:51:16.102Z"
   },
   {
    "duration": 72,
    "start_time": "2022-03-13T18:51:16.204Z"
   },
   {
    "duration": 76,
    "start_time": "2022-03-13T18:51:16.278Z"
   },
   {
    "duration": 25,
    "start_time": "2022-03-13T18:51:16.356Z"
   },
   {
    "duration": 43,
    "start_time": "2022-03-13T18:51:16.382Z"
   },
   {
    "duration": 15,
    "start_time": "2022-03-13T18:51:16.427Z"
   },
   {
    "duration": 16,
    "start_time": "2022-03-13T18:51:16.444Z"
   },
   {
    "duration": 8,
    "start_time": "2022-03-13T18:51:16.462Z"
   },
   {
    "duration": 39,
    "start_time": "2022-03-13T18:51:16.471Z"
   },
   {
    "duration": 17,
    "start_time": "2022-03-13T18:51:16.512Z"
   },
   {
    "duration": 10,
    "start_time": "2022-03-13T18:51:16.530Z"
   },
   {
    "duration": 17,
    "start_time": "2022-03-13T18:51:16.541Z"
   },
   {
    "duration": 14,
    "start_time": "2022-03-13T18:51:16.559Z"
   },
   {
    "duration": 41,
    "start_time": "2022-03-13T18:51:16.574Z"
   },
   {
    "duration": 28,
    "start_time": "2022-03-13T18:51:16.618Z"
   },
   {
    "duration": 21,
    "start_time": "2022-03-13T18:51:16.648Z"
   },
   {
    "duration": 121,
    "start_time": "2022-03-13T18:51:16.672Z"
   },
   {
    "duration": -132,
    "start_time": "2022-03-13T18:51:16.927Z"
   },
   {
    "duration": -135,
    "start_time": "2022-03-13T18:51:16.931Z"
   },
   {
    "duration": -137,
    "start_time": "2022-03-13T18:51:16.934Z"
   },
   {
    "duration": 187,
    "start_time": "2022-03-13T18:51:46.655Z"
   },
   {
    "duration": 21,
    "start_time": "2022-03-13T18:51:54.824Z"
   },
   {
    "duration": 150,
    "start_time": "2022-03-13T18:52:02.938Z"
   },
   {
    "duration": 6,
    "start_time": "2022-03-13T18:57:17.726Z"
   },
   {
    "duration": 10,
    "start_time": "2022-03-13T18:57:28.622Z"
   },
   {
    "duration": 167,
    "start_time": "2022-03-13T19:01:17.039Z"
   },
   {
    "duration": 107,
    "start_time": "2022-03-13T19:03:44.769Z"
   },
   {
    "duration": 370,
    "start_time": "2022-03-13T19:03:52.821Z"
   },
   {
    "duration": 104,
    "start_time": "2022-03-13T19:04:03.421Z"
   },
   {
    "duration": 3,
    "start_time": "2022-03-13T19:04:23.363Z"
   },
   {
    "duration": 3,
    "start_time": "2022-03-13T19:04:29.407Z"
   },
   {
    "duration": 3,
    "start_time": "2022-03-13T19:04:40.447Z"
   },
   {
    "duration": 3,
    "start_time": "2022-03-13T19:04:57.648Z"
   },
   {
    "duration": 227,
    "start_time": "2022-03-13T19:05:41.568Z"
   },
   {
    "duration": 203,
    "start_time": "2022-03-13T19:05:51.454Z"
   },
   {
    "duration": 180,
    "start_time": "2022-03-13T19:06:05.766Z"
   },
   {
    "duration": 182,
    "start_time": "2022-03-13T19:06:44.392Z"
   },
   {
    "duration": 3,
    "start_time": "2022-03-13T19:07:45.368Z"
   },
   {
    "duration": 789,
    "start_time": "2022-03-13T19:09:22.345Z"
   },
   {
    "duration": 21,
    "start_time": "2022-03-13T19:09:23.136Z"
   },
   {
    "duration": 117,
    "start_time": "2022-03-13T19:09:23.159Z"
   },
   {
    "duration": 128,
    "start_time": "2022-03-13T19:09:23.278Z"
   },
   {
    "duration": 17,
    "start_time": "2022-03-13T19:09:23.408Z"
   },
   {
    "duration": 78,
    "start_time": "2022-03-13T19:09:23.427Z"
   },
   {
    "duration": 88,
    "start_time": "2022-03-13T19:09:23.508Z"
   },
   {
    "duration": 21,
    "start_time": "2022-03-13T19:09:23.599Z"
   },
   {
    "duration": 40,
    "start_time": "2022-03-13T19:09:23.623Z"
   },
   {
    "duration": 11,
    "start_time": "2022-03-13T19:09:23.664Z"
   },
   {
    "duration": 90,
    "start_time": "2022-03-13T19:09:23.677Z"
   },
   {
    "duration": 76,
    "start_time": "2022-03-13T19:09:23.769Z"
   },
   {
    "duration": 69,
    "start_time": "2022-03-13T19:09:23.847Z"
   },
   {
    "duration": 22,
    "start_time": "2022-03-13T19:09:23.918Z"
   },
   {
    "duration": 20,
    "start_time": "2022-03-13T19:09:23.941Z"
   },
   {
    "duration": 13,
    "start_time": "2022-03-13T19:09:23.963Z"
   },
   {
    "duration": 39,
    "start_time": "2022-03-13T19:09:23.978Z"
   },
   {
    "duration": 7,
    "start_time": "2022-03-13T19:09:24.019Z"
   },
   {
    "duration": 10,
    "start_time": "2022-03-13T19:09:24.028Z"
   },
   {
    "duration": 12,
    "start_time": "2022-03-13T19:09:24.039Z"
   },
   {
    "duration": 10,
    "start_time": "2022-03-13T19:09:24.052Z"
   },
   {
    "duration": 46,
    "start_time": "2022-03-13T19:09:24.063Z"
   },
   {
    "duration": 13,
    "start_time": "2022-03-13T19:09:24.112Z"
   },
   {
    "duration": 7,
    "start_time": "2022-03-13T19:09:24.127Z"
   },
   {
    "duration": 18,
    "start_time": "2022-03-13T19:09:24.136Z"
   },
   {
    "duration": 24,
    "start_time": "2022-03-13T19:09:24.155Z"
   },
   {
    "duration": 181,
    "start_time": "2022-03-13T19:09:24.180Z"
   },
   {
    "duration": 20,
    "start_time": "2022-03-13T19:09:24.363Z"
   },
   {
    "duration": 145,
    "start_time": "2022-03-13T19:09:24.385Z"
   },
   {
    "duration": 7,
    "start_time": "2022-03-13T19:09:24.532Z"
   },
   {
    "duration": 195,
    "start_time": "2022-03-13T19:09:24.541Z"
   },
   {
    "duration": 94,
    "start_time": "2022-03-13T19:09:24.738Z"
   },
   {
    "duration": 33,
    "start_time": "2022-03-13T19:12:45.567Z"
   },
   {
    "duration": 19,
    "start_time": "2022-03-13T19:13:20.124Z"
   },
   {
    "duration": 20,
    "start_time": "2022-03-13T19:13:46.757Z"
   },
   {
    "duration": 10,
    "start_time": "2022-03-13T19:18:57.844Z"
   },
   {
    "duration": 13,
    "start_time": "2022-03-13T19:19:22.399Z"
   },
   {
    "duration": 6,
    "start_time": "2022-03-13T19:20:03.556Z"
   },
   {
    "duration": 196,
    "start_time": "2022-03-13T19:20:13.750Z"
   },
   {
    "duration": 7,
    "start_time": "2022-03-13T19:20:18.055Z"
   },
   {
    "duration": 7598,
    "start_time": "2022-03-13T19:28:02.624Z"
   },
   {
    "duration": 18,
    "start_time": "2022-03-13T19:28:24.482Z"
   },
   {
    "duration": 17,
    "start_time": "2022-03-13T19:29:00.371Z"
   },
   {
    "duration": 311,
    "start_time": "2022-03-13T19:45:39.748Z"
   },
   {
    "duration": 309,
    "start_time": "2022-03-13T19:46:37.765Z"
   },
   {
    "duration": 320,
    "start_time": "2022-03-13T19:46:44.813Z"
   },
   {
    "duration": 121,
    "start_time": "2022-03-13T19:51:04.369Z"
   },
   {
    "duration": 5,
    "start_time": "2022-03-13T19:51:09.356Z"
   },
   {
    "duration": 26,
    "start_time": "2022-03-13T19:51:16.741Z"
   },
   {
    "duration": 21,
    "start_time": "2022-03-13T19:51:28.142Z"
   },
   {
    "duration": 18,
    "start_time": "2022-03-13T19:51:58.360Z"
   },
   {
    "duration": 135,
    "start_time": "2022-03-13T19:52:13.620Z"
   },
   {
    "duration": 206,
    "start_time": "2022-03-13T19:53:37.404Z"
   },
   {
    "duration": 7,
    "start_time": "2022-03-13T19:56:43.357Z"
   },
   {
    "duration": 12,
    "start_time": "2022-03-13T19:57:43.706Z"
   },
   {
    "duration": 202,
    "start_time": "2022-03-13T19:58:35.250Z"
   },
   {
    "duration": 208,
    "start_time": "2022-03-13T19:59:18.821Z"
   },
   {
    "duration": 253,
    "start_time": "2022-03-13T20:00:40.466Z"
   },
   {
    "duration": 228,
    "start_time": "2022-03-13T20:00:53.008Z"
   },
   {
    "duration": 217,
    "start_time": "2022-03-13T20:02:09.549Z"
   },
   {
    "duration": 21,
    "start_time": "2022-03-13T20:03:03.587Z"
   },
   {
    "duration": 22,
    "start_time": "2022-03-13T20:04:35.843Z"
   },
   {
    "duration": 177,
    "start_time": "2022-03-13T20:06:13.035Z"
   },
   {
    "duration": 17,
    "start_time": "2022-03-13T20:07:03.332Z"
   },
   {
    "duration": 24,
    "start_time": "2022-03-13T20:09:42.530Z"
   },
   {
    "duration": 312,
    "start_time": "2022-03-15T21:05:24.940Z"
   },
   {
    "duration": 267,
    "start_time": "2022-03-15T21:05:33.002Z"
   },
   {
    "duration": 909,
    "start_time": "2022-03-15T21:05:56.236Z"
   },
   {
    "duration": 24,
    "start_time": "2022-03-15T21:05:57.147Z"
   },
   {
    "duration": 132,
    "start_time": "2022-03-15T21:05:57.173Z"
   },
   {
    "duration": 146,
    "start_time": "2022-03-15T21:05:57.307Z"
   },
   {
    "duration": 19,
    "start_time": "2022-03-15T21:05:57.454Z"
   },
   {
    "duration": 86,
    "start_time": "2022-03-15T21:05:57.475Z"
   },
   {
    "duration": 100,
    "start_time": "2022-03-15T21:05:57.563Z"
   },
   {
    "duration": 22,
    "start_time": "2022-03-15T21:05:57.664Z"
   },
   {
    "duration": 59,
    "start_time": "2022-03-15T21:05:57.689Z"
   },
   {
    "duration": 11,
    "start_time": "2022-03-15T21:05:57.751Z"
   },
   {
    "duration": 113,
    "start_time": "2022-03-15T21:05:57.764Z"
   },
   {
    "duration": 91,
    "start_time": "2022-03-15T21:05:57.879Z"
   },
   {
    "duration": 74,
    "start_time": "2022-03-15T21:05:57.971Z"
   },
   {
    "duration": 26,
    "start_time": "2022-03-15T21:05:58.047Z"
   },
   {
    "duration": 25,
    "start_time": "2022-03-15T21:05:58.075Z"
   },
   {
    "duration": 43,
    "start_time": "2022-03-15T21:05:58.102Z"
   },
   {
    "duration": 18,
    "start_time": "2022-03-15T21:05:58.147Z"
   },
   {
    "duration": 9,
    "start_time": "2022-03-15T21:05:58.167Z"
   },
   {
    "duration": 10,
    "start_time": "2022-03-15T21:05:58.178Z"
   },
   {
    "duration": 45,
    "start_time": "2022-03-15T21:05:58.190Z"
   },
   {
    "duration": 12,
    "start_time": "2022-03-15T21:05:58.237Z"
   },
   {
    "duration": 29,
    "start_time": "2022-03-15T21:05:58.251Z"
   },
   {
    "duration": 18,
    "start_time": "2022-03-15T21:05:58.282Z"
   },
   {
    "duration": 35,
    "start_time": "2022-03-15T21:05:58.301Z"
   },
   {
    "duration": 23,
    "start_time": "2022-03-15T21:05:58.338Z"
   },
   {
    "duration": 28,
    "start_time": "2022-03-15T21:05:58.363Z"
   },
   {
    "duration": 189,
    "start_time": "2022-03-15T21:05:58.394Z"
   },
   {
    "duration": 22,
    "start_time": "2022-03-15T21:05:58.585Z"
   },
   {
    "duration": 40,
    "start_time": "2022-03-15T21:05:58.609Z"
   },
   {
    "duration": 21,
    "start_time": "2022-03-15T21:05:58.650Z"
   },
   {
    "duration": 187,
    "start_time": "2022-03-15T21:05:58.672Z"
   },
   {
    "duration": 174,
    "start_time": "2022-03-15T21:05:58.861Z"
   },
   {
    "duration": 9,
    "start_time": "2022-03-15T21:05:59.037Z"
   },
   {
    "duration": 8,
    "start_time": "2022-03-15T21:05:59.047Z"
   },
   {
    "duration": 301,
    "start_time": "2022-03-15T21:05:59.057Z"
   },
   {
    "duration": 326,
    "start_time": "2022-03-15T21:05:59.360Z"
   },
   {
    "duration": 130,
    "start_time": "2022-03-15T21:05:59.688Z"
   },
   {
    "duration": 45,
    "start_time": "2022-03-15T21:05:59.775Z"
   },
   {
    "duration": 41,
    "start_time": "2022-03-15T21:05:59.780Z"
   },
   {
    "duration": 38,
    "start_time": "2022-03-15T21:05:59.785Z"
   },
   {
    "duration": 35,
    "start_time": "2022-03-15T21:05:59.789Z"
   },
   {
    "duration": 33,
    "start_time": "2022-03-15T21:05:59.792Z"
   },
   {
    "duration": 31,
    "start_time": "2022-03-15T21:05:59.795Z"
   },
   {
    "duration": 28,
    "start_time": "2022-03-15T21:05:59.799Z"
   },
   {
    "duration": 24,
    "start_time": "2022-03-15T21:05:59.804Z"
   },
   {
    "duration": 22,
    "start_time": "2022-03-15T21:06:20.417Z"
   },
   {
    "duration": 337,
    "start_time": "2022-03-15T21:07:39.172Z"
   },
   {
    "duration": 330,
    "start_time": "2022-03-15T21:08:28.812Z"
   },
   {
    "duration": 338,
    "start_time": "2022-03-15T21:08:41.580Z"
   },
   {
    "duration": 104,
    "start_time": "2022-03-15T21:14:09.848Z"
   },
   {
    "duration": 15,
    "start_time": "2022-03-15T21:15:15.094Z"
   },
   {
    "duration": 17,
    "start_time": "2022-03-15T21:15:34.770Z"
   },
   {
    "duration": 249,
    "start_time": "2022-03-15T21:18:25.984Z"
   },
   {
    "duration": 495,
    "start_time": "2022-03-15T21:18:58.476Z"
   },
   {
    "duration": 543,
    "start_time": "2022-03-15T21:19:24.063Z"
   },
   {
    "duration": 504,
    "start_time": "2022-03-15T21:19:35.383Z"
   },
   {
    "duration": 586,
    "start_time": "2022-03-15T21:19:41.153Z"
   },
   {
    "duration": 519,
    "start_time": "2022-03-15T21:19:45.782Z"
   },
   {
    "duration": 487,
    "start_time": "2022-03-15T21:19:50.992Z"
   },
   {
    "duration": 82,
    "start_time": "2022-03-15T21:21:45.614Z"
   },
   {
    "duration": 373,
    "start_time": "2022-03-16T19:09:54.739Z"
   },
   {
    "duration": 838,
    "start_time": "2022-03-16T19:10:01.580Z"
   },
   {
    "duration": 19,
    "start_time": "2022-03-16T19:10:02.419Z"
   },
   {
    "duration": 113,
    "start_time": "2022-03-16T19:10:02.440Z"
   },
   {
    "duration": 129,
    "start_time": "2022-03-16T19:10:02.555Z"
   },
   {
    "duration": 16,
    "start_time": "2022-03-16T19:10:02.686Z"
   },
   {
    "duration": 84,
    "start_time": "2022-03-16T19:10:02.703Z"
   },
   {
    "duration": 92,
    "start_time": "2022-03-16T19:10:02.789Z"
   },
   {
    "duration": 21,
    "start_time": "2022-03-16T19:10:02.883Z"
   },
   {
    "duration": 44,
    "start_time": "2022-03-16T19:10:02.907Z"
   },
   {
    "duration": 12,
    "start_time": "2022-03-16T19:10:02.953Z"
   },
   {
    "duration": 103,
    "start_time": "2022-03-16T19:10:02.967Z"
   },
   {
    "duration": 70,
    "start_time": "2022-03-16T19:10:03.072Z"
   },
   {
    "duration": 77,
    "start_time": "2022-03-16T19:10:03.144Z"
   },
   {
    "duration": 25,
    "start_time": "2022-03-16T19:10:03.223Z"
   },
   {
    "duration": 45,
    "start_time": "2022-03-16T19:10:03.251Z"
   },
   {
    "duration": 15,
    "start_time": "2022-03-16T19:10:03.297Z"
   },
   {
    "duration": 16,
    "start_time": "2022-03-16T19:10:03.314Z"
   },
   {
    "duration": 9,
    "start_time": "2022-03-16T19:10:03.332Z"
   },
   {
    "duration": 17,
    "start_time": "2022-03-16T19:10:03.343Z"
   },
   {
    "duration": 24,
    "start_time": "2022-03-16T19:10:03.361Z"
   },
   {
    "duration": 11,
    "start_time": "2022-03-16T19:10:03.386Z"
   },
   {
    "duration": 25,
    "start_time": "2022-03-16T19:10:03.399Z"
   },
   {
    "duration": 14,
    "start_time": "2022-03-16T19:10:03.426Z"
   },
   {
    "duration": 7,
    "start_time": "2022-03-16T19:10:03.442Z"
   },
   {
    "duration": 36,
    "start_time": "2022-03-16T19:10:03.451Z"
   },
   {
    "duration": 26,
    "start_time": "2022-03-16T19:10:03.489Z"
   },
   {
    "duration": 167,
    "start_time": "2022-03-16T19:10:03.518Z"
   },
   {
    "duration": 18,
    "start_time": "2022-03-16T19:10:03.687Z"
   },
   {
    "duration": 53,
    "start_time": "2022-03-16T19:10:03.707Z"
   },
   {
    "duration": 17,
    "start_time": "2022-03-16T19:10:03.761Z"
   },
   {
    "duration": 129,
    "start_time": "2022-03-16T19:10:03.780Z"
   },
   {
    "duration": 142,
    "start_time": "2022-03-16T19:10:03.910Z"
   },
   {
    "duration": 7,
    "start_time": "2022-03-16T19:10:04.054Z"
   },
   {
    "duration": 23,
    "start_time": "2022-03-16T19:10:04.062Z"
   },
   {
    "duration": 218,
    "start_time": "2022-03-16T19:10:04.087Z"
   },
   {
    "duration": 259,
    "start_time": "2022-03-16T19:10:04.307Z"
   },
   {
    "duration": 104,
    "start_time": "2022-03-16T19:10:04.568Z"
   },
   {
    "duration": -30,
    "start_time": "2022-03-16T19:10:04.704Z"
   },
   {
    "duration": -32,
    "start_time": "2022-03-16T19:10:04.707Z"
   },
   {
    "duration": -35,
    "start_time": "2022-03-16T19:10:04.711Z"
   },
   {
    "duration": -36,
    "start_time": "2022-03-16T19:10:04.713Z"
   },
   {
    "duration": -39,
    "start_time": "2022-03-16T19:10:04.716Z"
   },
   {
    "duration": -41,
    "start_time": "2022-03-16T19:10:04.719Z"
   },
   {
    "duration": -45,
    "start_time": "2022-03-16T19:10:04.724Z"
   },
   {
    "duration": -47,
    "start_time": "2022-03-16T19:10:04.727Z"
   },
   {
    "duration": -50,
    "start_time": "2022-03-16T19:10:04.731Z"
   },
   {
    "duration": -59,
    "start_time": "2022-03-16T19:10:04.741Z"
   },
   {
    "duration": -62,
    "start_time": "2022-03-16T19:10:04.745Z"
   },
   {
    "duration": -64,
    "start_time": "2022-03-16T19:10:04.748Z"
   },
   {
    "duration": 159,
    "start_time": "2022-03-16T19:10:40.102Z"
   },
   {
    "duration": 33,
    "start_time": "2022-03-16T19:10:40.264Z"
   },
   {
    "duration": 108,
    "start_time": "2022-03-16T19:10:40.299Z"
   },
   {
    "duration": 120,
    "start_time": "2022-03-16T19:10:40.409Z"
   },
   {
    "duration": 16,
    "start_time": "2022-03-16T19:10:40.530Z"
   },
   {
    "duration": 68,
    "start_time": "2022-03-16T19:10:40.547Z"
   },
   {
    "duration": 85,
    "start_time": "2022-03-16T19:10:40.617Z"
   },
   {
    "duration": 20,
    "start_time": "2022-03-16T19:10:40.704Z"
   },
   {
    "duration": 33,
    "start_time": "2022-03-16T19:10:40.726Z"
   },
   {
    "duration": 10,
    "start_time": "2022-03-16T19:10:40.761Z"
   },
   {
    "duration": 82,
    "start_time": "2022-03-16T19:10:40.773Z"
   },
   {
    "duration": 63,
    "start_time": "2022-03-16T19:10:40.856Z"
   },
   {
    "duration": 65,
    "start_time": "2022-03-16T19:10:40.921Z"
   },
   {
    "duration": 21,
    "start_time": "2022-03-16T19:10:40.987Z"
   },
   {
    "duration": 20,
    "start_time": "2022-03-16T19:10:41.010Z"
   },
   {
    "duration": 16,
    "start_time": "2022-03-16T19:10:41.032Z"
   },
   {
    "duration": 41,
    "start_time": "2022-03-16T19:10:41.050Z"
   },
   {
    "duration": 10,
    "start_time": "2022-03-16T19:10:41.093Z"
   },
   {
    "duration": 10,
    "start_time": "2022-03-16T19:10:41.104Z"
   },
   {
    "duration": 10,
    "start_time": "2022-03-16T19:10:41.117Z"
   },
   {
    "duration": 10,
    "start_time": "2022-03-16T19:10:41.129Z"
   },
   {
    "duration": 51,
    "start_time": "2022-03-16T19:10:41.140Z"
   },
   {
    "duration": 13,
    "start_time": "2022-03-16T19:10:41.194Z"
   },
   {
    "duration": 7,
    "start_time": "2022-03-16T19:10:41.209Z"
   },
   {
    "duration": 17,
    "start_time": "2022-03-16T19:10:41.218Z"
   },
   {
    "duration": 47,
    "start_time": "2022-03-16T19:10:41.236Z"
   },
   {
    "duration": 143,
    "start_time": "2022-03-16T19:10:41.285Z"
   },
   {
    "duration": 17,
    "start_time": "2022-03-16T19:10:41.430Z"
   },
   {
    "duration": 16,
    "start_time": "2022-03-16T19:10:41.448Z"
   },
   {
    "duration": 29,
    "start_time": "2022-03-16T19:10:41.465Z"
   },
   {
    "duration": 134,
    "start_time": "2022-03-16T19:10:41.496Z"
   },
   {
    "duration": 129,
    "start_time": "2022-03-16T19:10:41.632Z"
   },
   {
    "duration": 21,
    "start_time": "2022-03-16T19:10:41.763Z"
   },
   {
    "duration": 7,
    "start_time": "2022-03-16T19:10:41.785Z"
   },
   {
    "duration": 203,
    "start_time": "2022-03-16T19:10:41.793Z"
   },
   {
    "duration": 195,
    "start_time": "2022-03-16T19:10:41.997Z"
   },
   {
    "duration": 97,
    "start_time": "2022-03-16T19:10:42.193Z"
   },
   {
    "duration": -50,
    "start_time": "2022-03-16T19:10:42.342Z"
   },
   {
    "duration": -52,
    "start_time": "2022-03-16T19:10:42.345Z"
   },
   {
    "duration": -53,
    "start_time": "2022-03-16T19:10:42.347Z"
   },
   {
    "duration": -55,
    "start_time": "2022-03-16T19:10:42.350Z"
   },
   {
    "duration": -58,
    "start_time": "2022-03-16T19:10:42.354Z"
   },
   {
    "duration": -59,
    "start_time": "2022-03-16T19:10:42.356Z"
   },
   {
    "duration": -61,
    "start_time": "2022-03-16T19:10:42.359Z"
   },
   {
    "duration": -64,
    "start_time": "2022-03-16T19:10:42.363Z"
   },
   {
    "duration": -68,
    "start_time": "2022-03-16T19:10:42.368Z"
   },
   {
    "duration": -71,
    "start_time": "2022-03-16T19:10:42.372Z"
   },
   {
    "duration": -73,
    "start_time": "2022-03-16T19:10:42.375Z"
   },
   {
    "duration": -75,
    "start_time": "2022-03-16T19:10:42.378Z"
   },
   {
    "duration": 16,
    "start_time": "2022-03-16T19:11:14.455Z"
   },
   {
    "duration": 15,
    "start_time": "2022-03-16T19:11:41.615Z"
   },
   {
    "duration": 269,
    "start_time": "2022-03-16T19:11:46.018Z"
   },
   {
    "duration": 12,
    "start_time": "2022-03-16T19:11:49.668Z"
   },
   {
    "duration": 226,
    "start_time": "2022-03-16T19:12:26.241Z"
   },
   {
    "duration": 13,
    "start_time": "2022-03-16T19:18:10.983Z"
   },
   {
    "duration": 12,
    "start_time": "2022-03-16T19:18:26.287Z"
   },
   {
    "duration": 364,
    "start_time": "2022-03-16T19:21:57.031Z"
   },
   {
    "duration": 17,
    "start_time": "2022-03-16T19:24:28.519Z"
   },
   {
    "duration": 17,
    "start_time": "2022-03-16T19:25:49.789Z"
   },
   {
    "duration": 301,
    "start_time": "2022-03-16T19:26:19.009Z"
   },
   {
    "duration": 11,
    "start_time": "2022-03-16T19:32:37.765Z"
   },
   {
    "duration": 16,
    "start_time": "2022-03-16T19:35:51.537Z"
   },
   {
    "duration": 71,
    "start_time": "2022-03-17T20:55:56.145Z"
   },
   {
    "duration": 1973,
    "start_time": "2022-03-17T20:56:12.718Z"
   },
   {
    "duration": 38,
    "start_time": "2022-03-17T20:56:14.693Z"
   },
   {
    "duration": 205,
    "start_time": "2022-03-17T20:56:14.733Z"
   },
   {
    "duration": 192,
    "start_time": "2022-03-17T20:56:14.941Z"
   },
   {
    "duration": 29,
    "start_time": "2022-03-17T20:56:15.135Z"
   },
   {
    "duration": 161,
    "start_time": "2022-03-17T20:56:15.167Z"
   },
   {
    "duration": 126,
    "start_time": "2022-03-17T20:56:15.330Z"
   },
   {
    "duration": 27,
    "start_time": "2022-03-17T20:56:15.458Z"
   },
   {
    "duration": 29,
    "start_time": "2022-03-17T20:56:15.488Z"
   },
   {
    "duration": 23,
    "start_time": "2022-03-17T20:56:15.521Z"
   },
   {
    "duration": 161,
    "start_time": "2022-03-17T20:56:15.546Z"
   },
   {
    "duration": 125,
    "start_time": "2022-03-17T20:56:15.710Z"
   },
   {
    "duration": 104,
    "start_time": "2022-03-17T20:56:15.837Z"
   },
   {
    "duration": 55,
    "start_time": "2022-03-17T20:56:15.943Z"
   },
   {
    "duration": 43,
    "start_time": "2022-03-17T20:56:16.000Z"
   },
   {
    "duration": 51,
    "start_time": "2022-03-17T20:56:16.045Z"
   },
   {
    "duration": 29,
    "start_time": "2022-03-17T20:56:16.099Z"
   },
   {
    "duration": 13,
    "start_time": "2022-03-17T20:56:16.130Z"
   },
   {
    "duration": 41,
    "start_time": "2022-03-17T20:56:16.146Z"
   },
   {
    "duration": 13,
    "start_time": "2022-03-17T20:56:16.189Z"
   },
   {
    "duration": 17,
    "start_time": "2022-03-17T20:56:16.204Z"
   },
   {
    "duration": 63,
    "start_time": "2022-03-17T20:56:16.223Z"
   },
   {
    "duration": 24,
    "start_time": "2022-03-17T20:56:16.288Z"
   },
   {
    "duration": 14,
    "start_time": "2022-03-17T20:56:16.315Z"
   },
   {
    "duration": 65,
    "start_time": "2022-03-17T20:56:16.331Z"
   },
   {
    "duration": 48,
    "start_time": "2022-03-17T20:56:16.398Z"
   },
   {
    "duration": 647,
    "start_time": "2022-03-17T20:56:16.450Z"
   },
   {
    "duration": 0,
    "start_time": "2022-03-17T20:56:17.103Z"
   },
   {
    "duration": 0,
    "start_time": "2022-03-17T20:56:17.105Z"
   },
   {
    "duration": 1,
    "start_time": "2022-03-17T20:56:17.108Z"
   },
   {
    "duration": 0,
    "start_time": "2022-03-17T20:56:17.110Z"
   },
   {
    "duration": 0,
    "start_time": "2022-03-17T20:56:17.112Z"
   },
   {
    "duration": 0,
    "start_time": "2022-03-17T20:56:17.115Z"
   },
   {
    "duration": 0,
    "start_time": "2022-03-17T20:56:17.118Z"
   },
   {
    "duration": 0,
    "start_time": "2022-03-17T20:56:17.119Z"
   },
   {
    "duration": 0,
    "start_time": "2022-03-17T20:56:17.124Z"
   },
   {
    "duration": 0,
    "start_time": "2022-03-17T20:56:17.126Z"
   },
   {
    "duration": 0,
    "start_time": "2022-03-17T20:56:17.128Z"
   },
   {
    "duration": 0,
    "start_time": "2022-03-17T20:56:17.130Z"
   },
   {
    "duration": 0,
    "start_time": "2022-03-17T20:56:17.132Z"
   },
   {
    "duration": 0,
    "start_time": "2022-03-17T20:56:17.135Z"
   },
   {
    "duration": 0,
    "start_time": "2022-03-17T20:56:17.137Z"
   },
   {
    "duration": 0,
    "start_time": "2022-03-17T20:56:17.139Z"
   },
   {
    "duration": 0,
    "start_time": "2022-03-17T20:56:17.184Z"
   },
   {
    "duration": 0,
    "start_time": "2022-03-17T20:56:17.187Z"
   },
   {
    "duration": 0,
    "start_time": "2022-03-17T20:56:17.189Z"
   },
   {
    "duration": 0,
    "start_time": "2022-03-17T20:56:17.191Z"
   },
   {
    "duration": 0,
    "start_time": "2022-03-17T20:56:17.193Z"
   },
   {
    "duration": 0,
    "start_time": "2022-03-17T20:56:17.194Z"
   },
   {
    "duration": 0,
    "start_time": "2022-03-17T20:56:17.196Z"
   },
   {
    "duration": 0,
    "start_time": "2022-03-17T20:56:17.197Z"
   },
   {
    "duration": 0,
    "start_time": "2022-03-17T20:56:17.199Z"
   },
   {
    "duration": 0,
    "start_time": "2022-03-17T20:56:17.200Z"
   },
   {
    "duration": 0,
    "start_time": "2022-03-17T20:56:17.202Z"
   },
   {
    "duration": 0,
    "start_time": "2022-03-17T20:56:17.203Z"
   },
   {
    "duration": 0,
    "start_time": "2022-03-17T20:56:17.205Z"
   },
   {
    "duration": 247,
    "start_time": "2022-03-17T20:56:52.923Z"
   },
   {
    "duration": 42,
    "start_time": "2022-03-17T20:56:53.172Z"
   },
   {
    "duration": 183,
    "start_time": "2022-03-17T20:56:53.216Z"
   },
   {
    "duration": 194,
    "start_time": "2022-03-17T20:56:53.402Z"
   },
   {
    "duration": 31,
    "start_time": "2022-03-17T20:56:53.599Z"
   },
   {
    "duration": 152,
    "start_time": "2022-03-17T20:56:53.632Z"
   },
   {
    "duration": 127,
    "start_time": "2022-03-17T20:56:53.786Z"
   },
   {
    "duration": 21,
    "start_time": "2022-03-17T20:56:53.916Z"
   },
   {
    "duration": 29,
    "start_time": "2022-03-17T20:56:53.940Z"
   },
   {
    "duration": 32,
    "start_time": "2022-03-17T20:56:53.971Z"
   },
   {
    "duration": 171,
    "start_time": "2022-03-17T20:56:54.006Z"
   },
   {
    "duration": 129,
    "start_time": "2022-03-17T20:56:54.183Z"
   },
   {
    "duration": 105,
    "start_time": "2022-03-17T20:56:54.315Z"
   },
   {
    "duration": 64,
    "start_time": "2022-03-17T20:56:54.425Z"
   },
   {
    "duration": 38,
    "start_time": "2022-03-17T20:56:54.492Z"
   },
   {
    "duration": 25,
    "start_time": "2022-03-17T20:56:54.532Z"
   },
   {
    "duration": 28,
    "start_time": "2022-03-17T20:56:54.584Z"
   },
   {
    "duration": 12,
    "start_time": "2022-03-17T20:56:54.614Z"
   },
   {
    "duration": 16,
    "start_time": "2022-03-17T20:56:54.628Z"
   },
   {
    "duration": 41,
    "start_time": "2022-03-17T20:56:54.646Z"
   },
   {
    "duration": 16,
    "start_time": "2022-03-17T20:56:54.690Z"
   },
   {
    "duration": 31,
    "start_time": "2022-03-17T20:56:54.708Z"
   },
   {
    "duration": 60,
    "start_time": "2022-03-17T20:56:54.741Z"
   },
   {
    "duration": 13,
    "start_time": "2022-03-17T20:56:54.804Z"
   },
   {
    "duration": 30,
    "start_time": "2022-03-17T20:56:54.819Z"
   },
   {
    "duration": 67,
    "start_time": "2022-03-17T20:56:54.851Z"
   },
   {
    "duration": 611,
    "start_time": "2022-03-17T20:56:54.920Z"
   },
   {
    "duration": 0,
    "start_time": "2022-03-17T20:56:55.534Z"
   },
   {
    "duration": 0,
    "start_time": "2022-03-17T20:56:55.536Z"
   },
   {
    "duration": 0,
    "start_time": "2022-03-17T20:56:55.538Z"
   },
   {
    "duration": 0,
    "start_time": "2022-03-17T20:56:55.539Z"
   },
   {
    "duration": 0,
    "start_time": "2022-03-17T20:56:55.541Z"
   },
   {
    "duration": 0,
    "start_time": "2022-03-17T20:56:55.542Z"
   },
   {
    "duration": 0,
    "start_time": "2022-03-17T20:56:55.543Z"
   },
   {
    "duration": 0,
    "start_time": "2022-03-17T20:56:55.545Z"
   },
   {
    "duration": 0,
    "start_time": "2022-03-17T20:56:55.546Z"
   },
   {
    "duration": 0,
    "start_time": "2022-03-17T20:56:55.548Z"
   },
   {
    "duration": 0,
    "start_time": "2022-03-17T20:56:55.549Z"
   },
   {
    "duration": 0,
    "start_time": "2022-03-17T20:56:55.550Z"
   },
   {
    "duration": 0,
    "start_time": "2022-03-17T20:56:55.551Z"
   },
   {
    "duration": 0,
    "start_time": "2022-03-17T20:56:55.553Z"
   },
   {
    "duration": 0,
    "start_time": "2022-03-17T20:56:55.554Z"
   },
   {
    "duration": 0,
    "start_time": "2022-03-17T20:56:55.555Z"
   },
   {
    "duration": 0,
    "start_time": "2022-03-17T20:56:55.556Z"
   },
   {
    "duration": 0,
    "start_time": "2022-03-17T20:56:55.557Z"
   },
   {
    "duration": 0,
    "start_time": "2022-03-17T20:56:55.559Z"
   },
   {
    "duration": 0,
    "start_time": "2022-03-17T20:56:55.560Z"
   },
   {
    "duration": 0,
    "start_time": "2022-03-17T20:56:55.562Z"
   },
   {
    "duration": 0,
    "start_time": "2022-03-17T20:56:55.563Z"
   },
   {
    "duration": 0,
    "start_time": "2022-03-17T20:56:55.564Z"
   },
   {
    "duration": 0,
    "start_time": "2022-03-17T20:56:55.566Z"
   },
   {
    "duration": 0,
    "start_time": "2022-03-17T20:56:55.567Z"
   },
   {
    "duration": 0,
    "start_time": "2022-03-17T20:56:55.568Z"
   },
   {
    "duration": 0,
    "start_time": "2022-03-17T20:56:55.570Z"
   },
   {
    "duration": 0,
    "start_time": "2022-03-17T20:56:55.571Z"
   },
   {
    "duration": 0,
    "start_time": "2022-03-17T20:56:55.584Z"
   },
   {
    "duration": 13,
    "start_time": "2022-03-17T20:57:55.871Z"
   },
   {
    "duration": 29,
    "start_time": "2022-03-17T20:58:18.278Z"
   },
   {
    "duration": 28,
    "start_time": "2022-03-17T20:58:20.844Z"
   },
   {
    "duration": 204,
    "start_time": "2022-03-17T20:58:23.583Z"
   },
   {
    "duration": 287,
    "start_time": "2022-03-17T20:58:38.977Z"
   },
   {
    "duration": 179,
    "start_time": "2022-03-17T20:58:52.122Z"
   },
   {
    "duration": 2230,
    "start_time": "2022-03-17T20:59:00.146Z"
   },
   {
    "duration": 2009,
    "start_time": "2022-03-17T20:59:03.003Z"
   },
   {
    "duration": 1954,
    "start_time": "2022-03-17T20:59:06.110Z"
   },
   {
    "duration": 1852,
    "start_time": "2022-03-17T20:59:08.293Z"
   },
   {
    "duration": 2190,
    "start_time": "2022-03-17T20:59:21.988Z"
   },
   {
    "duration": 30,
    "start_time": "2022-03-17T20:59:24.711Z"
   },
   {
    "duration": 1688,
    "start_time": "2022-03-17T20:59:31.781Z"
   },
   {
    "duration": 47,
    "start_time": "2022-03-17T20:59:33.472Z"
   },
   {
    "duration": 216,
    "start_time": "2022-03-17T20:59:33.521Z"
   },
   {
    "duration": 189,
    "start_time": "2022-03-17T20:59:33.740Z"
   },
   {
    "duration": 31,
    "start_time": "2022-03-17T20:59:33.931Z"
   },
   {
    "duration": 150,
    "start_time": "2022-03-17T20:59:33.983Z"
   },
   {
    "duration": 138,
    "start_time": "2022-03-17T20:59:34.135Z"
   },
   {
    "duration": 22,
    "start_time": "2022-03-17T20:59:34.275Z"
   },
   {
    "duration": 29,
    "start_time": "2022-03-17T20:59:34.300Z"
   },
   {
    "duration": 24,
    "start_time": "2022-03-17T20:59:34.332Z"
   },
   {
    "duration": 178,
    "start_time": "2022-03-17T20:59:34.358Z"
   },
   {
    "duration": 126,
    "start_time": "2022-03-17T20:59:34.539Z"
   },
   {
    "duration": 120,
    "start_time": "2022-03-17T20:59:34.668Z"
   },
   {
    "duration": 48,
    "start_time": "2022-03-17T20:59:34.791Z"
   },
   {
    "duration": 76,
    "start_time": "2022-03-17T20:59:34.842Z"
   },
   {
    "duration": 28,
    "start_time": "2022-03-17T20:59:34.920Z"
   },
   {
    "duration": 59,
    "start_time": "2022-03-17T20:59:34.950Z"
   },
   {
    "duration": 13,
    "start_time": "2022-03-17T20:59:35.011Z"
   },
   {
    "duration": 16,
    "start_time": "2022-03-17T20:59:35.026Z"
   },
   {
    "duration": 45,
    "start_time": "2022-03-17T20:59:35.044Z"
   },
   {
    "duration": 18,
    "start_time": "2022-03-17T20:59:35.091Z"
   },
   {
    "duration": 45,
    "start_time": "2022-03-17T20:59:35.111Z"
   },
   {
    "duration": 36,
    "start_time": "2022-03-17T20:59:35.158Z"
   },
   {
    "duration": 25,
    "start_time": "2022-03-17T20:59:35.197Z"
   },
   {
    "duration": 41,
    "start_time": "2022-03-17T20:59:35.225Z"
   },
   {
    "duration": 50,
    "start_time": "2022-03-17T20:59:35.268Z"
   },
   {
    "duration": 587,
    "start_time": "2022-03-17T20:59:35.320Z"
   },
   {
    "duration": 0,
    "start_time": "2022-03-17T20:59:35.911Z"
   },
   {
    "duration": 1,
    "start_time": "2022-03-17T20:59:35.912Z"
   },
   {
    "duration": 0,
    "start_time": "2022-03-17T20:59:35.914Z"
   },
   {
    "duration": 1,
    "start_time": "2022-03-17T20:59:35.915Z"
   },
   {
    "duration": 0,
    "start_time": "2022-03-17T20:59:35.917Z"
   },
   {
    "duration": 0,
    "start_time": "2022-03-17T20:59:35.919Z"
   },
   {
    "duration": 0,
    "start_time": "2022-03-17T20:59:35.921Z"
   },
   {
    "duration": 0,
    "start_time": "2022-03-17T20:59:35.924Z"
   },
   {
    "duration": 0,
    "start_time": "2022-03-17T20:59:35.926Z"
   },
   {
    "duration": 0,
    "start_time": "2022-03-17T20:59:35.928Z"
   },
   {
    "duration": 0,
    "start_time": "2022-03-17T20:59:35.929Z"
   },
   {
    "duration": 0,
    "start_time": "2022-03-17T20:59:35.931Z"
   },
   {
    "duration": 0,
    "start_time": "2022-03-17T20:59:35.933Z"
   },
   {
    "duration": 0,
    "start_time": "2022-03-17T20:59:35.935Z"
   },
   {
    "duration": 0,
    "start_time": "2022-03-17T20:59:35.936Z"
   },
   {
    "duration": 0,
    "start_time": "2022-03-17T20:59:35.938Z"
   },
   {
    "duration": 0,
    "start_time": "2022-03-17T20:59:35.939Z"
   },
   {
    "duration": 0,
    "start_time": "2022-03-17T20:59:35.941Z"
   },
   {
    "duration": 0,
    "start_time": "2022-03-17T20:59:35.943Z"
   },
   {
    "duration": 0,
    "start_time": "2022-03-17T20:59:35.944Z"
   },
   {
    "duration": 0,
    "start_time": "2022-03-17T20:59:35.945Z"
   },
   {
    "duration": 0,
    "start_time": "2022-03-17T20:59:35.946Z"
   },
   {
    "duration": 0,
    "start_time": "2022-03-17T20:59:35.984Z"
   },
   {
    "duration": 0,
    "start_time": "2022-03-17T20:59:35.986Z"
   },
   {
    "duration": 0,
    "start_time": "2022-03-17T20:59:35.988Z"
   },
   {
    "duration": 0,
    "start_time": "2022-03-17T20:59:35.989Z"
   },
   {
    "duration": 0,
    "start_time": "2022-03-17T20:59:35.992Z"
   },
   {
    "duration": 0,
    "start_time": "2022-03-17T20:59:35.993Z"
   },
   {
    "duration": 0,
    "start_time": "2022-03-17T20:59:35.995Z"
   },
   {
    "duration": 252,
    "start_time": "2022-03-17T20:59:40.681Z"
   },
   {
    "duration": 34,
    "start_time": "2022-03-17T20:59:40.936Z"
   },
   {
    "duration": 171,
    "start_time": "2022-03-17T20:59:40.984Z"
   },
   {
    "duration": 183,
    "start_time": "2022-03-17T20:59:41.158Z"
   },
   {
    "duration": 44,
    "start_time": "2022-03-17T20:59:41.344Z"
   },
   {
    "duration": 146,
    "start_time": "2022-03-17T20:59:41.391Z"
   },
   {
    "duration": 126,
    "start_time": "2022-03-17T20:59:41.539Z"
   },
   {
    "duration": 25,
    "start_time": "2022-03-17T20:59:41.667Z"
   },
   {
    "duration": 29,
    "start_time": "2022-03-17T20:59:41.694Z"
   },
   {
    "duration": 23,
    "start_time": "2022-03-17T20:59:41.725Z"
   },
   {
    "duration": 168,
    "start_time": "2022-03-17T20:59:41.750Z"
   },
   {
    "duration": 126,
    "start_time": "2022-03-17T20:59:41.920Z"
   },
   {
    "duration": 107,
    "start_time": "2022-03-17T20:59:42.049Z"
   },
   {
    "duration": 59,
    "start_time": "2022-03-17T20:59:42.160Z"
   },
   {
    "duration": 35,
    "start_time": "2022-03-17T20:59:42.221Z"
   },
   {
    "duration": 45,
    "start_time": "2022-03-17T20:59:42.258Z"
   },
   {
    "duration": 28,
    "start_time": "2022-03-17T20:59:42.305Z"
   },
   {
    "duration": 12,
    "start_time": "2022-03-17T20:59:42.335Z"
   },
   {
    "duration": 49,
    "start_time": "2022-03-17T20:59:42.350Z"
   },
   {
    "duration": 15,
    "start_time": "2022-03-17T20:59:42.401Z"
   },
   {
    "duration": 17,
    "start_time": "2022-03-17T20:59:42.418Z"
   },
   {
    "duration": 60,
    "start_time": "2022-03-17T20:59:42.437Z"
   },
   {
    "duration": 23,
    "start_time": "2022-03-17T20:59:42.499Z"
   },
   {
    "duration": 14,
    "start_time": "2022-03-17T20:59:42.525Z"
   },
   {
    "duration": 65,
    "start_time": "2022-03-17T20:59:42.542Z"
   },
   {
    "duration": 42,
    "start_time": "2022-03-17T20:59:42.609Z"
   },
   {
    "duration": 503,
    "start_time": "2022-03-17T20:59:42.654Z"
   },
   {
    "duration": 0,
    "start_time": "2022-03-17T20:59:43.160Z"
   },
   {
    "duration": 0,
    "start_time": "2022-03-17T20:59:43.162Z"
   },
   {
    "duration": 0,
    "start_time": "2022-03-17T20:59:43.164Z"
   },
   {
    "duration": 0,
    "start_time": "2022-03-17T20:59:43.165Z"
   },
   {
    "duration": 0,
    "start_time": "2022-03-17T20:59:43.167Z"
   },
   {
    "duration": 0,
    "start_time": "2022-03-17T20:59:43.169Z"
   },
   {
    "duration": 0,
    "start_time": "2022-03-17T20:59:43.171Z"
   },
   {
    "duration": 0,
    "start_time": "2022-03-17T20:59:43.173Z"
   },
   {
    "duration": 0,
    "start_time": "2022-03-17T20:59:43.174Z"
   },
   {
    "duration": 0,
    "start_time": "2022-03-17T20:59:43.176Z"
   },
   {
    "duration": 0,
    "start_time": "2022-03-17T20:59:43.177Z"
   },
   {
    "duration": 0,
    "start_time": "2022-03-17T20:59:43.179Z"
   },
   {
    "duration": 0,
    "start_time": "2022-03-17T20:59:43.180Z"
   },
   {
    "duration": 0,
    "start_time": "2022-03-17T20:59:43.182Z"
   },
   {
    "duration": 0,
    "start_time": "2022-03-17T20:59:43.183Z"
   },
   {
    "duration": 0,
    "start_time": "2022-03-17T20:59:43.185Z"
   },
   {
    "duration": 0,
    "start_time": "2022-03-17T20:59:43.187Z"
   },
   {
    "duration": 0,
    "start_time": "2022-03-17T20:59:43.188Z"
   },
   {
    "duration": 0,
    "start_time": "2022-03-17T20:59:43.190Z"
   },
   {
    "duration": 0,
    "start_time": "2022-03-17T20:59:43.192Z"
   },
   {
    "duration": 0,
    "start_time": "2022-03-17T20:59:43.194Z"
   },
   {
    "duration": 0,
    "start_time": "2022-03-17T20:59:43.195Z"
   },
   {
    "duration": 0,
    "start_time": "2022-03-17T20:59:43.197Z"
   },
   {
    "duration": 0,
    "start_time": "2022-03-17T20:59:43.199Z"
   },
   {
    "duration": 0,
    "start_time": "2022-03-17T20:59:43.201Z"
   },
   {
    "duration": 0,
    "start_time": "2022-03-17T20:59:43.202Z"
   },
   {
    "duration": 0,
    "start_time": "2022-03-17T20:59:43.204Z"
   },
   {
    "duration": 0,
    "start_time": "2022-03-17T20:59:43.206Z"
   },
   {
    "duration": 0,
    "start_time": "2022-03-17T20:59:43.207Z"
   },
   {
    "duration": 209,
    "start_time": "2022-03-17T20:59:53.412Z"
   },
   {
    "duration": 497,
    "start_time": "2022-03-17T21:00:11.331Z"
   },
   {
    "duration": 40,
    "start_time": "2022-03-17T21:00:24.483Z"
   },
   {
    "duration": 761,
    "start_time": "2022-03-17T21:00:28.310Z"
   },
   {
    "duration": 2294,
    "start_time": "2022-03-17T21:00:33.886Z"
   },
   {
    "duration": 219,
    "start_time": "2022-03-17T21:00:57.230Z"
   },
   {
    "duration": 35,
    "start_time": "2022-03-17T21:01:00.956Z"
   },
   {
    "duration": 158,
    "start_time": "2022-03-17T21:01:06.133Z"
   },
   {
    "duration": 177,
    "start_time": "2022-03-17T21:01:08.187Z"
   },
   {
    "duration": 29,
    "start_time": "2022-03-17T21:01:08.928Z"
   },
   {
    "duration": 134,
    "start_time": "2022-03-17T21:01:09.807Z"
   },
   {
    "duration": 123,
    "start_time": "2022-03-17T21:01:11.339Z"
   },
   {
    "duration": 30,
    "start_time": "2022-03-17T21:01:12.087Z"
   },
   {
    "duration": 29,
    "start_time": "2022-03-17T21:01:12.816Z"
   },
   {
    "duration": 23,
    "start_time": "2022-03-17T21:01:13.838Z"
   },
   {
    "duration": 142,
    "start_time": "2022-03-17T21:01:18.256Z"
   },
   {
    "duration": 258,
    "start_time": "2022-03-17T21:01:19.333Z"
   },
   {
    "duration": 98,
    "start_time": "2022-03-17T21:01:20.300Z"
   },
   {
    "duration": 45,
    "start_time": "2022-03-17T21:01:21.185Z"
   },
   {
    "duration": 39,
    "start_time": "2022-03-17T21:01:24.233Z"
   },
   {
    "duration": 25,
    "start_time": "2022-03-17T21:01:26.244Z"
   },
   {
    "duration": 30,
    "start_time": "2022-03-17T21:01:28.207Z"
   },
   {
    "duration": 12,
    "start_time": "2022-03-17T21:01:29.231Z"
   },
   {
    "duration": 17,
    "start_time": "2022-03-17T21:01:30.227Z"
   },
   {
    "duration": 14,
    "start_time": "2022-03-17T21:01:31.369Z"
   },
   {
    "duration": 17,
    "start_time": "2022-03-17T21:01:32.781Z"
   },
   {
    "duration": 28,
    "start_time": "2022-03-17T21:01:33.765Z"
   },
   {
    "duration": 22,
    "start_time": "2022-03-17T21:01:35.562Z"
   },
   {
    "duration": 13,
    "start_time": "2022-03-17T21:01:36.465Z"
   },
   {
    "duration": 31,
    "start_time": "2022-03-17T21:01:37.373Z"
   },
   {
    "duration": 40,
    "start_time": "2022-03-17T21:01:38.491Z"
   },
   {
    "duration": 464,
    "start_time": "2022-03-17T21:01:40.961Z"
   },
   {
    "duration": 1697,
    "start_time": "2022-03-17T21:02:16.591Z"
   },
   {
    "duration": 35,
    "start_time": "2022-03-17T21:02:18.291Z"
   },
   {
    "duration": 208,
    "start_time": "2022-03-17T21:02:18.328Z"
   },
   {
    "duration": 182,
    "start_time": "2022-03-17T21:02:18.539Z"
   },
   {
    "duration": 31,
    "start_time": "2022-03-17T21:02:18.723Z"
   },
   {
    "duration": 162,
    "start_time": "2022-03-17T21:02:18.757Z"
   },
   {
    "duration": 129,
    "start_time": "2022-03-17T21:02:18.921Z"
   },
   {
    "duration": 20,
    "start_time": "2022-03-17T21:02:19.052Z"
   },
   {
    "duration": 29,
    "start_time": "2022-03-17T21:02:19.083Z"
   },
   {
    "duration": 23,
    "start_time": "2022-03-17T21:02:19.116Z"
   },
   {
    "duration": 166,
    "start_time": "2022-03-17T21:02:19.142Z"
   },
   {
    "duration": 121,
    "start_time": "2022-03-17T21:02:19.310Z"
   },
   {
    "duration": 104,
    "start_time": "2022-03-17T21:02:19.433Z"
   },
   {
    "duration": 58,
    "start_time": "2022-03-17T21:02:19.540Z"
   },
   {
    "duration": 43,
    "start_time": "2022-03-17T21:02:19.601Z"
   },
   {
    "duration": 53,
    "start_time": "2022-03-17T21:02:19.646Z"
   },
   {
    "duration": 31,
    "start_time": "2022-03-17T21:02:19.702Z"
   },
   {
    "duration": 12,
    "start_time": "2022-03-17T21:02:19.735Z"
   },
   {
    "duration": 43,
    "start_time": "2022-03-17T21:02:19.750Z"
   },
   {
    "duration": 22,
    "start_time": "2022-03-17T21:02:19.795Z"
   },
   {
    "duration": 19,
    "start_time": "2022-03-17T21:02:19.820Z"
   },
   {
    "duration": 56,
    "start_time": "2022-03-17T21:02:19.842Z"
   },
   {
    "duration": 25,
    "start_time": "2022-03-17T21:02:19.901Z"
   },
   {
    "duration": 14,
    "start_time": "2022-03-17T21:02:19.929Z"
   },
   {
    "duration": 62,
    "start_time": "2022-03-17T21:02:19.946Z"
   },
   {
    "duration": 42,
    "start_time": "2022-03-17T21:02:20.011Z"
   },
   {
    "duration": 650,
    "start_time": "2022-03-17T21:02:20.056Z"
   },
   {
    "duration": 0,
    "start_time": "2022-03-17T21:02:20.710Z"
   },
   {
    "duration": 0,
    "start_time": "2022-03-17T21:02:20.711Z"
   },
   {
    "duration": 0,
    "start_time": "2022-03-17T21:02:20.713Z"
   },
   {
    "duration": 0,
    "start_time": "2022-03-17T21:02:20.714Z"
   },
   {
    "duration": 0,
    "start_time": "2022-03-17T21:02:20.716Z"
   },
   {
    "duration": 0,
    "start_time": "2022-03-17T21:02:20.717Z"
   },
   {
    "duration": 0,
    "start_time": "2022-03-17T21:02:20.720Z"
   },
   {
    "duration": 0,
    "start_time": "2022-03-17T21:02:20.722Z"
   },
   {
    "duration": 0,
    "start_time": "2022-03-17T21:02:20.723Z"
   },
   {
    "duration": 0,
    "start_time": "2022-03-17T21:02:20.724Z"
   },
   {
    "duration": 0,
    "start_time": "2022-03-17T21:02:20.726Z"
   },
   {
    "duration": 0,
    "start_time": "2022-03-17T21:02:20.727Z"
   },
   {
    "duration": 0,
    "start_time": "2022-03-17T21:02:20.728Z"
   },
   {
    "duration": 0,
    "start_time": "2022-03-17T21:02:20.730Z"
   },
   {
    "duration": 0,
    "start_time": "2022-03-17T21:02:20.731Z"
   },
   {
    "duration": 0,
    "start_time": "2022-03-17T21:02:20.733Z"
   },
   {
    "duration": 0,
    "start_time": "2022-03-17T21:02:20.734Z"
   },
   {
    "duration": 0,
    "start_time": "2022-03-17T21:02:20.736Z"
   },
   {
    "duration": 0,
    "start_time": "2022-03-17T21:02:20.737Z"
   },
   {
    "duration": 1,
    "start_time": "2022-03-17T21:02:20.740Z"
   },
   {
    "duration": 0,
    "start_time": "2022-03-17T21:02:20.742Z"
   },
   {
    "duration": 1,
    "start_time": "2022-03-17T21:02:20.743Z"
   },
   {
    "duration": 0,
    "start_time": "2022-03-17T21:02:20.745Z"
   },
   {
    "duration": 0,
    "start_time": "2022-03-17T21:02:20.747Z"
   },
   {
    "duration": 0,
    "start_time": "2022-03-17T21:02:20.748Z"
   },
   {
    "duration": 0,
    "start_time": "2022-03-17T21:02:20.784Z"
   },
   {
    "duration": 0,
    "start_time": "2022-03-17T21:02:20.786Z"
   },
   {
    "duration": 0,
    "start_time": "2022-03-17T21:02:20.787Z"
   },
   {
    "duration": 0,
    "start_time": "2022-03-17T21:02:20.789Z"
   },
   {
    "duration": 262,
    "start_time": "2022-03-17T21:02:40.167Z"
   },
   {
    "duration": 34,
    "start_time": "2022-03-17T21:02:40.432Z"
   },
   {
    "duration": 164,
    "start_time": "2022-03-17T21:02:40.484Z"
   },
   {
    "duration": 180,
    "start_time": "2022-03-17T21:02:40.651Z"
   },
   {
    "duration": 29,
    "start_time": "2022-03-17T21:02:40.833Z"
   },
   {
    "duration": 158,
    "start_time": "2022-03-17T21:02:40.865Z"
   },
   {
    "duration": 126,
    "start_time": "2022-03-17T21:02:41.025Z"
   },
   {
    "duration": 20,
    "start_time": "2022-03-17T21:02:41.154Z"
   },
   {
    "duration": 30,
    "start_time": "2022-03-17T21:02:41.184Z"
   },
   {
    "duration": 22,
    "start_time": "2022-03-17T21:02:41.217Z"
   },
   {
    "duration": 163,
    "start_time": "2022-03-17T21:02:41.242Z"
   },
   {
    "duration": 125,
    "start_time": "2022-03-17T21:02:41.407Z"
   },
   {
    "duration": 103,
    "start_time": "2022-03-17T21:02:41.534Z"
   },
   {
    "duration": 56,
    "start_time": "2022-03-17T21:02:41.639Z"
   },
   {
    "duration": 39,
    "start_time": "2022-03-17T21:02:41.697Z"
   },
   {
    "duration": 53,
    "start_time": "2022-03-17T21:02:41.738Z"
   },
   {
    "duration": 27,
    "start_time": "2022-03-17T21:02:41.793Z"
   },
   {
    "duration": 11,
    "start_time": "2022-03-17T21:02:41.822Z"
   },
   {
    "duration": 14,
    "start_time": "2022-03-17T21:02:41.835Z"
   },
   {
    "duration": 13,
    "start_time": "2022-03-17T21:02:41.884Z"
   },
   {
    "duration": 17,
    "start_time": "2022-03-17T21:02:41.899Z"
   },
   {
    "duration": 29,
    "start_time": "2022-03-17T21:02:41.918Z"
   },
   {
    "duration": 57,
    "start_time": "2022-03-17T21:02:41.950Z"
   },
   {
    "duration": 13,
    "start_time": "2022-03-17T21:02:42.010Z"
   },
   {
    "duration": 59,
    "start_time": "2022-03-17T21:02:42.025Z"
   },
   {
    "duration": 42,
    "start_time": "2022-03-17T21:02:42.087Z"
   },
   {
    "duration": 552,
    "start_time": "2022-03-17T21:02:42.131Z"
   },
   {
    "duration": 0,
    "start_time": "2022-03-17T21:02:42.687Z"
   },
   {
    "duration": 0,
    "start_time": "2022-03-17T21:02:42.689Z"
   },
   {
    "duration": 0,
    "start_time": "2022-03-17T21:02:42.691Z"
   },
   {
    "duration": 0,
    "start_time": "2022-03-17T21:02:42.692Z"
   },
   {
    "duration": 0,
    "start_time": "2022-03-17T21:02:42.694Z"
   },
   {
    "duration": 0,
    "start_time": "2022-03-17T21:02:42.696Z"
   },
   {
    "duration": 0,
    "start_time": "2022-03-17T21:02:42.697Z"
   },
   {
    "duration": 0,
    "start_time": "2022-03-17T21:02:42.698Z"
   },
   {
    "duration": 0,
    "start_time": "2022-03-17T21:02:42.700Z"
   },
   {
    "duration": 0,
    "start_time": "2022-03-17T21:02:42.701Z"
   },
   {
    "duration": 0,
    "start_time": "2022-03-17T21:02:42.703Z"
   },
   {
    "duration": 0,
    "start_time": "2022-03-17T21:02:42.704Z"
   },
   {
    "duration": 0,
    "start_time": "2022-03-17T21:02:42.705Z"
   },
   {
    "duration": 0,
    "start_time": "2022-03-17T21:02:42.706Z"
   },
   {
    "duration": 0,
    "start_time": "2022-03-17T21:02:42.707Z"
   },
   {
    "duration": 0,
    "start_time": "2022-03-17T21:02:42.708Z"
   },
   {
    "duration": 0,
    "start_time": "2022-03-17T21:02:42.710Z"
   },
   {
    "duration": 0,
    "start_time": "2022-03-17T21:02:42.711Z"
   },
   {
    "duration": 0,
    "start_time": "2022-03-17T21:02:42.712Z"
   },
   {
    "duration": 0,
    "start_time": "2022-03-17T21:02:42.713Z"
   },
   {
    "duration": 0,
    "start_time": "2022-03-17T21:02:42.714Z"
   },
   {
    "duration": 0,
    "start_time": "2022-03-17T21:02:42.715Z"
   },
   {
    "duration": 0,
    "start_time": "2022-03-17T21:02:42.717Z"
   },
   {
    "duration": 0,
    "start_time": "2022-03-17T21:02:42.718Z"
   },
   {
    "duration": 0,
    "start_time": "2022-03-17T21:02:42.720Z"
   },
   {
    "duration": 0,
    "start_time": "2022-03-17T21:02:42.721Z"
   },
   {
    "duration": 0,
    "start_time": "2022-03-17T21:02:42.723Z"
   },
   {
    "duration": 0,
    "start_time": "2022-03-17T21:02:42.784Z"
   },
   {
    "duration": 1,
    "start_time": "2022-03-17T21:02:42.785Z"
   },
   {
    "duration": 12,
    "start_time": "2022-03-17T21:02:55.227Z"
   },
   {
    "duration": 1805,
    "start_time": "2022-03-17T21:03:03.200Z"
   },
   {
    "duration": 11,
    "start_time": "2022-03-17T21:03:49.066Z"
   },
   {
    "duration": 560,
    "start_time": "2022-03-17T21:04:08.172Z"
   },
   {
    "duration": 42,
    "start_time": "2022-03-17T21:06:20.172Z"
   },
   {
    "duration": 44,
    "start_time": "2022-03-17T21:06:32.096Z"
   },
   {
    "duration": 2217,
    "start_time": "2022-03-17T21:08:26.575Z"
   },
   {
    "duration": 26,
    "start_time": "2022-03-17T21:10:56.605Z"
   },
   {
    "duration": 45,
    "start_time": "2022-03-17T21:11:01.756Z"
   },
   {
    "duration": 56,
    "start_time": "2022-03-17T21:11:18.228Z"
   },
   {
    "duration": 59,
    "start_time": "2022-03-17T21:12:39.956Z"
   },
   {
    "duration": 102,
    "start_time": "2022-03-17T21:13:50.025Z"
   },
   {
    "duration": 79,
    "start_time": "2022-03-17T21:14:19.405Z"
   },
   {
    "duration": 76,
    "start_time": "2022-03-17T21:15:34.741Z"
   },
   {
    "duration": 72,
    "start_time": "2022-03-17T21:17:42.640Z"
   },
   {
    "duration": 124,
    "start_time": "2022-03-17T21:18:00.670Z"
   },
   {
    "duration": 30,
    "start_time": "2022-03-17T21:18:14.480Z"
   },
   {
    "duration": 76,
    "start_time": "2022-03-17T21:18:20.880Z"
   },
   {
    "duration": 83,
    "start_time": "2022-03-17T21:18:33.099Z"
   },
   {
    "duration": 60,
    "start_time": "2022-03-17T21:18:36.613Z"
   },
   {
    "duration": 95,
    "start_time": "2022-03-17T21:18:40.821Z"
   },
   {
    "duration": 1642,
    "start_time": "2022-03-17T21:18:52.596Z"
   },
   {
    "duration": 48,
    "start_time": "2022-03-17T21:18:54.240Z"
   },
   {
    "duration": 194,
    "start_time": "2022-03-17T21:18:54.290Z"
   },
   {
    "duration": 183,
    "start_time": "2022-03-17T21:18:54.486Z"
   },
   {
    "duration": 39,
    "start_time": "2022-03-17T21:18:54.673Z"
   },
   {
    "duration": 163,
    "start_time": "2022-03-17T21:18:54.714Z"
   },
   {
    "duration": 125,
    "start_time": "2022-03-17T21:18:54.880Z"
   },
   {
    "duration": 20,
    "start_time": "2022-03-17T21:18:55.008Z"
   },
   {
    "duration": 29,
    "start_time": "2022-03-17T21:18:55.030Z"
   },
   {
    "duration": 40,
    "start_time": "2022-03-17T21:18:55.061Z"
   },
   {
    "duration": 159,
    "start_time": "2022-03-17T21:18:55.104Z"
   },
   {
    "duration": 125,
    "start_time": "2022-03-17T21:18:55.265Z"
   },
   {
    "duration": 108,
    "start_time": "2022-03-17T21:18:55.392Z"
   },
   {
    "duration": 46,
    "start_time": "2022-03-17T21:18:55.506Z"
   },
   {
    "duration": 42,
    "start_time": "2022-03-17T21:18:55.583Z"
   },
   {
    "duration": 29,
    "start_time": "2022-03-17T21:18:55.628Z"
   },
   {
    "duration": 33,
    "start_time": "2022-03-17T21:18:55.684Z"
   },
   {
    "duration": 14,
    "start_time": "2022-03-17T21:18:55.720Z"
   },
   {
    "duration": 49,
    "start_time": "2022-03-17T21:18:55.737Z"
   },
   {
    "duration": 14,
    "start_time": "2022-03-17T21:18:55.789Z"
   },
   {
    "duration": 20,
    "start_time": "2022-03-17T21:18:55.805Z"
   },
   {
    "duration": 62,
    "start_time": "2022-03-17T21:18:55.828Z"
   },
   {
    "duration": 25,
    "start_time": "2022-03-17T21:18:55.893Z"
   },
   {
    "duration": 23,
    "start_time": "2022-03-17T21:18:55.920Z"
   },
   {
    "duration": 63,
    "start_time": "2022-03-17T21:18:55.946Z"
   },
   {
    "duration": 44,
    "start_time": "2022-03-17T21:18:56.012Z"
   },
   {
    "duration": 619,
    "start_time": "2022-03-17T21:18:56.058Z"
   },
   {
    "duration": 1,
    "start_time": "2022-03-17T21:18:56.680Z"
   },
   {
    "duration": 0,
    "start_time": "2022-03-17T21:18:56.684Z"
   },
   {
    "duration": 0,
    "start_time": "2022-03-17T21:18:56.686Z"
   },
   {
    "duration": 0,
    "start_time": "2022-03-17T21:18:56.688Z"
   },
   {
    "duration": 0,
    "start_time": "2022-03-17T21:18:56.689Z"
   },
   {
    "duration": 0,
    "start_time": "2022-03-17T21:18:56.691Z"
   },
   {
    "duration": 0,
    "start_time": "2022-03-17T21:18:56.693Z"
   },
   {
    "duration": 0,
    "start_time": "2022-03-17T21:18:56.694Z"
   },
   {
    "duration": 0,
    "start_time": "2022-03-17T21:18:56.696Z"
   },
   {
    "duration": 0,
    "start_time": "2022-03-17T21:18:56.699Z"
   },
   {
    "duration": 0,
    "start_time": "2022-03-17T21:18:56.701Z"
   },
   {
    "duration": 0,
    "start_time": "2022-03-17T21:18:56.703Z"
   },
   {
    "duration": 0,
    "start_time": "2022-03-17T21:18:56.704Z"
   },
   {
    "duration": 0,
    "start_time": "2022-03-17T21:18:56.706Z"
   },
   {
    "duration": 0,
    "start_time": "2022-03-17T21:18:56.707Z"
   },
   {
    "duration": 0,
    "start_time": "2022-03-17T21:18:56.709Z"
   },
   {
    "duration": 0,
    "start_time": "2022-03-17T21:18:56.710Z"
   },
   {
    "duration": 0,
    "start_time": "2022-03-17T21:18:56.711Z"
   },
   {
    "duration": 0,
    "start_time": "2022-03-17T21:18:56.713Z"
   },
   {
    "duration": 0,
    "start_time": "2022-03-17T21:18:56.714Z"
   },
   {
    "duration": 0,
    "start_time": "2022-03-17T21:18:56.715Z"
   },
   {
    "duration": 0,
    "start_time": "2022-03-17T21:18:56.717Z"
   },
   {
    "duration": 1,
    "start_time": "2022-03-17T21:18:56.718Z"
   },
   {
    "duration": 0,
    "start_time": "2022-03-17T21:18:56.720Z"
   },
   {
    "duration": 0,
    "start_time": "2022-03-17T21:18:56.721Z"
   },
   {
    "duration": 0,
    "start_time": "2022-03-17T21:18:56.722Z"
   },
   {
    "duration": 0,
    "start_time": "2022-03-17T21:18:56.724Z"
   },
   {
    "duration": 0,
    "start_time": "2022-03-17T21:18:56.725Z"
   },
   {
    "duration": 0,
    "start_time": "2022-03-17T21:18:56.785Z"
   },
   {
    "duration": 0,
    "start_time": "2022-03-17T21:18:56.786Z"
   },
   {
    "duration": 1708,
    "start_time": "2022-03-17T21:20:39.450Z"
   },
   {
    "duration": 43,
    "start_time": "2022-03-17T21:20:41.161Z"
   },
   {
    "duration": 191,
    "start_time": "2022-03-17T21:20:41.206Z"
   },
   {
    "duration": 189,
    "start_time": "2022-03-17T21:20:41.399Z"
   },
   {
    "duration": 32,
    "start_time": "2022-03-17T21:20:41.592Z"
   },
   {
    "duration": 161,
    "start_time": "2022-03-17T21:20:41.626Z"
   },
   {
    "duration": 157,
    "start_time": "2022-03-17T21:20:41.790Z"
   },
   {
    "duration": 20,
    "start_time": "2022-03-17T21:20:41.949Z"
   },
   {
    "duration": 29,
    "start_time": "2022-03-17T21:20:41.983Z"
   },
   {
    "duration": 23,
    "start_time": "2022-03-17T21:20:42.014Z"
   },
   {
    "duration": 167,
    "start_time": "2022-03-17T21:20:42.039Z"
   },
   {
    "duration": 122,
    "start_time": "2022-03-17T21:20:42.209Z"
   },
   {
    "duration": 111,
    "start_time": "2022-03-17T21:20:42.333Z"
   },
   {
    "duration": 57,
    "start_time": "2022-03-17T21:20:42.449Z"
   },
   {
    "duration": 42,
    "start_time": "2022-03-17T21:20:42.508Z"
   },
   {
    "duration": 55,
    "start_time": "2022-03-17T21:20:42.552Z"
   },
   {
    "duration": 31,
    "start_time": "2022-03-17T21:20:42.609Z"
   },
   {
    "duration": 40,
    "start_time": "2022-03-17T21:20:42.643Z"
   },
   {
    "duration": 16,
    "start_time": "2022-03-17T21:20:42.686Z"
   },
   {
    "duration": 13,
    "start_time": "2022-03-17T21:20:42.705Z"
   },
   {
    "duration": 16,
    "start_time": "2022-03-17T21:20:42.721Z"
   },
   {
    "duration": 57,
    "start_time": "2022-03-17T21:20:42.740Z"
   },
   {
    "duration": 24,
    "start_time": "2022-03-17T21:20:42.799Z"
   },
   {
    "duration": 13,
    "start_time": "2022-03-17T21:20:42.825Z"
   },
   {
    "duration": 61,
    "start_time": "2022-03-17T21:20:42.840Z"
   },
   {
    "duration": 43,
    "start_time": "2022-03-17T21:20:42.903Z"
   },
   {
    "duration": 803,
    "start_time": "2022-03-17T21:20:42.948Z"
   },
   {
    "duration": 0,
    "start_time": "2022-03-17T21:20:43.754Z"
   },
   {
    "duration": 0,
    "start_time": "2022-03-17T21:20:43.758Z"
   },
   {
    "duration": 0,
    "start_time": "2022-03-17T21:20:43.759Z"
   },
   {
    "duration": 0,
    "start_time": "2022-03-17T21:20:43.760Z"
   },
   {
    "duration": 0,
    "start_time": "2022-03-17T21:20:43.761Z"
   },
   {
    "duration": 0,
    "start_time": "2022-03-17T21:20:43.763Z"
   },
   {
    "duration": 0,
    "start_time": "2022-03-17T21:20:43.764Z"
   },
   {
    "duration": 0,
    "start_time": "2022-03-17T21:20:43.765Z"
   },
   {
    "duration": 0,
    "start_time": "2022-03-17T21:20:43.766Z"
   },
   {
    "duration": 0,
    "start_time": "2022-03-17T21:20:43.768Z"
   },
   {
    "duration": 0,
    "start_time": "2022-03-17T21:20:43.769Z"
   },
   {
    "duration": 0,
    "start_time": "2022-03-17T21:20:43.771Z"
   },
   {
    "duration": 0,
    "start_time": "2022-03-17T21:20:43.772Z"
   },
   {
    "duration": 0,
    "start_time": "2022-03-17T21:20:43.774Z"
   },
   {
    "duration": 0,
    "start_time": "2022-03-17T21:20:43.775Z"
   },
   {
    "duration": 0,
    "start_time": "2022-03-17T21:20:43.776Z"
   },
   {
    "duration": 0,
    "start_time": "2022-03-17T21:20:43.778Z"
   },
   {
    "duration": 0,
    "start_time": "2022-03-17T21:20:43.779Z"
   },
   {
    "duration": 0,
    "start_time": "2022-03-17T21:20:43.780Z"
   },
   {
    "duration": 0,
    "start_time": "2022-03-17T21:20:43.782Z"
   },
   {
    "duration": 0,
    "start_time": "2022-03-17T21:20:43.784Z"
   },
   {
    "duration": 0,
    "start_time": "2022-03-17T21:20:43.786Z"
   },
   {
    "duration": 0,
    "start_time": "2022-03-17T21:20:43.788Z"
   },
   {
    "duration": 0,
    "start_time": "2022-03-17T21:20:43.789Z"
   },
   {
    "duration": 0,
    "start_time": "2022-03-17T21:20:43.791Z"
   },
   {
    "duration": 0,
    "start_time": "2022-03-17T21:20:43.792Z"
   },
   {
    "duration": 0,
    "start_time": "2022-03-17T21:20:43.794Z"
   },
   {
    "duration": 0,
    "start_time": "2022-03-17T21:20:43.795Z"
   },
   {
    "duration": 0,
    "start_time": "2022-03-17T21:20:43.797Z"
   },
   {
    "duration": 0,
    "start_time": "2022-03-17T21:20:43.798Z"
   },
   {
    "duration": 1656,
    "start_time": "2022-03-18T19:39:03.404Z"
   },
   {
    "duration": 52,
    "start_time": "2022-03-18T19:39:05.064Z"
   },
   {
    "duration": 151,
    "start_time": "2022-03-18T19:39:05.118Z"
   },
   {
    "duration": 146,
    "start_time": "2022-03-18T19:39:05.272Z"
   },
   {
    "duration": 24,
    "start_time": "2022-03-18T19:39:05.420Z"
   },
   {
    "duration": 113,
    "start_time": "2022-03-18T19:39:05.446Z"
   },
   {
    "duration": 100,
    "start_time": "2022-03-18T19:39:05.574Z"
   },
   {
    "duration": 16,
    "start_time": "2022-03-18T19:39:05.676Z"
   },
   {
    "duration": 25,
    "start_time": "2022-03-18T19:39:05.701Z"
   },
   {
    "duration": 22,
    "start_time": "2022-03-18T19:39:05.730Z"
   },
   {
    "duration": 164,
    "start_time": "2022-03-18T19:39:05.754Z"
   },
   {
    "duration": 127,
    "start_time": "2022-03-18T19:39:05.919Z"
   },
   {
    "duration": 108,
    "start_time": "2022-03-18T19:39:06.048Z"
   },
   {
    "duration": 49,
    "start_time": "2022-03-18T19:39:06.159Z"
   },
   {
    "duration": 33,
    "start_time": "2022-03-18T19:39:06.211Z"
   },
   {
    "duration": 23,
    "start_time": "2022-03-18T19:39:06.246Z"
   },
   {
    "duration": 51,
    "start_time": "2022-03-18T19:39:06.271Z"
   },
   {
    "duration": 10,
    "start_time": "2022-03-18T19:39:06.324Z"
   },
   {
    "duration": 12,
    "start_time": "2022-03-18T19:39:06.335Z"
   },
   {
    "duration": 10,
    "start_time": "2022-03-18T19:39:06.349Z"
   },
   {
    "duration": 41,
    "start_time": "2022-03-18T19:39:06.361Z"
   },
   {
    "duration": 21,
    "start_time": "2022-03-18T19:39:06.404Z"
   },
   {
    "duration": 18,
    "start_time": "2022-03-18T19:39:06.427Z"
   },
   {
    "duration": 10,
    "start_time": "2022-03-18T19:39:06.447Z"
   },
   {
    "duration": 57,
    "start_time": "2022-03-18T19:39:06.459Z"
   },
   {
    "duration": 31,
    "start_time": "2022-03-18T19:39:06.518Z"
   },
   {
    "duration": 759,
    "start_time": "2022-03-18T19:39:06.551Z"
   },
   {
    "duration": 0,
    "start_time": "2022-03-18T19:39:07.313Z"
   },
   {
    "duration": 0,
    "start_time": "2022-03-18T19:39:07.314Z"
   },
   {
    "duration": 0,
    "start_time": "2022-03-18T19:39:07.315Z"
   },
   {
    "duration": 0,
    "start_time": "2022-03-18T19:39:07.317Z"
   },
   {
    "duration": 0,
    "start_time": "2022-03-18T19:39:07.318Z"
   },
   {
    "duration": 0,
    "start_time": "2022-03-18T19:39:07.319Z"
   },
   {
    "duration": 0,
    "start_time": "2022-03-18T19:39:07.322Z"
   },
   {
    "duration": 0,
    "start_time": "2022-03-18T19:39:07.324Z"
   },
   {
    "duration": 0,
    "start_time": "2022-03-18T19:39:07.325Z"
   },
   {
    "duration": 0,
    "start_time": "2022-03-18T19:39:07.326Z"
   },
   {
    "duration": 0,
    "start_time": "2022-03-18T19:39:07.327Z"
   },
   {
    "duration": 0,
    "start_time": "2022-03-18T19:39:07.328Z"
   },
   {
    "duration": 0,
    "start_time": "2022-03-18T19:39:07.329Z"
   },
   {
    "duration": 0,
    "start_time": "2022-03-18T19:39:07.330Z"
   },
   {
    "duration": 1,
    "start_time": "2022-03-18T19:39:07.331Z"
   },
   {
    "duration": 0,
    "start_time": "2022-03-18T19:39:07.333Z"
   },
   {
    "duration": 0,
    "start_time": "2022-03-18T19:39:07.334Z"
   },
   {
    "duration": 1,
    "start_time": "2022-03-18T19:39:07.334Z"
   },
   {
    "duration": 0,
    "start_time": "2022-03-18T19:39:07.336Z"
   },
   {
    "duration": 0,
    "start_time": "2022-03-18T19:39:07.337Z"
   },
   {
    "duration": 0,
    "start_time": "2022-03-18T19:39:07.338Z"
   },
   {
    "duration": 0,
    "start_time": "2022-03-18T19:39:07.339Z"
   },
   {
    "duration": 0,
    "start_time": "2022-03-18T19:39:07.340Z"
   },
   {
    "duration": 0,
    "start_time": "2022-03-18T19:39:07.341Z"
   },
   {
    "duration": 0,
    "start_time": "2022-03-18T19:39:07.343Z"
   },
   {
    "duration": 0,
    "start_time": "2022-03-18T19:39:07.344Z"
   },
   {
    "duration": 0,
    "start_time": "2022-03-18T19:39:07.345Z"
   },
   {
    "duration": 0,
    "start_time": "2022-03-18T19:39:07.346Z"
   },
   {
    "duration": 0,
    "start_time": "2022-03-18T19:39:07.347Z"
   },
   {
    "duration": 0,
    "start_time": "2022-03-18T19:39:07.348Z"
   },
   {
    "duration": 198,
    "start_time": "2022-03-18T19:39:43.870Z"
   },
   {
    "duration": 47,
    "start_time": "2022-03-18T19:39:44.070Z"
   },
   {
    "duration": 142,
    "start_time": "2022-03-18T19:39:44.119Z"
   },
   {
    "duration": 147,
    "start_time": "2022-03-18T19:39:44.263Z"
   },
   {
    "duration": 25,
    "start_time": "2022-03-18T19:39:44.413Z"
   },
   {
    "duration": 101,
    "start_time": "2022-03-18T19:39:44.439Z"
   },
   {
    "duration": 100,
    "start_time": "2022-03-18T19:39:44.543Z"
   },
   {
    "duration": 16,
    "start_time": "2022-03-18T19:39:44.645Z"
   },
   {
    "duration": 45,
    "start_time": "2022-03-18T19:39:44.663Z"
   },
   {
    "duration": 18,
    "start_time": "2022-03-18T19:39:44.710Z"
   },
   {
    "duration": 125,
    "start_time": "2022-03-18T19:39:44.729Z"
   },
   {
    "duration": 99,
    "start_time": "2022-03-18T19:39:44.856Z"
   },
   {
    "duration": 94,
    "start_time": "2022-03-18T19:39:44.957Z"
   },
   {
    "duration": 51,
    "start_time": "2022-03-18T19:39:45.056Z"
   },
   {
    "duration": 34,
    "start_time": "2022-03-18T19:39:45.110Z"
   },
   {
    "duration": 22,
    "start_time": "2022-03-18T19:39:45.147Z"
   },
   {
    "duration": 48,
    "start_time": "2022-03-18T19:39:45.172Z"
   },
   {
    "duration": 10,
    "start_time": "2022-03-18T19:39:45.222Z"
   },
   {
    "duration": 18,
    "start_time": "2022-03-18T19:39:45.234Z"
   },
   {
    "duration": 13,
    "start_time": "2022-03-18T19:39:45.254Z"
   },
   {
    "duration": 40,
    "start_time": "2022-03-18T19:39:45.269Z"
   },
   {
    "duration": 24,
    "start_time": "2022-03-18T19:39:45.311Z"
   },
   {
    "duration": 16,
    "start_time": "2022-03-18T19:39:45.337Z"
   },
   {
    "duration": 10,
    "start_time": "2022-03-18T19:39:45.355Z"
   },
   {
    "duration": 48,
    "start_time": "2022-03-18T19:39:45.366Z"
   },
   {
    "duration": 27,
    "start_time": "2022-03-18T19:39:45.416Z"
   },
   {
    "duration": 906,
    "start_time": "2022-03-18T19:39:45.445Z"
   },
   {
    "duration": 0,
    "start_time": "2022-03-18T19:39:46.353Z"
   },
   {
    "duration": 0,
    "start_time": "2022-03-18T19:39:46.355Z"
   },
   {
    "duration": 0,
    "start_time": "2022-03-18T19:39:46.356Z"
   },
   {
    "duration": 0,
    "start_time": "2022-03-18T19:39:46.357Z"
   },
   {
    "duration": 0,
    "start_time": "2022-03-18T19:39:46.358Z"
   },
   {
    "duration": 0,
    "start_time": "2022-03-18T19:39:46.359Z"
   },
   {
    "duration": 0,
    "start_time": "2022-03-18T19:39:46.361Z"
   },
   {
    "duration": 0,
    "start_time": "2022-03-18T19:39:46.362Z"
   },
   {
    "duration": 0,
    "start_time": "2022-03-18T19:39:46.363Z"
   },
   {
    "duration": 0,
    "start_time": "2022-03-18T19:39:46.364Z"
   },
   {
    "duration": 0,
    "start_time": "2022-03-18T19:39:46.365Z"
   },
   {
    "duration": 0,
    "start_time": "2022-03-18T19:39:46.366Z"
   },
   {
    "duration": 0,
    "start_time": "2022-03-18T19:39:46.367Z"
   },
   {
    "duration": 0,
    "start_time": "2022-03-18T19:39:46.368Z"
   },
   {
    "duration": 0,
    "start_time": "2022-03-18T19:39:46.369Z"
   },
   {
    "duration": 0,
    "start_time": "2022-03-18T19:39:46.370Z"
   },
   {
    "duration": 0,
    "start_time": "2022-03-18T19:39:46.371Z"
   },
   {
    "duration": 0,
    "start_time": "2022-03-18T19:39:46.372Z"
   },
   {
    "duration": 0,
    "start_time": "2022-03-18T19:39:46.373Z"
   },
   {
    "duration": 0,
    "start_time": "2022-03-18T19:39:46.375Z"
   },
   {
    "duration": 0,
    "start_time": "2022-03-18T19:39:46.376Z"
   },
   {
    "duration": 0,
    "start_time": "2022-03-18T19:39:46.377Z"
   },
   {
    "duration": 0,
    "start_time": "2022-03-18T19:39:46.378Z"
   },
   {
    "duration": 0,
    "start_time": "2022-03-18T19:39:46.379Z"
   },
   {
    "duration": 0,
    "start_time": "2022-03-18T19:39:46.380Z"
   },
   {
    "duration": 0,
    "start_time": "2022-03-18T19:39:46.381Z"
   },
   {
    "duration": 0,
    "start_time": "2022-03-18T19:39:46.383Z"
   },
   {
    "duration": 0,
    "start_time": "2022-03-18T19:39:46.384Z"
   },
   {
    "duration": 0,
    "start_time": "2022-03-18T19:39:46.385Z"
   },
   {
    "duration": 0,
    "start_time": "2022-03-18T19:39:46.386Z"
   },
   {
    "duration": 12,
    "start_time": "2022-03-18T19:40:13.855Z"
   },
   {
    "duration": 132,
    "start_time": "2022-03-18T19:46:37.961Z"
   },
   {
    "duration": 17,
    "start_time": "2022-03-18T19:46:47.999Z"
   },
   {
    "duration": 28,
    "start_time": "2022-03-18T19:46:58.472Z"
   },
   {
    "duration": 36,
    "start_time": "2022-03-18T19:51:11.640Z"
   },
   {
    "duration": 143,
    "start_time": "2022-03-18T19:51:47.432Z"
   },
   {
    "duration": 0,
    "start_time": "2022-03-18T19:51:54.594Z"
   },
   {
    "duration": 42,
    "start_time": "2022-03-18T19:51:58.296Z"
   },
   {
    "duration": 45,
    "start_time": "2022-03-18T19:52:43.437Z"
   },
   {
    "duration": 36,
    "start_time": "2022-03-18T19:53:06.601Z"
   },
   {
    "duration": 44,
    "start_time": "2022-03-18T19:53:14.945Z"
   },
   {
    "duration": 9,
    "start_time": "2022-03-18T19:53:29.582Z"
   },
   {
    "duration": 12,
    "start_time": "2022-03-18T19:53:32.041Z"
   },
   {
    "duration": 10,
    "start_time": "2022-03-18T19:53:35.013Z"
   },
   {
    "duration": 12,
    "start_time": "2022-03-18T19:53:37.680Z"
   },
   {
    "duration": 21,
    "start_time": "2022-03-18T19:53:40.667Z"
   },
   {
    "duration": 21,
    "start_time": "2022-03-18T19:53:49.928Z"
   },
   {
    "duration": 17,
    "start_time": "2022-03-18T19:54:01.708Z"
   },
   {
    "duration": 17,
    "start_time": "2022-03-18T19:54:05.498Z"
   },
   {
    "duration": 1390,
    "start_time": "2022-03-18T19:54:20.965Z"
   },
   {
    "duration": 30,
    "start_time": "2022-03-18T19:54:22.357Z"
   },
   {
    "duration": 133,
    "start_time": "2022-03-18T19:54:22.400Z"
   },
   {
    "duration": 143,
    "start_time": "2022-03-18T19:54:22.536Z"
   },
   {
    "duration": 32,
    "start_time": "2022-03-18T19:54:22.681Z"
   },
   {
    "duration": 90,
    "start_time": "2022-03-18T19:54:22.715Z"
   },
   {
    "duration": 102,
    "start_time": "2022-03-18T19:54:22.807Z"
   },
   {
    "duration": 16,
    "start_time": "2022-03-18T19:54:22.911Z"
   },
   {
    "duration": 23,
    "start_time": "2022-03-18T19:54:22.929Z"
   },
   {
    "duration": 17,
    "start_time": "2022-03-18T19:54:22.957Z"
   },
   {
    "duration": 135,
    "start_time": "2022-03-18T19:54:22.975Z"
   },
   {
    "duration": 93,
    "start_time": "2022-03-18T19:54:23.113Z"
   },
   {
    "duration": 67,
    "start_time": "2022-03-18T19:54:23.208Z"
   },
   {
    "duration": 49,
    "start_time": "2022-03-18T19:54:23.276Z"
   },
   {
    "duration": 32,
    "start_time": "2022-03-18T19:54:23.327Z"
   },
   {
    "duration": 48,
    "start_time": "2022-03-18T19:54:23.361Z"
   },
   {
    "duration": 22,
    "start_time": "2022-03-18T19:54:23.411Z"
   },
   {
    "duration": 9,
    "start_time": "2022-03-18T19:54:23.435Z"
   },
   {
    "duration": 11,
    "start_time": "2022-03-18T19:54:23.446Z"
   },
   {
    "duration": 11,
    "start_time": "2022-03-18T19:54:23.459Z"
   },
   {
    "duration": 13,
    "start_time": "2022-03-18T19:54:23.501Z"
   },
   {
    "duration": 27,
    "start_time": "2022-03-18T19:54:23.515Z"
   },
   {
    "duration": 16,
    "start_time": "2022-03-18T19:54:23.544Z"
   },
   {
    "duration": 9,
    "start_time": "2022-03-18T19:54:23.562Z"
   },
   {
    "duration": 2747,
    "start_time": "2022-03-18T19:54:23.573Z"
   },
   {
    "duration": 0,
    "start_time": "2022-03-18T19:54:26.322Z"
   },
   {
    "duration": 0,
    "start_time": "2022-03-18T19:54:26.325Z"
   },
   {
    "duration": 0,
    "start_time": "2022-03-18T19:54:26.327Z"
   },
   {
    "duration": 0,
    "start_time": "2022-03-18T19:54:26.327Z"
   },
   {
    "duration": 0,
    "start_time": "2022-03-18T19:54:26.329Z"
   },
   {
    "duration": 0,
    "start_time": "2022-03-18T19:54:26.330Z"
   },
   {
    "duration": 0,
    "start_time": "2022-03-18T19:54:26.331Z"
   },
   {
    "duration": 0,
    "start_time": "2022-03-18T19:54:26.333Z"
   },
   {
    "duration": 0,
    "start_time": "2022-03-18T19:54:26.334Z"
   },
   {
    "duration": 0,
    "start_time": "2022-03-18T19:54:26.335Z"
   },
   {
    "duration": 0,
    "start_time": "2022-03-18T19:54:26.336Z"
   },
   {
    "duration": 0,
    "start_time": "2022-03-18T19:54:26.337Z"
   },
   {
    "duration": 0,
    "start_time": "2022-03-18T19:54:26.339Z"
   },
   {
    "duration": 0,
    "start_time": "2022-03-18T19:54:26.340Z"
   },
   {
    "duration": 0,
    "start_time": "2022-03-18T19:54:26.341Z"
   },
   {
    "duration": 0,
    "start_time": "2022-03-18T19:54:26.342Z"
   },
   {
    "duration": 0,
    "start_time": "2022-03-18T19:54:26.344Z"
   },
   {
    "duration": 0,
    "start_time": "2022-03-18T19:54:26.345Z"
   },
   {
    "duration": 0,
    "start_time": "2022-03-18T19:54:26.347Z"
   },
   {
    "duration": 0,
    "start_time": "2022-03-18T19:54:26.348Z"
   },
   {
    "duration": 0,
    "start_time": "2022-03-18T19:54:26.349Z"
   },
   {
    "duration": 0,
    "start_time": "2022-03-18T19:54:26.350Z"
   },
   {
    "duration": 0,
    "start_time": "2022-03-18T19:54:26.351Z"
   },
   {
    "duration": 0,
    "start_time": "2022-03-18T19:54:26.352Z"
   },
   {
    "duration": 0,
    "start_time": "2022-03-18T19:54:26.353Z"
   },
   {
    "duration": 0,
    "start_time": "2022-03-18T19:54:26.354Z"
   },
   {
    "duration": 0,
    "start_time": "2022-03-18T19:54:26.357Z"
   },
   {
    "duration": 0,
    "start_time": "2022-03-18T19:54:26.358Z"
   },
   {
    "duration": 0,
    "start_time": "2022-03-18T19:54:26.358Z"
   },
   {
    "duration": 0,
    "start_time": "2022-03-18T19:54:26.359Z"
   },
   {
    "duration": 0,
    "start_time": "2022-03-18T19:54:26.401Z"
   },
   {
    "duration": 0,
    "start_time": "2022-03-18T19:54:26.403Z"
   },
   {
    "duration": 200,
    "start_time": "2022-03-18T19:55:07.580Z"
   },
   {
    "duration": 42,
    "start_time": "2022-03-18T19:55:07.783Z"
   },
   {
    "duration": 135,
    "start_time": "2022-03-18T19:55:07.828Z"
   },
   {
    "duration": 148,
    "start_time": "2022-03-18T19:55:07.965Z"
   },
   {
    "duration": 25,
    "start_time": "2022-03-18T19:55:08.116Z"
   },
   {
    "duration": 90,
    "start_time": "2022-03-18T19:55:08.142Z"
   },
   {
    "duration": 98,
    "start_time": "2022-03-18T19:55:08.234Z"
   },
   {
    "duration": 15,
    "start_time": "2022-03-18T19:55:08.334Z"
   },
   {
    "duration": 33,
    "start_time": "2022-03-18T19:55:08.351Z"
   },
   {
    "duration": 30,
    "start_time": "2022-03-18T19:55:08.386Z"
   },
   {
    "duration": 134,
    "start_time": "2022-03-18T19:55:08.418Z"
   },
   {
    "duration": 89,
    "start_time": "2022-03-18T19:55:08.554Z"
   },
   {
    "duration": 82,
    "start_time": "2022-03-18T19:55:08.645Z"
   },
   {
    "duration": 29,
    "start_time": "2022-03-18T19:55:08.730Z"
   },
   {
    "duration": 48,
    "start_time": "2022-03-18T19:55:08.761Z"
   },
   {
    "duration": 19,
    "start_time": "2022-03-18T19:55:08.811Z"
   },
   {
    "duration": 21,
    "start_time": "2022-03-18T19:55:08.832Z"
   },
   {
    "duration": 9,
    "start_time": "2022-03-18T19:55:08.854Z"
   },
   {
    "duration": 40,
    "start_time": "2022-03-18T19:55:08.864Z"
   },
   {
    "duration": 10,
    "start_time": "2022-03-18T19:55:08.907Z"
   },
   {
    "duration": 12,
    "start_time": "2022-03-18T19:55:08.919Z"
   },
   {
    "duration": 24,
    "start_time": "2022-03-18T19:55:08.932Z"
   },
   {
    "duration": 17,
    "start_time": "2022-03-18T19:55:08.957Z"
   },
   {
    "duration": 9,
    "start_time": "2022-03-18T19:55:09.002Z"
   },
   {
    "duration": 2627,
    "start_time": "2022-03-18T19:55:09.013Z"
   },
   {
    "duration": 0,
    "start_time": "2022-03-18T19:55:11.644Z"
   },
   {
    "duration": 0,
    "start_time": "2022-03-18T19:55:11.645Z"
   },
   {
    "duration": 0,
    "start_time": "2022-03-18T19:55:11.646Z"
   },
   {
    "duration": 0,
    "start_time": "2022-03-18T19:55:11.647Z"
   },
   {
    "duration": 0,
    "start_time": "2022-03-18T19:55:11.648Z"
   },
   {
    "duration": 0,
    "start_time": "2022-03-18T19:55:11.650Z"
   },
   {
    "duration": 0,
    "start_time": "2022-03-18T19:55:11.651Z"
   },
   {
    "duration": 0,
    "start_time": "2022-03-18T19:55:11.652Z"
   },
   {
    "duration": 0,
    "start_time": "2022-03-18T19:55:11.654Z"
   },
   {
    "duration": 0,
    "start_time": "2022-03-18T19:55:11.655Z"
   },
   {
    "duration": 0,
    "start_time": "2022-03-18T19:55:11.656Z"
   },
   {
    "duration": 0,
    "start_time": "2022-03-18T19:55:11.657Z"
   },
   {
    "duration": 0,
    "start_time": "2022-03-18T19:55:11.658Z"
   },
   {
    "duration": 0,
    "start_time": "2022-03-18T19:55:11.659Z"
   },
   {
    "duration": 0,
    "start_time": "2022-03-18T19:55:11.660Z"
   },
   {
    "duration": 0,
    "start_time": "2022-03-18T19:55:11.661Z"
   },
   {
    "duration": 0,
    "start_time": "2022-03-18T19:55:11.662Z"
   },
   {
    "duration": 0,
    "start_time": "2022-03-18T19:55:11.664Z"
   },
   {
    "duration": 0,
    "start_time": "2022-03-18T19:55:11.665Z"
   },
   {
    "duration": 0,
    "start_time": "2022-03-18T19:55:11.666Z"
   },
   {
    "duration": 0,
    "start_time": "2022-03-18T19:55:11.667Z"
   },
   {
    "duration": 0,
    "start_time": "2022-03-18T19:55:11.669Z"
   },
   {
    "duration": 0,
    "start_time": "2022-03-18T19:55:11.670Z"
   },
   {
    "duration": 0,
    "start_time": "2022-03-18T19:55:11.671Z"
   },
   {
    "duration": 0,
    "start_time": "2022-03-18T19:55:11.672Z"
   },
   {
    "duration": 0,
    "start_time": "2022-03-18T19:55:11.673Z"
   },
   {
    "duration": 0,
    "start_time": "2022-03-18T19:55:11.674Z"
   },
   {
    "duration": 0,
    "start_time": "2022-03-18T19:55:11.676Z"
   },
   {
    "duration": 0,
    "start_time": "2022-03-18T19:55:11.676Z"
   },
   {
    "duration": 0,
    "start_time": "2022-03-18T19:55:11.678Z"
   },
   {
    "duration": 0,
    "start_time": "2022-03-18T19:55:11.679Z"
   },
   {
    "duration": 0,
    "start_time": "2022-03-18T19:55:11.680Z"
   },
   {
    "duration": 10,
    "start_time": "2022-03-18T19:57:20.064Z"
   },
   {
    "duration": 2749,
    "start_time": "2022-03-18T19:57:25.056Z"
   },
   {
    "duration": 27,
    "start_time": "2022-03-18T19:58:46.882Z"
   },
   {
    "duration": 42,
    "start_time": "2022-03-18T19:58:55.905Z"
   },
   {
    "duration": 3492,
    "start_time": "2022-03-18T19:58:59.634Z"
   },
   {
    "duration": 1682,
    "start_time": "2022-03-18T19:59:26.121Z"
   },
   {
    "duration": 49,
    "start_time": "2022-03-18T19:59:27.805Z"
   },
   {
    "duration": 205,
    "start_time": "2022-03-18T19:59:27.856Z"
   },
   {
    "duration": 217,
    "start_time": "2022-03-18T19:59:28.064Z"
   },
   {
    "duration": 47,
    "start_time": "2022-03-18T19:59:28.284Z"
   },
   {
    "duration": 138,
    "start_time": "2022-03-18T19:59:28.334Z"
   },
   {
    "duration": 140,
    "start_time": "2022-03-18T19:59:28.474Z"
   },
   {
    "duration": 20,
    "start_time": "2022-03-18T19:59:28.616Z"
   },
   {
    "duration": 25,
    "start_time": "2022-03-18T19:59:28.638Z"
   },
   {
    "duration": 21,
    "start_time": "2022-03-18T19:59:28.666Z"
   },
   {
    "duration": 152,
    "start_time": "2022-03-18T19:59:28.702Z"
   },
   {
    "duration": 124,
    "start_time": "2022-03-18T19:59:28.856Z"
   },
   {
    "duration": 104,
    "start_time": "2022-03-18T19:59:28.983Z"
   },
   {
    "duration": 41,
    "start_time": "2022-03-18T19:59:29.100Z"
   },
   {
    "duration": 64,
    "start_time": "2022-03-18T19:59:29.143Z"
   },
   {
    "duration": 28,
    "start_time": "2022-03-18T19:59:29.209Z"
   },
   {
    "duration": 31,
    "start_time": "2022-03-18T19:59:29.239Z"
   },
   {
    "duration": 37,
    "start_time": "2022-03-18T19:59:29.272Z"
   },
   {
    "duration": 22,
    "start_time": "2022-03-18T19:59:29.312Z"
   },
   {
    "duration": 14,
    "start_time": "2022-03-18T19:59:29.336Z"
   },
   {
    "duration": 22,
    "start_time": "2022-03-18T19:59:29.352Z"
   },
   {
    "duration": 48,
    "start_time": "2022-03-18T19:59:29.376Z"
   },
   {
    "duration": 3,
    "start_time": "2022-03-18T19:59:29.426Z"
   },
   {
    "duration": 20,
    "start_time": "2022-03-18T19:59:29.431Z"
   },
   {
    "duration": 41,
    "start_time": "2022-03-18T19:59:29.453Z"
   },
   {
    "duration": 47,
    "start_time": "2022-03-18T19:59:29.501Z"
   },
   {
    "duration": 158,
    "start_time": "2022-03-18T19:59:29.550Z"
   },
   {
    "duration": 107,
    "start_time": "2022-03-18T19:59:29.711Z"
   },
   {
    "duration": 25,
    "start_time": "2022-03-18T19:59:29.820Z"
   },
   {
    "duration": 29,
    "start_time": "2022-03-18T19:59:29.847Z"
   },
   {
    "duration": 35,
    "start_time": "2022-03-18T19:59:29.878Z"
   },
   {
    "duration": 141,
    "start_time": "2022-03-18T19:59:29.914Z"
   },
   {
    "duration": 177,
    "start_time": "2022-03-18T19:59:30.057Z"
   },
   {
    "duration": 11,
    "start_time": "2022-03-18T19:59:30.236Z"
   },
   {
    "duration": 15,
    "start_time": "2022-03-18T19:59:30.249Z"
   },
   {
    "duration": 203,
    "start_time": "2022-03-18T19:59:30.265Z"
   },
   {
    "duration": 214,
    "start_time": "2022-03-18T19:59:30.470Z"
   },
   {
    "duration": 148,
    "start_time": "2022-03-18T19:59:30.686Z"
   },
   {
    "duration": 0,
    "start_time": "2022-03-18T19:59:30.837Z"
   },
   {
    "duration": 0,
    "start_time": "2022-03-18T19:59:30.839Z"
   },
   {
    "duration": 0,
    "start_time": "2022-03-18T19:59:30.841Z"
   },
   {
    "duration": 0,
    "start_time": "2022-03-18T19:59:30.842Z"
   },
   {
    "duration": 0,
    "start_time": "2022-03-18T19:59:30.844Z"
   },
   {
    "duration": 0,
    "start_time": "2022-03-18T19:59:30.845Z"
   },
   {
    "duration": 0,
    "start_time": "2022-03-18T19:59:30.846Z"
   },
   {
    "duration": 0,
    "start_time": "2022-03-18T19:59:30.847Z"
   },
   {
    "duration": 0,
    "start_time": "2022-03-18T19:59:30.849Z"
   },
   {
    "duration": 0,
    "start_time": "2022-03-18T19:59:30.850Z"
   },
   {
    "duration": 0,
    "start_time": "2022-03-18T19:59:30.851Z"
   },
   {
    "duration": 0,
    "start_time": "2022-03-18T19:59:30.853Z"
   },
   {
    "duration": 0,
    "start_time": "2022-03-18T19:59:30.854Z"
   },
   {
    "duration": 0,
    "start_time": "2022-03-18T19:59:30.854Z"
   },
   {
    "duration": 0,
    "start_time": "2022-03-18T19:59:30.855Z"
   },
   {
    "duration": 0,
    "start_time": "2022-03-18T19:59:30.857Z"
   },
   {
    "duration": 0,
    "start_time": "2022-03-18T19:59:30.858Z"
   },
   {
    "duration": 0,
    "start_time": "2022-03-18T19:59:30.860Z"
   },
   {
    "duration": 0,
    "start_time": "2022-03-18T19:59:30.861Z"
   },
   {
    "duration": 229,
    "start_time": "2022-03-18T20:03:14.426Z"
   },
   {
    "duration": 57,
    "start_time": "2022-03-18T20:03:14.657Z"
   },
   {
    "duration": 189,
    "start_time": "2022-03-18T20:03:14.716Z"
   },
   {
    "duration": 149,
    "start_time": "2022-03-18T20:03:14.907Z"
   },
   {
    "duration": 28,
    "start_time": "2022-03-18T20:03:15.058Z"
   },
   {
    "duration": 82,
    "start_time": "2022-03-18T20:03:15.102Z"
   },
   {
    "duration": 101,
    "start_time": "2022-03-18T20:03:15.201Z"
   },
   {
    "duration": 18,
    "start_time": "2022-03-18T20:03:15.304Z"
   },
   {
    "duration": 25,
    "start_time": "2022-03-18T20:03:15.324Z"
   },
   {
    "duration": 22,
    "start_time": "2022-03-18T20:03:15.350Z"
   },
   {
    "duration": 172,
    "start_time": "2022-03-18T20:03:15.374Z"
   },
   {
    "duration": 130,
    "start_time": "2022-03-18T20:03:15.548Z"
   },
   {
    "duration": 108,
    "start_time": "2022-03-18T20:03:15.681Z"
   },
   {
    "duration": 44,
    "start_time": "2022-03-18T20:03:15.804Z"
   },
   {
    "duration": 64,
    "start_time": "2022-03-18T20:03:15.850Z"
   },
   {
    "duration": 26,
    "start_time": "2022-03-18T20:03:15.916Z"
   },
   {
    "duration": 28,
    "start_time": "2022-03-18T20:03:15.945Z"
   },
   {
    "duration": 32,
    "start_time": "2022-03-18T20:03:15.976Z"
   },
   {
    "duration": 23,
    "start_time": "2022-03-18T20:03:16.010Z"
   },
   {
    "duration": 15,
    "start_time": "2022-03-18T20:03:16.035Z"
   },
   {
    "duration": 26,
    "start_time": "2022-03-18T20:03:16.052Z"
   },
   {
    "duration": 42,
    "start_time": "2022-03-18T20:03:16.080Z"
   },
   {
    "duration": 3,
    "start_time": "2022-03-18T20:03:16.125Z"
   },
   {
    "duration": 24,
    "start_time": "2022-03-18T20:03:16.130Z"
   },
   {
    "duration": 42,
    "start_time": "2022-03-18T20:03:16.156Z"
   },
   {
    "duration": 47,
    "start_time": "2022-03-18T20:03:16.201Z"
   },
   {
    "duration": 120,
    "start_time": "2022-03-18T20:03:16.250Z"
   },
   {
    "duration": 108,
    "start_time": "2022-03-18T20:03:16.373Z"
   },
   {
    "duration": 38,
    "start_time": "2022-03-18T20:03:16.483Z"
   },
   {
    "duration": 23,
    "start_time": "2022-03-18T20:03:16.523Z"
   },
   {
    "duration": 23,
    "start_time": "2022-03-18T20:03:16.547Z"
   },
   {
    "duration": 142,
    "start_time": "2022-03-18T20:03:16.572Z"
   },
   {
    "duration": 127,
    "start_time": "2022-03-18T20:03:16.716Z"
   },
   {
    "duration": 10,
    "start_time": "2022-03-18T20:03:16.845Z"
   },
   {
    "duration": 18,
    "start_time": "2022-03-18T20:03:16.857Z"
   },
   {
    "duration": 256,
    "start_time": "2022-03-18T20:03:16.877Z"
   },
   {
    "duration": 257,
    "start_time": "2022-03-18T20:03:17.136Z"
   },
   {
    "duration": 143,
    "start_time": "2022-03-18T20:03:17.400Z"
   },
   {
    "duration": 0,
    "start_time": "2022-03-18T20:03:17.546Z"
   },
   {
    "duration": 0,
    "start_time": "2022-03-18T20:03:17.547Z"
   },
   {
    "duration": 0,
    "start_time": "2022-03-18T20:03:17.548Z"
   },
   {
    "duration": 0,
    "start_time": "2022-03-18T20:03:17.549Z"
   },
   {
    "duration": 0,
    "start_time": "2022-03-18T20:03:17.550Z"
   },
   {
    "duration": 0,
    "start_time": "2022-03-18T20:03:17.551Z"
   },
   {
    "duration": 0,
    "start_time": "2022-03-18T20:03:17.553Z"
   },
   {
    "duration": 0,
    "start_time": "2022-03-18T20:03:17.554Z"
   },
   {
    "duration": 0,
    "start_time": "2022-03-18T20:03:17.555Z"
   },
   {
    "duration": 0,
    "start_time": "2022-03-18T20:03:17.556Z"
   },
   {
    "duration": 0,
    "start_time": "2022-03-18T20:03:17.557Z"
   },
   {
    "duration": 0,
    "start_time": "2022-03-18T20:03:17.558Z"
   },
   {
    "duration": 0,
    "start_time": "2022-03-18T20:03:17.559Z"
   },
   {
    "duration": 0,
    "start_time": "2022-03-18T20:03:17.560Z"
   },
   {
    "duration": 0,
    "start_time": "2022-03-18T20:03:17.561Z"
   },
   {
    "duration": 0,
    "start_time": "2022-03-18T20:03:17.563Z"
   },
   {
    "duration": 0,
    "start_time": "2022-03-18T20:03:17.563Z"
   },
   {
    "duration": 0,
    "start_time": "2022-03-18T20:03:17.565Z"
   },
   {
    "duration": 0,
    "start_time": "2022-03-18T20:03:17.566Z"
   },
   {
    "duration": 30,
    "start_time": "2022-03-18T20:04:16.514Z"
   },
   {
    "duration": 2,
    "start_time": "2022-03-18T20:04:35.512Z"
   },
   {
    "duration": 28,
    "start_time": "2022-03-18T20:05:07.448Z"
   },
   {
    "duration": 27,
    "start_time": "2022-03-18T20:05:12.574Z"
   },
   {
    "duration": 27,
    "start_time": "2022-03-18T20:05:18.349Z"
   },
   {
    "duration": 8,
    "start_time": "2022-03-18T20:05:24.486Z"
   },
   {
    "duration": 251,
    "start_time": "2022-03-18T20:05:28.838Z"
   },
   {
    "duration": 17,
    "start_time": "2022-03-18T20:05:36.720Z"
   },
   {
    "duration": 527,
    "start_time": "2022-03-18T20:05:43.216Z"
   },
   {
    "duration": 201,
    "start_time": "2022-03-18T20:05:51.777Z"
   },
   {
    "duration": 13,
    "start_time": "2022-03-18T20:05:56.877Z"
   },
   {
    "duration": 333,
    "start_time": "2022-03-18T20:06:01.974Z"
   },
   {
    "duration": 21,
    "start_time": "2022-03-18T20:06:06.785Z"
   },
   {
    "duration": 238,
    "start_time": "2022-03-18T20:06:09.416Z"
   },
   {
    "duration": 13,
    "start_time": "2022-03-18T20:06:17.051Z"
   },
   {
    "duration": 2746,
    "start_time": "2022-03-18T20:06:29.181Z"
   },
   {
    "duration": 5,
    "start_time": "2022-03-18T20:06:58.079Z"
   },
   {
    "duration": 6,
    "start_time": "2022-03-18T20:23:07.993Z"
   },
   {
    "duration": 6,
    "start_time": "2022-03-18T20:23:32.406Z"
   },
   {
    "duration": 6,
    "start_time": "2022-03-18T20:25:53.345Z"
   },
   {
    "duration": 51,
    "start_time": "2022-03-18T20:35:26.590Z"
   },
   {
    "duration": 148,
    "start_time": "2022-03-18T20:37:55.734Z"
   },
   {
    "duration": 71,
    "start_time": "2022-03-18T20:38:02.497Z"
   },
   {
    "duration": 145,
    "start_time": "2022-03-18T20:39:07.923Z"
   },
   {
    "duration": 48,
    "start_time": "2022-03-18T20:39:14.456Z"
   },
   {
    "duration": 13,
    "start_time": "2022-03-18T20:45:02.835Z"
   },
   {
    "duration": 11,
    "start_time": "2022-03-18T20:45:22.379Z"
   },
   {
    "duration": 13,
    "start_time": "2022-03-18T20:46:20.789Z"
   },
   {
    "duration": 1405,
    "start_time": "2022-03-18T20:46:38.219Z"
   },
   {
    "duration": 45,
    "start_time": "2022-03-18T20:46:39.627Z"
   },
   {
    "duration": 158,
    "start_time": "2022-03-18T20:46:39.673Z"
   },
   {
    "duration": 142,
    "start_time": "2022-03-18T20:46:39.834Z"
   },
   {
    "duration": 33,
    "start_time": "2022-03-18T20:46:39.979Z"
   },
   {
    "duration": 98,
    "start_time": "2022-03-18T20:46:40.014Z"
   },
   {
    "duration": 106,
    "start_time": "2022-03-18T20:46:40.113Z"
   },
   {
    "duration": 16,
    "start_time": "2022-03-18T20:46:40.221Z"
   },
   {
    "duration": 23,
    "start_time": "2022-03-18T20:46:40.239Z"
   },
   {
    "duration": 17,
    "start_time": "2022-03-18T20:46:40.264Z"
   },
   {
    "duration": 127,
    "start_time": "2022-03-18T20:46:40.282Z"
   },
   {
    "duration": 97,
    "start_time": "2022-03-18T20:46:40.411Z"
   },
   {
    "duration": 72,
    "start_time": "2022-03-18T20:46:40.510Z"
   },
   {
    "duration": 32,
    "start_time": "2022-03-18T20:46:40.604Z"
   },
   {
    "duration": 32,
    "start_time": "2022-03-18T20:46:40.638Z"
   },
   {
    "duration": 47,
    "start_time": "2022-03-18T20:46:40.673Z"
   },
   {
    "duration": 24,
    "start_time": "2022-03-18T20:46:40.721Z"
   },
   {
    "duration": 10,
    "start_time": "2022-03-18T20:46:40.747Z"
   },
   {
    "duration": 41,
    "start_time": "2022-03-18T20:46:40.759Z"
   },
   {
    "duration": 10,
    "start_time": "2022-03-18T20:46:40.802Z"
   },
   {
    "duration": 14,
    "start_time": "2022-03-18T20:46:40.813Z"
   },
   {
    "duration": 24,
    "start_time": "2022-03-18T20:46:40.828Z"
   },
   {
    "duration": 3,
    "start_time": "2022-03-18T20:46:40.854Z"
   },
   {
    "duration": 47,
    "start_time": "2022-03-18T20:46:40.859Z"
   },
   {
    "duration": 24,
    "start_time": "2022-03-18T20:46:40.908Z"
   },
   {
    "duration": 35,
    "start_time": "2022-03-18T20:46:40.935Z"
   },
   {
    "duration": 118,
    "start_time": "2022-03-18T20:46:40.971Z"
   },
   {
    "duration": 110,
    "start_time": "2022-03-18T20:46:41.090Z"
   },
   {
    "duration": 47,
    "start_time": "2022-03-18T20:46:41.202Z"
   },
   {
    "duration": 29,
    "start_time": "2022-03-18T20:46:41.251Z"
   },
   {
    "duration": 37,
    "start_time": "2022-03-18T20:46:41.282Z"
   },
   {
    "duration": 22,
    "start_time": "2022-03-18T20:46:41.322Z"
   },
   {
    "duration": 13,
    "start_time": "2022-03-18T20:46:41.346Z"
   },
   {
    "duration": 161,
    "start_time": "2022-03-18T20:46:41.361Z"
   },
   {
    "duration": 128,
    "start_time": "2022-03-18T20:46:41.523Z"
   },
   {
    "duration": 9,
    "start_time": "2022-03-18T20:46:41.653Z"
   },
   {
    "duration": 15,
    "start_time": "2022-03-18T20:46:41.664Z"
   },
   {
    "duration": 198,
    "start_time": "2022-03-18T20:46:41.681Z"
   },
   {
    "duration": 190,
    "start_time": "2022-03-18T20:46:41.881Z"
   },
   {
    "duration": 36,
    "start_time": "2022-03-18T20:46:42.073Z"
   },
   {
    "duration": 27,
    "start_time": "2022-03-18T20:46:42.113Z"
   },
   {
    "duration": 147,
    "start_time": "2022-03-18T20:46:42.142Z"
   },
   {
    "duration": 0,
    "start_time": "2022-03-18T20:46:42.291Z"
   },
   {
    "duration": 0,
    "start_time": "2022-03-18T20:46:42.293Z"
   },
   {
    "duration": 0,
    "start_time": "2022-03-18T20:46:42.294Z"
   },
   {
    "duration": 0,
    "start_time": "2022-03-18T20:46:42.295Z"
   },
   {
    "duration": 0,
    "start_time": "2022-03-18T20:46:42.297Z"
   },
   {
    "duration": 0,
    "start_time": "2022-03-18T20:46:42.298Z"
   },
   {
    "duration": 0,
    "start_time": "2022-03-18T20:46:42.300Z"
   },
   {
    "duration": 0,
    "start_time": "2022-03-18T20:46:42.301Z"
   },
   {
    "duration": 0,
    "start_time": "2022-03-18T20:46:42.302Z"
   },
   {
    "duration": 1,
    "start_time": "2022-03-18T20:46:42.302Z"
   },
   {
    "duration": 0,
    "start_time": "2022-03-18T20:46:42.303Z"
   },
   {
    "duration": 0,
    "start_time": "2022-03-18T20:46:42.304Z"
   },
   {
    "duration": 0,
    "start_time": "2022-03-18T20:46:42.305Z"
   },
   {
    "duration": 0,
    "start_time": "2022-03-18T20:46:42.306Z"
   },
   {
    "duration": 0,
    "start_time": "2022-03-18T20:46:42.307Z"
   },
   {
    "duration": 0,
    "start_time": "2022-03-18T20:46:42.308Z"
   },
   {
    "duration": 0,
    "start_time": "2022-03-18T20:46:42.309Z"
   },
   {
    "duration": 0,
    "start_time": "2022-03-18T20:46:42.310Z"
   },
   {
    "duration": 0,
    "start_time": "2022-03-18T20:46:42.311Z"
   },
   {
    "duration": 190,
    "start_time": "2022-03-18T20:46:48.856Z"
   },
   {
    "duration": 54,
    "start_time": "2022-03-18T20:46:49.049Z"
   },
   {
    "duration": 132,
    "start_time": "2022-03-18T20:46:49.105Z"
   },
   {
    "duration": 147,
    "start_time": "2022-03-18T20:46:49.238Z"
   },
   {
    "duration": 34,
    "start_time": "2022-03-18T20:46:49.387Z"
   },
   {
    "duration": 85,
    "start_time": "2022-03-18T20:46:49.423Z"
   },
   {
    "duration": 98,
    "start_time": "2022-03-18T20:46:49.510Z"
   },
   {
    "duration": 16,
    "start_time": "2022-03-18T20:46:49.610Z"
   },
   {
    "duration": 23,
    "start_time": "2022-03-18T20:46:49.628Z"
   },
   {
    "duration": 19,
    "start_time": "2022-03-18T20:46:49.653Z"
   },
   {
    "duration": 136,
    "start_time": "2022-03-18T20:46:49.674Z"
   },
   {
    "duration": 94,
    "start_time": "2022-03-18T20:46:49.812Z"
   },
   {
    "duration": 71,
    "start_time": "2022-03-18T20:46:49.908Z"
   },
   {
    "duration": 32,
    "start_time": "2022-03-18T20:46:50.000Z"
   },
   {
    "duration": 32,
    "start_time": "2022-03-18T20:46:50.035Z"
   },
   {
    "duration": 47,
    "start_time": "2022-03-18T20:46:50.070Z"
   },
   {
    "duration": 21,
    "start_time": "2022-03-18T20:46:50.119Z"
   },
   {
    "duration": 9,
    "start_time": "2022-03-18T20:46:50.142Z"
   },
   {
    "duration": 13,
    "start_time": "2022-03-18T20:46:50.153Z"
   },
   {
    "duration": 39,
    "start_time": "2022-03-18T20:46:50.169Z"
   },
   {
    "duration": 28,
    "start_time": "2022-03-18T20:46:50.210Z"
   },
   {
    "duration": 22,
    "start_time": "2022-03-18T20:46:50.240Z"
   },
   {
    "duration": 2,
    "start_time": "2022-03-18T20:46:50.265Z"
   },
   {
    "duration": 20,
    "start_time": "2022-03-18T20:46:50.269Z"
   },
   {
    "duration": 27,
    "start_time": "2022-03-18T20:46:50.291Z"
   },
   {
    "duration": 31,
    "start_time": "2022-03-18T20:46:50.320Z"
   },
   {
    "duration": 110,
    "start_time": "2022-03-18T20:46:50.353Z"
   },
   {
    "duration": 97,
    "start_time": "2022-03-18T20:46:50.464Z"
   },
   {
    "duration": 56,
    "start_time": "2022-03-18T20:46:50.563Z"
   },
   {
    "duration": 25,
    "start_time": "2022-03-18T20:46:50.620Z"
   },
   {
    "duration": 27,
    "start_time": "2022-03-18T20:46:50.646Z"
   },
   {
    "duration": 43,
    "start_time": "2022-03-18T20:46:50.675Z"
   },
   {
    "duration": 22,
    "start_time": "2022-03-18T20:46:50.720Z"
   },
   {
    "duration": 122,
    "start_time": "2022-03-18T20:46:50.744Z"
   },
   {
    "duration": 112,
    "start_time": "2022-03-18T20:46:50.869Z"
   },
   {
    "duration": 26,
    "start_time": "2022-03-18T20:46:50.983Z"
   },
   {
    "duration": 14,
    "start_time": "2022-03-18T20:46:51.011Z"
   },
   {
    "duration": 200,
    "start_time": "2022-03-18T20:46:51.027Z"
   },
   {
    "duration": 257,
    "start_time": "2022-03-18T20:46:51.228Z"
   },
   {
    "duration": 46,
    "start_time": "2022-03-18T20:46:51.488Z"
   },
   {
    "duration": 31,
    "start_time": "2022-03-18T20:46:51.539Z"
   },
   {
    "duration": 193,
    "start_time": "2022-03-18T20:46:51.572Z"
   },
   {
    "duration": 0,
    "start_time": "2022-03-18T20:46:51.766Z"
   },
   {
    "duration": 0,
    "start_time": "2022-03-18T20:46:51.769Z"
   },
   {
    "duration": 0,
    "start_time": "2022-03-18T20:46:51.770Z"
   },
   {
    "duration": 0,
    "start_time": "2022-03-18T20:46:51.771Z"
   },
   {
    "duration": 0,
    "start_time": "2022-03-18T20:46:51.773Z"
   },
   {
    "duration": 0,
    "start_time": "2022-03-18T20:46:51.773Z"
   },
   {
    "duration": 0,
    "start_time": "2022-03-18T20:46:51.775Z"
   },
   {
    "duration": 0,
    "start_time": "2022-03-18T20:46:51.776Z"
   },
   {
    "duration": 0,
    "start_time": "2022-03-18T20:46:51.777Z"
   },
   {
    "duration": 0,
    "start_time": "2022-03-18T20:46:51.778Z"
   },
   {
    "duration": 0,
    "start_time": "2022-03-18T20:46:51.779Z"
   },
   {
    "duration": 0,
    "start_time": "2022-03-18T20:46:51.780Z"
   },
   {
    "duration": 0,
    "start_time": "2022-03-18T20:46:51.782Z"
   },
   {
    "duration": 0,
    "start_time": "2022-03-18T20:46:51.783Z"
   },
   {
    "duration": 0,
    "start_time": "2022-03-18T20:46:51.784Z"
   },
   {
    "duration": 0,
    "start_time": "2022-03-18T20:46:51.785Z"
   },
   {
    "duration": 0,
    "start_time": "2022-03-18T20:46:51.786Z"
   },
   {
    "duration": 0,
    "start_time": "2022-03-18T20:46:51.787Z"
   },
   {
    "duration": 0,
    "start_time": "2022-03-18T20:46:51.789Z"
   },
   {
    "duration": 4,
    "start_time": "2022-03-18T20:48:33.933Z"
   },
   {
    "duration": 10,
    "start_time": "2022-03-18T20:48:44.610Z"
   },
   {
    "duration": 22,
    "start_time": "2022-03-18T20:48:53.557Z"
   },
   {
    "duration": 22,
    "start_time": "2022-03-18T20:49:55.650Z"
   },
   {
    "duration": 8,
    "start_time": "2022-03-18T20:51:04.023Z"
   },
   {
    "duration": 5,
    "start_time": "2022-03-18T20:51:17.010Z"
   },
   {
    "duration": 5,
    "start_time": "2022-03-18T20:51:24.834Z"
   },
   {
    "duration": 49,
    "start_time": "2022-03-19T18:15:44.446Z"
   },
   {
    "duration": 3,
    "start_time": "2022-03-19T18:16:07.999Z"
   },
   {
    "duration": 5,
    "start_time": "2022-03-19T18:47:50.920Z"
   },
   {
    "duration": 7,
    "start_time": "2022-03-19T18:47:54.629Z"
   },
   {
    "duration": 1402,
    "start_time": "2022-03-19T18:48:09.803Z"
   },
   {
    "duration": 32,
    "start_time": "2022-03-19T18:48:11.207Z"
   },
   {
    "duration": 118,
    "start_time": "2022-03-19T18:48:11.240Z"
   },
   {
    "duration": 118,
    "start_time": "2022-03-19T18:48:11.359Z"
   },
   {
    "duration": 21,
    "start_time": "2022-03-19T18:48:11.478Z"
   },
   {
    "duration": 88,
    "start_time": "2022-03-19T18:48:11.501Z"
   },
   {
    "duration": 87,
    "start_time": "2022-03-19T18:48:11.591Z"
   },
   {
    "duration": 20,
    "start_time": "2022-03-19T18:48:11.680Z"
   },
   {
    "duration": 14,
    "start_time": "2022-03-19T18:48:11.701Z"
   },
   {
    "duration": 23,
    "start_time": "2022-03-19T18:48:11.732Z"
   },
   {
    "duration": 15,
    "start_time": "2022-03-19T18:48:11.756Z"
   },
   {
    "duration": 101,
    "start_time": "2022-03-19T18:48:11.772Z"
   },
   {
    "duration": 87,
    "start_time": "2022-03-19T18:48:11.875Z"
   },
   {
    "duration": 72,
    "start_time": "2022-03-19T18:48:11.963Z"
   },
   {
    "duration": 28,
    "start_time": "2022-03-19T18:48:12.037Z"
   },
   {
    "duration": 29,
    "start_time": "2022-03-19T18:48:12.066Z"
   },
   {
    "duration": 45,
    "start_time": "2022-03-19T18:48:12.097Z"
   },
   {
    "duration": 19,
    "start_time": "2022-03-19T18:48:12.144Z"
   },
   {
    "duration": 8,
    "start_time": "2022-03-19T18:48:12.165Z"
   },
   {
    "duration": 9,
    "start_time": "2022-03-19T18:48:12.175Z"
   },
   {
    "duration": 11,
    "start_time": "2022-03-19T18:48:12.185Z"
   },
   {
    "duration": 37,
    "start_time": "2022-03-19T18:48:12.197Z"
   },
   {
    "duration": 18,
    "start_time": "2022-03-19T18:48:12.235Z"
   },
   {
    "duration": 3,
    "start_time": "2022-03-19T18:48:12.255Z"
   },
   {
    "duration": 9,
    "start_time": "2022-03-19T18:48:12.259Z"
   },
   {
    "duration": 19,
    "start_time": "2022-03-19T18:48:12.270Z"
   },
   {
    "duration": 60,
    "start_time": "2022-03-19T18:48:12.291Z"
   },
   {
    "duration": 96,
    "start_time": "2022-03-19T18:48:12.356Z"
   },
   {
    "duration": 21,
    "start_time": "2022-03-19T18:48:12.454Z"
   },
   {
    "duration": 19,
    "start_time": "2022-03-19T18:48:12.477Z"
   },
   {
    "duration": 43,
    "start_time": "2022-03-19T18:48:12.498Z"
   },
   {
    "duration": 23,
    "start_time": "2022-03-19T18:48:12.543Z"
   },
   {
    "duration": 17,
    "start_time": "2022-03-19T18:48:12.568Z"
   },
   {
    "duration": 132,
    "start_time": "2022-03-19T18:48:12.587Z"
   },
   {
    "duration": 99,
    "start_time": "2022-03-19T18:48:12.721Z"
   },
   {
    "duration": 8,
    "start_time": "2022-03-19T18:48:12.832Z"
   },
   {
    "duration": 8,
    "start_time": "2022-03-19T18:48:12.842Z"
   },
   {
    "duration": 175,
    "start_time": "2022-03-19T18:48:12.852Z"
   },
   {
    "duration": 167,
    "start_time": "2022-03-19T18:48:13.032Z"
   },
   {
    "duration": 33,
    "start_time": "2022-03-19T18:48:13.201Z"
   },
   {
    "duration": 22,
    "start_time": "2022-03-19T18:48:13.235Z"
   },
   {
    "duration": 20,
    "start_time": "2022-03-19T18:48:13.259Z"
   },
   {
    "duration": 5,
    "start_time": "2022-03-19T18:48:13.281Z"
   },
   {
    "duration": 125,
    "start_time": "2022-03-19T18:48:13.287Z"
   },
   {
    "duration": 0,
    "start_time": "2022-03-19T18:48:13.414Z"
   },
   {
    "duration": 0,
    "start_time": "2022-03-19T18:48:13.415Z"
   },
   {
    "duration": 0,
    "start_time": "2022-03-19T18:48:13.416Z"
   },
   {
    "duration": 0,
    "start_time": "2022-03-19T18:48:13.417Z"
   },
   {
    "duration": 0,
    "start_time": "2022-03-19T18:48:13.418Z"
   },
   {
    "duration": 0,
    "start_time": "2022-03-19T18:48:13.419Z"
   },
   {
    "duration": 0,
    "start_time": "2022-03-19T18:48:13.421Z"
   },
   {
    "duration": 0,
    "start_time": "2022-03-19T18:48:13.422Z"
   },
   {
    "duration": 0,
    "start_time": "2022-03-19T18:48:13.423Z"
   },
   {
    "duration": 0,
    "start_time": "2022-03-19T18:48:13.424Z"
   },
   {
    "duration": 0,
    "start_time": "2022-03-19T18:48:13.426Z"
   },
   {
    "duration": 0,
    "start_time": "2022-03-19T18:48:13.426Z"
   },
   {
    "duration": 0,
    "start_time": "2022-03-19T18:48:13.427Z"
   },
   {
    "duration": 0,
    "start_time": "2022-03-19T18:48:13.428Z"
   },
   {
    "duration": 156,
    "start_time": "2022-03-19T18:49:22.363Z"
   },
   {
    "duration": 24,
    "start_time": "2022-03-19T18:49:22.534Z"
   },
   {
    "duration": 124,
    "start_time": "2022-03-19T18:49:22.560Z"
   },
   {
    "duration": 126,
    "start_time": "2022-03-19T18:49:22.686Z"
   },
   {
    "duration": 25,
    "start_time": "2022-03-19T18:49:22.815Z"
   },
   {
    "duration": 63,
    "start_time": "2022-03-19T18:49:22.841Z"
   },
   {
    "duration": 94,
    "start_time": "2022-03-19T18:49:22.906Z"
   },
   {
    "duration": 18,
    "start_time": "2022-03-19T18:49:23.002Z"
   },
   {
    "duration": 14,
    "start_time": "2022-03-19T18:49:23.032Z"
   },
   {
    "duration": 22,
    "start_time": "2022-03-19T18:49:23.048Z"
   },
   {
    "duration": 15,
    "start_time": "2022-03-19T18:49:23.072Z"
   },
   {
    "duration": 107,
    "start_time": "2022-03-19T18:49:23.089Z"
   },
   {
    "duration": 82,
    "start_time": "2022-03-19T18:49:23.198Z"
   },
   {
    "duration": 75,
    "start_time": "2022-03-19T18:49:23.284Z"
   },
   {
    "duration": 33,
    "start_time": "2022-03-19T18:49:23.361Z"
   },
   {
    "duration": 51,
    "start_time": "2022-03-19T18:49:23.396Z"
   },
   {
    "duration": 17,
    "start_time": "2022-03-19T18:49:23.448Z"
   },
   {
    "duration": 17,
    "start_time": "2022-03-19T18:49:23.467Z"
   },
   {
    "duration": 9,
    "start_time": "2022-03-19T18:49:23.485Z"
   },
   {
    "duration": 11,
    "start_time": "2022-03-19T18:49:23.495Z"
   },
   {
    "duration": 9,
    "start_time": "2022-03-19T18:49:23.532Z"
   },
   {
    "duration": 11,
    "start_time": "2022-03-19T18:49:23.542Z"
   },
   {
    "duration": 20,
    "start_time": "2022-03-19T18:49:23.554Z"
   },
   {
    "duration": 2,
    "start_time": "2022-03-19T18:49:23.575Z"
   },
   {
    "duration": 12,
    "start_time": "2022-03-19T18:49:23.579Z"
   },
   {
    "duration": 52,
    "start_time": "2022-03-19T18:49:23.592Z"
   },
   {
    "duration": 25,
    "start_time": "2022-03-19T18:49:23.645Z"
   },
   {
    "duration": 99,
    "start_time": "2022-03-19T18:49:23.672Z"
   },
   {
    "duration": 20,
    "start_time": "2022-03-19T18:49:23.772Z"
   },
   {
    "duration": 19,
    "start_time": "2022-03-19T18:49:23.794Z"
   },
   {
    "duration": 17,
    "start_time": "2022-03-19T18:49:23.832Z"
   },
   {
    "duration": 18,
    "start_time": "2022-03-19T18:49:23.851Z"
   },
   {
    "duration": 21,
    "start_time": "2022-03-19T18:49:23.870Z"
   },
   {
    "duration": 118,
    "start_time": "2022-03-19T18:49:23.892Z"
   },
   {
    "duration": 104,
    "start_time": "2022-03-19T18:49:24.011Z"
   },
   {
    "duration": 16,
    "start_time": "2022-03-19T18:49:24.117Z"
   },
   {
    "duration": 8,
    "start_time": "2022-03-19T18:49:24.135Z"
   },
   {
    "duration": 161,
    "start_time": "2022-03-19T18:49:24.144Z"
   },
   {
    "duration": 161,
    "start_time": "2022-03-19T18:49:24.307Z"
   },
   {
    "duration": 23,
    "start_time": "2022-03-19T18:49:24.470Z"
   },
   {
    "duration": 40,
    "start_time": "2022-03-19T18:49:24.497Z"
   },
   {
    "duration": 25,
    "start_time": "2022-03-19T18:49:24.539Z"
   },
   {
    "duration": 8,
    "start_time": "2022-03-19T18:49:24.566Z"
   },
   {
    "duration": 106,
    "start_time": "2022-03-19T18:49:24.575Z"
   },
   {
    "duration": 0,
    "start_time": "2022-03-19T18:49:24.682Z"
   },
   {
    "duration": 0,
    "start_time": "2022-03-19T18:49:24.684Z"
   },
   {
    "duration": 0,
    "start_time": "2022-03-19T18:49:24.685Z"
   },
   {
    "duration": 0,
    "start_time": "2022-03-19T18:49:24.686Z"
   },
   {
    "duration": 0,
    "start_time": "2022-03-19T18:49:24.687Z"
   },
   {
    "duration": 0,
    "start_time": "2022-03-19T18:49:24.688Z"
   },
   {
    "duration": 0,
    "start_time": "2022-03-19T18:49:24.689Z"
   },
   {
    "duration": 0,
    "start_time": "2022-03-19T18:49:24.690Z"
   },
   {
    "duration": 0,
    "start_time": "2022-03-19T18:49:24.691Z"
   },
   {
    "duration": 0,
    "start_time": "2022-03-19T18:49:24.692Z"
   },
   {
    "duration": 0,
    "start_time": "2022-03-19T18:49:24.693Z"
   },
   {
    "duration": 0,
    "start_time": "2022-03-19T18:49:24.694Z"
   },
   {
    "duration": 0,
    "start_time": "2022-03-19T18:49:24.695Z"
   },
   {
    "duration": 0,
    "start_time": "2022-03-19T18:49:24.696Z"
   },
   {
    "duration": 61,
    "start_time": "2022-03-19T18:51:44.171Z"
   },
   {
    "duration": 22,
    "start_time": "2022-03-19T18:52:37.124Z"
   },
   {
    "duration": 15,
    "start_time": "2022-03-19T18:52:51.855Z"
   },
   {
    "duration": 7,
    "start_time": "2022-03-19T19:08:22.275Z"
   },
   {
    "duration": 199,
    "start_time": "2022-03-19T19:08:42.756Z"
   },
   {
    "duration": 6,
    "start_time": "2022-03-19T19:54:00.088Z"
   },
   {
    "duration": 177,
    "start_time": "2022-03-19T19:54:03.017Z"
   },
   {
    "duration": 120,
    "start_time": "2022-03-19T19:54:13.619Z"
   },
   {
    "duration": 6,
    "start_time": "2022-03-19T19:54:15.518Z"
   },
   {
    "duration": 183,
    "start_time": "2022-03-19T19:54:47.490Z"
   },
   {
    "duration": 131,
    "start_time": "2022-03-19T20:35:02.754Z"
   },
   {
    "duration": 1390,
    "start_time": "2022-03-30T06:44:32.326Z"
   },
   {
    "duration": 26,
    "start_time": "2022-03-30T06:44:33.719Z"
   },
   {
    "duration": 130,
    "start_time": "2022-03-30T06:44:33.747Z"
   },
   {
    "duration": 130,
    "start_time": "2022-03-30T06:44:33.880Z"
   },
   {
    "duration": 21,
    "start_time": "2022-03-30T06:44:34.012Z"
   },
   {
    "duration": 92,
    "start_time": "2022-03-30T06:44:34.034Z"
   },
   {
    "duration": 83,
    "start_time": "2022-03-30T06:44:34.128Z"
   },
   {
    "duration": 69,
    "start_time": "2022-03-30T06:44:34.212Z"
   },
   {
    "duration": 26,
    "start_time": "2022-03-30T06:44:34.283Z"
   },
   {
    "duration": 21,
    "start_time": "2022-03-30T06:44:34.312Z"
   },
   {
    "duration": 14,
    "start_time": "2022-03-30T06:44:34.334Z"
   },
   {
    "duration": 106,
    "start_time": "2022-03-30T06:44:34.350Z"
   },
   {
    "duration": 84,
    "start_time": "2022-03-30T06:44:34.458Z"
   },
   {
    "duration": 69,
    "start_time": "2022-03-30T06:44:34.543Z"
   },
   {
    "duration": 26,
    "start_time": "2022-03-30T06:44:34.614Z"
   },
   {
    "duration": 29,
    "start_time": "2022-03-30T06:44:34.641Z"
   },
   {
    "duration": 47,
    "start_time": "2022-03-30T06:44:34.671Z"
   },
   {
    "duration": 17,
    "start_time": "2022-03-30T06:44:34.719Z"
   },
   {
    "duration": 8,
    "start_time": "2022-03-30T06:44:34.738Z"
   },
   {
    "duration": 10,
    "start_time": "2022-03-30T06:44:34.747Z"
   },
   {
    "duration": 8,
    "start_time": "2022-03-30T06:44:34.758Z"
   },
   {
    "duration": 42,
    "start_time": "2022-03-30T06:44:34.768Z"
   },
   {
    "duration": 17,
    "start_time": "2022-03-30T06:44:34.812Z"
   },
   {
    "duration": 2,
    "start_time": "2022-03-30T06:44:34.830Z"
   },
   {
    "duration": 11,
    "start_time": "2022-03-30T06:44:34.834Z"
   },
   {
    "duration": 19,
    "start_time": "2022-03-30T06:44:34.846Z"
   },
   {
    "duration": 55,
    "start_time": "2022-03-30T06:44:34.866Z"
   },
   {
    "duration": 90,
    "start_time": "2022-03-30T06:44:34.924Z"
   },
   {
    "duration": 22,
    "start_time": "2022-03-30T06:44:35.016Z"
   },
   {
    "duration": 20,
    "start_time": "2022-03-30T06:44:35.040Z"
   },
   {
    "duration": 19,
    "start_time": "2022-03-30T06:44:35.062Z"
   },
   {
    "duration": 36,
    "start_time": "2022-03-30T06:44:35.083Z"
   },
   {
    "duration": 20,
    "start_time": "2022-03-30T06:44:35.121Z"
   },
   {
    "duration": 134,
    "start_time": "2022-03-30T06:44:35.143Z"
   },
   {
    "duration": 115,
    "start_time": "2022-03-30T06:44:35.279Z"
   },
   {
    "duration": 19,
    "start_time": "2022-03-30T06:44:35.396Z"
   },
   {
    "duration": 8,
    "start_time": "2022-03-30T06:44:35.417Z"
   },
   {
    "duration": 184,
    "start_time": "2022-03-30T06:44:35.426Z"
   },
   {
    "duration": 177,
    "start_time": "2022-03-30T06:44:35.612Z"
   },
   {
    "duration": 36,
    "start_time": "2022-03-30T06:44:35.791Z"
   },
   {
    "duration": 27,
    "start_time": "2022-03-30T06:44:35.829Z"
   },
   {
    "duration": 61,
    "start_time": "2022-03-30T06:44:35.858Z"
   },
   {
    "duration": 6,
    "start_time": "2022-03-30T06:44:35.920Z"
   },
   {
    "duration": 227,
    "start_time": "2022-03-30T06:44:35.928Z"
   },
   {
    "duration": 14,
    "start_time": "2022-03-30T06:44:36.157Z"
   },
   {
    "duration": 323,
    "start_time": "2022-03-30T06:44:36.172Z"
   },
   {
    "duration": 114,
    "start_time": "2022-03-30T06:44:36.497Z"
   },
   {
    "duration": 0,
    "start_time": "2022-03-30T06:44:36.613Z"
   },
   {
    "duration": 0,
    "start_time": "2022-03-30T06:44:36.614Z"
   },
   {
    "duration": 0,
    "start_time": "2022-03-30T06:44:36.615Z"
   },
   {
    "duration": 0,
    "start_time": "2022-03-30T06:44:36.616Z"
   },
   {
    "duration": 0,
    "start_time": "2022-03-30T06:44:36.617Z"
   },
   {
    "duration": 0,
    "start_time": "2022-03-30T06:44:36.618Z"
   },
   {
    "duration": 0,
    "start_time": "2022-03-30T06:44:36.619Z"
   },
   {
    "duration": 0,
    "start_time": "2022-03-30T06:44:36.620Z"
   },
   {
    "duration": 250,
    "start_time": "2022-03-30T06:44:55.731Z"
   },
   {
    "duration": 26,
    "start_time": "2022-03-30T06:44:55.983Z"
   },
   {
    "duration": 291,
    "start_time": "2022-03-30T06:44:56.011Z"
   },
   {
    "duration": 21,
    "start_time": "2022-03-30T06:44:56.304Z"
   },
   {
    "duration": 222,
    "start_time": "2022-03-30T06:44:56.326Z"
   },
   {
    "duration": 14,
    "start_time": "2022-03-30T06:44:56.550Z"
   },
   {
    "duration": 5,
    "start_time": "2022-03-30T06:44:56.566Z"
   },
   {
    "duration": 7,
    "start_time": "2022-03-30T06:44:56.573Z"
   },
   {
    "duration": 132,
    "start_time": "2022-03-31T13:50:52.177Z"
   },
   {
    "duration": 43,
    "start_time": "2022-03-31T13:52:39.761Z"
   },
   {
    "duration": 148,
    "start_time": "2022-03-31T13:54:35.459Z"
   },
   {
    "duration": 1370,
    "start_time": "2022-03-31T13:54:53.974Z"
   },
   {
    "duration": 26,
    "start_time": "2022-03-31T13:54:55.346Z"
   },
   {
    "duration": 133,
    "start_time": "2022-03-31T13:54:55.374Z"
   },
   {
    "duration": 133,
    "start_time": "2022-03-31T13:54:55.509Z"
   },
   {
    "duration": 22,
    "start_time": "2022-03-31T13:54:55.644Z"
   },
   {
    "duration": 93,
    "start_time": "2022-03-31T13:54:55.668Z"
   },
   {
    "duration": 91,
    "start_time": "2022-03-31T13:54:55.763Z"
   },
   {
    "duration": 84,
    "start_time": "2022-03-31T13:54:55.855Z"
   },
   {
    "duration": 15,
    "start_time": "2022-03-31T13:54:55.941Z"
   },
   {
    "duration": 23,
    "start_time": "2022-03-31T13:54:55.960Z"
   },
   {
    "duration": 15,
    "start_time": "2022-03-31T13:54:55.985Z"
   },
   {
    "duration": 115,
    "start_time": "2022-03-31T13:54:56.002Z"
   },
   {
    "duration": 76,
    "start_time": "2022-03-31T13:54:56.119Z"
   },
   {
    "duration": 74,
    "start_time": "2022-03-31T13:54:56.197Z"
   },
   {
    "duration": 25,
    "start_time": "2022-03-31T13:54:56.273Z"
   },
   {
    "duration": 43,
    "start_time": "2022-03-31T13:54:56.300Z"
   },
   {
    "duration": 18,
    "start_time": "2022-03-31T13:54:56.345Z"
   },
   {
    "duration": 17,
    "start_time": "2022-03-31T13:54:56.365Z"
   },
   {
    "duration": 7,
    "start_time": "2022-03-31T13:54:56.384Z"
   },
   {
    "duration": 14,
    "start_time": "2022-03-31T13:54:56.393Z"
   },
   {
    "duration": 8,
    "start_time": "2022-03-31T13:54:56.433Z"
   },
   {
    "duration": 11,
    "start_time": "2022-03-31T13:54:56.443Z"
   },
   {
    "duration": 19,
    "start_time": "2022-03-31T13:54:56.455Z"
   },
   {
    "duration": 2,
    "start_time": "2022-03-31T13:54:56.476Z"
   },
   {
    "duration": 13,
    "start_time": "2022-03-31T13:54:56.480Z"
   },
   {
    "duration": 49,
    "start_time": "2022-03-31T13:54:56.494Z"
   },
   {
    "duration": 27,
    "start_time": "2022-03-31T13:54:56.545Z"
   },
   {
    "duration": 97,
    "start_time": "2022-03-31T13:54:56.576Z"
   },
   {
    "duration": 20,
    "start_time": "2022-03-31T13:54:56.675Z"
   },
   {
    "duration": 19,
    "start_time": "2022-03-31T13:54:56.697Z"
   },
   {
    "duration": 18,
    "start_time": "2022-03-31T13:54:56.732Z"
   },
   {
    "duration": 17,
    "start_time": "2022-03-31T13:54:56.752Z"
   },
   {
    "duration": 25,
    "start_time": "2022-03-31T13:54:56.771Z"
   },
   {
    "duration": 123,
    "start_time": "2022-03-31T13:54:56.797Z"
   },
   {
    "duration": 92,
    "start_time": "2022-03-31T13:54:56.922Z"
   },
   {
    "duration": 23,
    "start_time": "2022-03-31T13:54:57.015Z"
   },
   {
    "duration": 8,
    "start_time": "2022-03-31T13:54:57.040Z"
   },
   {
    "duration": 164,
    "start_time": "2022-03-31T13:54:57.050Z"
   },
   {
    "duration": 160,
    "start_time": "2022-03-31T13:54:57.216Z"
   },
   {
    "duration": 23,
    "start_time": "2022-03-31T13:54:57.378Z"
   },
   {
    "duration": 35,
    "start_time": "2022-03-31T13:54:57.403Z"
   },
   {
    "duration": 22,
    "start_time": "2022-03-31T13:54:57.439Z"
   },
   {
    "duration": 5,
    "start_time": "2022-03-31T13:54:57.463Z"
   },
   {
    "duration": 217,
    "start_time": "2022-03-31T13:54:57.469Z"
   },
   {
    "duration": 13,
    "start_time": "2022-03-31T13:54:57.687Z"
   },
   {
    "duration": 290,
    "start_time": "2022-03-31T13:54:57.702Z"
   },
   {
    "duration": 255,
    "start_time": "2022-03-31T13:54:57.993Z"
   },
   {
    "duration": 10,
    "start_time": "2022-03-31T13:54:58.250Z"
   },
   {
    "duration": 271,
    "start_time": "2022-03-31T13:54:58.262Z"
   },
   {
    "duration": 17,
    "start_time": "2022-03-31T13:54:58.534Z"
   },
   {
    "duration": 204,
    "start_time": "2022-03-31T13:54:58.553Z"
   },
   {
    "duration": 12,
    "start_time": "2022-03-31T13:54:58.759Z"
   },
   {
    "duration": 5,
    "start_time": "2022-03-31T13:54:58.773Z"
   },
   {
    "duration": 8,
    "start_time": "2022-03-31T13:54:58.779Z"
   },
   {
    "duration": 31,
    "start_time": "2022-03-31T13:55:36.196Z"
   },
   {
    "duration": 165,
    "start_time": "2022-03-31T14:00:09.963Z"
   },
   {
    "duration": 183,
    "start_time": "2022-03-31T14:00:19.129Z"
   },
   {
    "duration": 164,
    "start_time": "2022-03-31T14:00:54.417Z"
   },
   {
    "duration": 180,
    "start_time": "2022-03-31T14:01:07.035Z"
   },
   {
    "duration": 121,
    "start_time": "2022-03-31T14:01:52.810Z"
   },
   {
    "duration": 167,
    "start_time": "2022-03-31T14:02:51.473Z"
   },
   {
    "duration": 162,
    "start_time": "2022-03-31T14:03:13.892Z"
   },
   {
    "duration": 398,
    "start_time": "2022-03-31T14:05:16.207Z"
   },
   {
    "duration": 292,
    "start_time": "2022-03-31T14:06:25.137Z"
   },
   {
    "duration": 4,
    "start_time": "2022-03-31T14:09:18.023Z"
   },
   {
    "duration": 5,
    "start_time": "2022-03-31T14:09:43.500Z"
   },
   {
    "duration": 116,
    "start_time": "2022-03-31T14:10:34.627Z"
   },
   {
    "duration": 7,
    "start_time": "2022-03-31T14:10:43.901Z"
   },
   {
    "duration": 6,
    "start_time": "2022-03-31T14:10:55.005Z"
   },
   {
    "duration": 5,
    "start_time": "2022-03-31T14:11:00.730Z"
   },
   {
    "duration": 5,
    "start_time": "2022-03-31T14:12:02.418Z"
   },
   {
    "duration": 229,
    "start_time": "2022-03-31T14:12:51.264Z"
   },
   {
    "duration": 4,
    "start_time": "2022-03-31T14:16:23.420Z"
   },
   {
    "duration": 5,
    "start_time": "2022-03-31T14:16:54.266Z"
   },
   {
    "duration": 4,
    "start_time": "2022-03-31T14:17:07.137Z"
   },
   {
    "duration": 4,
    "start_time": "2022-03-31T14:18:00.819Z"
   },
   {
    "duration": 114,
    "start_time": "2022-03-31T14:22:28.192Z"
   },
   {
    "duration": 1301,
    "start_time": "2022-03-31T14:22:56.926Z"
   },
   {
    "duration": 25,
    "start_time": "2022-03-31T14:22:58.233Z"
   },
   {
    "duration": 126,
    "start_time": "2022-03-31T14:22:58.259Z"
   },
   {
    "duration": 132,
    "start_time": "2022-03-31T14:22:58.387Z"
   },
   {
    "duration": 25,
    "start_time": "2022-03-31T14:22:58.521Z"
   },
   {
    "duration": 90,
    "start_time": "2022-03-31T14:22:58.547Z"
   },
   {
    "duration": 85,
    "start_time": "2022-03-31T14:22:58.639Z"
   },
   {
    "duration": 81,
    "start_time": "2022-03-31T14:22:58.726Z"
   },
   {
    "duration": 14,
    "start_time": "2022-03-31T14:22:58.809Z"
   },
   {
    "duration": 22,
    "start_time": "2022-03-31T14:22:58.833Z"
   },
   {
    "duration": 14,
    "start_time": "2022-03-31T14:22:58.857Z"
   },
   {
    "duration": 106,
    "start_time": "2022-03-31T14:22:58.873Z"
   },
   {
    "duration": 80,
    "start_time": "2022-03-31T14:22:58.981Z"
   },
   {
    "duration": 74,
    "start_time": "2022-03-31T14:22:59.064Z"
   },
   {
    "duration": 27,
    "start_time": "2022-03-31T14:22:59.139Z"
   },
   {
    "duration": 28,
    "start_time": "2022-03-31T14:22:59.167Z"
   },
   {
    "duration": 45,
    "start_time": "2022-03-31T14:22:59.197Z"
   },
   {
    "duration": 21,
    "start_time": "2022-03-31T14:22:59.243Z"
   },
   {
    "duration": 8,
    "start_time": "2022-03-31T14:22:59.265Z"
   },
   {
    "duration": 11,
    "start_time": "2022-03-31T14:22:59.275Z"
   },
   {
    "duration": 11,
    "start_time": "2022-03-31T14:22:59.288Z"
   },
   {
    "duration": 36,
    "start_time": "2022-03-31T14:22:59.301Z"
   },
   {
    "duration": 20,
    "start_time": "2022-03-31T14:22:59.339Z"
   },
   {
    "duration": 36,
    "start_time": "2022-03-31T14:22:59.360Z"
   },
   {
    "duration": 20,
    "start_time": "2022-03-31T14:22:59.398Z"
   },
   {
    "duration": 23,
    "start_time": "2022-03-31T14:22:59.419Z"
   },
   {
    "duration": 29,
    "start_time": "2022-03-31T14:22:59.444Z"
   },
   {
    "duration": 99,
    "start_time": "2022-03-31T14:22:59.475Z"
   },
   {
    "duration": 22,
    "start_time": "2022-03-31T14:22:59.576Z"
   },
   {
    "duration": 37,
    "start_time": "2022-03-31T14:22:59.600Z"
   },
   {
    "duration": 18,
    "start_time": "2022-03-31T14:22:59.639Z"
   },
   {
    "duration": 17,
    "start_time": "2022-03-31T14:22:59.659Z"
   },
   {
    "duration": 21,
    "start_time": "2022-03-31T14:22:59.679Z"
   },
   {
    "duration": 138,
    "start_time": "2022-03-31T14:22:59.701Z"
   },
   {
    "duration": 101,
    "start_time": "2022-03-31T14:22:59.841Z"
   },
   {
    "duration": 8,
    "start_time": "2022-03-31T14:22:59.944Z"
   },
   {
    "duration": 13,
    "start_time": "2022-03-31T14:22:59.953Z"
   },
   {
    "duration": 197,
    "start_time": "2022-03-31T14:22:59.967Z"
   },
   {
    "duration": 181,
    "start_time": "2022-03-31T14:23:00.166Z"
   },
   {
    "duration": 25,
    "start_time": "2022-03-31T14:23:00.349Z"
   },
   {
    "duration": 24,
    "start_time": "2022-03-31T14:23:00.378Z"
   },
   {
    "duration": 46,
    "start_time": "2022-03-31T14:23:00.404Z"
   },
   {
    "duration": 6,
    "start_time": "2022-03-31T14:23:00.451Z"
   },
   {
    "duration": 216,
    "start_time": "2022-03-31T14:23:00.459Z"
   },
   {
    "duration": 15,
    "start_time": "2022-03-31T14:23:00.677Z"
   },
   {
    "duration": 363,
    "start_time": "2022-03-31T14:23:00.694Z"
   },
   {
    "duration": 264,
    "start_time": "2022-03-31T14:23:01.059Z"
   },
   {
    "duration": 14,
    "start_time": "2022-03-31T14:23:01.333Z"
   },
   {
    "duration": 357,
    "start_time": "2022-03-31T14:23:01.349Z"
   },
   {
    "duration": 27,
    "start_time": "2022-03-31T14:23:01.708Z"
   },
   {
    "duration": 199,
    "start_time": "2022-03-31T14:23:01.737Z"
   },
   {
    "duration": 13,
    "start_time": "2022-03-31T14:23:01.938Z"
   },
   {
    "duration": 32,
    "start_time": "2022-03-31T14:23:01.952Z"
   },
   {
    "duration": 76,
    "start_time": "2022-03-31T14:23:01.986Z"
   },
   {
    "duration": 68,
    "start_time": "2022-03-31T14:23:02.065Z"
   },
   {
    "duration": 15,
    "start_time": "2022-03-31T14:23:02.135Z"
   }
  ],
  "kernelspec": {
   "display_name": "Python 3 (ipykernel)",
   "language": "python",
   "name": "python3"
  },
  "language_info": {
   "codemirror_mode": {
    "name": "ipython",
    "version": 3
   },
   "file_extension": ".py",
   "mimetype": "text/x-python",
   "name": "python",
   "nbconvert_exporter": "python",
   "pygments_lexer": "ipython3",
   "version": "3.9.7"
  },
  "toc": {
   "base_numbering": 1,
   "nav_menu": {},
   "number_sections": true,
   "sideBar": true,
   "skip_h1_title": true,
   "title_cell": "Table of Contents",
   "title_sidebar": "Contents",
   "toc_cell": false,
   "toc_position": {
    "height": "calc(100% - 180px)",
    "left": "10px",
    "top": "150px",
    "width": "188.766px"
   },
   "toc_section_display": true,
   "toc_window_display": true
  }
 },
 "nbformat": 4,
 "nbformat_minor": 2
}
