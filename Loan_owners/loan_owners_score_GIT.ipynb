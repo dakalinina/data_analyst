{
 "cells": [
  {
   "cell_type": "markdown",
   "metadata": {},
   "source": [
    "# Исследование надёжности заёмщиков\n",
    "\n",
    "Заказчик — кредитный отдел банка. Нужно разобраться, влияет ли семейное положение и количество детей клиента на факт погашения кредита в срок. Входные данные от банка — статистика о платёжеспособности клиентов.\n",
    "\n",
    "Результаты исследования будут учтены при построении модели **кредитного скоринга** — специальной системы, которая оценивает способность потенциального заёмщика вернуть кредит банку."
   ]
  },
  {
   "cell_type": "markdown",
   "metadata": {},
   "source": [
    "## Шаг 1. Откройте файл с данными и изучите общую информацию"
   ]
  },
  {
   "cell_type": "code",
   "execution_count": 1,
   "metadata": {
    "scrolled": true
   },
   "outputs": [],
   "source": [
    "import pandas as pd\n",
    "from pymystem3 import Mystem\n",
    "from collections import Counter\n",
    "import itertools\n",
    "import warnings\n",
    "warnings.filterwarnings('ignore')"
   ]
  },
  {
   "cell_type": "code",
   "execution_count": 2,
   "metadata": {},
   "outputs": [
    {
     "data": {
      "text/html": [
       "<div>\n",
       "<style scoped>\n",
       "    .dataframe tbody tr th:only-of-type {\n",
       "        vertical-align: middle;\n",
       "    }\n",
       "\n",
       "    .dataframe tbody tr th {\n",
       "        vertical-align: top;\n",
       "    }\n",
       "\n",
       "    .dataframe thead th {\n",
       "        text-align: right;\n",
       "    }\n",
       "</style>\n",
       "<table border=\"1\" class=\"dataframe\">\n",
       "  <thead>\n",
       "    <tr style=\"text-align: right;\">\n",
       "      <th></th>\n",
       "      <th>children</th>\n",
       "      <th>days_employed</th>\n",
       "      <th>dob_years</th>\n",
       "      <th>education</th>\n",
       "      <th>education_id</th>\n",
       "      <th>family_status</th>\n",
       "      <th>family_status_id</th>\n",
       "      <th>gender</th>\n",
       "      <th>income_type</th>\n",
       "      <th>debt</th>\n",
       "      <th>total_income</th>\n",
       "      <th>purpose</th>\n",
       "    </tr>\n",
       "  </thead>\n",
       "  <tbody>\n",
       "    <tr>\n",
       "      <th>0</th>\n",
       "      <td>1</td>\n",
       "      <td>-8437.673028</td>\n",
       "      <td>42</td>\n",
       "      <td>высшее</td>\n",
       "      <td>0</td>\n",
       "      <td>женат / замужем</td>\n",
       "      <td>0</td>\n",
       "      <td>F</td>\n",
       "      <td>сотрудник</td>\n",
       "      <td>0</td>\n",
       "      <td>253875.639453</td>\n",
       "      <td>покупка жилья</td>\n",
       "    </tr>\n",
       "    <tr>\n",
       "      <th>1</th>\n",
       "      <td>1</td>\n",
       "      <td>-4024.803754</td>\n",
       "      <td>36</td>\n",
       "      <td>среднее</td>\n",
       "      <td>1</td>\n",
       "      <td>женат / замужем</td>\n",
       "      <td>0</td>\n",
       "      <td>F</td>\n",
       "      <td>сотрудник</td>\n",
       "      <td>0</td>\n",
       "      <td>112080.014102</td>\n",
       "      <td>приобретение автомобиля</td>\n",
       "    </tr>\n",
       "    <tr>\n",
       "      <th>2</th>\n",
       "      <td>0</td>\n",
       "      <td>-5623.422610</td>\n",
       "      <td>33</td>\n",
       "      <td>Среднее</td>\n",
       "      <td>1</td>\n",
       "      <td>женат / замужем</td>\n",
       "      <td>0</td>\n",
       "      <td>M</td>\n",
       "      <td>сотрудник</td>\n",
       "      <td>0</td>\n",
       "      <td>145885.952297</td>\n",
       "      <td>покупка жилья</td>\n",
       "    </tr>\n",
       "    <tr>\n",
       "      <th>3</th>\n",
       "      <td>3</td>\n",
       "      <td>-4124.747207</td>\n",
       "      <td>32</td>\n",
       "      <td>среднее</td>\n",
       "      <td>1</td>\n",
       "      <td>женат / замужем</td>\n",
       "      <td>0</td>\n",
       "      <td>M</td>\n",
       "      <td>сотрудник</td>\n",
       "      <td>0</td>\n",
       "      <td>267628.550329</td>\n",
       "      <td>дополнительное образование</td>\n",
       "    </tr>\n",
       "    <tr>\n",
       "      <th>4</th>\n",
       "      <td>0</td>\n",
       "      <td>340266.072047</td>\n",
       "      <td>53</td>\n",
       "      <td>среднее</td>\n",
       "      <td>1</td>\n",
       "      <td>гражданский брак</td>\n",
       "      <td>1</td>\n",
       "      <td>F</td>\n",
       "      <td>пенсионер</td>\n",
       "      <td>0</td>\n",
       "      <td>158616.077870</td>\n",
       "      <td>сыграть свадьбу</td>\n",
       "    </tr>\n",
       "    <tr>\n",
       "      <th>5</th>\n",
       "      <td>0</td>\n",
       "      <td>-926.185831</td>\n",
       "      <td>27</td>\n",
       "      <td>высшее</td>\n",
       "      <td>0</td>\n",
       "      <td>гражданский брак</td>\n",
       "      <td>1</td>\n",
       "      <td>M</td>\n",
       "      <td>компаньон</td>\n",
       "      <td>0</td>\n",
       "      <td>255763.565419</td>\n",
       "      <td>покупка жилья</td>\n",
       "    </tr>\n",
       "    <tr>\n",
       "      <th>6</th>\n",
       "      <td>0</td>\n",
       "      <td>-2879.202052</td>\n",
       "      <td>43</td>\n",
       "      <td>высшее</td>\n",
       "      <td>0</td>\n",
       "      <td>женат / замужем</td>\n",
       "      <td>0</td>\n",
       "      <td>F</td>\n",
       "      <td>компаньон</td>\n",
       "      <td>0</td>\n",
       "      <td>240525.971920</td>\n",
       "      <td>операции с жильем</td>\n",
       "    </tr>\n",
       "    <tr>\n",
       "      <th>7</th>\n",
       "      <td>0</td>\n",
       "      <td>-152.779569</td>\n",
       "      <td>50</td>\n",
       "      <td>СРЕДНЕЕ</td>\n",
       "      <td>1</td>\n",
       "      <td>женат / замужем</td>\n",
       "      <td>0</td>\n",
       "      <td>M</td>\n",
       "      <td>сотрудник</td>\n",
       "      <td>0</td>\n",
       "      <td>135823.934197</td>\n",
       "      <td>образование</td>\n",
       "    </tr>\n",
       "    <tr>\n",
       "      <th>8</th>\n",
       "      <td>2</td>\n",
       "      <td>-6929.865299</td>\n",
       "      <td>35</td>\n",
       "      <td>ВЫСШЕЕ</td>\n",
       "      <td>0</td>\n",
       "      <td>гражданский брак</td>\n",
       "      <td>1</td>\n",
       "      <td>F</td>\n",
       "      <td>сотрудник</td>\n",
       "      <td>0</td>\n",
       "      <td>95856.832424</td>\n",
       "      <td>на проведение свадьбы</td>\n",
       "    </tr>\n",
       "    <tr>\n",
       "      <th>9</th>\n",
       "      <td>0</td>\n",
       "      <td>-2188.756445</td>\n",
       "      <td>41</td>\n",
       "      <td>среднее</td>\n",
       "      <td>1</td>\n",
       "      <td>женат / замужем</td>\n",
       "      <td>0</td>\n",
       "      <td>M</td>\n",
       "      <td>сотрудник</td>\n",
       "      <td>0</td>\n",
       "      <td>144425.938277</td>\n",
       "      <td>покупка жилья для семьи</td>\n",
       "    </tr>\n",
       "  </tbody>\n",
       "</table>\n",
       "</div>"
      ],
      "text/plain": [
       "   children  days_employed  dob_years education  education_id  \\\n",
       "0         1   -8437.673028         42    высшее             0   \n",
       "1         1   -4024.803754         36   среднее             1   \n",
       "2         0   -5623.422610         33   Среднее             1   \n",
       "3         3   -4124.747207         32   среднее             1   \n",
       "4         0  340266.072047         53   среднее             1   \n",
       "5         0    -926.185831         27    высшее             0   \n",
       "6         0   -2879.202052         43    высшее             0   \n",
       "7         0    -152.779569         50   СРЕДНЕЕ             1   \n",
       "8         2   -6929.865299         35    ВЫСШЕЕ             0   \n",
       "9         0   -2188.756445         41   среднее             1   \n",
       "\n",
       "      family_status  family_status_id gender income_type  debt   total_income  \\\n",
       "0   женат / замужем                 0      F   сотрудник     0  253875.639453   \n",
       "1   женат / замужем                 0      F   сотрудник     0  112080.014102   \n",
       "2   женат / замужем                 0      M   сотрудник     0  145885.952297   \n",
       "3   женат / замужем                 0      M   сотрудник     0  267628.550329   \n",
       "4  гражданский брак                 1      F   пенсионер     0  158616.077870   \n",
       "5  гражданский брак                 1      M   компаньон     0  255763.565419   \n",
       "6   женат / замужем                 0      F   компаньон     0  240525.971920   \n",
       "7   женат / замужем                 0      M   сотрудник     0  135823.934197   \n",
       "8  гражданский брак                 1      F   сотрудник     0   95856.832424   \n",
       "9   женат / замужем                 0      M   сотрудник     0  144425.938277   \n",
       "\n",
       "                      purpose  \n",
       "0               покупка жилья  \n",
       "1     приобретение автомобиля  \n",
       "2               покупка жилья  \n",
       "3  дополнительное образование  \n",
       "4             сыграть свадьбу  \n",
       "5               покупка жилья  \n",
       "6           операции с жильем  \n",
       "7                 образование  \n",
       "8       на проведение свадьбы  \n",
       "9     покупка жилья для семьи  "
      ]
     },
     "metadata": {},
     "output_type": "display_data"
    },
    {
     "name": "stdout",
     "output_type": "stream",
     "text": [
      "<class 'pandas.core.frame.DataFrame'>\n",
      "RangeIndex: 21525 entries, 0 to 21524\n",
      "Data columns (total 12 columns):\n",
      " #   Column            Non-Null Count  Dtype  \n",
      "---  ------            --------------  -----  \n",
      " 0   children          21525 non-null  int64  \n",
      " 1   days_employed     19351 non-null  float64\n",
      " 2   dob_years         21525 non-null  int64  \n",
      " 3   education         21525 non-null  object \n",
      " 4   education_id      21525 non-null  int64  \n",
      " 5   family_status     21525 non-null  object \n",
      " 6   family_status_id  21525 non-null  int64  \n",
      " 7   gender            21525 non-null  object \n",
      " 8   income_type       21525 non-null  object \n",
      " 9   debt              21525 non-null  int64  \n",
      " 10  total_income      19351 non-null  float64\n",
      " 11  purpose           21525 non-null  object \n",
      "dtypes: float64(2), int64(5), object(5)\n",
      "memory usage: 2.0+ MB\n",
      "None\n"
     ]
    }
   ],
   "source": [
    "data = pd.read_csv('/Users/dasakalinina/Desktop/Practicum/_all_projects/Loan_owners/data.csv')\n",
    "\n",
    "display(data.head(10))\n",
    "print(data.info())"
   ]
  },
  {
   "cell_type": "code",
   "execution_count": 3,
   "metadata": {
    "scrolled": true
   },
   "outputs": [
    {
     "name": "stdout",
     "output_type": "stream",
     "text": [
      "Общее число дубликатов: 54\n",
      "children               0\n",
      "days_employed       2174\n",
      "dob_years              0\n",
      "education              0\n",
      "education_id           0\n",
      "family_status          0\n",
      "family_status_id       0\n",
      "gender                 0\n",
      "income_type            0\n",
      "debt                   0\n",
      "total_income        2174\n",
      "purpose                0\n",
      "dtype: int64\n",
      "Значения в children: [-1  0  1  2  3  4  5 20]\n",
      "Значения в dob_years: [ 0 19 20 21 22 23 24 25 26 27 28 29 30 31 32 33 34 35 36 37 38 39 40 41\n",
      " 42 43 44 45 46 47 48 49 50 51 52 53 54 55 56 57 58 59 60 61 62 63 64 65\n",
      " 66 67 68 69 70 71 72 73 74 75]\n",
      "Значения в education: ['ВЫСШЕЕ' 'Высшее' 'НАЧАЛЬНОЕ' 'НЕОКОНЧЕННОЕ ВЫСШЕЕ' 'Начальное'\n",
      " 'Неоконченное высшее' 'СРЕДНЕЕ' 'Среднее' 'УЧЕНАЯ СТЕПЕНЬ'\n",
      " 'Ученая степень' 'высшее' 'начальное' 'неоконченное высшее' 'среднее'\n",
      " 'ученая степень']\n",
      "Значения в family_status: ['Не женат / не замужем' 'в разводе' 'вдовец / вдова' 'гражданский брак'\n",
      " 'женат / замужем']\n",
      "Значения в gender: ['F' 'M' 'XNA']\n",
      "Значения в income_type: ['безработный' 'в декрете' 'госслужащий' 'компаньон' 'пенсионер'\n",
      " 'предприниматель' 'сотрудник' 'студент']\n",
      "Значения в debt: [0 1]\n",
      "Значения в purpose: ['автомобили' 'автомобиль' 'высшее образование'\n",
      " 'дополнительное образование' 'жилье' 'заняться высшим образованием'\n",
      " 'заняться образованием' 'на покупку автомобиля'\n",
      " 'на покупку подержанного автомобиля' 'на покупку своего автомобиля'\n",
      " 'на проведение свадьбы' 'недвижимость' 'образование' 'операции с жильем'\n",
      " 'операции с коммерческой недвижимостью' 'операции с недвижимостью'\n",
      " 'операции со своей недвижимостью' 'покупка жилой недвижимости'\n",
      " 'покупка жилья' 'покупка жилья для сдачи' 'покупка жилья для семьи'\n",
      " 'покупка коммерческой недвижимости' 'покупка недвижимости'\n",
      " 'покупка своего жилья' 'получение высшего образования'\n",
      " 'получение дополнительного образования' 'получение образования'\n",
      " 'приобретение автомобиля' 'профильное образование' 'ремонт жилью'\n",
      " 'свадьба' 'свой автомобиль' 'сделка с автомобилем'\n",
      " 'сделка с подержанным автомобилем' 'строительство жилой недвижимости'\n",
      " 'строительство недвижимости' 'строительство собственной недвижимости'\n",
      " 'сыграть свадьбу']\n"
     ]
    }
   ],
   "source": [
    "print('Общее число дубликатов:', data.duplicated().sum())\n",
    "#проверить пропуски\n",
    "print(data.isna().sum())\n",
    "#посмотреть уникальные значения по каждому столбцу\n",
    "print('Значения в children:', data['children'].sort_values().unique())\n",
    "print('Значения в dob_years:', data['dob_years'].sort_values().unique())\n",
    "print('Значения в education:', data['education'].sort_values().unique())\n",
    "print('Значения в family_status:', data['family_status'].sort_values().unique())\n",
    "print('Значения в gender:', data['gender'].unique())\n",
    "print('Значения в income_type:', data['income_type'].sort_values().unique())\n",
    "print('Значения в debt:', data['debt'].unique())\n",
    "print('Значения в purpose:', data['purpose'].sort_values().unique())"
   ]
  },
  {
   "cell_type": "markdown",
   "metadata": {},
   "source": [
    "**Вывод**\n",
    "\n",
    "Таблица состоит из нескольких столбцов с разными типами значений: от целочисленных и вещественных до текстовых. \n",
    "\n",
    "**Количественные переменные:**\n",
    "* children,\n",
    "* days_employed,\n",
    "* dob_years,\n",
    "* debt,\n",
    "* total_income\n",
    "\n",
    "**Категориальные переменные:**\n",
    "* education,\n",
    "* family_status,\n",
    "* gender,\n",
    "* income_type,\n",
    "* purpose.\n",
    "\n",
    "**Булевые переменные:**\n",
    "* education_id,\n",
    "* family_status,\n",
    "* debt.\n",
    "\n",
    "В ряде столбцов есть **пропуски данных** - это столбцы:\n",
    "- days_employed (общий трудовой стаж в днях),\n",
    "- total_income (ежемесячный доход).\n",
    "\n",
    "**Общее число пропущенных значений в каждом столбце - 2174.**\n",
    "\n",
    "Также пропуски есть в столбце 'Gender', но в виде текстовых значений.\n",
    "\n",
    "После просмотра массива данных и с учетом совпадающего количества по пропущенным данным есть предположение, что пропуски в обоих типах данных у людей, которые не трудоустроены, соответственно, у них нет ни трудового стажа, ни дохода.\n",
    "\n",
    "Интересно, что трудовой стаж в днях измеряется в виде числа float64, а не int. Возможно, учет трудового стажа идет включая время визита клиента в банк. Вызывает вопрос отображение трудового стажа в виде отрицательной величины у первых 9 клиентов, кроме пенсионера.\n",
    "\n",
    "**Всего дубликатов в таблице - 54 штуки.**\n",
    "\n",
    "**После проверки на уникальность выявлено:**\n",
    "- большое количество разных значений в столбцах 'Цель покупки жилья' (привести к единому виду через лемматизацию),\n",
    "- разные варианты написания образования (требуется замена),\n",
    "- интересные значения в столбце 'Количество детей' (отрицательное и 20),\n",
    "- в значения столбца 'Пол' есть строки с пропусками,\n",
    "- в столбце dob_years присутствует значение возраста равное 0 (пропуск данных).\n",
    "\n",
    "**Т.к. в целях исследования задачи проверить:**\n",
    "- Есть ли зависимость между наличием детей и возвратом кредита в срок?\n",
    "- Есть ли зависимость между семейным положением и возвратом кредита в срок?\n",
    "- Есть ли зависимость между уровнем дохода и возвратом кредита в срок?\n",
    "- Как разные цели кредита влияют на его возврат в срок?\n",
    "\n",
    "То в дальнейшем буду **работать со столбцами, которые нужны для целей исследования**, а именно:\n",
    "- children,\n",
    "- family_status,\n",
    "- total_income,\n",
    "- purpose,\n",
    "- debt.\n"
   ]
  },
  {
   "cell_type": "markdown",
   "metadata": {},
   "source": [
    "## Шаг 2. Предобработка данных"
   ]
  },
  {
   "cell_type": "markdown",
   "metadata": {},
   "source": [
    "### Обработка пропусков"
   ]
  },
  {
   "cell_type": "code",
   "execution_count": 4,
   "metadata": {
    "scrolled": false
   },
   "outputs": [
    {
     "data": {
      "text/html": [
       "<div>\n",
       "<style scoped>\n",
       "    .dataframe tbody tr th:only-of-type {\n",
       "        vertical-align: middle;\n",
       "    }\n",
       "\n",
       "    .dataframe tbody tr th {\n",
       "        vertical-align: top;\n",
       "    }\n",
       "\n",
       "    .dataframe thead th {\n",
       "        text-align: right;\n",
       "    }\n",
       "</style>\n",
       "<table border=\"1\" class=\"dataframe\">\n",
       "  <thead>\n",
       "    <tr style=\"text-align: right;\">\n",
       "      <th></th>\n",
       "      <th>children</th>\n",
       "      <th>days_employed</th>\n",
       "      <th>dob_years</th>\n",
       "      <th>education</th>\n",
       "      <th>education_id</th>\n",
       "      <th>family_status</th>\n",
       "      <th>family_status_id</th>\n",
       "      <th>gender</th>\n",
       "      <th>income_type</th>\n",
       "      <th>debt</th>\n",
       "      <th>total_income</th>\n",
       "      <th>purpose</th>\n",
       "    </tr>\n",
       "  </thead>\n",
       "  <tbody>\n",
       "    <tr>\n",
       "      <th>12</th>\n",
       "      <td>0</td>\n",
       "      <td>NaN</td>\n",
       "      <td>65</td>\n",
       "      <td>среднее</td>\n",
       "      <td>1</td>\n",
       "      <td>гражданский брак</td>\n",
       "      <td>1</td>\n",
       "      <td>M</td>\n",
       "      <td>пенсионер</td>\n",
       "      <td>0</td>\n",
       "      <td>NaN</td>\n",
       "      <td>сыграть свадьбу</td>\n",
       "    </tr>\n",
       "    <tr>\n",
       "      <th>26</th>\n",
       "      <td>0</td>\n",
       "      <td>NaN</td>\n",
       "      <td>41</td>\n",
       "      <td>среднее</td>\n",
       "      <td>1</td>\n",
       "      <td>женат / замужем</td>\n",
       "      <td>0</td>\n",
       "      <td>M</td>\n",
       "      <td>госслужащий</td>\n",
       "      <td>0</td>\n",
       "      <td>NaN</td>\n",
       "      <td>образование</td>\n",
       "    </tr>\n",
       "    <tr>\n",
       "      <th>29</th>\n",
       "      <td>0</td>\n",
       "      <td>NaN</td>\n",
       "      <td>63</td>\n",
       "      <td>среднее</td>\n",
       "      <td>1</td>\n",
       "      <td>Не женат / не замужем</td>\n",
       "      <td>4</td>\n",
       "      <td>F</td>\n",
       "      <td>пенсионер</td>\n",
       "      <td>0</td>\n",
       "      <td>NaN</td>\n",
       "      <td>строительство жилой недвижимости</td>\n",
       "    </tr>\n",
       "    <tr>\n",
       "      <th>41</th>\n",
       "      <td>0</td>\n",
       "      <td>NaN</td>\n",
       "      <td>50</td>\n",
       "      <td>среднее</td>\n",
       "      <td>1</td>\n",
       "      <td>женат / замужем</td>\n",
       "      <td>0</td>\n",
       "      <td>F</td>\n",
       "      <td>госслужащий</td>\n",
       "      <td>0</td>\n",
       "      <td>NaN</td>\n",
       "      <td>сделка с подержанным автомобилем</td>\n",
       "    </tr>\n",
       "    <tr>\n",
       "      <th>55</th>\n",
       "      <td>0</td>\n",
       "      <td>NaN</td>\n",
       "      <td>54</td>\n",
       "      <td>среднее</td>\n",
       "      <td>1</td>\n",
       "      <td>гражданский брак</td>\n",
       "      <td>1</td>\n",
       "      <td>F</td>\n",
       "      <td>пенсионер</td>\n",
       "      <td>1</td>\n",
       "      <td>NaN</td>\n",
       "      <td>сыграть свадьбу</td>\n",
       "    </tr>\n",
       "  </tbody>\n",
       "</table>\n",
       "</div>"
      ],
      "text/plain": [
       "    children  days_employed  dob_years education  education_id  \\\n",
       "12         0            NaN         65   среднее             1   \n",
       "26         0            NaN         41   среднее             1   \n",
       "29         0            NaN         63   среднее             1   \n",
       "41         0            NaN         50   среднее             1   \n",
       "55         0            NaN         54   среднее             1   \n",
       "\n",
       "            family_status  family_status_id gender  income_type  debt  \\\n",
       "12       гражданский брак                 1      M    пенсионер     0   \n",
       "26        женат / замужем                 0      M  госслужащий     0   \n",
       "29  Не женат / не замужем                 4      F    пенсионер     0   \n",
       "41        женат / замужем                 0      F  госслужащий     0   \n",
       "55       гражданский брак                 1      F    пенсионер     1   \n",
       "\n",
       "    total_income                           purpose  \n",
       "12           NaN                   сыграть свадьбу  \n",
       "26           NaN                       образование  \n",
       "29           NaN  строительство жилой недвижимости  \n",
       "41           NaN  сделка с подержанным автомобилем  \n",
       "55           NaN                   сыграть свадьбу  "
      ]
     },
     "metadata": {},
     "output_type": "display_data"
    },
    {
     "data": {
      "text/html": [
       "<div>\n",
       "<style scoped>\n",
       "    .dataframe tbody tr th:only-of-type {\n",
       "        vertical-align: middle;\n",
       "    }\n",
       "\n",
       "    .dataframe tbody tr th {\n",
       "        vertical-align: top;\n",
       "    }\n",
       "\n",
       "    .dataframe thead th {\n",
       "        text-align: right;\n",
       "    }\n",
       "</style>\n",
       "<table border=\"1\" class=\"dataframe\">\n",
       "  <thead>\n",
       "    <tr style=\"text-align: right;\">\n",
       "      <th></th>\n",
       "      <th>children</th>\n",
       "      <th>days_employed</th>\n",
       "      <th>dob_years</th>\n",
       "      <th>education</th>\n",
       "      <th>education_id</th>\n",
       "      <th>family_status</th>\n",
       "      <th>family_status_id</th>\n",
       "      <th>gender</th>\n",
       "      <th>income_type</th>\n",
       "      <th>debt</th>\n",
       "      <th>total_income</th>\n",
       "      <th>purpose</th>\n",
       "    </tr>\n",
       "  </thead>\n",
       "  <tbody>\n",
       "    <tr>\n",
       "      <th>21489</th>\n",
       "      <td>2</td>\n",
       "      <td>NaN</td>\n",
       "      <td>47</td>\n",
       "      <td>Среднее</td>\n",
       "      <td>1</td>\n",
       "      <td>женат / замужем</td>\n",
       "      <td>0</td>\n",
       "      <td>M</td>\n",
       "      <td>компаньон</td>\n",
       "      <td>0</td>\n",
       "      <td>NaN</td>\n",
       "      <td>сделка с автомобилем</td>\n",
       "    </tr>\n",
       "    <tr>\n",
       "      <th>21495</th>\n",
       "      <td>1</td>\n",
       "      <td>NaN</td>\n",
       "      <td>50</td>\n",
       "      <td>среднее</td>\n",
       "      <td>1</td>\n",
       "      <td>гражданский брак</td>\n",
       "      <td>1</td>\n",
       "      <td>F</td>\n",
       "      <td>сотрудник</td>\n",
       "      <td>0</td>\n",
       "      <td>NaN</td>\n",
       "      <td>свадьба</td>\n",
       "    </tr>\n",
       "    <tr>\n",
       "      <th>21497</th>\n",
       "      <td>0</td>\n",
       "      <td>NaN</td>\n",
       "      <td>48</td>\n",
       "      <td>ВЫСШЕЕ</td>\n",
       "      <td>0</td>\n",
       "      <td>женат / замужем</td>\n",
       "      <td>0</td>\n",
       "      <td>F</td>\n",
       "      <td>компаньон</td>\n",
       "      <td>0</td>\n",
       "      <td>NaN</td>\n",
       "      <td>строительство недвижимости</td>\n",
       "    </tr>\n",
       "    <tr>\n",
       "      <th>21502</th>\n",
       "      <td>1</td>\n",
       "      <td>NaN</td>\n",
       "      <td>42</td>\n",
       "      <td>среднее</td>\n",
       "      <td>1</td>\n",
       "      <td>женат / замужем</td>\n",
       "      <td>0</td>\n",
       "      <td>F</td>\n",
       "      <td>сотрудник</td>\n",
       "      <td>0</td>\n",
       "      <td>NaN</td>\n",
       "      <td>строительство жилой недвижимости</td>\n",
       "    </tr>\n",
       "    <tr>\n",
       "      <th>21510</th>\n",
       "      <td>2</td>\n",
       "      <td>NaN</td>\n",
       "      <td>28</td>\n",
       "      <td>среднее</td>\n",
       "      <td>1</td>\n",
       "      <td>женат / замужем</td>\n",
       "      <td>0</td>\n",
       "      <td>F</td>\n",
       "      <td>сотрудник</td>\n",
       "      <td>0</td>\n",
       "      <td>NaN</td>\n",
       "      <td>приобретение автомобиля</td>\n",
       "    </tr>\n",
       "  </tbody>\n",
       "</table>\n",
       "</div>"
      ],
      "text/plain": [
       "       children  days_employed  dob_years education  education_id  \\\n",
       "21489         2            NaN         47   Среднее             1   \n",
       "21495         1            NaN         50   среднее             1   \n",
       "21497         0            NaN         48    ВЫСШЕЕ             0   \n",
       "21502         1            NaN         42   среднее             1   \n",
       "21510         2            NaN         28   среднее             1   \n",
       "\n",
       "          family_status  family_status_id gender income_type  debt  \\\n",
       "21489   женат / замужем                 0      M   компаньон     0   \n",
       "21495  гражданский брак                 1      F   сотрудник     0   \n",
       "21497   женат / замужем                 0      F   компаньон     0   \n",
       "21502   женат / замужем                 0      F   сотрудник     0   \n",
       "21510   женат / замужем                 0      F   сотрудник     0   \n",
       "\n",
       "       total_income                           purpose  \n",
       "21489           NaN              сделка с автомобилем  \n",
       "21495           NaN                           свадьба  \n",
       "21497           NaN        строительство недвижимости  \n",
       "21502           NaN  строительство жилой недвижимости  \n",
       "21510           NaN           приобретение автомобиля  "
      ]
     },
     "metadata": {},
     "output_type": "display_data"
    },
    {
     "name": "stdout",
     "output_type": "stream",
     "text": [
      "2174\n"
     ]
    }
   ],
   "source": [
    "# проверяю начало и конец таблицы с\n",
    "display(data[data['total_income'].isna()].head()) \n",
    "display(data[data['total_income'].isna()].tail()) \n",
    "#еще раз подсчет общего количества пропусков\n",
    "print(len(data[data['total_income'].isna()]))"
   ]
  },
  {
   "cell_type": "markdown",
   "metadata": {},
   "source": [
    "Значения отсутствуют одновременно в столбцах: Трудовой стаж и Общий доход. Но при этом заполнен столбец Источник дохода, так что предыдущий вывод об отсутствии работы неверный, следовательно, требуется заполнение данными."
   ]
  },
  {
   "cell_type": "code",
   "execution_count": 5,
   "metadata": {
    "scrolled": false
   },
   "outputs": [
    {
     "data": {
      "text/plain": [
       "2174"
      ]
     },
     "execution_count": 5,
     "metadata": {},
     "output_type": "execute_result"
    }
   ],
   "source": [
    "len(data[data['total_income'].isna() & data['days_employed'].isna()])"
   ]
  },
  {
   "cell_type": "code",
   "execution_count": 6,
   "metadata": {},
   "outputs": [
    {
     "name": "stdout",
     "output_type": "stream",
     "text": [
      "income_type\n",
      "безработный        131339.751676\n",
      "в декрете           53829.130729\n",
      "госслужащий        150447.935283\n",
      "компаньон          172357.950966\n",
      "пенсионер          118514.486412\n",
      "предприниматель    499163.144947\n",
      "сотрудник          142594.396847\n",
      "студент             98201.625314\n",
      "Name: total_income, dtype: float64\n",
      "Медианный доход: 145017.93753253992\n"
     ]
    }
   ],
   "source": [
    "#Рассчитываю медианное значение дохода для каждой группы по типу дохода\n",
    "print(data.groupby('income_type')['total_income'].median())\n",
    "\n",
    "#Рассчитываю общий медианный доход для всех групп\n",
    "print ('Медианный доход:', data['total_income'].median())"
   ]
  },
  {
   "cell_type": "markdown",
   "metadata": {},
   "source": [
    "Заменяю пустые значения зарплаты на медианные."
   ]
  },
  {
   "cell_type": "code",
   "execution_count": 7,
   "metadata": {},
   "outputs": [
    {
     "data": {
      "text/html": [
       "<div>\n",
       "<style scoped>\n",
       "    .dataframe tbody tr th:only-of-type {\n",
       "        vertical-align: middle;\n",
       "    }\n",
       "\n",
       "    .dataframe tbody tr th {\n",
       "        vertical-align: top;\n",
       "    }\n",
       "\n",
       "    .dataframe thead th {\n",
       "        text-align: right;\n",
       "    }\n",
       "</style>\n",
       "<table border=\"1\" class=\"dataframe\">\n",
       "  <thead>\n",
       "    <tr style=\"text-align: right;\">\n",
       "      <th></th>\n",
       "      <th>children</th>\n",
       "      <th>days_employed</th>\n",
       "      <th>dob_years</th>\n",
       "      <th>education</th>\n",
       "      <th>education_id</th>\n",
       "      <th>family_status</th>\n",
       "      <th>family_status_id</th>\n",
       "      <th>gender</th>\n",
       "      <th>income_type</th>\n",
       "      <th>debt</th>\n",
       "      <th>total_income</th>\n",
       "      <th>purpose</th>\n",
       "    </tr>\n",
       "  </thead>\n",
       "  <tbody>\n",
       "  </tbody>\n",
       "</table>\n",
       "</div>"
      ],
      "text/plain": [
       "Empty DataFrame\n",
       "Columns: [children, days_employed, dob_years, education, education_id, family_status, family_status_id, gender, income_type, debt, total_income, purpose]\n",
       "Index: []"
      ]
     },
     "metadata": {},
     "output_type": "display_data"
    },
    {
     "name": "stdout",
     "output_type": "stream",
     "text": [
      "0\n"
     ]
    },
    {
     "data": {
      "text/plain": [
       "142594.396847    1105\n",
       "172357.950966     509\n",
       "118514.486412     414\n",
       "150447.935283     147\n",
       "499163.144947       2\n",
       "                 ... \n",
       "148042.721049       1\n",
       "60039.334460        1\n",
       "175979.762960       1\n",
       "155819.968351       1\n",
       "82047.418899        1\n",
       "Name: total_income, Length: 19353, dtype: int64"
      ]
     },
     "metadata": {},
     "output_type": "display_data"
    }
   ],
   "source": [
    "data['total_income'] = data['total_income'].fillna(data.groupby('income_type')['total_income'].transform('median'))\n",
    "\n",
    "#проверка\n",
    "display(data[data['total_income'].isna()].tail()) \n",
    "print(len(data[data['total_income'].isna()]))\n",
    "display(data['total_income'].value_counts())"
   ]
  },
  {
   "cell_type": "code",
   "execution_count": 8,
   "metadata": {},
   "outputs": [
    {
     "data": {
      "text/html": [
       "<div>\n",
       "<style scoped>\n",
       "    .dataframe tbody tr th:only-of-type {\n",
       "        vertical-align: middle;\n",
       "    }\n",
       "\n",
       "    .dataframe tbody tr th {\n",
       "        vertical-align: top;\n",
       "    }\n",
       "\n",
       "    .dataframe thead th {\n",
       "        text-align: right;\n",
       "    }\n",
       "</style>\n",
       "<table border=\"1\" class=\"dataframe\">\n",
       "  <thead>\n",
       "    <tr style=\"text-align: right;\">\n",
       "      <th></th>\n",
       "      <th>children</th>\n",
       "      <th>days_employed</th>\n",
       "      <th>dob_years</th>\n",
       "      <th>education_id</th>\n",
       "      <th>family_status_id</th>\n",
       "      <th>debt</th>\n",
       "      <th>total_income</th>\n",
       "      <th>income_type_id</th>\n",
       "    </tr>\n",
       "  </thead>\n",
       "  <tbody>\n",
       "    <tr>\n",
       "      <th>children</th>\n",
       "      <td>1.000000</td>\n",
       "      <td>-0.138354</td>\n",
       "      <td>-0.174358</td>\n",
       "      <td>-0.012695</td>\n",
       "      <td>-0.091284</td>\n",
       "      <td>0.018470</td>\n",
       "      <td>0.018485</td>\n",
       "      <td>0.123070</td>\n",
       "    </tr>\n",
       "    <tr>\n",
       "      <th>days_employed</th>\n",
       "      <td>-0.138354</td>\n",
       "      <td>1.000000</td>\n",
       "      <td>0.582643</td>\n",
       "      <td>0.080565</td>\n",
       "      <td>0.005726</td>\n",
       "      <td>-0.047110</td>\n",
       "      <td>-0.136648</td>\n",
       "      <td>-0.917710</td>\n",
       "    </tr>\n",
       "    <tr>\n",
       "      <th>dob_years</th>\n",
       "      <td>-0.174358</td>\n",
       "      <td>0.582643</td>\n",
       "      <td>1.000000</td>\n",
       "      <td>0.067467</td>\n",
       "      <td>-0.069988</td>\n",
       "      <td>-0.069620</td>\n",
       "      <td>-0.058062</td>\n",
       "      <td>-0.544197</td>\n",
       "    </tr>\n",
       "    <tr>\n",
       "      <th>education_id</th>\n",
       "      <td>-0.012695</td>\n",
       "      <td>0.080565</td>\n",
       "      <td>0.067467</td>\n",
       "      <td>1.000000</td>\n",
       "      <td>0.007876</td>\n",
       "      <td>0.052906</td>\n",
       "      <td>-0.171804</td>\n",
       "      <td>-0.090168</td>\n",
       "    </tr>\n",
       "    <tr>\n",
       "      <th>family_status_id</th>\n",
       "      <td>-0.091284</td>\n",
       "      <td>0.005726</td>\n",
       "      <td>-0.069988</td>\n",
       "      <td>0.007876</td>\n",
       "      <td>1.000000</td>\n",
       "      <td>0.020611</td>\n",
       "      <td>-0.008371</td>\n",
       "      <td>0.007561</td>\n",
       "    </tr>\n",
       "    <tr>\n",
       "      <th>debt</th>\n",
       "      <td>0.018470</td>\n",
       "      <td>-0.047110</td>\n",
       "      <td>-0.069620</td>\n",
       "      <td>0.052906</td>\n",
       "      <td>0.020611</td>\n",
       "      <td>1.000000</td>\n",
       "      <td>-0.012304</td>\n",
       "      <td>0.035635</td>\n",
       "    </tr>\n",
       "    <tr>\n",
       "      <th>total_income</th>\n",
       "      <td>0.018485</td>\n",
       "      <td>-0.136648</td>\n",
       "      <td>-0.058062</td>\n",
       "      <td>-0.171804</td>\n",
       "      <td>-0.008371</td>\n",
       "      <td>-0.012304</td>\n",
       "      <td>1.000000</td>\n",
       "      <td>0.184124</td>\n",
       "    </tr>\n",
       "    <tr>\n",
       "      <th>income_type_id</th>\n",
       "      <td>0.123070</td>\n",
       "      <td>-0.917710</td>\n",
       "      <td>-0.544197</td>\n",
       "      <td>-0.090168</td>\n",
       "      <td>0.007561</td>\n",
       "      <td>0.035635</td>\n",
       "      <td>0.184124</td>\n",
       "      <td>1.000000</td>\n",
       "    </tr>\n",
       "  </tbody>\n",
       "</table>\n",
       "</div>"
      ],
      "text/plain": [
       "                  children  days_employed  dob_years  education_id  \\\n",
       "children          1.000000      -0.138354  -0.174358     -0.012695   \n",
       "days_employed    -0.138354       1.000000   0.582643      0.080565   \n",
       "dob_years        -0.174358       0.582643   1.000000      0.067467   \n",
       "education_id     -0.012695       0.080565   0.067467      1.000000   \n",
       "family_status_id -0.091284       0.005726  -0.069988      0.007876   \n",
       "debt              0.018470      -0.047110  -0.069620      0.052906   \n",
       "total_income      0.018485      -0.136648  -0.058062     -0.171804   \n",
       "income_type_id    0.123070      -0.917710  -0.544197     -0.090168   \n",
       "\n",
       "                  family_status_id      debt  total_income  income_type_id  \n",
       "children                 -0.091284  0.018470      0.018485        0.123070  \n",
       "days_employed             0.005726 -0.047110     -0.136648       -0.917710  \n",
       "dob_years                -0.069988 -0.069620     -0.058062       -0.544197  \n",
       "education_id              0.007876  0.052906     -0.171804       -0.090168  \n",
       "family_status_id          1.000000  0.020611     -0.008371        0.007561  \n",
       "debt                      0.020611  1.000000     -0.012304        0.035635  \n",
       "total_income             -0.008371 -0.012304      1.000000        0.184124  \n",
       "income_type_id            0.007561  0.035635      0.184124        1.000000  "
      ]
     },
     "execution_count": 8,
     "metadata": {},
     "output_type": "execute_result"
    }
   ],
   "source": [
    "data['income_type_id'] = data['income_type'].map(\n",
    "    {'студент': 0, 'безработный': 1, 'пенсионер': 2,\n",
    "                    'в декрете':3, 'госслужащий': 4, 'сотрудник':5, 'компаньон':6, 'предприниматель':7} )\n",
    "data.corr()"
   ]
  },
  {
   "cell_type": "code",
   "execution_count": 9,
   "metadata": {
    "scrolled": true
   },
   "outputs": [
    {
     "data": {
      "text/html": [
       "<div>\n",
       "<style scoped>\n",
       "    .dataframe tbody tr th:only-of-type {\n",
       "        vertical-align: middle;\n",
       "    }\n",
       "\n",
       "    .dataframe tbody tr th {\n",
       "        vertical-align: top;\n",
       "    }\n",
       "\n",
       "    .dataframe thead th {\n",
       "        text-align: right;\n",
       "    }\n",
       "</style>\n",
       "<table border=\"1\" class=\"dataframe\">\n",
       "  <thead>\n",
       "    <tr style=\"text-align: right;\">\n",
       "      <th></th>\n",
       "      <th>children</th>\n",
       "      <th>days_employed</th>\n",
       "      <th>dob_years</th>\n",
       "      <th>education</th>\n",
       "      <th>education_id</th>\n",
       "      <th>family_status</th>\n",
       "      <th>family_status_id</th>\n",
       "      <th>gender</th>\n",
       "      <th>income_type</th>\n",
       "      <th>debt</th>\n",
       "      <th>total_income</th>\n",
       "      <th>purpose</th>\n",
       "      <th>income_type_id</th>\n",
       "    </tr>\n",
       "  </thead>\n",
       "  <tbody>\n",
       "    <tr>\n",
       "      <th>10701</th>\n",
       "      <td>0</td>\n",
       "      <td>-2358.600502</td>\n",
       "      <td>24</td>\n",
       "      <td>неоконченное высшее</td>\n",
       "      <td>2</td>\n",
       "      <td>гражданский брак</td>\n",
       "      <td>1</td>\n",
       "      <td>XNA</td>\n",
       "      <td>компаньон</td>\n",
       "      <td>0</td>\n",
       "      <td>203905.157261</td>\n",
       "      <td>покупка недвижимости</td>\n",
       "      <td>6</td>\n",
       "    </tr>\n",
       "  </tbody>\n",
       "</table>\n",
       "</div>"
      ],
      "text/plain": [
       "       children  days_employed  dob_years            education  education_id  \\\n",
       "10701         0   -2358.600502         24  неоконченное высшее             2   \n",
       "\n",
       "          family_status  family_status_id gender income_type  debt  \\\n",
       "10701  гражданский брак                 1    XNA   компаньон     0   \n",
       "\n",
       "        total_income               purpose  income_type_id  \n",
       "10701  203905.157261  покупка недвижимости               6  "
      ]
     },
     "metadata": {},
     "output_type": "display_data"
    },
    {
     "data": {
      "text/plain": [
       "F      14236\n",
       "M       7288\n",
       "XNA        1\n",
       "Name: gender, dtype: int64"
      ]
     },
     "metadata": {},
     "output_type": "display_data"
    }
   ],
   "source": [
    "#проверяю странное значение по полу\n",
    "missed_gender = data[data['gender']=='XNA']\n",
    "display (missed_gender)\n",
    "\n",
    "display(data['gender'].value_counts())"
   ]
  },
  {
   "cell_type": "markdown",
   "metadata": {},
   "source": [
    "В поле Gender отсутствует всего 1 значение из 21525, соотвественно, им можно принебречь и удалить строку. Существенного влияния на результаты она не окажет.\n",
    "Либо с учетом того, что в целях исследования параметр пола не учитывается, а большая часть заемщиков - женщины, можно скорректировать пол на женский. Таким образом, останутся данные о количестве детей, семейном положении, уровне дохода и целях кредита. \n",
    "Второй вариант какжется более предпочтительным."
   ]
  },
  {
   "cell_type": "code",
   "execution_count": 10,
   "metadata": {},
   "outputs": [
    {
     "data": {
      "text/plain": [
       "F    14237\n",
       "M     7288\n",
       "Name: gender, dtype: int64"
      ]
     },
     "metadata": {},
     "output_type": "display_data"
    }
   ],
   "source": [
    "#произвожу замену неизвестного значения пола на женский и проверяю\n",
    "data.loc[data['gender'] =='XNA', 'gender'] = 'F'\n",
    "display(data['gender'].value_counts())"
   ]
  },
  {
   "cell_type": "markdown",
   "metadata": {},
   "source": [
    "### Замена типа данных"
   ]
  },
  {
   "cell_type": "markdown",
   "metadata": {},
   "source": [
    "В столбце children есть отрицательные значения, скорее всего, это просто техническая ошибка, поэтому можно заменить значения в этом столбце на такие же по модулю.\n",
    "Также сомнительно наличие детей в количестве 20 человек, скорее всего, поставлен лишний 0, соответственно, можно произвести замену на 2."
   ]
  },
  {
   "cell_type": "code",
   "execution_count": 11,
   "metadata": {
    "scrolled": true
   },
   "outputs": [
    {
     "name": "stdout",
     "output_type": "stream",
     "text": [
      "Значения в children: [1 0 3 2 4 5]\n",
      "0    14149\n",
      "1     4865\n",
      "2     2131\n",
      "3      330\n",
      "4       41\n",
      "5        9\n",
      "Name: children, dtype: int64\n"
     ]
    }
   ],
   "source": [
    "data['children'] = data['children'].abs()\n",
    "data.loc[data['children'] == 20, 'children'] = 2\n",
    "print('Значения в children:', data['children'].unique())\n",
    "print(data['children'].value_counts())"
   ]
  },
  {
   "cell_type": "markdown",
   "metadata": {},
   "source": [
    "Заменим значения в столбце Total_income на целочисленный."
   ]
  },
  {
   "cell_type": "code",
   "execution_count": 12,
   "metadata": {},
   "outputs": [
    {
     "data": {
      "text/html": [
       "<div>\n",
       "<style scoped>\n",
       "    .dataframe tbody tr th:only-of-type {\n",
       "        vertical-align: middle;\n",
       "    }\n",
       "\n",
       "    .dataframe tbody tr th {\n",
       "        vertical-align: top;\n",
       "    }\n",
       "\n",
       "    .dataframe thead th {\n",
       "        text-align: right;\n",
       "    }\n",
       "</style>\n",
       "<table border=\"1\" class=\"dataframe\">\n",
       "  <thead>\n",
       "    <tr style=\"text-align: right;\">\n",
       "      <th></th>\n",
       "      <th>children</th>\n",
       "      <th>days_employed</th>\n",
       "      <th>dob_years</th>\n",
       "      <th>education</th>\n",
       "      <th>education_id</th>\n",
       "      <th>family_status</th>\n",
       "      <th>family_status_id</th>\n",
       "      <th>gender</th>\n",
       "      <th>income_type</th>\n",
       "      <th>debt</th>\n",
       "      <th>total_income</th>\n",
       "      <th>purpose</th>\n",
       "      <th>income_type_id</th>\n",
       "    </tr>\n",
       "  </thead>\n",
       "  <tbody>\n",
       "    <tr>\n",
       "      <th>0</th>\n",
       "      <td>1</td>\n",
       "      <td>-8437.673028</td>\n",
       "      <td>42</td>\n",
       "      <td>высшее</td>\n",
       "      <td>0</td>\n",
       "      <td>женат / замужем</td>\n",
       "      <td>0</td>\n",
       "      <td>F</td>\n",
       "      <td>сотрудник</td>\n",
       "      <td>0</td>\n",
       "      <td>253875</td>\n",
       "      <td>покупка жилья</td>\n",
       "      <td>5</td>\n",
       "    </tr>\n",
       "    <tr>\n",
       "      <th>1</th>\n",
       "      <td>1</td>\n",
       "      <td>-4024.803754</td>\n",
       "      <td>36</td>\n",
       "      <td>среднее</td>\n",
       "      <td>1</td>\n",
       "      <td>женат / замужем</td>\n",
       "      <td>0</td>\n",
       "      <td>F</td>\n",
       "      <td>сотрудник</td>\n",
       "      <td>0</td>\n",
       "      <td>112080</td>\n",
       "      <td>приобретение автомобиля</td>\n",
       "      <td>5</td>\n",
       "    </tr>\n",
       "    <tr>\n",
       "      <th>2</th>\n",
       "      <td>0</td>\n",
       "      <td>-5623.422610</td>\n",
       "      <td>33</td>\n",
       "      <td>Среднее</td>\n",
       "      <td>1</td>\n",
       "      <td>женат / замужем</td>\n",
       "      <td>0</td>\n",
       "      <td>M</td>\n",
       "      <td>сотрудник</td>\n",
       "      <td>0</td>\n",
       "      <td>145885</td>\n",
       "      <td>покупка жилья</td>\n",
       "      <td>5</td>\n",
       "    </tr>\n",
       "    <tr>\n",
       "      <th>3</th>\n",
       "      <td>3</td>\n",
       "      <td>-4124.747207</td>\n",
       "      <td>32</td>\n",
       "      <td>среднее</td>\n",
       "      <td>1</td>\n",
       "      <td>женат / замужем</td>\n",
       "      <td>0</td>\n",
       "      <td>M</td>\n",
       "      <td>сотрудник</td>\n",
       "      <td>0</td>\n",
       "      <td>267628</td>\n",
       "      <td>дополнительное образование</td>\n",
       "      <td>5</td>\n",
       "    </tr>\n",
       "    <tr>\n",
       "      <th>4</th>\n",
       "      <td>0</td>\n",
       "      <td>340266.072047</td>\n",
       "      <td>53</td>\n",
       "      <td>среднее</td>\n",
       "      <td>1</td>\n",
       "      <td>гражданский брак</td>\n",
       "      <td>1</td>\n",
       "      <td>F</td>\n",
       "      <td>пенсионер</td>\n",
       "      <td>0</td>\n",
       "      <td>158616</td>\n",
       "      <td>сыграть свадьбу</td>\n",
       "      <td>2</td>\n",
       "    </tr>\n",
       "  </tbody>\n",
       "</table>\n",
       "</div>"
      ],
      "text/plain": [
       "   children  days_employed  dob_years education  education_id  \\\n",
       "0         1   -8437.673028         42    высшее             0   \n",
       "1         1   -4024.803754         36   среднее             1   \n",
       "2         0   -5623.422610         33   Среднее             1   \n",
       "3         3   -4124.747207         32   среднее             1   \n",
       "4         0  340266.072047         53   среднее             1   \n",
       "\n",
       "      family_status  family_status_id gender income_type  debt  total_income  \\\n",
       "0   женат / замужем                 0      F   сотрудник     0        253875   \n",
       "1   женат / замужем                 0      F   сотрудник     0        112080   \n",
       "2   женат / замужем                 0      M   сотрудник     0        145885   \n",
       "3   женат / замужем                 0      M   сотрудник     0        267628   \n",
       "4  гражданский брак                 1      F   пенсионер     0        158616   \n",
       "\n",
       "                      purpose  income_type_id  \n",
       "0               покупка жилья               5  \n",
       "1     приобретение автомобиля               5  \n",
       "2               покупка жилья               5  \n",
       "3  дополнительное образование               5  \n",
       "4             сыграть свадьбу               2  "
      ]
     },
     "metadata": {},
     "output_type": "display_data"
    }
   ],
   "source": [
    "data['total_income'] = data['total_income'].astype('int')\n",
    "display(data.head())"
   ]
  },
  {
   "cell_type": "markdown",
   "metadata": {},
   "source": [
    "**Вывод**"
   ]
  },
  {
   "cell_type": "markdown",
   "metadata": {},
   "source": [
    "С помощью функции .astype была произведена замена float64 на int (целочисленный).\n",
    "С помощью функции .abs были изменены отрицательные значения в столбце children на такие же по модулю.\n",
    "С использованием логической индексации была произведена замена количества детей 20 на 2."
   ]
  },
  {
   "cell_type": "markdown",
   "metadata": {},
   "source": [
    "### Обработка дубликатов"
   ]
  },
  {
   "cell_type": "code",
   "execution_count": 13,
   "metadata": {},
   "outputs": [
    {
     "name": "stdout",
     "output_type": "stream",
     "text": [
      "Общее число дубликатов: 54\n"
     ]
    }
   ],
   "source": [
    "print('Общее число дубликатов:', data.duplicated().sum())"
   ]
  },
  {
   "cell_type": "code",
   "execution_count": 14,
   "metadata": {},
   "outputs": [
    {
     "name": "stdout",
     "output_type": "stream",
     "text": [
      "среднее                13750\n",
      "высшее                  4718\n",
      "СРЕДНЕЕ                  772\n",
      "Среднее                  711\n",
      "неоконченное высшее      668\n",
      "ВЫСШЕЕ                   274\n",
      "Высшее                   268\n",
      "начальное                250\n",
      "Неоконченное высшее       47\n",
      "НЕОКОНЧЕННОЕ ВЫСШЕЕ       29\n",
      "НАЧАЛЬНОЕ                 17\n",
      "Начальное                 15\n",
      "ученая степень             4\n",
      "Ученая степень             1\n",
      "УЧЕНАЯ СТЕПЕНЬ             1\n",
      "Name: education, dtype: int64\n"
     ]
    }
   ],
   "source": [
    "print (data['education'].value_counts())"
   ]
  },
  {
   "cell_type": "markdown",
   "metadata": {},
   "source": [
    "Т.к. варианты написания образования очень разнообразны, хотя суть одна и та же, возможно, есть еще дубликаты. Чтобы их найти приведем образование к единому виду."
   ]
  },
  {
   "cell_type": "code",
   "execution_count": 15,
   "metadata": {},
   "outputs": [
    {
     "name": "stdout",
     "output_type": "stream",
     "text": [
      "среднее                15233\n",
      "высшее                  5260\n",
      "неоконченное высшее      744\n",
      "начальное                282\n",
      "ученая степень             6\n",
      "Name: education, dtype: int64\n"
     ]
    }
   ],
   "source": [
    "data['education'] = data['education'].str.lower()\n",
    "print (data['education'].value_counts())"
   ]
  },
  {
   "cell_type": "markdown",
   "metadata": {},
   "source": [
    "Повторно проверим количество дубликатов."
   ]
  },
  {
   "cell_type": "code",
   "execution_count": 16,
   "metadata": {},
   "outputs": [
    {
     "name": "stdout",
     "output_type": "stream",
     "text": [
      "Общее число дубликатов: 71\n"
     ]
    }
   ],
   "source": [
    "print('Общее число дубликатов:', data.duplicated().sum())"
   ]
  },
  {
   "cell_type": "markdown",
   "metadata": {},
   "source": [
    "Удалим дубликаты и произведем проверку удаления."
   ]
  },
  {
   "cell_type": "code",
   "execution_count": 17,
   "metadata": {},
   "outputs": [
    {
     "name": "stdout",
     "output_type": "stream",
     "text": [
      "Общее число дубликатов: 0\n"
     ]
    }
   ],
   "source": [
    "data = data.drop_duplicates()\n",
    "data = data.dropna().reset_index(drop=True)\n",
    "print('Общее число дубликатов:', data.duplicated().sum())"
   ]
  },
  {
   "cell_type": "markdown",
   "metadata": {},
   "source": [
    "**Вывод**"
   ]
  },
  {
   "cell_type": "markdown",
   "metadata": {},
   "source": [
    "За счет приведения образования к общему виду с помощью функции str.lower (все строчные буквы) удалось выявить дополнительно 16 дубликатов и удалить их вместе с основным массивом.\n",
    "Возможная причина возникновения дубликатов - технические ошибки выгрузки данных или ошибочное дублирование в системе."
   ]
  },
  {
   "cell_type": "markdown",
   "metadata": {},
   "source": [
    "### Лемматизация"
   ]
  },
  {
   "cell_type": "code",
   "execution_count": 18,
   "metadata": {
    "scrolled": true
   },
   "outputs": [
    {
     "name": "stdout",
     "output_type": "stream",
     "text": [
      "['покупка жилья' 'приобретение автомобиля' 'дополнительное образование'\n",
      " 'сыграть свадьбу' 'операции с жильем' 'образование'\n",
      " 'на проведение свадьбы' 'покупка жилья для семьи' 'покупка недвижимости'\n",
      " 'покупка коммерческой недвижимости' 'покупка жилой недвижимости'\n",
      " 'строительство собственной недвижимости' 'недвижимость'\n",
      " 'строительство недвижимости' 'на покупку подержанного автомобиля'\n",
      " 'на покупку своего автомобиля' 'операции с коммерческой недвижимостью'\n",
      " 'жилье' 'операции со своей недвижимостью' 'автомобили'\n",
      " 'заняться образованием' 'получение образования'\n",
      " 'сделка с подержанным автомобилем' 'автомобиль' 'свадьба'\n",
      " 'получение дополнительного образования' 'покупка своего жилья'\n",
      " 'операции с недвижимостью' 'получение высшего образования'\n",
      " 'свой автомобиль' 'сделка с автомобилем' 'профильное образование'\n",
      " 'высшее образование' 'покупка жилья для сдачи' 'на покупку автомобиля'\n",
      " 'строительство жилой недвижимости' 'ремонт жилью'\n",
      " 'заняться высшим образованием']\n"
     ]
    }
   ],
   "source": [
    "m = Mystem()\n",
    "\n",
    "print(data['purpose'].unique())"
   ]
  },
  {
   "cell_type": "code",
   "execution_count": 19,
   "metadata": {},
   "outputs": [],
   "source": [
    "#создадим функцию, которая будет производить построчную лемматизацию столбца purpose и в зависимости от наличия определенных ключевых слов относить строку к той или иной категории\n",
    "def create_category_purpose(row):\n",
    "    lem_purpose = m.lemmatize(row['purpose'])\n",
    "    if 'автомобиль' in lem_purpose:\n",
    "        return 'автомобиль'\n",
    "    if ('жилье' in lem_purpose) or ('недвижимость' in lem_purpose):\n",
    "        return 'недвижимость'\n",
    "    if 'образование'in lem_purpose:\n",
    "        return 'образование'\n",
    "    if 'свадьба' in lem_purpose:\n",
    "        return 'свадьба'\n",
    "#добавим новый столбец 'purpose_category', куда внесем категории, кроторый определили на предыдущем шаге\n",
    "data['purpose_category'] = data.apply(create_category_purpose, axis=1)"
   ]
  },
  {
   "cell_type": "code",
   "execution_count": 20,
   "metadata": {
    "scrolled": true
   },
   "outputs": [
    {
     "data": {
      "text/html": [
       "<div>\n",
       "<style scoped>\n",
       "    .dataframe tbody tr th:only-of-type {\n",
       "        vertical-align: middle;\n",
       "    }\n",
       "\n",
       "    .dataframe tbody tr th {\n",
       "        vertical-align: top;\n",
       "    }\n",
       "\n",
       "    .dataframe thead th {\n",
       "        text-align: right;\n",
       "    }\n",
       "</style>\n",
       "<table border=\"1\" class=\"dataframe\">\n",
       "  <thead>\n",
       "    <tr style=\"text-align: right;\">\n",
       "      <th></th>\n",
       "      <th>children</th>\n",
       "      <th>days_employed</th>\n",
       "      <th>dob_years</th>\n",
       "      <th>education</th>\n",
       "      <th>education_id</th>\n",
       "      <th>family_status</th>\n",
       "      <th>family_status_id</th>\n",
       "      <th>gender</th>\n",
       "      <th>income_type</th>\n",
       "      <th>debt</th>\n",
       "      <th>total_income</th>\n",
       "      <th>purpose</th>\n",
       "      <th>income_type_id</th>\n",
       "      <th>purpose_category</th>\n",
       "    </tr>\n",
       "  </thead>\n",
       "  <tbody>\n",
       "    <tr>\n",
       "      <th>0</th>\n",
       "      <td>1</td>\n",
       "      <td>-8437.673028</td>\n",
       "      <td>42</td>\n",
       "      <td>высшее</td>\n",
       "      <td>0</td>\n",
       "      <td>женат / замужем</td>\n",
       "      <td>0</td>\n",
       "      <td>F</td>\n",
       "      <td>сотрудник</td>\n",
       "      <td>0</td>\n",
       "      <td>253875</td>\n",
       "      <td>покупка жилья</td>\n",
       "      <td>5</td>\n",
       "      <td>недвижимость</td>\n",
       "    </tr>\n",
       "    <tr>\n",
       "      <th>1</th>\n",
       "      <td>1</td>\n",
       "      <td>-4024.803754</td>\n",
       "      <td>36</td>\n",
       "      <td>среднее</td>\n",
       "      <td>1</td>\n",
       "      <td>женат / замужем</td>\n",
       "      <td>0</td>\n",
       "      <td>F</td>\n",
       "      <td>сотрудник</td>\n",
       "      <td>0</td>\n",
       "      <td>112080</td>\n",
       "      <td>приобретение автомобиля</td>\n",
       "      <td>5</td>\n",
       "      <td>автомобиль</td>\n",
       "    </tr>\n",
       "    <tr>\n",
       "      <th>2</th>\n",
       "      <td>0</td>\n",
       "      <td>-5623.422610</td>\n",
       "      <td>33</td>\n",
       "      <td>среднее</td>\n",
       "      <td>1</td>\n",
       "      <td>женат / замужем</td>\n",
       "      <td>0</td>\n",
       "      <td>M</td>\n",
       "      <td>сотрудник</td>\n",
       "      <td>0</td>\n",
       "      <td>145885</td>\n",
       "      <td>покупка жилья</td>\n",
       "      <td>5</td>\n",
       "      <td>недвижимость</td>\n",
       "    </tr>\n",
       "    <tr>\n",
       "      <th>3</th>\n",
       "      <td>3</td>\n",
       "      <td>-4124.747207</td>\n",
       "      <td>32</td>\n",
       "      <td>среднее</td>\n",
       "      <td>1</td>\n",
       "      <td>женат / замужем</td>\n",
       "      <td>0</td>\n",
       "      <td>M</td>\n",
       "      <td>сотрудник</td>\n",
       "      <td>0</td>\n",
       "      <td>267628</td>\n",
       "      <td>дополнительное образование</td>\n",
       "      <td>5</td>\n",
       "      <td>образование</td>\n",
       "    </tr>\n",
       "    <tr>\n",
       "      <th>4</th>\n",
       "      <td>0</td>\n",
       "      <td>340266.072047</td>\n",
       "      <td>53</td>\n",
       "      <td>среднее</td>\n",
       "      <td>1</td>\n",
       "      <td>гражданский брак</td>\n",
       "      <td>1</td>\n",
       "      <td>F</td>\n",
       "      <td>пенсионер</td>\n",
       "      <td>0</td>\n",
       "      <td>158616</td>\n",
       "      <td>сыграть свадьбу</td>\n",
       "      <td>2</td>\n",
       "      <td>свадьба</td>\n",
       "    </tr>\n",
       "    <tr>\n",
       "      <th>5</th>\n",
       "      <td>0</td>\n",
       "      <td>-926.185831</td>\n",
       "      <td>27</td>\n",
       "      <td>высшее</td>\n",
       "      <td>0</td>\n",
       "      <td>гражданский брак</td>\n",
       "      <td>1</td>\n",
       "      <td>M</td>\n",
       "      <td>компаньон</td>\n",
       "      <td>0</td>\n",
       "      <td>255763</td>\n",
       "      <td>покупка жилья</td>\n",
       "      <td>6</td>\n",
       "      <td>недвижимость</td>\n",
       "    </tr>\n",
       "    <tr>\n",
       "      <th>6</th>\n",
       "      <td>0</td>\n",
       "      <td>-2879.202052</td>\n",
       "      <td>43</td>\n",
       "      <td>высшее</td>\n",
       "      <td>0</td>\n",
       "      <td>женат / замужем</td>\n",
       "      <td>0</td>\n",
       "      <td>F</td>\n",
       "      <td>компаньон</td>\n",
       "      <td>0</td>\n",
       "      <td>240525</td>\n",
       "      <td>операции с жильем</td>\n",
       "      <td>6</td>\n",
       "      <td>недвижимость</td>\n",
       "    </tr>\n",
       "    <tr>\n",
       "      <th>7</th>\n",
       "      <td>0</td>\n",
       "      <td>-152.779569</td>\n",
       "      <td>50</td>\n",
       "      <td>среднее</td>\n",
       "      <td>1</td>\n",
       "      <td>женат / замужем</td>\n",
       "      <td>0</td>\n",
       "      <td>M</td>\n",
       "      <td>сотрудник</td>\n",
       "      <td>0</td>\n",
       "      <td>135823</td>\n",
       "      <td>образование</td>\n",
       "      <td>5</td>\n",
       "      <td>образование</td>\n",
       "    </tr>\n",
       "    <tr>\n",
       "      <th>8</th>\n",
       "      <td>2</td>\n",
       "      <td>-6929.865299</td>\n",
       "      <td>35</td>\n",
       "      <td>высшее</td>\n",
       "      <td>0</td>\n",
       "      <td>гражданский брак</td>\n",
       "      <td>1</td>\n",
       "      <td>F</td>\n",
       "      <td>сотрудник</td>\n",
       "      <td>0</td>\n",
       "      <td>95856</td>\n",
       "      <td>на проведение свадьбы</td>\n",
       "      <td>5</td>\n",
       "      <td>свадьба</td>\n",
       "    </tr>\n",
       "    <tr>\n",
       "      <th>9</th>\n",
       "      <td>0</td>\n",
       "      <td>-2188.756445</td>\n",
       "      <td>41</td>\n",
       "      <td>среднее</td>\n",
       "      <td>1</td>\n",
       "      <td>женат / замужем</td>\n",
       "      <td>0</td>\n",
       "      <td>M</td>\n",
       "      <td>сотрудник</td>\n",
       "      <td>0</td>\n",
       "      <td>144425</td>\n",
       "      <td>покупка жилья для семьи</td>\n",
       "      <td>5</td>\n",
       "      <td>недвижимость</td>\n",
       "    </tr>\n",
       "    <tr>\n",
       "      <th>10</th>\n",
       "      <td>2</td>\n",
       "      <td>-4171.483647</td>\n",
       "      <td>36</td>\n",
       "      <td>высшее</td>\n",
       "      <td>0</td>\n",
       "      <td>женат / замужем</td>\n",
       "      <td>0</td>\n",
       "      <td>M</td>\n",
       "      <td>компаньон</td>\n",
       "      <td>0</td>\n",
       "      <td>113943</td>\n",
       "      <td>покупка недвижимости</td>\n",
       "      <td>6</td>\n",
       "      <td>недвижимость</td>\n",
       "    </tr>\n",
       "    <tr>\n",
       "      <th>11</th>\n",
       "      <td>0</td>\n",
       "      <td>-792.701887</td>\n",
       "      <td>40</td>\n",
       "      <td>среднее</td>\n",
       "      <td>1</td>\n",
       "      <td>женат / замужем</td>\n",
       "      <td>0</td>\n",
       "      <td>F</td>\n",
       "      <td>сотрудник</td>\n",
       "      <td>0</td>\n",
       "      <td>77069</td>\n",
       "      <td>покупка коммерческой недвижимости</td>\n",
       "      <td>5</td>\n",
       "      <td>недвижимость</td>\n",
       "    </tr>\n",
       "    <tr>\n",
       "      <th>12</th>\n",
       "      <td>0</td>\n",
       "      <td>-1846.641941</td>\n",
       "      <td>54</td>\n",
       "      <td>неоконченное высшее</td>\n",
       "      <td>2</td>\n",
       "      <td>женат / замужем</td>\n",
       "      <td>0</td>\n",
       "      <td>F</td>\n",
       "      <td>сотрудник</td>\n",
       "      <td>0</td>\n",
       "      <td>130458</td>\n",
       "      <td>приобретение автомобиля</td>\n",
       "      <td>5</td>\n",
       "      <td>автомобиль</td>\n",
       "    </tr>\n",
       "    <tr>\n",
       "      <th>13</th>\n",
       "      <td>0</td>\n",
       "      <td>-1844.956182</td>\n",
       "      <td>56</td>\n",
       "      <td>высшее</td>\n",
       "      <td>0</td>\n",
       "      <td>гражданский брак</td>\n",
       "      <td>1</td>\n",
       "      <td>F</td>\n",
       "      <td>компаньон</td>\n",
       "      <td>1</td>\n",
       "      <td>165127</td>\n",
       "      <td>покупка жилой недвижимости</td>\n",
       "      <td>6</td>\n",
       "      <td>недвижимость</td>\n",
       "    </tr>\n",
       "    <tr>\n",
       "      <th>14</th>\n",
       "      <td>1</td>\n",
       "      <td>-972.364419</td>\n",
       "      <td>26</td>\n",
       "      <td>среднее</td>\n",
       "      <td>1</td>\n",
       "      <td>женат / замужем</td>\n",
       "      <td>0</td>\n",
       "      <td>F</td>\n",
       "      <td>сотрудник</td>\n",
       "      <td>0</td>\n",
       "      <td>116820</td>\n",
       "      <td>строительство собственной недвижимости</td>\n",
       "      <td>5</td>\n",
       "      <td>недвижимость</td>\n",
       "    </tr>\n",
       "  </tbody>\n",
       "</table>\n",
       "</div>"
      ],
      "text/plain": [
       "    children  days_employed  dob_years            education  education_id  \\\n",
       "0          1   -8437.673028         42               высшее             0   \n",
       "1          1   -4024.803754         36              среднее             1   \n",
       "2          0   -5623.422610         33              среднее             1   \n",
       "3          3   -4124.747207         32              среднее             1   \n",
       "4          0  340266.072047         53              среднее             1   \n",
       "5          0    -926.185831         27               высшее             0   \n",
       "6          0   -2879.202052         43               высшее             0   \n",
       "7          0    -152.779569         50              среднее             1   \n",
       "8          2   -6929.865299         35               высшее             0   \n",
       "9          0   -2188.756445         41              среднее             1   \n",
       "10         2   -4171.483647         36               высшее             0   \n",
       "11         0    -792.701887         40              среднее             1   \n",
       "12         0   -1846.641941         54  неоконченное высшее             2   \n",
       "13         0   -1844.956182         56               высшее             0   \n",
       "14         1    -972.364419         26              среднее             1   \n",
       "\n",
       "       family_status  family_status_id gender income_type  debt  total_income  \\\n",
       "0    женат / замужем                 0      F   сотрудник     0        253875   \n",
       "1    женат / замужем                 0      F   сотрудник     0        112080   \n",
       "2    женат / замужем                 0      M   сотрудник     0        145885   \n",
       "3    женат / замужем                 0      M   сотрудник     0        267628   \n",
       "4   гражданский брак                 1      F   пенсионер     0        158616   \n",
       "5   гражданский брак                 1      M   компаньон     0        255763   \n",
       "6    женат / замужем                 0      F   компаньон     0        240525   \n",
       "7    женат / замужем                 0      M   сотрудник     0        135823   \n",
       "8   гражданский брак                 1      F   сотрудник     0         95856   \n",
       "9    женат / замужем                 0      M   сотрудник     0        144425   \n",
       "10   женат / замужем                 0      M   компаньон     0        113943   \n",
       "11   женат / замужем                 0      F   сотрудник     0         77069   \n",
       "12   женат / замужем                 0      F   сотрудник     0        130458   \n",
       "13  гражданский брак                 1      F   компаньон     1        165127   \n",
       "14   женат / замужем                 0      F   сотрудник     0        116820   \n",
       "\n",
       "                                   purpose  income_type_id purpose_category  \n",
       "0                            покупка жилья               5     недвижимость  \n",
       "1                  приобретение автомобиля               5       автомобиль  \n",
       "2                            покупка жилья               5     недвижимость  \n",
       "3               дополнительное образование               5      образование  \n",
       "4                          сыграть свадьбу               2          свадьба  \n",
       "5                            покупка жилья               6     недвижимость  \n",
       "6                        операции с жильем               6     недвижимость  \n",
       "7                              образование               5      образование  \n",
       "8                    на проведение свадьбы               5          свадьба  \n",
       "9                  покупка жилья для семьи               5     недвижимость  \n",
       "10                    покупка недвижимости               6     недвижимость  \n",
       "11       покупка коммерческой недвижимости               5     недвижимость  \n",
       "12                 приобретение автомобиля               5       автомобиль  \n",
       "13              покупка жилой недвижимости               6     недвижимость  \n",
       "14  строительство собственной недвижимости               5     недвижимость  "
      ]
     },
     "metadata": {},
     "output_type": "display_data"
    },
    {
     "name": "stdout",
     "output_type": "stream",
     "text": [
      "['недвижимость' 'автомобиль' 'образование' 'свадьба']\n",
      "недвижимость    9758\n",
      "автомобиль      3897\n",
      "образование     3597\n",
      "свадьба         2099\n",
      "Name: purpose_category, dtype: int64\n"
     ]
    }
   ],
   "source": [
    "#проверка предыдущего шага\n",
    "display(data.head(15))\n",
    "print(data['purpose_category'].unique())\n",
    "print(data['purpose_category'].value_counts())"
   ]
  },
  {
   "cell_type": "markdown",
   "metadata": {},
   "source": [
    "**Вывод**"
   ]
  },
  {
   "cell_type": "markdown",
   "metadata": {},
   "source": [
    "Был добавлен новый столбец с категорией оформления кредита по следующему алгоритму:"
   ]
  },
  {
   "cell_type": "markdown",
   "metadata": {},
   "source": [
    "1) произведена лемматизация в столбце purpose по каждой строке,\n",
    "\n",
    "2) при наличии ключевых слов производилось отнесение их в определенную 'категорию' перебор осуществляется посредством функции if - return,\n",
    "\n",
    "3) с помощью функции .apply полученные новые значения были добавлены в новый столбец purpose_category."
   ]
  },
  {
   "cell_type": "markdown",
   "metadata": {},
   "source": [
    "### Категоризация данных"
   ]
  },
  {
   "cell_type": "code",
   "execution_count": 21,
   "metadata": {
    "scrolled": true
   },
   "outputs": [
    {
     "name": "stdout",
     "output_type": "stream",
     "text": [
      "172040    3\n",
      "97012     3\n",
      "204827    3\n",
      "133122    3\n",
      "102816    3\n",
      "         ..\n",
      "381117    1\n",
      "70100     1\n",
      "110461    1\n",
      "102836    1\n",
      "82047     1\n",
      "Name: total_income, Length: 18606, dtype: int64\n"
     ]
    }
   ],
   "source": [
    "#проверка, если есть встречающиеся значения\n",
    "print(data['total_income'].value_counts()) "
   ]
  },
  {
   "cell_type": "code",
   "execution_count": 22,
   "metadata": {},
   "outputs": [
    {
     "name": "stdout",
     "output_type": "stream",
     "text": [
      "income_type\n",
      "безработный        131339.0\n",
      "в декрете           53829.0\n",
      "госслужащий        150447.5\n",
      "компаньон          172357.0\n",
      "пенсионер          118514.0\n",
      "предприниматель    499163.0\n",
      "сотрудник          142594.0\n",
      "студент             98201.0\n",
      "Name: total_income, dtype: float64\n",
      "Медианный доход: 145017.0\n"
     ]
    }
   ],
   "source": [
    "#медианный доход по каждой группе (повторно для удобства)\n",
    "print(data.groupby('income_type')['total_income'].median())\n",
    "#медиоанный доход для всех групп\n",
    "print ('Медианный доход:', data['total_income'].median())"
   ]
  },
  {
   "cell_type": "code",
   "execution_count": 23,
   "metadata": {},
   "outputs": [
    {
     "name": "stdout",
     "output_type": "stream",
     "text": [
      "низкий доход\n",
      "средний доход\n",
      "высокий доход\n"
     ]
    }
   ],
   "source": [
    "#создание функции для отнесения дохода в определенную группу в зависимости от размера total_income\n",
    "def income_group(total_income):\n",
    "    if total_income <= 100000:\n",
    "        return 'низкий доход'\n",
    "    if total_income <= 200000:\n",
    "        return 'средний доход'\n",
    "    return 'высокий доход'\n",
    "\n",
    "#проверка\n",
    "print(income_group(53829))\n",
    "print(income_group(150447))\n",
    "print(income_group(499163))\n"
   ]
  },
  {
   "cell_type": "code",
   "execution_count": 24,
   "metadata": {
    "scrolled": true
   },
   "outputs": [
    {
     "data": {
      "text/html": [
       "<div>\n",
       "<style scoped>\n",
       "    .dataframe tbody tr th:only-of-type {\n",
       "        vertical-align: middle;\n",
       "    }\n",
       "\n",
       "    .dataframe tbody tr th {\n",
       "        vertical-align: top;\n",
       "    }\n",
       "\n",
       "    .dataframe thead th {\n",
       "        text-align: right;\n",
       "    }\n",
       "</style>\n",
       "<table border=\"1\" class=\"dataframe\">\n",
       "  <thead>\n",
       "    <tr style=\"text-align: right;\">\n",
       "      <th></th>\n",
       "      <th>children</th>\n",
       "      <th>days_employed</th>\n",
       "      <th>dob_years</th>\n",
       "      <th>education</th>\n",
       "      <th>education_id</th>\n",
       "      <th>family_status</th>\n",
       "      <th>family_status_id</th>\n",
       "      <th>gender</th>\n",
       "      <th>income_type</th>\n",
       "      <th>debt</th>\n",
       "      <th>total_income</th>\n",
       "      <th>purpose</th>\n",
       "      <th>income_type_id</th>\n",
       "      <th>purpose_category</th>\n",
       "      <th>income_group</th>\n",
       "    </tr>\n",
       "  </thead>\n",
       "  <tbody>\n",
       "    <tr>\n",
       "      <th>0</th>\n",
       "      <td>1</td>\n",
       "      <td>-8437.673028</td>\n",
       "      <td>42</td>\n",
       "      <td>высшее</td>\n",
       "      <td>0</td>\n",
       "      <td>женат / замужем</td>\n",
       "      <td>0</td>\n",
       "      <td>F</td>\n",
       "      <td>сотрудник</td>\n",
       "      <td>0</td>\n",
       "      <td>253875</td>\n",
       "      <td>покупка жилья</td>\n",
       "      <td>5</td>\n",
       "      <td>недвижимость</td>\n",
       "      <td>высокий доход</td>\n",
       "    </tr>\n",
       "    <tr>\n",
       "      <th>1</th>\n",
       "      <td>1</td>\n",
       "      <td>-4024.803754</td>\n",
       "      <td>36</td>\n",
       "      <td>среднее</td>\n",
       "      <td>1</td>\n",
       "      <td>женат / замужем</td>\n",
       "      <td>0</td>\n",
       "      <td>F</td>\n",
       "      <td>сотрудник</td>\n",
       "      <td>0</td>\n",
       "      <td>112080</td>\n",
       "      <td>приобретение автомобиля</td>\n",
       "      <td>5</td>\n",
       "      <td>автомобиль</td>\n",
       "      <td>средний доход</td>\n",
       "    </tr>\n",
       "    <tr>\n",
       "      <th>2</th>\n",
       "      <td>0</td>\n",
       "      <td>-5623.422610</td>\n",
       "      <td>33</td>\n",
       "      <td>среднее</td>\n",
       "      <td>1</td>\n",
       "      <td>женат / замужем</td>\n",
       "      <td>0</td>\n",
       "      <td>M</td>\n",
       "      <td>сотрудник</td>\n",
       "      <td>0</td>\n",
       "      <td>145885</td>\n",
       "      <td>покупка жилья</td>\n",
       "      <td>5</td>\n",
       "      <td>недвижимость</td>\n",
       "      <td>средний доход</td>\n",
       "    </tr>\n",
       "    <tr>\n",
       "      <th>3</th>\n",
       "      <td>3</td>\n",
       "      <td>-4124.747207</td>\n",
       "      <td>32</td>\n",
       "      <td>среднее</td>\n",
       "      <td>1</td>\n",
       "      <td>женат / замужем</td>\n",
       "      <td>0</td>\n",
       "      <td>M</td>\n",
       "      <td>сотрудник</td>\n",
       "      <td>0</td>\n",
       "      <td>267628</td>\n",
       "      <td>дополнительное образование</td>\n",
       "      <td>5</td>\n",
       "      <td>образование</td>\n",
       "      <td>высокий доход</td>\n",
       "    </tr>\n",
       "    <tr>\n",
       "      <th>4</th>\n",
       "      <td>0</td>\n",
       "      <td>340266.072047</td>\n",
       "      <td>53</td>\n",
       "      <td>среднее</td>\n",
       "      <td>1</td>\n",
       "      <td>гражданский брак</td>\n",
       "      <td>1</td>\n",
       "      <td>F</td>\n",
       "      <td>пенсионер</td>\n",
       "      <td>0</td>\n",
       "      <td>158616</td>\n",
       "      <td>сыграть свадьбу</td>\n",
       "      <td>2</td>\n",
       "      <td>свадьба</td>\n",
       "      <td>средний доход</td>\n",
       "    </tr>\n",
       "    <tr>\n",
       "      <th>5</th>\n",
       "      <td>0</td>\n",
       "      <td>-926.185831</td>\n",
       "      <td>27</td>\n",
       "      <td>высшее</td>\n",
       "      <td>0</td>\n",
       "      <td>гражданский брак</td>\n",
       "      <td>1</td>\n",
       "      <td>M</td>\n",
       "      <td>компаньон</td>\n",
       "      <td>0</td>\n",
       "      <td>255763</td>\n",
       "      <td>покупка жилья</td>\n",
       "      <td>6</td>\n",
       "      <td>недвижимость</td>\n",
       "      <td>высокий доход</td>\n",
       "    </tr>\n",
       "    <tr>\n",
       "      <th>6</th>\n",
       "      <td>0</td>\n",
       "      <td>-2879.202052</td>\n",
       "      <td>43</td>\n",
       "      <td>высшее</td>\n",
       "      <td>0</td>\n",
       "      <td>женат / замужем</td>\n",
       "      <td>0</td>\n",
       "      <td>F</td>\n",
       "      <td>компаньон</td>\n",
       "      <td>0</td>\n",
       "      <td>240525</td>\n",
       "      <td>операции с жильем</td>\n",
       "      <td>6</td>\n",
       "      <td>недвижимость</td>\n",
       "      <td>высокий доход</td>\n",
       "    </tr>\n",
       "    <tr>\n",
       "      <th>7</th>\n",
       "      <td>0</td>\n",
       "      <td>-152.779569</td>\n",
       "      <td>50</td>\n",
       "      <td>среднее</td>\n",
       "      <td>1</td>\n",
       "      <td>женат / замужем</td>\n",
       "      <td>0</td>\n",
       "      <td>M</td>\n",
       "      <td>сотрудник</td>\n",
       "      <td>0</td>\n",
       "      <td>135823</td>\n",
       "      <td>образование</td>\n",
       "      <td>5</td>\n",
       "      <td>образование</td>\n",
       "      <td>средний доход</td>\n",
       "    </tr>\n",
       "    <tr>\n",
       "      <th>8</th>\n",
       "      <td>2</td>\n",
       "      <td>-6929.865299</td>\n",
       "      <td>35</td>\n",
       "      <td>высшее</td>\n",
       "      <td>0</td>\n",
       "      <td>гражданский брак</td>\n",
       "      <td>1</td>\n",
       "      <td>F</td>\n",
       "      <td>сотрудник</td>\n",
       "      <td>0</td>\n",
       "      <td>95856</td>\n",
       "      <td>на проведение свадьбы</td>\n",
       "      <td>5</td>\n",
       "      <td>свадьба</td>\n",
       "      <td>низкий доход</td>\n",
       "    </tr>\n",
       "    <tr>\n",
       "      <th>9</th>\n",
       "      <td>0</td>\n",
       "      <td>-2188.756445</td>\n",
       "      <td>41</td>\n",
       "      <td>среднее</td>\n",
       "      <td>1</td>\n",
       "      <td>женат / замужем</td>\n",
       "      <td>0</td>\n",
       "      <td>M</td>\n",
       "      <td>сотрудник</td>\n",
       "      <td>0</td>\n",
       "      <td>144425</td>\n",
       "      <td>покупка жилья для семьи</td>\n",
       "      <td>5</td>\n",
       "      <td>недвижимость</td>\n",
       "      <td>средний доход</td>\n",
       "    </tr>\n",
       "  </tbody>\n",
       "</table>\n",
       "</div>"
      ],
      "text/plain": [
       "   children  days_employed  dob_years education  education_id  \\\n",
       "0         1   -8437.673028         42    высшее             0   \n",
       "1         1   -4024.803754         36   среднее             1   \n",
       "2         0   -5623.422610         33   среднее             1   \n",
       "3         3   -4124.747207         32   среднее             1   \n",
       "4         0  340266.072047         53   среднее             1   \n",
       "5         0    -926.185831         27    высшее             0   \n",
       "6         0   -2879.202052         43    высшее             0   \n",
       "7         0    -152.779569         50   среднее             1   \n",
       "8         2   -6929.865299         35    высшее             0   \n",
       "9         0   -2188.756445         41   среднее             1   \n",
       "\n",
       "      family_status  family_status_id gender income_type  debt  total_income  \\\n",
       "0   женат / замужем                 0      F   сотрудник     0        253875   \n",
       "1   женат / замужем                 0      F   сотрудник     0        112080   \n",
       "2   женат / замужем                 0      M   сотрудник     0        145885   \n",
       "3   женат / замужем                 0      M   сотрудник     0        267628   \n",
       "4  гражданский брак                 1      F   пенсионер     0        158616   \n",
       "5  гражданский брак                 1      M   компаньон     0        255763   \n",
       "6   женат / замужем                 0      F   компаньон     0        240525   \n",
       "7   женат / замужем                 0      M   сотрудник     0        135823   \n",
       "8  гражданский брак                 1      F   сотрудник     0         95856   \n",
       "9   женат / замужем                 0      M   сотрудник     0        144425   \n",
       "\n",
       "                      purpose  income_type_id purpose_category   income_group  \n",
       "0               покупка жилья               5     недвижимость  высокий доход  \n",
       "1     приобретение автомобиля               5       автомобиль  средний доход  \n",
       "2               покупка жилья               5     недвижимость  средний доход  \n",
       "3  дополнительное образование               5      образование  высокий доход  \n",
       "4             сыграть свадьбу               2          свадьба  средний доход  \n",
       "5               покупка жилья               6     недвижимость  высокий доход  \n",
       "6           операции с жильем               6     недвижимость  высокий доход  \n",
       "7                 образование               5      образование  средний доход  \n",
       "8       на проведение свадьбы               5          свадьба   низкий доход  \n",
       "9     покупка жилья для семьи               5     недвижимость  средний доход  "
      ]
     },
     "metadata": {},
     "output_type": "display_data"
    }
   ],
   "source": [
    "#добавление нового столбца с группой по доходу\n",
    "data['income_group'] = data['total_income'].apply(income_group)\n",
    "display(data.head(10))"
   ]
  },
  {
   "cell_type": "code",
   "execution_count": 25,
   "metadata": {
    "scrolled": true
   },
   "outputs": [
    {
     "data": {
      "text/plain": [
       "средний доход    9822\n",
       "высокий доход    5066\n",
       "низкий доход     4463\n",
       "Name: income_group, dtype: int64"
      ]
     },
     "metadata": {},
     "output_type": "display_data"
    }
   ],
   "source": [
    "#подсчет количества уникальных значений в каждой группе\n",
    "display(data['income_group'].value_counts())"
   ]
  },
  {
   "cell_type": "code",
   "execution_count": 26,
   "metadata": {
    "scrolled": true
   },
   "outputs": [
    {
     "name": "stdout",
     "output_type": "stream",
     "text": [
      "0    12710\n",
      "1     4387\n",
      "2     1918\n",
      "3      294\n",
      "4       34\n",
      "5        8\n",
      "Name: children, dtype: int64\n"
     ]
    }
   ],
   "source": [
    "#подсчет значений по количеству детей\n",
    "print(data['children'].value_counts())"
   ]
  },
  {
   "cell_type": "code",
   "execution_count": 27,
   "metadata": {},
   "outputs": [
    {
     "name": "stdout",
     "output_type": "stream",
     "text": [
      "нет детей\n",
      "есть дети\n"
     ]
    }
   ],
   "source": [
    "#создание функции для отнесения в определенную группу в зависимости от наличия детей\n",
    "def child_group(children):\n",
    "    if children == 0:\n",
    "        return 'нет детей'\n",
    "    if children > 0:\n",
    "        return 'есть дети'\n",
    "\n",
    "#проверка\n",
    "print(child_group(0))\n",
    "print(child_group(3))"
   ]
  },
  {
   "cell_type": "code",
   "execution_count": 28,
   "metadata": {
    "scrolled": true
   },
   "outputs": [
    {
     "data": {
      "text/html": [
       "<div>\n",
       "<style scoped>\n",
       "    .dataframe tbody tr th:only-of-type {\n",
       "        vertical-align: middle;\n",
       "    }\n",
       "\n",
       "    .dataframe tbody tr th {\n",
       "        vertical-align: top;\n",
       "    }\n",
       "\n",
       "    .dataframe thead th {\n",
       "        text-align: right;\n",
       "    }\n",
       "</style>\n",
       "<table border=\"1\" class=\"dataframe\">\n",
       "  <thead>\n",
       "    <tr style=\"text-align: right;\">\n",
       "      <th></th>\n",
       "      <th>children</th>\n",
       "      <th>days_employed</th>\n",
       "      <th>dob_years</th>\n",
       "      <th>education</th>\n",
       "      <th>education_id</th>\n",
       "      <th>family_status</th>\n",
       "      <th>family_status_id</th>\n",
       "      <th>gender</th>\n",
       "      <th>income_type</th>\n",
       "      <th>debt</th>\n",
       "      <th>total_income</th>\n",
       "      <th>purpose</th>\n",
       "      <th>income_type_id</th>\n",
       "      <th>purpose_category</th>\n",
       "      <th>income_group</th>\n",
       "      <th>child_group</th>\n",
       "    </tr>\n",
       "  </thead>\n",
       "  <tbody>\n",
       "    <tr>\n",
       "      <th>0</th>\n",
       "      <td>1</td>\n",
       "      <td>-8437.673028</td>\n",
       "      <td>42</td>\n",
       "      <td>высшее</td>\n",
       "      <td>0</td>\n",
       "      <td>женат / замужем</td>\n",
       "      <td>0</td>\n",
       "      <td>F</td>\n",
       "      <td>сотрудник</td>\n",
       "      <td>0</td>\n",
       "      <td>253875</td>\n",
       "      <td>покупка жилья</td>\n",
       "      <td>5</td>\n",
       "      <td>недвижимость</td>\n",
       "      <td>высокий доход</td>\n",
       "      <td>есть дети</td>\n",
       "    </tr>\n",
       "    <tr>\n",
       "      <th>1</th>\n",
       "      <td>1</td>\n",
       "      <td>-4024.803754</td>\n",
       "      <td>36</td>\n",
       "      <td>среднее</td>\n",
       "      <td>1</td>\n",
       "      <td>женат / замужем</td>\n",
       "      <td>0</td>\n",
       "      <td>F</td>\n",
       "      <td>сотрудник</td>\n",
       "      <td>0</td>\n",
       "      <td>112080</td>\n",
       "      <td>приобретение автомобиля</td>\n",
       "      <td>5</td>\n",
       "      <td>автомобиль</td>\n",
       "      <td>средний доход</td>\n",
       "      <td>есть дети</td>\n",
       "    </tr>\n",
       "    <tr>\n",
       "      <th>2</th>\n",
       "      <td>0</td>\n",
       "      <td>-5623.422610</td>\n",
       "      <td>33</td>\n",
       "      <td>среднее</td>\n",
       "      <td>1</td>\n",
       "      <td>женат / замужем</td>\n",
       "      <td>0</td>\n",
       "      <td>M</td>\n",
       "      <td>сотрудник</td>\n",
       "      <td>0</td>\n",
       "      <td>145885</td>\n",
       "      <td>покупка жилья</td>\n",
       "      <td>5</td>\n",
       "      <td>недвижимость</td>\n",
       "      <td>средний доход</td>\n",
       "      <td>нет детей</td>\n",
       "    </tr>\n",
       "    <tr>\n",
       "      <th>3</th>\n",
       "      <td>3</td>\n",
       "      <td>-4124.747207</td>\n",
       "      <td>32</td>\n",
       "      <td>среднее</td>\n",
       "      <td>1</td>\n",
       "      <td>женат / замужем</td>\n",
       "      <td>0</td>\n",
       "      <td>M</td>\n",
       "      <td>сотрудник</td>\n",
       "      <td>0</td>\n",
       "      <td>267628</td>\n",
       "      <td>дополнительное образование</td>\n",
       "      <td>5</td>\n",
       "      <td>образование</td>\n",
       "      <td>высокий доход</td>\n",
       "      <td>есть дети</td>\n",
       "    </tr>\n",
       "    <tr>\n",
       "      <th>4</th>\n",
       "      <td>0</td>\n",
       "      <td>340266.072047</td>\n",
       "      <td>53</td>\n",
       "      <td>среднее</td>\n",
       "      <td>1</td>\n",
       "      <td>гражданский брак</td>\n",
       "      <td>1</td>\n",
       "      <td>F</td>\n",
       "      <td>пенсионер</td>\n",
       "      <td>0</td>\n",
       "      <td>158616</td>\n",
       "      <td>сыграть свадьбу</td>\n",
       "      <td>2</td>\n",
       "      <td>свадьба</td>\n",
       "      <td>средний доход</td>\n",
       "      <td>нет детей</td>\n",
       "    </tr>\n",
       "    <tr>\n",
       "      <th>5</th>\n",
       "      <td>0</td>\n",
       "      <td>-926.185831</td>\n",
       "      <td>27</td>\n",
       "      <td>высшее</td>\n",
       "      <td>0</td>\n",
       "      <td>гражданский брак</td>\n",
       "      <td>1</td>\n",
       "      <td>M</td>\n",
       "      <td>компаньон</td>\n",
       "      <td>0</td>\n",
       "      <td>255763</td>\n",
       "      <td>покупка жилья</td>\n",
       "      <td>6</td>\n",
       "      <td>недвижимость</td>\n",
       "      <td>высокий доход</td>\n",
       "      <td>нет детей</td>\n",
       "    </tr>\n",
       "    <tr>\n",
       "      <th>6</th>\n",
       "      <td>0</td>\n",
       "      <td>-2879.202052</td>\n",
       "      <td>43</td>\n",
       "      <td>высшее</td>\n",
       "      <td>0</td>\n",
       "      <td>женат / замужем</td>\n",
       "      <td>0</td>\n",
       "      <td>F</td>\n",
       "      <td>компаньон</td>\n",
       "      <td>0</td>\n",
       "      <td>240525</td>\n",
       "      <td>операции с жильем</td>\n",
       "      <td>6</td>\n",
       "      <td>недвижимость</td>\n",
       "      <td>высокий доход</td>\n",
       "      <td>нет детей</td>\n",
       "    </tr>\n",
       "    <tr>\n",
       "      <th>7</th>\n",
       "      <td>0</td>\n",
       "      <td>-152.779569</td>\n",
       "      <td>50</td>\n",
       "      <td>среднее</td>\n",
       "      <td>1</td>\n",
       "      <td>женат / замужем</td>\n",
       "      <td>0</td>\n",
       "      <td>M</td>\n",
       "      <td>сотрудник</td>\n",
       "      <td>0</td>\n",
       "      <td>135823</td>\n",
       "      <td>образование</td>\n",
       "      <td>5</td>\n",
       "      <td>образование</td>\n",
       "      <td>средний доход</td>\n",
       "      <td>нет детей</td>\n",
       "    </tr>\n",
       "    <tr>\n",
       "      <th>8</th>\n",
       "      <td>2</td>\n",
       "      <td>-6929.865299</td>\n",
       "      <td>35</td>\n",
       "      <td>высшее</td>\n",
       "      <td>0</td>\n",
       "      <td>гражданский брак</td>\n",
       "      <td>1</td>\n",
       "      <td>F</td>\n",
       "      <td>сотрудник</td>\n",
       "      <td>0</td>\n",
       "      <td>95856</td>\n",
       "      <td>на проведение свадьбы</td>\n",
       "      <td>5</td>\n",
       "      <td>свадьба</td>\n",
       "      <td>низкий доход</td>\n",
       "      <td>есть дети</td>\n",
       "    </tr>\n",
       "    <tr>\n",
       "      <th>9</th>\n",
       "      <td>0</td>\n",
       "      <td>-2188.756445</td>\n",
       "      <td>41</td>\n",
       "      <td>среднее</td>\n",
       "      <td>1</td>\n",
       "      <td>женат / замужем</td>\n",
       "      <td>0</td>\n",
       "      <td>M</td>\n",
       "      <td>сотрудник</td>\n",
       "      <td>0</td>\n",
       "      <td>144425</td>\n",
       "      <td>покупка жилья для семьи</td>\n",
       "      <td>5</td>\n",
       "      <td>недвижимость</td>\n",
       "      <td>средний доход</td>\n",
       "      <td>нет детей</td>\n",
       "    </tr>\n",
       "  </tbody>\n",
       "</table>\n",
       "</div>"
      ],
      "text/plain": [
       "   children  days_employed  dob_years education  education_id  \\\n",
       "0         1   -8437.673028         42    высшее             0   \n",
       "1         1   -4024.803754         36   среднее             1   \n",
       "2         0   -5623.422610         33   среднее             1   \n",
       "3         3   -4124.747207         32   среднее             1   \n",
       "4         0  340266.072047         53   среднее             1   \n",
       "5         0    -926.185831         27    высшее             0   \n",
       "6         0   -2879.202052         43    высшее             0   \n",
       "7         0    -152.779569         50   среднее             1   \n",
       "8         2   -6929.865299         35    высшее             0   \n",
       "9         0   -2188.756445         41   среднее             1   \n",
       "\n",
       "      family_status  family_status_id gender income_type  debt  total_income  \\\n",
       "0   женат / замужем                 0      F   сотрудник     0        253875   \n",
       "1   женат / замужем                 0      F   сотрудник     0        112080   \n",
       "2   женат / замужем                 0      M   сотрудник     0        145885   \n",
       "3   женат / замужем                 0      M   сотрудник     0        267628   \n",
       "4  гражданский брак                 1      F   пенсионер     0        158616   \n",
       "5  гражданский брак                 1      M   компаньон     0        255763   \n",
       "6   женат / замужем                 0      F   компаньон     0        240525   \n",
       "7   женат / замужем                 0      M   сотрудник     0        135823   \n",
       "8  гражданский брак                 1      F   сотрудник     0         95856   \n",
       "9   женат / замужем                 0      M   сотрудник     0        144425   \n",
       "\n",
       "                      purpose  income_type_id purpose_category   income_group  \\\n",
       "0               покупка жилья               5     недвижимость  высокий доход   \n",
       "1     приобретение автомобиля               5       автомобиль  средний доход   \n",
       "2               покупка жилья               5     недвижимость  средний доход   \n",
       "3  дополнительное образование               5      образование  высокий доход   \n",
       "4             сыграть свадьбу               2          свадьба  средний доход   \n",
       "5               покупка жилья               6     недвижимость  высокий доход   \n",
       "6           операции с жильем               6     недвижимость  высокий доход   \n",
       "7                 образование               5      образование  средний доход   \n",
       "8       на проведение свадьбы               5          свадьба   низкий доход   \n",
       "9     покупка жилья для семьи               5     недвижимость  средний доход   \n",
       "\n",
       "  child_group  \n",
       "0   есть дети  \n",
       "1   есть дети  \n",
       "2   нет детей  \n",
       "3   есть дети  \n",
       "4   нет детей  \n",
       "5   нет детей  \n",
       "6   нет детей  \n",
       "7   нет детей  \n",
       "8   есть дети  \n",
       "9   нет детей  "
      ]
     },
     "metadata": {},
     "output_type": "display_data"
    }
   ],
   "source": [
    "#добавление нового столбца с группой по наличию детей\n",
    "data['child_group'] = data['children'].apply(child_group)\n",
    "display(data.head(10))"
   ]
  },
  {
   "cell_type": "code",
   "execution_count": 29,
   "metadata": {},
   "outputs": [
    {
     "data": {
      "text/plain": [
       "нет детей    12710\n",
       "есть дети     6641\n",
       "Name: child_group, dtype: int64"
      ]
     },
     "metadata": {},
     "output_type": "display_data"
    }
   ],
   "source": [
    "#подсчет количеств в разных категориях по количеству детей\n",
    "display(data['child_group'].value_counts())"
   ]
  },
  {
   "cell_type": "markdown",
   "metadata": {},
   "source": [
    "**Вывод**"
   ]
  },
  {
   "cell_type": "markdown",
   "metadata": {},
   "source": [
    "Категоризация данных по целям кредитования была произведена ранее (в разделе Лемматизация).\n",
    "\n",
    "Категоризация по уровню дохода была сделана с созданием функции, которая посредством if - return последовательно проверяет в какой диапазон попадает определенные значение total_income и в зависимости от этого относит значение в определенную категорию.\n",
    "\n",
    "Была сделана проверка функции перебором различных значений.\n",
    "\n",
    "Далее посредством функции .apply был создан новый столбец с категорией дохода. С помощью функции value_counts были рассчитано количество той или иной категории, по полученным результатам получилось, что людей со средним доходом больше всего, что кажется логичным (как бедных, так и богатых людей в идеале не должно быть много).\n",
    "\n",
    "Аналогично была произведена категоризация по наличию детей в семье."
   ]
  },
  {
   "cell_type": "markdown",
   "metadata": {},
   "source": [
    "* Категоризация данных по целям кредитования была произведена ранее (в разделе Лемматизация).\n",
    "\n",
    "* Категоризация по уровню дохода была сделана с созданием функции, которая:\n",
    "    * Посредством if - return последовательно проверяет в какой диапазон попадает определенные значение total_income и в зависимости от этого относит значение в определенную категорию.\n",
    "\n",
    "    * Была сделана проверка функции перебором различных значений.\n",
    "\n",
    "    * Далее посредством функции .apply был создан новый столбец с категорией дохода. С помощью функции value_counts были рассчитано количество той или иной категории, по полученным результатам получилось, что людей со средним доходом больше всего, что кажется логичным (как бедных, так и богатых людей в идеале не должно быть много).\n",
    "\n",
    "* Аналогично была произведена категоризация по наличию детей в семье."
   ]
  },
  {
   "cell_type": "markdown",
   "metadata": {},
   "source": [
    "## Шаг 3. Ответьте на вопросы"
   ]
  },
  {
   "cell_type": "markdown",
   "metadata": {},
   "source": [
    "- Есть ли зависимость между наличием детей и возвратом кредита в срок?"
   ]
  },
  {
   "cell_type": "code",
   "execution_count": 30,
   "metadata": {
    "scrolled": false
   },
   "outputs": [
    {
     "data": {
      "text/html": [
       "<div>\n",
       "<style scoped>\n",
       "    .dataframe tbody tr th:only-of-type {\n",
       "        vertical-align: middle;\n",
       "    }\n",
       "\n",
       "    .dataframe tbody tr th {\n",
       "        vertical-align: top;\n",
       "    }\n",
       "\n",
       "    .dataframe thead th {\n",
       "        text-align: right;\n",
       "    }\n",
       "</style>\n",
       "<table border=\"1\" class=\"dataframe\">\n",
       "  <thead>\n",
       "    <tr style=\"text-align: right;\">\n",
       "      <th>debt</th>\n",
       "      <th>0</th>\n",
       "      <th>1</th>\n",
       "    </tr>\n",
       "    <tr>\n",
       "      <th>child_group</th>\n",
       "      <th></th>\n",
       "      <th></th>\n",
       "    </tr>\n",
       "  </thead>\n",
       "  <tbody>\n",
       "    <tr>\n",
       "      <th>есть дети</th>\n",
       "      <td>6022</td>\n",
       "      <td>619</td>\n",
       "    </tr>\n",
       "    <tr>\n",
       "      <th>нет детей</th>\n",
       "      <td>11758</td>\n",
       "      <td>952</td>\n",
       "    </tr>\n",
       "  </tbody>\n",
       "</table>\n",
       "</div>"
      ],
      "text/plain": [
       "debt             0    1\n",
       "child_group            \n",
       "есть дети     6022  619\n",
       "нет детей    11758  952"
      ]
     },
     "metadata": {},
     "output_type": "display_data"
    }
   ],
   "source": [
    "#создание сводной таблицы по наличию детей и наличию долга с подсчетом количества строк в каждой категории\n",
    "pivot_table_child_group = data.pivot_table(index=['child_group'], columns='debt', values='total_income', aggfunc='count')\n",
    "display(pivot_table_child_group)"
   ]
  },
  {
   "cell_type": "code",
   "execution_count": 31,
   "metadata": {},
   "outputs": [
    {
     "data": {
      "text/html": [
       "<div>\n",
       "<style scoped>\n",
       "    .dataframe tbody tr th:only-of-type {\n",
       "        vertical-align: middle;\n",
       "    }\n",
       "\n",
       "    .dataframe tbody tr th {\n",
       "        vertical-align: top;\n",
       "    }\n",
       "\n",
       "    .dataframe thead th {\n",
       "        text-align: right;\n",
       "    }\n",
       "</style>\n",
       "<table border=\"1\" class=\"dataframe\">\n",
       "  <thead>\n",
       "    <tr style=\"text-align: right;\">\n",
       "      <th>debt</th>\n",
       "      <th>0</th>\n",
       "      <th>1</th>\n",
       "      <th>percent</th>\n",
       "    </tr>\n",
       "    <tr>\n",
       "      <th>child_group</th>\n",
       "      <th></th>\n",
       "      <th></th>\n",
       "      <th></th>\n",
       "    </tr>\n",
       "  </thead>\n",
       "  <tbody>\n",
       "    <tr>\n",
       "      <th>есть дети</th>\n",
       "      <td>6022</td>\n",
       "      <td>619</td>\n",
       "      <td>9.320885</td>\n",
       "    </tr>\n",
       "    <tr>\n",
       "      <th>нет детей</th>\n",
       "      <td>11758</td>\n",
       "      <td>952</td>\n",
       "      <td>7.490165</td>\n",
       "    </tr>\n",
       "  </tbody>\n",
       "</table>\n",
       "</div>"
      ],
      "text/plain": [
       "debt             0    1   percent\n",
       "child_group                      \n",
       "есть дети     6022  619  9.320885\n",
       "нет детей    11758  952  7.490165"
      ]
     },
     "metadata": {},
     "output_type": "display_data"
    }
   ],
   "source": [
    "#расчет доли заемщицов с долгом по каждой из категорий (есть дети / нет детей) и добавления столбца с расчетом в сводную таблицу\n",
    "pivot_table_child_group['percent'] = pivot_table_child_group[1]/(pivot_table_child_group[1] + pivot_table_child_group[0]) * 100\n",
    "display(pivot_table_child_group)"
   ]
  },
  {
   "cell_type": "markdown",
   "metadata": {},
   "source": [
    "**Вывод**\n",
    "\n",
    "У заемщиков с детьми вероятность возникновения долга по кредиту выше, чем у заемщиков без детей."
   ]
  },
  {
   "cell_type": "code",
   "execution_count": 32,
   "metadata": {
    "scrolled": true
   },
   "outputs": [
    {
     "data": {
      "text/html": [
       "<div>\n",
       "<style scoped>\n",
       "    .dataframe tbody tr th:only-of-type {\n",
       "        vertical-align: middle;\n",
       "    }\n",
       "\n",
       "    .dataframe tbody tr th {\n",
       "        vertical-align: top;\n",
       "    }\n",
       "\n",
       "    .dataframe thead th {\n",
       "        text-align: right;\n",
       "    }\n",
       "</style>\n",
       "<table border=\"1\" class=\"dataframe\">\n",
       "  <thead>\n",
       "    <tr style=\"text-align: right;\">\n",
       "      <th>debt</th>\n",
       "      <th>0</th>\n",
       "      <th>1</th>\n",
       "      <th>percent_debt</th>\n",
       "    </tr>\n",
       "  </thead>\n",
       "  <tbody>\n",
       "    <tr>\n",
       "      <th>total_income</th>\n",
       "      <td>17780</td>\n",
       "      <td>1571</td>\n",
       "      <td>8.118443</td>\n",
       "    </tr>\n",
       "  </tbody>\n",
       "</table>\n",
       "</div>"
      ],
      "text/plain": [
       "debt              0     1  percent_debt\n",
       "total_income  17780  1571      8.118443"
      ]
     },
     "metadata": {},
     "output_type": "display_data"
    }
   ],
   "source": [
    "#расчет доли заемщицов с долгом по всем категориям и добавления столбца с расчетом в сводную таблицу\n",
    "#создание сводной таблицы по наличию детей и наличию долга с подсчетом количества строк в каждой категории\n",
    "pivot_table_debt_share = data.pivot_table (columns = 'debt', values='total_income', aggfunc='count')\n",
    "pivot_table_debt_share['percent_debt'] = pivot_table_debt_share[1]/(pivot_table_debt_share[1] + pivot_table_debt_share[0]) * 100\n",
    "display(pivot_table_debt_share)"
   ]
  },
  {
   "cell_type": "markdown",
   "metadata": {},
   "source": [
    "- Есть ли зависимость между семейным положением и возвратом кредита в срок?"
   ]
  },
  {
   "cell_type": "code",
   "execution_count": 33,
   "metadata": {},
   "outputs": [
    {
     "data": {
      "text/html": [
       "<div>\n",
       "<style scoped>\n",
       "    .dataframe tbody tr th:only-of-type {\n",
       "        vertical-align: middle;\n",
       "    }\n",
       "\n",
       "    .dataframe tbody tr th {\n",
       "        vertical-align: top;\n",
       "    }\n",
       "\n",
       "    .dataframe thead th {\n",
       "        text-align: right;\n",
       "    }\n",
       "</style>\n",
       "<table border=\"1\" class=\"dataframe\">\n",
       "  <thead>\n",
       "    <tr style=\"text-align: right;\">\n",
       "      <th>debt</th>\n",
       "      <th>0</th>\n",
       "      <th>1</th>\n",
       "      <th>percent</th>\n",
       "    </tr>\n",
       "    <tr>\n",
       "      <th>child_group</th>\n",
       "      <th></th>\n",
       "      <th></th>\n",
       "      <th></th>\n",
       "    </tr>\n",
       "  </thead>\n",
       "  <tbody>\n",
       "    <tr>\n",
       "      <th>есть дети</th>\n",
       "      <td>6022</td>\n",
       "      <td>619</td>\n",
       "      <td>9.320885</td>\n",
       "    </tr>\n",
       "    <tr>\n",
       "      <th>нет детей</th>\n",
       "      <td>11758</td>\n",
       "      <td>952</td>\n",
       "      <td>7.490165</td>\n",
       "    </tr>\n",
       "  </tbody>\n",
       "</table>\n",
       "</div>"
      ],
      "text/plain": [
       "debt             0    1   percent\n",
       "child_group                      \n",
       "есть дети     6022  619  9.320885\n",
       "нет детей    11758  952  7.490165"
      ]
     },
     "metadata": {},
     "output_type": "display_data"
    }
   ],
   "source": [
    "#создание сводной таблицы по семейному положению и наличию долга с подсчетом количества строк в каждой категории\n",
    "pivot_table_child_group['percent'] = pivot_table_child_group[1] /(pivot_table_child_group[1] + pivot_table_child_group[0]) * 100\n",
    "display(pivot_table_child_group)"
   ]
  },
  {
   "cell_type": "code",
   "execution_count": 34,
   "metadata": {},
   "outputs": [
    {
     "data": {
      "text/html": [
       "<div>\n",
       "<style scoped>\n",
       "    .dataframe tbody tr th:only-of-type {\n",
       "        vertical-align: middle;\n",
       "    }\n",
       "\n",
       "    .dataframe tbody tr th {\n",
       "        vertical-align: top;\n",
       "    }\n",
       "\n",
       "    .dataframe thead th {\n",
       "        text-align: right;\n",
       "    }\n",
       "</style>\n",
       "<table border=\"1\" class=\"dataframe\">\n",
       "  <thead>\n",
       "    <tr style=\"text-align: right;\">\n",
       "      <th>debt</th>\n",
       "      <th>0</th>\n",
       "      <th>1</th>\n",
       "      <th>percent</th>\n",
       "    </tr>\n",
       "    <tr>\n",
       "      <th>family_status</th>\n",
       "      <th></th>\n",
       "      <th></th>\n",
       "      <th></th>\n",
       "    </tr>\n",
       "  </thead>\n",
       "  <tbody>\n",
       "    <tr>\n",
       "      <th>Не женат / не замужем</th>\n",
       "      <td>2271</td>\n",
       "      <td>254</td>\n",
       "      <td>10.059406</td>\n",
       "    </tr>\n",
       "    <tr>\n",
       "      <th>в разводе</th>\n",
       "      <td>1007</td>\n",
       "      <td>76</td>\n",
       "      <td>7.017544</td>\n",
       "    </tr>\n",
       "    <tr>\n",
       "      <th>вдовец / вдова</th>\n",
       "      <td>809</td>\n",
       "      <td>56</td>\n",
       "      <td>6.473988</td>\n",
       "    </tr>\n",
       "    <tr>\n",
       "      <th>гражданский брак</th>\n",
       "      <td>3396</td>\n",
       "      <td>339</td>\n",
       "      <td>9.076305</td>\n",
       "    </tr>\n",
       "    <tr>\n",
       "      <th>женат / замужем</th>\n",
       "      <td>10297</td>\n",
       "      <td>846</td>\n",
       "      <td>7.592210</td>\n",
       "    </tr>\n",
       "  </tbody>\n",
       "</table>\n",
       "</div>"
      ],
      "text/plain": [
       "debt                       0    1    percent\n",
       "family_status                               \n",
       "Не женат / не замужем   2271  254  10.059406\n",
       "в разводе               1007   76   7.017544\n",
       "вдовец / вдова           809   56   6.473988\n",
       "гражданский брак        3396  339   9.076305\n",
       "женат / замужем        10297  846   7.592210"
      ]
     },
     "metadata": {},
     "output_type": "display_data"
    }
   ],
   "source": [
    "#создание сводной таблицы по семейному положению\n",
    "pivot_table_status_group = data.pivot_table(index=['family_status'], columns='debt', values='total_income', aggfunc='count')\n",
    "#расчет доли заемщицов с долгом по каждой из категорий по семейному положению и добавления столбца с расчетом в сводную таблицу\n",
    "pivot_table_status_group['percent'] = pivot_table_status_group[1]/(pivot_table_status_group[1] + pivot_table_status_group[0]) * 100\n",
    "display(pivot_table_status_group)"
   ]
  },
  {
   "cell_type": "markdown",
   "metadata": {},
   "source": [
    "**Вывод**"
   ]
  },
  {
   "cell_type": "markdown",
   "metadata": {},
   "source": [
    "Максимальная вероятность возникновения долга у неженатых/незамужих заемщиков, следующие за ними - заемщики, состоящие в гражданском браке, наименьшая вероятность долга у овдовевших. Зависимость прослеживается."
   ]
  },
  {
   "cell_type": "markdown",
   "metadata": {},
   "source": [
    "- Есть ли зависимость между уровнем дохода и возвратом кредита в срок?"
   ]
  },
  {
   "cell_type": "code",
   "execution_count": 35,
   "metadata": {},
   "outputs": [
    {
     "data": {
      "text/html": [
       "<div>\n",
       "<style scoped>\n",
       "    .dataframe tbody tr th:only-of-type {\n",
       "        vertical-align: middle;\n",
       "    }\n",
       "\n",
       "    .dataframe tbody tr th {\n",
       "        vertical-align: top;\n",
       "    }\n",
       "\n",
       "    .dataframe thead th {\n",
       "        text-align: right;\n",
       "    }\n",
       "</style>\n",
       "<table border=\"1\" class=\"dataframe\">\n",
       "  <thead>\n",
       "    <tr style=\"text-align: right;\">\n",
       "      <th>debt</th>\n",
       "      <th>0</th>\n",
       "      <th>1</th>\n",
       "      <th>percent</th>\n",
       "    </tr>\n",
       "    <tr>\n",
       "      <th>income_group</th>\n",
       "      <th></th>\n",
       "      <th></th>\n",
       "      <th></th>\n",
       "    </tr>\n",
       "  </thead>\n",
       "  <tbody>\n",
       "    <tr>\n",
       "      <th>высокий доход</th>\n",
       "      <td>4708</td>\n",
       "      <td>358</td>\n",
       "      <td>7.066719</td>\n",
       "    </tr>\n",
       "    <tr>\n",
       "      <th>низкий доход</th>\n",
       "      <td>4109</td>\n",
       "      <td>354</td>\n",
       "      <td>7.931884</td>\n",
       "    </tr>\n",
       "    <tr>\n",
       "      <th>средний доход</th>\n",
       "      <td>8963</td>\n",
       "      <td>859</td>\n",
       "      <td>8.745673</td>\n",
       "    </tr>\n",
       "  </tbody>\n",
       "</table>\n",
       "</div>"
      ],
      "text/plain": [
       "debt              0    1   percent\n",
       "income_group                      \n",
       "высокий доход  4708  358  7.066719\n",
       "низкий доход   4109  354  7.931884\n",
       "средний доход  8963  859  8.745673"
      ]
     },
     "metadata": {},
     "output_type": "display_data"
    }
   ],
   "source": [
    "#создание сводной таблицы, расчет доли заемщицов с долгом по каждой из категорий по уровню дохода и добавления столбца с расчетом в сводную таблицу\n",
    "pivot_table_income_group = data.pivot_table(index=['income_group'], columns='debt', values='total_income', aggfunc='count')\n",
    "pivot_table_income_group['percent'] = pivot_table_income_group[1]/(pivot_table_income_group[1] + pivot_table_income_group[0]) * 100\n",
    "display(pivot_table_income_group)"
   ]
  },
  {
   "cell_type": "markdown",
   "metadata": {},
   "source": [
    "**Вывод**"
   ]
  },
  {
   "cell_type": "markdown",
   "metadata": {},
   "source": [
    "Зависимость есть: наименьшая вероятность возникновения долга у заемщиков с высоким доходом, наибольшия - со средним уровнем дохода."
   ]
  },
  {
   "cell_type": "markdown",
   "metadata": {},
   "source": [
    "- Как разные цели кредита влияют на его возврат в срок?"
   ]
  },
  {
   "cell_type": "code",
   "execution_count": 36,
   "metadata": {},
   "outputs": [
    {
     "data": {
      "text/html": [
       "<div>\n",
       "<style scoped>\n",
       "    .dataframe tbody tr th:only-of-type {\n",
       "        vertical-align: middle;\n",
       "    }\n",
       "\n",
       "    .dataframe tbody tr th {\n",
       "        vertical-align: top;\n",
       "    }\n",
       "\n",
       "    .dataframe thead th {\n",
       "        text-align: right;\n",
       "    }\n",
       "</style>\n",
       "<table border=\"1\" class=\"dataframe\">\n",
       "  <thead>\n",
       "    <tr style=\"text-align: right;\">\n",
       "      <th>debt</th>\n",
       "      <th>0</th>\n",
       "      <th>1</th>\n",
       "      <th>percent</th>\n",
       "    </tr>\n",
       "    <tr>\n",
       "      <th>purpose_category</th>\n",
       "      <th></th>\n",
       "      <th></th>\n",
       "      <th></th>\n",
       "    </tr>\n",
       "  </thead>\n",
       "  <tbody>\n",
       "    <tr>\n",
       "      <th>автомобиль</th>\n",
       "      <td>3530</td>\n",
       "      <td>367</td>\n",
       "      <td>9.417501</td>\n",
       "    </tr>\n",
       "    <tr>\n",
       "      <th>недвижимость</th>\n",
       "      <td>9043</td>\n",
       "      <td>715</td>\n",
       "      <td>7.327321</td>\n",
       "    </tr>\n",
       "    <tr>\n",
       "      <th>образование</th>\n",
       "      <td>3266</td>\n",
       "      <td>331</td>\n",
       "      <td>9.202113</td>\n",
       "    </tr>\n",
       "    <tr>\n",
       "      <th>свадьба</th>\n",
       "      <td>1941</td>\n",
       "      <td>158</td>\n",
       "      <td>7.527394</td>\n",
       "    </tr>\n",
       "  </tbody>\n",
       "</table>\n",
       "</div>"
      ],
      "text/plain": [
       "debt                 0    1   percent\n",
       "purpose_category                     \n",
       "автомобиль        3530  367  9.417501\n",
       "недвижимость      9043  715  7.327321\n",
       "образование       3266  331  9.202113\n",
       "свадьба           1941  158  7.527394"
      ]
     },
     "metadata": {},
     "output_type": "display_data"
    }
   ],
   "source": [
    "#создание сводной таблицы, расчет доли заемщицов с долгом по каждой из категорий по цели кредита и добавления столбца с расчетом в сводную таблицу\n",
    "pivot_table_purpose_category = data.pivot_table(index=['purpose_category'], columns='debt', values='total_income', aggfunc='count')\n",
    "pivot_table_purpose_category['percent'] = pivot_table_purpose_category[1]/(pivot_table_purpose_category[1] + pivot_table_purpose_category[0]) * 100\n",
    "display(pivot_table_purpose_category)"
   ]
  },
  {
   "cell_type": "markdown",
   "metadata": {},
   "source": [
    "**Вывод**"
   ]
  },
  {
   "cell_type": "markdown",
   "metadata": {},
   "source": [
    "Наименьшая вероятность долга у заемщиков, оформивших кредит на проиобретение недвижимости или свадьбу, наибольшая - при кредите на автомобиль или образование."
   ]
  },
  {
   "cell_type": "markdown",
   "metadata": {},
   "source": [
    "## Шаг 4. Общий вывод"
   ]
  },
  {
   "cell_type": "markdown",
   "metadata": {},
   "source": [
    "При принятии решения о выдаче кредита необходимо принимать во внимание и семейное положение, и наличие детей, и цель кредита, и уровень дохода заемщиков."
   ]
  }
 ],
 "metadata": {
  "ExecuteTimeLog": [
   {
    "duration": 823,
    "start_time": "2022-01-09T06:12:32.063Z"
   },
   {
    "duration": 95,
    "start_time": "2022-01-09T06:13:33.421Z"
   },
   {
    "duration": 89,
    "start_time": "2022-01-09T06:28:59.606Z"
   },
   {
    "duration": 109,
    "start_time": "2022-01-09T06:29:53.356Z"
   },
   {
    "duration": 105,
    "start_time": "2022-01-09T06:31:46.190Z"
   },
   {
    "duration": 168,
    "start_time": "2022-01-09T06:33:53.953Z"
   },
   {
    "duration": 117,
    "start_time": "2022-01-09T06:34:00.914Z"
   },
   {
    "duration": 113,
    "start_time": "2022-01-09T06:34:25.597Z"
   },
   {
    "duration": 113,
    "start_time": "2022-01-09T06:34:32.971Z"
   },
   {
    "duration": 133,
    "start_time": "2022-01-09T06:34:54.529Z"
   },
   {
    "duration": 375,
    "start_time": "2022-01-09T11:50:27.056Z"
   },
   {
    "duration": 142,
    "start_time": "2022-01-09T11:50:48.593Z"
   },
   {
    "duration": 15,
    "start_time": "2022-01-09T11:50:55.862Z"
   },
   {
    "duration": 14,
    "start_time": "2022-01-09T11:51:15.797Z"
   },
   {
    "duration": 361,
    "start_time": "2022-01-09T11:51:26.931Z"
   },
   {
    "duration": 99,
    "start_time": "2022-01-09T11:52:31.524Z"
   },
   {
    "duration": 102,
    "start_time": "2022-01-09T11:52:46.402Z"
   },
   {
    "duration": 104,
    "start_time": "2022-01-09T11:52:53.058Z"
   },
   {
    "duration": 124,
    "start_time": "2022-01-09T11:53:59.952Z"
   },
   {
    "duration": 107,
    "start_time": "2022-01-09T11:54:05.710Z"
   },
   {
    "duration": 314,
    "start_time": "2022-01-09T11:54:10.123Z"
   },
   {
    "duration": 641,
    "start_time": "2022-01-09T11:55:15.187Z"
   },
   {
    "duration": 369,
    "start_time": "2022-01-09T11:55:53.216Z"
   },
   {
    "duration": 375,
    "start_time": "2022-01-09T11:56:11.199Z"
   },
   {
    "duration": 9,
    "start_time": "2022-01-09T11:56:57.060Z"
   },
   {
    "duration": 15,
    "start_time": "2022-01-09T11:57:48.135Z"
   },
   {
    "duration": 20,
    "start_time": "2022-01-09T11:58:12.122Z"
   },
   {
    "duration": 22,
    "start_time": "2022-01-09T11:58:29.964Z"
   },
   {
    "duration": 19,
    "start_time": "2022-01-09T11:59:34.470Z"
   },
   {
    "duration": 325,
    "start_time": "2022-01-09T12:00:04.960Z"
   },
   {
    "duration": 106,
    "start_time": "2022-01-09T12:00:25.269Z"
   },
   {
    "duration": 306,
    "start_time": "2022-01-09T12:02:43.590Z"
   },
   {
    "duration": 283,
    "start_time": "2022-01-09T12:03:19.232Z"
   },
   {
    "duration": 282,
    "start_time": "2022-01-09T12:03:26.968Z"
   },
   {
    "duration": 36,
    "start_time": "2022-01-09T12:03:34.439Z"
   },
   {
    "duration": 27,
    "start_time": "2022-01-09T12:06:13.217Z"
   },
   {
    "duration": 33,
    "start_time": "2022-01-09T12:06:24.354Z"
   },
   {
    "duration": 19,
    "start_time": "2022-01-09T12:06:38.886Z"
   },
   {
    "duration": 19,
    "start_time": "2022-01-09T12:06:42.316Z"
   },
   {
    "duration": 19,
    "start_time": "2022-01-09T12:06:52.866Z"
   },
   {
    "duration": 13,
    "start_time": "2022-01-09T12:07:01.936Z"
   },
   {
    "duration": 13,
    "start_time": "2022-01-09T12:07:15.545Z"
   },
   {
    "duration": 12,
    "start_time": "2022-01-09T12:07:23.004Z"
   },
   {
    "duration": 84,
    "start_time": "2022-01-09T12:09:06.337Z"
   },
   {
    "duration": 26,
    "start_time": "2022-01-09T12:09:15.150Z"
   },
   {
    "duration": 116,
    "start_time": "2022-01-09T12:09:39.350Z"
   },
   {
    "duration": 21,
    "start_time": "2022-01-09T12:10:08.182Z"
   },
   {
    "duration": 36,
    "start_time": "2022-01-09T12:10:36.598Z"
   },
   {
    "duration": 37,
    "start_time": "2022-01-09T12:11:49.763Z"
   },
   {
    "duration": 18,
    "start_time": "2022-01-09T12:12:14.301Z"
   },
   {
    "duration": 20,
    "start_time": "2022-01-09T12:12:29.782Z"
   },
   {
    "duration": 13,
    "start_time": "2022-01-09T12:13:31.746Z"
   },
   {
    "duration": 18,
    "start_time": "2022-01-09T12:13:44.732Z"
   },
   {
    "duration": 181,
    "start_time": "2022-01-09T12:16:04.880Z"
   },
   {
    "duration": 29,
    "start_time": "2022-01-09T12:16:05.065Z"
   },
   {
    "duration": 115,
    "start_time": "2022-01-09T12:17:24.961Z"
   },
   {
    "duration": 12,
    "start_time": "2022-01-09T12:18:26.286Z"
   },
   {
    "duration": 81,
    "start_time": "2022-01-09T12:51:51.566Z"
   },
   {
    "duration": 346,
    "start_time": "2022-01-09T12:51:55.695Z"
   },
   {
    "duration": 827,
    "start_time": "2022-01-09T12:52:09.641Z"
   },
   {
    "duration": 18,
    "start_time": "2022-01-09T12:52:17.126Z"
   },
   {
    "duration": 34,
    "start_time": "2022-01-09T12:52:56.378Z"
   },
   {
    "duration": 15,
    "start_time": "2022-01-09T12:53:28.348Z"
   },
   {
    "duration": 150,
    "start_time": "2022-01-09T12:54:51.029Z"
   },
   {
    "duration": 291,
    "start_time": "2022-01-09T12:54:56.752Z"
   },
   {
    "duration": 80,
    "start_time": "2022-01-09T12:55:41.666Z"
   },
   {
    "duration": 8,
    "start_time": "2022-01-09T12:55:48.588Z"
   },
   {
    "duration": 7,
    "start_time": "2022-01-09T12:56:25.252Z"
   },
   {
    "duration": 91,
    "start_time": "2022-01-09T12:57:14.896Z"
   },
   {
    "duration": 882,
    "start_time": "2022-01-09T15:17:13.004Z"
   },
   {
    "duration": 169,
    "start_time": "2022-01-09T15:17:13.892Z"
   },
   {
    "duration": 452,
    "start_time": "2022-01-09T15:17:50.440Z"
   },
   {
    "duration": 457,
    "start_time": "2022-01-09T15:18:14.718Z"
   },
   {
    "duration": 1179,
    "start_time": "2022-01-11T04:43:27.013Z"
   },
   {
    "duration": 84,
    "start_time": "2022-01-11T04:44:14.534Z"
   },
   {
    "duration": 119,
    "start_time": "2022-01-11T04:48:26.941Z"
   },
   {
    "duration": 110,
    "start_time": "2022-01-11T04:48:47.828Z"
   },
   {
    "duration": 133,
    "start_time": "2022-01-11T04:49:11.204Z"
   },
   {
    "duration": 115,
    "start_time": "2022-01-11T04:49:49.158Z"
   },
   {
    "duration": 109,
    "start_time": "2022-01-11T04:49:56.519Z"
   },
   {
    "duration": 107,
    "start_time": "2022-01-11T04:50:10.408Z"
   },
   {
    "duration": 110,
    "start_time": "2022-01-11T04:50:15.742Z"
   },
   {
    "duration": 105,
    "start_time": "2022-01-11T04:50:20.619Z"
   },
   {
    "duration": 78,
    "start_time": "2022-01-11T04:50:49.985Z"
   },
   {
    "duration": 80,
    "start_time": "2022-01-11T04:51:21.492Z"
   },
   {
    "duration": 109,
    "start_time": "2022-01-11T04:51:33.505Z"
   },
   {
    "duration": 79,
    "start_time": "2022-01-11T04:51:59.880Z"
   },
   {
    "duration": 79,
    "start_time": "2022-01-11T04:52:20.808Z"
   },
   {
    "duration": 83,
    "start_time": "2022-01-11T04:52:39.446Z"
   },
   {
    "duration": 86,
    "start_time": "2022-01-11T04:52:47.600Z"
   },
   {
    "duration": 111,
    "start_time": "2022-01-11T04:54:29.253Z"
   },
   {
    "duration": 81,
    "start_time": "2022-01-11T04:54:39.220Z"
   },
   {
    "duration": 643,
    "start_time": "2022-01-11T04:54:44.542Z"
   },
   {
    "duration": 106,
    "start_time": "2022-01-11T04:54:58.772Z"
   },
   {
    "duration": 107,
    "start_time": "2022-01-11T04:55:10.795Z"
   },
   {
    "duration": 116,
    "start_time": "2022-01-11T04:55:22.884Z"
   },
   {
    "duration": 76,
    "start_time": "2022-01-11T04:55:31.550Z"
   },
   {
    "duration": 79,
    "start_time": "2022-01-11T04:55:37.359Z"
   },
   {
    "duration": 80,
    "start_time": "2022-01-11T04:55:41.079Z"
   },
   {
    "duration": 83,
    "start_time": "2022-01-11T04:55:45.857Z"
   },
   {
    "duration": 181,
    "start_time": "2022-01-11T04:55:49.761Z"
   },
   {
    "duration": 99,
    "start_time": "2022-01-11T04:55:55.687Z"
   },
   {
    "duration": 120,
    "start_time": "2022-01-11T04:56:02.494Z"
   },
   {
    "duration": 113,
    "start_time": "2022-01-11T04:56:12.088Z"
   },
   {
    "duration": -40,
    "start_time": "2022-01-11T04:56:12.243Z"
   },
   {
    "duration": 108,
    "start_time": "2022-01-11T04:56:22.436Z"
   },
   {
    "duration": 685,
    "start_time": "2022-01-11T04:56:32.269Z"
   },
   {
    "duration": 113,
    "start_time": "2022-01-11T04:56:50.218Z"
   },
   {
    "duration": 79,
    "start_time": "2022-01-11T04:56:53.674Z"
   },
   {
    "duration": 80,
    "start_time": "2022-01-11T04:56:57.216Z"
   },
   {
    "duration": 82,
    "start_time": "2022-01-11T04:57:00.745Z"
   },
   {
    "duration": 83,
    "start_time": "2022-01-11T04:57:04.120Z"
   },
   {
    "duration": 93,
    "start_time": "2022-01-11T04:57:09.025Z"
   },
   {
    "duration": 7,
    "start_time": "2022-01-11T05:12:20.860Z"
   },
   {
    "duration": 8,
    "start_time": "2022-01-11T05:13:56.525Z"
   },
   {
    "duration": 12,
    "start_time": "2022-01-11T05:14:33.666Z"
   },
   {
    "duration": 12,
    "start_time": "2022-01-11T05:15:54.889Z"
   },
   {
    "duration": 11,
    "start_time": "2022-01-11T05:16:05.621Z"
   },
   {
    "duration": 12,
    "start_time": "2022-01-11T05:21:14.902Z"
   },
   {
    "duration": 14,
    "start_time": "2022-01-11T05:21:36.827Z"
   },
   {
    "duration": 13,
    "start_time": "2022-01-11T05:21:57.542Z"
   },
   {
    "duration": 4,
    "start_time": "2022-01-11T05:25:22.286Z"
   },
   {
    "duration": 8,
    "start_time": "2022-01-11T05:25:41.325Z"
   },
   {
    "duration": 12,
    "start_time": "2022-01-11T05:25:54.121Z"
   },
   {
    "duration": 12,
    "start_time": "2022-01-11T05:26:06.986Z"
   },
   {
    "duration": 141,
    "start_time": "2022-01-11T05:27:54.655Z"
   },
   {
    "duration": 118,
    "start_time": "2022-01-11T05:28:06.419Z"
   },
   {
    "duration": 114,
    "start_time": "2022-01-11T05:32:14.600Z"
   },
   {
    "duration": 123,
    "start_time": "2022-01-11T05:32:31.229Z"
   },
   {
    "duration": 172,
    "start_time": "2022-01-11T05:33:04.634Z"
   },
   {
    "duration": 376,
    "start_time": "2022-01-11T05:33:41.602Z"
   },
   {
    "duration": 315,
    "start_time": "2022-01-11T05:44:48.161Z"
   },
   {
    "duration": 8483,
    "start_time": "2022-01-11T05:44:58.225Z"
   },
   {
    "duration": 5,
    "start_time": "2022-01-11T05:48:03.931Z"
   },
   {
    "duration": 5,
    "start_time": "2022-01-11T06:04:39.862Z"
   },
   {
    "duration": 4,
    "start_time": "2022-01-11T06:09:22.841Z"
   },
   {
    "duration": 11,
    "start_time": "2022-01-11T06:09:58.811Z"
   },
   {
    "duration": 348,
    "start_time": "2022-01-11T06:40:41.179Z"
   },
   {
    "duration": 6,
    "start_time": "2022-01-11T06:40:54.678Z"
   },
   {
    "duration": 6,
    "start_time": "2022-01-11T06:40:58.397Z"
   },
   {
    "duration": 6,
    "start_time": "2022-01-11T06:41:21.882Z"
   },
   {
    "duration": 7,
    "start_time": "2022-01-11T06:42:27.472Z"
   },
   {
    "duration": 7,
    "start_time": "2022-01-11T06:42:40.952Z"
   },
   {
    "duration": 7,
    "start_time": "2022-01-11T06:45:46.153Z"
   },
   {
    "duration": 11,
    "start_time": "2022-01-11T06:46:22.701Z"
   },
   {
    "duration": 15,
    "start_time": "2022-01-11T06:46:29.575Z"
   },
   {
    "duration": 16,
    "start_time": "2022-01-11T06:46:47.211Z"
   },
   {
    "duration": 15,
    "start_time": "2022-01-11T06:49:24.962Z"
   },
   {
    "duration": 15,
    "start_time": "2022-01-11T06:51:18.248Z"
   },
   {
    "duration": 17,
    "start_time": "2022-01-11T06:52:00.974Z"
   },
   {
    "duration": 18,
    "start_time": "2022-01-11T06:53:20.029Z"
   },
   {
    "duration": 16,
    "start_time": "2022-01-11T06:53:29.312Z"
   },
   {
    "duration": 22,
    "start_time": "2022-01-11T06:59:14.315Z"
   },
   {
    "duration": 17,
    "start_time": "2022-01-11T06:59:29.717Z"
   },
   {
    "duration": 910,
    "start_time": "2022-01-11T07:00:08.532Z"
   },
   {
    "duration": 10,
    "start_time": "2022-01-11T07:00:16.228Z"
   },
   {
    "duration": 13,
    "start_time": "2022-01-11T07:00:53.227Z"
   },
   {
    "duration": 14,
    "start_time": "2022-01-11T07:01:08.476Z"
   },
   {
    "duration": 13,
    "start_time": "2022-01-11T07:01:34.955Z"
   },
   {
    "duration": 13,
    "start_time": "2022-01-11T07:01:47.959Z"
   },
   {
    "duration": 16,
    "start_time": "2022-01-11T07:02:30.887Z"
   },
   {
    "duration": 13,
    "start_time": "2022-01-11T07:02:42.679Z"
   },
   {
    "duration": 13,
    "start_time": "2022-01-11T07:29:40.934Z"
   },
   {
    "duration": 158,
    "start_time": "2022-01-11T07:33:31.946Z"
   },
   {
    "duration": 112,
    "start_time": "2022-01-11T07:38:25.686Z"
   },
   {
    "duration": 123,
    "start_time": "2022-01-11T07:40:22.980Z"
   },
   {
    "duration": 136,
    "start_time": "2022-01-11T07:46:27.849Z"
   },
   {
    "duration": 14,
    "start_time": "2022-01-11T07:47:56.627Z"
   },
   {
    "duration": 775,
    "start_time": "2022-01-11T07:50:44.946Z"
   },
   {
    "duration": 160,
    "start_time": "2022-01-11T07:53:03.947Z"
   },
   {
    "duration": 111,
    "start_time": "2022-01-11T07:53:49.470Z"
   },
   {
    "duration": 116,
    "start_time": "2022-01-11T07:54:59.683Z"
   },
   {
    "duration": 151,
    "start_time": "2022-01-11T07:56:42.869Z"
   },
   {
    "duration": 124,
    "start_time": "2022-01-11T07:56:57.228Z"
   },
   {
    "duration": 121,
    "start_time": "2022-01-11T07:57:05.907Z"
   },
   {
    "duration": 107,
    "start_time": "2022-01-11T07:57:19.028Z"
   },
   {
    "duration": 124,
    "start_time": "2022-01-11T07:57:38.591Z"
   },
   {
    "duration": 23,
    "start_time": "2022-01-11T07:57:38.717Z"
   },
   {
    "duration": 13,
    "start_time": "2022-01-11T07:57:38.742Z"
   },
   {
    "duration": 13,
    "start_time": "2022-01-11T07:57:38.757Z"
   },
   {
    "duration": 5,
    "start_time": "2022-01-11T07:57:38.772Z"
   },
   {
    "duration": 110,
    "start_time": "2022-01-11T07:57:38.778Z"
   },
   {
    "duration": 112,
    "start_time": "2022-01-11T07:57:55.828Z"
   },
   {
    "duration": 106,
    "start_time": "2022-01-11T07:59:20.835Z"
   },
   {
    "duration": 26,
    "start_time": "2022-01-11T08:00:09.244Z"
   },
   {
    "duration": 10,
    "start_time": "2022-01-11T08:00:57.833Z"
   },
   {
    "duration": 9,
    "start_time": "2022-01-11T08:02:01.515Z"
   },
   {
    "duration": 11,
    "start_time": "2022-01-11T08:03:17.647Z"
   },
   {
    "duration": 10,
    "start_time": "2022-01-11T08:03:24.621Z"
   },
   {
    "duration": 105,
    "start_time": "2022-01-11T08:04:29.694Z"
   },
   {
    "duration": 13,
    "start_time": "2022-01-11T08:09:34.076Z"
   },
   {
    "duration": 17,
    "start_time": "2022-01-11T08:10:02.481Z"
   },
   {
    "duration": 17,
    "start_time": "2022-01-11T08:10:29.908Z"
   },
   {
    "duration": 13,
    "start_time": "2022-01-11T08:12:35.558Z"
   },
   {
    "duration": 12,
    "start_time": "2022-01-11T08:12:47.334Z"
   },
   {
    "duration": 11,
    "start_time": "2022-01-11T08:12:52.320Z"
   },
   {
    "duration": 106,
    "start_time": "2022-01-11T08:14:29.508Z"
   },
   {
    "duration": 8,
    "start_time": "2022-01-11T08:19:09.259Z"
   },
   {
    "duration": 133,
    "start_time": "2022-01-11T08:48:04.902Z"
   },
   {
    "duration": 130,
    "start_time": "2022-01-11T08:50:21.174Z"
   },
   {
    "duration": 103,
    "start_time": "2022-01-11T08:50:29.572Z"
   },
   {
    "duration": 109,
    "start_time": "2022-01-11T08:51:40.379Z"
   },
   {
    "duration": 361,
    "start_time": "2022-01-11T08:51:56.054Z"
   },
   {
    "duration": 10518,
    "start_time": "2022-01-11T08:52:04.866Z"
   },
   {
    "duration": 9497,
    "start_time": "2022-01-11T08:52:19.112Z"
   },
   {
    "duration": 112,
    "start_time": "2022-01-11T08:54:45.497Z"
   },
   {
    "duration": 8,
    "start_time": "2022-01-11T08:55:02.088Z"
   },
   {
    "duration": 412,
    "start_time": "2022-01-11T08:57:29.545Z"
   },
   {
    "duration": 325,
    "start_time": "2022-01-11T08:58:06.628Z"
   },
   {
    "duration": 354,
    "start_time": "2022-01-11T08:58:38.655Z"
   },
   {
    "duration": 527,
    "start_time": "2022-01-11T08:58:41.524Z"
   },
   {
    "duration": 123,
    "start_time": "2022-01-11T08:58:45.084Z"
   },
   {
    "duration": 34,
    "start_time": "2022-01-11T08:58:45.209Z"
   },
   {
    "duration": 6,
    "start_time": "2022-01-11T08:58:45.245Z"
   },
   {
    "duration": 125,
    "start_time": "2022-01-11T08:58:53.095Z"
   },
   {
    "duration": 24,
    "start_time": "2022-01-11T08:58:53.227Z"
   },
   {
    "duration": 131,
    "start_time": "2022-01-11T08:59:03.953Z"
   },
   {
    "duration": 25,
    "start_time": "2022-01-11T08:59:04.085Z"
   },
   {
    "duration": 10,
    "start_time": "2022-01-11T08:59:04.128Z"
   },
   {
    "duration": 6,
    "start_time": "2022-01-11T08:59:04.140Z"
   },
   {
    "duration": 8460,
    "start_time": "2022-01-11T08:59:04.147Z"
   },
   {
    "duration": -186,
    "start_time": "2022-01-11T08:59:12.795Z"
   },
   {
    "duration": -56,
    "start_time": "2022-01-11T09:01:07.241Z"
   },
   {
    "duration": 129,
    "start_time": "2022-01-11T09:06:18.436Z"
   },
   {
    "duration": 8946,
    "start_time": "2022-01-11T09:09:22.480Z"
   },
   {
    "duration": 129,
    "start_time": "2022-01-11T09:10:02.602Z"
   },
   {
    "duration": 22,
    "start_time": "2022-01-11T09:10:02.733Z"
   },
   {
    "duration": 10,
    "start_time": "2022-01-11T09:10:02.757Z"
   },
   {
    "duration": 6,
    "start_time": "2022-01-11T09:10:02.768Z"
   },
   {
    "duration": 20272,
    "start_time": "2022-01-11T09:10:02.775Z"
   },
   {
    "duration": -28,
    "start_time": "2022-01-11T09:10:23.077Z"
   },
   {
    "duration": -58,
    "start_time": "2022-01-11T09:11:05.770Z"
   },
   {
    "duration": 126,
    "start_time": "2022-01-11T09:11:07.792Z"
   },
   {
    "duration": 32,
    "start_time": "2022-01-11T09:11:07.920Z"
   },
   {
    "duration": 12,
    "start_time": "2022-01-11T09:11:07.954Z"
   },
   {
    "duration": 7,
    "start_time": "2022-01-11T09:11:07.968Z"
   },
   {
    "duration": -43,
    "start_time": "2022-01-11T09:11:18.056Z"
   },
   {
    "duration": -44,
    "start_time": "2022-01-11T09:11:18.058Z"
   },
   {
    "duration": 10733,
    "start_time": "2022-01-11T09:11:28.975Z"
   },
   {
    "duration": 20,
    "start_time": "2022-01-11T09:11:51.442Z"
   },
   {
    "duration": 6,
    "start_time": "2022-01-11T09:13:30.011Z"
   },
   {
    "duration": 6,
    "start_time": "2022-01-11T09:13:34.449Z"
   },
   {
    "duration": 7,
    "start_time": "2022-01-11T09:13:55.561Z"
   },
   {
    "duration": 17,
    "start_time": "2022-01-11T09:14:31.629Z"
   },
   {
    "duration": 112,
    "start_time": "2022-01-11T09:15:56.459Z"
   },
   {
    "duration": 106,
    "start_time": "2022-01-11T09:16:07.621Z"
   },
   {
    "duration": 165,
    "start_time": "2022-01-11T09:16:17.939Z"
   },
   {
    "duration": 126,
    "start_time": "2022-01-11T09:16:23.365Z"
   },
   {
    "duration": 25,
    "start_time": "2022-01-11T09:16:23.493Z"
   },
   {
    "duration": 10,
    "start_time": "2022-01-11T09:16:23.528Z"
   },
   {
    "duration": 6,
    "start_time": "2022-01-11T09:16:23.539Z"
   },
   {
    "duration": 107,
    "start_time": "2022-01-11T09:16:23.546Z"
   },
   {
    "duration": -29,
    "start_time": "2022-01-11T09:16:23.684Z"
   },
   {
    "duration": 16,
    "start_time": "2022-01-11T09:16:58.818Z"
   },
   {
    "duration": 351,
    "start_time": "2022-01-12T07:19:13.484Z"
   },
   {
    "duration": 276,
    "start_time": "2022-01-12T07:19:22.350Z"
   },
   {
    "duration": 951,
    "start_time": "2022-01-12T07:19:36.273Z"
   },
   {
    "duration": 53,
    "start_time": "2022-01-12T07:19:37.227Z"
   },
   {
    "duration": 17,
    "start_time": "2022-01-12T07:19:37.283Z"
   },
   {
    "duration": 10,
    "start_time": "2022-01-12T07:19:37.303Z"
   },
   {
    "duration": 27,
    "start_time": "2022-01-12T07:19:37.972Z"
   },
   {
    "duration": 18,
    "start_time": "2022-01-12T07:19:38.002Z"
   },
   {
    "duration": 294,
    "start_time": "2022-01-12T07:21:03.749Z"
   },
   {
    "duration": 193,
    "start_time": "2022-01-12T07:21:08.262Z"
   },
   {
    "duration": 45,
    "start_time": "2022-01-12T07:21:08.458Z"
   },
   {
    "duration": 16,
    "start_time": "2022-01-12T07:21:08.506Z"
   },
   {
    "duration": 46,
    "start_time": "2022-01-12T07:21:08.525Z"
   },
   {
    "duration": 273,
    "start_time": "2022-01-12T07:21:08.574Z"
   },
   {
    "duration": -1374,
    "start_time": "2022-01-12T07:21:10.224Z"
   },
   {
    "duration": 184,
    "start_time": "2022-01-12T07:21:28.595Z"
   },
   {
    "duration": 38,
    "start_time": "2022-01-12T07:21:28.782Z"
   },
   {
    "duration": 45,
    "start_time": "2022-01-12T07:21:28.824Z"
   },
   {
    "duration": 10,
    "start_time": "2022-01-12T07:21:28.872Z"
   },
   {
    "duration": 31,
    "start_time": "2022-01-12T07:21:28.885Z"
   },
   {
    "duration": 19,
    "start_time": "2022-01-12T07:21:29.230Z"
   },
   {
    "duration": 6843,
    "start_time": "2022-01-12T07:27:46.144Z"
   },
   {
    "duration": 204,
    "start_time": "2022-01-12T07:27:59.676Z"
   },
   {
    "duration": 46,
    "start_time": "2022-01-12T07:27:59.883Z"
   },
   {
    "duration": 48,
    "start_time": "2022-01-12T07:27:59.932Z"
   },
   {
    "duration": 10,
    "start_time": "2022-01-12T07:27:59.982Z"
   },
   {
    "duration": 7273,
    "start_time": "2022-01-12T07:27:59.994Z"
   },
   {
    "duration": -2855,
    "start_time": "2022-01-12T07:28:10.125Z"
   },
   {
    "duration": -2856,
    "start_time": "2022-01-12T07:28:10.128Z"
   },
   {
    "duration": 27,
    "start_time": "2022-01-12T07:28:22.569Z"
   },
   {
    "duration": 21,
    "start_time": "2022-01-12T07:29:24.608Z"
   },
   {
    "duration": 125,
    "start_time": "2022-01-12T07:30:36.282Z"
   },
   {
    "duration": 310,
    "start_time": "2022-01-12T07:30:51.503Z"
   },
   {
    "duration": 282,
    "start_time": "2022-01-12T07:32:13.813Z"
   },
   {
    "duration": 29,
    "start_time": "2022-01-12T07:32:42.382Z"
   },
   {
    "duration": 24,
    "start_time": "2022-01-12T07:32:59.116Z"
   },
   {
    "duration": 21,
    "start_time": "2022-01-12T07:46:06.615Z"
   },
   {
    "duration": 11,
    "start_time": "2022-01-12T07:46:30.214Z"
   },
   {
    "duration": 213,
    "start_time": "2022-01-12T07:47:00.848Z"
   },
   {
    "duration": 42,
    "start_time": "2022-01-12T07:47:01.068Z"
   },
   {
    "duration": 19,
    "start_time": "2022-01-12T07:47:01.113Z"
   },
   {
    "duration": 57,
    "start_time": "2022-01-12T07:47:01.135Z"
   },
   {
    "duration": 35,
    "start_time": "2022-01-12T07:47:01.195Z"
   },
   {
    "duration": 48,
    "start_time": "2022-01-12T07:47:01.232Z"
   },
   {
    "duration": 26,
    "start_time": "2022-01-12T07:47:01.282Z"
   },
   {
    "duration": 56,
    "start_time": "2022-01-12T07:47:01.311Z"
   },
   {
    "duration": 10,
    "start_time": "2022-01-12T07:49:30.528Z"
   },
   {
    "duration": 326,
    "start_time": "2022-01-12T08:06:57.877Z"
   },
   {
    "duration": 257,
    "start_time": "2022-01-12T08:07:14.474Z"
   },
   {
    "duration": 215,
    "start_time": "2022-01-12T08:07:17.019Z"
   },
   {
    "duration": 55,
    "start_time": "2022-01-12T08:07:17.237Z"
   },
   {
    "duration": 16,
    "start_time": "2022-01-12T08:07:17.295Z"
   },
   {
    "duration": 10,
    "start_time": "2022-01-12T08:07:17.313Z"
   },
   {
    "duration": 66,
    "start_time": "2022-01-12T08:07:17.326Z"
   },
   {
    "duration": 28,
    "start_time": "2022-01-12T08:07:17.395Z"
   },
   {
    "duration": 276,
    "start_time": "2022-01-12T08:07:17.425Z"
   },
   {
    "duration": -102,
    "start_time": "2022-01-12T08:07:17.806Z"
   },
   {
    "duration": -105,
    "start_time": "2022-01-12T08:07:17.810Z"
   },
   {
    "duration": 410,
    "start_time": "2022-01-12T08:08:00.410Z"
   },
   {
    "duration": 401,
    "start_time": "2022-01-12T08:08:09.329Z"
   },
   {
    "duration": 621,
    "start_time": "2022-01-12T08:08:25.186Z"
   },
   {
    "duration": 11,
    "start_time": "2022-01-12T08:08:49.876Z"
   },
   {
    "duration": 25,
    "start_time": "2022-01-12T08:09:23.793Z"
   },
   {
    "duration": 26,
    "start_time": "2022-01-12T08:09:40.473Z"
   },
   {
    "duration": 1188,
    "start_time": "2022-01-12T08:13:24.260Z"
   },
   {
    "duration": -395,
    "start_time": "2022-01-12T08:14:22.244Z"
   },
   {
    "duration": 311,
    "start_time": "2022-01-12T08:14:24.742Z"
   },
   {
    "duration": 65,
    "start_time": "2022-01-12T08:14:25.069Z"
   },
   {
    "duration": 46,
    "start_time": "2022-01-12T08:14:25.137Z"
   },
   {
    "duration": 11,
    "start_time": "2022-01-12T08:14:25.185Z"
   },
   {
    "duration": 28,
    "start_time": "2022-01-12T08:14:25.199Z"
   },
   {
    "duration": 31,
    "start_time": "2022-01-12T08:14:25.268Z"
   },
   {
    "duration": 26,
    "start_time": "2022-01-12T08:14:25.302Z"
   },
   {
    "duration": 304,
    "start_time": "2022-01-12T08:14:25.331Z"
   },
   {
    "duration": -128,
    "start_time": "2022-01-12T08:14:25.767Z"
   },
   {
    "duration": -130,
    "start_time": "2022-01-12T08:14:25.771Z"
   },
   {
    "duration": 204,
    "start_time": "2022-01-12T08:15:08.105Z"
   },
   {
    "duration": 41,
    "start_time": "2022-01-12T08:15:08.565Z"
   },
   {
    "duration": 16,
    "start_time": "2022-01-12T08:15:08.649Z"
   },
   {
    "duration": 10,
    "start_time": "2022-01-12T08:15:08.667Z"
   },
   {
    "duration": 28,
    "start_time": "2022-01-12T08:15:08.680Z"
   },
   {
    "duration": 59,
    "start_time": "2022-01-12T08:15:08.711Z"
   },
   {
    "duration": 28,
    "start_time": "2022-01-12T08:15:08.772Z"
   },
   {
    "duration": 33,
    "start_time": "2022-01-12T08:15:08.803Z"
   },
   {
    "duration": 25,
    "start_time": "2022-01-12T08:15:08.868Z"
   },
   {
    "duration": 15,
    "start_time": "2022-01-12T08:15:08.896Z"
   },
   {
    "duration": 196,
    "start_time": "2022-01-12T08:16:47.839Z"
   },
   {
    "duration": 55,
    "start_time": "2022-01-12T08:16:48.038Z"
   },
   {
    "duration": 17,
    "start_time": "2022-01-12T08:16:48.097Z"
   },
   {
    "duration": 49,
    "start_time": "2022-01-12T08:16:48.117Z"
   },
   {
    "duration": 31,
    "start_time": "2022-01-12T08:16:48.170Z"
   },
   {
    "duration": 63,
    "start_time": "2022-01-12T08:16:48.204Z"
   },
   {
    "duration": 40,
    "start_time": "2022-01-12T08:16:48.270Z"
   },
   {
    "duration": 300,
    "start_time": "2022-01-12T08:16:48.312Z"
   },
   {
    "duration": -66,
    "start_time": "2022-01-12T08:16:48.680Z"
   },
   {
    "duration": -66,
    "start_time": "2022-01-12T08:16:48.682Z"
   },
   {
    "duration": 208,
    "start_time": "2022-01-12T08:17:01.334Z"
   },
   {
    "duration": 54,
    "start_time": "2022-01-12T08:17:01.545Z"
   },
   {
    "duration": 16,
    "start_time": "2022-01-12T08:17:01.602Z"
   },
   {
    "duration": 51,
    "start_time": "2022-01-12T08:17:01.621Z"
   },
   {
    "duration": 45,
    "start_time": "2022-01-12T08:17:01.674Z"
   },
   {
    "duration": 28,
    "start_time": "2022-01-12T08:17:01.722Z"
   },
   {
    "duration": 27,
    "start_time": "2022-01-12T08:17:01.767Z"
   },
   {
    "duration": 327,
    "start_time": "2022-01-12T08:17:01.796Z"
   },
   {
    "duration": -110,
    "start_time": "2022-01-12T08:17:02.236Z"
   },
   {
    "duration": -110,
    "start_time": "2022-01-12T08:17:02.238Z"
   },
   {
    "duration": 337,
    "start_time": "2022-01-13T08:08:17.996Z"
   },
   {
    "duration": 968,
    "start_time": "2022-01-13T08:08:21.925Z"
   },
   {
    "duration": 42,
    "start_time": "2022-01-13T08:08:22.895Z"
   },
   {
    "duration": 42,
    "start_time": "2022-01-13T08:08:22.940Z"
   },
   {
    "duration": 10,
    "start_time": "2022-01-13T08:08:22.985Z"
   },
   {
    "duration": 27,
    "start_time": "2022-01-13T08:08:22.997Z"
   },
   {
    "duration": 62,
    "start_time": "2022-01-13T08:08:23.026Z"
   },
   {
    "duration": 24,
    "start_time": "2022-01-13T08:08:23.091Z"
   },
   {
    "duration": 379,
    "start_time": "2022-01-13T08:08:23.119Z"
   },
   {
    "duration": -53,
    "start_time": "2022-01-13T08:08:23.554Z"
   },
   {
    "duration": -59,
    "start_time": "2022-01-13T08:08:23.562Z"
   },
   {
    "duration": 278,
    "start_time": "2022-01-13T08:08:59.599Z"
   },
   {
    "duration": 204,
    "start_time": "2022-01-13T08:09:27.952Z"
   },
   {
    "duration": 46,
    "start_time": "2022-01-13T08:09:28.159Z"
   },
   {
    "duration": 16,
    "start_time": "2022-01-13T08:09:28.208Z"
   },
   {
    "duration": 43,
    "start_time": "2022-01-13T08:09:28.227Z"
   },
   {
    "duration": 27,
    "start_time": "2022-01-13T08:09:28.273Z"
   },
   {
    "duration": 69,
    "start_time": "2022-01-13T08:09:28.303Z"
   },
   {
    "duration": 28,
    "start_time": "2022-01-13T08:09:28.375Z"
   },
   {
    "duration": 34,
    "start_time": "2022-01-13T08:09:28.406Z"
   },
   {
    "duration": 26,
    "start_time": "2022-01-13T08:09:28.468Z"
   },
   {
    "duration": 16,
    "start_time": "2022-01-13T08:09:28.496Z"
   },
   {
    "duration": 306,
    "start_time": "2022-01-13T08:12:17.476Z"
   },
   {
    "duration": 26,
    "start_time": "2022-01-13T08:26:36.058Z"
   },
   {
    "duration": 203,
    "start_time": "2022-01-13T08:26:54.169Z"
   },
   {
    "duration": 38,
    "start_time": "2022-01-13T08:26:54.375Z"
   },
   {
    "duration": 54,
    "start_time": "2022-01-13T08:26:54.416Z"
   },
   {
    "duration": 9,
    "start_time": "2022-01-13T08:26:54.473Z"
   },
   {
    "duration": 29,
    "start_time": "2022-01-13T08:26:54.484Z"
   },
   {
    "duration": 64,
    "start_time": "2022-01-13T08:26:54.516Z"
   },
   {
    "duration": 27,
    "start_time": "2022-01-13T08:26:54.582Z"
   },
   {
    "duration": 264,
    "start_time": "2022-01-13T08:26:54.613Z"
   },
   {
    "duration": -130,
    "start_time": "2022-01-13T08:26:55.010Z"
   },
   {
    "duration": -132,
    "start_time": "2022-01-13T08:26:55.013Z"
   },
   {
    "duration": 13,
    "start_time": "2022-01-13T08:28:27.982Z"
   },
   {
    "duration": 3,
    "start_time": "2022-01-13T08:28:56.166Z"
   },
   {
    "duration": 282,
    "start_time": "2022-01-13T08:29:52.953Z"
   },
   {
    "duration": 27,
    "start_time": "2022-01-13T08:30:05.808Z"
   },
   {
    "duration": 3,
    "start_time": "2022-01-13T08:30:35.515Z"
   },
   {
    "duration": 262,
    "start_time": "2022-01-13T08:30:52.100Z"
   },
   {
    "duration": 30,
    "start_time": "2022-01-13T08:30:59.418Z"
   },
   {
    "duration": 4,
    "start_time": "2022-01-13T08:31:14.951Z"
   },
   {
    "duration": 3,
    "start_time": "2022-01-13T08:31:30.721Z"
   },
   {
    "duration": 15,
    "start_time": "2022-01-13T08:33:40.909Z"
   },
   {
    "duration": 5,
    "start_time": "2022-01-13T08:36:17.027Z"
   },
   {
    "duration": 6,
    "start_time": "2022-01-13T08:36:44.623Z"
   },
   {
    "duration": 288,
    "start_time": "2022-01-13T08:37:01.220Z"
   },
   {
    "duration": 6,
    "start_time": "2022-01-13T08:37:12.191Z"
   },
   {
    "duration": 10,
    "start_time": "2022-01-13T08:37:44.866Z"
   },
   {
    "duration": 14,
    "start_time": "2022-01-13T08:39:52.073Z"
   },
   {
    "duration": 83,
    "start_time": "2022-01-13T08:45:11.553Z"
   },
   {
    "duration": 15,
    "start_time": "2022-01-13T08:45:37.764Z"
   },
   {
    "duration": 98,
    "start_time": "2022-01-13T08:50:00.781Z"
   },
   {
    "duration": 151,
    "start_time": "2022-01-13T09:02:29.185Z"
   },
   {
    "duration": 86,
    "start_time": "2022-01-13T09:02:42.059Z"
   },
   {
    "duration": 6,
    "start_time": "2022-01-13T09:02:44.678Z"
   },
   {
    "duration": 5,
    "start_time": "2022-01-13T09:05:10.370Z"
   },
   {
    "duration": 18,
    "start_time": "2022-01-13T09:05:23.855Z"
   },
   {
    "duration": 282,
    "start_time": "2022-01-13T09:07:54.921Z"
   },
   {
    "duration": 21,
    "start_time": "2022-01-13T09:08:08.249Z"
   },
   {
    "duration": 25,
    "start_time": "2022-01-13T09:10:17.083Z"
   },
   {
    "duration": 42,
    "start_time": "2022-01-13T09:10:45.975Z"
   },
   {
    "duration": 41,
    "start_time": "2022-01-13T09:10:56.142Z"
   },
   {
    "duration": 21,
    "start_time": "2022-01-13T09:12:23.844Z"
   },
   {
    "duration": 23,
    "start_time": "2022-01-13T09:12:26.783Z"
   },
   {
    "duration": 24,
    "start_time": "2022-01-13T09:50:12.807Z"
   },
   {
    "duration": 27,
    "start_time": "2022-01-13T09:50:57.178Z"
   },
   {
    "duration": -26,
    "start_time": "2022-01-13T09:51:11.926Z"
   },
   {
    "duration": 26,
    "start_time": "2022-01-13T09:51:21.844Z"
   },
   {
    "duration": 9,
    "start_time": "2022-01-13T09:52:12.571Z"
   },
   {
    "duration": 10,
    "start_time": "2022-01-13T10:00:02.532Z"
   },
   {
    "duration": 14,
    "start_time": "2022-01-13T10:00:12.807Z"
   },
   {
    "duration": 15,
    "start_time": "2022-01-13T10:01:56.883Z"
   },
   {
    "duration": 15,
    "start_time": "2022-01-13T10:03:34.124Z"
   },
   {
    "duration": 15,
    "start_time": "2022-01-13T10:04:02.180Z"
   },
   {
    "duration": 14,
    "start_time": "2022-01-13T10:04:07.473Z"
   },
   {
    "duration": 20,
    "start_time": "2022-01-13T10:04:33.434Z"
   },
   {
    "duration": 30,
    "start_time": "2022-01-13T10:05:21.721Z"
   },
   {
    "duration": 39,
    "start_time": "2022-01-13T10:05:52.268Z"
   },
   {
    "duration": 40,
    "start_time": "2022-01-13T10:06:14.821Z"
   },
   {
    "duration": 307,
    "start_time": "2022-01-13T10:07:55.346Z"
   },
   {
    "duration": 316,
    "start_time": "2022-01-13T10:08:16.317Z"
   },
   {
    "duration": 618,
    "start_time": "2022-01-13T10:09:39.085Z"
   },
   {
    "duration": 56,
    "start_time": "2022-01-13T10:11:35.834Z"
   },
   {
    "duration": 22,
    "start_time": "2022-01-13T10:12:05.650Z"
   },
   {
    "duration": 209,
    "start_time": "2022-01-13T10:12:17.458Z"
   },
   {
    "duration": 39,
    "start_time": "2022-01-13T10:12:17.669Z"
   },
   {
    "duration": 11,
    "start_time": "2022-01-13T10:12:17.711Z"
   },
   {
    "duration": 43,
    "start_time": "2022-01-13T10:12:17.724Z"
   },
   {
    "duration": 3,
    "start_time": "2022-01-13T10:12:17.770Z"
   },
   {
    "duration": 36,
    "start_time": "2022-01-13T10:12:17.775Z"
   },
   {
    "duration": 3,
    "start_time": "2022-01-13T10:12:17.814Z"
   },
   {
    "duration": 8,
    "start_time": "2022-01-13T10:12:17.821Z"
   },
   {
    "duration": 55,
    "start_time": "2022-01-13T10:12:17.831Z"
   },
   {
    "duration": 14,
    "start_time": "2022-01-13T10:12:17.888Z"
   },
   {
    "duration": 13,
    "start_time": "2022-01-13T10:12:17.904Z"
   },
   {
    "duration": 59,
    "start_time": "2022-01-13T10:12:17.919Z"
   },
   {
    "duration": 22,
    "start_time": "2022-01-13T10:12:17.981Z"
   },
   {
    "duration": 9,
    "start_time": "2022-01-13T10:12:18.006Z"
   },
   {
    "duration": 57,
    "start_time": "2022-01-13T10:12:18.017Z"
   },
   {
    "duration": 22,
    "start_time": "2022-01-13T10:13:57.877Z"
   },
   {
    "duration": 23,
    "start_time": "2022-01-13T10:14:20.788Z"
   },
   {
    "duration": 25,
    "start_time": "2022-01-13T10:15:00.816Z"
   },
   {
    "duration": 38,
    "start_time": "2022-01-13T10:19:03.179Z"
   },
   {
    "duration": 54,
    "start_time": "2022-01-13T10:19:16.616Z"
   },
   {
    "duration": 8,
    "start_time": "2022-01-13T10:22:10.603Z"
   },
   {
    "duration": 332,
    "start_time": "2022-01-13T11:06:41.607Z"
   },
   {
    "duration": 300,
    "start_time": "2022-01-13T11:06:59.750Z"
   },
   {
    "duration": 919,
    "start_time": "2022-01-13T11:07:17.290Z"
   },
   {
    "duration": 943,
    "start_time": "2022-01-13T11:07:50.048Z"
   },
   {
    "duration": 932,
    "start_time": "2022-01-13T11:08:21.676Z"
   },
   {
    "duration": -1,
    "start_time": "2022-01-13T11:12:18.665Z"
   },
   {
    "duration": -89,
    "start_time": "2022-01-13T11:12:33.559Z"
   },
   {
    "duration": 3968,
    "start_time": "2022-01-13T11:12:43.235Z"
   },
   {
    "duration": -69,
    "start_time": "2022-01-13T11:15:02.650Z"
   },
   {
    "duration": -78,
    "start_time": "2022-01-13T11:15:02.661Z"
   },
   {
    "duration": -81,
    "start_time": "2022-01-13T11:15:02.665Z"
   },
   {
    "duration": -84,
    "start_time": "2022-01-13T11:15:02.669Z"
   },
   {
    "duration": -85,
    "start_time": "2022-01-13T11:15:02.672Z"
   },
   {
    "duration": -88,
    "start_time": "2022-01-13T11:15:02.676Z"
   },
   {
    "duration": -92,
    "start_time": "2022-01-13T11:15:02.682Z"
   },
   {
    "duration": -95,
    "start_time": "2022-01-13T11:15:02.686Z"
   },
   {
    "duration": -96,
    "start_time": "2022-01-13T11:15:02.689Z"
   },
   {
    "duration": -100,
    "start_time": "2022-01-13T11:15:02.694Z"
   },
   {
    "duration": -102,
    "start_time": "2022-01-13T11:15:02.698Z"
   },
   {
    "duration": -105,
    "start_time": "2022-01-13T11:15:02.702Z"
   },
   {
    "duration": -107,
    "start_time": "2022-01-13T11:15:02.706Z"
   },
   {
    "duration": -124,
    "start_time": "2022-01-13T11:15:02.725Z"
   },
   {
    "duration": -135,
    "start_time": "2022-01-13T11:15:02.737Z"
   },
   {
    "duration": -139,
    "start_time": "2022-01-13T11:15:02.742Z"
   },
   {
    "duration": -201,
    "start_time": "2022-01-13T11:15:02.805Z"
   },
   {
    "duration": -203,
    "start_time": "2022-01-13T11:15:02.809Z"
   },
   {
    "duration": -218,
    "start_time": "2022-01-13T11:15:02.825Z"
   },
   {
    "duration": -277,
    "start_time": "2022-01-13T11:15:02.886Z"
   },
   {
    "duration": 213,
    "start_time": "2022-01-13T11:15:11.247Z"
   },
   {
    "duration": 43,
    "start_time": "2022-01-13T11:15:11.467Z"
   },
   {
    "duration": 11,
    "start_time": "2022-01-13T11:15:11.513Z"
   },
   {
    "duration": 3,
    "start_time": "2022-01-13T11:15:11.527Z"
   },
   {
    "duration": 3,
    "start_time": "2022-01-13T11:15:11.568Z"
   },
   {
    "duration": 45,
    "start_time": "2022-01-13T11:15:11.574Z"
   },
   {
    "duration": 3,
    "start_time": "2022-01-13T11:15:11.622Z"
   },
   {
    "duration": 14,
    "start_time": "2022-01-13T11:15:11.629Z"
   },
   {
    "duration": 39,
    "start_time": "2022-01-13T11:15:11.646Z"
   },
   {
    "duration": 31,
    "start_time": "2022-01-13T11:15:11.687Z"
   },
   {
    "duration": 15,
    "start_time": "2022-01-13T11:15:11.721Z"
   },
   {
    "duration": 39,
    "start_time": "2022-01-13T11:15:11.739Z"
   },
   {
    "duration": 24,
    "start_time": "2022-01-13T11:15:11.780Z"
   },
   {
    "duration": 8,
    "start_time": "2022-01-13T11:15:11.807Z"
   },
   {
    "duration": 60,
    "start_time": "2022-01-13T11:15:11.817Z"
   },
   {
    "duration": 100,
    "start_time": "2022-01-13T11:15:11.880Z"
   },
   {
    "duration": -11,
    "start_time": "2022-01-13T11:15:11.994Z"
   },
   {
    "duration": -28,
    "start_time": "2022-01-13T11:15:12.013Z"
   },
   {
    "duration": -43,
    "start_time": "2022-01-13T11:15:12.029Z"
   },
   {
    "duration": -46,
    "start_time": "2022-01-13T11:15:12.034Z"
   },
   {
    "duration": 1018,
    "start_time": "2022-01-13T11:15:23.889Z"
   },
   {
    "duration": 60,
    "start_time": "2022-01-13T11:15:24.910Z"
   },
   {
    "duration": 10,
    "start_time": "2022-01-13T11:15:24.978Z"
   },
   {
    "duration": 3,
    "start_time": "2022-01-13T11:15:24.991Z"
   },
   {
    "duration": 9,
    "start_time": "2022-01-13T11:15:24.996Z"
   },
   {
    "duration": 67,
    "start_time": "2022-01-13T11:15:25.007Z"
   },
   {
    "duration": 2,
    "start_time": "2022-01-13T11:15:25.078Z"
   },
   {
    "duration": 12,
    "start_time": "2022-01-13T11:15:25.083Z"
   },
   {
    "duration": 36,
    "start_time": "2022-01-13T11:15:25.097Z"
   },
   {
    "duration": 41,
    "start_time": "2022-01-13T11:15:25.136Z"
   },
   {
    "duration": 15,
    "start_time": "2022-01-13T11:15:25.180Z"
   },
   {
    "duration": 19,
    "start_time": "2022-01-13T11:15:25.198Z"
   },
   {
    "duration": 60,
    "start_time": "2022-01-13T11:15:25.220Z"
   },
   {
    "duration": 10,
    "start_time": "2022-01-13T11:15:25.282Z"
   },
   {
    "duration": 24,
    "start_time": "2022-01-13T11:15:25.294Z"
   },
   {
    "duration": 1518,
    "start_time": "2022-01-13T11:15:25.320Z"
   },
   {
    "duration": -3,
    "start_time": "2022-01-13T11:15:26.843Z"
   },
   {
    "duration": -15,
    "start_time": "2022-01-13T11:15:26.856Z"
   },
   {
    "duration": -20,
    "start_time": "2022-01-13T11:15:26.863Z"
   },
   {
    "duration": -23,
    "start_time": "2022-01-13T11:15:26.867Z"
   },
   {
    "duration": 4014,
    "start_time": "2022-01-13T11:15:33.892Z"
   },
   {
    "duration": 204,
    "start_time": "2022-01-13T11:15:44.235Z"
   },
   {
    "duration": 49,
    "start_time": "2022-01-13T11:15:44.442Z"
   },
   {
    "duration": 12,
    "start_time": "2022-01-13T11:15:44.494Z"
   },
   {
    "duration": 3,
    "start_time": "2022-01-13T11:15:44.510Z"
   },
   {
    "duration": 9,
    "start_time": "2022-01-13T11:15:44.515Z"
   },
   {
    "duration": 65,
    "start_time": "2022-01-13T11:15:44.526Z"
   },
   {
    "duration": 3,
    "start_time": "2022-01-13T11:15:44.594Z"
   },
   {
    "duration": 7,
    "start_time": "2022-01-13T11:15:44.600Z"
   },
   {
    "duration": 59,
    "start_time": "2022-01-13T11:15:44.610Z"
   },
   {
    "duration": 15,
    "start_time": "2022-01-13T11:15:44.672Z"
   },
   {
    "duration": 13,
    "start_time": "2022-01-13T11:15:44.689Z"
   },
   {
    "duration": 19,
    "start_time": "2022-01-13T11:15:44.704Z"
   },
   {
    "duration": 60,
    "start_time": "2022-01-13T11:15:44.725Z"
   },
   {
    "duration": 8,
    "start_time": "2022-01-13T11:15:44.788Z"
   },
   {
    "duration": 24,
    "start_time": "2022-01-13T11:15:44.798Z"
   },
   {
    "duration": 103,
    "start_time": "2022-01-13T11:15:44.824Z"
   },
   {
    "duration": -46,
    "start_time": "2022-01-13T11:15:44.975Z"
   },
   {
    "duration": -47,
    "start_time": "2022-01-13T11:15:44.978Z"
   },
   {
    "duration": -48,
    "start_time": "2022-01-13T11:15:44.981Z"
   },
   {
    "duration": -50,
    "start_time": "2022-01-13T11:15:44.985Z"
   },
   {
    "duration": 58,
    "start_time": "2022-01-13T11:15:51.236Z"
   },
   {
    "duration": 22,
    "start_time": "2022-01-13T11:15:53.845Z"
   },
   {
    "duration": 3856,
    "start_time": "2022-01-13T11:16:16.274Z"
   },
   {
    "duration": 320,
    "start_time": "2022-01-13T11:23:34.786Z"
   },
   {
    "duration": 346,
    "start_time": "2022-01-13T11:24:47.905Z"
   },
   {
    "duration": -97,
    "start_time": "2022-01-13T11:25:03.840Z"
   },
   {
    "duration": 218,
    "start_time": "2022-01-13T11:25:05.207Z"
   },
   {
    "duration": 50,
    "start_time": "2022-01-13T11:25:05.428Z"
   },
   {
    "duration": 12,
    "start_time": "2022-01-13T11:25:05.481Z"
   },
   {
    "duration": 3,
    "start_time": "2022-01-13T11:25:05.496Z"
   },
   {
    "duration": 9,
    "start_time": "2022-01-13T11:25:05.501Z"
   },
   {
    "duration": 61,
    "start_time": "2022-01-13T11:25:05.513Z"
   },
   {
    "duration": 3,
    "start_time": "2022-01-13T11:25:05.577Z"
   },
   {
    "duration": 13,
    "start_time": "2022-01-13T11:25:05.582Z"
   },
   {
    "duration": 36,
    "start_time": "2022-01-13T11:25:05.599Z"
   },
   {
    "duration": 47,
    "start_time": "2022-01-13T11:25:05.638Z"
   },
   {
    "duration": 18,
    "start_time": "2022-01-13T11:25:05.689Z"
   },
   {
    "duration": 57,
    "start_time": "2022-01-13T11:25:05.710Z"
   },
   {
    "duration": 24,
    "start_time": "2022-01-13T11:25:05.770Z"
   },
   {
    "duration": 9,
    "start_time": "2022-01-13T11:25:05.796Z"
   },
   {
    "duration": 26,
    "start_time": "2022-01-13T11:25:05.808Z"
   },
   {
    "duration": 26,
    "start_time": "2022-01-13T11:25:05.868Z"
   },
   {
    "duration": 95,
    "start_time": "2022-01-13T11:25:05.897Z"
   },
   {
    "duration": 11,
    "start_time": "2022-01-13T11:25:05.983Z"
   },
   {
    "duration": 9,
    "start_time": "2022-01-13T11:25:05.987Z"
   },
   {
    "duration": 313,
    "start_time": "2022-01-13T11:28:16.603Z"
   },
   {
    "duration": -73,
    "start_time": "2022-01-13T11:28:32.318Z"
   },
   {
    "duration": 94,
    "start_time": "2022-01-13T11:29:00.010Z"
   },
   {
    "duration": -12,
    "start_time": "2022-01-13T11:29:09.601Z"
   },
   {
    "duration": 3987,
    "start_time": "2022-01-13T11:29:15.713Z"
   },
   {
    "duration": 271,
    "start_time": "2022-01-13T11:31:30.717Z"
   },
   {
    "duration": 304,
    "start_time": "2022-01-13T11:31:50.796Z"
   },
   {
    "duration": 4423,
    "start_time": "2022-01-13T11:32:19.406Z"
   },
   {
    "duration": 107,
    "start_time": "2022-01-13T11:32:54.761Z"
   },
   {
    "duration": 1018,
    "start_time": "2022-01-13T11:33:03.266Z"
   },
   {
    "duration": 94,
    "start_time": "2022-01-13T11:46:00.319Z"
   },
   {
    "duration": 37,
    "start_time": "2022-01-13T11:46:17.747Z"
   },
   {
    "duration": 8,
    "start_time": "2022-01-13T11:46:37.616Z"
   },
   {
    "duration": 6094,
    "start_time": "2022-01-13T11:51:34.659Z"
   },
   {
    "duration": 218,
    "start_time": "2022-01-13T11:52:12.231Z"
   },
   {
    "duration": 54,
    "start_time": "2022-01-13T11:52:12.451Z"
   },
   {
    "duration": 13,
    "start_time": "2022-01-13T11:52:12.508Z"
   },
   {
    "duration": 3,
    "start_time": "2022-01-13T11:52:12.527Z"
   },
   {
    "duration": 7,
    "start_time": "2022-01-13T11:52:12.567Z"
   },
   {
    "duration": 31,
    "start_time": "2022-01-13T11:52:12.579Z"
   },
   {
    "duration": 2,
    "start_time": "2022-01-13T11:52:12.613Z"
   },
   {
    "duration": 8,
    "start_time": "2022-01-13T11:52:12.618Z"
   },
   {
    "duration": 69,
    "start_time": "2022-01-13T11:52:12.628Z"
   },
   {
    "duration": 15,
    "start_time": "2022-01-13T11:52:12.700Z"
   },
   {
    "duration": 15,
    "start_time": "2022-01-13T11:52:12.718Z"
   },
   {
    "duration": 46,
    "start_time": "2022-01-13T11:52:12.736Z"
   },
   {
    "duration": 28,
    "start_time": "2022-01-13T11:52:12.785Z"
   },
   {
    "duration": 10,
    "start_time": "2022-01-13T11:52:12.816Z"
   },
   {
    "duration": 64,
    "start_time": "2022-01-13T11:52:12.830Z"
   },
   {
    "duration": 24,
    "start_time": "2022-01-13T11:52:12.898Z"
   },
   {
    "duration": 109,
    "start_time": "2022-01-13T11:52:12.925Z"
   },
   {
    "duration": -17,
    "start_time": "2022-01-13T11:52:13.054Z"
   },
   {
    "duration": -22,
    "start_time": "2022-01-13T11:52:13.060Z"
   },
   {
    "duration": -27,
    "start_time": "2022-01-13T11:52:13.066Z"
   },
   {
    "duration": 27,
    "start_time": "2022-01-13T11:52:18.064Z"
   },
   {
    "duration": 6064,
    "start_time": "2022-01-13T11:52:55.395Z"
   },
   {
    "duration": 5211,
    "start_time": "2022-01-13T11:53:02.519Z"
   },
   {
    "duration": 13,
    "start_time": "2022-01-13T11:53:07.733Z"
   },
   {
    "duration": 24,
    "start_time": "2022-01-13T11:53:16.199Z"
   },
   {
    "duration": 5409,
    "start_time": "2022-01-13T11:55:17.937Z"
   },
   {
    "duration": 22,
    "start_time": "2022-01-13T11:55:23.427Z"
   },
   {
    "duration": 5020,
    "start_time": "2022-01-13T11:55:46.401Z"
   },
   {
    "duration": 5048,
    "start_time": "2022-01-13T11:57:15.443Z"
   },
   {
    "duration": 22,
    "start_time": "2022-01-13T11:57:20.493Z"
   },
   {
    "duration": 25,
    "start_time": "2022-01-13T11:58:22.571Z"
   },
   {
    "duration": 13417,
    "start_time": "2022-01-13T11:59:14.870Z"
   },
   {
    "duration": 5508,
    "start_time": "2022-01-13T11:59:32.249Z"
   },
   {
    "duration": 7126,
    "start_time": "2022-01-13T11:59:49.086Z"
   },
   {
    "duration": 259,
    "start_time": "2022-01-13T12:00:00.847Z"
   },
   {
    "duration": 67,
    "start_time": "2022-01-13T12:00:01.109Z"
   },
   {
    "duration": 15,
    "start_time": "2022-01-13T12:00:01.180Z"
   },
   {
    "duration": 34,
    "start_time": "2022-01-13T12:00:01.198Z"
   },
   {
    "duration": 17,
    "start_time": "2022-01-13T12:00:01.235Z"
   },
   {
    "duration": 51,
    "start_time": "2022-01-13T12:00:01.255Z"
   },
   {
    "duration": 3,
    "start_time": "2022-01-13T12:00:01.310Z"
   },
   {
    "duration": 13,
    "start_time": "2022-01-13T12:00:01.317Z"
   },
   {
    "duration": 53,
    "start_time": "2022-01-13T12:00:01.333Z"
   },
   {
    "duration": 43,
    "start_time": "2022-01-13T12:00:01.390Z"
   },
   {
    "duration": 97,
    "start_time": "2022-01-13T12:00:01.435Z"
   },
   {
    "duration": 169,
    "start_time": "2022-01-13T12:00:01.535Z"
   },
   {
    "duration": 86,
    "start_time": "2022-01-13T12:00:01.706Z"
   },
   {
    "duration": 71,
    "start_time": "2022-01-13T12:00:01.794Z"
   },
   {
    "duration": 55,
    "start_time": "2022-01-13T12:00:01.867Z"
   },
   {
    "duration": 77,
    "start_time": "2022-01-13T12:00:01.925Z"
   },
   {
    "duration": 170,
    "start_time": "2022-01-13T12:00:02.005Z"
   },
   {
    "duration": 40,
    "start_time": "2022-01-13T12:00:02.137Z"
   },
   {
    "duration": 37,
    "start_time": "2022-01-13T12:00:02.141Z"
   },
   {
    "duration": 35,
    "start_time": "2022-01-13T12:00:02.145Z"
   },
   {
    "duration": 30,
    "start_time": "2022-01-13T12:00:02.151Z"
   },
   {
    "duration": 17,
    "start_time": "2022-01-13T12:00:02.166Z"
   },
   {
    "duration": 5474,
    "start_time": "2022-01-13T12:00:24.806Z"
   },
   {
    "duration": 53,
    "start_time": "2022-01-13T12:00:30.314Z"
   },
   {
    "duration": -48,
    "start_time": "2022-01-13T12:00:45.187Z"
   },
   {
    "duration": 7,
    "start_time": "2022-01-13T12:00:59.940Z"
   },
   {
    "duration": 364,
    "start_time": "2022-01-13T12:01:36.065Z"
   },
   {
    "duration": 27,
    "start_time": "2022-01-13T12:01:55.991Z"
   },
   {
    "duration": 356,
    "start_time": "2022-01-13T12:02:45.443Z"
   },
   {
    "duration": 35,
    "start_time": "2022-01-13T12:03:29.547Z"
   },
   {
    "duration": 5225,
    "start_time": "2022-01-13T12:05:16.668Z"
   },
   {
    "duration": 5610,
    "start_time": "2022-01-13T12:06:34.357Z"
   },
   {
    "duration": 991,
    "start_time": "2022-01-13T12:06:44.509Z"
   },
   {
    "duration": 40,
    "start_time": "2022-01-13T12:06:45.503Z"
   },
   {
    "duration": 12,
    "start_time": "2022-01-13T12:06:45.566Z"
   },
   {
    "duration": 3,
    "start_time": "2022-01-13T12:06:45.581Z"
   },
   {
    "duration": 4,
    "start_time": "2022-01-13T12:06:45.587Z"
   },
   {
    "duration": 75,
    "start_time": "2022-01-13T12:06:45.594Z"
   },
   {
    "duration": 3,
    "start_time": "2022-01-13T12:06:45.671Z"
   },
   {
    "duration": 5,
    "start_time": "2022-01-13T12:06:45.678Z"
   },
   {
    "duration": 27,
    "start_time": "2022-01-13T12:06:45.686Z"
   },
   {
    "duration": 59,
    "start_time": "2022-01-13T12:06:45.715Z"
   },
   {
    "duration": 17,
    "start_time": "2022-01-13T12:06:45.776Z"
   },
   {
    "duration": 22,
    "start_time": "2022-01-13T12:06:45.797Z"
   },
   {
    "duration": 58,
    "start_time": "2022-01-13T12:06:45.822Z"
   },
   {
    "duration": 9,
    "start_time": "2022-01-13T12:06:45.883Z"
   },
   {
    "duration": 29,
    "start_time": "2022-01-13T12:06:45.894Z"
   },
   {
    "duration": 65,
    "start_time": "2022-01-13T12:06:45.925Z"
   },
   {
    "duration": 167,
    "start_time": "2022-01-13T12:06:45.992Z"
   },
   {
    "duration": 65,
    "start_time": "2022-01-13T12:06:46.096Z"
   },
   {
    "duration": 21,
    "start_time": "2022-01-13T12:06:46.142Z"
   },
   {
    "duration": 17,
    "start_time": "2022-01-13T12:06:46.148Z"
   },
   {
    "duration": 16,
    "start_time": "2022-01-13T12:06:46.152Z"
   },
   {
    "duration": 10,
    "start_time": "2022-01-13T12:06:46.160Z"
   },
   {
    "duration": 730,
    "start_time": "2022-01-13T12:06:52.748Z"
   },
   {
    "duration": 215,
    "start_time": "2022-01-13T12:07:18.693Z"
   },
   {
    "duration": 56,
    "start_time": "2022-01-13T12:07:18.912Z"
   },
   {
    "duration": 10,
    "start_time": "2022-01-13T12:07:18.971Z"
   },
   {
    "duration": 3,
    "start_time": "2022-01-13T12:07:18.985Z"
   },
   {
    "duration": 5,
    "start_time": "2022-01-13T12:07:18.991Z"
   },
   {
    "duration": 75,
    "start_time": "2022-01-13T12:07:18.999Z"
   },
   {
    "duration": 3,
    "start_time": "2022-01-13T12:07:19.077Z"
   },
   {
    "duration": 13,
    "start_time": "2022-01-13T12:07:19.082Z"
   },
   {
    "duration": 36,
    "start_time": "2022-01-13T12:07:19.100Z"
   },
   {
    "duration": 35,
    "start_time": "2022-01-13T12:07:19.139Z"
   },
   {
    "duration": 37,
    "start_time": "2022-01-13T12:07:19.176Z"
   },
   {
    "duration": 32,
    "start_time": "2022-01-13T12:07:19.215Z"
   },
   {
    "duration": 25,
    "start_time": "2022-01-13T12:07:19.250Z"
   },
   {
    "duration": 10,
    "start_time": "2022-01-13T12:07:19.277Z"
   },
   {
    "duration": 29,
    "start_time": "2022-01-13T12:07:19.289Z"
   },
   {
    "duration": 50,
    "start_time": "2022-01-13T12:07:19.321Z"
   },
   {
    "duration": 105,
    "start_time": "2022-01-13T12:07:19.373Z"
   },
   {
    "duration": 24,
    "start_time": "2022-01-13T12:07:19.456Z"
   },
   {
    "duration": 21,
    "start_time": "2022-01-13T12:07:19.460Z"
   },
   {
    "duration": 18,
    "start_time": "2022-01-13T12:07:19.464Z"
   },
   {
    "duration": 17,
    "start_time": "2022-01-13T12:07:19.467Z"
   },
   {
    "duration": 14,
    "start_time": "2022-01-13T12:07:19.471Z"
   },
   {
    "duration": 556,
    "start_time": "2022-01-13T12:07:23.630Z"
   },
   {
    "duration": 14,
    "start_time": "2022-01-13T12:07:28.460Z"
   },
   {
    "duration": 5940,
    "start_time": "2022-01-13T12:07:31.383Z"
   },
   {
    "duration": 30,
    "start_time": "2022-01-13T12:07:37.370Z"
   },
   {
    "duration": 298,
    "start_time": "2022-01-13T19:36:29.777Z"
   },
   {
    "duration": 930,
    "start_time": "2022-01-13T19:36:39.226Z"
   },
   {
    "duration": 63,
    "start_time": "2022-01-13T19:36:40.159Z"
   },
   {
    "duration": 12,
    "start_time": "2022-01-13T19:36:40.226Z"
   },
   {
    "duration": 3,
    "start_time": "2022-01-13T19:36:40.242Z"
   },
   {
    "duration": 11,
    "start_time": "2022-01-13T19:36:40.248Z"
   },
   {
    "duration": 66,
    "start_time": "2022-01-13T19:36:40.262Z"
   },
   {
    "duration": 3,
    "start_time": "2022-01-13T19:36:40.331Z"
   },
   {
    "duration": 6,
    "start_time": "2022-01-13T19:36:40.337Z"
   },
   {
    "duration": 32,
    "start_time": "2022-01-13T19:36:40.348Z"
   },
   {
    "duration": 15,
    "start_time": "2022-01-13T19:36:40.418Z"
   },
   {
    "duration": 13,
    "start_time": "2022-01-13T19:36:40.435Z"
   },
   {
    "duration": 22,
    "start_time": "2022-01-13T19:36:40.451Z"
   },
   {
    "duration": 55,
    "start_time": "2022-01-13T19:36:40.475Z"
   },
   {
    "duration": 8,
    "start_time": "2022-01-13T19:36:40.533Z"
   },
   {
    "duration": 27,
    "start_time": "2022-01-13T19:36:40.543Z"
   },
   {
    "duration": 54,
    "start_time": "2022-01-13T19:36:40.572Z"
   },
   {
    "duration": 54,
    "start_time": "2022-01-13T19:36:40.628Z"
   },
   {
    "duration": 11,
    "start_time": "2022-01-13T19:36:40.685Z"
   },
   {
    "duration": 5189,
    "start_time": "2022-01-13T19:36:40.716Z"
   },
   {
    "duration": 33,
    "start_time": "2022-01-13T19:36:45.916Z"
   },
   {
    "duration": 6,
    "start_time": "2022-01-13T19:36:45.951Z"
   },
   {
    "duration": 10,
    "start_time": "2022-01-13T19:58:57.831Z"
   },
   {
    "duration": 14,
    "start_time": "2022-01-13T20:08:58.982Z"
   },
   {
    "duration": 277,
    "start_time": "2022-01-13T20:11:36.301Z"
   },
   {
    "duration": 6,
    "start_time": "2022-01-13T20:12:26.619Z"
   },
   {
    "duration": 7,
    "start_time": "2022-01-13T20:12:44.652Z"
   },
   {
    "duration": 6,
    "start_time": "2022-01-13T20:12:55.651Z"
   },
   {
    "duration": 242,
    "start_time": "2022-01-13T20:20:05.250Z"
   },
   {
    "duration": 251,
    "start_time": "2022-01-13T20:20:14.122Z"
   },
   {
    "duration": 11,
    "start_time": "2022-01-13T20:20:22.811Z"
   },
   {
    "duration": 20,
    "start_time": "2022-01-13T20:20:47.141Z"
   },
   {
    "duration": 29,
    "start_time": "2022-01-13T20:20:53.266Z"
   },
   {
    "duration": 22,
    "start_time": "2022-01-13T20:21:35.847Z"
   },
   {
    "duration": 30,
    "start_time": "2022-01-13T20:21:45.358Z"
   },
   {
    "duration": 265,
    "start_time": "2022-01-13T20:25:15.427Z"
   },
   {
    "duration": 272,
    "start_time": "2022-01-13T20:25:26.493Z"
   },
   {
    "duration": 9,
    "start_time": "2022-01-13T20:25:43.219Z"
   },
   {
    "duration": 6,
    "start_time": "2022-01-13T20:26:03.192Z"
   },
   {
    "duration": 229,
    "start_time": "2022-01-13T20:26:09.178Z"
   },
   {
    "duration": 48,
    "start_time": "2022-01-13T20:26:09.410Z"
   },
   {
    "duration": 11,
    "start_time": "2022-01-13T20:26:09.461Z"
   },
   {
    "duration": 3,
    "start_time": "2022-01-13T20:26:09.475Z"
   },
   {
    "duration": 36,
    "start_time": "2022-01-13T20:26:09.481Z"
   },
   {
    "duration": 46,
    "start_time": "2022-01-13T20:26:09.520Z"
   },
   {
    "duration": 2,
    "start_time": "2022-01-13T20:26:09.569Z"
   },
   {
    "duration": 6,
    "start_time": "2022-01-13T20:26:09.574Z"
   },
   {
    "duration": 56,
    "start_time": "2022-01-13T20:26:09.583Z"
   },
   {
    "duration": 14,
    "start_time": "2022-01-13T20:26:09.641Z"
   },
   {
    "duration": 17,
    "start_time": "2022-01-13T20:26:09.658Z"
   },
   {
    "duration": 52,
    "start_time": "2022-01-13T20:26:09.677Z"
   },
   {
    "duration": 27,
    "start_time": "2022-01-13T20:26:09.732Z"
   },
   {
    "duration": 8,
    "start_time": "2022-01-13T20:26:09.762Z"
   },
   {
    "duration": 54,
    "start_time": "2022-01-13T20:26:09.773Z"
   },
   {
    "duration": 28,
    "start_time": "2022-01-13T20:26:09.831Z"
   },
   {
    "duration": 80,
    "start_time": "2022-01-13T20:26:09.862Z"
   },
   {
    "duration": 27,
    "start_time": "2022-01-13T20:26:09.944Z"
   },
   {
    "duration": 228,
    "start_time": "2022-01-13T20:26:15.636Z"
   },
   {
    "duration": 57,
    "start_time": "2022-01-13T20:26:15.867Z"
   },
   {
    "duration": 13,
    "start_time": "2022-01-13T20:26:15.927Z"
   },
   {
    "duration": 2,
    "start_time": "2022-01-13T20:26:15.943Z"
   },
   {
    "duration": 5,
    "start_time": "2022-01-13T20:26:15.947Z"
   },
   {
    "duration": 68,
    "start_time": "2022-01-13T20:26:15.955Z"
   },
   {
    "duration": 4,
    "start_time": "2022-01-13T20:26:16.026Z"
   },
   {
    "duration": 7,
    "start_time": "2022-01-13T20:26:16.033Z"
   },
   {
    "duration": 29,
    "start_time": "2022-01-13T20:26:16.043Z"
   },
   {
    "duration": 52,
    "start_time": "2022-01-13T20:26:16.074Z"
   },
   {
    "duration": 18,
    "start_time": "2022-01-13T20:26:16.133Z"
   },
   {
    "duration": 18,
    "start_time": "2022-01-13T20:26:16.153Z"
   },
   {
    "duration": 62,
    "start_time": "2022-01-13T20:26:16.173Z"
   },
   {
    "duration": 8,
    "start_time": "2022-01-13T20:26:16.237Z"
   },
   {
    "duration": 23,
    "start_time": "2022-01-13T20:26:16.247Z"
   },
   {
    "duration": 57,
    "start_time": "2022-01-13T20:26:16.273Z"
   },
   {
    "duration": 54,
    "start_time": "2022-01-13T20:26:16.333Z"
   },
   {
    "duration": 55,
    "start_time": "2022-01-13T20:26:16.390Z"
   },
   {
    "duration": 6798,
    "start_time": "2022-01-13T20:26:16.448Z"
   },
   {
    "duration": 71,
    "start_time": "2022-01-13T20:26:23.250Z"
   },
   {
    "duration": 26,
    "start_time": "2022-01-13T20:26:23.330Z"
   },
   {
    "duration": 20,
    "start_time": "2022-01-13T20:26:23.359Z"
   },
   {
    "duration": 7,
    "start_time": "2022-01-13T20:26:23.382Z"
   },
   {
    "duration": 60,
    "start_time": "2022-01-13T20:26:23.392Z"
   },
   {
    "duration": 13,
    "start_time": "2022-01-13T20:26:23.473Z"
   },
   {
    "duration": 7,
    "start_time": "2022-01-13T20:38:28.439Z"
   },
   {
    "duration": 6,
    "start_time": "2022-01-13T20:41:30.057Z"
   },
   {
    "duration": 5,
    "start_time": "2022-01-13T20:41:36.999Z"
   },
   {
    "duration": 5,
    "start_time": "2022-01-13T20:41:47.411Z"
   },
   {
    "duration": 28,
    "start_time": "2022-01-13T20:42:31.503Z"
   },
   {
    "duration": 8,
    "start_time": "2022-01-13T20:46:33.578Z"
   },
   {
    "duration": 5,
    "start_time": "2022-01-13T20:46:51.932Z"
   },
   {
    "duration": 9,
    "start_time": "2022-01-13T20:53:28.037Z"
   },
   {
    "duration": 273,
    "start_time": "2022-01-13T21:06:55.514Z"
   },
   {
    "duration": 302,
    "start_time": "2022-01-13T21:07:46.232Z"
   },
   {
    "duration": 63,
    "start_time": "2022-01-13T21:15:01.494Z"
   },
   {
    "duration": 202,
    "start_time": "2022-01-13T21:15:02.158Z"
   },
   {
    "duration": 54,
    "start_time": "2022-01-13T21:15:02.363Z"
   },
   {
    "duration": 10,
    "start_time": "2022-01-13T21:15:02.420Z"
   },
   {
    "duration": 4,
    "start_time": "2022-01-13T21:15:02.433Z"
   },
   {
    "duration": 5,
    "start_time": "2022-01-13T21:15:02.439Z"
   },
   {
    "duration": 70,
    "start_time": "2022-01-13T21:15:02.447Z"
   },
   {
    "duration": 3,
    "start_time": "2022-01-13T21:15:02.520Z"
   },
   {
    "duration": 5,
    "start_time": "2022-01-13T21:15:02.527Z"
   },
   {
    "duration": 39,
    "start_time": "2022-01-13T21:15:02.535Z"
   },
   {
    "duration": 47,
    "start_time": "2022-01-13T21:15:02.576Z"
   },
   {
    "duration": 13,
    "start_time": "2022-01-13T21:15:02.625Z"
   },
   {
    "duration": 24,
    "start_time": "2022-01-13T21:15:02.640Z"
   },
   {
    "duration": 24,
    "start_time": "2022-01-13T21:15:02.666Z"
   },
   {
    "duration": 8,
    "start_time": "2022-01-13T21:15:02.718Z"
   },
   {
    "duration": 23,
    "start_time": "2022-01-13T21:15:02.729Z"
   },
   {
    "duration": 27,
    "start_time": "2022-01-13T21:15:02.755Z"
   },
   {
    "duration": 56,
    "start_time": "2022-01-13T21:15:02.817Z"
   },
   {
    "duration": 48,
    "start_time": "2022-01-13T21:15:02.876Z"
   },
   {
    "duration": 5196,
    "start_time": "2022-01-13T21:15:02.926Z"
   },
   {
    "duration": 31,
    "start_time": "2022-01-13T21:15:08.125Z"
   },
   {
    "duration": 10,
    "start_time": "2022-01-13T21:15:08.158Z"
   },
   {
    "duration": 48,
    "start_time": "2022-01-13T21:15:08.171Z"
   },
   {
    "duration": 6,
    "start_time": "2022-01-13T21:15:08.224Z"
   },
   {
    "duration": 44,
    "start_time": "2022-01-13T21:15:08.233Z"
   },
   {
    "duration": 40,
    "start_time": "2022-01-13T21:15:08.281Z"
   },
   {
    "duration": 8,
    "start_time": "2022-01-13T21:15:08.324Z"
   },
   {
    "duration": 7,
    "start_time": "2022-01-13T21:15:08.334Z"
   },
   {
    "duration": 29,
    "start_time": "2022-01-13T21:15:08.343Z"
   },
   {
    "duration": 45,
    "start_time": "2022-01-13T21:15:08.375Z"
   },
   {
    "duration": 87,
    "start_time": "2022-01-13T21:15:08.423Z"
   },
   {
    "duration": 217,
    "start_time": "2022-01-13T21:15:19.689Z"
   },
   {
    "duration": 44,
    "start_time": "2022-01-13T21:15:19.908Z"
   },
   {
    "duration": 11,
    "start_time": "2022-01-13T21:15:19.954Z"
   },
   {
    "duration": 2,
    "start_time": "2022-01-13T21:15:19.968Z"
   },
   {
    "duration": 8,
    "start_time": "2022-01-13T21:15:19.973Z"
   },
   {
    "duration": 27,
    "start_time": "2022-01-13T21:15:20.018Z"
   },
   {
    "duration": 3,
    "start_time": "2022-01-13T21:15:20.047Z"
   },
   {
    "duration": 7,
    "start_time": "2022-01-13T21:15:20.053Z"
   },
   {
    "duration": 59,
    "start_time": "2022-01-13T21:15:20.063Z"
   },
   {
    "duration": 15,
    "start_time": "2022-01-13T21:15:20.124Z"
   },
   {
    "duration": 16,
    "start_time": "2022-01-13T21:15:20.141Z"
   },
   {
    "duration": 18,
    "start_time": "2022-01-13T21:15:20.159Z"
   },
   {
    "duration": 57,
    "start_time": "2022-01-13T21:15:20.179Z"
   },
   {
    "duration": 7,
    "start_time": "2022-01-13T21:15:20.239Z"
   },
   {
    "duration": 24,
    "start_time": "2022-01-13T21:15:20.248Z"
   },
   {
    "duration": 60,
    "start_time": "2022-01-13T21:15:20.275Z"
   },
   {
    "duration": 53,
    "start_time": "2022-01-13T21:15:20.338Z"
   },
   {
    "duration": 49,
    "start_time": "2022-01-13T21:15:20.394Z"
   },
   {
    "duration": 5644,
    "start_time": "2022-01-13T21:15:20.446Z"
   },
   {
    "duration": 44,
    "start_time": "2022-01-13T21:15:26.092Z"
   },
   {
    "duration": 10,
    "start_time": "2022-01-13T21:15:26.138Z"
   },
   {
    "duration": 14,
    "start_time": "2022-01-13T21:15:26.150Z"
   },
   {
    "duration": 6,
    "start_time": "2022-01-13T21:15:26.168Z"
   },
   {
    "duration": 66,
    "start_time": "2022-01-13T21:15:26.177Z"
   },
   {
    "duration": 10,
    "start_time": "2022-01-13T21:15:26.246Z"
   },
   {
    "duration": 7,
    "start_time": "2022-01-13T21:15:26.258Z"
   },
   {
    "duration": 6,
    "start_time": "2022-01-13T21:15:26.267Z"
   },
   {
    "duration": 30,
    "start_time": "2022-01-13T21:15:26.318Z"
   },
   {
    "duration": 10,
    "start_time": "2022-01-13T21:15:26.350Z"
   },
   {
    "duration": 236,
    "start_time": "2022-01-13T21:15:26.362Z"
   },
   {
    "duration": 202,
    "start_time": "2022-01-13T21:15:55.281Z"
   },
   {
    "duration": 50,
    "start_time": "2022-01-13T21:15:55.485Z"
   },
   {
    "duration": 10,
    "start_time": "2022-01-13T21:15:55.538Z"
   },
   {
    "duration": 3,
    "start_time": "2022-01-13T21:15:55.551Z"
   },
   {
    "duration": 6,
    "start_time": "2022-01-13T21:15:55.556Z"
   },
   {
    "duration": 66,
    "start_time": "2022-01-13T21:15:55.564Z"
   },
   {
    "duration": 3,
    "start_time": "2022-01-13T21:15:55.633Z"
   },
   {
    "duration": 8,
    "start_time": "2022-01-13T21:15:55.638Z"
   },
   {
    "duration": 29,
    "start_time": "2022-01-13T21:15:55.650Z"
   },
   {
    "duration": 45,
    "start_time": "2022-01-13T21:15:55.682Z"
   },
   {
    "duration": 13,
    "start_time": "2022-01-13T21:15:55.729Z"
   },
   {
    "duration": 22,
    "start_time": "2022-01-13T21:15:55.744Z"
   },
   {
    "duration": 57,
    "start_time": "2022-01-13T21:15:55.768Z"
   },
   {
    "duration": 8,
    "start_time": "2022-01-13T21:15:55.827Z"
   },
   {
    "duration": 24,
    "start_time": "2022-01-13T21:15:55.838Z"
   },
   {
    "duration": 53,
    "start_time": "2022-01-13T21:15:55.864Z"
   },
   {
    "duration": 54,
    "start_time": "2022-01-13T21:15:55.920Z"
   },
   {
    "duration": 51,
    "start_time": "2022-01-13T21:15:55.977Z"
   },
   {
    "duration": 5374,
    "start_time": "2022-01-13T21:15:56.031Z"
   },
   {
    "duration": 31,
    "start_time": "2022-01-13T21:16:01.418Z"
   },
   {
    "duration": 9,
    "start_time": "2022-01-13T21:16:01.452Z"
   },
   {
    "duration": 17,
    "start_time": "2022-01-13T21:16:01.464Z"
   },
   {
    "duration": 35,
    "start_time": "2022-01-13T21:16:01.484Z"
   },
   {
    "duration": 34,
    "start_time": "2022-01-13T21:16:01.522Z"
   },
   {
    "duration": 15,
    "start_time": "2022-01-13T21:16:01.559Z"
   },
   {
    "duration": 42,
    "start_time": "2022-01-13T21:16:01.576Z"
   },
   {
    "duration": 8,
    "start_time": "2022-01-13T21:16:01.623Z"
   },
   {
    "duration": 33,
    "start_time": "2022-01-13T21:16:01.633Z"
   },
   {
    "duration": 11,
    "start_time": "2022-01-13T21:16:01.669Z"
   },
   {
    "duration": 309,
    "start_time": "2022-01-13T21:16:01.683Z"
   },
   {
    "duration": 256,
    "start_time": "2022-01-13T21:19:31.364Z"
   },
   {
    "duration": 270,
    "start_time": "2022-01-13T21:20:03.126Z"
   },
   {
    "duration": 292,
    "start_time": "2022-01-13T21:22:50.486Z"
   },
   {
    "duration": 988,
    "start_time": "2022-01-13T21:23:00.920Z"
   },
   {
    "duration": 42,
    "start_time": "2022-01-13T21:23:01.910Z"
   },
   {
    "duration": 11,
    "start_time": "2022-01-13T21:23:01.955Z"
   },
   {
    "duration": 3,
    "start_time": "2022-01-13T21:23:01.969Z"
   },
   {
    "duration": 42,
    "start_time": "2022-01-13T21:23:01.974Z"
   },
   {
    "duration": 35,
    "start_time": "2022-01-13T21:23:02.019Z"
   },
   {
    "duration": 3,
    "start_time": "2022-01-13T21:23:02.056Z"
   },
   {
    "duration": 8,
    "start_time": "2022-01-13T21:23:02.063Z"
   },
   {
    "duration": 51,
    "start_time": "2022-01-13T21:23:02.074Z"
   },
   {
    "duration": 14,
    "start_time": "2022-01-13T21:23:02.128Z"
   },
   {
    "duration": 16,
    "start_time": "2022-01-13T21:23:02.145Z"
   },
   {
    "duration": 53,
    "start_time": "2022-01-13T21:23:02.164Z"
   },
   {
    "duration": 23,
    "start_time": "2022-01-13T21:23:02.219Z"
   },
   {
    "duration": 9,
    "start_time": "2022-01-13T21:23:02.244Z"
   },
   {
    "duration": 25,
    "start_time": "2022-01-13T21:23:02.256Z"
   },
   {
    "duration": 26,
    "start_time": "2022-01-13T21:23:02.316Z"
   },
   {
    "duration": 74,
    "start_time": "2022-01-13T21:23:02.344Z"
   },
   {
    "duration": 12,
    "start_time": "2022-01-13T21:23:02.421Z"
   },
   {
    "duration": 5111,
    "start_time": "2022-01-13T21:23:02.435Z"
   },
   {
    "duration": 30,
    "start_time": "2022-01-13T21:23:07.549Z"
   },
   {
    "duration": 9,
    "start_time": "2022-01-13T21:23:07.582Z"
   },
   {
    "duration": 17,
    "start_time": "2022-01-13T21:23:07.618Z"
   },
   {
    "duration": 7,
    "start_time": "2022-01-13T21:23:07.641Z"
   },
   {
    "duration": 75,
    "start_time": "2022-01-13T21:23:07.652Z"
   },
   {
    "duration": 10,
    "start_time": "2022-01-13T21:23:07.729Z"
   },
   {
    "duration": 11,
    "start_time": "2022-01-13T21:23:07.742Z"
   },
   {
    "duration": 10,
    "start_time": "2022-01-13T21:23:07.755Z"
   },
   {
    "duration": 58,
    "start_time": "2022-01-13T21:23:07.767Z"
   },
   {
    "duration": 10,
    "start_time": "2022-01-13T21:23:07.827Z"
   },
   {
    "duration": 350,
    "start_time": "2022-01-13T21:23:07.840Z"
   },
   {
    "duration": 329,
    "start_time": "2022-01-13T21:23:50.539Z"
   },
   {
    "duration": 35,
    "start_time": "2022-01-13T21:24:17.738Z"
   },
   {
    "duration": 35,
    "start_time": "2022-01-13T21:25:02.163Z"
   },
   {
    "duration": 28,
    "start_time": "2022-01-13T21:25:13.704Z"
   },
   {
    "duration": 27,
    "start_time": "2022-01-13T21:25:24.387Z"
   },
   {
    "duration": 259,
    "start_time": "2022-01-13T21:26:44.843Z"
   },
   {
    "duration": 5,
    "start_time": "2022-01-13T21:28:28.966Z"
   },
   {
    "duration": 32,
    "start_time": "2022-01-13T21:28:57.622Z"
   },
   {
    "duration": 29,
    "start_time": "2022-01-13T21:29:18.979Z"
   },
   {
    "duration": 26,
    "start_time": "2022-01-13T21:31:59.621Z"
   },
   {
    "duration": 27,
    "start_time": "2022-01-13T21:35:11.367Z"
   },
   {
    "duration": 11,
    "start_time": "2022-01-13T21:36:31.658Z"
   },
   {
    "duration": 6,
    "start_time": "2022-01-13T21:36:40.748Z"
   },
   {
    "duration": 12,
    "start_time": "2022-01-13T21:38:03.863Z"
   },
   {
    "duration": 26,
    "start_time": "2022-01-13T21:41:48.980Z"
   },
   {
    "duration": 12,
    "start_time": "2022-01-13T21:42:38.167Z"
   },
   {
    "duration": 28,
    "start_time": "2022-01-13T21:44:09.159Z"
   },
   {
    "duration": 34,
    "start_time": "2022-01-13T21:45:01.338Z"
   },
   {
    "duration": 30,
    "start_time": "2022-01-13T21:45:07.561Z"
   },
   {
    "duration": 29,
    "start_time": "2022-01-13T21:47:36.899Z"
   },
   {
    "duration": 28,
    "start_time": "2022-01-13T21:48:10.593Z"
   },
   {
    "duration": 28,
    "start_time": "2022-01-13T21:49:00.186Z"
   },
   {
    "duration": 29,
    "start_time": "2022-01-13T21:49:04.012Z"
   },
   {
    "duration": 898,
    "start_time": "2022-01-14T14:20:18.547Z"
   },
   {
    "duration": 106,
    "start_time": "2022-01-14T14:20:27.572Z"
   },
   {
    "duration": 118,
    "start_time": "2022-01-14T14:20:54.723Z"
   },
   {
    "duration": 411,
    "start_time": "2022-01-14T14:21:20.972Z"
   },
   {
    "duration": 108,
    "start_time": "2022-01-14T14:21:29.884Z"
   },
   {
    "duration": 106,
    "start_time": "2022-01-14T14:24:47.892Z"
   },
   {
    "duration": 40,
    "start_time": "2022-01-14T14:25:50.014Z"
   },
   {
    "duration": 39,
    "start_time": "2022-01-14T14:26:29.151Z"
   },
   {
    "duration": 11,
    "start_time": "2022-01-14T14:26:50.377Z"
   },
   {
    "duration": 12,
    "start_time": "2022-01-14T14:27:48.819Z"
   },
   {
    "duration": 573,
    "start_time": "2022-01-14T14:28:43.136Z"
   },
   {
    "duration": 40,
    "start_time": "2022-01-14T14:28:57.758Z"
   },
   {
    "duration": 29,
    "start_time": "2022-01-14T14:29:21.979Z"
   },
   {
    "duration": 19,
    "start_time": "2022-01-14T14:29:41.717Z"
   },
   {
    "duration": 17,
    "start_time": "2022-01-14T14:29:59.740Z"
   },
   {
    "duration": 28,
    "start_time": "2022-01-14T14:30:34.405Z"
   },
   {
    "duration": 28,
    "start_time": "2022-01-14T14:31:00.737Z"
   },
   {
    "duration": 11,
    "start_time": "2022-01-14T14:31:22.692Z"
   },
   {
    "duration": 502,
    "start_time": "2022-01-14T14:41:31.427Z"
   },
   {
    "duration": 498,
    "start_time": "2022-01-14T14:41:46.091Z"
   },
   {
    "duration": 89,
    "start_time": "2022-01-14T14:41:55.726Z"
   },
   {
    "duration": 112,
    "start_time": "2022-01-14T14:41:55.818Z"
   },
   {
    "duration": 51,
    "start_time": "2022-01-14T14:41:55.933Z"
   },
   {
    "duration": 10,
    "start_time": "2022-01-14T14:41:55.987Z"
   },
   {
    "duration": 26,
    "start_time": "2022-01-14T14:41:56.000Z"
   },
   {
    "duration": 24,
    "start_time": "2022-01-14T14:41:56.062Z"
   },
   {
    "duration": 14,
    "start_time": "2022-01-14T14:41:56.089Z"
   },
   {
    "duration": 14,
    "start_time": "2022-01-14T14:41:56.106Z"
   },
   {
    "duration": 55,
    "start_time": "2022-01-14T14:41:56.124Z"
   },
   {
    "duration": 23,
    "start_time": "2022-01-14T14:41:56.182Z"
   },
   {
    "duration": 9,
    "start_time": "2022-01-14T14:41:56.207Z"
   },
   {
    "duration": 55,
    "start_time": "2022-01-14T14:41:56.218Z"
   },
   {
    "duration": 24,
    "start_time": "2022-01-14T14:41:56.276Z"
   },
   {
    "duration": 74,
    "start_time": "2022-01-14T14:41:56.302Z"
   },
   {
    "duration": 10,
    "start_time": "2022-01-14T14:41:56.378Z"
   },
   {
    "duration": 5328,
    "start_time": "2022-01-14T14:41:56.390Z"
   },
   {
    "duration": 47,
    "start_time": "2022-01-14T14:42:01.721Z"
   },
   {
    "duration": 11,
    "start_time": "2022-01-14T14:42:01.771Z"
   },
   {
    "duration": 16,
    "start_time": "2022-01-14T14:42:01.785Z"
   },
   {
    "duration": 14,
    "start_time": "2022-01-14T14:42:01.804Z"
   },
   {
    "duration": 64,
    "start_time": "2022-01-14T14:42:01.821Z"
   },
   {
    "duration": 18,
    "start_time": "2022-01-14T14:42:01.888Z"
   },
   {
    "duration": 20,
    "start_time": "2022-01-14T14:42:01.908Z"
   },
   {
    "duration": 15,
    "start_time": "2022-01-14T14:42:01.930Z"
   },
   {
    "duration": 55,
    "start_time": "2022-01-14T14:42:01.948Z"
   },
   {
    "duration": 27,
    "start_time": "2022-01-14T14:42:02.005Z"
   },
   {
    "duration": 45,
    "start_time": "2022-01-14T14:42:02.037Z"
   },
   {
    "duration": 24,
    "start_time": "2022-01-14T14:42:02.085Z"
   },
   {
    "duration": 32,
    "start_time": "2022-01-14T14:42:02.112Z"
   },
   {
    "duration": 14,
    "start_time": "2022-01-14T14:42:02.162Z"
   },
   {
    "duration": 54,
    "start_time": "2022-01-14T14:42:02.179Z"
   },
   {
    "duration": 38,
    "start_time": "2022-01-14T14:42:02.236Z"
   },
   {
    "duration": 33,
    "start_time": "2022-01-14T14:44:35.302Z"
   },
   {
    "duration": 12,
    "start_time": "2022-01-14T14:50:02.753Z"
   },
   {
    "duration": 6,
    "start_time": "2022-01-14T14:50:51.728Z"
   },
   {
    "duration": 6,
    "start_time": "2022-01-14T14:50:58.931Z"
   },
   {
    "duration": 30,
    "start_time": "2022-01-14T14:51:18.748Z"
   },
   {
    "duration": 9,
    "start_time": "2022-01-14T14:51:46.861Z"
   },
   {
    "duration": 7,
    "start_time": "2022-01-14T14:52:38.254Z"
   },
   {
    "duration": 5,
    "start_time": "2022-01-14T14:53:06.277Z"
   },
   {
    "duration": 28,
    "start_time": "2022-01-14T14:53:53.519Z"
   },
   {
    "duration": 9,
    "start_time": "2022-01-14T14:54:28.668Z"
   },
   {
    "duration": 28,
    "start_time": "2022-01-14T14:55:28.997Z"
   },
   {
    "duration": 27,
    "start_time": "2022-01-14T14:55:40.901Z"
   },
   {
    "duration": 12,
    "start_time": "2022-01-14T14:55:51.178Z"
   },
   {
    "duration": 31,
    "start_time": "2022-01-14T15:02:29.953Z"
   },
   {
    "duration": 38,
    "start_time": "2022-01-14T15:05:32.454Z"
   },
   {
    "duration": 803,
    "start_time": "2022-01-16T16:18:01.765Z"
   },
   {
    "duration": 90,
    "start_time": "2022-01-16T16:18:02.570Z"
   },
   {
    "duration": 25,
    "start_time": "2022-01-16T16:18:02.662Z"
   },
   {
    "duration": 8,
    "start_time": "2022-01-16T16:18:02.689Z"
   },
   {
    "duration": 18,
    "start_time": "2022-01-16T16:18:02.699Z"
   },
   {
    "duration": 53,
    "start_time": "2022-01-16T16:18:02.718Z"
   },
   {
    "duration": 10,
    "start_time": "2022-01-16T16:18:02.772Z"
   },
   {
    "duration": 10,
    "start_time": "2022-01-16T16:18:02.784Z"
   },
   {
    "duration": 11,
    "start_time": "2022-01-16T16:18:02.796Z"
   },
   {
    "duration": 16,
    "start_time": "2022-01-16T16:18:02.808Z"
   },
   {
    "duration": 38,
    "start_time": "2022-01-16T16:18:02.825Z"
   },
   {
    "duration": 17,
    "start_time": "2022-01-16T16:18:02.865Z"
   },
   {
    "duration": 19,
    "start_time": "2022-01-16T16:18:02.884Z"
   },
   {
    "duration": 58,
    "start_time": "2022-01-16T16:18:02.905Z"
   },
   {
    "duration": 10,
    "start_time": "2022-01-16T16:18:02.965Z"
   },
   {
    "duration": 3856,
    "start_time": "2022-01-16T16:18:02.977Z"
   },
   {
    "duration": 33,
    "start_time": "2022-01-16T16:18:06.835Z"
   },
   {
    "duration": 82,
    "start_time": "2022-01-16T16:18:06.870Z"
   },
   {
    "duration": -14445340,
    "start_time": "2022-01-16T20:18:52.294Z"
   },
   {
    "duration": -14445354,
    "start_time": "2022-01-16T20:18:52.309Z"
   },
   {
    "duration": -14445359,
    "start_time": "2022-01-16T20:18:52.315Z"
   },
   {
    "duration": -14445363,
    "start_time": "2022-01-16T20:18:52.320Z"
   },
   {
    "duration": -14445365,
    "start_time": "2022-01-16T20:18:52.323Z"
   },
   {
    "duration": -14445367,
    "start_time": "2022-01-16T20:18:52.326Z"
   },
   {
    "duration": -14445368,
    "start_time": "2022-01-16T20:18:52.328Z"
   },
   {
    "duration": -14445370,
    "start_time": "2022-01-16T20:18:52.330Z"
   },
   {
    "duration": -14445372,
    "start_time": "2022-01-16T20:18:52.333Z"
   },
   {
    "duration": -14445373,
    "start_time": "2022-01-16T20:18:52.335Z"
   },
   {
    "duration": -14445375,
    "start_time": "2022-01-16T20:18:52.338Z"
   },
   {
    "duration": -14445376,
    "start_time": "2022-01-16T20:18:52.340Z"
   },
   {
    "duration": -14445384,
    "start_time": "2022-01-16T20:18:52.348Z"
   },
   {
    "duration": -14445386,
    "start_time": "2022-01-16T20:18:52.351Z"
   },
   {
    "duration": -14445387,
    "start_time": "2022-01-16T20:18:52.353Z"
   },
   {
    "duration": 20,
    "start_time": "2022-01-16T16:27:09.955Z"
   },
   {
    "duration": 6,
    "start_time": "2022-01-16T16:31:38.504Z"
   },
   {
    "duration": 12,
    "start_time": "2022-01-16T16:31:38.512Z"
   },
   {
    "duration": 3,
    "start_time": "2022-01-16T16:31:38.526Z"
   },
   {
    "duration": 22,
    "start_time": "2022-01-16T16:31:38.531Z"
   },
   {
    "duration": 8,
    "start_time": "2022-01-16T16:31:38.555Z"
   },
   {
    "duration": 15,
    "start_time": "2022-01-16T16:31:38.565Z"
   },
   {
    "duration": 7,
    "start_time": "2022-01-16T16:31:38.582Z"
   },
   {
    "duration": 19,
    "start_time": "2022-01-16T16:31:38.591Z"
   },
   {
    "duration": 5,
    "start_time": "2022-01-16T16:31:38.612Z"
   },
   {
    "duration": 23,
    "start_time": "2022-01-16T16:31:38.619Z"
   },
   {
    "duration": 37,
    "start_time": "2022-01-16T16:31:38.643Z"
   },
   {
    "duration": 17,
    "start_time": "2022-01-16T16:31:38.682Z"
   },
   {
    "duration": 9,
    "start_time": "2022-01-16T16:31:38.700Z"
   },
   {
    "duration": 19,
    "start_time": "2022-01-16T16:31:38.711Z"
   },
   {
    "duration": 51,
    "start_time": "2022-01-16T16:31:38.732Z"
   },
   {
    "duration": 121,
    "start_time": "2022-01-18T13:50:32.285Z"
   },
   {
    "duration": 113,
    "start_time": "2022-01-18T13:52:09.329Z"
   },
   {
    "duration": 400,
    "start_time": "2022-01-18T13:52:19.389Z"
   },
   {
    "duration": 646,
    "start_time": "2022-01-18T13:52:30.129Z"
   },
   {
    "duration": 76,
    "start_time": "2022-01-18T13:52:30.777Z"
   },
   {
    "duration": 20,
    "start_time": "2022-01-18T13:52:30.855Z"
   },
   {
    "duration": 8,
    "start_time": "2022-01-18T13:52:30.877Z"
   },
   {
    "duration": 8,
    "start_time": "2022-01-18T13:52:30.887Z"
   },
   {
    "duration": 39,
    "start_time": "2022-01-18T13:52:30.896Z"
   },
   {
    "duration": 16,
    "start_time": "2022-01-18T13:52:30.937Z"
   },
   {
    "duration": 14,
    "start_time": "2022-01-18T13:52:30.955Z"
   },
   {
    "duration": 10,
    "start_time": "2022-01-18T13:52:30.971Z"
   },
   {
    "duration": 9,
    "start_time": "2022-01-18T13:52:30.983Z"
   },
   {
    "duration": 11,
    "start_time": "2022-01-18T13:52:31.027Z"
   },
   {
    "duration": 25,
    "start_time": "2022-01-18T13:52:31.040Z"
   },
   {
    "duration": 7,
    "start_time": "2022-01-18T13:52:31.067Z"
   },
   {
    "duration": 21,
    "start_time": "2022-01-18T13:52:31.075Z"
   },
   {
    "duration": 20,
    "start_time": "2022-01-18T13:52:31.097Z"
   },
   {
    "duration": 37,
    "start_time": "2022-01-18T13:52:31.118Z"
   },
   {
    "duration": 9,
    "start_time": "2022-01-18T13:52:31.157Z"
   },
   {
    "duration": 3625,
    "start_time": "2022-01-18T13:52:31.167Z"
   },
   {
    "duration": 34,
    "start_time": "2022-01-18T13:52:34.794Z"
   },
   {
    "duration": 5,
    "start_time": "2022-01-18T13:52:34.829Z"
   },
   {
    "duration": 8,
    "start_time": "2022-01-18T13:52:34.836Z"
   },
   {
    "duration": 3,
    "start_time": "2022-01-18T13:52:34.846Z"
   },
   {
    "duration": 19,
    "start_time": "2022-01-18T13:52:34.852Z"
   },
   {
    "duration": 9,
    "start_time": "2022-01-18T13:52:34.873Z"
   },
   {
    "duration": 9,
    "start_time": "2022-01-18T13:52:34.884Z"
   },
   {
    "duration": 7,
    "start_time": "2022-01-18T13:52:34.894Z"
   },
   {
    "duration": 40,
    "start_time": "2022-01-18T13:52:34.902Z"
   },
   {
    "duration": 10,
    "start_time": "2022-01-18T13:52:34.944Z"
   },
   {
    "duration": 20,
    "start_time": "2022-01-18T13:52:34.955Z"
   },
   {
    "duration": 10,
    "start_time": "2022-01-18T13:52:34.977Z"
   },
   {
    "duration": 14,
    "start_time": "2022-01-18T13:52:34.989Z"
   },
   {
    "duration": 28,
    "start_time": "2022-01-18T13:52:35.004Z"
   },
   {
    "duration": 21,
    "start_time": "2022-01-18T13:52:35.033Z"
   },
   {
    "duration": 16,
    "start_time": "2022-01-18T13:52:35.055Z"
   },
   {
    "duration": 5,
    "start_time": "2022-01-18T13:55:01.901Z"
   },
   {
    "duration": 117,
    "start_time": "2022-01-18T13:57:16.155Z"
   },
   {
    "duration": 5,
    "start_time": "2022-01-18T13:57:24.224Z"
   },
   {
    "duration": 6,
    "start_time": "2022-01-18T13:57:40.334Z"
   },
   {
    "duration": 5,
    "start_time": "2022-01-18T13:57:49.554Z"
   },
   {
    "duration": 6,
    "start_time": "2022-01-18T13:58:00.184Z"
   },
   {
    "duration": 120,
    "start_time": "2022-01-18T14:01:25.440Z"
   },
   {
    "duration": 9,
    "start_time": "2022-01-18T14:01:36.426Z"
   },
   {
    "duration": 186,
    "start_time": "2022-01-18T14:03:02.043Z"
   },
   {
    "duration": 17,
    "start_time": "2022-01-18T14:03:09.452Z"
   },
   {
    "duration": 758,
    "start_time": "2022-01-18T14:03:24.463Z"
   },
   {
    "duration": 73,
    "start_time": "2022-01-18T14:03:25.224Z"
   },
   {
    "duration": 33,
    "start_time": "2022-01-18T14:03:25.299Z"
   },
   {
    "duration": 6,
    "start_time": "2022-01-18T14:03:25.336Z"
   },
   {
    "duration": 122,
    "start_time": "2022-01-18T14:03:25.344Z"
   },
   {
    "duration": -227,
    "start_time": "2022-01-18T14:03:25.695Z"
   },
   {
    "duration": -248,
    "start_time": "2022-01-18T14:03:25.717Z"
   },
   {
    "duration": -252,
    "start_time": "2022-01-18T14:03:25.722Z"
   },
   {
    "duration": -260,
    "start_time": "2022-01-18T14:03:25.731Z"
   },
   {
    "duration": -264,
    "start_time": "2022-01-18T14:03:25.736Z"
   },
   {
    "duration": -272,
    "start_time": "2022-01-18T14:03:25.745Z"
   },
   {
    "duration": -276,
    "start_time": "2022-01-18T14:03:25.750Z"
   },
   {
    "duration": -281,
    "start_time": "2022-01-18T14:03:25.756Z"
   },
   {
    "duration": -289,
    "start_time": "2022-01-18T14:03:25.765Z"
   },
   {
    "duration": -294,
    "start_time": "2022-01-18T14:03:25.771Z"
   },
   {
    "duration": -302,
    "start_time": "2022-01-18T14:03:25.780Z"
   },
   {
    "duration": -308,
    "start_time": "2022-01-18T14:03:25.787Z"
   },
   {
    "duration": -314,
    "start_time": "2022-01-18T14:03:25.794Z"
   },
   {
    "duration": -322,
    "start_time": "2022-01-18T14:03:25.803Z"
   },
   {
    "duration": -329,
    "start_time": "2022-01-18T14:03:25.811Z"
   },
   {
    "duration": -338,
    "start_time": "2022-01-18T14:03:25.821Z"
   },
   {
    "duration": -347,
    "start_time": "2022-01-18T14:03:25.831Z"
   },
   {
    "duration": -353,
    "start_time": "2022-01-18T14:03:25.838Z"
   },
   {
    "duration": -362,
    "start_time": "2022-01-18T14:03:25.848Z"
   },
   {
    "duration": -369,
    "start_time": "2022-01-18T14:03:25.856Z"
   },
   {
    "duration": -376,
    "start_time": "2022-01-18T14:03:25.864Z"
   },
   {
    "duration": -380,
    "start_time": "2022-01-18T14:03:25.869Z"
   },
   {
    "duration": -388,
    "start_time": "2022-01-18T14:03:25.877Z"
   },
   {
    "duration": -395,
    "start_time": "2022-01-18T14:03:25.885Z"
   },
   {
    "duration": -398,
    "start_time": "2022-01-18T14:03:25.889Z"
   },
   {
    "duration": -406,
    "start_time": "2022-01-18T14:03:25.898Z"
   },
   {
    "duration": -410,
    "start_time": "2022-01-18T14:03:25.903Z"
   },
   {
    "duration": -417,
    "start_time": "2022-01-18T14:03:25.911Z"
   },
   {
    "duration": -423,
    "start_time": "2022-01-18T14:03:25.918Z"
   },
   {
    "duration": -448,
    "start_time": "2022-01-18T14:03:25.944Z"
   },
   {
    "duration": 26,
    "start_time": "2022-01-18T14:04:01.214Z"
   },
   {
    "duration": 541,
    "start_time": "2022-01-18T14:04:38.980Z"
   },
   {
    "duration": 18,
    "start_time": "2022-01-18T14:05:18.140Z"
   },
   {
    "duration": 105,
    "start_time": "2022-01-18T14:09:53.124Z"
   },
   {
    "duration": 103,
    "start_time": "2022-01-18T14:14:06.159Z"
   },
   {
    "duration": 305,
    "start_time": "2022-01-18T19:42:59.839Z"
   },
   {
    "duration": 721,
    "start_time": "2022-01-18T19:43:06.846Z"
   },
   {
    "duration": 93,
    "start_time": "2022-01-18T19:43:07.569Z"
   },
   {
    "duration": 26,
    "start_time": "2022-01-18T19:43:07.664Z"
   },
   {
    "duration": 6,
    "start_time": "2022-01-18T19:43:07.692Z"
   },
   {
    "duration": 9,
    "start_time": "2022-01-18T19:43:07.699Z"
   },
   {
    "duration": 55,
    "start_time": "2022-01-18T19:43:07.710Z"
   },
   {
    "duration": 19,
    "start_time": "2022-01-18T19:43:07.766Z"
   },
   {
    "duration": 16,
    "start_time": "2022-01-18T19:43:07.787Z"
   },
   {
    "duration": 10,
    "start_time": "2022-01-18T19:43:07.806Z"
   },
   {
    "duration": 11,
    "start_time": "2022-01-18T19:43:07.818Z"
   },
   {
    "duration": 14,
    "start_time": "2022-01-18T19:43:07.861Z"
   },
   {
    "duration": 17,
    "start_time": "2022-01-18T19:43:07.877Z"
   },
   {
    "duration": 6,
    "start_time": "2022-01-18T19:43:07.896Z"
   },
   {
    "duration": 18,
    "start_time": "2022-01-18T19:43:07.903Z"
   },
   {
    "duration": 43,
    "start_time": "2022-01-18T19:43:07.923Z"
   },
   {
    "duration": 38,
    "start_time": "2022-01-18T19:43:07.968Z"
   },
   {
    "duration": 11,
    "start_time": "2022-01-18T19:43:08.008Z"
   },
   {
    "duration": 4032,
    "start_time": "2022-01-18T19:43:08.021Z"
   },
   {
    "duration": 21,
    "start_time": "2022-01-18T19:43:12.061Z"
   },
   {
    "duration": 22,
    "start_time": "2022-01-18T19:43:12.083Z"
   },
   {
    "duration": 26,
    "start_time": "2022-01-18T19:43:12.107Z"
   },
   {
    "duration": 19,
    "start_time": "2022-01-18T19:43:12.135Z"
   },
   {
    "duration": 59,
    "start_time": "2022-01-18T19:43:12.156Z"
   },
   {
    "duration": 34,
    "start_time": "2022-01-18T19:43:12.217Z"
   },
   {
    "duration": 10,
    "start_time": "2022-01-18T19:43:12.253Z"
   },
   {
    "duration": 35,
    "start_time": "2022-01-18T19:43:12.264Z"
   },
   {
    "duration": 37,
    "start_time": "2022-01-18T19:43:12.302Z"
   },
   {
    "duration": 16,
    "start_time": "2022-01-18T19:43:12.341Z"
   },
   {
    "duration": 42,
    "start_time": "2022-01-18T19:43:12.359Z"
   },
   {
    "duration": 28,
    "start_time": "2022-01-18T19:43:12.403Z"
   },
   {
    "duration": 43,
    "start_time": "2022-01-18T19:43:12.433Z"
   },
   {
    "duration": 8,
    "start_time": "2022-01-18T19:43:12.478Z"
   },
   {
    "duration": 40,
    "start_time": "2022-01-18T19:43:12.488Z"
   },
   {
    "duration": 19,
    "start_time": "2022-01-18T19:43:12.530Z"
   },
   {
    "duration": 10,
    "start_time": "2022-01-18T20:02:55.339Z"
   },
   {
    "duration": 450,
    "start_time": "2022-01-18T20:05:55.366Z"
   },
   {
    "duration": 81,
    "start_time": "2022-01-18T20:06:01.614Z"
   },
   {
    "duration": 108,
    "start_time": "2022-01-18T20:06:01.697Z"
   },
   {
    "duration": 28,
    "start_time": "2022-01-18T20:06:01.808Z"
   },
   {
    "duration": 24,
    "start_time": "2022-01-18T20:06:01.838Z"
   },
   {
    "duration": 34,
    "start_time": "2022-01-18T20:06:01.864Z"
   },
   {
    "duration": 48,
    "start_time": "2022-01-18T20:06:01.901Z"
   },
   {
    "duration": 28,
    "start_time": "2022-01-18T20:06:01.950Z"
   },
   {
    "duration": 53,
    "start_time": "2022-01-18T20:06:01.980Z"
   },
   {
    "duration": 31,
    "start_time": "2022-01-18T20:06:02.036Z"
   },
   {
    "duration": 24,
    "start_time": "2022-01-18T20:06:02.070Z"
   },
   {
    "duration": 45,
    "start_time": "2022-01-18T20:06:02.096Z"
   },
   {
    "duration": 21,
    "start_time": "2022-01-18T20:06:02.144Z"
   },
   {
    "duration": 22,
    "start_time": "2022-01-18T20:06:02.167Z"
   },
   {
    "duration": 28,
    "start_time": "2022-01-18T20:06:02.191Z"
   },
   {
    "duration": 30,
    "start_time": "2022-01-18T20:06:02.221Z"
   },
   {
    "duration": 54,
    "start_time": "2022-01-18T20:06:02.254Z"
   },
   {
    "duration": 24,
    "start_time": "2022-01-18T20:06:02.310Z"
   },
   {
    "duration": 4127,
    "start_time": "2022-01-18T20:06:02.337Z"
   },
   {
    "duration": 22,
    "start_time": "2022-01-18T20:06:06.467Z"
   },
   {
    "duration": 20,
    "start_time": "2022-01-18T20:06:06.490Z"
   },
   {
    "duration": 34,
    "start_time": "2022-01-18T20:06:06.512Z"
   },
   {
    "duration": 20,
    "start_time": "2022-01-18T20:06:06.547Z"
   },
   {
    "duration": 57,
    "start_time": "2022-01-18T20:06:06.569Z"
   },
   {
    "duration": 11,
    "start_time": "2022-01-18T20:06:06.629Z"
   },
   {
    "duration": 29,
    "start_time": "2022-01-18T20:06:06.642Z"
   },
   {
    "duration": 22,
    "start_time": "2022-01-18T20:06:06.673Z"
   },
   {
    "duration": 35,
    "start_time": "2022-01-18T20:06:06.699Z"
   },
   {
    "duration": 24,
    "start_time": "2022-01-18T20:06:06.736Z"
   },
   {
    "duration": 51,
    "start_time": "2022-01-18T20:06:06.762Z"
   },
   {
    "duration": 10,
    "start_time": "2022-01-18T20:06:06.815Z"
   },
   {
    "duration": 391,
    "start_time": "2022-01-18T20:06:06.827Z"
   },
   {
    "duration": 108,
    "start_time": "2022-01-18T20:06:07.112Z"
   },
   {
    "duration": 78,
    "start_time": "2022-01-18T20:06:07.144Z"
   },
   {
    "duration": 70,
    "start_time": "2022-01-18T20:06:07.153Z"
   },
   {
    "duration": 67,
    "start_time": "2022-01-18T20:06:07.158Z"
   },
   {
    "duration": 6505,
    "start_time": "2022-01-18T20:07:43.605Z"
   },
   {
    "duration": 6585,
    "start_time": "2022-01-18T20:08:06.581Z"
   },
   {
    "duration": 66,
    "start_time": "2022-01-18T20:08:16.435Z"
   },
   {
    "duration": 99,
    "start_time": "2022-01-18T20:08:16.502Z"
   },
   {
    "duration": 25,
    "start_time": "2022-01-18T20:08:16.604Z"
   },
   {
    "duration": 31,
    "start_time": "2022-01-18T20:08:16.631Z"
   },
   {
    "duration": 9,
    "start_time": "2022-01-18T20:08:16.664Z"
   },
   {
    "duration": 22,
    "start_time": "2022-01-18T20:08:16.675Z"
   },
   {
    "duration": 18,
    "start_time": "2022-01-18T20:08:16.698Z"
   },
   {
    "duration": 49,
    "start_time": "2022-01-18T20:08:16.718Z"
   },
   {
    "duration": 13,
    "start_time": "2022-01-18T20:08:16.770Z"
   },
   {
    "duration": 11,
    "start_time": "2022-01-18T20:08:16.786Z"
   },
   {
    "duration": 15,
    "start_time": "2022-01-18T20:08:16.799Z"
   },
   {
    "duration": 59,
    "start_time": "2022-01-18T20:08:16.816Z"
   },
   {
    "duration": 6,
    "start_time": "2022-01-18T20:08:16.878Z"
   },
   {
    "duration": 18,
    "start_time": "2022-01-18T20:08:16.885Z"
   },
   {
    "duration": 18,
    "start_time": "2022-01-18T20:08:16.905Z"
   },
   {
    "duration": 65,
    "start_time": "2022-01-18T20:08:16.925Z"
   },
   {
    "duration": 24,
    "start_time": "2022-01-18T20:08:16.992Z"
   },
   {
    "duration": 3836,
    "start_time": "2022-01-18T20:08:17.018Z"
   },
   {
    "duration": 19,
    "start_time": "2022-01-18T20:08:20.861Z"
   },
   {
    "duration": 6,
    "start_time": "2022-01-18T20:08:20.882Z"
   },
   {
    "duration": 11,
    "start_time": "2022-01-18T20:08:20.889Z"
   },
   {
    "duration": 4,
    "start_time": "2022-01-18T20:08:20.901Z"
   },
   {
    "duration": 21,
    "start_time": "2022-01-18T20:08:20.906Z"
   },
   {
    "duration": 36,
    "start_time": "2022-01-18T20:08:20.929Z"
   },
   {
    "duration": 13,
    "start_time": "2022-01-18T20:08:20.967Z"
   },
   {
    "duration": 4,
    "start_time": "2022-01-18T20:08:20.981Z"
   },
   {
    "duration": 19,
    "start_time": "2022-01-18T20:08:20.988Z"
   },
   {
    "duration": 6,
    "start_time": "2022-01-18T20:08:21.009Z"
   },
   {
    "duration": 57,
    "start_time": "2022-01-18T20:08:21.018Z"
   },
   {
    "duration": 8,
    "start_time": "2022-01-18T20:08:21.077Z"
   },
   {
    "duration": 7741,
    "start_time": "2022-01-18T20:08:21.086Z"
   },
   {
    "duration": 17,
    "start_time": "2022-01-18T20:08:58.375Z"
   },
   {
    "duration": 17,
    "start_time": "2022-01-18T20:09:16.573Z"
   },
   {
    "duration": 86,
    "start_time": "2022-01-18T20:09:43.759Z"
   },
   {
    "duration": 85,
    "start_time": "2022-01-18T20:09:48.405Z"
   },
   {
    "duration": 18,
    "start_time": "2022-01-18T20:09:58.634Z"
   },
   {
    "duration": 81,
    "start_time": "2022-01-18T20:10:18.169Z"
   },
   {
    "duration": 14,
    "start_time": "2022-01-18T20:10:49.092Z"
   },
   {
    "duration": 3,
    "start_time": "2022-01-18T20:31:06.989Z"
   },
   {
    "duration": 3,
    "start_time": "2022-01-18T20:31:10.175Z"
   },
   {
    "duration": 20,
    "start_time": "2022-01-18T21:01:45.477Z"
   },
   {
    "duration": 703,
    "start_time": "2022-01-18T21:08:28.922Z"
   },
   {
    "duration": 79,
    "start_time": "2022-01-18T21:08:29.627Z"
   },
   {
    "duration": 25,
    "start_time": "2022-01-18T21:08:29.709Z"
   },
   {
    "duration": 26,
    "start_time": "2022-01-18T21:08:29.736Z"
   },
   {
    "duration": 12,
    "start_time": "2022-01-18T21:08:29.764Z"
   },
   {
    "duration": 19,
    "start_time": "2022-01-18T21:08:29.778Z"
   },
   {
    "duration": 22,
    "start_time": "2022-01-18T21:08:29.799Z"
   },
   {
    "duration": 41,
    "start_time": "2022-01-18T21:08:29.824Z"
   },
   {
    "duration": 10,
    "start_time": "2022-01-18T21:08:29.867Z"
   },
   {
    "duration": 10,
    "start_time": "2022-01-18T21:08:29.878Z"
   },
   {
    "duration": 12,
    "start_time": "2022-01-18T21:08:29.889Z"
   },
   {
    "duration": 21,
    "start_time": "2022-01-18T21:08:29.902Z"
   },
   {
    "duration": 6,
    "start_time": "2022-01-18T21:08:29.924Z"
   },
   {
    "duration": 16,
    "start_time": "2022-01-18T21:08:29.961Z"
   },
   {
    "duration": 20,
    "start_time": "2022-01-18T21:08:29.978Z"
   },
   {
    "duration": 65,
    "start_time": "2022-01-18T21:08:29.999Z"
   },
   {
    "duration": 11,
    "start_time": "2022-01-18T21:08:30.065Z"
   },
   {
    "duration": 4211,
    "start_time": "2022-01-18T21:08:30.078Z"
   },
   {
    "duration": 22,
    "start_time": "2022-01-18T21:08:34.291Z"
   },
   {
    "duration": 6,
    "start_time": "2022-01-18T21:08:34.315Z"
   },
   {
    "duration": 11,
    "start_time": "2022-01-18T21:08:34.322Z"
   },
   {
    "duration": 5,
    "start_time": "2022-01-18T21:08:34.360Z"
   },
   {
    "duration": 22,
    "start_time": "2022-01-18T21:08:34.369Z"
   },
   {
    "duration": 8,
    "start_time": "2022-01-18T21:08:34.393Z"
   },
   {
    "duration": 8,
    "start_time": "2022-01-18T21:08:34.402Z"
   },
   {
    "duration": 4,
    "start_time": "2022-01-18T21:08:34.412Z"
   },
   {
    "duration": 49,
    "start_time": "2022-01-18T21:08:34.418Z"
   },
   {
    "duration": 7,
    "start_time": "2022-01-18T21:08:34.468Z"
   },
   {
    "duration": 28,
    "start_time": "2022-01-18T21:08:34.477Z"
   },
   {
    "duration": 13,
    "start_time": "2022-01-18T21:08:34.507Z"
   },
   {
    "duration": 13,
    "start_time": "2022-01-18T21:08:34.521Z"
   },
   {
    "duration": 28,
    "start_time": "2022-01-18T21:08:34.536Z"
   },
   {
    "duration": 306,
    "start_time": "2022-01-18T21:08:34.566Z"
   },
   {
    "duration": -62,
    "start_time": "2022-01-18T21:08:34.936Z"
   },
   {
    "duration": -70,
    "start_time": "2022-01-18T21:08:34.945Z"
   },
   {
    "duration": 74,
    "start_time": "2022-01-18T21:16:00.339Z"
   },
   {
    "duration": 101,
    "start_time": "2022-01-18T21:16:00.415Z"
   },
   {
    "duration": 23,
    "start_time": "2022-01-18T21:16:00.519Z"
   },
   {
    "duration": 6,
    "start_time": "2022-01-18T21:16:00.562Z"
   },
   {
    "duration": 17,
    "start_time": "2022-01-18T21:16:00.570Z"
   },
   {
    "duration": 25,
    "start_time": "2022-01-18T21:16:00.589Z"
   },
   {
    "duration": 18,
    "start_time": "2022-01-18T21:16:00.616Z"
   },
   {
    "duration": 38,
    "start_time": "2022-01-18T21:16:00.636Z"
   },
   {
    "duration": 16,
    "start_time": "2022-01-18T21:16:00.676Z"
   },
   {
    "duration": 11,
    "start_time": "2022-01-18T21:16:00.694Z"
   },
   {
    "duration": 27,
    "start_time": "2022-01-18T21:16:00.706Z"
   },
   {
    "duration": 28,
    "start_time": "2022-01-18T21:16:00.735Z"
   },
   {
    "duration": 6,
    "start_time": "2022-01-18T21:16:00.765Z"
   },
   {
    "duration": 44,
    "start_time": "2022-01-18T21:16:00.773Z"
   },
   {
    "duration": 31,
    "start_time": "2022-01-18T21:16:00.819Z"
   },
   {
    "duration": 41,
    "start_time": "2022-01-18T21:16:00.851Z"
   },
   {
    "duration": 28,
    "start_time": "2022-01-18T21:16:00.894Z"
   },
   {
    "duration": 4042,
    "start_time": "2022-01-18T21:16:00.924Z"
   },
   {
    "duration": 21,
    "start_time": "2022-01-18T21:16:04.968Z"
   },
   {
    "duration": 6,
    "start_time": "2022-01-18T21:16:04.991Z"
   },
   {
    "duration": 11,
    "start_time": "2022-01-18T21:16:04.999Z"
   },
   {
    "duration": 4,
    "start_time": "2022-01-18T21:16:05.012Z"
   },
   {
    "duration": 54,
    "start_time": "2022-01-18T21:16:05.018Z"
   },
   {
    "duration": 8,
    "start_time": "2022-01-18T21:16:05.074Z"
   },
   {
    "duration": 6,
    "start_time": "2022-01-18T21:16:05.084Z"
   },
   {
    "duration": 5,
    "start_time": "2022-01-18T21:16:05.092Z"
   },
   {
    "duration": 21,
    "start_time": "2022-01-18T21:16:05.100Z"
   },
   {
    "duration": 10,
    "start_time": "2022-01-18T21:16:05.124Z"
   },
   {
    "duration": 23,
    "start_time": "2022-01-18T21:16:05.162Z"
   },
   {
    "duration": 9,
    "start_time": "2022-01-18T21:16:05.187Z"
   },
   {
    "duration": 20,
    "start_time": "2022-01-18T21:16:05.198Z"
   },
   {
    "duration": 7,
    "start_time": "2022-01-18T21:16:05.220Z"
   },
   {
    "duration": 892,
    "start_time": "2022-01-18T21:16:05.228Z"
   },
   {
    "duration": -81,
    "start_time": "2022-01-18T21:16:06.203Z"
   },
   {
    "duration": -88,
    "start_time": "2022-01-18T21:16:06.211Z"
   },
   {
    "duration": 864,
    "start_time": "2022-01-19T12:40:14.806Z"
   },
   {
    "duration": 113,
    "start_time": "2022-01-19T12:40:15.673Z"
   },
   {
    "duration": 37,
    "start_time": "2022-01-19T12:40:15.789Z"
   },
   {
    "duration": 41,
    "start_time": "2022-01-19T12:40:15.829Z"
   },
   {
    "duration": 45,
    "start_time": "2022-01-19T12:40:15.872Z"
   },
   {
    "duration": 90,
    "start_time": "2022-01-19T12:40:15.920Z"
   },
   {
    "duration": 27,
    "start_time": "2022-01-19T12:40:16.013Z"
   },
   {
    "duration": 35,
    "start_time": "2022-01-19T12:40:16.044Z"
   },
   {
    "duration": 42,
    "start_time": "2022-01-19T12:40:16.082Z"
   },
   {
    "duration": 45,
    "start_time": "2022-01-19T12:40:16.127Z"
   },
   {
    "duration": 39,
    "start_time": "2022-01-19T12:40:16.175Z"
   },
   {
    "duration": 44,
    "start_time": "2022-01-19T12:40:16.217Z"
   },
   {
    "duration": 30,
    "start_time": "2022-01-19T12:40:16.264Z"
   },
   {
    "duration": 53,
    "start_time": "2022-01-19T12:40:16.297Z"
   },
   {
    "duration": 47,
    "start_time": "2022-01-19T12:40:16.353Z"
   },
   {
    "duration": 68,
    "start_time": "2022-01-19T12:40:16.403Z"
   },
   {
    "duration": 10,
    "start_time": "2022-01-19T12:40:16.474Z"
   },
   {
    "duration": 5893,
    "start_time": "2022-01-19T12:40:16.487Z"
   },
   {
    "duration": 35,
    "start_time": "2022-01-19T12:40:22.382Z"
   },
   {
    "duration": 37,
    "start_time": "2022-01-19T12:40:22.419Z"
   },
   {
    "duration": 46,
    "start_time": "2022-01-19T12:40:22.459Z"
   },
   {
    "duration": 20,
    "start_time": "2022-01-19T12:40:22.508Z"
   },
   {
    "duration": 62,
    "start_time": "2022-01-19T12:40:22.533Z"
   },
   {
    "duration": 42,
    "start_time": "2022-01-19T12:40:22.598Z"
   },
   {
    "duration": 67,
    "start_time": "2022-01-19T12:40:22.643Z"
   },
   {
    "duration": 31,
    "start_time": "2022-01-19T12:40:22.712Z"
   },
   {
    "duration": 60,
    "start_time": "2022-01-19T12:40:22.746Z"
   },
   {
    "duration": 46,
    "start_time": "2022-01-19T12:40:22.809Z"
   },
   {
    "duration": 51,
    "start_time": "2022-01-19T12:40:22.857Z"
   },
   {
    "duration": 30,
    "start_time": "2022-01-19T12:40:22.911Z"
   },
   {
    "duration": 51,
    "start_time": "2022-01-19T12:40:22.944Z"
   },
   {
    "duration": 38,
    "start_time": "2022-01-19T12:40:22.997Z"
   },
   {
    "duration": 437,
    "start_time": "2022-01-19T12:40:23.038Z"
   },
   {
    "duration": -14445046,
    "start_time": "2022-01-19T16:41:08.524Z"
   },
   {
    "duration": -14445049,
    "start_time": "2022-01-19T16:41:08.529Z"
   },
   {
    "duration": 291,
    "start_time": "2022-01-19T16:28:15.083Z"
   },
   {
    "duration": 240,
    "start_time": "2022-01-19T16:28:18.273Z"
   },
   {
    "duration": 248,
    "start_time": "2022-01-19T16:30:52.820Z"
   },
   {
    "duration": 683,
    "start_time": "2022-01-19T16:31:00.365Z"
   },
   {
    "duration": 80,
    "start_time": "2022-01-19T16:31:01.050Z"
   },
   {
    "duration": 39,
    "start_time": "2022-01-19T16:31:01.132Z"
   },
   {
    "duration": 7,
    "start_time": "2022-01-19T16:31:01.173Z"
   },
   {
    "duration": 38,
    "start_time": "2022-01-19T16:31:01.181Z"
   },
   {
    "duration": 23,
    "start_time": "2022-01-19T16:31:01.221Z"
   },
   {
    "duration": 28,
    "start_time": "2022-01-19T16:31:01.246Z"
   },
   {
    "duration": 56,
    "start_time": "2022-01-19T16:31:01.277Z"
   },
   {
    "duration": 47,
    "start_time": "2022-01-19T16:31:01.335Z"
   },
   {
    "duration": 39,
    "start_time": "2022-01-19T16:31:01.384Z"
   },
   {
    "duration": 12,
    "start_time": "2022-01-19T16:31:01.425Z"
   },
   {
    "duration": 21,
    "start_time": "2022-01-19T16:31:01.440Z"
   },
   {
    "duration": 6,
    "start_time": "2022-01-19T16:31:01.463Z"
   },
   {
    "duration": 20,
    "start_time": "2022-01-19T16:31:01.471Z"
   },
   {
    "duration": 28,
    "start_time": "2022-01-19T16:31:01.493Z"
   },
   {
    "duration": 66,
    "start_time": "2022-01-19T16:31:01.524Z"
   },
   {
    "duration": 24,
    "start_time": "2022-01-19T16:31:01.592Z"
   },
   {
    "duration": 3858,
    "start_time": "2022-01-19T16:31:01.620Z"
   },
   {
    "duration": 21,
    "start_time": "2022-01-19T16:31:05.480Z"
   },
   {
    "duration": 13,
    "start_time": "2022-01-19T16:31:05.502Z"
   },
   {
    "duration": 17,
    "start_time": "2022-01-19T16:31:05.517Z"
   },
   {
    "duration": 5,
    "start_time": "2022-01-19T16:31:05.536Z"
   },
   {
    "duration": 19,
    "start_time": "2022-01-19T16:31:05.560Z"
   },
   {
    "duration": 18,
    "start_time": "2022-01-19T16:31:05.581Z"
   },
   {
    "duration": 6,
    "start_time": "2022-01-19T16:31:05.601Z"
   },
   {
    "duration": 6,
    "start_time": "2022-01-19T16:31:05.609Z"
   },
   {
    "duration": 44,
    "start_time": "2022-01-19T16:31:05.616Z"
   },
   {
    "duration": 8,
    "start_time": "2022-01-19T16:31:05.662Z"
   },
   {
    "duration": 22,
    "start_time": "2022-01-19T16:31:05.672Z"
   },
   {
    "duration": 13,
    "start_time": "2022-01-19T16:31:05.696Z"
   },
   {
    "duration": 14,
    "start_time": "2022-01-19T16:31:05.711Z"
   },
   {
    "duration": 37,
    "start_time": "2022-01-19T16:31:05.726Z"
   },
   {
    "duration": 23,
    "start_time": "2022-01-19T16:31:05.765Z"
   },
   {
    "duration": 19,
    "start_time": "2022-01-19T16:31:05.790Z"
   },
   {
    "duration": 20,
    "start_time": "2022-01-19T16:31:05.810Z"
   },
   {
    "duration": 91,
    "start_time": "2022-01-19T16:32:44.286Z"
   },
   {
    "duration": 628,
    "start_time": "2022-01-19T16:33:48.508Z"
   },
   {
    "duration": 74,
    "start_time": "2022-01-19T16:33:49.138Z"
   },
   {
    "duration": 47,
    "start_time": "2022-01-19T16:33:49.214Z"
   },
   {
    "duration": 6,
    "start_time": "2022-01-19T16:33:49.263Z"
   },
   {
    "duration": 10,
    "start_time": "2022-01-19T16:33:49.271Z"
   },
   {
    "duration": 37,
    "start_time": "2022-01-19T16:33:49.282Z"
   },
   {
    "duration": 20,
    "start_time": "2022-01-19T16:33:49.321Z"
   },
   {
    "duration": 27,
    "start_time": "2022-01-19T16:33:49.342Z"
   },
   {
    "duration": 18,
    "start_time": "2022-01-19T16:33:49.371Z"
   },
   {
    "duration": 12,
    "start_time": "2022-01-19T16:33:49.391Z"
   },
   {
    "duration": 20,
    "start_time": "2022-01-19T16:33:49.404Z"
   },
   {
    "duration": 22,
    "start_time": "2022-01-19T16:33:49.426Z"
   },
   {
    "duration": 10,
    "start_time": "2022-01-19T16:33:49.450Z"
   },
   {
    "duration": 36,
    "start_time": "2022-01-19T16:33:49.462Z"
   },
   {
    "duration": 38,
    "start_time": "2022-01-19T16:33:49.500Z"
   },
   {
    "duration": 37,
    "start_time": "2022-01-19T16:33:49.540Z"
   },
   {
    "duration": 10,
    "start_time": "2022-01-19T16:33:49.579Z"
   },
   {
    "duration": 3900,
    "start_time": "2022-01-19T16:33:49.591Z"
   },
   {
    "duration": 20,
    "start_time": "2022-01-19T16:33:53.493Z"
   },
   {
    "duration": 7,
    "start_time": "2022-01-19T16:33:53.515Z"
   },
   {
    "duration": 13,
    "start_time": "2022-01-19T16:33:53.523Z"
   },
   {
    "duration": 25,
    "start_time": "2022-01-19T16:33:53.537Z"
   },
   {
    "duration": 23,
    "start_time": "2022-01-19T16:33:53.564Z"
   },
   {
    "duration": 9,
    "start_time": "2022-01-19T16:33:53.589Z"
   },
   {
    "duration": 11,
    "start_time": "2022-01-19T16:33:53.600Z"
   },
   {
    "duration": 4,
    "start_time": "2022-01-19T16:33:53.613Z"
   },
   {
    "duration": 41,
    "start_time": "2022-01-19T16:33:53.621Z"
   },
   {
    "duration": 7,
    "start_time": "2022-01-19T16:33:53.664Z"
   },
   {
    "duration": 25,
    "start_time": "2022-01-19T16:33:53.673Z"
   },
   {
    "duration": 14,
    "start_time": "2022-01-19T16:33:53.700Z"
   },
   {
    "duration": 15,
    "start_time": "2022-01-19T16:33:53.716Z"
   },
   {
    "duration": 9,
    "start_time": "2022-01-19T16:33:53.761Z"
   },
   {
    "duration": 21,
    "start_time": "2022-01-19T16:33:53.773Z"
   },
   {
    "duration": 17,
    "start_time": "2022-01-19T16:33:53.796Z"
   },
   {
    "duration": 47,
    "start_time": "2022-01-19T16:33:53.815Z"
   }
  ],
  "kernelspec": {
   "display_name": "Python 3 (ipykernel)",
   "language": "python",
   "name": "python3"
  },
  "language_info": {
   "codemirror_mode": {
    "name": "ipython",
    "version": 3
   },
   "file_extension": ".py",
   "mimetype": "text/x-python",
   "name": "python",
   "nbconvert_exporter": "python",
   "pygments_lexer": "ipython3",
   "version": "3.9.7"
  },
  "toc": {
   "base_numbering": 1,
   "nav_menu": {},
   "number_sections": true,
   "sideBar": true,
   "skip_h1_title": true,
   "title_cell": "Table of Contents",
   "title_sidebar": "Contents",
   "toc_cell": false,
   "toc_position": {},
   "toc_section_display": true,
   "toc_window_display": false
  }
 },
 "nbformat": 4,
 "nbformat_minor": 2
}
