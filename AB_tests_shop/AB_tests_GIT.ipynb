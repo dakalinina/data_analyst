{
 "cells": [
  {
   "cell_type": "code",
   "execution_count": 4,
   "metadata": {
    "scrolled": false
   },
   "outputs": [],
   "source": [
    "import pandas as pd\n",
    "import matplotlib.pyplot as plt\n",
    "import numpy as np\n",
    "from datetime import datetime, timedelta\n",
    "import datetime as dt\n",
    "import seaborn as sns\n",
    "from scipy import stats as st\n",
    "import math as mth\n",
    "from pandas.plotting import register_matplotlib_converters\n",
    "import warnings\n",
    "register_matplotlib_converters()\n",
    "import scipy.stats as stats"
   ]
  },
  {
   "cell_type": "markdown",
   "metadata": {},
   "source": [
    "## Приоретизация гипотез"
   ]
  },
  {
   "cell_type": "code",
   "execution_count": 5,
   "metadata": {},
   "outputs": [
    {
     "data": {
      "text/html": [
       "<div>\n",
       "<style scoped>\n",
       "    .dataframe tbody tr th:only-of-type {\n",
       "        vertical-align: middle;\n",
       "    }\n",
       "\n",
       "    .dataframe tbody tr th {\n",
       "        vertical-align: top;\n",
       "    }\n",
       "\n",
       "    .dataframe thead th {\n",
       "        text-align: right;\n",
       "    }\n",
       "</style>\n",
       "<table border=\"1\" class=\"dataframe\">\n",
       "  <thead>\n",
       "    <tr style=\"text-align: right;\">\n",
       "      <th></th>\n",
       "      <th>Hypothesis</th>\n",
       "      <th>Reach</th>\n",
       "      <th>Impact</th>\n",
       "      <th>Confidence</th>\n",
       "      <th>Efforts</th>\n",
       "    </tr>\n",
       "  </thead>\n",
       "  <tbody>\n",
       "    <tr>\n",
       "      <th>0</th>\n",
       "      <td>Добавить два новых канала привлечения трафика, что позволит привлекать на 30% больше пользователей</td>\n",
       "      <td>3</td>\n",
       "      <td>10</td>\n",
       "      <td>8</td>\n",
       "      <td>6</td>\n",
       "    </tr>\n",
       "    <tr>\n",
       "      <th>1</th>\n",
       "      <td>Запустить собственную службу доставки, что сократит срок доставки заказов</td>\n",
       "      <td>2</td>\n",
       "      <td>5</td>\n",
       "      <td>4</td>\n",
       "      <td>10</td>\n",
       "    </tr>\n",
       "    <tr>\n",
       "      <th>2</th>\n",
       "      <td>Добавить блоки рекомендаций товаров на сайт интернет магазина, чтобы повысить конверсию и средни...</td>\n",
       "      <td>8</td>\n",
       "      <td>3</td>\n",
       "      <td>7</td>\n",
       "      <td>3</td>\n",
       "    </tr>\n",
       "    <tr>\n",
       "      <th>3</th>\n",
       "      <td>Изменить структура категорий, что увеличит конверсию, т.к. пользователи быстрее найдут нужный товар</td>\n",
       "      <td>8</td>\n",
       "      <td>3</td>\n",
       "      <td>3</td>\n",
       "      <td>8</td>\n",
       "    </tr>\n",
       "    <tr>\n",
       "      <th>4</th>\n",
       "      <td>Изменить цвет фона главной страницы, чтобы увеличить вовлеченность пользователей</td>\n",
       "      <td>3</td>\n",
       "      <td>1</td>\n",
       "      <td>1</td>\n",
       "      <td>1</td>\n",
       "    </tr>\n",
       "  </tbody>\n",
       "</table>\n",
       "</div>"
      ],
      "text/plain": [
       "                                                                                            Hypothesis  \\\n",
       "0   Добавить два новых канала привлечения трафика, что позволит привлекать на 30% больше пользователей   \n",
       "1                            Запустить собственную службу доставки, что сократит срок доставки заказов   \n",
       "2  Добавить блоки рекомендаций товаров на сайт интернет магазина, чтобы повысить конверсию и средни...   \n",
       "3  Изменить структура категорий, что увеличит конверсию, т.к. пользователи быстрее найдут нужный товар   \n",
       "4                     Изменить цвет фона главной страницы, чтобы увеличить вовлеченность пользователей   \n",
       "\n",
       "   Reach  Impact  Confidence  Efforts  \n",
       "0      3      10           8        6  \n",
       "1      2       5           4       10  \n",
       "2      8       3           7        3  \n",
       "3      8       3           3        8  \n",
       "4      3       1           1        1  "
      ]
     },
     "metadata": {},
     "output_type": "display_data"
    }
   ],
   "source": [
    "hypothesis = pd.read_csv('/Users/dasakalinina/Desktop/Practicum/_all_projects/AB_tests/hypothesis.csv')\n",
    "pd.options.display.max_colwidth = 100\n",
    "display(hypothesis.head())"
   ]
  },
  {
   "cell_type": "markdown",
   "metadata": {},
   "source": [
    "### Оценка гипотез методом ICE"
   ]
  },
  {
   "cell_type": "code",
   "execution_count": 6,
   "metadata": {
    "scrolled": true
   },
   "outputs": [
    {
     "data": {
      "text/html": [
       "<div>\n",
       "<style scoped>\n",
       "    .dataframe tbody tr th:only-of-type {\n",
       "        vertical-align: middle;\n",
       "    }\n",
       "\n",
       "    .dataframe tbody tr th {\n",
       "        vertical-align: top;\n",
       "    }\n",
       "\n",
       "    .dataframe thead th {\n",
       "        text-align: right;\n",
       "    }\n",
       "</style>\n",
       "<table border=\"1\" class=\"dataframe\">\n",
       "  <thead>\n",
       "    <tr style=\"text-align: right;\">\n",
       "      <th></th>\n",
       "      <th>Hypothesis</th>\n",
       "      <th>ICE</th>\n",
       "    </tr>\n",
       "  </thead>\n",
       "  <tbody>\n",
       "    <tr>\n",
       "      <th>8</th>\n",
       "      <td>Запустить акцию, дающую скидку на товар в день рождения</td>\n",
       "      <td>16.200000</td>\n",
       "    </tr>\n",
       "    <tr>\n",
       "      <th>0</th>\n",
       "      <td>Добавить два новых канала привлечения трафика, что позволит привлекать на 30% больше пользователей</td>\n",
       "      <td>13.333333</td>\n",
       "    </tr>\n",
       "    <tr>\n",
       "      <th>7</th>\n",
       "      <td>Добавить форму подписки на все основные страницы, чтобы собрать базу клиентов для email-рассылок</td>\n",
       "      <td>11.200000</td>\n",
       "    </tr>\n",
       "    <tr>\n",
       "      <th>6</th>\n",
       "      <td>Показать на главной странице баннеры с актуальными акциями и распродажами, чтобы увеличить конве...</td>\n",
       "      <td>8.000000</td>\n",
       "    </tr>\n",
       "    <tr>\n",
       "      <th>2</th>\n",
       "      <td>Добавить блоки рекомендаций товаров на сайт интернет магазина, чтобы повысить конверсию и средни...</td>\n",
       "      <td>7.000000</td>\n",
       "    </tr>\n",
       "    <tr>\n",
       "      <th>1</th>\n",
       "      <td>Запустить собственную службу доставки, что сократит срок доставки заказов</td>\n",
       "      <td>2.000000</td>\n",
       "    </tr>\n",
       "    <tr>\n",
       "      <th>5</th>\n",
       "      <td>Добавить страницу отзывов клиентов о магазине, что позволит увеличить количество заказов</td>\n",
       "      <td>1.333333</td>\n",
       "    </tr>\n",
       "    <tr>\n",
       "      <th>3</th>\n",
       "      <td>Изменить структура категорий, что увеличит конверсию, т.к. пользователи быстрее найдут нужный товар</td>\n",
       "      <td>1.125000</td>\n",
       "    </tr>\n",
       "    <tr>\n",
       "      <th>4</th>\n",
       "      <td>Изменить цвет фона главной страницы, чтобы увеличить вовлеченность пользователей</td>\n",
       "      <td>1.000000</td>\n",
       "    </tr>\n",
       "  </tbody>\n",
       "</table>\n",
       "</div>"
      ],
      "text/plain": [
       "                                                                                            Hypothesis  \\\n",
       "8                                              Запустить акцию, дающую скидку на товар в день рождения   \n",
       "0   Добавить два новых канала привлечения трафика, что позволит привлекать на 30% больше пользователей   \n",
       "7     Добавить форму подписки на все основные страницы, чтобы собрать базу клиентов для email-рассылок   \n",
       "6  Показать на главной странице баннеры с актуальными акциями и распродажами, чтобы увеличить конве...   \n",
       "2  Добавить блоки рекомендаций товаров на сайт интернет магазина, чтобы повысить конверсию и средни...   \n",
       "1                            Запустить собственную службу доставки, что сократит срок доставки заказов   \n",
       "5             Добавить страницу отзывов клиентов о магазине, что позволит увеличить количество заказов   \n",
       "3  Изменить структура категорий, что увеличит конверсию, т.к. пользователи быстрее найдут нужный товар   \n",
       "4                     Изменить цвет фона главной страницы, чтобы увеличить вовлеченность пользователей   \n",
       "\n",
       "         ICE  \n",
       "8  16.200000  \n",
       "0  13.333333  \n",
       "7  11.200000  \n",
       "6   8.000000  \n",
       "2   7.000000  \n",
       "1   2.000000  \n",
       "5   1.333333  \n",
       "3   1.125000  \n",
       "4   1.000000  "
      ]
     },
     "metadata": {},
     "output_type": "display_data"
    }
   ],
   "source": [
    "hypothesis['ICE'] = (hypothesis['Impact']*hypothesis['Confidence'])/hypothesis['Efforts']\n",
    "display(hypothesis[['Hypothesis', 'ICE']].sort_values(by='ICE', ascending=False))"
   ]
  },
  {
   "cell_type": "markdown",
   "metadata": {},
   "source": [
    "При приоритизации гипотез методом ICE приоритет у 9 гипотезы (8 в индексах) - запустить акцию, дающую скидку на товар в день рождения."
   ]
  },
  {
   "cell_type": "markdown",
   "metadata": {},
   "source": [
    "### Оценка гипотез методом RICE"
   ]
  },
  {
   "cell_type": "code",
   "execution_count": 7,
   "metadata": {},
   "outputs": [
    {
     "data": {
      "text/html": [
       "<div>\n",
       "<style scoped>\n",
       "    .dataframe tbody tr th:only-of-type {\n",
       "        vertical-align: middle;\n",
       "    }\n",
       "\n",
       "    .dataframe tbody tr th {\n",
       "        vertical-align: top;\n",
       "    }\n",
       "\n",
       "    .dataframe thead th {\n",
       "        text-align: right;\n",
       "    }\n",
       "</style>\n",
       "<table border=\"1\" class=\"dataframe\">\n",
       "  <thead>\n",
       "    <tr style=\"text-align: right;\">\n",
       "      <th></th>\n",
       "      <th>Hypothesis</th>\n",
       "      <th>RICE</th>\n",
       "    </tr>\n",
       "  </thead>\n",
       "  <tbody>\n",
       "    <tr>\n",
       "      <th>7</th>\n",
       "      <td>Добавить форму подписки на все основные страницы, чтобы собрать базу клиентов для email-рассылок</td>\n",
       "      <td>112.0</td>\n",
       "    </tr>\n",
       "    <tr>\n",
       "      <th>2</th>\n",
       "      <td>Добавить блоки рекомендаций товаров на сайт интернет магазина, чтобы повысить конверсию и средни...</td>\n",
       "      <td>56.0</td>\n",
       "    </tr>\n",
       "    <tr>\n",
       "      <th>0</th>\n",
       "      <td>Добавить два новых канала привлечения трафика, что позволит привлекать на 30% больше пользователей</td>\n",
       "      <td>40.0</td>\n",
       "    </tr>\n",
       "    <tr>\n",
       "      <th>6</th>\n",
       "      <td>Показать на главной странице баннеры с актуальными акциями и распродажами, чтобы увеличить конве...</td>\n",
       "      <td>40.0</td>\n",
       "    </tr>\n",
       "    <tr>\n",
       "      <th>8</th>\n",
       "      <td>Запустить акцию, дающую скидку на товар в день рождения</td>\n",
       "      <td>16.2</td>\n",
       "    </tr>\n",
       "    <tr>\n",
       "      <th>3</th>\n",
       "      <td>Изменить структура категорий, что увеличит конверсию, т.к. пользователи быстрее найдут нужный товар</td>\n",
       "      <td>9.0</td>\n",
       "    </tr>\n",
       "    <tr>\n",
       "      <th>1</th>\n",
       "      <td>Запустить собственную службу доставки, что сократит срок доставки заказов</td>\n",
       "      <td>4.0</td>\n",
       "    </tr>\n",
       "    <tr>\n",
       "      <th>5</th>\n",
       "      <td>Добавить страницу отзывов клиентов о магазине, что позволит увеличить количество заказов</td>\n",
       "      <td>4.0</td>\n",
       "    </tr>\n",
       "    <tr>\n",
       "      <th>4</th>\n",
       "      <td>Изменить цвет фона главной страницы, чтобы увеличить вовлеченность пользователей</td>\n",
       "      <td>3.0</td>\n",
       "    </tr>\n",
       "  </tbody>\n",
       "</table>\n",
       "</div>"
      ],
      "text/plain": [
       "                                                                                            Hypothesis  \\\n",
       "7     Добавить форму подписки на все основные страницы, чтобы собрать базу клиентов для email-рассылок   \n",
       "2  Добавить блоки рекомендаций товаров на сайт интернет магазина, чтобы повысить конверсию и средни...   \n",
       "0   Добавить два новых канала привлечения трафика, что позволит привлекать на 30% больше пользователей   \n",
       "6  Показать на главной странице баннеры с актуальными акциями и распродажами, чтобы увеличить конве...   \n",
       "8                                              Запустить акцию, дающую скидку на товар в день рождения   \n",
       "3  Изменить структура категорий, что увеличит конверсию, т.к. пользователи быстрее найдут нужный товар   \n",
       "1                            Запустить собственную службу доставки, что сократит срок доставки заказов   \n",
       "5             Добавить страницу отзывов клиентов о магазине, что позволит увеличить количество заказов   \n",
       "4                     Изменить цвет фона главной страницы, чтобы увеличить вовлеченность пользователей   \n",
       "\n",
       "    RICE  \n",
       "7  112.0  \n",
       "2   56.0  \n",
       "0   40.0  \n",
       "6   40.0  \n",
       "8   16.2  \n",
       "3    9.0  \n",
       "1    4.0  \n",
       "5    4.0  \n",
       "4    3.0  "
      ]
     },
     "metadata": {},
     "output_type": "display_data"
    }
   ],
   "source": [
    "hypothesis['RICE'] = (hypothesis['Impact']*hypothesis['Confidence']*hypothesis['Reach'])/hypothesis['Efforts']\n",
    "display(hypothesis[['Hypothesis', 'RICE']].sort_values(by='RICE', ascending=False))"
   ]
  },
  {
   "cell_type": "markdown",
   "metadata": {},
   "source": [
    "При приоритизации гипотез методом RICE приоритет у 8 гипотезы (7 в индексе) - добавить форму подписки на все основные страницы, чтобы собрать базу клиентов для email-рассылок."
   ]
  },
  {
   "cell_type": "code",
   "execution_count": 35,
   "metadata": {
    "scrolled": false
   },
   "outputs": [
    {
     "data": {
      "image/png": "[encoded data removed]",
      "text/plain": [
       "<Figure size 432x288 with 1 Axes>"
      ]
     },
     "metadata": {
      "needs_background": "light"
     },
     "output_type": "display_data"
    }
   ],
   "source": [
    "y = hypothesis['ICE'] \n",
    "z = hypothesis['RICE'] \n",
    "n = hypothesis.index \n",
    "\n",
    "fig, ax = plt.subplots()\n",
    "ax.scatter(z, y)\n",
    "\n",
    "for i, txt in enumerate(n):\n",
    "    ax.annotate(txt, (z[i], y[i]))\n",
    "\n",
    "plt.title(\"ICE and RICE гипотезы\") \n",
    "plt.xlabel(\"RICE\") \n",
    "plt.ylabel(\"ICE\")\n",
    "plt.show()"
   ]
  },
  {
   "cell_type": "markdown",
   "metadata": {},
   "source": [
    "**Выводы:**"
   ]
  },
  {
   "cell_type": "markdown",
   "metadata": {},
   "source": [
    "Разница в двух методах - ICE и RICE - проверки гипотез заключается в том, что при проверке методом RICE помимо воздействия, усилий и уверенности в корректности, учитывается еще и показатель охвата аудитории. Получается, что добавление формы подписки, охватив большую часть пользователей, приведет к более существенным результатам для комании, чем даже проведение акции, которое хоть и является перспективной гипотезой для реализации с точки зрения воздействия, уверенности в результате и в относительной легкости по усилиям, тем не менее, охватывает лишь малую часть клиентов."
   ]
  },
  {
   "cell_type": "markdown",
   "metadata": {},
   "source": [
    "## Анализ A/B теста"
   ]
  },
  {
   "cell_type": "code",
   "execution_count": 10,
   "metadata": {
    "scrolled": true
   },
   "outputs": [
    {
     "data": {
      "text/html": [
       "<div>\n",
       "<style scoped>\n",
       "    .dataframe tbody tr th:only-of-type {\n",
       "        vertical-align: middle;\n",
       "    }\n",
       "\n",
       "    .dataframe tbody tr th {\n",
       "        vertical-align: top;\n",
       "    }\n",
       "\n",
       "    .dataframe thead th {\n",
       "        text-align: right;\n",
       "    }\n",
       "</style>\n",
       "<table border=\"1\" class=\"dataframe\">\n",
       "  <thead>\n",
       "    <tr style=\"text-align: right;\">\n",
       "      <th></th>\n",
       "      <th>transactionId</th>\n",
       "      <th>visitorId</th>\n",
       "      <th>date</th>\n",
       "      <th>revenue</th>\n",
       "      <th>group</th>\n",
       "    </tr>\n",
       "  </thead>\n",
       "  <tbody>\n",
       "    <tr>\n",
       "      <th>0</th>\n",
       "      <td>3667963787</td>\n",
       "      <td>3312258926</td>\n",
       "      <td>2019-08-15</td>\n",
       "      <td>1650</td>\n",
       "      <td>B</td>\n",
       "    </tr>\n",
       "    <tr>\n",
       "      <th>1</th>\n",
       "      <td>2804400009</td>\n",
       "      <td>3642806036</td>\n",
       "      <td>2019-08-15</td>\n",
       "      <td>730</td>\n",
       "      <td>B</td>\n",
       "    </tr>\n",
       "    <tr>\n",
       "      <th>2</th>\n",
       "      <td>2961555356</td>\n",
       "      <td>4069496402</td>\n",
       "      <td>2019-08-15</td>\n",
       "      <td>400</td>\n",
       "      <td>A</td>\n",
       "    </tr>\n",
       "    <tr>\n",
       "      <th>3</th>\n",
       "      <td>3797467345</td>\n",
       "      <td>1196621759</td>\n",
       "      <td>2019-08-15</td>\n",
       "      <td>9759</td>\n",
       "      <td>B</td>\n",
       "    </tr>\n",
       "    <tr>\n",
       "      <th>4</th>\n",
       "      <td>2282983706</td>\n",
       "      <td>2322279887</td>\n",
       "      <td>2019-08-15</td>\n",
       "      <td>2308</td>\n",
       "      <td>B</td>\n",
       "    </tr>\n",
       "  </tbody>\n",
       "</table>\n",
       "</div>"
      ],
      "text/plain": [
       "   transactionId   visitorId        date  revenue group\n",
       "0     3667963787  3312258926  2019-08-15     1650     B\n",
       "1     2804400009  3642806036  2019-08-15      730     B\n",
       "2     2961555356  4069496402  2019-08-15      400     A\n",
       "3     3797467345  1196621759  2019-08-15     9759     B\n",
       "4     2282983706  2322279887  2019-08-15     2308     B"
      ]
     },
     "metadata": {},
     "output_type": "display_data"
    },
    {
     "data": {
      "text/html": [
       "<div>\n",
       "<style scoped>\n",
       "    .dataframe tbody tr th:only-of-type {\n",
       "        vertical-align: middle;\n",
       "    }\n",
       "\n",
       "    .dataframe tbody tr th {\n",
       "        vertical-align: top;\n",
       "    }\n",
       "\n",
       "    .dataframe thead th {\n",
       "        text-align: right;\n",
       "    }\n",
       "</style>\n",
       "<table border=\"1\" class=\"dataframe\">\n",
       "  <thead>\n",
       "    <tr style=\"text-align: right;\">\n",
       "      <th></th>\n",
       "      <th>date</th>\n",
       "      <th>group</th>\n",
       "      <th>visitors</th>\n",
       "    </tr>\n",
       "  </thead>\n",
       "  <tbody>\n",
       "    <tr>\n",
       "      <th>0</th>\n",
       "      <td>2019-08-01</td>\n",
       "      <td>A</td>\n",
       "      <td>719</td>\n",
       "    </tr>\n",
       "    <tr>\n",
       "      <th>1</th>\n",
       "      <td>2019-08-02</td>\n",
       "      <td>A</td>\n",
       "      <td>619</td>\n",
       "    </tr>\n",
       "    <tr>\n",
       "      <th>2</th>\n",
       "      <td>2019-08-03</td>\n",
       "      <td>A</td>\n",
       "      <td>507</td>\n",
       "    </tr>\n",
       "    <tr>\n",
       "      <th>3</th>\n",
       "      <td>2019-08-04</td>\n",
       "      <td>A</td>\n",
       "      <td>717</td>\n",
       "    </tr>\n",
       "    <tr>\n",
       "      <th>4</th>\n",
       "      <td>2019-08-05</td>\n",
       "      <td>A</td>\n",
       "      <td>756</td>\n",
       "    </tr>\n",
       "  </tbody>\n",
       "</table>\n",
       "</div>"
      ],
      "text/plain": [
       "         date group  visitors\n",
       "0  2019-08-01     A       719\n",
       "1  2019-08-02     A       619\n",
       "2  2019-08-03     A       507\n",
       "3  2019-08-04     A       717\n",
       "4  2019-08-05     A       756"
      ]
     },
     "metadata": {},
     "output_type": "display_data"
    }
   ],
   "source": [
    "orders = pd.read_csv('/Users/dasakalinina/Desktop/Practicum/_all_projects/AB_tests/orders.csv')\n",
    "visitors = pd.read_csv('/Users/dasakalinina/Desktop/Practicum/_all_projects/AB_tests/visitors.csv')\n",
    "\n",
    "display(orders.head())\n",
    "display(visitors.head())"
   ]
  },
  {
   "cell_type": "code",
   "execution_count": 11,
   "metadata": {},
   "outputs": [
    {
     "name": "stdout",
     "output_type": "stream",
     "text": [
      "<class 'pandas.core.frame.DataFrame'>\n",
      "RangeIndex: 1197 entries, 0 to 1196\n",
      "Data columns (total 5 columns):\n",
      " #   Column         Non-Null Count  Dtype \n",
      "---  ------         --------------  ----- \n",
      " 0   transactionId  1197 non-null   int64 \n",
      " 1   visitorId      1197 non-null   int64 \n",
      " 2   date           1197 non-null   object\n",
      " 3   revenue        1197 non-null   int64 \n",
      " 4   group          1197 non-null   object\n",
      "dtypes: int64(3), object(2)\n",
      "memory usage: 46.9+ KB\n",
      "<class 'pandas.core.frame.DataFrame'>\n",
      "RangeIndex: 62 entries, 0 to 61\n",
      "Data columns (total 3 columns):\n",
      " #   Column    Non-Null Count  Dtype \n",
      "---  ------    --------------  ----- \n",
      " 0   date      62 non-null     object\n",
      " 1   group     62 non-null     object\n",
      " 2   visitors  62 non-null     int64 \n",
      "dtypes: int64(1), object(2)\n",
      "memory usage: 1.6+ KB\n",
      "Общее число дубликатов в заказах: 0\n",
      "Общее число дубликатов в посещениях: 0\n",
      "Общее число пропущенных значений в заказах: transactionId    0\n",
      "visitorId        0\n",
      "date             0\n",
      "revenue          0\n",
      "group            0\n",
      "dtype: int64\n",
      "Общее число пропущенных значений в посещениях: date        0\n",
      "group       0\n",
      "visitors    0\n",
      "dtype: int64\n"
     ]
    }
   ],
   "source": [
    "#общая информация о данных\n",
    "orders.info()\n",
    "visitors.info()\n",
    "\n",
    "#проверяю дубликаты\n",
    "print('Общее число дубликатов в заказах:', orders.duplicated().sum())\n",
    "print('Общее число дубликатов в посещениях:', visitors.duplicated().sum())\n",
    "\n",
    "#проверяю пропуски\n",
    "print('Общее число пропущенных значений в заказах:', orders.isna().sum())\n",
    "print('Общее число пропущенных значений в посещениях:', visitors.isna().sum())"
   ]
  },
  {
   "cell_type": "markdown",
   "metadata": {},
   "source": [
    "<b>Выводы:</b> <br>\n",
    "- таблица orders состоит из 1197 строк, пропущенные значения и дубликаты отсутствуют\n",
    "- таблица visitors состоит из 62 строк, пропущенные значения и дубликаты отсутствуют \n",
    "- столбцы date надо привести к формату to_datetime\n",
    "</div> "
   ]
  },
  {
   "cell_type": "code",
   "execution_count": 12,
   "metadata": {},
   "outputs": [
    {
     "name": "stdout",
     "output_type": "stream",
     "text": [
      "<class 'pandas.core.frame.DataFrame'>\n",
      "RangeIndex: 1197 entries, 0 to 1196\n",
      "Data columns (total 5 columns):\n",
      " #   Column         Non-Null Count  Dtype         \n",
      "---  ------         --------------  -----         \n",
      " 0   transactionId  1197 non-null   int64         \n",
      " 1   visitorId      1197 non-null   int64         \n",
      " 2   date           1197 non-null   datetime64[ns]\n",
      " 3   revenue        1197 non-null   int64         \n",
      " 4   group          1197 non-null   object        \n",
      "dtypes: datetime64[ns](1), int64(3), object(1)\n",
      "memory usage: 46.9+ KB\n",
      "<class 'pandas.core.frame.DataFrame'>\n",
      "RangeIndex: 62 entries, 0 to 61\n",
      "Data columns (total 3 columns):\n",
      " #   Column    Non-Null Count  Dtype         \n",
      "---  ------    --------------  -----         \n",
      " 0   date      62 non-null     datetime64[ns]\n",
      " 1   group     62 non-null     object        \n",
      " 2   visitors  62 non-null     int64         \n",
      "dtypes: datetime64[ns](1), int64(1), object(1)\n",
      "memory usage: 1.6+ KB\n",
      "   transactionId   visitorId       date  revenue group\n",
      "0     3667963787  3312258926 2019-08-15     1650     B\n",
      "1     2804400009  3642806036 2019-08-15      730     B\n",
      "2     2961555356  4069496402 2019-08-15      400     A\n",
      "3     3797467345  1196621759 2019-08-15     9759     B\n",
      "4     2282983706  2322279887 2019-08-15     2308     B         date group  visitors\n",
      "0 2019-08-01     A       719\n",
      "1 2019-08-02     A       619\n",
      "2 2019-08-03     A       507\n",
      "3 2019-08-04     A       717\n",
      "4 2019-08-05     A       756\n"
     ]
    }
   ],
   "source": [
    "#pd.to_datetime(orders['date'])\n",
    "#pd.to_datetime(visitors['date'])\n",
    "\n",
    "orders['date'] = orders['date'].map(lambda x: dt.datetime.strptime(x, '%Y-%m-%d'))\n",
    "visitors['date'] = visitors['date'].map(lambda x: dt.datetime.strptime(x, '%Y-%m-%d'))\n",
    "\n",
    "#код ревьюера\n",
    "#orders['date'] = orders['date'].map(lambda x: dt.datetime.strptime(x, '%Y-%m-%d'))\n",
    "#visitors['date'] = visitors['date'].map(lambda x: dt.datetime.strptime(x, '%Y-%m-%d'))\n",
    "orders.info()\n",
    "visitors.info()\n",
    "\n",
    "print(orders.head(), visitors.head())"
   ]
  },
  {
   "cell_type": "code",
   "execution_count": 13,
   "metadata": {},
   "outputs": [
    {
     "name": "stdout",
     "output_type": "stream",
     "text": [
      "Значения в group таблицы orders: ['A' 'B']\n",
      "Количество в group таблицы orders: 2\n",
      "Значения в group таблицы visitors: ['A' 'B']\n",
      "Количество в group таблицы visitors: 2\n"
     ]
    }
   ],
   "source": [
    "print('Значения в group таблицы orders:', orders['group'].sort_values().unique())\n",
    "print('Количество в group таблицы orders:', len(orders['group'].unique()))\n",
    "\n",
    "print('Значения в group таблицы visitors:', visitors['group'].sort_values().unique())\n",
    "print('Количество в group таблицы visitors:', len(visitors['group'].unique()))"
   ]
  },
  {
   "cell_type": "code",
   "execution_count": 14,
   "metadata": {},
   "outputs": [
    {
     "name": "stdout",
     "output_type": "stream",
     "text": [
      "Дата старта теста: 2019-08-01 00:00:00\n",
      "Дата окончания теста: 2019-08-31 00:00:00\n",
      "Дата старта теста: 2019-08-01 00:00:00\n",
      "Дата окончания теста: 2019-08-31 00:00:00\n"
     ]
    }
   ],
   "source": [
    "print('Дата старта теста:', orders['date'].min())\n",
    "print('Дата окончания теста:', orders['date'].max())\n",
    "\n",
    "print('Дата старта теста:', visitors['date'].min())\n",
    "print('Дата окончания теста:', visitors['date'].max())"
   ]
  },
  {
   "cell_type": "markdown",
   "metadata": {},
   "source": [
    "<b>Выводы:</b> <br>\n",
    "с 1 по 31 августа 2019 проводился А/В тест в 2 группах: А и В.\n",
    "</div> "
   ]
  },
  {
   "cell_type": "markdown",
   "metadata": {},
   "source": [
    "### Стабильность кумулятивных метрик"
   ]
  },
  {
   "cell_type": "code",
   "execution_count": 15,
   "metadata": {},
   "outputs": [
    {
     "data": {
      "image/png": "[encoded data removed]",
      "text/plain": [
       "<Figure size 432x288 with 1 Axes>"
      ]
     },
     "metadata": {
      "needs_background": "light"
     },
     "output_type": "display_data"
    }
   ],
   "source": [
    "# построим график кумулятивной выручки по группам\n",
    "\n",
    "datesGroups = orders[['date', 'group']].drop_duplicates()\n",
    "\n",
    "ordersAggregated = datesGroups.apply(\n",
    "    lambda x: orders[\n",
    "        np.logical_and(\n",
    "            orders['date'] <= x['date'], orders['group'] == x['group']\n",
    "        )\n",
    "    ].agg(\n",
    "        {\n",
    "            'date': 'max',\n",
    "            'group': 'max',\n",
    "            'transactionId': 'nunique',\n",
    "            'visitorId': 'nunique',\n",
    "            'revenue': 'sum',\n",
    "        }\n",
    "    ),\n",
    "    axis=1,\n",
    ").sort_values(by=['date', 'group'])\n",
    "\n",
    "visitorsAggregated = datesGroups.apply(\n",
    "    lambda x: visitors[\n",
    "        np.logical_and(\n",
    "            visitors['date'] <= x['date'], visitors['group'] == x['group']\n",
    "        )\n",
    "    ].agg({'date': 'max', 'group': 'max', 'visitors': 'sum'}),\n",
    "    axis=1,\n",
    ").sort_values(by=['date', 'group'])\n",
    "\n",
    "cumulativeData = ordersAggregated.merge(\n",
    "    visitorsAggregated, left_on=['date', 'group'], right_on=['date', 'group']\n",
    ")\n",
    "cumulativeData.columns = [\n",
    "    'date',\n",
    "    'group',\n",
    "    'orders',\n",
    "    'buyers',\n",
    "    'revenue',\n",
    "    'visitors',\n",
    "]\n",
    "\n",
    "cumulativeRevenueA = cumulativeData[cumulativeData['group']=='A'][['date','revenue', 'orders']]\n",
    "\n",
    "cumulativeRevenueB = cumulativeData[cumulativeData['group']=='B'][['date','revenue', 'orders']]\n",
    "\n",
    "plt.plot(cumulativeRevenueA['date'], cumulativeRevenueA['revenue'], label='A')\n",
    "\n",
    "plt.plot(cumulativeRevenueB['date'], cumulativeRevenueB['revenue'], label='B')\n",
    "\n",
    "plt.title('График кумулятивной выручки по группам')\n",
    "plt.xlabel('Дата')\n",
    "plt.ylabel('Сумма выручки')\n",
    "plt.xticks(rotation = 45)\n",
    "plt.legend()\n",
    "plt.show()"
   ]
  },
  {
   "cell_type": "code",
   "execution_count": 16,
   "metadata": {},
   "outputs": [
    {
     "name": "stdout",
     "output_type": "stream",
     "text": [
      "Дата старта теста: 2019-08-01 00:00:00\n",
      "Дата окончания теста: 2019-08-31 00:00:00\n",
      "Дата старта теста для группы А: 2019-08-01 00:00:00\n",
      "Дата окончания теста для группы А: 2019-08-31 00:00:00\n",
      "Дата старта теста для группы B: 2019-08-01 00:00:00\n",
      "Дата окончания теста для группы B: 2019-08-31 00:00:00\n"
     ]
    }
   ],
   "source": [
    "print('Дата старта теста:', orders['date'].min())\n",
    "print('Дата окончания теста:', orders['date'].max())\n",
    "print('Дата старта теста для группы А:', cumulativeRevenueA['date'].min())\n",
    "print('Дата окончания теста для группы А:', cumulativeRevenueA['date'].max())\n",
    "print('Дата старта теста для группы B:', cumulativeRevenueB['date'].min())\n",
    "print('Дата окончания теста для группы B:', cumulativeRevenueB['date'].max())\n"
   ]
  },
  {
   "cell_type": "markdown",
   "metadata": {},
   "source": [
    "**Выводы:** даты старта и завершения теста совпадают. <br>\n",
    "\n",
    "</div> "
   ]
  },
  {
   "cell_type": "markdown",
   "metadata": {},
   "source": [
    "**Выводы**<br>\n",
    "<br>\n",
    "По графикам кумулятивной выручки групп А и В видно, что в начале эксперимента они двигались практически вместе с очень небольшей разницей. Но в середине эксперимента график кумулятивной выручки группы B произвел резкий скачок и дальше продолжил движение по возрастающей примерно с тем же темпом, что и график кумулятивной выручки группы А. Можно предположить, что в середине эксперимента произошел какой-то особо крупный заказ или одновременно пришло очень много покупателей, что можно считать выбросом."
   ]
  },
  {
   "cell_type": "code",
   "execution_count": 17,
   "metadata": {},
   "outputs": [
    {
     "data": {
      "image/png": "[encoded data removed]",
      "text/plain": [
       "<Figure size 432x288 with 1 Axes>"
      ]
     },
     "metadata": {
      "needs_background": "light"
     },
     "output_type": "display_data"
    }
   ],
   "source": [
    "## построим график кумулятивного среднего чека по группам\n",
    "plt.plot(cumulativeRevenueA['date'], cumulativeRevenueA['revenue']/cumulativeRevenueA['orders'], label = 'A')\n",
    "\n",
    "plt.plot(cumulativeRevenueB['date'], cumulativeRevenueB['revenue']/cumulativeRevenueB['orders'], label = 'B')\n",
    "\n",
    "plt.title('График кумулятивного среднего чека по группам')\n",
    "plt.xlabel('Дата')\n",
    "plt.ylabel('Размер среднего чека')\n",
    "plt.xticks(rotation = 45)\n",
    "plt.legend()\n",
    "plt.show()"
   ]
  },
  {
   "cell_type": "markdown",
   "metadata": {},
   "source": [
    "**Выводы**<br>\n",
    "<br>\n",
    "По графику кумулятивного среднего чека можно сделать следующие выводы:\n",
    "- в начале эксперимента группа А показывала более высокий средний чек\n",
    "- затем произошло 2 скачка в среднем чеке группы B и на это фоне еще и провал в группе А\n",
    "- далее был скачок в группе А и затем размер среднего чека этой группы выровнялся\n",
    "- в группе В после середины эксперимента был аномально высокий средний чек, далее кумулятивный средний чек снижается. Не похоже, что он зафиксировался\n",
    "\n",
    "**Итог:** было несколько аномально крупных заказов, эти выбросы могут повлиять на корректность эксперимента"
   ]
  },
  {
   "cell_type": "code",
   "execution_count": 18,
   "metadata": {},
   "outputs": [
    {
     "data": {
      "image/png": "[encoded data removed]",
      "text/plain": [
       "<Figure size 432x288 with 1 Axes>"
      ]
     },
     "metadata": {
      "needs_background": "light"
     },
     "output_type": "display_data"
    }
   ],
   "source": [
    "#построим график относительного изменения кумулятивного среднего чека группы B к группе A.\n",
    "\n",
    "mergedCumulativeRevenue = cumulativeRevenueA.merge(cumulativeRevenueB, left_on = 'date', right_on = 'date', how = 'left', suffixes=['A','B'])\n",
    "plt.plot(mergedCumulativeRevenue['date'], (mergedCumulativeRevenue['revenueB']/mergedCumulativeRevenue['ordersB'])/(mergedCumulativeRevenue['revenueA']/mergedCumulativeRevenue['ordersA'])-1)\n",
    "plt.axhline(y=0, color = 'black', linestyle = '--')\n",
    "\n",
    "plt.title('График относительного изменения кумулятивного среднего чека группы В к группе А')\n",
    "plt.xlabel('Дата')\n",
    "plt.ylabel('Относительное изменение, %')\n",
    "plt.xticks(rotation = 45)\n",
    "plt.show()"
   ]
  },
  {
   "cell_type": "markdown",
   "metadata": {},
   "source": [
    "**Выводы**<br>\n",
    "<br>\n",
    "Результаты теста резко менялись несколько раз менялись в определенные даты. Видимо, именно в эти даты были совершены аномальные заказы."
   ]
  },
  {
   "cell_type": "code",
   "execution_count": 19,
   "metadata": {},
   "outputs": [
    {
     "data": {
      "image/png": "[encoded data removed]",
      "text/plain": [
       "<Figure size 432x288 with 1 Axes>"
      ]
     },
     "metadata": {
      "needs_background": "light"
     },
     "output_type": "display_data"
    }
   ],
   "source": [
    "# построим график кумулятивной конверсии по группам. \n",
    "\n",
    "cumulativeData['conversion'] = cumulativeData['orders'] / cumulativeData['visitors']\n",
    " \n",
    "cumulativeDataA = cumulativeData[cumulativeData['group'] == 'A']\n",
    "cumulativeDataB = cumulativeData[cumulativeData['group'] == 'B']\n",
    "\n",
    "plt.plot(cumulativeDataA['date'], cumulativeDataA['conversion'], label ='A')\n",
    "plt.plot(cumulativeDataB['date'], cumulativeDataB['conversion'], label ='B')\n",
    "\n",
    "plt.title('График кумулятивной конверсии по группам')\n",
    "plt.xlabel('Дата')\n",
    "plt.ylabel('Конверсия, %')\n",
    "plt.xticks(rotation = 45)\n",
    "plt.legend()\n",
    "\n",
    "plt.ylim (0, 0.05)\n",
    "plt.show()"
   ]
  },
  {
   "cell_type": "markdown",
   "metadata": {},
   "source": [
    "**Выводы**<br>\n",
    "<br>\n",
    "В начале эксперимента кумулятивная конверсия у группы А и В менялась, и у группы А было ее значение более высоким. Затем показатели конверсии установилась на определенном уровне и кумулятивная конверсия группы В стала выше."
   ]
  },
  {
   "cell_type": "code",
   "execution_count": 36,
   "metadata": {},
   "outputs": [
    {
     "data": {
      "image/png": "[encoded data removed]",
      "text/plain": [
       "<Figure size 432x288 with 1 Axes>"
      ]
     },
     "metadata": {
      "needs_background": "light"
     },
     "output_type": "display_data"
    }
   ],
   "source": [
    "# построим график относительного изменения кумулятивной конверсии группы B к группе A\n",
    "cumulativeData['conversion'] = (\n",
    "    cumulativeData['orders'] / cumulativeData['visitors']\n",
    ")\n",
    "\n",
    "cumulativeDataA = cumulativeData[cumulativeData['group'] == 'A']\n",
    "cumulativeDataB = cumulativeData[cumulativeData['group'] == 'B']\n",
    "\n",
    "mergedCumulativeConversions = cumulativeDataA[['date', 'conversion']].merge(cumulativeDataB[['date', 'conversion']], left_on = 'date', right_on = 'date', how = 'left', suffixes = ['A','B'])\n",
    "\n",
    "plt.plot(mergedCumulativeConversions['date'], mergedCumulativeConversions['conversionB']/mergedCumulativeConversions['conversionA']-1)\n",
    "\n",
    "plt.title('График относительного изменения кумулятивной конверсии группы В к группе А')\n",
    "plt.xlabel('Дата')\n",
    "plt.ylabel('Относительное изменение, %')\n",
    "plt.xticks(rotation = 45)\n",
    "plt.axhline(y=0,color='black',linestyle='--')\n",
    "plt.axhline(y=0.1,color='grey',linestyle='--')\n",
    "plt.show()"
   ]
  },
  {
   "cell_type": "markdown",
   "metadata": {},
   "source": [
    "**Выводы**<br>\n",
    "<br>\n",
    "Спустя короткое время после старта теста кумулятивная конверсия группы В становилась все больше, пока не зафикисировалась на отметке около 10% выше относительно группы А."
   ]
  },
  {
   "cell_type": "markdown",
   "metadata": {},
   "source": [
    "### Анализ выбросов и всплесков"
   ]
  },
  {
   "cell_type": "code",
   "execution_count": 21,
   "metadata": {},
   "outputs": [
    {
     "name": "stdout",
     "output_type": "stream",
     "text": [
      "       visitorId  orders\n",
      "1023  4256040402      11\n",
      "591   2458001652      11\n",
      "569   2378935119       9\n",
      "487   2038680547       8\n",
      "44     199603092       5\n",
      "744   3062433592       5\n",
      "55     237748145       5\n",
      "917   3803269165       5\n",
      "299   1230306981       5\n",
      "897   3717692402       5\n"
     ]
    },
    {
     "data": {
      "image/png": "[encoded data removed]",
      "text/plain": [
       "<Figure size 432x288 with 1 Axes>"
      ]
     },
     "metadata": {
      "needs_background": "light"
     },
     "output_type": "display_data"
    }
   ],
   "source": [
    "# построим точечный график количества заказов по пользователям\n",
    "ordersByUsers = (\n",
    "    orders.groupby('visitorId', as_index=False)\n",
    "    .agg({'transactionId':'nunique'})\n",
    "    .sort_values(by='transactionId', ascending=False)\n",
    ")\n",
    "ordersByUsers.columns = ['visitorId', 'orders']\n",
    "\n",
    "print(ordersByUsers.sort_values(by='orders', ascending=False).head(10))\n",
    "\n",
    "x_values = pd.Series(range(0,len(ordersByUsers)))\n",
    "plt.scatter(x_values, ordersByUsers['orders'])\n",
    "plt.title('Точечный график количества заказов по пользователям')\n",
    "plt.xlabel('Количество пользователей')\n",
    "plt.ylabel('Количество заказов')\n",
    "\n",
    "# серия из чисел от 0 до количества наблюдений в ordersByUsers\n",
    "x_values = pd.Series(range(0, len(ordersByUsers)))"
   ]
  },
  {
   "cell_type": "markdown",
   "metadata": {},
   "source": [
    "**Выводы**<br>\n",
    "<br>\n",
    "Исходя из точечного графика можно сделать вывод, что большинство пользователей сделало 1 заказ. Есть заказы до 5 штук, но их число очень небольшое. Больше 8 - это отдельные аномальные заказы."
   ]
  },
  {
   "cell_type": "code",
   "execution_count": 22,
   "metadata": {},
   "outputs": [
    {
     "name": "stdout",
     "output_type": "stream",
     "text": [
      "[2. 4.]\n"
     ]
    }
   ],
   "source": [
    "# посчитаем 95-й и 99-й перцентили количества заказов на пользователя, выберем границу для определения аномальных пользователей.\n",
    "print(np.percentile(ordersByUsers['orders'], [95, 99]))"
   ]
  },
  {
   "cell_type": "markdown",
   "metadata": {},
   "source": [
    "**Выводы**<br>\n",
    "<br>\n",
    "Граница для определения нормального заказа пользователя - 4 штуки."
   ]
  },
  {
   "cell_type": "code",
   "execution_count": 23,
   "metadata": {},
   "outputs": [
    {
     "name": "stdout",
     "output_type": "stream",
     "text": [
      "      transactionId   visitorId       date  revenue group\n",
      "425       590470918  1920142716 2019-08-19  1294500     B\n",
      "1196     3936777065  2108080724 2019-08-15   202740     B\n",
      "858       192721366  1316129916 2019-08-27    93940     A\n",
      "1136      666610489  1307669133 2019-08-13    92550     A\n",
      "744      3668308183   888512513 2019-08-27    86620     B\n",
      "682      1216533772  4266935830 2019-08-29    78990     B\n",
      "662      1811671147  4266935830 2019-08-29    78990     A\n",
      "743      3603576309  4133034833 2019-08-09    67990     A\n",
      "1103     1348774318  1164614297 2019-08-12    66350     A\n",
      "1099      316924019   148427295 2019-08-12    65710     A\n"
     ]
    },
    {
     "data": {
      "image/png": "[encoded data removed]",
      "text/plain": [
       "<Figure size 432x288 with 1 Axes>"
      ]
     },
     "metadata": {
      "needs_background": "light"
     },
     "output_type": "display_data"
    }
   ],
   "source": [
    "# построим точечный график стоимостей заказов\n",
    "print(orders.sort_values(by='revenue', ascending=False).head(10))\n",
    "x_values = pd.Series(range(0, len(orders['revenue'])))\n",
    "plt.scatter(x_values, orders['revenue'])\n",
    "plt.title('Точечный график стоимостей заказов')\n",
    "plt.xlabel('Количество пользователей')\n",
    "plt.ylabel('Стоимость заказов')\n",
    "plt.show()"
   ]
  },
  {
   "cell_type": "code",
   "execution_count": 24,
   "metadata": {},
   "outputs": [
    {
     "data": {
      "image/png": "[encoded data removed]",
      "text/plain": [
       "<Figure size 432x288 with 1 Axes>"
      ]
     },
     "metadata": {
      "needs_background": "light"
     },
     "output_type": "display_data"
    }
   ],
   "source": [
    "x_values = pd.Series(range(0, len(orders['revenue'])))\n",
    "plt.scatter(x_values, orders['revenue'])\n",
    "plt.title('Точечный график стоимостей заказов')\n",
    "plt.xlabel('Количество пользователей')\n",
    "plt.ylabel('Стоимость заказов')\n",
    "plt.ylim(0,100000)\n",
    "plt.show()"
   ]
  },
  {
   "cell_type": "markdown",
   "metadata": {},
   "source": [
    "**Выводы**<br>\n",
    "<br>\n",
    "Большая часть заказов не превышает 100000. Есть 2 аномальных выброса, один из которых - выручка более 1.2 млн."
   ]
  },
  {
   "cell_type": "code",
   "execution_count": 25,
   "metadata": {
    "scrolled": true
   },
   "outputs": [
    {
     "name": "stdout",
     "output_type": "stream",
     "text": [
      "[28000.  58233.2]\n"
     ]
    }
   ],
   "source": [
    "print(np.percentile(orders['revenue'], [95,99]))"
   ]
  },
  {
   "cell_type": "markdown",
   "metadata": {},
   "source": [
    "**Выводы**<br>\n",
    "<br>\n",
    "Граница для нормального заказа составляет 58233 руб."
   ]
  },
  {
   "cell_type": "markdown",
   "metadata": {},
   "source": [
    "### Анализ A/B-теста"
   ]
  },
  {
   "cell_type": "markdown",
   "metadata": {},
   "source": [
    "<div class=\"alert alert-block alert-info\">\n",
    "<b>Проверим гипотезы:<br><b>\n",
    "1) что нет статистически значимых отличий между конверсиями пользователей группы А и группы В по сырым данным,<br>\n",
    "2) что нет статистически значимых отличий между средним чеком пользователей группы А и группы В по сырым данным.<br>\n",
    "</div>"
   ]
  },
  {
   "cell_type": "markdown",
   "metadata": {},
   "source": [
    "Посчитаем статистическую значимость различий в конверсии между группами по «сырым» данным."
   ]
  },
  {
   "cell_type": "code",
   "execution_count": 26,
   "metadata": {},
   "outputs": [
    {
     "data": {
      "text/html": [
       "<div>\n",
       "<style scoped>\n",
       "    .dataframe tbody tr th:only-of-type {\n",
       "        vertical-align: middle;\n",
       "    }\n",
       "\n",
       "    .dataframe tbody tr th {\n",
       "        vertical-align: top;\n",
       "    }\n",
       "\n",
       "    .dataframe thead th {\n",
       "        text-align: right;\n",
       "    }\n",
       "</style>\n",
       "<table border=\"1\" class=\"dataframe\">\n",
       "  <thead>\n",
       "    <tr style=\"text-align: right;\">\n",
       "      <th></th>\n",
       "      <th>date</th>\n",
       "      <th>ordersPerDateA</th>\n",
       "      <th>revenuePerDateA</th>\n",
       "      <th>ordersPerDateB</th>\n",
       "      <th>revenuePerDateB</th>\n",
       "      <th>ordersCummulativeA</th>\n",
       "      <th>revenueCummulativeA</th>\n",
       "      <th>ordersCummulativeB</th>\n",
       "      <th>revenueCummulativeB</th>\n",
       "      <th>visitorsPerDateA</th>\n",
       "      <th>visitorsPerDateB</th>\n",
       "      <th>visitorsCummulativeA</th>\n",
       "      <th>visitorsCummulativeB</th>\n",
       "    </tr>\n",
       "  </thead>\n",
       "  <tbody>\n",
       "    <tr>\n",
       "      <th>0</th>\n",
       "      <td>2019-08-01</td>\n",
       "      <td>24</td>\n",
       "      <td>148579</td>\n",
       "      <td>21</td>\n",
       "      <td>101217</td>\n",
       "      <td>24</td>\n",
       "      <td>148579</td>\n",
       "      <td>21</td>\n",
       "      <td>101217</td>\n",
       "      <td>719</td>\n",
       "      <td>713</td>\n",
       "      <td>719</td>\n",
       "      <td>713</td>\n",
       "    </tr>\n",
       "    <tr>\n",
       "      <th>1</th>\n",
       "      <td>2019-08-02</td>\n",
       "      <td>20</td>\n",
       "      <td>93822</td>\n",
       "      <td>24</td>\n",
       "      <td>165531</td>\n",
       "      <td>44</td>\n",
       "      <td>242401</td>\n",
       "      <td>45</td>\n",
       "      <td>266748</td>\n",
       "      <td>619</td>\n",
       "      <td>581</td>\n",
       "      <td>1338</td>\n",
       "      <td>1294</td>\n",
       "    </tr>\n",
       "    <tr>\n",
       "      <th>2</th>\n",
       "      <td>2019-08-03</td>\n",
       "      <td>24</td>\n",
       "      <td>112473</td>\n",
       "      <td>16</td>\n",
       "      <td>114248</td>\n",
       "      <td>68</td>\n",
       "      <td>354874</td>\n",
       "      <td>61</td>\n",
       "      <td>380996</td>\n",
       "      <td>507</td>\n",
       "      <td>509</td>\n",
       "      <td>1845</td>\n",
       "      <td>1803</td>\n",
       "    </tr>\n",
       "    <tr>\n",
       "      <th>3</th>\n",
       "      <td>2019-08-04</td>\n",
       "      <td>16</td>\n",
       "      <td>70825</td>\n",
       "      <td>17</td>\n",
       "      <td>108571</td>\n",
       "      <td>84</td>\n",
       "      <td>425699</td>\n",
       "      <td>78</td>\n",
       "      <td>489567</td>\n",
       "      <td>717</td>\n",
       "      <td>770</td>\n",
       "      <td>2562</td>\n",
       "      <td>2573</td>\n",
       "    </tr>\n",
       "    <tr>\n",
       "      <th>4</th>\n",
       "      <td>2019-08-05</td>\n",
       "      <td>25</td>\n",
       "      <td>124218</td>\n",
       "      <td>23</td>\n",
       "      <td>92428</td>\n",
       "      <td>109</td>\n",
       "      <td>549917</td>\n",
       "      <td>101</td>\n",
       "      <td>581995</td>\n",
       "      <td>756</td>\n",
       "      <td>707</td>\n",
       "      <td>3318</td>\n",
       "      <td>3280</td>\n",
       "    </tr>\n",
       "  </tbody>\n",
       "</table>\n",
       "</div>"
      ],
      "text/plain": [
       "        date  ordersPerDateA  revenuePerDateA  ordersPerDateB  \\\n",
       "0 2019-08-01              24           148579              21   \n",
       "1 2019-08-02              20            93822              24   \n",
       "2 2019-08-03              24           112473              16   \n",
       "3 2019-08-04              16            70825              17   \n",
       "4 2019-08-05              25           124218              23   \n",
       "\n",
       "   revenuePerDateB  ordersCummulativeA  revenueCummulativeA  \\\n",
       "0           101217                  24               148579   \n",
       "1           165531                  44               242401   \n",
       "2           114248                  68               354874   \n",
       "3           108571                  84               425699   \n",
       "4            92428                 109               549917   \n",
       "\n",
       "   ordersCummulativeB  revenueCummulativeB  visitorsPerDateA  \\\n",
       "0                  21               101217               719   \n",
       "1                  45               266748               619   \n",
       "2                  61               380996               507   \n",
       "3                  78               489567               717   \n",
       "4                 101               581995               756   \n",
       "\n",
       "   visitorsPerDateB  visitorsCummulativeA  visitorsCummulativeB  \n",
       "0               713                   719                   713  \n",
       "1               581                  1338                  1294  \n",
       "2               509                  1845                  1803  \n",
       "3               770                  2562                  2573  \n",
       "4               707                  3318                  3280  "
      ]
     },
     "metadata": {},
     "output_type": "display_data"
    }
   ],
   "source": [
    "# изучим таблицу с исходными данными\n",
    "visitorsADaily = visitors[visitors['group'] == 'A'][['date', 'visitors']]\n",
    "visitorsADaily.columns = ['date', 'visitorsPerDateA']\n",
    "\n",
    "visitorsACummulative = visitorsADaily.apply(\n",
    "    lambda x: visitorsADaily[visitorsADaily['date'] <= x['date']].agg(\n",
    "        {'date': 'max', 'visitorsPerDateA': 'sum'}\n",
    "    ),\n",
    "    axis=1,\n",
    ")\n",
    "visitorsACummulative.columns = ['date', 'visitorsCummulativeA']\n",
    "\n",
    "visitorsBDaily = visitors[visitors['group'] == 'B'][['date', 'visitors']]\n",
    "visitorsBDaily.columns = ['date', 'visitorsPerDateB']\n",
    "\n",
    "visitorsBCummulative = visitorsBDaily.apply(\n",
    "    lambda x: visitorsBDaily[visitorsBDaily['date'] <= x['date']].agg(\n",
    "        {'date': 'max', 'visitorsPerDateB': 'sum'}\n",
    "    ),\n",
    "    axis=1,\n",
    ")\n",
    "visitorsBCummulative.columns = ['date', 'visitorsCummulativeB']\n",
    "\n",
    "ordersADaily = (\n",
    "    orders[orders['group'] == 'A'][['date', 'transactionId', 'visitorId', 'revenue']]\n",
    "    .groupby('date', as_index=False)\n",
    "    .agg({'transactionId': pd.Series.nunique, 'revenue': 'sum'})\n",
    ")\n",
    "ordersADaily.columns = ['date', 'ordersPerDateA', 'revenuePerDateA']\n",
    "\n",
    "ordersACummulative = ordersADaily.apply(\n",
    "    lambda x: ordersADaily[ordersADaily['date'] <= x['date']].agg(\n",
    "        {'date': 'max', 'ordersPerDateA': 'sum', 'revenuePerDateA': 'sum'}\n",
    "    ),\n",
    "    axis=1,\n",
    ").sort_values(by=['date'])\n",
    "ordersACummulative.columns = [\n",
    "    'date',\n",
    "    'ordersCummulativeA',\n",
    "    'revenueCummulativeA',\n",
    "]\n",
    "\n",
    "ordersBDaily = (\n",
    "    orders[orders['group'] == 'B'][['date', 'transactionId', 'visitorId', 'revenue']]\n",
    "    .groupby('date', as_index=False)\n",
    "    .agg({'transactionId': pd.Series.nunique, 'revenue': 'sum'})\n",
    ")\n",
    "ordersBDaily.columns = ['date', 'ordersPerDateB', 'revenuePerDateB']\n",
    "\n",
    "ordersBCummulative = ordersBDaily.apply(\n",
    "    lambda x: ordersBDaily[ordersBDaily['date'] <= x['date']].agg(\n",
    "        {'date': 'max', 'ordersPerDateB': 'sum', 'revenuePerDateB': 'sum'}\n",
    "    ),\n",
    "    axis=1,\n",
    ").sort_values(by=['date'])\n",
    "ordersBCummulative.columns = [\n",
    "    'date',\n",
    "    'ordersCummulativeB',\n",
    "    'revenueCummulativeB',\n",
    "]\n",
    "\n",
    "data = (\n",
    "    ordersADaily.merge(\n",
    "        ordersBDaily, left_on='date', right_on='date', how='left'\n",
    "    )\n",
    "    .merge(ordersACummulative, left_on='date', right_on='date', how='left')\n",
    "    .merge(ordersBCummulative, left_on='date', right_on='date', how='left')\n",
    "    .merge(visitorsADaily, left_on='date', right_on='date', how='left')\n",
    "    .merge(visitorsBDaily, left_on='date', right_on='date', how='left')\n",
    "    .merge(visitorsACummulative, left_on='date', right_on='date', how='left')\n",
    "    .merge(visitorsBCummulative, left_on='date', right_on='date', how='left')\n",
    ")\n",
    "\n",
    "display(data.head(5))"
   ]
  },
  {
   "cell_type": "code",
   "execution_count": 27,
   "metadata": {},
   "outputs": [],
   "source": [
    "# в переменных ordersByUsersA и ordersByUsersB для пользователей, которые заказывали хотя бы 1 раз, \n",
    "# укажем число совершённых заказов\n",
    "\n",
    "ordersByUsersA = (\n",
    "    orders[orders['group'] == 'A']\n",
    "    .groupby('visitorId', as_index=False)\n",
    "    .agg({'transactionId': pd.Series.nunique})\n",
    ")\n",
    "ordersByUsersA.columns = ['userId', 'orders']\n",
    "\n",
    "ordersByUsersB = (\n",
    "    orders[orders['group'] == 'B']\n",
    "    .groupby('visitorId', as_index=False)\n",
    "    .agg({'transactionId': pd.Series.nunique})\n",
    ")\n",
    "ordersByUsersB.columns = ['userId', 'orders']"
   ]
  },
  {
   "cell_type": "code",
   "execution_count": 28,
   "metadata": {},
   "outputs": [],
   "source": [
    "#объявим переменные sampleA и sampleB, в которых пользователям из разных групп будет соответствовать количество заказов\n",
    "\n",
    "sampleA = pd.concat([ordersByUsersA['orders'],pd.Series(0, index=np.arange(data['visitorsPerDateA'].sum() - len(ordersByUsersA['orders'])), name='orders')],axis=0)\n",
    "\n",
    "sampleB = pd.concat([ordersByUsersB['orders'],pd.Series(0, index=np.arange(data['visitorsPerDateB'].sum() - len(ordersByUsersB['orders'])), name='orders')],axis=0) "
   ]
  },
  {
   "cell_type": "code",
   "execution_count": 29,
   "metadata": {},
   "outputs": [
    {
     "name": "stdout",
     "output_type": "stream",
     "text": [
      "0.01679\n",
      "0.138\n"
     ]
    }
   ],
   "source": [
    "#Посчитаем статистическую значимость различия конверсии по результатам двух недель теста посредством теста Манна-Уитни.\n",
    "#Выведем p-value для сравнения конверсии между группами с округлением до 5 знаков после запятой.\n",
    "#Вычислим относительное различие в конверсии между группами с округлением до 3 знаков после запятой.\n",
    "\n",
    "print(\"{0:.5f}\".format(stats.mannwhitneyu(sampleA, sampleB)[1]))\n",
    "print(\"{0:.3f}\".format(sampleB.mean() / sampleA.mean() - 1))"
   ]
  },
  {
   "cell_type": "markdown",
   "metadata": {},
   "source": [
    "p-value значительно меньше, чем 0.05%, поэтому нулевую гипотезу, что две выборки равны, отвергаем. Анализ сырых данных показывает, что есть статистически значимые отличия между двумя группами.<br>\n",
    "При этом относительный прирост конверсии группы В относительно конверсии группы А равен 14%."
   ]
  },
  {
   "cell_type": "code",
   "execution_count": 30,
   "metadata": {},
   "outputs": [
    {
     "name": "stdout",
     "output_type": "stream",
     "text": [
      "0.72929\n",
      "0.259\n"
     ]
    }
   ],
   "source": [
    "print('{0:.5f}'.format(stats.mannwhitneyu(orders[orders['group']=='A']['revenue'], orders[orders['group']=='B']['revenue'])[1]))\n",
    "print('{0:.3f}'.format(orders[orders['group']=='B']['revenue'].mean()/orders[orders['group']=='A']['revenue'].mean()-1)) "
   ]
  },
  {
   "cell_type": "markdown",
   "metadata": {},
   "source": [
    "Интересно, что p-value значительно больше, чем 0.05%, поэтому нулевую гипотезу, что две выборки равны по среднему чеку принимаем. Т.е. анализ сырых данных показывает, что есть статистически значимые отличия между двумя группами отсутствует.<br>\n",
    "При этом относительное различие между чеками двух групп состаляет 25%, что видится значимой величиной."
   ]
  },
  {
   "cell_type": "markdown",
   "metadata": {},
   "source": [
    "<div class=\"alert alert-block alert-info\">\n",
    "<b>Проверим гипотезы:<br><b>\n",
    "1) что нет статистически значимых отличий между конверсиями пользователей группы А и группы В по очищенным данным,<br>\n",
    "2) что нет статистически значимых отличий между средним чеком пользователей группы А и группы В по очищенным данным.<br>\n",
    "</div>"
   ]
  },
  {
   "cell_type": "markdown",
   "metadata": {},
   "source": [
    "Посчитаем статистическую значимость различий в конверсии между группами по очищенным от выбросов данным."
   ]
  },
  {
   "cell_type": "markdown",
   "metadata": {},
   "source": [
    "Найденные 95-й и 99-й перцентили средних чеков равны 28 000 и 58 233 руб. А 95-й и 99-й перцентили количества заказов на одного пользователя равны 2 и 4 заказа на пользователя.\n",
    "Примем за аномальных пользователей тех, кто совершил от 2 заказов или совершил заказ дороже 30 000 рублей. Так мы уберём 5% пользователей с наибольшим числом заказов и от 1 до 5% пользователей с дорогими заказами."
   ]
  },
  {
   "cell_type": "code",
   "execution_count": 31,
   "metadata": {},
   "outputs": [
    {
     "name": "stdout",
     "output_type": "stream",
     "text": [
      "1099    148427295\n",
      "18      199603092\n",
      "928     204675465\n",
      "23      237748145\n",
      "37      249864742\n",
      "dtype: int64\n",
      "74\n"
     ]
    }
   ],
   "source": [
    "revenue_max=np.percentile(orders['revenue'], [95, 99])[0]\n",
    "orders_max=np.percentile(ordersByUsers['orders'], [95, 99])[0]\n",
    "\n",
    "usersWithManyOrders = pd.concat(\n",
    "    [\n",
    "        ordersByUsersA[ordersByUsersA['orders'] > orders_max]['userId'],\n",
    "        ordersByUsersB[ordersByUsersB['orders'] > orders_max]['userId'],\n",
    "    ],\n",
    "    axis=0,\n",
    ")\n",
    "\n",
    "usersWithExpensiveOrders = orders[orders['revenue'] > revenue_max]['visitorId']\n",
    "abnormalUsers = (\n",
    "    pd.concat([usersWithManyOrders, usersWithExpensiveOrders], axis=0)\n",
    "    .drop_duplicates()\n",
    "    .sort_values()\n",
    ")\n",
    "print(abnormalUsers.head(5))\n",
    "print(abnormalUsers.shape[0]) "
   ]
  },
  {
   "cell_type": "markdown",
   "metadata": {},
   "source": [
    "Получается всего 68 аномальных пользователей."
   ]
  },
  {
   "cell_type": "markdown",
   "metadata": {},
   "source": [
    "Проверим, как их действия повлияли на результаты теста. Посчитаем статистическую значимость различий в конверсии между группами теста по очищенным данным."
   ]
  },
  {
   "cell_type": "code",
   "execution_count": 32,
   "metadata": {},
   "outputs": [],
   "source": [
    "sampleAFiltered = pd.concat(\n",
    "    [\n",
    "        ordersByUsersA[\n",
    "            np.logical_not(ordersByUsersA['userId'].isin(abnormalUsers))\n",
    "        ]['orders'],\n",
    "        pd.Series(\n",
    "            0,\n",
    "            index=np.arange(\n",
    "                data['visitorsPerDateA'].sum() - len(ordersByUsersA['orders'])\n",
    "            ),\n",
    "            name='orders',\n",
    "        ),\n",
    "    ],\n",
    "    axis=0,\n",
    ")\n",
    "\n",
    "sampleBFiltered = pd.concat(\n",
    "    [\n",
    "        ordersByUsersB[\n",
    "            np.logical_not(ordersByUsersB['userId'].isin(abnormalUsers))\n",
    "        ]['orders'],\n",
    "        pd.Series(\n",
    "            0,\n",
    "            index=np.arange(\n",
    "                data['visitorsPerDateB'].sum() - len(ordersByUsersB['orders'])\n",
    "            ),\n",
    "            name='orders',\n",
    "        ),\n",
    "    ],\n",
    "    axis=0,\n",
    ")"
   ]
  },
  {
   "cell_type": "code",
   "execution_count": 33,
   "metadata": {},
   "outputs": [
    {
     "name": "stdout",
     "output_type": "stream",
     "text": [
      "0.01304\n",
      "0.173\n"
     ]
    }
   ],
   "source": [
    "#применим статистический критерий Манна-Уитни к полученным выборкам\n",
    "print('{0:.5f}'.format(stats.mannwhitneyu(sampleAFiltered, sampleBFiltered)[1]))\n",
    "print('{0:.3f}'.format(sampleBFiltered.mean()/sampleAFiltered.mean()-1)) "
   ]
  },
  {
   "cell_type": "markdown",
   "metadata": {},
   "source": [
    "Результаты по неочищенным данным были 0.01679, 0.138. Таким образом, существенных изменений после очищения выборок не произошло. Есть статическая значимость в конверсии пользователей в двух группах."
   ]
  },
  {
   "cell_type": "code",
   "execution_count": 34,
   "metadata": {},
   "outputs": [
    {
     "name": "stdout",
     "output_type": "stream",
     "text": [
      "0.738\n",
      "-0.020\n"
     ]
    }
   ],
   "source": [
    "print(\n",
    "    '{0:.3f}'.format(\n",
    "        stats.mannwhitneyu(\n",
    "            orders[\n",
    "                np.logical_and(\n",
    "                    orders['group'] == 'A',\n",
    "                    np.logical_not(orders['visitorId'].isin(abnormalUsers)),\n",
    "                )\n",
    "            ]['revenue'],\n",
    "            orders[\n",
    "                np.logical_and(\n",
    "                    orders['group'] == 'B',\n",
    "                    np.logical_not(orders['visitorId'].isin(abnormalUsers)),\n",
    "                )\n",
    "            ]['revenue'],\n",
    "        )[1]\n",
    "    )\n",
    ")\n",
    "\n",
    "print(\n",
    "    \"{0:.3f}\".format(\n",
    "        orders[\n",
    "            np.logical_and(\n",
    "                orders['group'] == 'B',\n",
    "                np.logical_not(orders['visitorId'].isin(abnormalUsers)),\n",
    "            )\n",
    "        ]['revenue'].mean()\n",
    "        / orders[\n",
    "            np.logical_and(\n",
    "                orders['group'] == 'A',\n",
    "                np.logical_not(orders['visitorId'].isin(abnormalUsers)),\n",
    "            )\n",
    "        ]['revenue'].mean()\n",
    "        - 1\n",
    "    )\n",
    ")"
   ]
  },
  {
   "cell_type": "markdown",
   "metadata": {},
   "source": [
    "Результаты по средним чекам по неочищенным данным были 0.72929, 0.259. Таким образом, после очищения выборок все также нет статистически значимых отличия между средними чеками двух групп. Разница между сегментами уменьшилась с 25% до 2%. Т.е. предыдущий разброс был за счет аномалий."
   ]
  },
  {
   "cell_type": "markdown",
   "metadata": {},
   "source": [
    "## Выводы"
   ]
  },
  {
   "cell_type": "markdown",
   "metadata": {},
   "source": [
    "По результатам проведенного иследования выяснили, что:<br>\n",
    "1) нет статистически значимого различия по конверсии между группами ни по «сырым», ни по данным после фильтрации аномалий;<br>\n",
    "2) есть статистически значимое различие по среднему чеку между группами и по «сырым», и по данным после фильтрации аномалий;<br>\n",
    "3) График различия конверсии между группами сообщает, что результаты группы B улучшаются на протяжении эксперимента и сейчас почти на 10% лучше, чем в начале;<br>\n",
    "4) График различия среднего чека говорит о том, что средний чек каждой группы очень существенно менялся на протяжении теста, что подтверждается анализом очищенных данных.<br>\n",
    "\n",
    "Исходя из обнаруженных фактов, тест можно остановить и **признать его успешным**. При имеющихся данных **сегмент B лучше сегмента A по конверсии пользователей**."
   ]
  }
 ],
 "metadata": {
  "ExecuteTimeLog": [
   {
    "duration": 1554,
    "start_time": "2022-05-23T18:28:49.055Z"
   },
   {
    "duration": 35,
    "start_time": "2022-05-23T18:29:02.581Z"
   },
   {
    "duration": 30,
    "start_time": "2022-05-23T18:30:12.173Z"
   },
   {
    "duration": 2,
    "start_time": "2022-05-23T18:31:33.910Z"
   },
   {
    "duration": 265,
    "start_time": "2022-05-23T18:33:15.321Z"
   },
   {
    "duration": 34,
    "start_time": "2022-05-23T18:34:34.928Z"
   },
   {
    "duration": 12,
    "start_time": "2022-05-23T18:34:38.926Z"
   },
   {
    "duration": 10,
    "start_time": "2022-05-23T18:35:30.049Z"
   },
   {
    "duration": 10,
    "start_time": "2022-05-23T18:38:51.494Z"
   },
   {
    "duration": 10,
    "start_time": "2022-05-23T18:39:17.386Z"
   },
   {
    "duration": 79,
    "start_time": "2022-05-23T18:49:04.137Z"
   },
   {
    "duration": 60,
    "start_time": "2022-05-23T18:49:42.515Z"
   },
   {
    "duration": 107,
    "start_time": "2022-05-23T18:49:59.047Z"
   },
   {
    "duration": 3,
    "start_time": "2022-05-23T18:51:09.170Z"
   },
   {
    "duration": 264,
    "start_time": "2022-05-23T18:54:06.523Z"
   },
   {
    "duration": 13,
    "start_time": "2022-05-23T18:54:40.471Z"
   },
   {
    "duration": 112,
    "start_time": "2022-05-23T18:54:44.211Z"
   },
   {
    "duration": 168,
    "start_time": "2022-05-23T18:55:48.357Z"
   },
   {
    "duration": 122,
    "start_time": "2022-05-23T18:56:26.799Z"
   },
   {
    "duration": 10,
    "start_time": "2022-05-23T18:56:48.462Z"
   },
   {
    "duration": 83,
    "start_time": "2022-05-23T18:58:10.429Z"
   },
   {
    "duration": 1017,
    "start_time": "2022-05-23T19:01:52.891Z"
   },
   {
    "duration": 3,
    "start_time": "2022-05-23T19:08:07.475Z"
   },
   {
    "duration": 269,
    "start_time": "2022-05-23T19:09:10.965Z"
   },
   {
    "duration": 374,
    "start_time": "2022-05-23T19:18:54.510Z"
   },
   {
    "duration": 75,
    "start_time": "2022-05-23T19:20:20.991Z"
   },
   {
    "duration": 267,
    "start_time": "2022-05-23T19:21:53.471Z"
   },
   {
    "duration": 308,
    "start_time": "2022-05-23T19:23:43.893Z"
   },
   {
    "duration": 292,
    "start_time": "2022-05-23T19:24:01.612Z"
   },
   {
    "duration": 329,
    "start_time": "2022-05-23T19:24:43.471Z"
   },
   {
    "duration": 273,
    "start_time": "2022-05-23T19:24:55.417Z"
   },
   {
    "duration": 273,
    "start_time": "2022-05-23T19:27:55.161Z"
   },
   {
    "duration": 423,
    "start_time": "2022-05-23T19:32:12.508Z"
   },
   {
    "duration": 510,
    "start_time": "2022-05-23T19:32:37.170Z"
   },
   {
    "duration": 2,
    "start_time": "2022-05-23T19:40:54.372Z"
   },
   {
    "duration": 13,
    "start_time": "2022-05-23T19:42:18.304Z"
   },
   {
    "duration": 12,
    "start_time": "2022-05-23T19:43:02.126Z"
   },
   {
    "duration": 23,
    "start_time": "2022-05-23T19:43:50.403Z"
   },
   {
    "duration": 9,
    "start_time": "2022-05-23T19:44:13.126Z"
   },
   {
    "duration": 110,
    "start_time": "2022-05-23T19:45:26.023Z"
   },
   {
    "duration": 140,
    "start_time": "2022-05-23T19:46:13.029Z"
   },
   {
    "duration": 4,
    "start_time": "2022-05-23T19:49:41.983Z"
   },
   {
    "duration": 119,
    "start_time": "2022-05-23T19:52:01.689Z"
   },
   {
    "duration": 126,
    "start_time": "2022-05-23T19:52:34.970Z"
   },
   {
    "duration": 33,
    "start_time": "2022-05-23T19:53:57.760Z"
   },
   {
    "duration": 4,
    "start_time": "2022-05-23T19:54:49.687Z"
   },
   {
    "duration": 26,
    "start_time": "2022-05-23T19:55:29.861Z"
   },
   {
    "duration": 4,
    "start_time": "2022-05-23T19:55:51.780Z"
   },
   {
    "duration": 3,
    "start_time": "2022-05-24T17:12:23.884Z"
   },
   {
    "duration": 58,
    "start_time": "2022-05-24T17:13:02.279Z"
   },
   {
    "duration": 1405,
    "start_time": "2022-05-24T17:13:10.612Z"
   },
   {
    "duration": 81,
    "start_time": "2022-05-24T17:13:12.020Z"
   },
   {
    "duration": 12,
    "start_time": "2022-05-24T17:13:12.103Z"
   },
   {
    "duration": 4,
    "start_time": "2022-05-24T17:13:12.118Z"
   },
   {
    "duration": 1,
    "start_time": "2022-05-24T17:13:12.123Z"
   },
   {
    "duration": 0,
    "start_time": "2022-05-24T17:13:12.125Z"
   },
   {
    "duration": 0,
    "start_time": "2022-05-24T17:13:12.126Z"
   },
   {
    "duration": 0,
    "start_time": "2022-05-24T17:13:12.127Z"
   },
   {
    "duration": 0,
    "start_time": "2022-05-24T17:13:12.129Z"
   },
   {
    "duration": 0,
    "start_time": "2022-05-24T17:13:12.130Z"
   },
   {
    "duration": 0,
    "start_time": "2022-05-24T17:13:12.131Z"
   },
   {
    "duration": 0,
    "start_time": "2022-05-24T17:13:12.132Z"
   },
   {
    "duration": 0,
    "start_time": "2022-05-24T17:13:12.133Z"
   },
   {
    "duration": 0,
    "start_time": "2022-05-24T17:13:12.134Z"
   },
   {
    "duration": 0,
    "start_time": "2022-05-24T17:13:12.135Z"
   },
   {
    "duration": 0,
    "start_time": "2022-05-24T17:13:12.136Z"
   },
   {
    "duration": 0,
    "start_time": "2022-05-24T17:13:12.137Z"
   },
   {
    "duration": 117,
    "start_time": "2022-05-24T17:14:39.950Z"
   },
   {
    "duration": 15,
    "start_time": "2022-05-24T17:15:03.683Z"
   },
   {
    "duration": 62,
    "start_time": "2022-05-24T17:15:03.700Z"
   },
   {
    "duration": 0,
    "start_time": "2022-05-24T17:15:03.764Z"
   },
   {
    "duration": 0,
    "start_time": "2022-05-24T17:15:03.765Z"
   },
   {
    "duration": 0,
    "start_time": "2022-05-24T17:15:03.767Z"
   },
   {
    "duration": 0,
    "start_time": "2022-05-24T17:15:03.768Z"
   },
   {
    "duration": 0,
    "start_time": "2022-05-24T17:15:03.769Z"
   },
   {
    "duration": 0,
    "start_time": "2022-05-24T17:15:03.771Z"
   },
   {
    "duration": 0,
    "start_time": "2022-05-24T17:15:03.772Z"
   },
   {
    "duration": 0,
    "start_time": "2022-05-24T17:15:03.773Z"
   },
   {
    "duration": 0,
    "start_time": "2022-05-24T17:15:03.775Z"
   },
   {
    "duration": 0,
    "start_time": "2022-05-24T17:15:03.776Z"
   },
   {
    "duration": 0,
    "start_time": "2022-05-24T17:15:03.777Z"
   },
   {
    "duration": 9,
    "start_time": "2022-05-24T17:15:15.382Z"
   },
   {
    "duration": 171,
    "start_time": "2022-05-24T17:15:27.983Z"
   },
   {
    "duration": 824,
    "start_time": "2022-05-24T17:15:34.520Z"
   },
   {
    "duration": 281,
    "start_time": "2022-05-24T17:15:38.560Z"
   },
   {
    "duration": 395,
    "start_time": "2022-05-24T17:15:41.716Z"
   },
   {
    "duration": 283,
    "start_time": "2022-05-24T17:15:42.113Z"
   },
   {
    "duration": 357,
    "start_time": "2022-05-24T17:15:42.397Z"
   },
   {
    "duration": 135,
    "start_time": "2022-05-24T17:15:42.764Z"
   },
   {
    "duration": 4,
    "start_time": "2022-05-24T17:15:42.901Z"
   },
   {
    "duration": 172,
    "start_time": "2022-05-24T17:15:42.906Z"
   },
   {
    "duration": 12,
    "start_time": "2022-05-24T17:15:43.080Z"
   },
   {
    "duration": 24,
    "start_time": "2022-05-24T17:15:43.094Z"
   },
   {
    "duration": 3,
    "start_time": "2022-05-24T17:16:04.332Z"
   },
   {
    "duration": 113,
    "start_time": "2022-05-24T17:20:45.917Z"
   },
   {
    "duration": 112,
    "start_time": "2022-05-24T17:21:40.328Z"
   },
   {
    "duration": 182,
    "start_time": "2022-05-24T17:22:27.927Z"
   },
   {
    "duration": 226,
    "start_time": "2022-05-24T17:22:44.990Z"
   },
   {
    "duration": 216,
    "start_time": "2022-05-24T17:22:54.129Z"
   },
   {
    "duration": 25,
    "start_time": "2022-05-24T17:26:17.452Z"
   },
   {
    "duration": 132,
    "start_time": "2022-05-24T17:27:02.217Z"
   },
   {
    "duration": 175,
    "start_time": "2022-05-24T17:27:06.331Z"
   },
   {
    "duration": 12,
    "start_time": "2022-05-24T17:29:47.484Z"
   },
   {
    "duration": 18,
    "start_time": "2022-05-24T17:30:50.352Z"
   },
   {
    "duration": 4,
    "start_time": "2022-05-24T17:31:16.498Z"
   },
   {
    "duration": 27,
    "start_time": "2022-05-24T17:31:30.399Z"
   },
   {
    "duration": 26,
    "start_time": "2022-05-24T17:33:05.629Z"
   },
   {
    "duration": 34,
    "start_time": "2022-05-24T17:34:33.844Z"
   },
   {
    "duration": 15,
    "start_time": "2022-05-24T17:38:21.176Z"
   },
   {
    "duration": 13,
    "start_time": "2022-05-24T17:39:06.388Z"
   },
   {
    "duration": 459,
    "start_time": "2022-05-24T17:56:44.492Z"
   },
   {
    "duration": 650,
    "start_time": "2022-05-24T18:00:30.958Z"
   },
   {
    "duration": 800,
    "start_time": "2022-05-24T18:01:08.508Z"
   },
   {
    "duration": 601,
    "start_time": "2022-05-24T18:01:48.340Z"
   },
   {
    "duration": 8,
    "start_time": "2022-05-24T18:02:11.134Z"
   },
   {
    "duration": 11,
    "start_time": "2022-05-24T18:02:34.803Z"
   },
   {
    "duration": 8,
    "start_time": "2022-05-24T18:04:08.647Z"
   },
   {
    "duration": 45,
    "start_time": "2022-05-24T18:04:53.084Z"
   },
   {
    "duration": 651,
    "start_time": "2022-05-24T18:06:39.035Z"
   },
   {
    "duration": 22,
    "start_time": "2022-05-24T18:07:26.180Z"
   },
   {
    "duration": 3,
    "start_time": "2022-05-24T18:15:49.627Z"
   },
   {
    "duration": 405,
    "start_time": "2022-05-24T18:18:03.398Z"
   },
   {
    "duration": 1313,
    "start_time": "2022-05-24T18:26:45.534Z"
   },
   {
    "duration": 84,
    "start_time": "2022-05-24T18:26:46.849Z"
   },
   {
    "duration": 10,
    "start_time": "2022-05-24T18:26:46.935Z"
   },
   {
    "duration": 24,
    "start_time": "2022-05-24T18:26:46.948Z"
   },
   {
    "duration": 180,
    "start_time": "2022-05-24T18:26:46.973Z"
   },
   {
    "duration": 765,
    "start_time": "2022-05-24T18:26:47.155Z"
   },
   {
    "duration": 291,
    "start_time": "2022-05-24T18:26:47.921Z"
   },
   {
    "duration": 393,
    "start_time": "2022-05-24T18:26:48.213Z"
   },
   {
    "duration": 319,
    "start_time": "2022-05-24T18:26:48.608Z"
   },
   {
    "duration": 428,
    "start_time": "2022-05-24T18:26:48.930Z"
   },
   {
    "duration": 186,
    "start_time": "2022-05-24T18:26:49.360Z"
   },
   {
    "duration": 5,
    "start_time": "2022-05-24T18:26:49.549Z"
   },
   {
    "duration": 163,
    "start_time": "2022-05-24T18:26:49.558Z"
   },
   {
    "duration": 5,
    "start_time": "2022-05-24T18:26:49.722Z"
   },
   {
    "duration": 14,
    "start_time": "2022-05-24T18:26:49.729Z"
   },
   {
    "duration": 208,
    "start_time": "2022-05-24T18:26:49.763Z"
   },
   {
    "duration": 0,
    "start_time": "2022-05-24T18:26:49.973Z"
   },
   {
    "duration": 0,
    "start_time": "2022-05-24T18:26:49.974Z"
   },
   {
    "duration": 0,
    "start_time": "2022-05-24T18:26:49.975Z"
   },
   {
    "duration": 0,
    "start_time": "2022-05-24T18:26:49.976Z"
   },
   {
    "duration": 0,
    "start_time": "2022-05-24T18:26:49.977Z"
   },
   {
    "duration": 0,
    "start_time": "2022-05-24T18:26:49.978Z"
   },
   {
    "duration": 0,
    "start_time": "2022-05-24T18:26:49.979Z"
   },
   {
    "duration": 0,
    "start_time": "2022-05-24T18:26:49.980Z"
   },
   {
    "duration": 215,
    "start_time": "2022-05-24T18:29:02.217Z"
   },
   {
    "duration": 163,
    "start_time": "2022-05-24T18:29:07.019Z"
   },
   {
    "duration": 1118,
    "start_time": "2022-05-25T11:02:19.962Z"
   },
   {
    "duration": 38,
    "start_time": "2022-05-25T11:02:21.082Z"
   },
   {
    "duration": 13,
    "start_time": "2022-05-25T11:02:21.125Z"
   },
   {
    "duration": 10,
    "start_time": "2022-05-25T11:02:21.140Z"
   },
   {
    "duration": 69,
    "start_time": "2022-05-25T11:02:21.151Z"
   },
   {
    "duration": 610,
    "start_time": "2022-05-25T11:02:21.222Z"
   },
   {
    "duration": 272,
    "start_time": "2022-05-25T11:02:21.834Z"
   },
   {
    "duration": 377,
    "start_time": "2022-05-25T11:02:22.108Z"
   },
   {
    "duration": 273,
    "start_time": "2022-05-25T11:02:22.487Z"
   },
   {
    "duration": 356,
    "start_time": "2022-05-25T11:02:22.762Z"
   },
   {
    "duration": 121,
    "start_time": "2022-05-25T11:02:23.120Z"
   },
   {
    "duration": 4,
    "start_time": "2022-05-25T11:02:23.243Z"
   },
   {
    "duration": 163,
    "start_time": "2022-05-25T11:02:23.249Z"
   },
   {
    "duration": 5,
    "start_time": "2022-05-25T11:02:23.414Z"
   },
   {
    "duration": 17,
    "start_time": "2022-05-25T11:02:23.425Z"
   },
   {
    "duration": 221,
    "start_time": "2022-05-25T11:02:23.444Z"
   },
   {
    "duration": 137,
    "start_time": "2022-05-25T11:02:23.667Z"
   },
   {
    "duration": 6,
    "start_time": "2022-05-25T11:02:23.806Z"
   },
   {
    "duration": 30,
    "start_time": "2022-05-25T11:02:23.826Z"
   },
   {
    "duration": 10,
    "start_time": "2022-05-25T11:02:23.857Z"
   },
   {
    "duration": 67,
    "start_time": "2022-05-25T11:02:23.868Z"
   },
   {
    "duration": 21,
    "start_time": "2022-05-25T11:02:23.937Z"
   },
   {
    "duration": 73,
    "start_time": "2022-05-25T11:02:23.960Z"
   },
   {
    "duration": 13,
    "start_time": "2022-05-25T11:02:24.035Z"
   },
   {
    "duration": 54,
    "start_time": "2022-05-28T12:51:38.004Z"
   },
   {
    "duration": 6,
    "start_time": "2022-05-28T12:51:43.768Z"
   },
   {
    "duration": 1331,
    "start_time": "2022-05-28T12:51:46.578Z"
   },
   {
    "duration": 72,
    "start_time": "2022-05-28T12:51:48.810Z"
   },
   {
    "duration": 13,
    "start_time": "2022-05-28T12:51:51.856Z"
   },
   {
    "duration": 28,
    "start_time": "2022-05-28T12:52:03.785Z"
   },
   {
    "duration": 11,
    "start_time": "2022-05-28T12:52:08.122Z"
   },
   {
    "duration": 10,
    "start_time": "2022-05-28T12:52:51.428Z"
   },
   {
    "duration": 299,
    "start_time": "2022-05-28T12:54:06.997Z"
   },
   {
    "duration": 220,
    "start_time": "2022-05-28T12:54:10.290Z"
   },
   {
    "duration": 4,
    "start_time": "2022-05-28T12:54:52.196Z"
   },
   {
    "duration": 62,
    "start_time": "2022-05-28T12:57:56.434Z"
   },
   {
    "duration": 132,
    "start_time": "2022-05-28T12:58:02.171Z"
   },
   {
    "duration": 25,
    "start_time": "2022-05-28T12:58:08.392Z"
   },
   {
    "duration": 24,
    "start_time": "2022-05-28T12:59:39.967Z"
   },
   {
    "duration": 41,
    "start_time": "2022-05-28T13:00:12.019Z"
   },
   {
    "duration": 15,
    "start_time": "2022-05-28T13:03:09.090Z"
   },
   {
    "duration": 121,
    "start_time": "2022-05-28T13:03:24.748Z"
   },
   {
    "duration": 150,
    "start_time": "2022-05-28T13:06:19.191Z"
   },
   {
    "duration": 19,
    "start_time": "2022-05-28T13:06:28.305Z"
   },
   {
    "duration": 23,
    "start_time": "2022-05-28T13:06:59.995Z"
   },
   {
    "duration": 23,
    "start_time": "2022-05-28T13:07:37.173Z"
   },
   {
    "duration": 51,
    "start_time": "2022-05-28T13:08:50.677Z"
   },
   {
    "duration": 5,
    "start_time": "2022-05-28T13:11:19.201Z"
   },
   {
    "duration": 8,
    "start_time": "2022-05-28T13:11:45.006Z"
   },
   {
    "duration": 9,
    "start_time": "2022-05-28T13:12:19.418Z"
   },
   {
    "duration": 10,
    "start_time": "2022-05-28T13:13:06.870Z"
   },
   {
    "duration": 9,
    "start_time": "2022-05-28T13:13:33.502Z"
   },
   {
    "duration": 4,
    "start_time": "2022-05-28T13:13:45.740Z"
   },
   {
    "duration": 7,
    "start_time": "2022-05-28T13:14:01.867Z"
   },
   {
    "duration": 142,
    "start_time": "2022-05-28T13:15:01.951Z"
   },
   {
    "duration": 790,
    "start_time": "2022-05-28T13:27:29.829Z"
   },
   {
    "duration": 458,
    "start_time": "2022-05-28T13:28:18.224Z"
   },
   {
    "duration": 422,
    "start_time": "2022-05-28T13:28:25.446Z"
   },
   {
    "duration": 414,
    "start_time": "2022-05-28T13:28:34.655Z"
   },
   {
    "duration": 454,
    "start_time": "2022-05-28T13:28:42.835Z"
   },
   {
    "duration": 443,
    "start_time": "2022-05-28T13:29:12.486Z"
   },
   {
    "duration": 435,
    "start_time": "2022-05-28T13:29:43.480Z"
   },
   {
    "duration": 456,
    "start_time": "2022-05-28T13:31:20.299Z"
   },
   {
    "duration": 453,
    "start_time": "2022-05-28T13:31:30.248Z"
   },
   {
    "duration": 551,
    "start_time": "2022-05-28T13:33:20.993Z"
   },
   {
    "duration": 457,
    "start_time": "2022-05-28T13:33:28.046Z"
   },
   {
    "duration": 459,
    "start_time": "2022-05-28T13:33:44.523Z"
   },
   {
    "duration": 487,
    "start_time": "2022-05-28T13:33:49.436Z"
   },
   {
    "duration": 460,
    "start_time": "2022-05-28T13:34:22.421Z"
   },
   {
    "duration": 464,
    "start_time": "2022-05-28T13:34:29.388Z"
   },
   {
    "duration": 452,
    "start_time": "2022-05-28T13:34:38.603Z"
   },
   {
    "duration": 293,
    "start_time": "2022-05-28T13:35:26.845Z"
   },
   {
    "duration": 435,
    "start_time": "2022-05-28T13:35:58.208Z"
   },
   {
    "duration": 485,
    "start_time": "2022-05-28T13:36:05.159Z"
   },
   {
    "duration": 52,
    "start_time": "2022-05-28T13:37:00.009Z"
   },
   {
    "duration": 435,
    "start_time": "2022-05-28T13:37:03.761Z"
   },
   {
    "duration": 455,
    "start_time": "2022-05-28T13:37:08.044Z"
   },
   {
    "duration": 444,
    "start_time": "2022-05-28T13:37:23.837Z"
   },
   {
    "duration": 467,
    "start_time": "2022-05-28T13:38:29.647Z"
   },
   {
    "duration": 546,
    "start_time": "2022-05-28T13:40:27.701Z"
   },
   {
    "duration": 486,
    "start_time": "2022-05-28T13:40:55.105Z"
   },
   {
    "duration": 189,
    "start_time": "2022-05-28T13:42:02.055Z"
   },
   {
    "duration": 391,
    "start_time": "2022-05-28T13:43:09.814Z"
   },
   {
    "duration": 188,
    "start_time": "2022-05-28T13:43:44.621Z"
   },
   {
    "duration": 295,
    "start_time": "2022-05-28T13:44:32.075Z"
   },
   {
    "duration": 140,
    "start_time": "2022-05-28T13:45:32.279Z"
   },
   {
    "duration": 190,
    "start_time": "2022-05-28T13:46:36.749Z"
   },
   {
    "duration": 39,
    "start_time": "2022-05-28T13:47:50.729Z"
   },
   {
    "duration": 46,
    "start_time": "2022-05-28T13:49:10.392Z"
   },
   {
    "duration": 3,
    "start_time": "2022-05-28T13:49:26.213Z"
   },
   {
    "duration": 9,
    "start_time": "2022-05-28T13:52:31.808Z"
   },
   {
    "duration": 7,
    "start_time": "2022-05-28T13:52:39.699Z"
   },
   {
    "duration": 33,
    "start_time": "2022-05-28T13:53:04.893Z"
   },
   {
    "duration": 150,
    "start_time": "2022-05-28T13:54:00.792Z"
   },
   {
    "duration": 194,
    "start_time": "2022-05-28T13:55:46.953Z"
   },
   {
    "duration": 158,
    "start_time": "2022-05-28T13:55:54.853Z"
   },
   {
    "duration": 157,
    "start_time": "2022-05-28T13:56:02.780Z"
   },
   {
    "duration": 160,
    "start_time": "2022-05-28T13:56:07.968Z"
   },
   {
    "duration": 150,
    "start_time": "2022-05-28T13:56:32.799Z"
   },
   {
    "duration": 159,
    "start_time": "2022-05-28T13:56:51.269Z"
   },
   {
    "duration": 183,
    "start_time": "2022-05-28T13:57:23.838Z"
   },
   {
    "duration": 25,
    "start_time": "2022-05-28T13:58:14.224Z"
   },
   {
    "duration": 290,
    "start_time": "2022-05-28T13:58:30.383Z"
   },
   {
    "duration": 162,
    "start_time": "2022-05-28T13:58:37.178Z"
   },
   {
    "duration": 164,
    "start_time": "2022-05-28T13:58:42.744Z"
   },
   {
    "duration": 158,
    "start_time": "2022-05-28T13:58:53.205Z"
   },
   {
    "duration": 147,
    "start_time": "2022-05-28T13:59:00.451Z"
   },
   {
    "duration": 157,
    "start_time": "2022-05-28T13:59:09.121Z"
   },
   {
    "duration": 155,
    "start_time": "2022-05-28T13:59:18.300Z"
   },
   {
    "duration": 33,
    "start_time": "2022-05-28T14:02:15.501Z"
   },
   {
    "duration": 36,
    "start_time": "2022-05-28T14:12:24.683Z"
   },
   {
    "duration": 13,
    "start_time": "2022-05-28T14:13:14.861Z"
   },
   {
    "duration": 1171,
    "start_time": "2022-05-28T14:13:29.421Z"
   },
   {
    "duration": 33,
    "start_time": "2022-05-28T14:13:30.594Z"
   },
   {
    "duration": 12,
    "start_time": "2022-05-28T14:13:30.628Z"
   },
   {
    "duration": 27,
    "start_time": "2022-05-28T14:13:30.642Z"
   },
   {
    "duration": 179,
    "start_time": "2022-05-28T14:13:30.670Z"
   },
   {
    "duration": 55,
    "start_time": "2022-05-28T14:13:30.850Z"
   },
   {
    "duration": 89,
    "start_time": "2022-05-28T14:13:30.906Z"
   },
   {
    "duration": 21,
    "start_time": "2022-05-28T14:13:30.997Z"
   },
   {
    "duration": 26,
    "start_time": "2022-05-28T14:13:31.020Z"
   },
   {
    "duration": 24,
    "start_time": "2022-05-28T14:13:31.048Z"
   },
   {
    "duration": 524,
    "start_time": "2022-05-28T14:13:31.073Z"
   },
   {
    "duration": 8,
    "start_time": "2022-05-28T14:13:31.598Z"
   },
   {
    "duration": 326,
    "start_time": "2022-05-28T14:13:31.607Z"
   },
   {
    "duration": 395,
    "start_time": "2022-05-28T14:13:31.935Z"
   },
   {
    "duration": 281,
    "start_time": "2022-05-28T14:13:32.332Z"
   },
   {
    "duration": 381,
    "start_time": "2022-05-28T14:13:32.614Z"
   },
   {
    "duration": 151,
    "start_time": "2022-05-28T14:13:32.998Z"
   },
   {
    "duration": 5,
    "start_time": "2022-05-28T14:13:33.151Z"
   },
   {
    "duration": 163,
    "start_time": "2022-05-28T14:13:33.158Z"
   },
   {
    "duration": 147,
    "start_time": "2022-05-28T14:13:33.323Z"
   },
   {
    "duration": 4,
    "start_time": "2022-05-28T14:13:33.471Z"
   },
   {
    "duration": 212,
    "start_time": "2022-05-28T14:13:33.477Z"
   },
   {
    "duration": 143,
    "start_time": "2022-05-28T14:13:33.690Z"
   },
   {
    "duration": 9,
    "start_time": "2022-05-28T14:13:33.835Z"
   },
   {
    "duration": 37,
    "start_time": "2022-05-28T14:13:33.846Z"
   },
   {
    "duration": 11,
    "start_time": "2022-05-28T14:13:33.884Z"
   },
   {
    "duration": 12,
    "start_time": "2022-05-28T14:13:33.897Z"
   },
   {
    "duration": 30,
    "start_time": "2022-05-28T14:13:33.914Z"
   },
   {
    "duration": 26,
    "start_time": "2022-05-28T14:13:33.946Z"
   },
   {
    "duration": 13,
    "start_time": "2022-05-28T14:13:33.974Z"
   },
   {
    "duration": 10,
    "start_time": "2022-05-28T14:16:27.680Z"
   },
   {
    "duration": 37,
    "start_time": "2022-05-28T14:16:55.474Z"
   },
   {
    "duration": 1238,
    "start_time": "2022-05-28T18:03:00.368Z"
   },
   {
    "duration": 61,
    "start_time": "2022-05-28T18:03:01.609Z"
   },
   {
    "duration": 13,
    "start_time": "2022-05-28T18:03:01.672Z"
   },
   {
    "duration": 12,
    "start_time": "2022-05-28T18:03:01.687Z"
   },
   {
    "duration": 224,
    "start_time": "2022-05-28T18:03:01.701Z"
   },
   {
    "duration": 128,
    "start_time": "2022-05-28T18:03:01.928Z"
   },
   {
    "duration": 114,
    "start_time": "2022-05-28T18:03:02.058Z"
   },
   {
    "duration": 38,
    "start_time": "2022-05-28T18:03:02.175Z"
   },
   {
    "duration": 39,
    "start_time": "2022-05-28T18:03:02.214Z"
   },
   {
    "duration": 23,
    "start_time": "2022-05-28T18:03:02.256Z"
   },
   {
    "duration": 332,
    "start_time": "2022-05-28T18:03:02.281Z"
   },
   {
    "duration": 0,
    "start_time": "2022-05-28T18:03:02.615Z"
   },
   {
    "duration": 0,
    "start_time": "2022-05-28T18:03:02.620Z"
   },
   {
    "duration": 0,
    "start_time": "2022-05-28T18:03:02.622Z"
   },
   {
    "duration": 0,
    "start_time": "2022-05-28T18:03:02.623Z"
   },
   {
    "duration": 0,
    "start_time": "2022-05-28T18:03:02.625Z"
   },
   {
    "duration": 0,
    "start_time": "2022-05-28T18:03:02.626Z"
   },
   {
    "duration": 0,
    "start_time": "2022-05-28T18:03:02.628Z"
   },
   {
    "duration": 0,
    "start_time": "2022-05-28T18:03:02.629Z"
   },
   {
    "duration": 0,
    "start_time": "2022-05-28T18:03:02.630Z"
   },
   {
    "duration": 0,
    "start_time": "2022-05-28T18:03:02.631Z"
   },
   {
    "duration": 0,
    "start_time": "2022-05-28T18:03:02.654Z"
   },
   {
    "duration": 0,
    "start_time": "2022-05-28T18:03:02.655Z"
   },
   {
    "duration": 0,
    "start_time": "2022-05-28T18:03:02.656Z"
   },
   {
    "duration": 0,
    "start_time": "2022-05-28T18:03:02.658Z"
   },
   {
    "duration": 0,
    "start_time": "2022-05-28T18:03:02.660Z"
   },
   {
    "duration": 0,
    "start_time": "2022-05-28T18:03:02.661Z"
   },
   {
    "duration": 0,
    "start_time": "2022-05-28T18:03:02.662Z"
   },
   {
    "duration": 0,
    "start_time": "2022-05-28T18:03:02.663Z"
   },
   {
    "duration": 0,
    "start_time": "2022-05-28T18:03:02.664Z"
   },
   {
    "duration": 1275,
    "start_time": "2022-05-28T18:06:15.135Z"
   },
   {
    "duration": 35,
    "start_time": "2022-05-28T18:06:16.412Z"
   },
   {
    "duration": 17,
    "start_time": "2022-05-28T18:06:16.449Z"
   },
   {
    "duration": 17,
    "start_time": "2022-05-28T18:06:16.469Z"
   },
   {
    "duration": 193,
    "start_time": "2022-05-28T18:06:16.488Z"
   },
   {
    "duration": 56,
    "start_time": "2022-05-28T18:06:16.683Z"
   },
   {
    "duration": 115,
    "start_time": "2022-05-28T18:06:16.742Z"
   },
   {
    "duration": 34,
    "start_time": "2022-05-28T18:06:16.860Z"
   },
   {
    "duration": 7,
    "start_time": "2022-05-28T18:06:16.895Z"
   },
   {
    "duration": 10,
    "start_time": "2022-05-28T18:06:16.904Z"
   },
   {
    "duration": 676,
    "start_time": "2022-05-28T18:06:16.916Z"
   },
   {
    "duration": 6,
    "start_time": "2022-05-28T18:06:17.594Z"
   },
   {
    "duration": 238,
    "start_time": "2022-05-28T18:06:17.602Z"
   },
   {
    "duration": 360,
    "start_time": "2022-05-28T18:06:17.842Z"
   },
   {
    "duration": 222,
    "start_time": "2022-05-28T18:06:18.204Z"
   },
   {
    "duration": 358,
    "start_time": "2022-05-28T18:06:18.428Z"
   },
   {
    "duration": 149,
    "start_time": "2022-05-28T18:06:18.788Z"
   },
   {
    "duration": 17,
    "start_time": "2022-05-28T18:06:18.939Z"
   },
   {
    "duration": 171,
    "start_time": "2022-05-28T18:06:18.965Z"
   },
   {
    "duration": 180,
    "start_time": "2022-05-28T18:06:19.138Z"
   },
   {
    "duration": 4,
    "start_time": "2022-05-28T18:06:19.320Z"
   },
   {
    "duration": 258,
    "start_time": "2022-05-28T18:06:19.326Z"
   },
   {
    "duration": 146,
    "start_time": "2022-05-28T18:06:19.586Z"
   },
   {
    "duration": 6,
    "start_time": "2022-05-28T18:06:19.734Z"
   },
   {
    "duration": 45,
    "start_time": "2022-05-28T18:06:19.741Z"
   },
   {
    "duration": 15,
    "start_time": "2022-05-28T18:06:19.788Z"
   },
   {
    "duration": 11,
    "start_time": "2022-05-28T18:06:19.805Z"
   },
   {
    "duration": 36,
    "start_time": "2022-05-28T18:06:19.819Z"
   },
   {
    "duration": 33,
    "start_time": "2022-05-28T18:06:19.858Z"
   },
   {
    "duration": 15,
    "start_time": "2022-05-28T18:06:19.892Z"
   },
   {
    "duration": 44,
    "start_time": "2022-07-29T09:33:24.510Z"
   },
   {
    "duration": 1174,
    "start_time": "2022-07-29T09:33:31.918Z"
   },
   {
    "duration": 149,
    "start_time": "2022-07-29T09:33:49.609Z"
   },
   {
    "duration": 22,
    "start_time": "2022-07-29T09:33:52.902Z"
   },
   {
    "duration": 32,
    "start_time": "2022-07-29T09:33:58.922Z"
   },
   {
    "duration": 7,
    "start_time": "2022-07-29T09:34:19.242Z"
   },
   {
    "duration": 6,
    "start_time": "2022-07-29T09:34:20.912Z"
   }
  ],
  "kernelspec": {
   "display_name": "Python 3 (ipykernel)",
   "language": "python",
   "name": "python3"
  },
  "language_info": {
   "codemirror_mode": {
    "name": "ipython",
    "version": 3
   },
   "file_extension": ".py",
   "mimetype": "text/x-python",
   "name": "python",
   "nbconvert_exporter": "python",
   "pygments_lexer": "ipython3",
   "version": "3.9.7"
  },
  "toc": {
   "base_numbering": 1,
   "nav_menu": {},
   "number_sections": true,
   "sideBar": true,
   "skip_h1_title": true,
   "title_cell": "Table of Contents",
   "title_sidebar": "Contents",
   "toc_cell": false,
   "toc_position": {
    "height": "calc(100% - 180px)",
    "left": "10px",
    "top": "150px",
    "width": "165px"
   },
   "toc_section_display": true,
   "toc_window_display": true
  }
 },
 "nbformat": 4,
 "nbformat_minor": 2
}
